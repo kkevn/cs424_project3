{
 "cells": [
  {
   "cell_type": "code",
   "execution_count": 45,
   "metadata": {},
   "outputs": [],
   "source": [
    "#######################################\n",
    "# CS 424 - Project 3\n",
    "# Kevin Kowalski\n",
    "# Samuel Kajah\n",
    "# Vijay Vemu\n",
    "#######################################\n",
    "#\n",
    "# This file contains the code to clean\n",
    "# the original data set. It outputs\n",
    "# the necessary plots and updated data\n",
    "# set to be used by shiny.\n",
    "#\n",
    "# This file was used for testing and \n",
    "# plotting before using RStudio for a\n",
    "# dashboard.\n",
    "#\n",
    "#######################################"
   ]
  },
  {
   "cell_type": "code",
   "execution_count": 46,
   "metadata": {
    "scrolled": true
   },
   "outputs": [],
   "source": [
    "# import libraries\n",
    "library(comprehenr)\n",
    "library(dplyr)\n",
    "library(ggplot2)\n",
    "library(hashmap)\n",
    "library(lubridate)\n",
    "library(stringr)\n",
    "library(tidyverse)"
   ]
  },
  {
   "cell_type": "code",
   "execution_count": 47,
   "metadata": {},
   "outputs": [
    {
     "name": "stderr",
     "output_type": "stream",
     "text": [
      "Warning message in gzfile(file, \"rb\"):\n",
      "“cannot open compressed file 'combined_data.rds', probable reason 'No such file or directory'”\n"
     ]
    },
    {
     "ename": "ERROR",
     "evalue": "Error in gzfile(file, \"rb\"): cannot open the connection\n",
     "output_type": "error",
     "traceback": [
      "Error in gzfile(file, \"rb\"): cannot open the connection\nTraceback:\n",
      "1. readRDS(file = \"combined_data.rds\")",
      "2. gzfile(file, \"rb\")"
     ]
    }
   ],
   "source": [
    "# read in the combined RDS file\n",
    "data <- readRDS(file = \"combined_data.rds\")\n",
    "\n",
    "# LEAVE COMMENTED, UNLESS YOU NEED TO REMAKE FILE\n",
    "# keywords table only for movies found in combined data table\n",
    "#keywords_subset <- subset(df_keywords, movie %in% data$movie)\n",
    "#write.csv(keywords_subset, file = 'keywords_subset.csv')\n",
    "\n",
    "# read in the subsetted keywords CSV file\n",
    "keywords_subset = read.csv('keywords_subset.csv')"
   ]
  },
  {
   "cell_type": "code",
   "execution_count": null,
   "metadata": {},
   "outputs": [],
   "source": [
    "# output number of entries in data\n",
    "total_data <- count(data)\n",
    "print(paste0(\"---- data, n=\", total_data))\n",
    "unique_films <- length(unique(data$movie))\n",
    "print(paste0(\"---- unique movies, n=\", unique_films))"
   ]
  },
  {
   "cell_type": "code",
   "execution_count": null,
   "metadata": {},
   "outputs": [],
   "source": [
    "# get list of movies where none is duplicated (used for times where you only want to account for a movie once, such as runtime average)\n",
    "unique_movies <- subset(data, !duplicated(subset(data, select = movie)))"
   ]
  },
  {
   "cell_type": "code",
   "execution_count": null,
   "metadata": {},
   "outputs": [],
   "source": [
    "# preview the top 5 rows\n",
    "head(data, 5)\n",
    "\n",
    "# get a random sample of 5 rows\n",
    "sample_n(data, 5)"
   ]
  },
  {
   "cell_type": "code",
   "execution_count": null,
   "metadata": {},
   "outputs": [],
   "source": [
    "# get min and max years\n",
    "min_year_all <- min(data$year)\n",
    "max_year_all <- max(data$year)\n",
    "print(paste0(\"---- years range from: \", min_year_all, \"-\", max_year_all))"
   ]
  },
  {
   "cell_type": "code",
   "execution_count": null,
   "metadata": {},
   "outputs": [],
   "source": [
    "# get min and max decades\n",
    "min_decade_all <- floor(min(data$year) / 10) * 10\n",
    "max_decade_all <- floor(max(data$year) / 10) * 10\n",
    "print(paste0(\"---- decades range from: \", min_decade_all, \"-\", max_decade_all))"
   ]
  },
  {
   "cell_type": "code",
   "execution_count": null,
   "metadata": {},
   "outputs": [],
   "source": [
    "# get min and max runtimes\n",
    "min_runtime_all <- min(data$runtime)\n",
    "max_runtime_all <- max(data$runtime)\n",
    "print(paste0(\"---- runtimes range from: \", min_runtime_all, \"-\", max_runtime_all, \" minutes\"))"
   ]
  },
  {
   "cell_type": "code",
   "execution_count": null,
   "metadata": {},
   "outputs": [],
   "source": [
    "############## COUNT/DISTRIBUTION TABLES BELOW ##############"
   ]
  },
  {
   "cell_type": "code",
   "execution_count": null,
   "metadata": {},
   "outputs": [],
   "source": [
    "# function to get a count of movies from each year as a table (same as above)\n",
    "number_films_per_year = function(table) {\n",
    "    \n",
    "    # create empty dataframe of all years in range from calculated min to max\n",
    "    all_years <- data.frame(formatC(min_year_all:max_year_all, width = 2), 0)\n",
    "    names(all_years)[1] <- \"year\"\n",
    "    names(all_years)[2] <- \"count\"\n",
    "    all_years$year <- c(min_year_all:max_year_all)\n",
    "    \n",
    "    # make dataframe of available years and their frequency\n",
    "    by_year <- table %>% group_by(year) %>% summarize(count = n())\n",
    "    \n",
    "    # join the counts into the full range of years dataframe\n",
    "    by_year <- full_join(all_years, by_year, by = \"year\")\n",
    "    by_year[is.na(by_year)] <- 0\n",
    "    by_year$count.x <- NULL\n",
    "    names(by_year)[2] <- \"count\"\n",
    "    \n",
    "    # output info\n",
    "    total_films = as.numeric(sum(by_year$count))\n",
    "    print(paste0(\"---- total counted= \", total_films))\n",
    "    unique_years = as.numeric(count(by_year))\n",
    "    print(paste0(\"---- unique years= \", unique_years))\n",
    "    \n",
    "    # return the table of counts per year\n",
    "    by_year\n",
    "}\n",
    "\n",
    "# function to get a count of movies from each decade as a table\n",
    "number_films_per_decade = function(table) {\n",
    "    \n",
    "    # create empty dataframe of each decade in range from calculated min to max\n",
    "    all_decades <- data.frame(formatC(1:((max_decade_all - min_decade_all) / 10 + 1), width = 2), 0)\n",
    "    names(all_decades)[1] <- \"decade\"\n",
    "    names(all_decades)[2] <- \"count\"\n",
    "    all_decades$decade <- seq(from = min_decade_all, to = max_decade_all, by = 10)\n",
    "    \n",
    "    # INEFFICIENT NESTED LOOP, IDEALLY A GROUP_BY OR SOMETHING BETTER\n",
    "    # loop through each movie in given table\n",
    "    for (row in 1:as.numeric(count(table))) {\n",
    "        \n",
    "        # get the current movie's decade it belongs to\n",
    "        curr_decade = floor(table$year[row] / 10) * 10\n",
    "        \n",
    "        # loop through each decade\n",
    "        for (i in 1:as.numeric(count(all_decades))) {\n",
    "            \n",
    "            # increment the decade count for found decade\n",
    "            if (curr_decade == all_decades$decade[i]) {\n",
    "                all_decades$count[i] <- all_decades$count[i] + 1\n",
    "                break\n",
    "            }\n",
    "        }\n",
    "    }\n",
    "    \n",
    "    # output info\n",
    "    total_films = as.numeric(sum(all_decades$count))\n",
    "    print(paste0(\"---- total counted= \", total_films))\n",
    "    unique_decades = as.numeric(count(all_decades))\n",
    "    print(paste0(\"---- unique decades= \", unique_decades))\n",
    "    \n",
    "    # return the table of counts per decade\n",
    "    all_decades\n",
    "}\n",
    "\n",
    "# function to get a count of movies from each month as a table\n",
    "number_films_per_month = function(table) {\n",
    "    \n",
    "    # get a count of movies from each month\n",
    "    by_month <- table %>% group_by(month) %>% summarize(count = n())\n",
    "\n",
    "    # reorder months to be in order\n",
    "    by_month$month <- factor(by_month$month, levels = c(\"January\", \"February\", \"March\", \"April\", \"May\", \"June\", \"July\", \"August\", \"September\", \"October\", \"November\", \"December\"))\n",
    "    by_month <- by_month[order(by_month$month), ]\n",
    "\n",
    "    # output info\n",
    "    by_month\n",
    "    print(paste0(\"---- total counted= \", sum(by_month$count)))\n",
    "    unique_months = as.numeric(count(by_month))\n",
    "    print(paste0(\"---- unique months= \", unique_months))\n",
    "    \n",
    "    # return the table of counts per month\n",
    "    by_month\n",
    "}\n",
    "\n",
    "# function to get a distribution of runtimes as a table\n",
    "distribution_of_runtimes = function(table) {\n",
    "    \n",
    "    # create empty dataframe of all runtimes in range from min to max\n",
    "    all_runtimes <- data.frame(formatC(min_runtime_all:max_runtime_all, width = 2), 0)\n",
    "    names(all_runtimes)[1] <- \"runtime\"\n",
    "    names(all_runtimes)[2] <- \"count\"\n",
    "    all_runtimes$runtime <- c(min_runtime_all:max_runtime_all)\n",
    "\n",
    "    # make dataframe of available runtimes and their frequency\n",
    "    by_runtime <- table %>% group_by(runtime) %>% summarize(count = n())\n",
    "\n",
    "    # join the counts into the full range of years dataframe\n",
    "    by_runtime <- full_join(all_runtimes, by_runtime, by = \"runtime\")\n",
    "    by_runtime[is.na(by_runtime)] <- 0\n",
    "    by_runtime$count.x <- NULL\n",
    "    names(by_runtime)[2] <- \"count\"\n",
    "\n",
    "    # output info\n",
    "    head(by_runtime, 10)\n",
    "    print(paste0(\"---- total counted= \", sum(by_runtime$count)))\n",
    "    unique_runtimes = as.numeric(count(by_runtime))\n",
    "    print(paste0(\"---- unique runtimes= \", unique_runtimes))\n",
    "    \n",
    "    # return the distribution of runtimes\n",
    "    by_runtime\n",
    "}\n",
    "\n",
    "# function to get a distribution of certificates as a table\n",
    "distribution_of_certificates = function(table) {\n",
    "    \n",
    "    # get a distribution of certificate\n",
    "    by_certificates <- table %>% group_by(rating) %>% summarize(count = n())\n",
    "\n",
    "    # output info\n",
    "    print(paste0(\"---- total counted= \", sum(by_certificates$count)))\n",
    "    unique_certificates = as.numeric(count(by_certificates))\n",
    "    print(paste0(\"---- unique certificates= \", unique_certificates))\n",
    "    \n",
    "    # return the distribution of certificates\n",
    "    by_certificates\n",
    "}\n",
    "\n",
    "# function to get a distribution of genres as a table\n",
    "distribution_of_genres = function(table) {\n",
    "    \n",
    "    # get a distribution of genres\n",
    "    by_genre <- table %>% group_by(genre) %>% summarize(count = n())\n",
    "\n",
    "    # output info\n",
    "    print(paste0(\"---- total counted= \", sum(by_genre$count)))\n",
    "    unique_genres = as.numeric(count(by_genre))\n",
    "    print(paste0(\"---- unique genres= \", unique_genres))\n",
    "    \n",
    "    # return the distribution of genres\n",
    "    by_genre\n",
    "}\n",
    "\n",
    "# function to get a distribution of top n keywords as a table\n",
    "distribution_of_keywords = function(table, n) {\n",
    "\n",
    "    # get a distribution of top n keywords\n",
    "    by_keywords <- table %>% group_by(keyword) %>% summarize(count = n())\n",
    "\n",
    "    # output info\n",
    "    by_keywords <- top_n(by_keywords, n) %>% arrange(desc(count))\n",
    "    print(paste0(\"---- total counted= \", sum(by_keywords$count)))\n",
    "    unique_keywords = as.numeric(count(by_keywords))\n",
    "    print(paste0(\"---- unique keywords= \", unique_keywords))\n",
    "    \n",
    "    # return the distribution of top n keywords\n",
    "    by_keywords\n",
    "}\n"
   ]
  },
  {
   "cell_type": "code",
   "execution_count": 4,
   "metadata": {},
   "outputs": [
    {
     "ename": "ERROR",
     "evalue": "Error in number_films_per_year(unique_movies): could not find function \"number_films_per_year\"\n",
     "output_type": "error",
     "traceback": [
      "Error in number_films_per_year(unique_movies): could not find function \"number_films_per_year\"\nTraceback:\n"
     ]
    }
   ],
   "source": [
    "# get a count of movies from each year (for entire data (of unique movies))\n",
    "by_year <- number_films_per_year(unique_movies)\n",
    "sample_n(by_year, 5)"
   ]
  },
  {
   "cell_type": "code",
   "execution_count": 5,
   "metadata": {},
   "outputs": [
    {
     "ename": "ERROR",
     "evalue": "Error in number_films_per_decade(unique_movies): could not find function \"number_films_per_decade\"\n",
     "output_type": "error",
     "traceback": [
      "Error in number_films_per_decade(unique_movies): could not find function \"number_films_per_decade\"\nTraceback:\n"
     ]
    }
   ],
   "source": [
    "# get a count of movies from each decade (for entire data (of unique movies), takes a minute)\n",
    "by_decade <- number_films_per_decade(unique_movies)\n",
    "by_decade"
   ]
  },
  {
   "cell_type": "code",
   "execution_count": 6,
   "metadata": {},
   "outputs": [
    {
     "ename": "ERROR",
     "evalue": "Error in data$movie: object of type 'closure' is not subsettable\n",
     "output_type": "error",
     "traceback": [
      "Error in data$movie: object of type 'closure' is not subsettable\nTraceback:\n",
      "1. str_detect(data$movie, \"John Wick: Chapter 2\")",
      "2. stri_detect_regex(string, pattern, negate = negate, opts_regex = opts(pattern))"
     ]
    }
   ],
   "source": [
    "# get rows for a movie by partial name (can exclude year from its name)\n",
    "# lots of movies have differing release months for some reason\n",
    "# this SHOULD output 3 rows, 1 for each genre but many release months prevents this :(\n",
    "jw2 <- data[str_detect(data$movie, \"John Wick: Chapter 2\"), ]\n",
    "jw2"
   ]
  },
  {
   "cell_type": "code",
   "execution_count": 7,
   "metadata": {},
   "outputs": [
    {
     "ename": "ERROR",
     "evalue": "Error in number_films_per_month(unique_movies): could not find function \"number_films_per_month\"\n",
     "output_type": "error",
     "traceback": [
      "Error in number_films_per_month(unique_movies): could not find function \"number_films_per_month\"\nTraceback:\n"
     ]
    }
   ],
   "source": [
    "# !!!\n",
    "# since most movies have several months/genres as listed above, the leftover month\n",
    "# from the unique_films table might not be correct so the months table below is skewed\n",
    "# !!!\n",
    "\n",
    "# get a count of movies from each month (for entire data (of unique movies))\n",
    "by_month <- number_films_per_month(unique_movies)\n",
    "by_month"
   ]
  },
  {
   "cell_type": "code",
   "execution_count": 8,
   "metadata": {},
   "outputs": [
    {
     "ename": "ERROR",
     "evalue": "Error in distribution_of_runtimes(unique_movies): could not find function \"distribution_of_runtimes\"\n",
     "output_type": "error",
     "traceback": [
      "Error in distribution_of_runtimes(unique_movies): could not find function \"distribution_of_runtimes\"\nTraceback:\n"
     ]
    }
   ],
   "source": [
    "# get a distribution of runtimes\n",
    "by_runtime <- distribution_of_runtimes(unique_movies)\n",
    "sample_n(by_runtime, 5)"
   ]
  },
  {
   "cell_type": "code",
   "execution_count": 9,
   "metadata": {},
   "outputs": [
    {
     "ename": "ERROR",
     "evalue": "Error in distribution_of_certificates(unique_movies): could not find function \"distribution_of_certificates\"\n",
     "output_type": "error",
     "traceback": [
      "Error in distribution_of_certificates(unique_movies): could not find function \"distribution_of_certificates\"\nTraceback:\n"
     ]
    }
   ],
   "source": [
    "# get a distribution of certificate\n",
    "by_certificates <- distribution_of_certificates(unique_movies)\n",
    "by_certificates"
   ]
  },
  {
   "cell_type": "code",
   "execution_count": 10,
   "metadata": {},
   "outputs": [
    {
     "ename": "ERROR",
     "evalue": "Error in distribution_of_genres(unique_movies): could not find function \"distribution_of_genres\"\n",
     "output_type": "error",
     "traceback": [
      "Error in distribution_of_genres(unique_movies): could not find function \"distribution_of_genres\"\nTraceback:\n"
     ]
    }
   ],
   "source": [
    "# get a distribution of genres\n",
    "by_genre <- distribution_of_genres(unique_movies)\n",
    "by_genre"
   ]
  },
  {
   "cell_type": "code",
   "execution_count": 11,
   "metadata": {},
   "outputs": [
    {
     "ename": "ERROR",
     "evalue": "Error in distribution_of_keywords(keywords_subset, n): could not find function \"distribution_of_keywords\"\n",
     "output_type": "error",
     "traceback": [
      "Error in distribution_of_keywords(keywords_subset, n): could not find function \"distribution_of_keywords\"\nTraceback:\n"
     ]
    }
   ],
   "source": [
    "# get a distribution of top n keywords\n",
    "n = 10\n",
    "by_keywords <- distribution_of_keywords(keywords_subset, n)\n",
    "by_keywords"
   ]
  },
  {
   "cell_type": "code",
   "execution_count": 12,
   "metadata": {},
   "outputs": [],
   "source": [
    "############## AVERAGES BELOW ##############"
   ]
  },
  {
   "cell_type": "code",
   "execution_count": 13,
   "metadata": {},
   "outputs": [
    {
     "ename": "ERROR",
     "evalue": "Error in group_vars(x): object 'by_year' not found\n",
     "output_type": "error",
     "traceback": [
      "Error in group_vars(x): object 'by_year' not found\nTraceback:\n",
      "1. count(by_year)",
      "2. group_vars(x)"
     ]
    }
   ],
   "source": [
    "# get average films per year, month, and average runtime\n",
    "\n",
    "# average fims per year: sum of films divided by total years observed\n",
    "#avg_per_year = trunc(total_films / unique_years)\n",
    "unique_years = as.numeric(count(by_year))\n",
    "avg_per_year = trunc(unique_films / unique_years)\n",
    "print(paste0(\"---- avg films per year= \", avg_per_year))\n",
    "\n",
    "# average films per month: sum of films each month, each sum divided by total years observed; then average these results\n",
    "unique_months = as.numeric(count(by_month))\n",
    "avg_by_month <- by_month\n",
    "avg_by_month$count <- by_month$count / unique_years\n",
    "names(avg_by_month)[2] <- \"average\"\n",
    "avg_per_month = trunc(as.numeric(sum(avg_by_month$average) / unique_months))\n",
    "print(paste0(\"---- avg films per month= \", avg_per_month))\n",
    "avg_by_month\n",
    "\n",
    "# average runtime: sum of each runtime divided by total runtime observations\n",
    "avg_runtime = trunc(mean(unique_movies$runtime))\n",
    "print(paste0(\"---- avg runtime= \", avg_runtime))"
   ]
  },
  {
   "cell_type": "code",
   "execution_count": 14,
   "metadata": {},
   "outputs": [],
   "source": [
    "############## CHOOSE YEAR OR DECADE ##############"
   ]
  },
  {
   "cell_type": "code",
   "execution_count": 15,
   "metadata": {},
   "outputs": [
    {
     "ename": "ERROR",
     "evalue": "Error in year == selected_year: comparison (1) is possible only for atomic and list types\n",
     "output_type": "error",
     "traceback": [
      "Error in year == selected_year: comparison (1) is possible only for atomic and list types\nTraceback:\n",
      "1. subset(data, year == selected_year)",
      "2. subset.default(data, year == selected_year)"
     ]
    }
   ],
   "source": [
    "# get items by year\n",
    "selected_year = 2011\n",
    "\n",
    "# USE THIS ONE TO FETCH MOVIES BY YEAR FROM THEIR NAME (I noticed some movies have a different year than in the name, but possibly not in this combined table)\n",
    "# movie year found in movie name i.e. \"{Title} (2014)\" or \"{Title} (2014/I)\", extract year via pattern matching because year column is inaccurate for some reason\n",
    "#regex_year = paste0(\"\\\\(\", selected_year, \"\\\\)|\\\\(\", selected_year, \"\\\\/\")\n",
    "#movies_in_selected_year <- subset(data, grepl(regex_year, movie))\n",
    "\n",
    "# fetch the movies by the selected year\n",
    "movies_in_selected_year <- subset(data, year == selected_year)\n",
    "\n",
    "# output a sample of movies found for given year\n",
    "sample_n(movies_in_selected_year, 10)"
   ]
  },
  {
   "cell_type": "code",
   "execution_count": 16,
   "metadata": {},
   "outputs": [
    {
     "ename": "ERROR",
     "evalue": "Error in year >= selected_decade: comparison (5) is possible only for atomic and list types\n",
     "output_type": "error",
     "traceback": [
      "Error in year >= selected_decade: comparison (5) is possible only for atomic and list types\nTraceback:\n",
      "1. subset(data, year >= selected_decade & year < selected_decade + \n .     10)",
      "2. subset.default(data, year >= selected_decade & year < selected_decade + \n .     10)"
     ]
    }
   ],
   "source": [
    "# get items by decade (where decades are in format of 1990, 2000, 2010, etc... for next 9 years, i.e. 1990-1999, 2000-2009, etc..)\n",
    "selected_decade = 2010\n",
    "\n",
    "# USE THIS ONE TO FETCH MOVIES BY YEAR FROM THEIR NAME\n",
    "# movie year found in movie name i.e. \"{Title} (2014)\" or \"{Title} (2014/I)\", extract decade via pattern matching for decade + 9\n",
    "#regex_decade = paste0(\"\\\\(\", selected_decade / 10, \"[0-9]\\\\)|\\\\(\", selected_decade / 10, \"[0-9]\\\\/\")\n",
    "#movies_in_selected_decade <- subset(data, grepl(regex_decade, movie))\n",
    "\n",
    "# fetch the movies by the selected year\n",
    "movies_in_selected_decade <- subset(data, year >= selected_decade & year < selected_decade + 10)\n",
    "\n",
    "# output a sample of movies found for given year\n",
    "sample_n(movies_in_selected_decade, 10)"
   ]
  },
  {
   "cell_type": "code",
   "execution_count": 17,
   "metadata": {},
   "outputs": [],
   "source": [
    "############## CHOOSE GENRE ##############"
   ]
  },
  {
   "cell_type": "code",
   "execution_count": 18,
   "metadata": {},
   "outputs": [
    {
     "ename": "ERROR",
     "evalue": "Error in stri_trans_tolower(string, locale = locale): object 'genre' not found\n",
     "output_type": "error",
     "traceback": [
      "Error in stri_trans_tolower(string, locale = locale): object 'genre' not found\nTraceback:\n",
      "1. subset(data, eval(parse(text = condition)))",
      "2. subset.default(data, eval(parse(text = condition)))",
      "3. eval(parse(text = condition))",
      "4. eval(parse(text = condition))",
      "5. str_to_lower(genre)",
      "6. stri_trans_tolower(string, locale = locale)"
     ]
    }
   ],
   "source": [
    "# genre input is comma separated string list\n",
    "selected_genres = \"comedy, Drama , fake_test, doCumenTarY, \"\n",
    "\n",
    "# split genres input to individual inputs\n",
    "genres <- unlist(strsplit(selected_genres, \",\"))\n",
    "\n",
    "# retrieve first genre as a \"base\"\n",
    "condition <- paste0(\"str_to_lower(str_trim(genres[1])) == str_to_lower(genre) \")\n",
    "\n",
    "# if more than 1 genres provided...\n",
    "if (length(genres) > 1) {\n",
    "    \n",
    "    # then build conditional string for each one after \"base\"\n",
    "    for (i in 2:length(genres)) {\n",
    "        \n",
    "        # make a new condition with the current genre, being sure to ignore case and trim the input\n",
    "        next_condition <- paste0(\"| str_to_lower(str_trim(genres[\", i, \"])) == str_to_lower(genre) \")\n",
    "        \n",
    "        # add the new condition onto the current list of conditions\n",
    "        condition <- paste(condition, next_condition, sep = \"\")\n",
    "    }\n",
    "}\n",
    "\n",
    "# movie genre found in genre column, just fetch it by parsing the condition from above\n",
    "movies_in_selected_genre <- subset(data, eval(parse(text = condition)))\n",
    "\n",
    "# output a sample of movies found for given genre(s)\n",
    "sample_n(movies_in_selected_genre, 10)"
   ]
  },
  {
   "cell_type": "code",
   "execution_count": 19,
   "metadata": {},
   "outputs": [
    {
     "ename": "ERROR",
     "evalue": "Error in unique(movies_in_selected_genre$movie): object 'movies_in_selected_genre' not found\n",
     "output_type": "error",
     "traceback": [
      "Error in unique(movies_in_selected_genre$movie): object 'movies_in_selected_genre' not found\nTraceback:\n",
      "1. unique(movies_in_selected_genre$movie)"
     ]
    }
   ],
   "source": [
    "# number of films released in selected genre\n",
    "number_in_genre <- length(unique(movies_in_selected_genre$movie))\n",
    "print(paste0(\"---- films in genre= \", number_in_genre))"
   ]
  },
  {
   "cell_type": "code",
   "execution_count": 20,
   "metadata": {},
   "outputs": [
    {
     "ename": "ERROR",
     "evalue": "Error in subset(movies_in_selected_genre, !duplicated(subset(movies_in_selected_genre, : object 'movies_in_selected_genre' not found\n",
     "output_type": "error",
     "traceback": [
      "Error in subset(movies_in_selected_genre, !duplicated(subset(movies_in_selected_genre, : object 'movies_in_selected_genre' not found\nTraceback:\n",
      "1. subset(movies_in_selected_genre, !duplicated(subset(movies_in_selected_genre, \n .     select = movie)))"
     ]
    }
   ],
   "source": [
    "# table above can have duplicate movies due to movies having multiple genres or months\n",
    "# get a subset of those movies where a movie only appears once\n",
    "unique_movies_in_genre <- subset(movies_in_selected_genre, !duplicated(subset(movies_in_selected_genre, select = movie)))\n",
    "\n",
    "# table of \"number of films released in that genre each year\" (total_counted value should match number_in_x value)\n",
    "films_per_year_by_selected_genre <- number_films_per_year(unique_movies_in_genre)\n",
    "\n",
    "# output a sample of 5 rows\n",
    "sample_n(films_per_year_by_selected_genre, 5)"
   ]
  },
  {
   "cell_type": "code",
   "execution_count": 21,
   "metadata": {},
   "outputs": [
    {
     "ename": "ERROR",
     "evalue": "Error in eval(expr, envir, enclos): object 'by_year' not found\n",
     "output_type": "error",
     "traceback": [
      "Error in eval(expr, envir, enclos): object 'by_year' not found\nTraceback:\n"
     ]
    }
   ],
   "source": [
    "# get \"percentage of films released in that genre each year\"\n",
    "\n",
    "# add total films per year to table and calculuate percentage\n",
    "films_per_year_by_selected_genre$total <- by_year$count\n",
    "films_per_year_by_selected_genre$percent <- (films_per_year_by_selected_genre$count / by_year$count) * 100\n",
    "\n",
    "# output a sample of 5 rows\n",
    "sample_n(films_per_year_by_selected_genre, 5)"
   ]
  },
  {
   "cell_type": "code",
   "execution_count": 22,
   "metadata": {},
   "outputs": [
    {
     "ename": "ERROR",
     "evalue": "Error in number_films_per_decade(unique_movies_in_genre): could not find function \"number_films_per_decade\"\n",
     "output_type": "error",
     "traceback": [
      "Error in number_films_per_decade(unique_movies_in_genre): could not find function \"number_films_per_decade\"\nTraceback:\n"
     ]
    }
   ],
   "source": [
    "# table of \"number of films released in that genre each decade\" (total_counted value should match number_in_x value)\n",
    "films_per_decade_by_selected_genre <- number_films_per_decade(unique_movies_in_genre)\n",
    "\n",
    "# output a sample of 5 rows\n",
    "sample_n(films_per_decade_by_selected_genre, 5)"
   ]
  },
  {
   "cell_type": "code",
   "execution_count": 23,
   "metadata": {},
   "outputs": [
    {
     "ename": "ERROR",
     "evalue": "Error in eval(expr, envir, enclos): object 'by_decade' not found\n",
     "output_type": "error",
     "traceback": [
      "Error in eval(expr, envir, enclos): object 'by_decade' not found\nTraceback:\n"
     ]
    }
   ],
   "source": [
    "# get \"percentage of films released in that genre each decade\"\n",
    "\n",
    "# add total films per decade to table and calculuate percentage\n",
    "films_per_decade_by_selected_genre$total <- by_decade$count\n",
    "films_per_decade_by_selected_genre$percent <- (films_per_decade_by_selected_genre$count / by_decade$count) * 100\n",
    "\n",
    "# show output\n",
    "films_per_decade_by_selected_genre"
   ]
  },
  {
   "cell_type": "code",
   "execution_count": 24,
   "metadata": {},
   "outputs": [
    {
     "ename": "ERROR",
     "evalue": "Error in number_films_per_month(unique_movies_in_genre): could not find function \"number_films_per_month\"\n",
     "output_type": "error",
     "traceback": [
      "Error in number_films_per_month(unique_movies_in_genre): could not find function \"number_films_per_month\"\nTraceback:\n"
     ]
    }
   ],
   "source": [
    "# table of \"number of films released in that genre each month\" (total_counted value should match number_in_x value)\n",
    "films_per_month_by_selected_genre <- number_films_per_month(unique_movies_in_genre)\n",
    "\n",
    "# output a sample of 5 rows\n",
    "sample_n(films_per_month_by_selected_genre, 5)"
   ]
  },
  {
   "cell_type": "code",
   "execution_count": 25,
   "metadata": {},
   "outputs": [
    {
     "ename": "ERROR",
     "evalue": "Error in eval(expr, envir, enclos): object 'by_month' not found\n",
     "output_type": "error",
     "traceback": [
      "Error in eval(expr, envir, enclos): object 'by_month' not found\nTraceback:\n"
     ]
    }
   ],
   "source": [
    "# get \"percentage of films released in that genre each month\"\n",
    "\n",
    "# add total films per month to table and calculuate percentage\n",
    "films_per_month_by_selected_genre$total <- by_month$count\n",
    "films_per_month_by_selected_genre$percent <- (films_per_month_by_selected_genre$count / by_month$count) * 100\n",
    "\n",
    "# show output\n",
    "films_per_month_by_selected_genre"
   ]
  },
  {
   "cell_type": "code",
   "execution_count": 26,
   "metadata": {},
   "outputs": [
    {
     "ename": "ERROR",
     "evalue": "Error in distribution_of_runtimes(unique_movies_in_genre): could not find function \"distribution_of_runtimes\"\n",
     "output_type": "error",
     "traceback": [
      "Error in distribution_of_runtimes(unique_movies_in_genre): could not find function \"distribution_of_runtimes\"\nTraceback:\n"
     ]
    }
   ],
   "source": [
    "# table of \"distribution of running times of films in that genre\" (total_counted value should match number_in_x value)\n",
    "distribution_runtimes_by_selected_genre <- distribution_of_runtimes(unique_movies_in_genre)\n",
    "\n",
    "# output a sample of 5 rows\n",
    "sample_n(distribution_runtimes_by_selected_genre, 5)"
   ]
  },
  {
   "cell_type": "code",
   "execution_count": 27,
   "metadata": {},
   "outputs": [
    {
     "ename": "ERROR",
     "evalue": "Error in distribution_of_certificates(unique_movies_in_genre): could not find function \"distribution_of_certificates\"\n",
     "output_type": "error",
     "traceback": [
      "Error in distribution_of_certificates(unique_movies_in_genre): could not find function \"distribution_of_certificates\"\nTraceback:\n"
     ]
    }
   ],
   "source": [
    "# table of \"distribution of certificates in that genre\" (total_counted value should match number_in_x value)\n",
    "distribution_certificates_by_selected_genre <- distribution_of_certificates(unique_movies_in_genre)\n",
    "\n",
    "# output a sample of 5 rows\n",
    "sample_n(distribution_certificates_by_selected_genre, 5)"
   ]
  },
  {
   "cell_type": "code",
   "execution_count": 28,
   "metadata": {},
   "outputs": [
    {
     "ename": "ERROR",
     "evalue": "Error in subset(keywords_subset, movie %in% movies_in_selected_genre$movie): object 'keywords_subset' not found\n",
     "output_type": "error",
     "traceback": [
      "Error in subset(keywords_subset, movie %in% movies_in_selected_genre$movie): object 'keywords_subset' not found\nTraceback:\n",
      "1. subset(keywords_subset, movie %in% movies_in_selected_genre$movie)"
     ]
    }
   ],
   "source": [
    "# table of \"distribution of top n keywords in that genre\"\n",
    "\n",
    "# keywords table only for movies found in selected_genre\n",
    "keywords_subset_for_genre <- subset(keywords_subset, movie %in% movies_in_selected_genre$movie)\n",
    "\n",
    "top_N = 10\n",
    "distribution_keywords_by_selected_genre <- distribution_of_keywords(keywords_subset_for_genre, top_N)\n",
    "\n",
    "# output a sample of 10 rows\n",
    "sample_n(distribution_keywords_by_selected_genre, 10)"
   ]
  },
  {
   "cell_type": "code",
   "execution_count": 29,
   "metadata": {},
   "outputs": [],
   "source": [
    "############## CHOOSE KEYWORD ##############"
   ]
  },
  {
   "cell_type": "code",
   "execution_count": 30,
   "metadata": {
    "scrolled": true
   },
   "outputs": [
    {
     "ename": "ERROR",
     "evalue": "Error in subset(keywords_subset, eval(parse(text = condition))): object 'keywords_subset' not found\n",
     "output_type": "error",
     "traceback": [
      "Error in subset(keywords_subset, eval(parse(text = condition))): object 'keywords_subset' not found\nTraceback:\n",
      "1. subset(keywords_subset, eval(parse(text = condition)))"
     ]
    }
   ],
   "source": [
    "# keyword input is comma separated string list\n",
    "selected_keywords = \"fight, cat-and-mouse , fake_test, shOtguN, \"\n",
    "\n",
    "# split keyword input to individual inputs\n",
    "keywords <- unlist(strsplit(selected_keywords, \",\"))\n",
    "\n",
    "# retrieve first keyword as a \"base\"\n",
    "condition <- paste0(\"str_to_lower(str_trim(keywords[1])) == str_to_lower(keyword) \")\n",
    "\n",
    "# if more than 1 keywords provided...\n",
    "if (length(keywords) > 1) {\n",
    "    \n",
    "    # then build conditional string for each one after \"base\"\n",
    "    for (i in 2:length(keywords)) {\n",
    "        \n",
    "        # make a new condition with the current keyword, being sure to ignore case and trim the input\n",
    "        next_condition <- paste0(\"| str_to_lower(str_trim(keywords[\", i, \"])) == str_to_lower(keyword) \")\n",
    "        \n",
    "        # add the new condition onto the current list of conditions\n",
    "        condition <- paste(condition, next_condition, sep = \"\")\n",
    "    }\n",
    "}\n",
    "\n",
    "# movie keyword found in keyword column, just fetch it by parsing the condition from above\n",
    "movies_in_selected_keywords <- subset(keywords_subset, eval(parse(text = condition)))\n",
    "\n",
    "# output a sample of movies found for given keyword(s)\n",
    "sample_n(movies_in_selected_keywords, 10)"
   ]
  },
  {
   "cell_type": "code",
   "execution_count": 31,
   "metadata": {},
   "outputs": [],
   "source": [
    "#\n",
    "#\n",
    "# repeat code similarily as found in CHOOSE GENRE section\n",
    "#\n",
    "#"
   ]
  },
  {
   "cell_type": "code",
   "execution_count": 32,
   "metadata": {},
   "outputs": [],
   "source": [
    "############## CHOOSE CERTIFICATE ##############"
   ]
  },
  {
   "cell_type": "code",
   "execution_count": 33,
   "metadata": {},
   "outputs": [
    {
     "ename": "ERROR",
     "evalue": "Error in stri_trans_tolower(string, locale = locale): object 'rating' not found\n",
     "output_type": "error",
     "traceback": [
      "Error in stri_trans_tolower(string, locale = locale): object 'rating' not found\nTraceback:\n",
      "1. subset(data, eval(parse(text = condition)))",
      "2. subset.default(data, eval(parse(text = condition)))",
      "3. eval(parse(text = condition))",
      "4. eval(parse(text = condition))",
      "5. str_to_lower(rating)",
      "6. stri_trans_tolower(string, locale = locale)"
     ]
    }
   ],
   "source": [
    "# certificate input is comma separated string list\n",
    "selected_certificates = \"USA:Pg-13, USA:UnRateD , USA:fake_test, USA:, \"\n",
    "\n",
    "# split certificate input to individual inputs\n",
    "certificates <- unlist(strsplit(selected_certificates, \",\"))\n",
    "\n",
    "# retrieve first certificate as a \"base\"\n",
    "condition <- paste0(\"str_to_lower(str_trim(certificates[1])) == str_to_lower(rating) \")\n",
    "\n",
    "# if more than 1 certificates provided...\n",
    "if (length(certificates) > 1) {\n",
    "    \n",
    "    # then build conditional string for each one after \"base\"\n",
    "    for (i in 2:length(certificates)) {\n",
    "        \n",
    "        # make a new condition with the current certificate, being sure to ignore case and trim the input\n",
    "        next_condition <- paste0(\"| str_to_lower(str_trim(certificates[\", i, \"])) == str_to_lower(rating) \")\n",
    "        \n",
    "        # add the new condition onto the current list of conditions\n",
    "        condition <- paste(condition, next_condition, sep = \"\")\n",
    "    }\n",
    "}\n",
    "\n",
    "# movie certificate found in certificate column, just fetch it by parsing the condition from above\n",
    "movies_in_selected_certificates <- subset(data, eval(parse(text = condition)))\n",
    "\n",
    "# output a sample of movies found for given certificate(s)\n",
    "sample_n(movies_in_selected_certificates, 10)"
   ]
  },
  {
   "cell_type": "code",
   "execution_count": 34,
   "metadata": {},
   "outputs": [],
   "source": [
    "#\n",
    "#\n",
    "# repeat code similarily as found in CHOOSE GENRE section\n",
    "#\n",
    "#"
   ]
  },
  {
   "cell_type": "code",
   "execution_count": 35,
   "metadata": {},
   "outputs": [],
   "source": [
    "############## CHOOSE RUNTIME ##############"
   ]
  },
  {
   "cell_type": "code",
   "execution_count": 36,
   "metadata": {},
   "outputs": [
    {
     "ename": "ERROR",
     "evalue": "Error in subset.default(data, runtime_min <= runtime & runtime_max >= : object 'runtime' not found\n",
     "output_type": "error",
     "traceback": [
      "Error in subset.default(data, runtime_min <= runtime & runtime_max >= : object 'runtime' not found\nTraceback:\n",
      "1. subset(data, runtime_min <= runtime & runtime_max >= runtime)",
      "2. subset.default(data, runtime_min <= runtime & runtime_max >= \n .     runtime)"
     ]
    }
   ],
   "source": [
    "# runtime input is range from min to max\n",
    "runtime_min = 60\n",
    "runtime_max = 120\n",
    "\n",
    "# movie runtime found in runtime column, just fetch it and compare the inputs\n",
    "movies_in_selected_runtimes <- subset(data, runtime_min <= runtime & runtime_max >= runtime)\n",
    "\n",
    "# output a sample of movies found for given runtime range\n",
    "sample_n(movies_in_selected_runtimes, 10)"
   ]
  },
  {
   "cell_type": "code",
   "execution_count": 37,
   "metadata": {},
   "outputs": [],
   "source": [
    "#\n",
    "#\n",
    "# repeat code similarily as found in CHOOSE GENRE section\n",
    "#\n",
    "#"
   ]
  },
  {
   "cell_type": "code",
   "execution_count": 38,
   "metadata": {},
   "outputs": [],
   "source": [
    "############## PLOTS ##############"
   ]
  },
  {
   "cell_type": "code",
   "execution_count": 39,
   "metadata": {},
   "outputs": [
    {
     "ename": "ERROR",
     "evalue": "Error in number_films_per_year(unique_movies): could not find function \"number_films_per_year\"\n",
     "output_type": "error",
     "traceback": [
      "Error in number_films_per_year(unique_movies): could not find function \"number_films_per_year\"\nTraceback:\n"
     ]
    }
   ],
   "source": [
    "## Bar chart for films released per year## \n",
    "\n",
    "films_per_year_graph = number_films_per_year(unique_movies)\n",
    "ggplot(films_per_year_graph, aes(x=year, y=count)) +\n",
    "  geom_bar(stat = \"identity\", fill = \"gray36\") + labs(title = \"Number of Films Per Year\", x = \"Year\", y = \"Number of Films\")"
   ]
  },
  {
   "cell_type": "code",
   "execution_count": 40,
   "metadata": {},
   "outputs": [],
   "source": [
    "## Bar chart for films released per month## \n",
    "\n",
    "plotMonthPerGivenYear <- function(data, year)\n",
    "{\n",
    "    unique_movies_year = data[which(data$year == year),]\n",
    "    films_per_month_graph = number_films_per_month(unique_movies_year)\n",
    "\n",
    "    ggplot(films_per_month_graph, aes(x=month, y=count)) +\n",
    "    geom_bar(stat = \"identity\", fill = \"#f3ce13\") + labs(title = \"Films Released By Month\", x = \"Month\", y = \"Number of Films\")\n",
    "}    "
   ]
  },
  {
   "cell_type": "code",
   "execution_count": 41,
   "metadata": {},
   "outputs": [],
   "source": [
    "## Bar chart for distribution runtimes##\n",
    "\n",
    "plotMonthPerGivenYear <- function(data, year)\n",
    "{\n",
    "    unique_movies_year = data[which(data$year == year),]\n",
    "    runtimes_per_year = distribution_of_runtimes(unique_movies)\n",
    "\n",
    "    ggplot(runtimes_per_year, aes(x=runtime, y=count)) +\n",
    "    geom_point() + labs(title = \"Runtimes of Films\", x = \"Runtime\", y = \"Number of Films\")\n",
    "    \n",
    "}\n"
   ]
  },
  {
   "cell_type": "code",
   "execution_count": 42,
   "metadata": {},
   "outputs": [],
   "source": [
    "## Bar chart for distribution of genres ##\n",
    "\n",
    "plotGenrePerYear <- function(data, year)\n",
    "{\n",
    "    unique_movies_year = data[which(data$year == year),]\n",
    "    genres_graph = distribution_of_genres(unique_movies_year)\n",
    "\n",
    "    ggplot(genres_graph, aes(x= genre, y=count)) + geom_bar(stat = \"identity\", fill = \"#f3ce13\") + labs(title = \"Count of Films by Genre\", x = \"Genre\", y = \"Number of Films\")\n",
    "}"
   ]
  },
  {
   "cell_type": "code",
   "execution_count": 43,
   "metadata": {
    "scrolled": true
   },
   "outputs": [],
   "source": [
    "## Bar chart for distribution of certificates for a given movie ##\n",
    "\n",
    "plotCertificatesPerYear <- function(table, year)\n",
    "{\n",
    "    unique_movies_year = data[which(data$year == year),]\n",
    "    certificates_graph <- distribution_of_certificates(unique_movies_year)\n",
    "    ggplot(certificates_graph, aes(x = rating, y = count)) + geom_bar(stat = \"identity\", fill = \"gray36\")\n",
    "}"
   ]
  },
  {
   "cell_type": "code",
   "execution_count": 44,
   "metadata": {
    "scrolled": false
   },
   "outputs": [],
   "source": [
    "## Bar chart for distribution of 10 key words ##\n",
    "## Used ten as an example ## \n",
    "\n",
    "plotTenKeywordsPerYear <- function(table, year)\n",
    "{\n",
    "    unique_movies_year = data[which(data$year == year),]\n",
    "\n",
    "    ten_keywords = distribution_of_keywords(keywords_subset, 10)\n",
    "\n",
    "    ggplot(ten_keywords, aes(x = keyword, y = count)) + geom_bar(stat = \"identity\", fill = \"#f3ce13\")\n",
    "}"
   ]
  }
 ],
 "metadata": {
  "kernelspec": {
   "display_name": "R",
   "language": "R",
   "name": "ir"
  },
  "language_info": {
   "codemirror_mode": "r",
   "file_extension": ".r",
   "mimetype": "text/x-r-source",
   "name": "R",
   "pygments_lexer": "r",
   "version": "3.5.0"
  }
 },
 "nbformat": 4,
 "nbformat_minor": 2
}
