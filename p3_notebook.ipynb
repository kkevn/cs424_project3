{
 "cells": [
  {
   "cell_type": "code",
   "execution_count": 1,
   "metadata": {},
   "outputs": [],
   "source": [
    "#######################################\n",
    "# CS 424 - Project 3\n",
    "# Kevin Kowalski\n",
    "# Samuel Kajah\n",
    "# Vijay Vemu\n",
    "#######################################\n",
    "#\n",
    "# This file contains the code to clean\n",
    "# the original data set. It outputs\n",
    "# the necessary plots and updated data\n",
    "# set to be used by shiny.\n",
    "#\n",
    "# This file was used for testing and \n",
    "# plotting before using RStudio for a\n",
    "# dashboard.\n",
    "#\n",
    "#######################################"
   ]
  },
  {
   "cell_type": "code",
   "execution_count": 2,
   "metadata": {},
   "outputs": [
    {
     "name": "stderr",
     "output_type": "stream",
     "text": [
      "Warning message:\n",
      "\"package 'comprehenr' was built under R version 3.6.2\"Warning message:\n",
      "\"package 'dplyr' was built under R version 3.6.2\"\n",
      "Attaching package: 'dplyr'\n",
      "\n",
      "The following objects are masked from 'package:stats':\n",
      "\n",
      "    filter, lag\n",
      "\n",
      "The following objects are masked from 'package:base':\n",
      "\n",
      "    intersect, setdiff, setequal, union\n",
      "\n",
      "Warning message:\n",
      "\"package 'ggplot2' was built under R version 3.6.2\"Warning message:\n",
      "\"package 'hashmap' was built under R version 3.6.2\"Warning message:\n",
      "\"package 'lubridate' was built under R version 3.6.2\"\n",
      "Attaching package: 'lubridate'\n",
      "\n",
      "The following object is masked from 'package:base':\n",
      "\n",
      "    date\n",
      "\n",
      "Warning message:\n",
      "\"package 'stringr' was built under R version 3.6.2\""
     ]
    }
   ],
   "source": [
    "# import libraries\n",
    "library(comprehenr)\n",
    "library(dplyr)\n",
    "library(ggplot2)\n",
    "library(hashmap)\n",
    "library(lubridate)\n",
    "library(stringr)"
   ]
  },
  {
   "cell_type": "code",
   "execution_count": 3,
   "metadata": {},
   "outputs": [],
   "source": [
    "# read in the new CSV files\n",
    "df_certificates = read.csv('data_files/new_files/certificates.csv')\n",
    "df_genres = read.csv('data_files/new_files/genres.csv')\n",
    "df_keywords = read.csv('data_files/new_files/keywords.csv')\n",
    "df_movies = read.csv('data_files/new_files/movies.csv')\n",
    "df_releases = read.csv('data_files/new_files/releases.csv')\n",
    "df_runtimes = read.csv('data_files/new_files/runtimes.csv')"
   ]
  },
  {
   "cell_type": "code",
   "execution_count": 4,
   "metadata": {},
   "outputs": [
    {
     "name": "stdout",
     "output_type": "stream",
     "text": [
      "[1] \"---- df_certificates, n=55567\"\n"
     ]
    },
    {
     "data": {
      "text/html": [
       "<table>\n",
       "<thead><tr><th scope=col>movie</th><th scope=col>rating</th></tr></thead>\n",
       "<tbody>\n",
       "\t<tr><td>La môme (2007)                            </td><td>USA:PG-13                                 </td></tr>\n",
       "\t<tr><td>Forget Paris (1995)                       </td><td>USA:PG-13                                 </td></tr>\n",
       "\t<tr><td>Prince of Persia: The Sands of Time (2010)</td><td>USA:PG-13                                 </td></tr>\n",
       "\t<tr><td>Hustlas (2002)                            </td><td>USA:R                                     </td></tr>\n",
       "\t<tr><td>Seventh Column (1943)                     </td><td>USA:Approved                              </td></tr>\n",
       "</tbody>\n",
       "</table>\n"
      ],
      "text/latex": [
       "\\begin{tabular}{r|ll}\n",
       " movie & rating\\\\\n",
       "\\hline\n",
       "\t La môme (2007)                             & USA:PG-13                                 \\\\\n",
       "\t Forget Paris (1995)                        & USA:PG-13                                 \\\\\n",
       "\t Prince of Persia: The Sands of Time (2010) & USA:PG-13                                 \\\\\n",
       "\t Hustlas (2002)                             & USA:R                                     \\\\\n",
       "\t Seventh Column (1943)                      & USA:Approved                              \\\\\n",
       "\\end{tabular}\n"
      ],
      "text/markdown": [
       "\n",
       "| movie | rating |\n",
       "|---|---|\n",
       "| La môme (2007)                             | USA:PG-13                                  |\n",
       "| Forget Paris (1995)                        | USA:PG-13                                  |\n",
       "| Prince of Persia: The Sands of Time (2010) | USA:PG-13                                  |\n",
       "| Hustlas (2002)                             | USA:R                                      |\n",
       "| Seventh Column (1943)                      | USA:Approved                               |\n",
       "\n"
      ],
      "text/plain": [
       "  movie                                      rating      \n",
       "1 La môme (2007)                             USA:PG-13   \n",
       "2 Forget Paris (1995)                        USA:PG-13   \n",
       "3 Prince of Persia: The Sands of Time (2010) USA:PG-13   \n",
       "4 Hustlas (2002)                             USA:R       \n",
       "5 Seventh Column (1943)                      USA:Approved"
      ]
     },
     "metadata": {},
     "output_type": "display_data"
    },
    {
     "data": {
      "text/plain": [
       "                                                 movie      \n",
       " The Green Archer (1940)                            :   16  \n",
       " The Mysterious Pilot (1937)                        :   16  \n",
       " The Amazing Exploits of the Clutching Hand (1936/I):   15  \n",
       " The Shadow (1940)                                  :   14  \n",
       " Sky Raiders (1941)                                 :   13  \n",
       " Junior G-Men of the Air (1942)                     :   12  \n",
       " (Other)                                            :55481  \n",
       "          rating     \n",
       " USA:R       :16302  \n",
       " USA:Approved:13864  \n",
       " USA:Passed  : 7327  \n",
       " USA:PG      : 5510  \n",
       " USA:PG-13   : 5337  \n",
       " USA:Unrated : 4611  \n",
       " (Other)     : 2616  "
      ]
     },
     "metadata": {},
     "output_type": "display_data"
    }
   ],
   "source": [
    "# printing certificate CSV info\n",
    "print(paste0(\"---- df_certificates, n=\", count(df_certificates)))\n",
    "sample_n(df_certificates, 5)\n",
    "summary(df_certificates)"
   ]
  },
  {
   "cell_type": "code",
   "execution_count": 5,
   "metadata": {},
   "outputs": [
    {
     "name": "stdout",
     "output_type": "stream",
     "text": [
      "[1] \"---- df_genres, n=1340551\"\n"
     ]
    },
    {
     "data": {
      "text/html": [
       "<table>\n",
       "<thead><tr><th scope=col>movie</th><th scope=col>genre</th></tr></thead>\n",
       "<tbody>\n",
       "\t<tr><td>All Tangled Up '10: The Doc! (2010)</td><td>Drama                              </td></tr>\n",
       "\t<tr><td>Jégszekrénybe zárva (2015)         </td><td>Documentary                        </td></tr>\n",
       "\t<tr><td>Møllen (1908)                      </td><td>Drama                              </td></tr>\n",
       "\t<tr><td>Bringing Up Betty (1919)           </td><td>Drama                              </td></tr>\n",
       "\t<tr><td>Mithivedi (2012)                   </td><td>War                                </td></tr>\n",
       "</tbody>\n",
       "</table>\n"
      ],
      "text/latex": [
       "\\begin{tabular}{r|ll}\n",
       " movie & genre\\\\\n",
       "\\hline\n",
       "\t All Tangled Up '10: The Doc! (2010) & Drama                              \\\\\n",
       "\t Jégszekrénybe zárva (2015)          & Documentary                        \\\\\n",
       "\t Møllen (1908)                       & Drama                              \\\\\n",
       "\t Bringing Up Betty (1919)            & Drama                              \\\\\n",
       "\t Mithivedi (2012)                    & War                                \\\\\n",
       "\\end{tabular}\n"
      ],
      "text/markdown": [
       "\n",
       "| movie | genre |\n",
       "|---|---|\n",
       "| All Tangled Up '10: The Doc! (2010) | Drama                               |\n",
       "| Jégszekrénybe zárva (2015)          | Documentary                         |\n",
       "| Møllen (1908)                       | Drama                               |\n",
       "| Bringing Up Betty (1919)            | Drama                               |\n",
       "| Mithivedi (2012)                    | War                                 |\n",
       "\n"
      ],
      "text/plain": [
       "  movie                               genre      \n",
       "1 All Tangled Up '10: The Doc! (2010) Drama      \n",
       "2 Jégszekrénybe zárva (2015)          Documentary\n",
       "3 Møllen (1908)                       Drama      \n",
       "4 Bringing Up Betty (1919)            Drama      \n",
       "5 Mithivedi (2012)                    War        "
      ]
     },
     "metadata": {},
     "output_type": "display_data"
    },
    {
     "data": {
      "text/plain": [
       "                                 movie                 genre       \n",
       " Melon Soda (2008)                  :     14   Drama      :337702  \n",
       " The Travelogues (2008)             :     12   Comedy     :214682  \n",
       " Vampire Hunter D: Bloodlust (2000) :     11   Documentary:176268  \n",
       " Batman: Mask of the Phantasm (1993):     10   Thriller   : 67827  \n",
       " Gumby 1 (1995)                     :     10   Romance    : 64033  \n",
       " Dreamworks Spooky Stories (2012)   :      9   Action     : 56333  \n",
       " (Other)                            :1340485   (Other)    :423706  "
      ]
     },
     "metadata": {},
     "output_type": "display_data"
    }
   ],
   "source": [
    "# printing genre CSV info\n",
    "print(paste0(\"---- df_genres, n=\", count(df_genres)))\n",
    "sample_n(df_genres, 5)\n",
    "summary(df_genres)"
   ]
  },
  {
   "cell_type": "code",
   "execution_count": 6,
   "metadata": {},
   "outputs": [
    {
     "name": "stdout",
     "output_type": "stream",
     "text": [
      "[1] \"---- df_keywords, n=3763298\"\n"
     ]
    },
    {
     "data": {
      "text/html": [
       "<table>\n",
       "<thead><tr><th scope=col>movie</th><th scope=col>keyword</th></tr></thead>\n",
       "<tbody>\n",
       "\t<tr><td>Daybreakers (2009)        </td><td>american-flag             </td></tr>\n",
       "\t<tr><td>Mila (2001)               </td><td>teacher                   </td></tr>\n",
       "\t<tr><td>Anything Can Happen (1952)</td><td>on-the-road               </td></tr>\n",
       "\t<tr><td>The Electric House (1922) </td><td>escalator                 </td></tr>\n",
       "\t<tr><td>Mr. B Natural (1957)      </td><td>surrealism                </td></tr>\n",
       "</tbody>\n",
       "</table>\n"
      ],
      "text/latex": [
       "\\begin{tabular}{r|ll}\n",
       " movie & keyword\\\\\n",
       "\\hline\n",
       "\t Daybreakers (2009)         & american-flag             \\\\\n",
       "\t Mila (2001)                & teacher                   \\\\\n",
       "\t Anything Can Happen (1952) & on-the-road               \\\\\n",
       "\t The Electric House (1922)  & escalator                 \\\\\n",
       "\t Mr. B Natural (1957)       & surrealism                \\\\\n",
       "\\end{tabular}\n"
      ],
      "text/markdown": [
       "\n",
       "| movie | keyword |\n",
       "|---|---|\n",
       "| Daybreakers (2009)         | american-flag              |\n",
       "| Mila (2001)                | teacher                    |\n",
       "| Anything Can Happen (1952) | on-the-road                |\n",
       "| The Electric House (1922)  | escalator                  |\n",
       "| Mr. B Natural (1957)       | surrealism                 |\n",
       "\n"
      ],
      "text/plain": [
       "  movie                      keyword      \n",
       "1 Daybreakers (2009)         american-flag\n",
       "2 Mila (2001)                teacher      \n",
       "3 Anything Can Happen (1952) on-the-road  \n",
       "4 The Electric House (1922)  escalator    \n",
       "5 Mr. B Natural (1957)       surrealism   "
      ]
     },
     "metadata": {},
     "output_type": "display_data"
    },
    {
     "data": {
      "text/plain": [
       "                                       movie        \n",
       " Pane, vy jste vdova! (1971)              :    678  \n",
       " 75 (2017)                                :    587  \n",
       " The Dark Knight (2008)                   :    580  \n",
       " Batman v Superman: Dawn of Justice (2016):    548  \n",
       " The Boys Club (1996)                     :    541  \n",
       " Golgo 13 (1983)                          :    520  \n",
       " (Other)                                  :3759844  \n",
       "                    keyword       \n",
       " independent-film       :  34932  \n",
       " based-on-novel         :  22626  \n",
       " character-name-in-title:  21769  \n",
       " murder                 :  19321  \n",
       " f-rated                :  18253  \n",
       " sex                    :  17555  \n",
       " (Other)                :3628842  "
      ]
     },
     "metadata": {},
     "output_type": "display_data"
    }
   ],
   "source": [
    "# printing keyword CSV info\n",
    "print(paste0(\"---- df_keywords, n=\", count(df_keywords)))\n",
    "sample_n(df_keywords, 5)\n",
    "summary(df_keywords)"
   ]
  },
  {
   "cell_type": "code",
   "execution_count": 7,
   "metadata": {},
   "outputs": [
    {
     "name": "stdout",
     "output_type": "stream",
     "text": [
      "[1] \"---- df_movies, n=1024452\"\n"
     ]
    },
    {
     "data": {
      "text/html": [
       "<table>\n",
       "<thead><tr><th scope=col>movie</th><th scope=col>year</th></tr></thead>\n",
       "<tbody>\n",
       "\t<tr><td>Catnap (2018)                            </td><td>2018                                     </td></tr>\n",
       "\t<tr><td>Le dernier choc (1932)                   </td><td>1932                                     </td></tr>\n",
       "\t<tr><td>Sanda (2013)                             </td><td>2013                                     </td></tr>\n",
       "\t<tr><td>All Aboard the Dreamland Choo-Choo (1964)</td><td>1964                                     </td></tr>\n",
       "\t<tr><td>Sacred Cinema (2012)                     </td><td>2012                                     </td></tr>\n",
       "</tbody>\n",
       "</table>\n"
      ],
      "text/latex": [
       "\\begin{tabular}{r|ll}\n",
       " movie & year\\\\\n",
       "\\hline\n",
       "\t Catnap (2018)                             & 2018                                     \\\\\n",
       "\t Le dernier choc (1932)                    & 1932                                     \\\\\n",
       "\t Sanda (2013)                              & 2013                                     \\\\\n",
       "\t All Aboard the Dreamland Choo-Choo (1964) & 1964                                     \\\\\n",
       "\t Sacred Cinema (2012)                      & 2012                                     \\\\\n",
       "\\end{tabular}\n"
      ],
      "text/markdown": [
       "\n",
       "| movie | year |\n",
       "|---|---|\n",
       "| Catnap (2018)                             | 2018                                      |\n",
       "| Le dernier choc (1932)                    | 1932                                      |\n",
       "| Sanda (2013)                              | 2013                                      |\n",
       "| All Aboard the Dreamland Choo-Choo (1964) | 1964                                      |\n",
       "| Sacred Cinema (2012)                      | 2012                                      |\n",
       "\n"
      ],
      "text/plain": [
       "  movie                                     year\n",
       "1 Catnap (2018)                             2018\n",
       "2 Le dernier choc (1932)                    1932\n",
       "3 Sanda (2013)                              2013\n",
       "4 All Aboard the Dreamland Choo-Choo (1964) 1964\n",
       "5 Sacred Cinema (2012)                      2012"
      ]
     },
     "metadata": {},
     "output_type": "display_data"
    },
    {
     "data": {
      "text/plain": [
       "                                         movie              year     \n",
       " ''The Shot'' (2012)                        :      1   Min.   :1874  \n",
       " '...nettirwnU' (2005)                      :      1   1st Qu.:1969  \n",
       " '_____' (Insert Superhero Name Here) (2013):      1   Median :2006  \n",
       " '06: The Big One (2006)                    :      1   Mean   :1987  \n",
       " '11' (1980)                                :      1   3rd Qu.:2013  \n",
       " '14 oktobar' (1968)                        :      1   Max.   :2115  \n",
       " (Other)                                    :1024446                 "
      ]
     },
     "metadata": {},
     "output_type": "display_data"
    }
   ],
   "source": [
    "# printing movie CSV info\n",
    "print(paste0(\"---- df_movies, n=\", count(df_movies)))\n",
    "sample_n(df_movies, 5)\n",
    "summary(df_movies)"
   ]
  },
  {
   "cell_type": "code",
   "execution_count": 8,
   "metadata": {},
   "outputs": [
    {
     "name": "stdout",
     "output_type": "stream",
     "text": [
      "[1] \"---- df_releases, n=1724262\"\n"
     ]
    },
    {
     "data": {
      "text/html": [
       "<table>\n",
       "<thead><tr><th scope=col>movie</th><th scope=col>month</th><th scope=col>year</th></tr></thead>\n",
       "<tbody>\n",
       "\t<tr><td>The Heat (2013/I)    </td><td>October              </td><td>2013                 </td></tr>\n",
       "\t<tr><td>La vie à venir (2016)</td><td>November             </td><td>2016                 </td></tr>\n",
       "\t<tr><td>Cannonball! (1984)   </td><td>NA                   </td><td>1984                 </td></tr>\n",
       "\t<tr><td>Convictions (2016)   </td><td>March                </td><td>2017                 </td></tr>\n",
       "\t<tr><td>Dumbo (1941)         </td><td>November             </td><td>1942                 </td></tr>\n",
       "</tbody>\n",
       "</table>\n"
      ],
      "text/latex": [
       "\\begin{tabular}{r|lll}\n",
       " movie & month & year\\\\\n",
       "\\hline\n",
       "\t The Heat (2013/I)     & October               & 2013                 \\\\\n",
       "\t La vie à venir (2016) & November              & 2016                 \\\\\n",
       "\t Cannonball! (1984)    & NA                    & 1984                 \\\\\n",
       "\t Convictions (2016)    & March                 & 2017                 \\\\\n",
       "\t Dumbo (1941)          & November              & 1942                 \\\\\n",
       "\\end{tabular}\n"
      ],
      "text/markdown": [
       "\n",
       "| movie | month | year |\n",
       "|---|---|---|\n",
       "| The Heat (2013/I)     | October               | 2013                  |\n",
       "| La vie à venir (2016) | November              | 2016                  |\n",
       "| Cannonball! (1984)    | NA                    | 1984                  |\n",
       "| Convictions (2016)    | March                 | 2017                  |\n",
       "| Dumbo (1941)          | November              | 1942                  |\n",
       "\n"
      ],
      "text/plain": [
       "  movie                 month    year\n",
       "1 The Heat (2013/I)     October  2013\n",
       "2 La vie à venir (2016) November 2016\n",
       "3 Cannonball! (1984)    NA       1984\n",
       "4 Convictions (2016)    March    2017\n",
       "5 Dumbo (1941)          November 1942"
      ]
     },
     "metadata": {},
     "output_type": "display_data"
    },
    {
     "data": {
      "text/plain": [
       "                                    movie               month       \n",
       " Maudie (2016)                         :    284   October  :185018  \n",
       " Mirror (2016/VI)                      :    193   November :154897  \n",
       " 4242 (2016)                           :    179   September:154526  \n",
       " Snow White and the Seven Dwarfs (1937):    153   April    :144281  \n",
       " The Imitation Game (2014)             :    144   March    :135903  \n",
       " Bakemono no ko (2015)                 :    143   (Other)  :829148  \n",
       " (Other)                               :1723166   NA's     :120489  \n",
       "      year     \n",
       " Min.   :1874  \n",
       " 1st Qu.:1979  \n",
       " Median :2006  \n",
       " Mean   :1992  \n",
       " 3rd Qu.:2013  \n",
       " Max.   :2115  \n",
       "               "
      ]
     },
     "metadata": {},
     "output_type": "display_data"
    }
   ],
   "source": [
    "# printing release CSV info\n",
    "print(paste0(\"---- df_releases, n=\", count(df_releases)))\n",
    "sample_n(df_releases, 5)\n",
    "summary(df_releases)"
   ]
  },
  {
   "cell_type": "code",
   "execution_count": 9,
   "metadata": {},
   "outputs": [
    {
     "name": "stdout",
     "output_type": "stream",
     "text": [
      "[1] \"---- df_runtimes, n=283155\"\n"
     ]
    },
    {
     "data": {
      "text/html": [
       "<table>\n",
       "<thead><tr><th scope=col>movie</th><th scope=col>runtime</th></tr></thead>\n",
       "<tbody>\n",
       "\t<tr><td>The Heaven Is Only Open to the Single! (2012)</td><td> 95                                          </td></tr>\n",
       "\t<tr><td>Rajkumar (2008)                              </td><td>155                                          </td></tr>\n",
       "\t<tr><td>Shikijô joshibenjo: Shitataru! (1995)        </td><td> 60                                          </td></tr>\n",
       "\t<tr><td>Foolad-e Mobarakeh (1997)                    </td><td> 65                                          </td></tr>\n",
       "\t<tr><td>Ma and Pa Kettle at the Fair (1952)          </td><td> 78                                          </td></tr>\n",
       "</tbody>\n",
       "</table>\n"
      ],
      "text/latex": [
       "\\begin{tabular}{r|ll}\n",
       " movie & runtime\\\\\n",
       "\\hline\n",
       "\t The Heaven Is Only Open to the Single! (2012) &  95                                          \\\\\n",
       "\t Rajkumar (2008)                               & 155                                          \\\\\n",
       "\t Shikijô joshibenjo: Shitataru! (1995)         &  60                                          \\\\\n",
       "\t Foolad-e Mobarakeh (1997)                     &  65                                          \\\\\n",
       "\t Ma and Pa Kettle at the Fair (1952)           &  78                                          \\\\\n",
       "\\end{tabular}\n"
      ],
      "text/markdown": [
       "\n",
       "| movie | runtime |\n",
       "|---|---|\n",
       "| The Heaven Is Only Open to the Single! (2012) |  95                                           |\n",
       "| Rajkumar (2008)                               | 155                                           |\n",
       "| Shikijô joshibenjo: Shitataru! (1995)         |  60                                           |\n",
       "| Foolad-e Mobarakeh (1997)                     |  65                                           |\n",
       "| Ma and Pa Kettle at the Fair (1952)           |  78                                           |\n",
       "\n"
      ],
      "text/plain": [
       "  movie                                         runtime\n",
       "1 The Heaven Is Only Open to the Single! (2012)  95    \n",
       "2 Rajkumar (2008)                               155    \n",
       "3 Shikijô joshibenjo: Shitataru! (1995)          60    \n",
       "4 Foolad-e Mobarakeh (1997)                      65    \n",
       "5 Ma and Pa Kettle at the Fair (1952)            78    "
      ]
     },
     "metadata": {},
     "output_type": "display_data"
    },
    {
     "data": {
      "text/plain": [
       "                         movie           runtime        \n",
       " Der heiße Tod (1969)       :    10   Min.   :    60.0  \n",
       " Die freudlose Gasse (1925) :    10   1st Qu.:    80.0  \n",
       " Shichinin no samurai (1954):    10   Median :    90.0  \n",
       " Braindead (1992)           :     9   Mean   :    94.5  \n",
       " Ai no korîda (1976)        :     8   3rd Qu.:   101.0  \n",
       " Cleopatra (1963)           :     8   Max.   :125156.0  \n",
       " (Other)                    :283100                     "
      ]
     },
     "metadata": {},
     "output_type": "display_data"
    }
   ],
   "source": [
    "# printing runtime CSV info\n",
    "print(paste0(\"---- df_runtimes, n=\", count(df_runtimes)))\n",
    "sample_n(df_runtimes, 5)\n",
    "summary(df_runtimes)"
   ]
  },
  {
   "cell_type": "code",
   "execution_count": 10,
   "metadata": {},
   "outputs": [],
   "source": [
    "############## COUNT/DISTRIBUTION TABLES BELOW ##############"
   ]
  },
  {
   "cell_type": "code",
   "execution_count": 61,
   "metadata": {},
   "outputs": [
    {
     "data": {
      "text/html": [
       "<table>\n",
       "<thead><tr><th scope=col>year</th><th scope=col>count</th></tr></thead>\n",
       "<tbody>\n",
       "\t<tr><td>2099</td><td>   0</td></tr>\n",
       "\t<tr><td>1937</td><td>3003</td></tr>\n",
       "\t<tr><td>1927</td><td>3113</td></tr>\n",
       "\t<tr><td>1992</td><td>5674</td></tr>\n",
       "\t<tr><td>2026</td><td>   1</td></tr>\n",
       "\t<tr><td>1874</td><td>   1</td></tr>\n",
       "\t<tr><td>2047</td><td>   0</td></tr>\n",
       "\t<tr><td>2110</td><td>   0</td></tr>\n",
       "\t<tr><td>1996</td><td>6597</td></tr>\n",
       "\t<tr><td>2085</td><td>   0</td></tr>\n",
       "</tbody>\n",
       "</table>\n"
      ],
      "text/latex": [
       "\\begin{tabular}{r|ll}\n",
       " year & count\\\\\n",
       "\\hline\n",
       "\t 2099 &    0\\\\\n",
       "\t 1937 & 3003\\\\\n",
       "\t 1927 & 3113\\\\\n",
       "\t 1992 & 5674\\\\\n",
       "\t 2026 &    1\\\\\n",
       "\t 1874 &    1\\\\\n",
       "\t 2047 &    0\\\\\n",
       "\t 2110 &    0\\\\\n",
       "\t 1996 & 6597\\\\\n",
       "\t 2085 &    0\\\\\n",
       "\\end{tabular}\n"
      ],
      "text/markdown": [
       "\n",
       "| year | count |\n",
       "|---|---|\n",
       "| 2099 |    0 |\n",
       "| 1937 | 3003 |\n",
       "| 1927 | 3113 |\n",
       "| 1992 | 5674 |\n",
       "| 2026 |    1 |\n",
       "| 1874 |    1 |\n",
       "| 2047 |    0 |\n",
       "| 2110 |    0 |\n",
       "| 1996 | 6597 |\n",
       "| 2085 |    0 |\n",
       "\n"
      ],
      "text/plain": [
       "   year count\n",
       "1  2099    0 \n",
       "2  1937 3003 \n",
       "3  1927 3113 \n",
       "4  1992 5674 \n",
       "5  2026    1 \n",
       "6  1874    1 \n",
       "7  2047    0 \n",
       "8  2110    0 \n",
       "9  1996 6597 \n",
       "10 2085    0 "
      ]
     },
     "metadata": {},
     "output_type": "display_data"
    },
    {
     "name": "stdout",
     "output_type": "stream",
     "text": [
      "[1] \"---- total counted= 1024452\"\n",
      "[1] \"---- unique years= 242\"\n"
     ]
    }
   ],
   "source": [
    "# get a count of movies from each year (earliest movie in 1874, latest movie in 2115)\n",
    "\n",
    "# create empty dataframe of all years in range 1874-2115\n",
    "all_years <- data.frame(formatC(1874:2115, width = 2), 0)\n",
    "names(all_years)[1] <- \"year\"\n",
    "names(all_years)[2] <- \"count\"\n",
    "all_years$year <- c(1874:2115)\n",
    "\n",
    "# make dataframe of available years and their frequency\n",
    "by_year <- df_movies %>% group_by(year) %>% summarize(count = n())\n",
    "\n",
    "# join the counts into the full range of years dataframe\n",
    "by_year <- full_join(all_years, by_year, by = \"year\")\n",
    "by_year[is.na(by_year)] <- 0\n",
    "by_year$count.x <- NULL\n",
    "names(by_year)[2] <- \"count\"\n",
    "\n",
    "# output info\n",
    "sample_n(by_year, 10)\n",
    "total_films = as.numeric(sum(by_year$count))\n",
    "print(paste0(\"---- total counted= \", total_films))\n",
    "unique_years = as.numeric(count(by_year))\n",
    "print(paste0(\"---- unique years= \", unique_years))"
   ]
  },
  {
   "cell_type": "code",
   "execution_count": 49,
   "metadata": {},
   "outputs": [
    {
     "name": "stderr",
     "output_type": "stream",
     "text": [
      "Warning message:\n",
      "\"Factor `month` contains implicit NA, consider using `forcats::fct_explicit_na`\""
     ]
    },
    {
     "data": {
      "text/html": [
       "<table>\n",
       "<thead><tr><th scope=col>month</th><th scope=col>count</th></tr></thead>\n",
       "<tbody>\n",
       "\t<tr><td>January  </td><td>119598   </td></tr>\n",
       "\t<tr><td>February </td><td>114326   </td></tr>\n",
       "\t<tr><td>March    </td><td>135903   </td></tr>\n",
       "\t<tr><td>April    </td><td>144281   </td></tr>\n",
       "\t<tr><td>May      </td><td>129916   </td></tr>\n",
       "\t<tr><td>June     </td><td>126094   </td></tr>\n",
       "\t<tr><td>July     </td><td>111870   </td></tr>\n",
       "\t<tr><td>August   </td><td>114394   </td></tr>\n",
       "\t<tr><td>September</td><td>154526   </td></tr>\n",
       "\t<tr><td>October  </td><td>185018   </td></tr>\n",
       "\t<tr><td>November </td><td>154897   </td></tr>\n",
       "\t<tr><td>December </td><td>112950   </td></tr>\n",
       "\t<tr><td>NA       </td><td>120489   </td></tr>\n",
       "</tbody>\n",
       "</table>\n"
      ],
      "text/latex": [
       "\\begin{tabular}{r|ll}\n",
       " month & count\\\\\n",
       "\\hline\n",
       "\t January   & 119598   \\\\\n",
       "\t February  & 114326   \\\\\n",
       "\t March     & 135903   \\\\\n",
       "\t April     & 144281   \\\\\n",
       "\t May       & 129916   \\\\\n",
       "\t June      & 126094   \\\\\n",
       "\t July      & 111870   \\\\\n",
       "\t August    & 114394   \\\\\n",
       "\t September & 154526   \\\\\n",
       "\t October   & 185018   \\\\\n",
       "\t November  & 154897   \\\\\n",
       "\t December  & 112950   \\\\\n",
       "\t NA        & 120489   \\\\\n",
       "\\end{tabular}\n"
      ],
      "text/markdown": [
       "\n",
       "| month | count |\n",
       "|---|---|\n",
       "| January   | 119598    |\n",
       "| February  | 114326    |\n",
       "| March     | 135903    |\n",
       "| April     | 144281    |\n",
       "| May       | 129916    |\n",
       "| June      | 126094    |\n",
       "| July      | 111870    |\n",
       "| August    | 114394    |\n",
       "| September | 154526    |\n",
       "| October   | 185018    |\n",
       "| November  | 154897    |\n",
       "| December  | 112950    |\n",
       "| NA        | 120489    |\n",
       "\n"
      ],
      "text/plain": [
       "   month     count \n",
       "1  January   119598\n",
       "2  February  114326\n",
       "3  March     135903\n",
       "4  April     144281\n",
       "5  May       129916\n",
       "6  June      126094\n",
       "7  July      111870\n",
       "8  August    114394\n",
       "9  September 154526\n",
       "10 October   185018\n",
       "11 November  154897\n",
       "12 December  112950\n",
       "13 NA        120489"
      ]
     },
     "metadata": {},
     "output_type": "display_data"
    },
    {
     "name": "stdout",
     "output_type": "stream",
     "text": [
      "[1] \"---- total counted= 1724262\"\n",
      "[1] \"---- unique months= 13\"\n"
     ]
    }
   ],
   "source": [
    "# get a count of movies from each month\n",
    "by_month <- df_releases %>% group_by(month) %>% summarize(count = n())\n",
    "\n",
    "# reorder months to be in order\n",
    "by_month$month <- factor(by_month$month, levels = c(\"January\", \"February\", \"March\", \"April\", \"May\", \"June\", \"July\", \"August\", \"September\", \"October\", \"November\", \"December\"))\n",
    "by_month <- by_month[order(by_month$month), ]\n",
    "\n",
    "# output info\n",
    "by_month\n",
    "print(paste0(\"---- total counted= \", month_sum))\n",
    "unique_months = as.numeric(count(by_month))\n",
    "print(paste0(\"---- unique months= \", unique_months))"
   ]
  },
  {
   "cell_type": "code",
   "execution_count": 35,
   "metadata": {},
   "outputs": [
    {
     "data": {
      "text/html": [
       "<table>\n",
       "<thead><tr><th scope=col>runtime</th><th scope=col>count</th></tr></thead>\n",
       "<tbody>\n",
       "\t<tr><td>60  </td><td>8158</td></tr>\n",
       "\t<tr><td>61  </td><td>1988</td></tr>\n",
       "\t<tr><td>62  </td><td>2012</td></tr>\n",
       "\t<tr><td>63  </td><td>1898</td></tr>\n",
       "\t<tr><td>64  </td><td>1640</td></tr>\n",
       "\t<tr><td>65  </td><td>2743</td></tr>\n",
       "\t<tr><td>66  </td><td>1520</td></tr>\n",
       "\t<tr><td>67  </td><td>1875</td></tr>\n",
       "\t<tr><td>68  </td><td>1925</td></tr>\n",
       "\t<tr><td>69  </td><td>1535</td></tr>\n",
       "</tbody>\n",
       "</table>\n"
      ],
      "text/latex": [
       "\\begin{tabular}{r|ll}\n",
       " runtime & count\\\\\n",
       "\\hline\n",
       "\t 60   & 8158\\\\\n",
       "\t 61   & 1988\\\\\n",
       "\t 62   & 2012\\\\\n",
       "\t 63   & 1898\\\\\n",
       "\t 64   & 1640\\\\\n",
       "\t 65   & 2743\\\\\n",
       "\t 66   & 1520\\\\\n",
       "\t 67   & 1875\\\\\n",
       "\t 68   & 1925\\\\\n",
       "\t 69   & 1535\\\\\n",
       "\\end{tabular}\n"
      ],
      "text/markdown": [
       "\n",
       "| runtime | count |\n",
       "|---|---|\n",
       "| 60   | 8158 |\n",
       "| 61   | 1988 |\n",
       "| 62   | 2012 |\n",
       "| 63   | 1898 |\n",
       "| 64   | 1640 |\n",
       "| 65   | 2743 |\n",
       "| 66   | 1520 |\n",
       "| 67   | 1875 |\n",
       "| 68   | 1925 |\n",
       "| 69   | 1535 |\n",
       "\n"
      ],
      "text/plain": [
       "   runtime count\n",
       "1  60      8158 \n",
       "2  61      1988 \n",
       "3  62      2012 \n",
       "4  63      1898 \n",
       "5  64      1640 \n",
       "6  65      2743 \n",
       "7  66      1520 \n",
       "8  67      1875 \n",
       "9  68      1925 \n",
       "10 69      1535 "
      ]
     },
     "metadata": {},
     "output_type": "display_data"
    },
    {
     "name": "stdout",
     "output_type": "stream",
     "text": [
      "[1] \"---- total counted= 283155\"\n",
      "[1] \"---- unique runtimes= 125102\"\n"
     ]
    }
   ],
   "source": [
    "# get a distribution of runtimes (quickest movie is 60.0, longest movie is 125156.0)\n",
    "\n",
    "# create empty dataframe of all runtimes in range 60-125156\n",
    "all_runtimes <- data.frame(formatC(60:125156, width = 2), 0)\n",
    "names(all_runtimes)[1] <- \"runtime\"\n",
    "names(all_runtimes)[2] <- \"count\"\n",
    "all_runtimes$runtime <- c(60:125156)\n",
    "\n",
    "# make dataframe of available runtimes and their frequency\n",
    "by_runtime <- df_runtimes %>% group_by(runtime) %>% summarize(count = n())\n",
    "\n",
    "# join the counts into the full range of years dataframe\n",
    "by_runtime <- full_join(all_runtimes, by_runtime, by = \"runtime\")\n",
    "by_runtime[is.na(by_runtime)] <- 0\n",
    "by_runtime$count.x <- NULL\n",
    "names(by_runtime)[2] <- \"count\"\n",
    "\n",
    "# output info\n",
    "head(by_runtime, 10)\n",
    "print(paste0(\"---- total counted= \", sum(by_runtime$count)))\n",
    "unique_runtimes = as.numeric(count(by_runtime))\n",
    "print(paste0(\"---- unique runtimes= \", unique_runtimes))"
   ]
  },
  {
   "cell_type": "code",
   "execution_count": 36,
   "metadata": {},
   "outputs": [
    {
     "data": {
      "text/html": [
       "<table>\n",
       "<thead><tr><th scope=col>rating</th><th scope=col>count</th></tr></thead>\n",
       "<tbody>\n",
       "\t<tr><td>USA:(Banned)</td><td>    4       </td></tr>\n",
       "\t<tr><td>USA:12      </td><td>   16       </td></tr>\n",
       "\t<tr><td>USA:AO      </td><td>   20       </td></tr>\n",
       "\t<tr><td>USA:Approved</td><td>13864       </td></tr>\n",
       "\t<tr><td>USA:G       </td><td> 2214       </td></tr>\n",
       "\t<tr><td>USA:GA      </td><td>    1       </td></tr>\n",
       "\t<tr><td>USA:GP      </td><td>  328       </td></tr>\n",
       "\t<tr><td>USA:Open    </td><td>   33       </td></tr>\n",
       "\t<tr><td>USA:Passed  </td><td> 7327       </td></tr>\n",
       "\t<tr><td>USA:PG      </td><td> 5510       </td></tr>\n",
       "\t<tr><td>USA:PG-13   </td><td> 5337       </td></tr>\n",
       "\t<tr><td>USA:R       </td><td>16302       </td></tr>\n",
       "\t<tr><td>USA:Unrated </td><td> 4611       </td></tr>\n",
       "</tbody>\n",
       "</table>\n"
      ],
      "text/latex": [
       "\\begin{tabular}{r|ll}\n",
       " rating & count\\\\\n",
       "\\hline\n",
       "\t USA:(Banned) &     4       \\\\\n",
       "\t USA:12       &    16       \\\\\n",
       "\t USA:AO       &    20       \\\\\n",
       "\t USA:Approved & 13864       \\\\\n",
       "\t USA:G        &  2214       \\\\\n",
       "\t USA:GA       &     1       \\\\\n",
       "\t USA:GP       &   328       \\\\\n",
       "\t USA:Open     &    33       \\\\\n",
       "\t USA:Passed   &  7327       \\\\\n",
       "\t USA:PG       &  5510       \\\\\n",
       "\t USA:PG-13    &  5337       \\\\\n",
       "\t USA:R        & 16302       \\\\\n",
       "\t USA:Unrated  &  4611       \\\\\n",
       "\\end{tabular}\n"
      ],
      "text/markdown": [
       "\n",
       "| rating | count |\n",
       "|---|---|\n",
       "| USA:(Banned) |     4        |\n",
       "| USA:12       |    16        |\n",
       "| USA:AO       |    20        |\n",
       "| USA:Approved | 13864        |\n",
       "| USA:G        |  2214        |\n",
       "| USA:GA       |     1        |\n",
       "| USA:GP       |   328        |\n",
       "| USA:Open     |    33        |\n",
       "| USA:Passed   |  7327        |\n",
       "| USA:PG       |  5510        |\n",
       "| USA:PG-13    |  5337        |\n",
       "| USA:R        | 16302        |\n",
       "| USA:Unrated  |  4611        |\n",
       "\n"
      ],
      "text/plain": [
       "   rating       count\n",
       "1  USA:(Banned)     4\n",
       "2  USA:12          16\n",
       "3  USA:AO          20\n",
       "4  USA:Approved 13864\n",
       "5  USA:G         2214\n",
       "6  USA:GA           1\n",
       "7  USA:GP         328\n",
       "8  USA:Open        33\n",
       "9  USA:Passed    7327\n",
       "10 USA:PG        5510\n",
       "11 USA:PG-13     5337\n",
       "12 USA:R        16302\n",
       "13 USA:Unrated   4611"
      ]
     },
     "metadata": {},
     "output_type": "display_data"
    },
    {
     "name": "stdout",
     "output_type": "stream",
     "text": [
      "[1] \"---- total counted= 55567\"\n",
      "[1] \"---- unique certificates= 13\"\n"
     ]
    }
   ],
   "source": [
    "# get a distribution of certificate\n",
    "by_certificates <- df_certificates %>% group_by(rating) %>% summarize(count = n())\n",
    "\n",
    "# output info\n",
    "by_certificates\n",
    "print(paste0(\"---- total counted= \", sum(by_certificates$count)))\n",
    "unique_certificates = as.numeric(count(by_certificates))\n",
    "print(paste0(\"---- unique certificates= \", unique_certificates))"
   ]
  },
  {
   "cell_type": "code",
   "execution_count": 37,
   "metadata": {},
   "outputs": [
    {
     "name": "stderr",
     "output_type": "stream",
     "text": [
      "Selecting by count\n"
     ]
    },
    {
     "data": {
      "text/html": [
       "<table>\n",
       "<thead><tr><th scope=col>keyword</th><th scope=col>count</th></tr></thead>\n",
       "<tbody>\n",
       "\t<tr><td>based-on-novel           </td><td>22626                    </td></tr>\n",
       "\t<tr><td>character-name-in-title  </td><td>21769                    </td></tr>\n",
       "\t<tr><td>death                    </td><td>12710                    </td></tr>\n",
       "\t<tr><td>f-rated                  </td><td>18253                    </td></tr>\n",
       "\t<tr><td>female-nudity            </td><td>15146                    </td></tr>\n",
       "\t<tr><td>husband-wife-relationship</td><td> 9888                    </td></tr>\n",
       "\t<tr><td>independent-film         </td><td>34932                    </td></tr>\n",
       "\t<tr><td>murder                   </td><td>19321                    </td></tr>\n",
       "\t<tr><td>sex                      </td><td>17555                    </td></tr>\n",
       "\t<tr><td>violence                 </td><td> 9823                    </td></tr>\n",
       "</tbody>\n",
       "</table>\n"
      ],
      "text/latex": [
       "\\begin{tabular}{r|ll}\n",
       " keyword & count\\\\\n",
       "\\hline\n",
       "\t based-on-novel            & 22626                    \\\\\n",
       "\t character-name-in-title   & 21769                    \\\\\n",
       "\t death                     & 12710                    \\\\\n",
       "\t f-rated                   & 18253                    \\\\\n",
       "\t female-nudity             & 15146                    \\\\\n",
       "\t husband-wife-relationship &  9888                    \\\\\n",
       "\t independent-film          & 34932                    \\\\\n",
       "\t murder                    & 19321                    \\\\\n",
       "\t sex                       & 17555                    \\\\\n",
       "\t violence                  &  9823                    \\\\\n",
       "\\end{tabular}\n"
      ],
      "text/markdown": [
       "\n",
       "| keyword | count |\n",
       "|---|---|\n",
       "| based-on-novel            | 22626                     |\n",
       "| character-name-in-title   | 21769                     |\n",
       "| death                     | 12710                     |\n",
       "| f-rated                   | 18253                     |\n",
       "| female-nudity             | 15146                     |\n",
       "| husband-wife-relationship |  9888                     |\n",
       "| independent-film          | 34932                     |\n",
       "| murder                    | 19321                     |\n",
       "| sex                       | 17555                     |\n",
       "| violence                  |  9823                     |\n",
       "\n"
      ],
      "text/plain": [
       "   keyword                   count\n",
       "1  based-on-novel            22626\n",
       "2  character-name-in-title   21769\n",
       "3  death                     12710\n",
       "4  f-rated                   18253\n",
       "5  female-nudity             15146\n",
       "6  husband-wife-relationship  9888\n",
       "7  independent-film          34932\n",
       "8  murder                    19321\n",
       "9  sex                       17555\n",
       "10 violence                   9823"
      ]
     },
     "metadata": {},
     "output_type": "display_data"
    },
    {
     "name": "stdout",
     "output_type": "stream",
     "text": [
      "[1] \"---- total counted= 3763298\"\n",
      "[1] \"---- unique keywords= 32370\"\n"
     ]
    }
   ],
   "source": [
    "# get a distribution of top n keywords\n",
    "by_keywords <- df_keywords %>% group_by(keyword) %>% summarize(count = n())\n",
    "\n",
    "# output info\n",
    "top_n(by_keywords, 10)\n",
    "print(paste0(\"---- total counted= \", sum(by_keywords$count)))\n",
    "unique_keywords = as.numeric(count(by_keywords))\n",
    "print(paste0(\"---- unique keywords= \", unique_keywords))"
   ]
  },
  {
   "cell_type": "code",
   "execution_count": 38,
   "metadata": {},
   "outputs": [
    {
     "data": {
      "text/html": [
       "<table>\n",
       "<thead><tr><th scope=col>keyword</th><th scope=col>count</th></tr></thead>\n",
       "<tbody>\n",
       "\t<tr><td>eco-activist     </td><td> 43              </td></tr>\n",
       "\t<tr><td>parent           </td><td>141              </td></tr>\n",
       "\t<tr><td>mockery          </td><td> 54              </td></tr>\n",
       "\t<tr><td>whipping-someone </td><td> 21              </td></tr>\n",
       "\t<tr><td>sexual-perversion</td><td>245              </td></tr>\n",
       "\t<tr><td>title-in-song    </td><td> 28              </td></tr>\n",
       "\t<tr><td>bad-manners      </td><td> 12              </td></tr>\n",
       "\t<tr><td>manipulator      </td><td> 10              </td></tr>\n",
       "\t<tr><td>impressionist    </td><td> 16              </td></tr>\n",
       "\t<tr><td>single-mom       </td><td> 18              </td></tr>\n",
       "</tbody>\n",
       "</table>\n"
      ],
      "text/latex": [
       "\\begin{tabular}{r|ll}\n",
       " keyword & count\\\\\n",
       "\\hline\n",
       "\t eco-activist      &  43              \\\\\n",
       "\t parent            & 141              \\\\\n",
       "\t mockery           &  54              \\\\\n",
       "\t whipping-someone  &  21              \\\\\n",
       "\t sexual-perversion & 245              \\\\\n",
       "\t title-in-song     &  28              \\\\\n",
       "\t bad-manners       &  12              \\\\\n",
       "\t manipulator       &  10              \\\\\n",
       "\t impressionist     &  16              \\\\\n",
       "\t single-mom        &  18              \\\\\n",
       "\\end{tabular}\n"
      ],
      "text/markdown": [
       "\n",
       "| keyword | count |\n",
       "|---|---|\n",
       "| eco-activist      |  43               |\n",
       "| parent            | 141               |\n",
       "| mockery           |  54               |\n",
       "| whipping-someone  |  21               |\n",
       "| sexual-perversion | 245               |\n",
       "| title-in-song     |  28               |\n",
       "| bad-manners       |  12               |\n",
       "| manipulator       |  10               |\n",
       "| impressionist     |  16               |\n",
       "| single-mom        |  18               |\n",
       "\n"
      ],
      "text/plain": [
       "   keyword           count\n",
       "1  eco-activist       43  \n",
       "2  parent            141  \n",
       "3  mockery            54  \n",
       "4  whipping-someone   21  \n",
       "5  sexual-perversion 245  \n",
       "6  title-in-song      28  \n",
       "7  bad-manners        12  \n",
       "8  manipulator        10  \n",
       "9  impressionist      16  \n",
       "10 single-mom         18  "
      ]
     },
     "metadata": {},
     "output_type": "display_data"
    },
    {
     "name": "stdout",
     "output_type": "stream",
     "text": [
      "[1] \"---- total counted= 1340551\"\n",
      "[1] \"---- unique genres= 22\"\n"
     ]
    }
   ],
   "source": [
    "# get a distribution of genres\n",
    "by_genre <- df_genres %>% group_by(genre) %>% summarize(count = n())\n",
    "\n",
    "# output info\n",
    "sample_n(by_keywords, 10)\n",
    "print(paste0(\"---- total counted= \", sum(by_genre$count)))\n",
    "unique_genres = as.numeric(count(by_genre))\n",
    "print(paste0(\"---- unique genres= \", unique_genres))"
   ]
  },
  {
   "cell_type": "code",
   "execution_count": null,
   "metadata": {},
   "outputs": [],
   "source": [
    "############## AVERAGES BELOW ##############"
   ]
  },
  {
   "cell_type": "code",
   "execution_count": 69,
   "metadata": {},
   "outputs": [
    {
     "name": "stdout",
     "output_type": "stream",
     "text": [
      "[1] \"---- avg films per year= 4233\"\n",
      "[1] \"---- avg films per month= 548\"\n"
     ]
    },
    {
     "data": {
      "text/html": [
       "<table>\n",
       "<thead><tr><th scope=col>month</th><th scope=col>average</th></tr></thead>\n",
       "<tbody>\n",
       "\t<tr><td>January  </td><td>494.2066 </td></tr>\n",
       "\t<tr><td>February </td><td>472.4215 </td></tr>\n",
       "\t<tr><td>March    </td><td>561.5826 </td></tr>\n",
       "\t<tr><td>April    </td><td>596.2025 </td></tr>\n",
       "\t<tr><td>May      </td><td>536.8430 </td></tr>\n",
       "\t<tr><td>June     </td><td>521.0496 </td></tr>\n",
       "\t<tr><td>July     </td><td>462.2727 </td></tr>\n",
       "\t<tr><td>August   </td><td>472.7025 </td></tr>\n",
       "\t<tr><td>September</td><td>638.5372 </td></tr>\n",
       "\t<tr><td>October  </td><td>764.5372 </td></tr>\n",
       "\t<tr><td>November </td><td>640.0702 </td></tr>\n",
       "\t<tr><td>December </td><td>466.7355 </td></tr>\n",
       "\t<tr><td>NA       </td><td>497.8884 </td></tr>\n",
       "</tbody>\n",
       "</table>\n"
      ],
      "text/latex": [
       "\\begin{tabular}{r|ll}\n",
       " month & average\\\\\n",
       "\\hline\n",
       "\t January   & 494.2066 \\\\\n",
       "\t February  & 472.4215 \\\\\n",
       "\t March     & 561.5826 \\\\\n",
       "\t April     & 596.2025 \\\\\n",
       "\t May       & 536.8430 \\\\\n",
       "\t June      & 521.0496 \\\\\n",
       "\t July      & 462.2727 \\\\\n",
       "\t August    & 472.7025 \\\\\n",
       "\t September & 638.5372 \\\\\n",
       "\t October   & 764.5372 \\\\\n",
       "\t November  & 640.0702 \\\\\n",
       "\t December  & 466.7355 \\\\\n",
       "\t NA        & 497.8884 \\\\\n",
       "\\end{tabular}\n"
      ],
      "text/markdown": [
       "\n",
       "| month | average |\n",
       "|---|---|\n",
       "| January   | 494.2066  |\n",
       "| February  | 472.4215  |\n",
       "| March     | 561.5826  |\n",
       "| April     | 596.2025  |\n",
       "| May       | 536.8430  |\n",
       "| June      | 521.0496  |\n",
       "| July      | 462.2727  |\n",
       "| August    | 472.7025  |\n",
       "| September | 638.5372  |\n",
       "| October   | 764.5372  |\n",
       "| November  | 640.0702  |\n",
       "| December  | 466.7355  |\n",
       "| NA        | 497.8884  |\n",
       "\n"
      ],
      "text/plain": [
       "   month     average \n",
       "1  January   494.2066\n",
       "2  February  472.4215\n",
       "3  March     561.5826\n",
       "4  April     596.2025\n",
       "5  May       536.8430\n",
       "6  June      521.0496\n",
       "7  July      462.2727\n",
       "8  August    472.7025\n",
       "9  September 638.5372\n",
       "10 October   764.5372\n",
       "11 November  640.0702\n",
       "12 December  466.7355\n",
       "13 NA        497.8884"
      ]
     },
     "metadata": {},
     "output_type": "display_data"
    },
    {
     "name": "stdout",
     "output_type": "stream",
     "text": [
      "[1] \"---- avg runtime= 94\"\n"
     ]
    }
   ],
   "source": [
    "# get average films per year, month, and average runtime\n",
    "\n",
    "# average fims per year: sum of films divided by total years observed\n",
    "avg_per_year = trunc(total_films / unique_years)\n",
    "print(paste0(\"---- avg films per year= \", avg_per_year))\n",
    "\n",
    "# average films per month: sum of films each month, each sum divided by total years observed; then average these results\n",
    "avg_by_month <- by_month\n",
    "avg_by_month$count <- by_month$count / unique_years\n",
    "names(avg_by_month)[2] <- \"average\"\n",
    "avg_per_month = trunc(as.numeric(sum(avg_by_month$average) / unique_months))\n",
    "print(paste0(\"---- avg films per month= \", avg_per_month))\n",
    "avg_by_month\n",
    "\n",
    "# average runtime: sum of each runtime divided by total runtime observations\n",
    "avg_runtime = trunc(mean(df_runtimes$runtime))\n",
    "print(paste0(\"---- avg runtime= \", avg_runtime))"
   ]
  },
  {
   "cell_type": "code",
   "execution_count": null,
   "metadata": {},
   "outputs": [],
   "source": []
  },
  {
   "cell_type": "code",
   "execution_count": null,
   "metadata": {},
   "outputs": [],
   "source": [
    "# !!! may need to store this prepared data to RDS for quicker shiny load times !!!\n",
    "# write the cleaned data to RDS file\n",
    "#saveRDS(data, file = \"data.rds\")"
   ]
  }
 ],
 "metadata": {
  "kernelspec": {
   "display_name": "R",
   "language": "R",
   "name": "ir"
  },
  "language_info": {
   "codemirror_mode": "r",
   "file_extension": ".r",
   "mimetype": "text/x-r-source",
   "name": "R",
   "pygments_lexer": "r",
   "version": "3.6.1"
  }
 },
 "nbformat": 4,
 "nbformat_minor": 2
}
