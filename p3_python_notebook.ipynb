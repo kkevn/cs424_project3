{
 "cells": [
  {
   "cell_type": "code",
   "execution_count": 77,
   "metadata": {},
   "outputs": [],
   "source": [
    "import os # for file/directory manipulation\n",
    "import re # for regex split\n",
    "import pandas as pd # for dataframes\n",
    "from collections import defaultdict"
   ]
  },
  {
   "cell_type": "markdown",
   "metadata": {},
   "source": [
    "# Make a new directory to store the new files"
   ]
  },
  {
   "cell_type": "code",
   "execution_count": 3,
   "metadata": {},
   "outputs": [],
   "source": [
    "OLD_FILES_DIRECTORY = './data_files/old_files/'\n",
    "NEW_FILES_DIRECTORY = './data_files/new_files/'\n",
    "\n",
    "if not os.path.exists(OLD_FILES_DIRECTORY): # after files are downloaded, show move them to this directory\n",
    "    os.mkdir(OLD_FILES_DIRECTORY)\n",
    "    \n",
    "if not os.path.exists(NEW_FILES_DIRECTORY):\n",
    "    os.mkdir(NEW_FILES_DIRECTORY)"
   ]
  },
  {
   "cell_type": "markdown",
   "metadata": {},
   "source": [
    "# Read old movie file and write new one"
   ]
  },
  {
   "cell_type": "code",
   "execution_count": 7,
   "metadata": {},
   "outputs": [
    {
     "data": {
      "text/plain": [
       "'Number of Original Titles: 4697742'"
      ]
     },
     "execution_count": 7,
     "metadata": {},
     "output_type": "execute_result"
    }
   ],
   "source": [
    "# LATIN ENCODING SEEMS TO WORK OVER UTF-8; UTF-8/ASCII is not able to decode all the lines\n",
    "with open(OLD_FILES_DIRECTORY + 'movies.list', 'rb') as movie_file: # read as binary file\n",
    "    movie_data_original = [line.decode('latin-1').strip() for line in movie_file.readlines()]"
   ]
  },
  {
   "cell_type": "code",
   "execution_count": 9,
   "metadata": {},
   "outputs": [
    {
     "name": "stdout",
     "output_type": "stream",
     "text": [
      "CRC: 0x8E8DBD74  File: movies.list  Date: Fri Dec 22 00:00:00 2017\n",
      "\n",
      "Copyright 1991-2017 The Internet Movie Database Ltd. All rights reserved.\n",
      "\n",
      "http://www.imdb.com\n",
      "\n",
      "movies.list\n",
      "\n",
      "20 Dec 2017\n",
      "\n",
      "-----------------------------------------------------------------------------\n",
      "\n",
      "MOVIES LIST\n",
      "===========\n",
      "\n",
      "\"!Next?\" (1994)\t\t\t\t\t\t1994-1995\n",
      "\"#1 Single\" (2006)\t\t\t\t\t2006-????\n",
      "\"#1 Single\" (2006) {Cats and Dogs (#1.4)}\t\t2006\n",
      "\"#1 Single\" (2006) {Finishing a Chapter (#1.5)}\t\t2006\n",
      "\"#1 Single\" (2006) {Is the Grass Greener? (#1.1)}\t2006\n",
      "\"#1 Single\" (2006) {Stay (#1.8)}\t\t\t2006\n",
      "\"#1 Single\" (2006) {The Rules of Dating (#1.3)}\t\t2006\n",
      "\"#1 Single\" (2006) {Timing Is Everything (#1.7)}\t2006\n",
      "\"#1 Single\" (2006) {Window Shopping (#1.2)}\t\t2006\n",
      "\"#1 Single\" (2006) {Wingman (#1.6)}\t\t\t2006\n",
      "\"#15SecondScare\" (2015)\t\t\t\t\t2015-????\n",
      "\"#15SecondScare\" (2015) {Beauty Wrap}\t\t\t2016\n",
      "\"#15SecondScare\" (2015) {Because We Don't Want You to Fall Asleep (#1.3)}\t????\n",
      "\"#15SecondScare\" (2015) {Bubbles of Blood (#1.17)}\t2016\n",
      "\"#15SecondScare\" (2015) {Coming and Going (#1.11)}\t????\n"
     ]
    }
   ],
   "source": [
    "# Sample of file \n",
    "for i in range(30):\n",
    "    print(movie_data_original[i])"
   ]
  },
  {
   "cell_type": "code",
   "execution_count": null,
   "metadata": {},
   "outputs": [],
   "source": [
    "# ACTUAL DATA STARTS ON LINE 16, or index 15"
   ]
  },
  {
   "cell_type": "code",
   "execution_count": 32,
   "metadata": {},
   "outputs": [],
   "source": [
    "def write_new_move_file(movie_data_original): # list of lines \n",
    "    movie_file = open(NEW_FILES_DIRECTORY + 'movies.csv', 'w')\n",
    "    movie_file.write('movie,year\\n') # write a header\n",
    "    \n",
    "    # internet doesn't seem to have anything, not reliable\n",
    "    skips = ('(tv)', '(v)', '(vg)', 're-release', 'blu-ray')\n",
    "    \n",
    "    for i in range(15, len(movie_data_original)): # start from 15 cuz before is filler\n",
    "        line = movie_data_original[i]\n",
    "        \n",
    "        if line.startswith('\"'):\n",
    "            continue\n",
    "        try: # some lines may not be in correct format\n",
    "            parts = [x.strip() for x in re.split('\\\\t+', line)] # split by 1 or more tabs\n",
    "            name, year = parts[:2]\n",
    "            if any(skip in name.lower() for skip in skips): # check is any of the skippables are in the name\n",
    "                continue\n",
    "            if '????' in year: # movie should have a defined year\n",
    "                continue\n",
    "            if ',' in name: # surround in quote if name already has comma\n",
    "                movie_file.write(f'\"{name}\",{year}\\n') \n",
    "            else:\n",
    "                movie_file.write(f'{name},{year}\\n') \n",
    "        except Exception as e: # tried to process this line, but failed\n",
    "            print(line, e)\n",
    "            continue\n",
    "    \n",
    "    movie_file.close()\n"
   ]
  },
  {
   "cell_type": "code",
   "execution_count": 33,
   "metadata": {},
   "outputs": [
    {
     "name": "stdout",
     "output_type": "stream",
     "text": [
      "-------------------------------------------------------------------------------- not enough values to unpack (expected 2, got 1)\n"
     ]
    }
   ],
   "source": [
    "write_new_move_file(movie_data_original)"
   ]
  },
  {
   "cell_type": "code",
   "execution_count": 115,
   "metadata": {},
   "outputs": [],
   "source": [
    "movie_data = pd.read_csv(NEW_FILES_DIRECTORY + 'movies.csv')"
   ]
  },
  {
   "cell_type": "code",
   "execution_count": 116,
   "metadata": {},
   "outputs": [
    {
     "data": {
      "text/plain": [
       "'New Data has 1024456 Titles'"
      ]
     },
     "execution_count": 116,
     "metadata": {},
     "output_type": "execute_result"
    }
   ],
   "source": [
    "rows, _ = movie_data.shape\n",
    "f'New Data has {rows} Titles'"
   ]
  },
  {
   "cell_type": "code",
   "execution_count": 117,
   "metadata": {},
   "outputs": [
    {
     "data": {
      "text/html": [
       "<div>\n",
       "<style scoped>\n",
       "    .dataframe tbody tr th:only-of-type {\n",
       "        vertical-align: middle;\n",
       "    }\n",
       "\n",
       "    .dataframe tbody tr th {\n",
       "        vertical-align: top;\n",
       "    }\n",
       "\n",
       "    .dataframe thead th {\n",
       "        text-align: right;\n",
       "    }\n",
       "</style>\n",
       "<table border=\"1\" class=\"dataframe\">\n",
       "  <thead>\n",
       "    <tr style=\"text-align: right;\">\n",
       "      <th></th>\n",
       "      <th>movie</th>\n",
       "      <th>year</th>\n",
       "    </tr>\n",
       "  </thead>\n",
       "  <tbody>\n",
       "    <tr>\n",
       "      <th>0</th>\n",
       "      <td># (2012/I)</td>\n",
       "      <td>2012</td>\n",
       "    </tr>\n",
       "    <tr>\n",
       "      <th>1</th>\n",
       "      <td># (2012/II)</td>\n",
       "      <td>2012</td>\n",
       "    </tr>\n",
       "    <tr>\n",
       "      <th>2</th>\n",
       "      <td># (2014)</td>\n",
       "      <td>2014</td>\n",
       "    </tr>\n",
       "    <tr>\n",
       "      <th>3</th>\n",
       "      <td>#1 (2005)</td>\n",
       "      <td>2005</td>\n",
       "    </tr>\n",
       "    <tr>\n",
       "      <th>4</th>\n",
       "      <td>#1 (2009)</td>\n",
       "      <td>2009</td>\n",
       "    </tr>\n",
       "  </tbody>\n",
       "</table>\n",
       "</div>"
      ],
      "text/plain": [
       "         movie  year\n",
       "0   # (2012/I)  2012\n",
       "1  # (2012/II)  2012\n",
       "2     # (2014)  2014\n",
       "3    #1 (2005)  2005\n",
       "4    #1 (2009)  2009"
      ]
     },
     "execution_count": 117,
     "metadata": {},
     "output_type": "execute_result"
    }
   ],
   "source": [
    "movie_data.head()"
   ]
  },
  {
   "cell_type": "markdown",
   "metadata": {},
   "source": [
    "# Read old certificates file and write new one"
   ]
  },
  {
   "cell_type": "code",
   "execution_count": 12,
   "metadata": {},
   "outputs": [],
   "source": [
    "with open(OLD_FILES_DIRECTORY + 'certificates.list', 'rb') as certificate_file: # read as binary file\n",
    "    certificate_data_original = [line.decode('latin-1').strip() for line in certificate_file.readlines()]"
   ]
  },
  {
   "cell_type": "code",
   "execution_count": 13,
   "metadata": {},
   "outputs": [
    {
     "name": "stdout",
     "output_type": "stream",
     "text": [
      "CRC: 0x1697FD9F  File: certificates.list  Date: Fri Dec 22 00:00:00 2017\n",
      "\n",
      "Copyright 1991-2017 The Internet Movie Database Ltd. All rights reserved.\n",
      "\n",
      "http://www.imdb.com\n",
      "\n",
      "certificates.list\n",
      "\n",
      "2017-12-19\n",
      "\n",
      "-----------------------------------------------------------------------------\n",
      "\n",
      "CERTIFICATES LIST\n",
      "=================\n",
      "\"#1 Single\" (2006)\t\t\t\t\tUSA:TV-PG\n",
      "\"#BlackLove\" (2015) {Bringing Sexy Back (#1.3)}\t\tUSA:TV-14\n",
      "\"#BlackLove\" (2015) {Crash the Party (#1.9)}\t\tUSA:TV-14\n",
      "\"#BlackLove\" (2015) {Feeling Some Kinda Way (#1.7)}\tUSA:TV-14\n",
      "\"#BlackLove\" (2015) {Like a Virgin (#1.4)}\t\tUSA:TV-14\n",
      "\"#BlackLove\" (2015) {Making Lemonade Out of Lemons (#1.2)}\tUSA:TV-14\n",
      "\"#BlackLove\" (2015) {Maybe Baby (#1.8)}\t\t\tUSA:TV-14\n",
      "\"#BlackLove\" (2015) {Miss Independent (#1.5)}\t\tUSA:TV-14\n",
      "\"#BlackLove\" (2015) {Pack Your Bags (#1.6)}\t\tUSA:TV-14\n",
      "\"#BlackLove\" (2015) {Sealing the Deal (#1.10)}\t\tUSA:TV-14\n",
      "\"#BlackLove\" (2015) {Sexy in the City (#1.1)}\t\tUSA:TV-14\n",
      "\"#Hashtag Travel\" (2017)\t\t\t\tUSA:Unrated\n",
      "\"#LoveMonkeyChocolate\" (2014)\t\t\t\tUK:PG\n",
      "\"#LoveMonkeyChocolateFlowers\" (2014)\t\t\tUK:PG\n",
      "\"#SpongeyLeaks\" (2016)\t\t\t\t\tUSA:Not Rated\n",
      "\"#SpongeyLeaks\" (2016) {Leak 2.1: in medias res: Fraudulent Eviction Notices & Bulletproof Vests: Barb's 2nd Abuser (#1.4)}\tUSA:Not Rated\n"
     ]
    }
   ],
   "source": [
    "# Sample of ratings file\n",
    "for i in range(30):\n",
    "    print(certificate_data_original[i])"
   ]
  },
  {
   "cell_type": "code",
   "execution_count": 14,
   "metadata": {},
   "outputs": [],
   "source": [
    "# ACTUAL DATA STARTS ON LINE 15 or index 14"
   ]
  },
  {
   "cell_type": "code",
   "execution_count": 50,
   "metadata": {},
   "outputs": [],
   "source": [
    "def write_new_certificate_file(certificate_data_original): # list of lines \n",
    "    certificate_file = open(NEW_FILES_DIRECTORY + 'certificates.csv', 'w')\n",
    "    certificate_file.write('movie,rating\\n') # write a header\n",
    "    \n",
    "    # internet doesn't seem to have anything, not reliable\n",
    "    skips = ('(tv)', '(v)', '(vg)', 're-release', 'blu-ray')\n",
    "    vg_ratings = 'E, E10+, T, C, M, Not Rated'.split(', ')\n",
    "    \n",
    "    for i in range(14, len(certificate_data_original)): # start from 14 cuz before is filler\n",
    "        line = certificate_data_original[i]\n",
    "        \n",
    "        if line.startswith('\"'):\n",
    "            continue\n",
    "        try: # some lines may not be in correct format\n",
    "            parts = [x.strip() for x in re.split('\\\\t+', line)] # split by 1 or more tabs\n",
    "            name, rating = parts[:2]\n",
    "            if any(skip in name.lower() for skip in skips): # check is any of the skippables are in the name\n",
    "                continue\n",
    "            if 'USA' not in rating: # skip non us ratings\n",
    "                continue\n",
    "            if 'USA:X' in rating or 'USA:NC-17' in rating or 'TV' in rating: # per rubric, skip these ratings\n",
    "                continue\n",
    "            usa, vgr = rating.split(':') \n",
    "            if any(vg_rating in vgf for vg_rating in vg_ratings):  # check if video game\n",
    "                continue\n",
    "            if ',' in name: # surround in quote if name already has comma\n",
    "                certificate_file.write(f'\"{name}\",{rating}\\n') \n",
    "            else:\n",
    "                certificate_file.write(f'{name},{rating}\\n') \n",
    "        except Exception as e: # tried to process this line, but failed\n",
    "            print(line, e)\n",
    "            continue\n",
    "    \n",
    "    certificate_file.close()\n"
   ]
  },
  {
   "cell_type": "code",
   "execution_count": 51,
   "metadata": {},
   "outputs": [
    {
     "name": "stdout",
     "output_type": "stream",
     "text": [
      "-------------------------------------------------------------------------------- not enough values to unpack (expected 2, got 1)\n"
     ]
    }
   ],
   "source": [
    "write_new_certificate_file(certificate_data_original)"
   ]
  },
  {
   "cell_type": "code",
   "execution_count": 52,
   "metadata": {},
   "outputs": [],
   "source": [
    "certificate_data = pd.read_csv(NEW_FILES_DIRECTORY + \"certificates.csv\")"
   ]
  },
  {
   "cell_type": "code",
   "execution_count": 53,
   "metadata": {},
   "outputs": [
    {
     "data": {
      "text/plain": [
       "'New data has 55567 Titles'"
      ]
     },
     "execution_count": 53,
     "metadata": {},
     "output_type": "execute_result"
    }
   ],
   "source": [
    "rows, _ = certificate_data.shape\n",
    "f'New data has {rows} Titles'"
   ]
  },
  {
   "cell_type": "code",
   "execution_count": 54,
   "metadata": {},
   "outputs": [
    {
     "data": {
      "text/html": [
       "<div>\n",
       "<style scoped>\n",
       "    .dataframe tbody tr th:only-of-type {\n",
       "        vertical-align: middle;\n",
       "    }\n",
       "\n",
       "    .dataframe tbody tr th {\n",
       "        vertical-align: top;\n",
       "    }\n",
       "\n",
       "    .dataframe thead th {\n",
       "        text-align: right;\n",
       "    }\n",
       "</style>\n",
       "<table border=\"1\" class=\"dataframe\">\n",
       "  <thead>\n",
       "    <tr style=\"text-align: right;\">\n",
       "      <th></th>\n",
       "      <th>movie</th>\n",
       "      <th>rating</th>\n",
       "    </tr>\n",
       "  </thead>\n",
       "  <tbody>\n",
       "    <tr>\n",
       "      <th>0</th>\n",
       "      <td>#FollowFriday (2016)</td>\n",
       "      <td>USA:Unrated</td>\n",
       "    </tr>\n",
       "    <tr>\n",
       "      <th>1</th>\n",
       "      <td>#OpenSeason (2017)</td>\n",
       "      <td>USA:Unrated</td>\n",
       "    </tr>\n",
       "    <tr>\n",
       "      <th>2</th>\n",
       "      <td>#murderchallenge (2017)</td>\n",
       "      <td>USA:Unrated</td>\n",
       "    </tr>\n",
       "    <tr>\n",
       "      <th>3</th>\n",
       "      <td>$ (1971)</td>\n",
       "      <td>USA:R</td>\n",
       "    </tr>\n",
       "    <tr>\n",
       "      <th>4</th>\n",
       "      <td>$10 Raise (1935)</td>\n",
       "      <td>USA:Approved</td>\n",
       "    </tr>\n",
       "  </tbody>\n",
       "</table>\n",
       "</div>"
      ],
      "text/plain": [
       "                     movie        rating\n",
       "0     #FollowFriday (2016)   USA:Unrated\n",
       "1       #OpenSeason (2017)   USA:Unrated\n",
       "2  #murderchallenge (2017)   USA:Unrated\n",
       "3                 $ (1971)         USA:R\n",
       "4         $10 Raise (1935)  USA:Approved"
      ]
     },
     "execution_count": 54,
     "metadata": {},
     "output_type": "execute_result"
    }
   ],
   "source": [
    "certificate_data.head()"
   ]
  },
  {
   "cell_type": "markdown",
   "metadata": {},
   "source": [
    "# Read old genre file and write new one"
   ]
  },
  {
   "cell_type": "code",
   "execution_count": 55,
   "metadata": {},
   "outputs": [],
   "source": [
    "with open(OLD_FILES_DIRECTORY + 'genres.list', 'rb') as genre_file: # read as binary file\n",
    "    genre_data_original = [line.decode('latin-1').strip() for line in genre_file.readlines()]"
   ]
  },
  {
   "cell_type": "code",
   "execution_count": 76,
   "metadata": {},
   "outputs": [
    {
     "name": "stdout",
     "output_type": "stream",
     "text": [
      "Short    \t 680840\n",
      "Drama    \t 411259\n",
      "Comedy    \t 297238\n",
      "Documentary    \t 263981\n",
      "Adult    \t 82287\n",
      "Thriller    \t 79908\n",
      "Action    \t 79269\n",
      "Romance    \t 79009\n",
      "Music    \t 69599\n",
      "Animation    \t 65035\n",
      "Horror    \t 62687\n",
      "Family    \t 62126\n",
      "Crime    \t 55886\n",
      "Adventure    \t 48554\n",
      "Fantasy    \t 45128\n",
      "Sci-Fi    \t 41402\n",
      "Mystery    \t 37910\n",
      "Biography    \t 31414\n",
      "History    \t 27850\n",
      "Sport    \t 26610\n",
      "Musical    \t 21293\n",
      "War    \t 18570\n",
      "Reality-TV    \t 17921\n",
      "News    \t 16250\n",
      "Western    \t 16111\n",
      "Talk-Show    \t 13732\n",
      "Game-Show    \t 6113\n",
      "Film-Noir    \t 906\n",
      "Reality-tv    \t 45\n",
      "Sci-fi    \t 2\n",
      "Sex    \t 1\n",
      "Lifestyle    \t 1\n",
      "Hardcore    \t 1\n",
      "Experimental    \t 1\n",
      "Erotica    \t 1\n",
      "Commercial    \t 1\n"
     ]
    }
   ],
   "source": [
    "# Sample 1 of genre file \n",
    "for i in range(42, 78): # counts from index 42 to 77\n",
    "    print(genre_data_original[i])"
   ]
  },
  {
   "cell_type": "code",
   "execution_count": 79,
   "metadata": {},
   "outputs": [
    {
     "data": {
      "text/plain": [
       "{'Short': 680840,\n",
       " 'Drama': 411259,\n",
       " 'Comedy': 297238,\n",
       " 'Documentary': 263981,\n",
       " 'Adult': 82287,\n",
       " 'Thriller': 79908,\n",
       " 'Action': 79269,\n",
       " 'Romance': 79009,\n",
       " 'Music': 69599,\n",
       " 'Animation': 65035,\n",
       " 'Horror': 62687,\n",
       " 'Family': 62126,\n",
       " 'Crime': 55886,\n",
       " 'Adventure': 48554,\n",
       " 'Fantasy': 45128,\n",
       " 'Sci-Fi': 41402,\n",
       " 'Mystery': 37910,\n",
       " 'Biography': 31414,\n",
       " 'History': 27850,\n",
       " 'Sport': 26610,\n",
       " 'Musical': 21293,\n",
       " 'War': 18570,\n",
       " 'Reality-TV': 17921,\n",
       " 'News': 16250,\n",
       " 'Western': 16111,\n",
       " 'Talk-Show': 13732,\n",
       " 'Game-Show': 6113,\n",
       " 'Film-Noir': 906,\n",
       " 'Reality-tv': 45,\n",
       " 'Sci-fi': 2,\n",
       " 'Sex': 1,\n",
       " 'Lifestyle': 1,\n",
       " 'Hardcore': 1,\n",
       " 'Experimental': 1,\n",
       " 'Erotica': 1,\n",
       " 'Commercial': 1}"
      ]
     },
     "execution_count": 79,
     "metadata": {},
     "output_type": "execute_result"
    }
   ],
   "source": [
    "genre_counts = dict()\n",
    "for i in range(42, 78): # counts for each genre start from line 43 to 78 or index 42 to 77\n",
    "    line = genre_data_original[i]\n",
    "    movie, count = [x.strip() for x in re.split('\\\\t+', line)]\n",
    "    genre_counts[movie] = int(count)\n",
    "genre_counts"
   ]
  },
  {
   "cell_type": "code",
   "execution_count": 64,
   "metadata": {},
   "outputs": [
    {
     "name": "stdout",
     "output_type": "stream",
     "text": [
      "\n",
      "8: THE GENRES LIST\n",
      "==================\n",
      "\n",
      "\"!Next?\" (1994)\t\t\t\t\t\tDocumentary\n",
      "\"#1 Single\" (2006)\t\t\t\t\tReality-TV\n",
      "\"#15SecondScare\" (2015)\t\t\t\t\tHorror\n",
      "\"#15SecondScare\" (2015)\t\t\t\t\tShort\n",
      "\"#15SecondScare\" (2015)\t\t\t\t\tThriller\n",
      "\"#15SecondScare\" (2015) {Who Wants to Play with the Rabbit? (#1.2)}\tDrama\n",
      "\"#15SecondScare\" (2015) {Who Wants to Play with the Rabbit? (#1.2)}\tHorror\n",
      "\"#15SecondScare\" (2015) {Who Wants to Play with the Rabbit? (#1.2)}\tShort\n",
      "\"#15SecondScare\" (2015) {Who Wants to Play with the Rabbit? (#1.2)}\tThriller\n",
      "\"#1MinuteNightmare\" (2014)\t\t\t\tHorror\n",
      "\"#2G1S\" (2016)\t\t\t\t\t\tCrime\n",
      "\"#2WheelzNHeelz\" (2017)\t\t\t\t\tReality-TV\n",
      "\"#30Nods Trailer\" (2016)\t\t\t\tDrama\n",
      "\"#30Nods\" (2016)\t\t\t\t\tDrama\n",
      "\"#4Hire\" (2017)\t\t\t\t\t\tComedy\n",
      "\"#7DaysLater\" (2013)\t\t\t\t\tComedy\n"
     ]
    }
   ],
   "source": [
    "# Sample 2 of genre file \n",
    "for i in range(380, 400):\n",
    "    print(genre_data_original[i])"
   ]
  },
  {
   "cell_type": "code",
   "execution_count": 80,
   "metadata": {},
   "outputs": [],
   "source": [
    "# ACTUAL DATA START ON LINE 385 or index 384"
   ]
  },
  {
   "cell_type": "code",
   "execution_count": 83,
   "metadata": {},
   "outputs": [],
   "source": [
    "def write_new_genre_file(genre_data_original): # list of lines \n",
    "    genre_file = open(NEW_FILES_DIRECTORY + 'genres.csv', 'w')\n",
    "    genre_file.write('movie,genre\\n') # write a header\n",
    "    \n",
    "    # internet doesn't seem to have anything, not reliable\n",
    "    skips = ('(tv)', '(v)', '(vg)', 're-release', 'blu-ray')\n",
    "    skip_genres = 'Short, Adult, Reality-TV, Talk-Show, Game-Show, News'.split(', ')\n",
    "    \n",
    "    for i in range(384, len(genre_data_original)): # start from 384 cuz before is filler\n",
    "        line = genre_data_original[i]\n",
    "        \n",
    "        if line.startswith('\"'):\n",
    "            continue\n",
    "        try: # some lines may not be in correct format\n",
    "            parts = [x.strip() for x in re.split('\\\\t+', line)] # split by 1 or more tabs\n",
    "            name, genre = parts[:2]\n",
    "            if any(skip in name.lower() for skip in skips): # check is any of the skippables are in the name\n",
    "                continue\n",
    "            if any(g in genre for g in skip_genres): # check if should skip this genre by value\n",
    "                continue\n",
    "            count = genre_counts.get(genre, None)\n",
    "            if count is None or count < 100: # if genre not found or less than 100, skip it \n",
    "                continue\n",
    "            if ',' in name: # surround in quote if name already has comma\n",
    "                genre_file.write(f'\"{name}\",{genre}\\n') \n",
    "            else:\n",
    "                genre_file.write(f'{name},{genre}\\n') \n",
    "        except Exception as e: # tried to process this line, but failed\n",
    "            print(line, e)\n",
    "            continue\n",
    "    \n",
    "    genre_file.close()"
   ]
  },
  {
   "cell_type": "code",
   "execution_count": 84,
   "metadata": {},
   "outputs": [],
   "source": [
    "write_new_genre_file(genre_data_original)"
   ]
  },
  {
   "cell_type": "code",
   "execution_count": 86,
   "metadata": {},
   "outputs": [
    {
     "data": {
      "text/html": [
       "<div>\n",
       "<style scoped>\n",
       "    .dataframe tbody tr th:only-of-type {\n",
       "        vertical-align: middle;\n",
       "    }\n",
       "\n",
       "    .dataframe tbody tr th {\n",
       "        vertical-align: top;\n",
       "    }\n",
       "\n",
       "    .dataframe thead th {\n",
       "        text-align: right;\n",
       "    }\n",
       "</style>\n",
       "<table border=\"1\" class=\"dataframe\">\n",
       "  <thead>\n",
       "    <tr style=\"text-align: right;\">\n",
       "      <th></th>\n",
       "      <th>movie</th>\n",
       "      <th>genre</th>\n",
       "    </tr>\n",
       "  </thead>\n",
       "  <tbody>\n",
       "    <tr>\n",
       "      <th>0</th>\n",
       "      <td># (2012/I)</td>\n",
       "      <td>Comedy</td>\n",
       "    </tr>\n",
       "    <tr>\n",
       "      <th>1</th>\n",
       "      <td># (2012/II)</td>\n",
       "      <td>Animation</td>\n",
       "    </tr>\n",
       "    <tr>\n",
       "      <th>2</th>\n",
       "      <td># (2014)</td>\n",
       "      <td>Comedy</td>\n",
       "    </tr>\n",
       "    <tr>\n",
       "      <th>3</th>\n",
       "      <td>#1 (2005)</td>\n",
       "      <td>Drama</td>\n",
       "    </tr>\n",
       "    <tr>\n",
       "      <th>4</th>\n",
       "      <td>#1 (2009)</td>\n",
       "      <td>Animation</td>\n",
       "    </tr>\n",
       "    <tr>\n",
       "      <th>5</th>\n",
       "      <td>#1 (2010)</td>\n",
       "      <td>Comedy</td>\n",
       "    </tr>\n",
       "    <tr>\n",
       "      <th>6</th>\n",
       "      <td>#1 (2018)</td>\n",
       "      <td>Documentary</td>\n",
       "    </tr>\n",
       "    <tr>\n",
       "      <th>7</th>\n",
       "      <td>#1 Beauty Nail Salon (2014)</td>\n",
       "      <td>Drama</td>\n",
       "    </tr>\n",
       "    <tr>\n",
       "      <th>8</th>\n",
       "      <td>#1 Beauty Nail Salon (2014)</td>\n",
       "      <td>History</td>\n",
       "    </tr>\n",
       "    <tr>\n",
       "      <th>9</th>\n",
       "      <td>#1 Beauty Nail Salon (2014)</td>\n",
       "      <td>War</td>\n",
       "    </tr>\n",
       "  </tbody>\n",
       "</table>\n",
       "</div>"
      ],
      "text/plain": [
       "                         movie        genre\n",
       "0                   # (2012/I)       Comedy\n",
       "1                  # (2012/II)    Animation\n",
       "2                     # (2014)       Comedy\n",
       "3                    #1 (2005)        Drama\n",
       "4                    #1 (2009)    Animation\n",
       "5                    #1 (2010)       Comedy\n",
       "6                    #1 (2018)  Documentary\n",
       "7  #1 Beauty Nail Salon (2014)        Drama\n",
       "8  #1 Beauty Nail Salon (2014)      History\n",
       "9  #1 Beauty Nail Salon (2014)          War"
      ]
     },
     "execution_count": 86,
     "metadata": {},
     "output_type": "execute_result"
    }
   ],
   "source": [
    "genre_data = pd.read_csv(NEW_FILES_DIRECTORY + 'genres.csv')\n",
    "genre_data.head(10)"
   ]
  },
  {
   "cell_type": "code",
   "execution_count": 87,
   "metadata": {},
   "outputs": [
    {
     "data": {
      "text/plain": [
       "'New data has 1340555 titles'"
      ]
     },
     "execution_count": 87,
     "metadata": {},
     "output_type": "execute_result"
    }
   ],
   "source": [
    "rows, _ = genre_data.shape \n",
    "f'New data has {rows} titles'"
   ]
  },
  {
   "cell_type": "code",
   "execution_count": 88,
   "metadata": {},
   "outputs": [
    {
     "data": {
      "text/plain": [
       "array(['Comedy', 'Animation', 'Drama', 'Documentary', 'History', 'War',\n",
       "       'Horror', 'Sci-Fi', 'Adventure', 'Biography', 'Family', 'Action',\n",
       "       'Romance', 'Musical', 'Sport', 'Fantasy', 'Mystery', 'Crime',\n",
       "       'Thriller', 'Music', 'Western', 'Film-Noir'], dtype=object)"
      ]
     },
     "execution_count": 88,
     "metadata": {},
     "output_type": "execute_result"
    }
   ],
   "source": [
    "genre_data.genre.unique()"
   ]
  },
  {
   "cell_type": "markdown",
   "metadata": {},
   "source": [
    "# Read old keywords file and write new one"
   ]
  },
  {
   "cell_type": "code",
   "execution_count": 89,
   "metadata": {},
   "outputs": [],
   "source": [
    "with open(OLD_FILES_DIRECTORY + 'keywords.list', 'rb') as keywords_file: # read as binary file\n",
    "    keywords_data_original = [line.decode('latin-1').strip() for line in keywords_file.readlines()]"
   ]
  },
  {
   "cell_type": "code",
   "execution_count": 97,
   "metadata": {},
   "outputs": [
    {
     "data": {
      "text/plain": [
       "7582062"
      ]
     },
     "execution_count": 97,
     "metadata": {},
     "output_type": "execute_result"
    }
   ],
   "source": [
    "len(keywords_data_original)"
   ]
  },
  {
   "cell_type": "code",
   "execution_count": 102,
   "metadata": {},
   "outputs": [
    {
     "name": "stdout",
     "output_type": "stream",
     "text": [
      "keywords in use:\n",
      "$100-bill (3)\t$10000 (3)\t$1000000-prize (2)\n",
      "$1500-bottle-of-wine (1)\t$20-bill (3)\t$200000000 (1)\n",
      "$5-bill (1)\t$5-day (1)\t$5000 (3)\t$700-bank-check (1)\n",
      "$98000-gift-card (1)\t\t'50s-music (11)\t'81-subaru (1)\n",
      "'n-sync (1)\t-184-degrees-fahrenheit (2)\t-320-degrees-fahrenheit (1)\n",
      "-40-degrees-fahrenheit (1)\t.22-caliber-beretta (2)\n",
      ".22-caliber-bullet (1)\t\t.22-caliber-gun (7)\n",
      ".22-caliber-pistol (3)\t\t.22-caliber-revolver (3)\n",
      ".22-caliber-rifle (1)\t\t.22-caliber-semiautomatic-rifle (1)\n",
      ".22-magnum-revolver (2)\t\t.22-magnum-rifle (1)\n",
      ".25-caliber-pistol (1)\t\t.30-caliber-bullet (2)\n",
      ".32-caliber-pistol (1)\t\t.357-magnum (19)\n",
      ".38-caliber-gun (5)\t\t.38-calibre-pistol (3)\n",
      ".38-silenced-revolver (1)\t.38-snubnose-revolver (16)\n",
      ".38-special (5)\t.40-caliber-pistol (1)\t\t.44-calibre-bullet (1)\n",
      ".44-magnum (19)\t.44-magnum-pistol (2)\t\t.44-magnum-rifle (1)\n",
      ".45-automatic (6)\t\t.45-calibre-pistol (11)\n",
      ".451-batting-average (1)\t.50-caliber-pistol (2)\n",
      ".50-calibre-bullet (6)\t\t.50-calibre-gun (1)\n",
      ".50-calibre-sniper-rifle (4)\t.69-calibre-pistol (1)\n",
      ".hack (88)\t007 (34)\t1-508th-parachute-infantry-regiment (1)\n",
      "1-800-phone-number (2)\t\t1-900-line (1)\t1-euro-coin (5)\n",
      "1-million-bc (1)\t\t1-year-ago (3)\t1-year-later (14)\n",
      "1-year-old (12)\t10-april-1826 (2)\t\t10-cent-beer-night (1)\n",
      "10-chapters (7)\t10-days-in-october (1)\t\t10-downing-street (21)\n",
      "10-downing-street-london (1)\t10-episodes (10)\n",
      "10-euro-bill (1)\t\t10-k-run (2)\t10-minute-dogfight (1)\n",
      "10-of-clubs (1)\t10-of-diamonds (1)\t\t10-of-hearts (2)\n",
      "10-of-spades (1)\t\t10-pm (1)\t10-x-10 (1)\n",
      "10-year-old (195)\t\t10-year-old-boy (8)\n",
      "10-year-plan (1)\t\t10-years-later (14)\n",
      "100-euro-bill (1)\t\t100-lei-coin (1)\n",
      "100-meter-freestyle (4)\t\t100-mile-wilderness-maine (2)\n",
      "100-miles-per-hour (1)\t\t100-missions (1)\n",
      "100-pound-contact-bomb (1)\t100-yard-dash (3)\n",
      "100-year-old (16)\t\t100-years (4)\t100-yuan-bill (2)\n",
      "1000-lakes-rally (8)\t\t1000-pound-bomb (4)\n",
      "1000-pound-contact-bomb (1)\t1000-year-old (1)\n",
      "10000-b.c. (7)\t10000-mile-club (1)\t\t1000000-b.c. (38)\n"
     ]
    }
   ],
   "source": [
    "for i in range(60, 100): # Keywords + counts start on line 62 or index 61\n",
    "    print(keywords_data_original[i])"
   ]
  },
  {
   "cell_type": "code",
   "execution_count": 163,
   "metadata": {},
   "outputs": [],
   "source": [
    "keyword_count_start = 61"
   ]
  },
  {
   "cell_type": "code",
   "execution_count": 164,
   "metadata": {},
   "outputs": [],
   "source": [
    "keyword_count_end = 101649 # got this after a little trial and error"
   ]
  },
  {
   "cell_type": "code",
   "execution_count": 165,
   "metadata": {},
   "outputs": [
    {
     "name": "stdout",
     "output_type": "stream",
     "text": [
      "zypora (2)\tzz-top (3)\tzz-top-impression (2)\n",
      "\n",
      "5: Submission Rules\n",
      "===================\n",
      "\n",
      "How To Add Keywords\n",
      "-------------------\n",
      "\n",
      "Send email to   adds@imdb.com   with the subject \"ADD\".  Above\n",
      "the data you write the word \"KEYWORD\" on a line by itself.\n"
     ]
    }
   ],
   "source": [
    "for i in range(keyword_count_end, keyword_count_end + 10):\n",
    "    print(keywords_data_original[i])"
   ]
  },
  {
   "cell_type": "code",
   "execution_count": 166,
   "metadata": {},
   "outputs": [
    {
     "data": {
      "text/plain": [
       "'$100-bill (3)\\t$10000 (3)\\t$1000000-prize (2)'"
      ]
     },
     "execution_count": 166,
     "metadata": {},
     "output_type": "execute_result"
    }
   ],
   "source": [
    "keywords_data_original[61]\n",
    "# format of a line. split by tabs, for each part get the keyword and count"
   ]
  },
  {
   "cell_type": "code",
   "execution_count": 185,
   "metadata": {},
   "outputs": [
    {
     "name": "stdout",
     "output_type": "stream",
     "text": [
      "721\n",
      "5378\n",
      "11470\n",
      "19628\n",
      "24031\n",
      "26742\n",
      "32073\n",
      "35091\n",
      "38998\n",
      "41285\n",
      "42342\n",
      "43654\n",
      "46702\n",
      "52598\n",
      "54629\n",
      "56167\n",
      "62338\n",
      "62576\n",
      "79316\n",
      "89967\n",
      "95121\n",
      "96377\n",
      "97571\n",
      "100917\n",
      "100961\n",
      "101465\n"
     ]
    }
   ],
   "source": [
    "keyword_count = dict()\n",
    "\n",
    "for i in range(keyword_count_start, keyword_count_end + 1): # +1 cuz end index is not included\n",
    "    line = keywords_data_original[i]\n",
    "    parts = [x.strip() for x in re.split('\\\\t+', line)]\n",
    "    for part in parts:\n",
    "        try:\n",
    "            keyword, count = [x.strip() for x in part.split(' ')]\n",
    "            count = int(count[1:-1]) # don't need the parenthesis\n",
    "            keyword_count[keyword] = count\n",
    "        except Exception as e:\n",
    "            print(i) # after inspection, these are just line empty lines 26 of them\n",
    "            # there's a newline after each keyword group with the same letter\n",
    "# keyword_count # it's a lot so I won't show"
   ]
  },
  {
   "cell_type": "code",
   "execution_count": 159,
   "metadata": {},
   "outputs": [
    {
     "name": "stdout",
     "output_type": "stream",
     "text": [
      "\"#1 Single\" (2006)\t\t\t\t\tnumber-in-title\n",
      "\"#1MinuteNightmare\" (2014)\t\t\t\tweb-series\n",
      "\"#30Nods\" (2016)\t\t\t\t\tfriend\n",
      "\"#30Nods\" (2016)\t\t\t\t\theroin\n",
      "\"#30Nods\" (2016)\t\t\t\t\tvlog\n",
      "\"#4Hire\" (2017)\t\t\t\t\t\ttv-mini-series\n",
      "\"#ATown\" (2014)\t\t\t\t\t\taustin-texas\n",
      "\"#ATown\" (2014)\t\t\t\t\t\tbeer\n",
      "\"#ATown\" (2014)\t\t\t\t\t\tdrugs\n",
      "\"#ATown\" (2014)\t\t\t\t\t\tfriendship\n",
      "\"#ATown\" (2014)\t\t\t\t\t\tlove\n",
      "\"#ATown\" (2014)\t\t\t\t\t\ttexas\n",
      "\"#ATown\" (2014)\t\t\t\t\t\tweb-series\n",
      "\"#Adulting\" (2016/I)\t\t\t\t\tmillennial\n",
      "\"#Adulting\" (2016/I)\t\t\t\t\tweb-series\n",
      "\"#AuVolant\" (2016)\t\t\t\t\ttv-mini-series\n",
      "\"#Bandcamp\" (2014)\t\t\t\t\ttv-mini-series\n",
      "\"#ByMySide\" (2012)\t\t\t\t\ttwitter-hashtag-in-title\n",
      "\"#DailyPipTalk\" (2016)\t\t\t\t\tforex\n",
      "\"#DayOff\" (2013)\t\t\t\t\ttv-mini-series\n"
     ]
    }
   ],
   "source": [
    "movie_keyword_start = 101937 # got this after a little trial and error\n",
    "for i in range(movie_keyword_start, movie_keyword_start + 20):\n",
    "    print(keywords_data_original[i])"
   ]
  },
  {
   "cell_type": "code",
   "execution_count": 186,
   "metadata": {},
   "outputs": [],
   "source": [
    "def write_new_keywords_file(keywords_data_original): # list of lines \n",
    "    keywords_file = open(NEW_FILES_DIRECTORY + 'keywords.csv', 'w')\n",
    "    keywords_file.write('movie,keyword\\n') # write a header\n",
    "    \n",
    "    # internet doesn't seem to have anything, not reliable\n",
    "    skips = ('(tv)', '(v)', '(vg)', 're-release', 'blu-ray')\n",
    "    \n",
    "    for i in range(movie_keyword_start, len(keywords_data_original)):\n",
    "        line = keywords_data_original[i]\n",
    "        \n",
    "        if line.startswith('\"'):\n",
    "            continue\n",
    "        try: # some lines may not be in correct format\n",
    "            parts = [x.strip() for x in re.split('\\\\t+', line)] # split by 1 or more tabs\n",
    "            name, keyword = parts[:2]\n",
    "            if any(skip in name.lower() for skip in skips): # check is any of the skippables are in the name\n",
    "                continue\n",
    "                \n",
    "            count = keyword_count.get(keyword, None)\n",
    "            if count is None or count < 20 :\n",
    "                continue\n",
    "            if ',' in name: # surround in quote if name already has comma\n",
    "                keywords_file.write(f'\"{name}\",{keyword}\\n') \n",
    "            else:\n",
    "                keywords_file.write(f'{name},{keyword}\\n') \n",
    "        except Exception as e: # tried to process this line, but failed\n",
    "            print(line, e)\n",
    "            continue\n",
    "    \n",
    "    keywords_file.close()"
   ]
  },
  {
   "cell_type": "code",
   "execution_count": 187,
   "metadata": {},
   "outputs": [],
   "source": [
    "write_new_keywords_file(keywords_data_original)"
   ]
  },
  {
   "cell_type": "code",
   "execution_count": 188,
   "metadata": {},
   "outputs": [
    {
     "data": {
      "text/plain": [
       "'New file has 3763306 titles'"
      ]
     },
     "execution_count": 188,
     "metadata": {},
     "output_type": "execute_result"
    }
   ],
   "source": [
    "keywords_data = pd.read_csv(NEW_FILES_DIRECTORY + \"keywords.csv\")\n",
    "rows, _ = keywords_data.shape \n",
    "f'New file has {rows} titles'"
   ]
  },
  {
   "cell_type": "code",
   "execution_count": 189,
   "metadata": {},
   "outputs": [
    {
     "data": {
      "text/html": [
       "<div>\n",
       "<style scoped>\n",
       "    .dataframe tbody tr th:only-of-type {\n",
       "        vertical-align: middle;\n",
       "    }\n",
       "\n",
       "    .dataframe tbody tr th {\n",
       "        vertical-align: top;\n",
       "    }\n",
       "\n",
       "    .dataframe thead th {\n",
       "        text-align: right;\n",
       "    }\n",
       "</style>\n",
       "<table border=\"1\" class=\"dataframe\">\n",
       "  <thead>\n",
       "    <tr style=\"text-align: right;\">\n",
       "      <th></th>\n",
       "      <th>movie</th>\n",
       "      <th>keyword</th>\n",
       "    </tr>\n",
       "  </thead>\n",
       "  <tbody>\n",
       "    <tr>\n",
       "      <th>0</th>\n",
       "      <td># (2012/II)</td>\n",
       "      <td>stop-motion</td>\n",
       "    </tr>\n",
       "    <tr>\n",
       "      <th>1</th>\n",
       "      <td>#1 (2010)</td>\n",
       "      <td>janitor</td>\n",
       "    </tr>\n",
       "    <tr>\n",
       "      <th>2</th>\n",
       "      <td>#1 (2010)</td>\n",
       "      <td>magic</td>\n",
       "    </tr>\n",
       "    <tr>\n",
       "      <th>3</th>\n",
       "      <td>#1 (2010)</td>\n",
       "      <td>pencil</td>\n",
       "    </tr>\n",
       "    <tr>\n",
       "      <th>4</th>\n",
       "      <td>#1 (2010)</td>\n",
       "      <td>school</td>\n",
       "    </tr>\n",
       "    <tr>\n",
       "      <th>5</th>\n",
       "      <td>#1 (2010)</td>\n",
       "      <td>surprise</td>\n",
       "    </tr>\n",
       "    <tr>\n",
       "      <th>6</th>\n",
       "      <td>#1 (2018)</td>\n",
       "      <td>based-on-book</td>\n",
       "    </tr>\n",
       "    <tr>\n",
       "      <th>7</th>\n",
       "      <td>#1 at the Apocalypse Box Office (2015)</td>\n",
       "      <td>australian-apocalyptic</td>\n",
       "    </tr>\n",
       "    <tr>\n",
       "      <th>8</th>\n",
       "      <td>#1 at the Apocalypse Box Office (2015)</td>\n",
       "      <td>australian-science-fiction</td>\n",
       "    </tr>\n",
       "    <tr>\n",
       "      <th>9</th>\n",
       "      <td>#137 (2011)</td>\n",
       "      <td>australian-future-earth</td>\n",
       "    </tr>\n",
       "  </tbody>\n",
       "</table>\n",
       "</div>"
      ],
      "text/plain": [
       "                                    movie                     keyword\n",
       "0                             # (2012/II)                 stop-motion\n",
       "1                               #1 (2010)                     janitor\n",
       "2                               #1 (2010)                       magic\n",
       "3                               #1 (2010)                      pencil\n",
       "4                               #1 (2010)                      school\n",
       "5                               #1 (2010)                    surprise\n",
       "6                               #1 (2018)               based-on-book\n",
       "7  #1 at the Apocalypse Box Office (2015)      australian-apocalyptic\n",
       "8  #1 at the Apocalypse Box Office (2015)  australian-science-fiction\n",
       "9                             #137 (2011)     australian-future-earth"
      ]
     },
     "execution_count": 189,
     "metadata": {},
     "output_type": "execute_result"
    }
   ],
   "source": [
    "keywords_data.head(10)"
   ]
  },
  {
   "cell_type": "code",
   "execution_count": 191,
   "metadata": {},
   "outputs": [
    {
     "data": {
      "text/plain": [
       "0.1367987321711569"
      ]
     },
     "execution_count": 191,
     "metadata": {},
     "output_type": "execute_result"
    }
   ],
   "source": [
    "len(keywords_data.keyword.unique())/len(keyword_count) # he says it should be closer to 5%\n",
    "# filter logic should be revised"
   ]
  },
  {
   "cell_type": "markdown",
   "metadata": {},
   "source": [
    "# Read old running times file and write new one "
   ]
  },
  {
   "cell_type": "code",
   "execution_count": null,
   "metadata": {},
   "outputs": [],
   "source": []
  },
  {
   "cell_type": "code",
   "execution_count": null,
   "metadata": {},
   "outputs": [],
   "source": []
  }
 ],
 "metadata": {
  "kernelspec": {
   "display_name": "Python 3",
   "language": "python",
   "name": "python3"
  },
  "language_info": {
   "codemirror_mode": {
    "name": "ipython",
    "version": 3
   },
   "file_extension": ".py",
   "mimetype": "text/x-python",
   "name": "python",
   "nbconvert_exporter": "python",
   "pygments_lexer": "ipython3",
   "version": "3.7.6"
  }
 },
 "nbformat": 4,
 "nbformat_minor": 2
}
