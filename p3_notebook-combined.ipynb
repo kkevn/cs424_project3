{
 "cells": [
  {
   "cell_type": "code",
   "execution_count": 15,
   "metadata": {},
   "outputs": [],
   "source": [
    "#######################################\n",
    "# CS 424 - Project 3\n",
    "# Kevin Kowalski\n",
    "# Samuel Kajah\n",
    "# Vijay Vemu\n",
    "#######################################\n",
    "#\n",
    "# This file contains the code to clean\n",
    "# the original data set. It outputs\n",
    "# the necessary plots and updated data\n",
    "# set to be used by shiny.\n",
    "#\n",
    "# This file was used for testing and \n",
    "# plotting before using RStudio for a\n",
    "# dashboard.\n",
    "#\n",
    "#######################################"
   ]
  },
  {
   "cell_type": "code",
   "execution_count": 16,
   "metadata": {},
   "outputs": [],
   "source": [
    "# import libraries\n",
    "library(comprehenr)\n",
    "library(dplyr)\n",
    "library(ggplot2)\n",
    "library(hashmap)\n",
    "library(lubridate)\n",
    "library(stringr)\n",
    "library(tidyverse)"
   ]
  },
  {
   "cell_type": "code",
   "execution_count": 121,
   "metadata": {},
   "outputs": [],
   "source": [
    "# read in the combined RDS file\n",
    "data <- readRDS(file = \"combined_data.rds\")\n",
    "\n",
    "# LEAVE COMMENTED, UNLESS YOU NEED TO REMAKE FILE\n",
    "# keywords table only for movies found in combined data table\n",
    "#keywords_subset <- subset(df_keywords, movie %in% data$movie)\n",
    "#write.csv(keywords_subset, file = 'keywords_subset.csv')\n",
    "\n",
    "# read in the subsetted keywords CSV file\n",
    "keywords_subset = read.csv('keywords_subset.csv')"
   ]
  },
  {
   "cell_type": "code",
   "execution_count": 113,
   "metadata": {},
   "outputs": [
    {
     "name": "stdout",
     "output_type": "stream",
     "text": [
      "[1] \"---- data, n=334427\"\n",
      "[1] \"---- unique movies, n=36596\"\n"
     ]
    }
   ],
   "source": [
    "# output number of entries in data\n",
    "total_data <- count(data)\n",
    "print(paste0(\"---- data, n=\", total_data))\n",
    "unique_films <- length(unique(data$movie))\n",
    "print(paste0(\"---- unique movies, n=\", unique_films))"
   ]
  },
  {
   "cell_type": "code",
   "execution_count": 25,
   "metadata": {},
   "outputs": [],
   "source": [
    "# get list of movies where none is duplicated (used for times where you only want to account for a movie once, such as runtime average)\n",
    "unique_movies <- subset(data, !duplicated(subset(data, select = movie)))"
   ]
  },
  {
   "cell_type": "code",
   "execution_count": 26,
   "metadata": {},
   "outputs": [
    {
     "data": {
      "text/html": [
       "<table>\n",
       "<caption>A data.frame: 5 × 6</caption>\n",
       "<thead>\n",
       "\t<tr><th></th><th scope=col>movie</th><th scope=col>year</th><th scope=col>month</th><th scope=col>genre</th><th scope=col>runtime</th><th scope=col>rating</th></tr>\n",
       "\t<tr><th></th><th scope=col>&lt;chr&gt;</th><th scope=col>&lt;int&gt;</th><th scope=col>&lt;fct&gt;</th><th scope=col>&lt;fct&gt;</th><th scope=col>&lt;dbl&gt;</th><th scope=col>&lt;fct&gt;</th></tr>\n",
       "</thead>\n",
       "<tbody>\n",
       "\t<tr><th scope=row>214</th><td>#FollowFriday (2016)</td><td>2016</td><td>September</td><td>Thriller</td><td> 90</td><td>USA:Unrated </td></tr>\n",
       "\t<tr><th scope=row>698</th><td>$ (1971)            </td><td>1971</td><td>December </td><td>Comedy  </td><td>121</td><td>USA:R       </td></tr>\n",
       "\t<tr><th scope=row>700</th><td>$ (1971)            </td><td>1971</td><td>December </td><td>Crime   </td><td>121</td><td>USA:R       </td></tr>\n",
       "\t<tr><th scope=row>702</th><td>$ (1971)            </td><td>1971</td><td>December </td><td>Drama   </td><td>121</td><td>USA:R       </td></tr>\n",
       "\t<tr><th scope=row>714</th><td>$10 Raise (1935)    </td><td>1935</td><td>May      </td><td>Comedy  </td><td> 70</td><td>USA:Approved</td></tr>\n",
       "</tbody>\n",
       "</table>\n"
      ],
      "text/latex": [
       "A data.frame: 5 × 6\n",
       "\\begin{tabular}{r|llllll}\n",
       "  & movie & year & month & genre & runtime & rating\\\\\n",
       "  & <chr> & <int> & <fct> & <fct> & <dbl> & <fct>\\\\\n",
       "\\hline\n",
       "\t214 & \\#FollowFriday (2016) & 2016 & September & Thriller &  90 & USA:Unrated \\\\\n",
       "\t698 & \\$ (1971)             & 1971 & December  & Comedy   & 121 & USA:R       \\\\\n",
       "\t700 & \\$ (1971)             & 1971 & December  & Crime    & 121 & USA:R       \\\\\n",
       "\t702 & \\$ (1971)             & 1971 & December  & Drama    & 121 & USA:R       \\\\\n",
       "\t714 & \\$10 Raise (1935)     & 1935 & May       & Comedy   &  70 & USA:Approved\\\\\n",
       "\\end{tabular}\n"
      ],
      "text/markdown": [
       "\n",
       "A data.frame: 5 × 6\n",
       "\n",
       "| <!--/--> | movie &lt;chr&gt; | year &lt;int&gt; | month &lt;fct&gt; | genre &lt;fct&gt; | runtime &lt;dbl&gt; | rating &lt;fct&gt; |\n",
       "|---|---|---|---|---|---|---|\n",
       "| 214 | #FollowFriday (2016) | 2016 | September | Thriller |  90 | USA:Unrated  |\n",
       "| 698 | $ (1971)             | 1971 | December  | Comedy   | 121 | USA:R        |\n",
       "| 700 | $ (1971)             | 1971 | December  | Crime    | 121 | USA:R        |\n",
       "| 702 | $ (1971)             | 1971 | December  | Drama    | 121 | USA:R        |\n",
       "| 714 | $10 Raise (1935)     | 1935 | May       | Comedy   |  70 | USA:Approved |\n",
       "\n"
      ],
      "text/plain": [
       "    movie                year month     genre    runtime rating      \n",
       "214 #FollowFriday (2016) 2016 September Thriller  90     USA:Unrated \n",
       "698 $ (1971)             1971 December  Comedy   121     USA:R       \n",
       "700 $ (1971)             1971 December  Crime    121     USA:R       \n",
       "702 $ (1971)             1971 December  Drama    121     USA:R       \n",
       "714 $10 Raise (1935)     1935 May       Comedy    70     USA:Approved"
      ]
     },
     "metadata": {},
     "output_type": "display_data"
    },
    {
     "data": {
      "text/html": [
       "<table>\n",
       "<caption>A data.frame: 5 × 6</caption>\n",
       "<thead>\n",
       "\t<tr><th scope=col>movie</th><th scope=col>year</th><th scope=col>month</th><th scope=col>genre</th><th scope=col>runtime</th><th scope=col>rating</th></tr>\n",
       "\t<tr><th scope=col>&lt;chr&gt;</th><th scope=col>&lt;int&gt;</th><th scope=col>&lt;fct&gt;</th><th scope=col>&lt;fct&gt;</th><th scope=col>&lt;dbl&gt;</th><th scope=col>&lt;fct&gt;</th></tr>\n",
       "</thead>\n",
       "<tbody>\n",
       "\t<tr><td>Extraction (2015/II)         </td><td>2015</td><td>December</td><td>Action  </td><td> 82</td><td>USA:R       </td></tr>\n",
       "\t<tr><td>Stranger Than Paradise (1984)</td><td>1984</td><td>August  </td><td>Comedy  </td><td> 89</td><td>USA:R       </td></tr>\n",
       "\t<tr><td>Zui quan (1978)              </td><td>1978</td><td>October </td><td>Comedy  </td><td>111</td><td>USA:PG-13   </td></tr>\n",
       "\t<tr><td>Montana Moon (1930)          </td><td>1930</td><td>March   </td><td>Musical </td><td> 89</td><td>USA:Approved</td></tr>\n",
       "\t<tr><td>Post Impact (2004)           </td><td>2004</td><td>June    </td><td>Thriller</td><td> 90</td><td>USA:R       </td></tr>\n",
       "</tbody>\n",
       "</table>\n"
      ],
      "text/latex": [
       "A data.frame: 5 × 6\n",
       "\\begin{tabular}{llllll}\n",
       " movie & year & month & genre & runtime & rating\\\\\n",
       " <chr> & <int> & <fct> & <fct> & <dbl> & <fct>\\\\\n",
       "\\hline\n",
       "\t Extraction (2015/II)          & 2015 & December & Action   &  82 & USA:R       \\\\\n",
       "\t Stranger Than Paradise (1984) & 1984 & August   & Comedy   &  89 & USA:R       \\\\\n",
       "\t Zui quan (1978)               & 1978 & October  & Comedy   & 111 & USA:PG-13   \\\\\n",
       "\t Montana Moon (1930)           & 1930 & March    & Musical  &  89 & USA:Approved\\\\\n",
       "\t Post Impact (2004)            & 2004 & June     & Thriller &  90 & USA:R       \\\\\n",
       "\\end{tabular}\n"
      ],
      "text/markdown": [
       "\n",
       "A data.frame: 5 × 6\n",
       "\n",
       "| movie &lt;chr&gt; | year &lt;int&gt; | month &lt;fct&gt; | genre &lt;fct&gt; | runtime &lt;dbl&gt; | rating &lt;fct&gt; |\n",
       "|---|---|---|---|---|---|\n",
       "| Extraction (2015/II)          | 2015 | December | Action   |  82 | USA:R        |\n",
       "| Stranger Than Paradise (1984) | 1984 | August   | Comedy   |  89 | USA:R        |\n",
       "| Zui quan (1978)               | 1978 | October  | Comedy   | 111 | USA:PG-13    |\n",
       "| Montana Moon (1930)           | 1930 | March    | Musical  |  89 | USA:Approved |\n",
       "| Post Impact (2004)            | 2004 | June     | Thriller |  90 | USA:R        |\n",
       "\n"
      ],
      "text/plain": [
       "  movie                         year month    genre    runtime rating      \n",
       "1 Extraction (2015/II)          2015 December Action    82     USA:R       \n",
       "2 Stranger Than Paradise (1984) 1984 August   Comedy    89     USA:R       \n",
       "3 Zui quan (1978)               1978 October  Comedy   111     USA:PG-13   \n",
       "4 Montana Moon (1930)           1930 March    Musical   89     USA:Approved\n",
       "5 Post Impact (2004)            2004 June     Thriller  90     USA:R       "
      ]
     },
     "metadata": {},
     "output_type": "display_data"
    }
   ],
   "source": [
    "# preview the top 5 rows\n",
    "head(data, 5)\n",
    "\n",
    "# get a random sample of 5 rows\n",
    "sample_n(data, 5)"
   ]
  },
  {
   "cell_type": "code",
   "execution_count": 27,
   "metadata": {},
   "outputs": [
    {
     "name": "stdout",
     "output_type": "stream",
     "text": [
      "[1] \"---- years range from: 1912-2019\"\n"
     ]
    }
   ],
   "source": [
    "# get min and max years\n",
    "min_year_all <- min(data$year)\n",
    "max_year_all <- max(data$year)\n",
    "print(paste0(\"---- years range from: \", min_year_all, \"-\", max_year_all))"
   ]
  },
  {
   "cell_type": "code",
   "execution_count": 28,
   "metadata": {},
   "outputs": [
    {
     "name": "stdout",
     "output_type": "stream",
     "text": [
      "[1] \"---- decades range from: 1910-2010\"\n"
     ]
    }
   ],
   "source": [
    "# get min and max decades\n",
    "min_decade_all <- floor(min(data$year) / 10) * 10\n",
    "max_decade_all <- floor(max(data$year) / 10) * 10\n",
    "print(paste0(\"---- decades range from: \", min_decade_all, \"-\", max_decade_all))"
   ]
  },
  {
   "cell_type": "code",
   "execution_count": 29,
   "metadata": {},
   "outputs": [
    {
     "name": "stdout",
     "output_type": "stream",
     "text": [
      "[1] \"---- runtimes range from: 60-453 minutes\"\n"
     ]
    }
   ],
   "source": [
    "# get min and max runtimes\n",
    "min_runtime_all <- min(data$runtime)\n",
    "max_runtime_all <- max(data$runtime)\n",
    "print(paste0(\"---- runtimes range from: \", min_runtime_all, \"-\", max_runtime_all, \" minutes\"))"
   ]
  },
  {
   "cell_type": "code",
   "execution_count": 30,
   "metadata": {},
   "outputs": [],
   "source": [
    "############## COUNT/DISTRIBUTION TABLES BELOW ##############"
   ]
  },
  {
   "cell_type": "code",
   "execution_count": 137,
   "metadata": {},
   "outputs": [],
   "source": [
    "# function to get a count of movies from each year as a table (same as above)\n",
    "number_films_per_year = function(table) {\n",
    "    \n",
    "    # create empty dataframe of all years in range from calculated min to max\n",
    "    all_years <- data.frame(formatC(min_year_all:max_year_all, width = 2), 0)\n",
    "    names(all_years)[1] <- \"year\"\n",
    "    names(all_years)[2] <- \"count\"\n",
    "    all_years$year <- c(min_year_all:max_year_all)\n",
    "    \n",
    "    # make dataframe of available years and their frequency\n",
    "    by_year <- table %>% group_by(year) %>% summarize(count = n())\n",
    "    \n",
    "    # join the counts into the full range of years dataframe\n",
    "    by_year <- full_join(all_years, by_year, by = \"year\")\n",
    "    by_year[is.na(by_year)] <- 0\n",
    "    by_year$count.x <- NULL\n",
    "    names(by_year)[2] <- \"count\"\n",
    "    \n",
    "    # output info\n",
    "    total_films = as.numeric(sum(by_year$count))\n",
    "    print(paste0(\"---- total counted= \", total_films))\n",
    "    unique_years = as.numeric(count(by_year))\n",
    "    print(paste0(\"---- unique years= \", unique_years))\n",
    "    \n",
    "    # return the table of counts per year\n",
    "    by_year\n",
    "}\n",
    "\n",
    "# function to get a count of movies from each decade as a table\n",
    "number_films_per_decade = function(table) {\n",
    "    \n",
    "    # create empty dataframe of each decade in range from calculated min to max\n",
    "    all_decades <- data.frame(formatC(1:((max_decade_all - min_decade_all) / 10 + 1), width = 2), 0)\n",
    "    names(all_decades)[1] <- \"decade\"\n",
    "    names(all_decades)[2] <- \"count\"\n",
    "    all_decades$decade <- seq(from = min_decade_all, to = max_decade_all, by = 10)\n",
    "    \n",
    "    # INEFFICIENT NESTED LOOP, IDEALLY A GROUP_BY OR SOMETHING BETTER\n",
    "    # loop through each movie in given table\n",
    "    for (row in 1:as.numeric(count(table))) {\n",
    "        \n",
    "        # get the current movie's decade it belongs to\n",
    "        curr_decade = floor(table$year[row] / 10) * 10\n",
    "        \n",
    "        # loop through each decade\n",
    "        for (i in 1:as.numeric(count(all_decades))) {\n",
    "            \n",
    "            # increment the decade count for found decade\n",
    "            if (curr_decade == all_decades$decade[i]) {\n",
    "                all_decades$count[i] <- all_decades$count[i] + 1\n",
    "                break\n",
    "            }\n",
    "        }\n",
    "    }\n",
    "    \n",
    "    # output info\n",
    "    total_films = as.numeric(sum(all_decades$count))\n",
    "    print(paste0(\"---- total counted= \", total_films))\n",
    "    unique_decades = as.numeric(count(all_decades))\n",
    "    print(paste0(\"---- unique decades= \", unique_decades))\n",
    "    \n",
    "    # return the table of counts per decade\n",
    "    all_decades\n",
    "}\n",
    "\n",
    "# function to get a count of movies from each month as a table\n",
    "number_films_per_month = function(table) {\n",
    "    \n",
    "    # get a count of movies from each month\n",
    "    by_month <- table %>% group_by(month) %>% summarize(count = n())\n",
    "\n",
    "    # reorder months to be in order\n",
    "    by_month$month <- factor(by_month$month, levels = c(\"January\", \"February\", \"March\", \"April\", \"May\", \"June\", \"July\", \"August\", \"September\", \"October\", \"November\", \"December\"))\n",
    "    by_month <- by_month[order(by_month$month), ]\n",
    "\n",
    "    # output info\n",
    "    by_month\n",
    "    print(paste0(\"---- total counted= \", sum(by_month$count)))\n",
    "    unique_months = as.numeric(count(by_month))\n",
    "    print(paste0(\"---- unique months= \", unique_months))\n",
    "    \n",
    "    # return the table of counts per month\n",
    "    by_month\n",
    "}\n",
    "\n",
    "# function to get a distribution of runtimes as a table\n",
    "distribution_of_runtimes = function(table) {\n",
    "    \n",
    "    # create empty dataframe of all runtimes in range from min to max\n",
    "    all_runtimes <- data.frame(formatC(min_runtime_all:max_runtime_all, width = 2), 0)\n",
    "    names(all_runtimes)[1] <- \"runtime\"\n",
    "    names(all_runtimes)[2] <- \"count\"\n",
    "    all_runtimes$runtime <- c(min_runtime_all:max_runtime_all)\n",
    "\n",
    "    # make dataframe of available runtimes and their frequency\n",
    "    by_runtime <- table %>% group_by(runtime) %>% summarize(count = n())\n",
    "\n",
    "    # join the counts into the full range of years dataframe\n",
    "    by_runtime <- full_join(all_runtimes, by_runtime, by = \"runtime\")\n",
    "    by_runtime[is.na(by_runtime)] <- 0\n",
    "    by_runtime$count.x <- NULL\n",
    "    names(by_runtime)[2] <- \"count\"\n",
    "\n",
    "    # output info\n",
    "    head(by_runtime, 10)\n",
    "    print(paste0(\"---- total counted= \", sum(by_runtime$count)))\n",
    "    unique_runtimes = as.numeric(count(by_runtime))\n",
    "    print(paste0(\"---- unique runtimes= \", unique_runtimes))\n",
    "    \n",
    "    # return the distribution of runtimes\n",
    "    by_runtime\n",
    "}\n",
    "\n",
    "# function to get a distribution of certificates as a table\n",
    "distribution_of_certificates = function(table) {\n",
    "    \n",
    "    # get a distribution of certificate\n",
    "    by_certificates <- table %>% group_by(rating) %>% summarize(count = n())\n",
    "\n",
    "    # output info\n",
    "    print(paste0(\"---- total counted= \", sum(by_certificates$count)))\n",
    "    unique_certificates = as.numeric(count(by_certificates))\n",
    "    print(paste0(\"---- unique certificates= \", unique_certificates))\n",
    "    \n",
    "    # return the distribution of certificates\n",
    "    by_certificates\n",
    "}\n",
    "\n",
    "# function to get a distribution of genres as a table\n",
    "distribution_of_genres = function(table) {\n",
    "    \n",
    "    # get a distribution of genres\n",
    "    by_genre <- table %>% group_by(genre) %>% summarize(count = n())\n",
    "\n",
    "    # output info\n",
    "    print(paste0(\"---- total counted= \", sum(by_genre$count)))\n",
    "    unique_genres = as.numeric(count(by_genre))\n",
    "    print(paste0(\"---- unique genres= \", unique_genres))\n",
    "    \n",
    "    # return the distribution of genres\n",
    "    by_genre\n",
    "}\n",
    "\n",
    "# function to get a distribution of top n keywords as a table\n",
    "distribution_of_keywords = function(table, n) {\n",
    "\n",
    "    # get a distribution of top n keywords\n",
    "    by_keywords <- table %>% group_by(keyword) %>% summarize(count = n())\n",
    "\n",
    "    # output info\n",
    "    by_keywords <- top_n(by_keywords, n) %>% arrange(desc(count))\n",
    "    print(paste0(\"---- total counted= \", sum(by_keywords$count)))\n",
    "    unique_keywords = as.numeric(count(by_keywords))\n",
    "    print(paste0(\"---- unique keywords= \", unique_keywords))\n",
    "    \n",
    "    # return the distribution of top n keywords\n",
    "    by_keywords\n",
    "}\n"
   ]
  },
  {
   "cell_type": "code",
   "execution_count": 32,
   "metadata": {},
   "outputs": [
    {
     "name": "stdout",
     "output_type": "stream",
     "text": [
      "[1] \"---- total counted= 36596\"\n",
      "[1] \"---- unique years= 108\"\n"
     ]
    },
    {
     "data": {
      "text/html": [
       "<table>\n",
       "<caption>A data.frame: 5 × 2</caption>\n",
       "<thead>\n",
       "\t<tr><th scope=col>year</th><th scope=col>count</th></tr>\n",
       "\t<tr><th scope=col>&lt;int&gt;</th><th scope=col>&lt;int&gt;</th></tr>\n",
       "</thead>\n",
       "<tbody>\n",
       "\t<tr><td>2012</td><td>809</td></tr>\n",
       "\t<tr><td>1923</td><td> 15</td></tr>\n",
       "\t<tr><td>2015</td><td>791</td></tr>\n",
       "\t<tr><td>1984</td><td>306</td></tr>\n",
       "\t<tr><td>1947</td><td>320</td></tr>\n",
       "</tbody>\n",
       "</table>\n"
      ],
      "text/latex": [
       "A data.frame: 5 × 2\n",
       "\\begin{tabular}{ll}\n",
       " year & count\\\\\n",
       " <int> & <int>\\\\\n",
       "\\hline\n",
       "\t 2012 & 809\\\\\n",
       "\t 1923 &  15\\\\\n",
       "\t 2015 & 791\\\\\n",
       "\t 1984 & 306\\\\\n",
       "\t 1947 & 320\\\\\n",
       "\\end{tabular}\n"
      ],
      "text/markdown": [
       "\n",
       "A data.frame: 5 × 2\n",
       "\n",
       "| year &lt;int&gt; | count &lt;int&gt; |\n",
       "|---|---|\n",
       "| 2012 | 809 |\n",
       "| 1923 |  15 |\n",
       "| 2015 | 791 |\n",
       "| 1984 | 306 |\n",
       "| 1947 | 320 |\n",
       "\n"
      ],
      "text/plain": [
       "  year count\n",
       "1 2012 809  \n",
       "2 1923  15  \n",
       "3 2015 791  \n",
       "4 1984 306  \n",
       "5 1947 320  "
      ]
     },
     "metadata": {},
     "output_type": "display_data"
    }
   ],
   "source": [
    "# get a count of movies from each year (for entire data (of unique movies))\n",
    "by_year <- number_films_per_year(unique_movies)\n",
    "sample_n(by_year, 5)"
   ]
  },
  {
   "cell_type": "code",
   "execution_count": 33,
   "metadata": {},
   "outputs": [
    {
     "name": "stdout",
     "output_type": "stream",
     "text": [
      "[1] \"---- total counted= 36596\"\n",
      "[1] \"---- unique decades= 11\"\n"
     ]
    },
    {
     "data": {
      "text/html": [
       "<table>\n",
       "<caption>A data.frame: 11 × 2</caption>\n",
       "<thead>\n",
       "\t<tr><th scope=col>decade</th><th scope=col>count</th></tr>\n",
       "\t<tr><th scope=col>&lt;dbl&gt;</th><th scope=col>&lt;dbl&gt;</th></tr>\n",
       "</thead>\n",
       "<tbody>\n",
       "\t<tr><td>1910</td><td>  34</td></tr>\n",
       "\t<tr><td>1920</td><td> 494</td></tr>\n",
       "\t<tr><td>1930</td><td>3031</td></tr>\n",
       "\t<tr><td>1940</td><td>3049</td></tr>\n",
       "\t<tr><td>1950</td><td>2475</td></tr>\n",
       "\t<tr><td>1960</td><td>1583</td></tr>\n",
       "\t<tr><td>1970</td><td>3517</td></tr>\n",
       "\t<tr><td>1980</td><td>3754</td></tr>\n",
       "\t<tr><td>1990</td><td>4916</td></tr>\n",
       "\t<tr><td>2000</td><td>7551</td></tr>\n",
       "\t<tr><td>2010</td><td>6192</td></tr>\n",
       "</tbody>\n",
       "</table>\n"
      ],
      "text/latex": [
       "A data.frame: 11 × 2\n",
       "\\begin{tabular}{ll}\n",
       " decade & count\\\\\n",
       " <dbl> & <dbl>\\\\\n",
       "\\hline\n",
       "\t 1910 &   34\\\\\n",
       "\t 1920 &  494\\\\\n",
       "\t 1930 & 3031\\\\\n",
       "\t 1940 & 3049\\\\\n",
       "\t 1950 & 2475\\\\\n",
       "\t 1960 & 1583\\\\\n",
       "\t 1970 & 3517\\\\\n",
       "\t 1980 & 3754\\\\\n",
       "\t 1990 & 4916\\\\\n",
       "\t 2000 & 7551\\\\\n",
       "\t 2010 & 6192\\\\\n",
       "\\end{tabular}\n"
      ],
      "text/markdown": [
       "\n",
       "A data.frame: 11 × 2\n",
       "\n",
       "| decade &lt;dbl&gt; | count &lt;dbl&gt; |\n",
       "|---|---|\n",
       "| 1910 |   34 |\n",
       "| 1920 |  494 |\n",
       "| 1930 | 3031 |\n",
       "| 1940 | 3049 |\n",
       "| 1950 | 2475 |\n",
       "| 1960 | 1583 |\n",
       "| 1970 | 3517 |\n",
       "| 1980 | 3754 |\n",
       "| 1990 | 4916 |\n",
       "| 2000 | 7551 |\n",
       "| 2010 | 6192 |\n",
       "\n"
      ],
      "text/plain": [
       "   decade count\n",
       "1  1910     34 \n",
       "2  1920    494 \n",
       "3  1930   3031 \n",
       "4  1940   3049 \n",
       "5  1950   2475 \n",
       "6  1960   1583 \n",
       "7  1970   3517 \n",
       "8  1980   3754 \n",
       "9  1990   4916 \n",
       "10 2000   7551 \n",
       "11 2010   6192 "
      ]
     },
     "metadata": {},
     "output_type": "display_data"
    }
   ],
   "source": [
    "# get a count of movies from each decade (for entire data (of unique movies), takes a minute)\n",
    "by_decade <- number_films_per_decade(unique_movies)\n",
    "by_decade"
   ]
  },
  {
   "cell_type": "code",
   "execution_count": 34,
   "metadata": {},
   "outputs": [
    {
     "data": {
      "text/html": [
       "<table>\n",
       "<caption>A data.frame: 18 × 6</caption>\n",
       "<thead>\n",
       "\t<tr><th></th><th scope=col>movie</th><th scope=col>year</th><th scope=col>month</th><th scope=col>genre</th><th scope=col>runtime</th><th scope=col>rating</th></tr>\n",
       "\t<tr><th></th><th scope=col>&lt;chr&gt;</th><th scope=col>&lt;int&gt;</th><th scope=col>&lt;fct&gt;</th><th scope=col>&lt;fct&gt;</th><th scope=col>&lt;dbl&gt;</th><th scope=col>&lt;fct&gt;</th></tr>\n",
       "</thead>\n",
       "<tbody>\n",
       "\t<tr><th scope=row>1119397</th><td>John Wick: Chapter 2 (2017)</td><td>2017</td><td>January </td><td>Action  </td><td>122</td><td>USA:R</td></tr>\n",
       "\t<tr><th scope=row>1119398</th><td>John Wick: Chapter 2 (2017)</td><td>2017</td><td>February</td><td>Action  </td><td>122</td><td>USA:R</td></tr>\n",
       "\t<tr><th scope=row>1119462</th><td>John Wick: Chapter 2 (2017)</td><td>2017</td><td>March   </td><td>Action  </td><td>122</td><td>USA:R</td></tr>\n",
       "\t<tr><th scope=row>1119465</th><td>John Wick: Chapter 2 (2017)</td><td>2017</td><td>April   </td><td>Action  </td><td>122</td><td>USA:R</td></tr>\n",
       "\t<tr><th scope=row>1119466</th><td>John Wick: Chapter 2 (2017)</td><td>2017</td><td>May     </td><td>Action  </td><td>122</td><td>USA:R</td></tr>\n",
       "\t<tr><th scope=row>1119468</th><td>John Wick: Chapter 2 (2017)</td><td>2017</td><td>July    </td><td>Action  </td><td>122</td><td>USA:R</td></tr>\n",
       "\t<tr><th scope=row>1119469</th><td>John Wick: Chapter 2 (2017)</td><td>2017</td><td>January </td><td>Crime   </td><td>122</td><td>USA:R</td></tr>\n",
       "\t<tr><th scope=row>1119470</th><td>John Wick: Chapter 2 (2017)</td><td>2017</td><td>February</td><td>Crime   </td><td>122</td><td>USA:R</td></tr>\n",
       "\t<tr><th scope=row>1119534</th><td>John Wick: Chapter 2 (2017)</td><td>2017</td><td>March   </td><td>Crime   </td><td>122</td><td>USA:R</td></tr>\n",
       "\t<tr><th scope=row>1119537</th><td>John Wick: Chapter 2 (2017)</td><td>2017</td><td>April   </td><td>Crime   </td><td>122</td><td>USA:R</td></tr>\n",
       "\t<tr><th scope=row>1119538</th><td>John Wick: Chapter 2 (2017)</td><td>2017</td><td>May     </td><td>Crime   </td><td>122</td><td>USA:R</td></tr>\n",
       "\t<tr><th scope=row>1119540</th><td>John Wick: Chapter 2 (2017)</td><td>2017</td><td>July    </td><td>Crime   </td><td>122</td><td>USA:R</td></tr>\n",
       "\t<tr><th scope=row>1119541</th><td>John Wick: Chapter 2 (2017)</td><td>2017</td><td>January </td><td>Thriller</td><td>122</td><td>USA:R</td></tr>\n",
       "\t<tr><th scope=row>1119542</th><td>John Wick: Chapter 2 (2017)</td><td>2017</td><td>February</td><td>Thriller</td><td>122</td><td>USA:R</td></tr>\n",
       "\t<tr><th scope=row>1119606</th><td>John Wick: Chapter 2 (2017)</td><td>2017</td><td>March   </td><td>Thriller</td><td>122</td><td>USA:R</td></tr>\n",
       "\t<tr><th scope=row>1119609</th><td>John Wick: Chapter 2 (2017)</td><td>2017</td><td>April   </td><td>Thriller</td><td>122</td><td>USA:R</td></tr>\n",
       "\t<tr><th scope=row>1119610</th><td>John Wick: Chapter 2 (2017)</td><td>2017</td><td>May     </td><td>Thriller</td><td>122</td><td>USA:R</td></tr>\n",
       "\t<tr><th scope=row>1119612</th><td>John Wick: Chapter 2 (2017)</td><td>2017</td><td>July    </td><td>Thriller</td><td>122</td><td>USA:R</td></tr>\n",
       "</tbody>\n",
       "</table>\n"
      ],
      "text/latex": [
       "A data.frame: 18 × 6\n",
       "\\begin{tabular}{r|llllll}\n",
       "  & movie & year & month & genre & runtime & rating\\\\\n",
       "  & <chr> & <int> & <fct> & <fct> & <dbl> & <fct>\\\\\n",
       "\\hline\n",
       "\t1119397 & John Wick: Chapter 2 (2017) & 2017 & January  & Action   & 122 & USA:R\\\\\n",
       "\t1119398 & John Wick: Chapter 2 (2017) & 2017 & February & Action   & 122 & USA:R\\\\\n",
       "\t1119462 & John Wick: Chapter 2 (2017) & 2017 & March    & Action   & 122 & USA:R\\\\\n",
       "\t1119465 & John Wick: Chapter 2 (2017) & 2017 & April    & Action   & 122 & USA:R\\\\\n",
       "\t1119466 & John Wick: Chapter 2 (2017) & 2017 & May      & Action   & 122 & USA:R\\\\\n",
       "\t1119468 & John Wick: Chapter 2 (2017) & 2017 & July     & Action   & 122 & USA:R\\\\\n",
       "\t1119469 & John Wick: Chapter 2 (2017) & 2017 & January  & Crime    & 122 & USA:R\\\\\n",
       "\t1119470 & John Wick: Chapter 2 (2017) & 2017 & February & Crime    & 122 & USA:R\\\\\n",
       "\t1119534 & John Wick: Chapter 2 (2017) & 2017 & March    & Crime    & 122 & USA:R\\\\\n",
       "\t1119537 & John Wick: Chapter 2 (2017) & 2017 & April    & Crime    & 122 & USA:R\\\\\n",
       "\t1119538 & John Wick: Chapter 2 (2017) & 2017 & May      & Crime    & 122 & USA:R\\\\\n",
       "\t1119540 & John Wick: Chapter 2 (2017) & 2017 & July     & Crime    & 122 & USA:R\\\\\n",
       "\t1119541 & John Wick: Chapter 2 (2017) & 2017 & January  & Thriller & 122 & USA:R\\\\\n",
       "\t1119542 & John Wick: Chapter 2 (2017) & 2017 & February & Thriller & 122 & USA:R\\\\\n",
       "\t1119606 & John Wick: Chapter 2 (2017) & 2017 & March    & Thriller & 122 & USA:R\\\\\n",
       "\t1119609 & John Wick: Chapter 2 (2017) & 2017 & April    & Thriller & 122 & USA:R\\\\\n",
       "\t1119610 & John Wick: Chapter 2 (2017) & 2017 & May      & Thriller & 122 & USA:R\\\\\n",
       "\t1119612 & John Wick: Chapter 2 (2017) & 2017 & July     & Thriller & 122 & USA:R\\\\\n",
       "\\end{tabular}\n"
      ],
      "text/markdown": [
       "\n",
       "A data.frame: 18 × 6\n",
       "\n",
       "| <!--/--> | movie &lt;chr&gt; | year &lt;int&gt; | month &lt;fct&gt; | genre &lt;fct&gt; | runtime &lt;dbl&gt; | rating &lt;fct&gt; |\n",
       "|---|---|---|---|---|---|---|\n",
       "| 1119397 | John Wick: Chapter 2 (2017) | 2017 | January  | Action   | 122 | USA:R |\n",
       "| 1119398 | John Wick: Chapter 2 (2017) | 2017 | February | Action   | 122 | USA:R |\n",
       "| 1119462 | John Wick: Chapter 2 (2017) | 2017 | March    | Action   | 122 | USA:R |\n",
       "| 1119465 | John Wick: Chapter 2 (2017) | 2017 | April    | Action   | 122 | USA:R |\n",
       "| 1119466 | John Wick: Chapter 2 (2017) | 2017 | May      | Action   | 122 | USA:R |\n",
       "| 1119468 | John Wick: Chapter 2 (2017) | 2017 | July     | Action   | 122 | USA:R |\n",
       "| 1119469 | John Wick: Chapter 2 (2017) | 2017 | January  | Crime    | 122 | USA:R |\n",
       "| 1119470 | John Wick: Chapter 2 (2017) | 2017 | February | Crime    | 122 | USA:R |\n",
       "| 1119534 | John Wick: Chapter 2 (2017) | 2017 | March    | Crime    | 122 | USA:R |\n",
       "| 1119537 | John Wick: Chapter 2 (2017) | 2017 | April    | Crime    | 122 | USA:R |\n",
       "| 1119538 | John Wick: Chapter 2 (2017) | 2017 | May      | Crime    | 122 | USA:R |\n",
       "| 1119540 | John Wick: Chapter 2 (2017) | 2017 | July     | Crime    | 122 | USA:R |\n",
       "| 1119541 | John Wick: Chapter 2 (2017) | 2017 | January  | Thriller | 122 | USA:R |\n",
       "| 1119542 | John Wick: Chapter 2 (2017) | 2017 | February | Thriller | 122 | USA:R |\n",
       "| 1119606 | John Wick: Chapter 2 (2017) | 2017 | March    | Thriller | 122 | USA:R |\n",
       "| 1119609 | John Wick: Chapter 2 (2017) | 2017 | April    | Thriller | 122 | USA:R |\n",
       "| 1119610 | John Wick: Chapter 2 (2017) | 2017 | May      | Thriller | 122 | USA:R |\n",
       "| 1119612 | John Wick: Chapter 2 (2017) | 2017 | July     | Thriller | 122 | USA:R |\n",
       "\n"
      ],
      "text/plain": [
       "        movie                       year month    genre    runtime rating\n",
       "1119397 John Wick: Chapter 2 (2017) 2017 January  Action   122     USA:R \n",
       "1119398 John Wick: Chapter 2 (2017) 2017 February Action   122     USA:R \n",
       "1119462 John Wick: Chapter 2 (2017) 2017 March    Action   122     USA:R \n",
       "1119465 John Wick: Chapter 2 (2017) 2017 April    Action   122     USA:R \n",
       "1119466 John Wick: Chapter 2 (2017) 2017 May      Action   122     USA:R \n",
       "1119468 John Wick: Chapter 2 (2017) 2017 July     Action   122     USA:R \n",
       "1119469 John Wick: Chapter 2 (2017) 2017 January  Crime    122     USA:R \n",
       "1119470 John Wick: Chapter 2 (2017) 2017 February Crime    122     USA:R \n",
       "1119534 John Wick: Chapter 2 (2017) 2017 March    Crime    122     USA:R \n",
       "1119537 John Wick: Chapter 2 (2017) 2017 April    Crime    122     USA:R \n",
       "1119538 John Wick: Chapter 2 (2017) 2017 May      Crime    122     USA:R \n",
       "1119540 John Wick: Chapter 2 (2017) 2017 July     Crime    122     USA:R \n",
       "1119541 John Wick: Chapter 2 (2017) 2017 January  Thriller 122     USA:R \n",
       "1119542 John Wick: Chapter 2 (2017) 2017 February Thriller 122     USA:R \n",
       "1119606 John Wick: Chapter 2 (2017) 2017 March    Thriller 122     USA:R \n",
       "1119609 John Wick: Chapter 2 (2017) 2017 April    Thriller 122     USA:R \n",
       "1119610 John Wick: Chapter 2 (2017) 2017 May      Thriller 122     USA:R \n",
       "1119612 John Wick: Chapter 2 (2017) 2017 July     Thriller 122     USA:R "
      ]
     },
     "metadata": {},
     "output_type": "display_data"
    }
   ],
   "source": [
    "# get rows for a movie by partial name (can exclude year from its name)\n",
    "# lots of movies have differing release months for some reason\n",
    "# this SHOULD output 3 rows, 1 for each genre but many release months prevents this :(\n",
    "jw2 <- data[str_detect(data$movie, \"John Wick: Chapter 2\"), ]\n",
    "jw2"
   ]
  },
  {
   "cell_type": "code",
   "execution_count": 35,
   "metadata": {},
   "outputs": [
    {
     "name": "stdout",
     "output_type": "stream",
     "text": [
      "[1] \"---- total counted= 36596\"\n",
      "[1] \"---- unique months= 12\"\n"
     ]
    },
    {
     "data": {
      "text/html": [
       "<table>\n",
       "<caption>A tibble: 12 × 2</caption>\n",
       "<thead>\n",
       "\t<tr><th scope=col>month</th><th scope=col>count</th></tr>\n",
       "\t<tr><th scope=col>&lt;fct&gt;</th><th scope=col>&lt;int&gt;</th></tr>\n",
       "</thead>\n",
       "<tbody>\n",
       "\t<tr><td>January  </td><td>3150</td></tr>\n",
       "\t<tr><td>February </td><td>2511</td></tr>\n",
       "\t<tr><td>March    </td><td>3105</td></tr>\n",
       "\t<tr><td>April    </td><td>3082</td></tr>\n",
       "\t<tr><td>May      </td><td>3485</td></tr>\n",
       "\t<tr><td>June     </td><td>2651</td></tr>\n",
       "\t<tr><td>July     </td><td>2410</td></tr>\n",
       "\t<tr><td>August   </td><td>2921</td></tr>\n",
       "\t<tr><td>September</td><td>4453</td></tr>\n",
       "\t<tr><td>October  </td><td>3478</td></tr>\n",
       "\t<tr><td>November </td><td>2667</td></tr>\n",
       "\t<tr><td>December </td><td>2683</td></tr>\n",
       "</tbody>\n",
       "</table>\n"
      ],
      "text/latex": [
       "A tibble: 12 × 2\n",
       "\\begin{tabular}{ll}\n",
       " month & count\\\\\n",
       " <fct> & <int>\\\\\n",
       "\\hline\n",
       "\t January   & 3150\\\\\n",
       "\t February  & 2511\\\\\n",
       "\t March     & 3105\\\\\n",
       "\t April     & 3082\\\\\n",
       "\t May       & 3485\\\\\n",
       "\t June      & 2651\\\\\n",
       "\t July      & 2410\\\\\n",
       "\t August    & 2921\\\\\n",
       "\t September & 4453\\\\\n",
       "\t October   & 3478\\\\\n",
       "\t November  & 2667\\\\\n",
       "\t December  & 2683\\\\\n",
       "\\end{tabular}\n"
      ],
      "text/markdown": [
       "\n",
       "A tibble: 12 × 2\n",
       "\n",
       "| month &lt;fct&gt; | count &lt;int&gt; |\n",
       "|---|---|\n",
       "| January   | 3150 |\n",
       "| February  | 2511 |\n",
       "| March     | 3105 |\n",
       "| April     | 3082 |\n",
       "| May       | 3485 |\n",
       "| June      | 2651 |\n",
       "| July      | 2410 |\n",
       "| August    | 2921 |\n",
       "| September | 4453 |\n",
       "| October   | 3478 |\n",
       "| November  | 2667 |\n",
       "| December  | 2683 |\n",
       "\n"
      ],
      "text/plain": [
       "   month     count\n",
       "1  January   3150 \n",
       "2  February  2511 \n",
       "3  March     3105 \n",
       "4  April     3082 \n",
       "5  May       3485 \n",
       "6  June      2651 \n",
       "7  July      2410 \n",
       "8  August    2921 \n",
       "9  September 4453 \n",
       "10 October   3478 \n",
       "11 November  2667 \n",
       "12 December  2683 "
      ]
     },
     "metadata": {},
     "output_type": "display_data"
    }
   ],
   "source": [
    "# !!!\n",
    "# since most movies have several months/genres as listed above, the leftover month\n",
    "# from the unique_films table might not be correct so the months table below is skewed\n",
    "# !!!\n",
    "\n",
    "# get a count of movies from each month (for entire data (of unique movies))\n",
    "by_month <- number_films_per_month(unique_movies)\n",
    "by_month"
   ]
  },
  {
   "cell_type": "code",
   "execution_count": 36,
   "metadata": {},
   "outputs": [
    {
     "name": "stdout",
     "output_type": "stream",
     "text": [
      "[1] \"---- total counted= 36596\"\n",
      "[1] \"---- unique runtimes= 395\"\n"
     ]
    },
    {
     "data": {
      "text/html": [
       "<table>\n",
       "<caption>A data.frame: 5 × 2</caption>\n",
       "<thead>\n",
       "\t<tr><th scope=col>runtime</th><th scope=col>count</th></tr>\n",
       "\t<tr><th scope=col>&lt;dbl&gt;</th><th scope=col>&lt;dbl&gt;</th></tr>\n",
       "</thead>\n",
       "<tbody>\n",
       "\t<tr><td>261</td><td> 1</td></tr>\n",
       "\t<tr><td>303</td><td> 1</td></tr>\n",
       "\t<tr><td>280</td><td> 2</td></tr>\n",
       "\t<tr><td>248</td><td> 3</td></tr>\n",
       "\t<tr><td>147</td><td>17</td></tr>\n",
       "</tbody>\n",
       "</table>\n"
      ],
      "text/latex": [
       "A data.frame: 5 × 2\n",
       "\\begin{tabular}{ll}\n",
       " runtime & count\\\\\n",
       " <dbl> & <dbl>\\\\\n",
       "\\hline\n",
       "\t 261 &  1\\\\\n",
       "\t 303 &  1\\\\\n",
       "\t 280 &  2\\\\\n",
       "\t 248 &  3\\\\\n",
       "\t 147 & 17\\\\\n",
       "\\end{tabular}\n"
      ],
      "text/markdown": [
       "\n",
       "A data.frame: 5 × 2\n",
       "\n",
       "| runtime &lt;dbl&gt; | count &lt;dbl&gt; |\n",
       "|---|---|\n",
       "| 261 |  1 |\n",
       "| 303 |  1 |\n",
       "| 280 |  2 |\n",
       "| 248 |  3 |\n",
       "| 147 | 17 |\n",
       "\n"
      ],
      "text/plain": [
       "  runtime count\n",
       "1 261      1   \n",
       "2 303      1   \n",
       "3 280      2   \n",
       "4 248      3   \n",
       "5 147     17   "
      ]
     },
     "metadata": {},
     "output_type": "display_data"
    }
   ],
   "source": [
    "# get a distribution of runtimes\n",
    "by_runtime <- distribution_of_runtimes(unique_movies)\n",
    "sample_n(by_runtime, 5)"
   ]
  },
  {
   "cell_type": "code",
   "execution_count": 37,
   "metadata": {},
   "outputs": [
    {
     "name": "stdout",
     "output_type": "stream",
     "text": [
      "[1] \"---- total counted= 36596\"\n",
      "[1] \"---- unique certificates= 12\"\n"
     ]
    },
    {
     "data": {
      "text/html": [
       "<table>\n",
       "<caption>A tibble: 12 × 2</caption>\n",
       "<thead>\n",
       "\t<tr><th scope=col>rating</th><th scope=col>count</th></tr>\n",
       "\t<tr><th scope=col>&lt;fct&gt;</th><th scope=col>&lt;int&gt;</th></tr>\n",
       "</thead>\n",
       "<tbody>\n",
       "\t<tr><td>USA:(Banned)</td><td>    1</td></tr>\n",
       "\t<tr><td>USA:12      </td><td>    4</td></tr>\n",
       "\t<tr><td>USA:AO      </td><td>    3</td></tr>\n",
       "\t<tr><td>USA:Approved</td><td> 6604</td></tr>\n",
       "\t<tr><td>USA:G       </td><td> 1175</td></tr>\n",
       "\t<tr><td>USA:GP      </td><td>  186</td></tr>\n",
       "\t<tr><td>USA:Open    </td><td>    9</td></tr>\n",
       "\t<tr><td>USA:Passed  </td><td> 2776</td></tr>\n",
       "\t<tr><td>USA:PG      </td><td> 4418</td></tr>\n",
       "\t<tr><td>USA:PG-13   </td><td> 4273</td></tr>\n",
       "\t<tr><td>USA:R       </td><td>14191</td></tr>\n",
       "\t<tr><td>USA:Unrated </td><td> 2956</td></tr>\n",
       "</tbody>\n",
       "</table>\n"
      ],
      "text/latex": [
       "A tibble: 12 × 2\n",
       "\\begin{tabular}{ll}\n",
       " rating & count\\\\\n",
       " <fct> & <int>\\\\\n",
       "\\hline\n",
       "\t USA:(Banned) &     1\\\\\n",
       "\t USA:12       &     4\\\\\n",
       "\t USA:AO       &     3\\\\\n",
       "\t USA:Approved &  6604\\\\\n",
       "\t USA:G        &  1175\\\\\n",
       "\t USA:GP       &   186\\\\\n",
       "\t USA:Open     &     9\\\\\n",
       "\t USA:Passed   &  2776\\\\\n",
       "\t USA:PG       &  4418\\\\\n",
       "\t USA:PG-13    &  4273\\\\\n",
       "\t USA:R        & 14191\\\\\n",
       "\t USA:Unrated  &  2956\\\\\n",
       "\\end{tabular}\n"
      ],
      "text/markdown": [
       "\n",
       "A tibble: 12 × 2\n",
       "\n",
       "| rating &lt;fct&gt; | count &lt;int&gt; |\n",
       "|---|---|\n",
       "| USA:(Banned) |     1 |\n",
       "| USA:12       |     4 |\n",
       "| USA:AO       |     3 |\n",
       "| USA:Approved |  6604 |\n",
       "| USA:G        |  1175 |\n",
       "| USA:GP       |   186 |\n",
       "| USA:Open     |     9 |\n",
       "| USA:Passed   |  2776 |\n",
       "| USA:PG       |  4418 |\n",
       "| USA:PG-13    |  4273 |\n",
       "| USA:R        | 14191 |\n",
       "| USA:Unrated  |  2956 |\n",
       "\n"
      ],
      "text/plain": [
       "   rating       count\n",
       "1  USA:(Banned)     1\n",
       "2  USA:12           4\n",
       "3  USA:AO           3\n",
       "4  USA:Approved  6604\n",
       "5  USA:G         1175\n",
       "6  USA:GP         186\n",
       "7  USA:Open         9\n",
       "8  USA:Passed    2776\n",
       "9  USA:PG        4418\n",
       "10 USA:PG-13     4273\n",
       "11 USA:R        14191\n",
       "12 USA:Unrated   2956"
      ]
     },
     "metadata": {},
     "output_type": "display_data"
    }
   ],
   "source": [
    "# get a distribution of certificate\n",
    "by_certificates <- distribution_of_certificates(unique_movies)\n",
    "by_certificates"
   ]
  },
  {
   "cell_type": "code",
   "execution_count": 38,
   "metadata": {},
   "outputs": [
    {
     "name": "stdout",
     "output_type": "stream",
     "text": [
      "[1] \"---- total counted= 36596\"\n",
      "[1] \"---- unique genres= 22\"\n"
     ]
    },
    {
     "data": {
      "text/html": [
       "<table>\n",
       "<caption>A tibble: 22 × 2</caption>\n",
       "<thead>\n",
       "\t<tr><th scope=col>genre</th><th scope=col>count</th></tr>\n",
       "\t<tr><th scope=col>&lt;fct&gt;</th><th scope=col>&lt;int&gt;</th></tr>\n",
       "</thead>\n",
       "<tbody>\n",
       "\t<tr><td>Action     </td><td>6226</td></tr>\n",
       "\t<tr><td>Adventure  </td><td>2399</td></tr>\n",
       "\t<tr><td>Animation  </td><td> 294</td></tr>\n",
       "\t<tr><td>Biography  </td><td>1172</td></tr>\n",
       "\t<tr><td>Comedy     </td><td>9399</td></tr>\n",
       "\t<tr><td>Crime      </td><td>2834</td></tr>\n",
       "\t<tr><td>Documentary</td><td>1255</td></tr>\n",
       "\t<tr><td>Drama      </td><td>8243</td></tr>\n",
       "\t<tr><td>Family     </td><td> 161</td></tr>\n",
       "\t<tr><td>Fantasy    </td><td> 162</td></tr>\n",
       "\t<tr><td>Film-Noir  </td><td>  33</td></tr>\n",
       "\t<tr><td>History    </td><td>  27</td></tr>\n",
       "\t<tr><td>Horror     </td><td>2230</td></tr>\n",
       "\t<tr><td>Music      </td><td>  71</td></tr>\n",
       "\t<tr><td>Musical    </td><td> 158</td></tr>\n",
       "\t<tr><td>Mystery    </td><td> 276</td></tr>\n",
       "\t<tr><td>Romance    </td><td> 232</td></tr>\n",
       "\t<tr><td>Sci-Fi     </td><td> 151</td></tr>\n",
       "\t<tr><td>Sport      </td><td>   8</td></tr>\n",
       "\t<tr><td>Thriller   </td><td> 467</td></tr>\n",
       "\t<tr><td>War        </td><td>  14</td></tr>\n",
       "\t<tr><td>Western    </td><td> 784</td></tr>\n",
       "</tbody>\n",
       "</table>\n"
      ],
      "text/latex": [
       "A tibble: 22 × 2\n",
       "\\begin{tabular}{ll}\n",
       " genre & count\\\\\n",
       " <fct> & <int>\\\\\n",
       "\\hline\n",
       "\t Action      & 6226\\\\\n",
       "\t Adventure   & 2399\\\\\n",
       "\t Animation   &  294\\\\\n",
       "\t Biography   & 1172\\\\\n",
       "\t Comedy      & 9399\\\\\n",
       "\t Crime       & 2834\\\\\n",
       "\t Documentary & 1255\\\\\n",
       "\t Drama       & 8243\\\\\n",
       "\t Family      &  161\\\\\n",
       "\t Fantasy     &  162\\\\\n",
       "\t Film-Noir   &   33\\\\\n",
       "\t History     &   27\\\\\n",
       "\t Horror      & 2230\\\\\n",
       "\t Music       &   71\\\\\n",
       "\t Musical     &  158\\\\\n",
       "\t Mystery     &  276\\\\\n",
       "\t Romance     &  232\\\\\n",
       "\t Sci-Fi      &  151\\\\\n",
       "\t Sport       &    8\\\\\n",
       "\t Thriller    &  467\\\\\n",
       "\t War         &   14\\\\\n",
       "\t Western     &  784\\\\\n",
       "\\end{tabular}\n"
      ],
      "text/markdown": [
       "\n",
       "A tibble: 22 × 2\n",
       "\n",
       "| genre &lt;fct&gt; | count &lt;int&gt; |\n",
       "|---|---|\n",
       "| Action      | 6226 |\n",
       "| Adventure   | 2399 |\n",
       "| Animation   |  294 |\n",
       "| Biography   | 1172 |\n",
       "| Comedy      | 9399 |\n",
       "| Crime       | 2834 |\n",
       "| Documentary | 1255 |\n",
       "| Drama       | 8243 |\n",
       "| Family      |  161 |\n",
       "| Fantasy     |  162 |\n",
       "| Film-Noir   |   33 |\n",
       "| History     |   27 |\n",
       "| Horror      | 2230 |\n",
       "| Music       |   71 |\n",
       "| Musical     |  158 |\n",
       "| Mystery     |  276 |\n",
       "| Romance     |  232 |\n",
       "| Sci-Fi      |  151 |\n",
       "| Sport       |    8 |\n",
       "| Thriller    |  467 |\n",
       "| War         |   14 |\n",
       "| Western     |  784 |\n",
       "\n"
      ],
      "text/plain": [
       "   genre       count\n",
       "1  Action      6226 \n",
       "2  Adventure   2399 \n",
       "3  Animation    294 \n",
       "4  Biography   1172 \n",
       "5  Comedy      9399 \n",
       "6  Crime       2834 \n",
       "7  Documentary 1255 \n",
       "8  Drama       8243 \n",
       "9  Family       161 \n",
       "10 Fantasy      162 \n",
       "11 Film-Noir     33 \n",
       "12 History       27 \n",
       "13 Horror      2230 \n",
       "14 Music         71 \n",
       "15 Musical      158 \n",
       "16 Mystery      276 \n",
       "17 Romance      232 \n",
       "18 Sci-Fi       151 \n",
       "19 Sport          8 \n",
       "20 Thriller     467 \n",
       "21 War           14 \n",
       "22 Western      784 "
      ]
     },
     "metadata": {},
     "output_type": "display_data"
    }
   ],
   "source": [
    "# get a distribution of genres\n",
    "by_genre <- distribution_of_genres(unique_movies)\n",
    "by_genre"
   ]
  },
  {
   "cell_type": "code",
   "execution_count": 39,
   "metadata": {},
   "outputs": [
    {
     "ename": "ERROR",
     "evalue": "Error in eval(lhs, parent, parent): object 'keywords_subset' not found\n",
     "output_type": "error",
     "traceback": [
      "Error in eval(lhs, parent, parent): object 'keywords_subset' not found\nTraceback:\n",
      "1. distribution_of_keywords(keywords_subset, n)",
      "2. table %>% group_by(keyword) %>% summarize(count = n())   # at line 148 of file <text>",
      "3. eval(lhs, parent, parent)",
      "4. eval(lhs, parent, parent)"
     ]
    }
   ],
   "source": [
    "# get a distribution of top n keywords\n",
    "n = 10\n",
    "by_keywords <- distribution_of_keywords(keywords_subset, n)\n",
    "by_keywords"
   ]
  },
  {
   "cell_type": "code",
   "execution_count": 53,
   "metadata": {},
   "outputs": [],
   "source": [
    "############## AVERAGES BELOW ##############"
   ]
  },
  {
   "cell_type": "code",
   "execution_count": 54,
   "metadata": {},
   "outputs": [
    {
     "name": "stdout",
     "output_type": "stream",
     "text": [
      "[1] \"---- avg films per year= 338\"\n",
      "[1] \"---- avg films per month= 28\"\n"
     ]
    },
    {
     "data": {
      "text/html": [
       "<table>\n",
       "<caption>A tibble: 12 × 2</caption>\n",
       "<thead>\n",
       "\t<tr><th scope=col>month</th><th scope=col>average</th></tr>\n",
       "\t<tr><th scope=col>&lt;fct&gt;</th><th scope=col>&lt;dbl&gt;</th></tr>\n",
       "</thead>\n",
       "<tbody>\n",
       "\t<tr><td>January  </td><td>29.16667</td></tr>\n",
       "\t<tr><td>February </td><td>23.25000</td></tr>\n",
       "\t<tr><td>March    </td><td>28.75000</td></tr>\n",
       "\t<tr><td>April    </td><td>28.53704</td></tr>\n",
       "\t<tr><td>May      </td><td>32.26852</td></tr>\n",
       "\t<tr><td>June     </td><td>24.54630</td></tr>\n",
       "\t<tr><td>July     </td><td>22.31481</td></tr>\n",
       "\t<tr><td>August   </td><td>27.04630</td></tr>\n",
       "\t<tr><td>September</td><td>41.23148</td></tr>\n",
       "\t<tr><td>October  </td><td>32.20370</td></tr>\n",
       "\t<tr><td>November </td><td>24.69444</td></tr>\n",
       "\t<tr><td>December </td><td>24.84259</td></tr>\n",
       "</tbody>\n",
       "</table>\n"
      ],
      "text/latex": [
       "A tibble: 12 × 2\n",
       "\\begin{tabular}{ll}\n",
       " month & average\\\\\n",
       " <fct> & <dbl>\\\\\n",
       "\\hline\n",
       "\t January   & 29.16667\\\\\n",
       "\t February  & 23.25000\\\\\n",
       "\t March     & 28.75000\\\\\n",
       "\t April     & 28.53704\\\\\n",
       "\t May       & 32.26852\\\\\n",
       "\t June      & 24.54630\\\\\n",
       "\t July      & 22.31481\\\\\n",
       "\t August    & 27.04630\\\\\n",
       "\t September & 41.23148\\\\\n",
       "\t October   & 32.20370\\\\\n",
       "\t November  & 24.69444\\\\\n",
       "\t December  & 24.84259\\\\\n",
       "\\end{tabular}\n"
      ],
      "text/markdown": [
       "\n",
       "A tibble: 12 × 2\n",
       "\n",
       "| month &lt;fct&gt; | average &lt;dbl&gt; |\n",
       "|---|---|\n",
       "| January   | 29.16667 |\n",
       "| February  | 23.25000 |\n",
       "| March     | 28.75000 |\n",
       "| April     | 28.53704 |\n",
       "| May       | 32.26852 |\n",
       "| June      | 24.54630 |\n",
       "| July      | 22.31481 |\n",
       "| August    | 27.04630 |\n",
       "| September | 41.23148 |\n",
       "| October   | 32.20370 |\n",
       "| November  | 24.69444 |\n",
       "| December  | 24.84259 |\n",
       "\n"
      ],
      "text/plain": [
       "   month     average \n",
       "1  January   29.16667\n",
       "2  February  23.25000\n",
       "3  March     28.75000\n",
       "4  April     28.53704\n",
       "5  May       32.26852\n",
       "6  June      24.54630\n",
       "7  July      22.31481\n",
       "8  August    27.04630\n",
       "9  September 41.23148\n",
       "10 October   32.20370\n",
       "11 November  24.69444\n",
       "12 December  24.84259"
      ]
     },
     "metadata": {},
     "output_type": "display_data"
    },
    {
     "name": "stdout",
     "output_type": "stream",
     "text": [
      "[1] \"---- avg runtime= 95\"\n"
     ]
    }
   ],
   "source": [
    "# get average films per year, month, and average runtime\n",
    "\n",
    "# average fims per year: sum of films divided by total years observed\n",
    "#avg_per_year = trunc(total_films / unique_years)\n",
    "unique_years = as.numeric(count(by_year))\n",
    "avg_per_year = trunc(unique_films / unique_years)\n",
    "print(paste0(\"---- avg films per year= \", avg_per_year))\n",
    "\n",
    "# average films per month: sum of films each month, each sum divided by total years observed; then average these results\n",
    "unique_months = as.numeric(count(by_month))\n",
    "avg_by_month <- by_month\n",
    "avg_by_month$count <- by_month$count / unique_years\n",
    "names(avg_by_month)[2] <- \"average\"\n",
    "avg_per_month = trunc(as.numeric(sum(avg_by_month$average) / unique_months))\n",
    "print(paste0(\"---- avg films per month= \", avg_per_month))\n",
    "avg_by_month\n",
    "\n",
    "# average runtime: sum of each runtime divided by total runtime observations\n",
    "avg_runtime = trunc(mean(unique_movies$runtime))\n",
    "print(paste0(\"---- avg runtime= \", avg_runtime))"
   ]
  },
  {
   "cell_type": "code",
   "execution_count": 55,
   "metadata": {},
   "outputs": [],
   "source": [
    "############## CHOOSE YEAR OR DECADE ##############"
   ]
  },
  {
   "cell_type": "code",
   "execution_count": 56,
   "metadata": {},
   "outputs": [
    {
     "data": {
      "text/html": [
       "<table>\n",
       "<caption>A data.frame: 10 × 6</caption>\n",
       "<thead>\n",
       "\t<tr><th scope=col>movie</th><th scope=col>year</th><th scope=col>month</th><th scope=col>genre</th><th scope=col>runtime</th><th scope=col>rating</th></tr>\n",
       "\t<tr><th scope=col>&lt;chr&gt;</th><th scope=col>&lt;int&gt;</th><th scope=col>&lt;fct&gt;</th><th scope=col>&lt;fct&gt;</th><th scope=col>&lt;dbl&gt;</th><th scope=col>&lt;fct&gt;</th></tr>\n",
       "</thead>\n",
       "<tbody>\n",
       "\t<tr><td>Real Steel (2011)               </td><td>2011</td><td>October </td><td>Drama      </td><td>127</td><td>USA:PG-13  </td></tr>\n",
       "\t<tr><td>Paul (2011)                     </td><td>2011</td><td>May     </td><td>Sci-Fi     </td><td>104</td><td>USA:R      </td></tr>\n",
       "\t<tr><td>Bridesmaids (2011/I)            </td><td>2011</td><td>August  </td><td>Comedy     </td><td>125</td><td>USA:R      </td></tr>\n",
       "\t<tr><td>Rio (2011)                      </td><td>2011</td><td>December</td><td>Comedy     </td><td> 96</td><td>USA:G      </td></tr>\n",
       "\t<tr><td>Pina (2011)                     </td><td>2011</td><td>April   </td><td>Documentary</td><td>103</td><td>USA:PG     </td></tr>\n",
       "\t<tr><td>Some Guy Who Kills People (2011)</td><td>2011</td><td>December</td><td>Crime      </td><td> 97</td><td>USA:R      </td></tr>\n",
       "\t<tr><td>Si tu meurs, je te tue (2011)   </td><td>2011</td><td>March   </td><td>Drama      </td><td> 95</td><td>USA:R      </td></tr>\n",
       "\t<tr><td>Xin hai ge ming (2011)          </td><td>2011</td><td>October </td><td>Adventure  </td><td>121</td><td>USA:R      </td></tr>\n",
       "\t<tr><td>Winnie the Pooh (2011)          </td><td>2011</td><td>August  </td><td>Family     </td><td> 63</td><td>USA:G      </td></tr>\n",
       "\t<tr><td>Les hommes libres (2011)        </td><td>2011</td><td>November</td><td>Drama      </td><td> 99</td><td>USA:Unrated</td></tr>\n",
       "</tbody>\n",
       "</table>\n"
      ],
      "text/latex": [
       "A data.frame: 10 × 6\n",
       "\\begin{tabular}{llllll}\n",
       " movie & year & month & genre & runtime & rating\\\\\n",
       " <chr> & <int> & <fct> & <fct> & <dbl> & <fct>\\\\\n",
       "\\hline\n",
       "\t Real Steel (2011)                & 2011 & October  & Drama       & 127 & USA:PG-13  \\\\\n",
       "\t Paul (2011)                      & 2011 & May      & Sci-Fi      & 104 & USA:R      \\\\\n",
       "\t Bridesmaids (2011/I)             & 2011 & August   & Comedy      & 125 & USA:R      \\\\\n",
       "\t Rio (2011)                       & 2011 & December & Comedy      &  96 & USA:G      \\\\\n",
       "\t Pina (2011)                      & 2011 & April    & Documentary & 103 & USA:PG     \\\\\n",
       "\t Some Guy Who Kills People (2011) & 2011 & December & Crime       &  97 & USA:R      \\\\\n",
       "\t Si tu meurs, je te tue (2011)    & 2011 & March    & Drama       &  95 & USA:R      \\\\\n",
       "\t Xin hai ge ming (2011)           & 2011 & October  & Adventure   & 121 & USA:R      \\\\\n",
       "\t Winnie the Pooh (2011)           & 2011 & August   & Family      &  63 & USA:G      \\\\\n",
       "\t Les hommes libres (2011)         & 2011 & November & Drama       &  99 & USA:Unrated\\\\\n",
       "\\end{tabular}\n"
      ],
      "text/markdown": [
       "\n",
       "A data.frame: 10 × 6\n",
       "\n",
       "| movie &lt;chr&gt; | year &lt;int&gt; | month &lt;fct&gt; | genre &lt;fct&gt; | runtime &lt;dbl&gt; | rating &lt;fct&gt; |\n",
       "|---|---|---|---|---|---|\n",
       "| Real Steel (2011)                | 2011 | October  | Drama       | 127 | USA:PG-13   |\n",
       "| Paul (2011)                      | 2011 | May      | Sci-Fi      | 104 | USA:R       |\n",
       "| Bridesmaids (2011/I)             | 2011 | August   | Comedy      | 125 | USA:R       |\n",
       "| Rio (2011)                       | 2011 | December | Comedy      |  96 | USA:G       |\n",
       "| Pina (2011)                      | 2011 | April    | Documentary | 103 | USA:PG      |\n",
       "| Some Guy Who Kills People (2011) | 2011 | December | Crime       |  97 | USA:R       |\n",
       "| Si tu meurs, je te tue (2011)    | 2011 | March    | Drama       |  95 | USA:R       |\n",
       "| Xin hai ge ming (2011)           | 2011 | October  | Adventure   | 121 | USA:R       |\n",
       "| Winnie the Pooh (2011)           | 2011 | August   | Family      |  63 | USA:G       |\n",
       "| Les hommes libres (2011)         | 2011 | November | Drama       |  99 | USA:Unrated |\n",
       "\n"
      ],
      "text/plain": [
       "   movie                            year month    genre       runtime\n",
       "1  Real Steel (2011)                2011 October  Drama       127    \n",
       "2  Paul (2011)                      2011 May      Sci-Fi      104    \n",
       "3  Bridesmaids (2011/I)             2011 August   Comedy      125    \n",
       "4  Rio (2011)                       2011 December Comedy       96    \n",
       "5  Pina (2011)                      2011 April    Documentary 103    \n",
       "6  Some Guy Who Kills People (2011) 2011 December Crime        97    \n",
       "7  Si tu meurs, je te tue (2011)    2011 March    Drama        95    \n",
       "8  Xin hai ge ming (2011)           2011 October  Adventure   121    \n",
       "9  Winnie the Pooh (2011)           2011 August   Family       63    \n",
       "10 Les hommes libres (2011)         2011 November Drama        99    \n",
       "   rating     \n",
       "1  USA:PG-13  \n",
       "2  USA:R      \n",
       "3  USA:R      \n",
       "4  USA:G      \n",
       "5  USA:PG     \n",
       "6  USA:R      \n",
       "7  USA:R      \n",
       "8  USA:R      \n",
       "9  USA:G      \n",
       "10 USA:Unrated"
      ]
     },
     "metadata": {},
     "output_type": "display_data"
    }
   ],
   "source": [
    "# get items by year\n",
    "selected_year = 2011\n",
    "\n",
    "# USE THIS ONE TO FETCH MOVIES BY YEAR FROM THEIR NAME (I noticed some movies have a different year than in the name, but possibly not in this combined table)\n",
    "# movie year found in movie name i.e. \"{Title} (2014)\" or \"{Title} (2014/I)\", extract year via pattern matching because year column is inaccurate for some reason\n",
    "#regex_year = paste0(\"\\\\(\", selected_year, \"\\\\)|\\\\(\", selected_year, \"\\\\/\")\n",
    "#movies_in_selected_year <- subset(data, grepl(regex_year, movie))\n",
    "\n",
    "# fetch the movies by the selected year\n",
    "movies_in_selected_year <- subset(data, year == selected_year)\n",
    "\n",
    "# output a sample of movies found for given year\n",
    "sample_n(movies_in_selected_year, 10)"
   ]
  },
  {
   "cell_type": "code",
   "execution_count": 57,
   "metadata": {},
   "outputs": [
    {
     "data": {
      "text/html": [
       "<table>\n",
       "<caption>A data.frame: 10 × 6</caption>\n",
       "<thead>\n",
       "\t<tr><th scope=col>movie</th><th scope=col>year</th><th scope=col>month</th><th scope=col>genre</th><th scope=col>runtime</th><th scope=col>rating</th></tr>\n",
       "\t<tr><th scope=col>&lt;chr&gt;</th><th scope=col>&lt;int&gt;</th><th scope=col>&lt;fct&gt;</th><th scope=col>&lt;fct&gt;</th><th scope=col>&lt;dbl&gt;</th><th scope=col>&lt;fct&gt;</th></tr>\n",
       "</thead>\n",
       "<tbody>\n",
       "\t<tr><td>The Girl in the Photographs (2015)</td><td>2015</td><td>November </td><td>Horror   </td><td> 95</td><td>USA:R      </td></tr>\n",
       "\t<tr><td>Eden (2014/II)                    </td><td>2014</td><td>November </td><td>Music    </td><td>131</td><td>USA:R      </td></tr>\n",
       "\t<tr><td>American Weightlifting (2013)     </td><td>2013</td><td>November </td><td>History  </td><td>118</td><td>USA:Unrated</td></tr>\n",
       "\t<tr><td>A Perfect Day (2015)              </td><td>2015</td><td>September</td><td>Drama    </td><td>106</td><td>USA:R      </td></tr>\n",
       "\t<tr><td>Life After Beth (2014)            </td><td>2014</td><td>July     </td><td>Horror   </td><td> 89</td><td>USA:R      </td></tr>\n",
       "\t<tr><td>Season of the Witch (2011)        </td><td>2011</td><td>July     </td><td>Action   </td><td> 95</td><td>USA:PG-13  </td></tr>\n",
       "\t<tr><td>Appleseed Alpha (2014)            </td><td>2014</td><td>July     </td><td>Sci-Fi   </td><td> 93</td><td>USA:PG-13  </td></tr>\n",
       "\t<tr><td>The Whole Truth (2016)            </td><td>2016</td><td>June     </td><td>Drama    </td><td> 94</td><td>USA:R      </td></tr>\n",
       "\t<tr><td>The Desert of Forbidden Art (2010)</td><td>2010</td><td>April    </td><td>Adventure</td><td> 80</td><td>USA:PG     </td></tr>\n",
       "\t<tr><td>Angry Birds (2016)                </td><td>2016</td><td>May      </td><td>Animation</td><td> 97</td><td>USA:PG     </td></tr>\n",
       "</tbody>\n",
       "</table>\n"
      ],
      "text/latex": [
       "A data.frame: 10 × 6\n",
       "\\begin{tabular}{llllll}\n",
       " movie & year & month & genre & runtime & rating\\\\\n",
       " <chr> & <int> & <fct> & <fct> & <dbl> & <fct>\\\\\n",
       "\\hline\n",
       "\t The Girl in the Photographs (2015) & 2015 & November  & Horror    &  95 & USA:R      \\\\\n",
       "\t Eden (2014/II)                     & 2014 & November  & Music     & 131 & USA:R      \\\\\n",
       "\t American Weightlifting (2013)      & 2013 & November  & History   & 118 & USA:Unrated\\\\\n",
       "\t A Perfect Day (2015)               & 2015 & September & Drama     & 106 & USA:R      \\\\\n",
       "\t Life After Beth (2014)             & 2014 & July      & Horror    &  89 & USA:R      \\\\\n",
       "\t Season of the Witch (2011)         & 2011 & July      & Action    &  95 & USA:PG-13  \\\\\n",
       "\t Appleseed Alpha (2014)             & 2014 & July      & Sci-Fi    &  93 & USA:PG-13  \\\\\n",
       "\t The Whole Truth (2016)             & 2016 & June      & Drama     &  94 & USA:R      \\\\\n",
       "\t The Desert of Forbidden Art (2010) & 2010 & April     & Adventure &  80 & USA:PG     \\\\\n",
       "\t Angry Birds (2016)                 & 2016 & May       & Animation &  97 & USA:PG     \\\\\n",
       "\\end{tabular}\n"
      ],
      "text/markdown": [
       "\n",
       "A data.frame: 10 × 6\n",
       "\n",
       "| movie &lt;chr&gt; | year &lt;int&gt; | month &lt;fct&gt; | genre &lt;fct&gt; | runtime &lt;dbl&gt; | rating &lt;fct&gt; |\n",
       "|---|---|---|---|---|---|\n",
       "| The Girl in the Photographs (2015) | 2015 | November  | Horror    |  95 | USA:R       |\n",
       "| Eden (2014/II)                     | 2014 | November  | Music     | 131 | USA:R       |\n",
       "| American Weightlifting (2013)      | 2013 | November  | History   | 118 | USA:Unrated |\n",
       "| A Perfect Day (2015)               | 2015 | September | Drama     | 106 | USA:R       |\n",
       "| Life After Beth (2014)             | 2014 | July      | Horror    |  89 | USA:R       |\n",
       "| Season of the Witch (2011)         | 2011 | July      | Action    |  95 | USA:PG-13   |\n",
       "| Appleseed Alpha (2014)             | 2014 | July      | Sci-Fi    |  93 | USA:PG-13   |\n",
       "| The Whole Truth (2016)             | 2016 | June      | Drama     |  94 | USA:R       |\n",
       "| The Desert of Forbidden Art (2010) | 2010 | April     | Adventure |  80 | USA:PG      |\n",
       "| Angry Birds (2016)                 | 2016 | May       | Animation |  97 | USA:PG      |\n",
       "\n"
      ],
      "text/plain": [
       "   movie                              year month     genre     runtime\n",
       "1  The Girl in the Photographs (2015) 2015 November  Horror     95    \n",
       "2  Eden (2014/II)                     2014 November  Music     131    \n",
       "3  American Weightlifting (2013)      2013 November  History   118    \n",
       "4  A Perfect Day (2015)               2015 September Drama     106    \n",
       "5  Life After Beth (2014)             2014 July      Horror     89    \n",
       "6  Season of the Witch (2011)         2011 July      Action     95    \n",
       "7  Appleseed Alpha (2014)             2014 July      Sci-Fi     93    \n",
       "8  The Whole Truth (2016)             2016 June      Drama      94    \n",
       "9  The Desert of Forbidden Art (2010) 2010 April     Adventure  80    \n",
       "10 Angry Birds (2016)                 2016 May       Animation  97    \n",
       "   rating     \n",
       "1  USA:R      \n",
       "2  USA:R      \n",
       "3  USA:Unrated\n",
       "4  USA:R      \n",
       "5  USA:R      \n",
       "6  USA:PG-13  \n",
       "7  USA:PG-13  \n",
       "8  USA:R      \n",
       "9  USA:PG     \n",
       "10 USA:PG     "
      ]
     },
     "metadata": {},
     "output_type": "display_data"
    }
   ],
   "source": [
    "# get items by decade (where decades are in format of 1990, 2000, 2010, etc... for next 9 years, i.e. 1990-1999, 2000-2009, etc..)\n",
    "selected_decade = 2010\n",
    "\n",
    "# USE THIS ONE TO FETCH MOVIES BY YEAR FROM THEIR NAME\n",
    "# movie year found in movie name i.e. \"{Title} (2014)\" or \"{Title} (2014/I)\", extract decade via pattern matching for decade + 9\n",
    "#regex_decade = paste0(\"\\\\(\", selected_decade / 10, \"[0-9]\\\\)|\\\\(\", selected_decade / 10, \"[0-9]\\\\/\")\n",
    "#movies_in_selected_decade <- subset(data, grepl(regex_decade, movie))\n",
    "\n",
    "# fetch the movies by the selected year\n",
    "movies_in_selected_decade <- subset(data, year >= selected_decade & year < selected_decade + 10)\n",
    "\n",
    "# output a sample of movies found for given year\n",
    "sample_n(movies_in_selected_decade, 10)"
   ]
  },
  {
   "cell_type": "code",
   "execution_count": 58,
   "metadata": {},
   "outputs": [],
   "source": [
    "############## CHOOSE GENRE ##############"
   ]
  },
  {
   "cell_type": "code",
   "execution_count": 59,
   "metadata": {},
   "outputs": [
    {
     "data": {
      "text/html": [
       "<table>\n",
       "<caption>A data.frame: 10 × 6</caption>\n",
       "<thead>\n",
       "\t<tr><th scope=col>movie</th><th scope=col>year</th><th scope=col>month</th><th scope=col>genre</th><th scope=col>runtime</th><th scope=col>rating</th></tr>\n",
       "\t<tr><th scope=col>&lt;chr&gt;</th><th scope=col>&lt;int&gt;</th><th scope=col>&lt;fct&gt;</th><th scope=col>&lt;fct&gt;</th><th scope=col>&lt;dbl&gt;</th><th scope=col>&lt;fct&gt;</th></tr>\n",
       "</thead>\n",
       "<tbody>\n",
       "\t<tr><td>Si tu meurs, je te tue (2011)       </td><td>2011</td><td>March   </td><td>Drama      </td><td> 90</td><td>USA:R       </td></tr>\n",
       "\t<tr><td>The Eyes of Tammy Faye (2000)       </td><td>2000</td><td>January </td><td>Documentary</td><td> 79</td><td>USA:PG-13   </td></tr>\n",
       "\t<tr><td>Birch Interval (1976)               </td><td>1976</td><td>May     </td><td>Drama      </td><td>104</td><td>USA:PG      </td></tr>\n",
       "\t<tr><td>Smoke (1995)                        </td><td>1995</td><td>June    </td><td>Drama      </td><td>112</td><td>USA:R       </td></tr>\n",
       "\t<tr><td>Mujang haeje (1975)                 </td><td>1975</td><td>June    </td><td>Drama      </td><td>114</td><td>USA:R       </td></tr>\n",
       "\t<tr><td>L'amant (1992)                      </td><td>1992</td><td>June    </td><td>Drama      </td><td>116</td><td>USA:R       </td></tr>\n",
       "\t<tr><td>Heavenly Bodies (1984)              </td><td>1984</td><td>December</td><td>Drama      </td><td> 89</td><td>USA:R       </td></tr>\n",
       "\t<tr><td>Support Your Local Gunfighter (1971)</td><td>1971</td><td>October </td><td>Comedy     </td><td> 91</td><td>USA:G       </td></tr>\n",
       "\t<tr><td>The Killer Is Loose (1956)          </td><td>1956</td><td>November</td><td>Drama      </td><td> 73</td><td>USA:Approved</td></tr>\n",
       "\t<tr><td>Fast Company (1938)                 </td><td>1938</td><td>July    </td><td>Comedy     </td><td> 75</td><td>USA:Approved</td></tr>\n",
       "</tbody>\n",
       "</table>\n"
      ],
      "text/latex": [
       "A data.frame: 10 × 6\n",
       "\\begin{tabular}{llllll}\n",
       " movie & year & month & genre & runtime & rating\\\\\n",
       " <chr> & <int> & <fct> & <fct> & <dbl> & <fct>\\\\\n",
       "\\hline\n",
       "\t Si tu meurs, je te tue (2011)        & 2011 & March    & Drama       &  90 & USA:R       \\\\\n",
       "\t The Eyes of Tammy Faye (2000)        & 2000 & January  & Documentary &  79 & USA:PG-13   \\\\\n",
       "\t Birch Interval (1976)                & 1976 & May      & Drama       & 104 & USA:PG      \\\\\n",
       "\t Smoke (1995)                         & 1995 & June     & Drama       & 112 & USA:R       \\\\\n",
       "\t Mujang haeje (1975)                  & 1975 & June     & Drama       & 114 & USA:R       \\\\\n",
       "\t L'amant (1992)                       & 1992 & June     & Drama       & 116 & USA:R       \\\\\n",
       "\t Heavenly Bodies (1984)               & 1984 & December & Drama       &  89 & USA:R       \\\\\n",
       "\t Support Your Local Gunfighter (1971) & 1971 & October  & Comedy      &  91 & USA:G       \\\\\n",
       "\t The Killer Is Loose (1956)           & 1956 & November & Drama       &  73 & USA:Approved\\\\\n",
       "\t Fast Company (1938)                  & 1938 & July     & Comedy      &  75 & USA:Approved\\\\\n",
       "\\end{tabular}\n"
      ],
      "text/markdown": [
       "\n",
       "A data.frame: 10 × 6\n",
       "\n",
       "| movie &lt;chr&gt; | year &lt;int&gt; | month &lt;fct&gt; | genre &lt;fct&gt; | runtime &lt;dbl&gt; | rating &lt;fct&gt; |\n",
       "|---|---|---|---|---|---|\n",
       "| Si tu meurs, je te tue (2011)        | 2011 | March    | Drama       |  90 | USA:R        |\n",
       "| The Eyes of Tammy Faye (2000)        | 2000 | January  | Documentary |  79 | USA:PG-13    |\n",
       "| Birch Interval (1976)                | 1976 | May      | Drama       | 104 | USA:PG       |\n",
       "| Smoke (1995)                         | 1995 | June     | Drama       | 112 | USA:R        |\n",
       "| Mujang haeje (1975)                  | 1975 | June     | Drama       | 114 | USA:R        |\n",
       "| L'amant (1992)                       | 1992 | June     | Drama       | 116 | USA:R        |\n",
       "| Heavenly Bodies (1984)               | 1984 | December | Drama       |  89 | USA:R        |\n",
       "| Support Your Local Gunfighter (1971) | 1971 | October  | Comedy      |  91 | USA:G        |\n",
       "| The Killer Is Loose (1956)           | 1956 | November | Drama       |  73 | USA:Approved |\n",
       "| Fast Company (1938)                  | 1938 | July     | Comedy      |  75 | USA:Approved |\n",
       "\n"
      ],
      "text/plain": [
       "   movie                                year month    genre       runtime\n",
       "1  Si tu meurs, je te tue (2011)        2011 March    Drama        90    \n",
       "2  The Eyes of Tammy Faye (2000)        2000 January  Documentary  79    \n",
       "3  Birch Interval (1976)                1976 May      Drama       104    \n",
       "4  Smoke (1995)                         1995 June     Drama       112    \n",
       "5  Mujang haeje (1975)                  1975 June     Drama       114    \n",
       "6  L'amant (1992)                       1992 June     Drama       116    \n",
       "7  Heavenly Bodies (1984)               1984 December Drama        89    \n",
       "8  Support Your Local Gunfighter (1971) 1971 October  Comedy       91    \n",
       "9  The Killer Is Loose (1956)           1956 November Drama        73    \n",
       "10 Fast Company (1938)                  1938 July     Comedy       75    \n",
       "   rating      \n",
       "1  USA:R       \n",
       "2  USA:PG-13   \n",
       "3  USA:PG      \n",
       "4  USA:R       \n",
       "5  USA:R       \n",
       "6  USA:R       \n",
       "7  USA:R       \n",
       "8  USA:G       \n",
       "9  USA:Approved\n",
       "10 USA:Approved"
      ]
     },
     "metadata": {},
     "output_type": "display_data"
    }
   ],
   "source": [
    "# genre input is comma separated string list\n",
    "selected_genres = \"comedy, Drama , fake_test, doCumenTarY, \"\n",
    "\n",
    "# split genres input to individual inputs\n",
    "genres <- unlist(strsplit(selected_genres, \",\"))\n",
    "\n",
    "# retrieve first genre as a \"base\"\n",
    "condition <- paste0(\"str_to_lower(str_trim(genres[1])) == str_to_lower(genre) \")\n",
    "\n",
    "# if more than 1 genres provided...\n",
    "if (length(genres) > 1) {\n",
    "    \n",
    "    # then build conditional string for each one after \"base\"\n",
    "    for (i in 2:length(genres)) {\n",
    "        \n",
    "        # make a new condition with the current genre, being sure to ignore case and trim the input\n",
    "        next_condition <- paste0(\"| str_to_lower(str_trim(genres[\", i, \"])) == str_to_lower(genre) \")\n",
    "        \n",
    "        # add the new condition onto the current list of conditions\n",
    "        condition <- paste(condition, next_condition, sep = \"\")\n",
    "    }\n",
    "}\n",
    "\n",
    "# movie genre found in genre column, just fetch it by parsing the condition from above\n",
    "movies_in_selected_genre <- subset(data, eval(parse(text = condition)))\n",
    "\n",
    "# output a sample of movies found for given genre(s)\n",
    "sample_n(movies_in_selected_genre, 10)"
   ]
  },
  {
   "cell_type": "code",
   "execution_count": 60,
   "metadata": {},
   "outputs": [
    {
     "name": "stdout",
     "output_type": "stream",
     "text": [
      "[1] \"---- films in genre= 27448\"\n"
     ]
    }
   ],
   "source": [
    "# number of films released in selected genre\n",
    "number_in_genre <- length(unique(movies_in_selected_genre$movie))\n",
    "print(paste0(\"---- films in genre= \", number_in_genre))"
   ]
  },
  {
   "cell_type": "code",
   "execution_count": 61,
   "metadata": {},
   "outputs": [
    {
     "name": "stdout",
     "output_type": "stream",
     "text": [
      "[1] \"---- total counted= 27448\"\n",
      "[1] \"---- unique years= 108\"\n"
     ]
    },
    {
     "data": {
      "text/html": [
       "<table>\n",
       "<caption>A data.frame: 5 × 2</caption>\n",
       "<thead>\n",
       "\t<tr><th scope=col>year</th><th scope=col>count</th></tr>\n",
       "\t<tr><th scope=col>&lt;int&gt;</th><th scope=col>&lt;dbl&gt;</th></tr>\n",
       "</thead>\n",
       "<tbody>\n",
       "\t<tr><td>1956</td><td>135</td></tr>\n",
       "\t<tr><td>1971</td><td>280</td></tr>\n",
       "\t<tr><td>1966</td><td> 91</td></tr>\n",
       "\t<tr><td>1965</td><td> 81</td></tr>\n",
       "\t<tr><td>1921</td><td> 12</td></tr>\n",
       "</tbody>\n",
       "</table>\n"
      ],
      "text/latex": [
       "A data.frame: 5 × 2\n",
       "\\begin{tabular}{ll}\n",
       " year & count\\\\\n",
       " <int> & <dbl>\\\\\n",
       "\\hline\n",
       "\t 1956 & 135\\\\\n",
       "\t 1971 & 280\\\\\n",
       "\t 1966 &  91\\\\\n",
       "\t 1965 &  81\\\\\n",
       "\t 1921 &  12\\\\\n",
       "\\end{tabular}\n"
      ],
      "text/markdown": [
       "\n",
       "A data.frame: 5 × 2\n",
       "\n",
       "| year &lt;int&gt; | count &lt;dbl&gt; |\n",
       "|---|---|\n",
       "| 1956 | 135 |\n",
       "| 1971 | 280 |\n",
       "| 1966 |  91 |\n",
       "| 1965 |  81 |\n",
       "| 1921 |  12 |\n",
       "\n"
      ],
      "text/plain": [
       "  year count\n",
       "1 1956 135  \n",
       "2 1971 280  \n",
       "3 1966  91  \n",
       "4 1965  81  \n",
       "5 1921  12  "
      ]
     },
     "metadata": {},
     "output_type": "display_data"
    }
   ],
   "source": [
    "# table above can have duplicate movies due to movies having multiple genres or months\n",
    "# get a subset of those movies where a movie only appears once\n",
    "unique_movies_in_genre <- subset(movies_in_selected_genre, !duplicated(subset(movies_in_selected_genre, select = movie)))\n",
    "\n",
    "# table of \"number of films released in that genre each year\" (total_counted value should match number_in_x value)\n",
    "films_per_year_by_selected_genre <- number_films_per_year(unique_movies_in_genre)\n",
    "\n",
    "# output a sample of 5 rows\n",
    "sample_n(films_per_year_by_selected_genre, 5)"
   ]
  },
  {
   "cell_type": "code",
   "execution_count": 62,
   "metadata": {},
   "outputs": [
    {
     "data": {
      "text/html": [
       "<table>\n",
       "<caption>A data.frame: 5 × 4</caption>\n",
       "<thead>\n",
       "\t<tr><th scope=col>year</th><th scope=col>count</th><th scope=col>total</th><th scope=col>percent</th></tr>\n",
       "\t<tr><th scope=col>&lt;int&gt;</th><th scope=col>&lt;dbl&gt;</th><th scope=col>&lt;int&gt;</th><th scope=col>&lt;dbl&gt;</th></tr>\n",
       "</thead>\n",
       "<tbody>\n",
       "\t<tr><td>1985</td><td>272</td><td>350</td><td>77.71429</td></tr>\n",
       "\t<tr><td>2010</td><td>580</td><td>769</td><td>75.42263</td></tr>\n",
       "\t<tr><td>2017</td><td>364</td><td>506</td><td>71.93676</td></tr>\n",
       "\t<tr><td>1966</td><td> 91</td><td>150</td><td>60.66667</td></tr>\n",
       "\t<tr><td>1950</td><td>199</td><td>311</td><td>63.98714</td></tr>\n",
       "</tbody>\n",
       "</table>\n"
      ],
      "text/latex": [
       "A data.frame: 5 × 4\n",
       "\\begin{tabular}{llll}\n",
       " year & count & total & percent\\\\\n",
       " <int> & <dbl> & <int> & <dbl>\\\\\n",
       "\\hline\n",
       "\t 1985 & 272 & 350 & 77.71429\\\\\n",
       "\t 2010 & 580 & 769 & 75.42263\\\\\n",
       "\t 2017 & 364 & 506 & 71.93676\\\\\n",
       "\t 1966 &  91 & 150 & 60.66667\\\\\n",
       "\t 1950 & 199 & 311 & 63.98714\\\\\n",
       "\\end{tabular}\n"
      ],
      "text/markdown": [
       "\n",
       "A data.frame: 5 × 4\n",
       "\n",
       "| year &lt;int&gt; | count &lt;dbl&gt; | total &lt;int&gt; | percent &lt;dbl&gt; |\n",
       "|---|---|---|---|\n",
       "| 1985 | 272 | 350 | 77.71429 |\n",
       "| 2010 | 580 | 769 | 75.42263 |\n",
       "| 2017 | 364 | 506 | 71.93676 |\n",
       "| 1966 |  91 | 150 | 60.66667 |\n",
       "| 1950 | 199 | 311 | 63.98714 |\n",
       "\n"
      ],
      "text/plain": [
       "  year count total percent \n",
       "1 1985 272   350   77.71429\n",
       "2 2010 580   769   75.42263\n",
       "3 2017 364   506   71.93676\n",
       "4 1966  91   150   60.66667\n",
       "5 1950 199   311   63.98714"
      ]
     },
     "metadata": {},
     "output_type": "display_data"
    }
   ],
   "source": [
    "# get \"percentage of films released in that genre each year\"\n",
    "\n",
    "# add total films per year to table and calculuate percentage\n",
    "films_per_year_by_selected_genre$total <- by_year$count\n",
    "films_per_year_by_selected_genre$percent <- (films_per_year_by_selected_genre$count / by_year$count) * 100\n",
    "\n",
    "# output a sample of 5 rows\n",
    "sample_n(films_per_year_by_selected_genre, 5)"
   ]
  },
  {
   "cell_type": "code",
   "execution_count": 63,
   "metadata": {},
   "outputs": [
    {
     "name": "stdout",
     "output_type": "stream",
     "text": [
      "[1] \"---- total counted= 27448\"\n",
      "[1] \"---- unique decades= 11\"\n"
     ]
    },
    {
     "data": {
      "text/html": [
       "<table>\n",
       "<caption>A data.frame: 5 × 2</caption>\n",
       "<thead>\n",
       "\t<tr><th scope=col>decade</th><th scope=col>count</th></tr>\n",
       "\t<tr><th scope=col>&lt;dbl&gt;</th><th scope=col>&lt;dbl&gt;</th></tr>\n",
       "</thead>\n",
       "<tbody>\n",
       "\t<tr><td>1910</td><td>  23</td></tr>\n",
       "\t<tr><td>1950</td><td>1549</td></tr>\n",
       "\t<tr><td>1930</td><td>2379</td></tr>\n",
       "\t<tr><td>1990</td><td>3760</td></tr>\n",
       "\t<tr><td>2010</td><td>4634</td></tr>\n",
       "</tbody>\n",
       "</table>\n"
      ],
      "text/latex": [
       "A data.frame: 5 × 2\n",
       "\\begin{tabular}{ll}\n",
       " decade & count\\\\\n",
       " <dbl> & <dbl>\\\\\n",
       "\\hline\n",
       "\t 1910 &   23\\\\\n",
       "\t 1950 & 1549\\\\\n",
       "\t 1930 & 2379\\\\\n",
       "\t 1990 & 3760\\\\\n",
       "\t 2010 & 4634\\\\\n",
       "\\end{tabular}\n"
      ],
      "text/markdown": [
       "\n",
       "A data.frame: 5 × 2\n",
       "\n",
       "| decade &lt;dbl&gt; | count &lt;dbl&gt; |\n",
       "|---|---|\n",
       "| 1910 |   23 |\n",
       "| 1950 | 1549 |\n",
       "| 1930 | 2379 |\n",
       "| 1990 | 3760 |\n",
       "| 2010 | 4634 |\n",
       "\n"
      ],
      "text/plain": [
       "  decade count\n",
       "1 1910     23 \n",
       "2 1950   1549 \n",
       "3 1930   2379 \n",
       "4 1990   3760 \n",
       "5 2010   4634 "
      ]
     },
     "metadata": {},
     "output_type": "display_data"
    }
   ],
   "source": [
    "# table of \"number of films released in that genre each decade\" (total_counted value should match number_in_x value)\n",
    "films_per_decade_by_selected_genre <- number_films_per_decade(unique_movies_in_genre)\n",
    "\n",
    "# output a sample of 5 rows\n",
    "sample_n(films_per_decade_by_selected_genre, 5)"
   ]
  },
  {
   "cell_type": "code",
   "execution_count": 64,
   "metadata": {},
   "outputs": [
    {
     "data": {
      "text/html": [
       "<table>\n",
       "<caption>A data.frame: 11 × 4</caption>\n",
       "<thead>\n",
       "\t<tr><th scope=col>decade</th><th scope=col>count</th><th scope=col>total</th><th scope=col>percent</th></tr>\n",
       "\t<tr><th scope=col>&lt;dbl&gt;</th><th scope=col>&lt;dbl&gt;</th><th scope=col>&lt;dbl&gt;</th><th scope=col>&lt;dbl&gt;</th></tr>\n",
       "</thead>\n",
       "<tbody>\n",
       "\t<tr><td>1910</td><td>  23</td><td>  34</td><td>67.64706</td></tr>\n",
       "\t<tr><td>1920</td><td> 394</td><td> 494</td><td>79.75709</td></tr>\n",
       "\t<tr><td>1930</td><td>2379</td><td>3031</td><td>78.48895</td></tr>\n",
       "\t<tr><td>1940</td><td>2288</td><td>3049</td><td>75.04100</td></tr>\n",
       "\t<tr><td>1950</td><td>1549</td><td>2475</td><td>62.58586</td></tr>\n",
       "\t<tr><td>1960</td><td>1135</td><td>1583</td><td>71.69931</td></tr>\n",
       "\t<tr><td>1970</td><td>2613</td><td>3517</td><td>74.29628</td></tr>\n",
       "\t<tr><td>1980</td><td>2758</td><td>3754</td><td>73.46830</td></tr>\n",
       "\t<tr><td>1990</td><td>3760</td><td>4916</td><td>76.48495</td></tr>\n",
       "\t<tr><td>2000</td><td>5915</td><td>7551</td><td>78.33400</td></tr>\n",
       "\t<tr><td>2010</td><td>4634</td><td>6192</td><td>74.83850</td></tr>\n",
       "</tbody>\n",
       "</table>\n"
      ],
      "text/latex": [
       "A data.frame: 11 × 4\n",
       "\\begin{tabular}{llll}\n",
       " decade & count & total & percent\\\\\n",
       " <dbl> & <dbl> & <dbl> & <dbl>\\\\\n",
       "\\hline\n",
       "\t 1910 &   23 &   34 & 67.64706\\\\\n",
       "\t 1920 &  394 &  494 & 79.75709\\\\\n",
       "\t 1930 & 2379 & 3031 & 78.48895\\\\\n",
       "\t 1940 & 2288 & 3049 & 75.04100\\\\\n",
       "\t 1950 & 1549 & 2475 & 62.58586\\\\\n",
       "\t 1960 & 1135 & 1583 & 71.69931\\\\\n",
       "\t 1970 & 2613 & 3517 & 74.29628\\\\\n",
       "\t 1980 & 2758 & 3754 & 73.46830\\\\\n",
       "\t 1990 & 3760 & 4916 & 76.48495\\\\\n",
       "\t 2000 & 5915 & 7551 & 78.33400\\\\\n",
       "\t 2010 & 4634 & 6192 & 74.83850\\\\\n",
       "\\end{tabular}\n"
      ],
      "text/markdown": [
       "\n",
       "A data.frame: 11 × 4\n",
       "\n",
       "| decade &lt;dbl&gt; | count &lt;dbl&gt; | total &lt;dbl&gt; | percent &lt;dbl&gt; |\n",
       "|---|---|---|---|\n",
       "| 1910 |   23 |   34 | 67.64706 |\n",
       "| 1920 |  394 |  494 | 79.75709 |\n",
       "| 1930 | 2379 | 3031 | 78.48895 |\n",
       "| 1940 | 2288 | 3049 | 75.04100 |\n",
       "| 1950 | 1549 | 2475 | 62.58586 |\n",
       "| 1960 | 1135 | 1583 | 71.69931 |\n",
       "| 1970 | 2613 | 3517 | 74.29628 |\n",
       "| 1980 | 2758 | 3754 | 73.46830 |\n",
       "| 1990 | 3760 | 4916 | 76.48495 |\n",
       "| 2000 | 5915 | 7551 | 78.33400 |\n",
       "| 2010 | 4634 | 6192 | 74.83850 |\n",
       "\n"
      ],
      "text/plain": [
       "   decade count total percent \n",
       "1  1910     23    34  67.64706\n",
       "2  1920    394   494  79.75709\n",
       "3  1930   2379  3031  78.48895\n",
       "4  1940   2288  3049  75.04100\n",
       "5  1950   1549  2475  62.58586\n",
       "6  1960   1135  1583  71.69931\n",
       "7  1970   2613  3517  74.29628\n",
       "8  1980   2758  3754  73.46830\n",
       "9  1990   3760  4916  76.48495\n",
       "10 2000   5915  7551  78.33400\n",
       "11 2010   4634  6192  74.83850"
      ]
     },
     "metadata": {},
     "output_type": "display_data"
    }
   ],
   "source": [
    "# get \"percentage of films released in that genre each decade\"\n",
    "\n",
    "# add total films per decade to table and calculuate percentage\n",
    "films_per_decade_by_selected_genre$total <- by_decade$count\n",
    "films_per_decade_by_selected_genre$percent <- (films_per_decade_by_selected_genre$count / by_decade$count) * 100\n",
    "\n",
    "# show output\n",
    "films_per_decade_by_selected_genre"
   ]
  },
  {
   "cell_type": "code",
   "execution_count": 65,
   "metadata": {},
   "outputs": [
    {
     "name": "stdout",
     "output_type": "stream",
     "text": [
      "[1] \"---- total counted= 27448\"\n",
      "[1] \"---- unique months= 12\"\n"
     ]
    },
    {
     "data": {
      "text/html": [
       "<table>\n",
       "<caption>A tibble: 5 × 2</caption>\n",
       "<thead>\n",
       "\t<tr><th scope=col>month</th><th scope=col>count</th></tr>\n",
       "\t<tr><th scope=col>&lt;fct&gt;</th><th scope=col>&lt;int&gt;</th></tr>\n",
       "</thead>\n",
       "<tbody>\n",
       "\t<tr><td>August   </td><td>2129</td></tr>\n",
       "\t<tr><td>June     </td><td>1971</td></tr>\n",
       "\t<tr><td>May      </td><td>2673</td></tr>\n",
       "\t<tr><td>September</td><td>3574</td></tr>\n",
       "\t<tr><td>December </td><td>1988</td></tr>\n",
       "</tbody>\n",
       "</table>\n"
      ],
      "text/latex": [
       "A tibble: 5 × 2\n",
       "\\begin{tabular}{ll}\n",
       " month & count\\\\\n",
       " <fct> & <int>\\\\\n",
       "\\hline\n",
       "\t August    & 2129\\\\\n",
       "\t June      & 1971\\\\\n",
       "\t May       & 2673\\\\\n",
       "\t September & 3574\\\\\n",
       "\t December  & 1988\\\\\n",
       "\\end{tabular}\n"
      ],
      "text/markdown": [
       "\n",
       "A tibble: 5 × 2\n",
       "\n",
       "| month &lt;fct&gt; | count &lt;int&gt; |\n",
       "|---|---|\n",
       "| August    | 2129 |\n",
       "| June      | 1971 |\n",
       "| May       | 2673 |\n",
       "| September | 3574 |\n",
       "| December  | 1988 |\n",
       "\n"
      ],
      "text/plain": [
       "  month     count\n",
       "1 August    2129 \n",
       "2 June      1971 \n",
       "3 May       2673 \n",
       "4 September 3574 \n",
       "5 December  1988 "
      ]
     },
     "metadata": {},
     "output_type": "display_data"
    }
   ],
   "source": [
    "# table of \"number of films released in that genre each month\" (total_counted value should match number_in_x value)\n",
    "films_per_month_by_selected_genre <- number_films_per_month(unique_movies_in_genre)\n",
    "\n",
    "# output a sample of 5 rows\n",
    "sample_n(films_per_month_by_selected_genre, 5)"
   ]
  },
  {
   "cell_type": "code",
   "execution_count": 66,
   "metadata": {},
   "outputs": [
    {
     "data": {
      "text/html": [
       "<table>\n",
       "<caption>A tibble: 12 × 4</caption>\n",
       "<thead>\n",
       "\t<tr><th scope=col>month</th><th scope=col>count</th><th scope=col>total</th><th scope=col>percent</th></tr>\n",
       "\t<tr><th scope=col>&lt;fct&gt;</th><th scope=col>&lt;int&gt;</th><th scope=col>&lt;int&gt;</th><th scope=col>&lt;dbl&gt;</th></tr>\n",
       "</thead>\n",
       "<tbody>\n",
       "\t<tr><td>January  </td><td>2501</td><td>3150</td><td>79.39683</td></tr>\n",
       "\t<tr><td>February </td><td>1906</td><td>2511</td><td>75.90601</td></tr>\n",
       "\t<tr><td>March    </td><td>2293</td><td>3105</td><td>73.84863</td></tr>\n",
       "\t<tr><td>April    </td><td>2289</td><td>3082</td><td>74.26995</td></tr>\n",
       "\t<tr><td>May      </td><td>2673</td><td>3485</td><td>76.70014</td></tr>\n",
       "\t<tr><td>June     </td><td>1971</td><td>2651</td><td>74.34930</td></tr>\n",
       "\t<tr><td>July     </td><td>1645</td><td>2410</td><td>68.25726</td></tr>\n",
       "\t<tr><td>August   </td><td>2129</td><td>2921</td><td>72.88600</td></tr>\n",
       "\t<tr><td>September</td><td>3574</td><td>4453</td><td>80.26050</td></tr>\n",
       "\t<tr><td>October  </td><td>2502</td><td>3478</td><td>71.93790</td></tr>\n",
       "\t<tr><td>November </td><td>1977</td><td>2667</td><td>74.12823</td></tr>\n",
       "\t<tr><td>December </td><td>1988</td><td>2683</td><td>74.09616</td></tr>\n",
       "</tbody>\n",
       "</table>\n"
      ],
      "text/latex": [
       "A tibble: 12 × 4\n",
       "\\begin{tabular}{llll}\n",
       " month & count & total & percent\\\\\n",
       " <fct> & <int> & <int> & <dbl>\\\\\n",
       "\\hline\n",
       "\t January   & 2501 & 3150 & 79.39683\\\\\n",
       "\t February  & 1906 & 2511 & 75.90601\\\\\n",
       "\t March     & 2293 & 3105 & 73.84863\\\\\n",
       "\t April     & 2289 & 3082 & 74.26995\\\\\n",
       "\t May       & 2673 & 3485 & 76.70014\\\\\n",
       "\t June      & 1971 & 2651 & 74.34930\\\\\n",
       "\t July      & 1645 & 2410 & 68.25726\\\\\n",
       "\t August    & 2129 & 2921 & 72.88600\\\\\n",
       "\t September & 3574 & 4453 & 80.26050\\\\\n",
       "\t October   & 2502 & 3478 & 71.93790\\\\\n",
       "\t November  & 1977 & 2667 & 74.12823\\\\\n",
       "\t December  & 1988 & 2683 & 74.09616\\\\\n",
       "\\end{tabular}\n"
      ],
      "text/markdown": [
       "\n",
       "A tibble: 12 × 4\n",
       "\n",
       "| month &lt;fct&gt; | count &lt;int&gt; | total &lt;int&gt; | percent &lt;dbl&gt; |\n",
       "|---|---|---|---|\n",
       "| January   | 2501 | 3150 | 79.39683 |\n",
       "| February  | 1906 | 2511 | 75.90601 |\n",
       "| March     | 2293 | 3105 | 73.84863 |\n",
       "| April     | 2289 | 3082 | 74.26995 |\n",
       "| May       | 2673 | 3485 | 76.70014 |\n",
       "| June      | 1971 | 2651 | 74.34930 |\n",
       "| July      | 1645 | 2410 | 68.25726 |\n",
       "| August    | 2129 | 2921 | 72.88600 |\n",
       "| September | 3574 | 4453 | 80.26050 |\n",
       "| October   | 2502 | 3478 | 71.93790 |\n",
       "| November  | 1977 | 2667 | 74.12823 |\n",
       "| December  | 1988 | 2683 | 74.09616 |\n",
       "\n"
      ],
      "text/plain": [
       "   month     count total percent \n",
       "1  January   2501  3150  79.39683\n",
       "2  February  1906  2511  75.90601\n",
       "3  March     2293  3105  73.84863\n",
       "4  April     2289  3082  74.26995\n",
       "5  May       2673  3485  76.70014\n",
       "6  June      1971  2651  74.34930\n",
       "7  July      1645  2410  68.25726\n",
       "8  August    2129  2921  72.88600\n",
       "9  September 3574  4453  80.26050\n",
       "10 October   2502  3478  71.93790\n",
       "11 November  1977  2667  74.12823\n",
       "12 December  1988  2683  74.09616"
      ]
     },
     "metadata": {},
     "output_type": "display_data"
    }
   ],
   "source": [
    "# get \"percentage of films released in that genre each month\"\n",
    "\n",
    "# add total films per month to table and calculuate percentage\n",
    "films_per_month_by_selected_genre$total <- by_month$count\n",
    "films_per_month_by_selected_genre$percent <- (films_per_month_by_selected_genre$count / by_month$count) * 100\n",
    "\n",
    "# show output\n",
    "films_per_month_by_selected_genre"
   ]
  },
  {
   "cell_type": "code",
   "execution_count": 67,
   "metadata": {},
   "outputs": [
    {
     "name": "stdout",
     "output_type": "stream",
     "text": [
      "[1] \"---- total counted= 27448\"\n",
      "[1] \"---- unique runtimes= 395\"\n"
     ]
    },
    {
     "data": {
      "text/html": [
       "<table>\n",
       "<caption>A data.frame: 5 × 2</caption>\n",
       "<thead>\n",
       "\t<tr><th scope=col>runtime</th><th scope=col>count</th></tr>\n",
       "\t<tr><th scope=col>&lt;dbl&gt;</th><th scope=col>&lt;dbl&gt;</th></tr>\n",
       "</thead>\n",
       "<tbody>\n",
       "\t<tr><td>416</td><td>0</td></tr>\n",
       "\t<tr><td>161</td><td>6</td></tr>\n",
       "\t<tr><td>375</td><td>0</td></tr>\n",
       "\t<tr><td>159</td><td>6</td></tr>\n",
       "\t<tr><td>450</td><td>0</td></tr>\n",
       "</tbody>\n",
       "</table>\n"
      ],
      "text/latex": [
       "A data.frame: 5 × 2\n",
       "\\begin{tabular}{ll}\n",
       " runtime & count\\\\\n",
       " <dbl> & <dbl>\\\\\n",
       "\\hline\n",
       "\t 416 & 0\\\\\n",
       "\t 161 & 6\\\\\n",
       "\t 375 & 0\\\\\n",
       "\t 159 & 6\\\\\n",
       "\t 450 & 0\\\\\n",
       "\\end{tabular}\n"
      ],
      "text/markdown": [
       "\n",
       "A data.frame: 5 × 2\n",
       "\n",
       "| runtime &lt;dbl&gt; | count &lt;dbl&gt; |\n",
       "|---|---|\n",
       "| 416 | 0 |\n",
       "| 161 | 6 |\n",
       "| 375 | 0 |\n",
       "| 159 | 6 |\n",
       "| 450 | 0 |\n",
       "\n"
      ],
      "text/plain": [
       "  runtime count\n",
       "1 416     0    \n",
       "2 161     6    \n",
       "3 375     0    \n",
       "4 159     6    \n",
       "5 450     0    "
      ]
     },
     "metadata": {},
     "output_type": "display_data"
    }
   ],
   "source": [
    "# table of \"distribution of running times of films in that genre\" (total_counted value should match number_in_x value)\n",
    "distribution_runtimes_by_selected_genre <- distribution_of_runtimes(unique_movies_in_genre)\n",
    "\n",
    "# output a sample of 5 rows\n",
    "sample_n(distribution_runtimes_by_selected_genre, 5)"
   ]
  },
  {
   "cell_type": "code",
   "execution_count": 68,
   "metadata": {},
   "outputs": [
    {
     "name": "stdout",
     "output_type": "stream",
     "text": [
      "[1] \"---- total counted= 27448\"\n",
      "[1] \"---- unique certificates= 12\"\n"
     ]
    },
    {
     "data": {
      "text/html": [
       "<table>\n",
       "<caption>A tibble: 5 × 2</caption>\n",
       "<thead>\n",
       "\t<tr><th scope=col>rating</th><th scope=col>count</th></tr>\n",
       "\t<tr><th scope=col>&lt;fct&gt;</th><th scope=col>&lt;int&gt;</th></tr>\n",
       "</thead>\n",
       "<tbody>\n",
       "\t<tr><td>USA:PG      </td><td> 3518</td></tr>\n",
       "\t<tr><td>USA:Unrated </td><td> 2268</td></tr>\n",
       "\t<tr><td>USA:R       </td><td>10293</td></tr>\n",
       "\t<tr><td>USA:Approved</td><td> 4800</td></tr>\n",
       "\t<tr><td>USA:PG-13   </td><td> 3505</td></tr>\n",
       "</tbody>\n",
       "</table>\n"
      ],
      "text/latex": [
       "A tibble: 5 × 2\n",
       "\\begin{tabular}{ll}\n",
       " rating & count\\\\\n",
       " <fct> & <int>\\\\\n",
       "\\hline\n",
       "\t USA:PG       &  3518\\\\\n",
       "\t USA:Unrated  &  2268\\\\\n",
       "\t USA:R        & 10293\\\\\n",
       "\t USA:Approved &  4800\\\\\n",
       "\t USA:PG-13    &  3505\\\\\n",
       "\\end{tabular}\n"
      ],
      "text/markdown": [
       "\n",
       "A tibble: 5 × 2\n",
       "\n",
       "| rating &lt;fct&gt; | count &lt;int&gt; |\n",
       "|---|---|\n",
       "| USA:PG       |  3518 |\n",
       "| USA:Unrated  |  2268 |\n",
       "| USA:R        | 10293 |\n",
       "| USA:Approved |  4800 |\n",
       "| USA:PG-13    |  3505 |\n",
       "\n"
      ],
      "text/plain": [
       "  rating       count\n",
       "1 USA:PG        3518\n",
       "2 USA:Unrated   2268\n",
       "3 USA:R        10293\n",
       "4 USA:Approved  4800\n",
       "5 USA:PG-13     3505"
      ]
     },
     "metadata": {},
     "output_type": "display_data"
    }
   ],
   "source": [
    "# table of \"distribution of certificates in that genre\" (total_counted value should match number_in_x value)\n",
    "distribution_certificates_by_selected_genre <- distribution_of_certificates(unique_movies_in_genre)\n",
    "\n",
    "# output a sample of 5 rows\n",
    "sample_n(distribution_certificates_by_selected_genre, 5)"
   ]
  },
  {
   "cell_type": "code",
   "execution_count": 135,
   "metadata": {},
   "outputs": [
    {
     "name": "stderr",
     "output_type": "stream",
     "text": [
      "Selecting by count\n",
      "\n"
     ]
    },
    {
     "name": "stdout",
     "output_type": "stream",
     "text": [
      "[1] \"---- total counted= 40280\"\n",
      "[1] \"---- unique keywords= 10\"\n"
     ]
    },
    {
     "data": {
      "text/html": [
       "<table>\n",
       "<caption>A tibble: 10 × 2</caption>\n",
       "<thead>\n",
       "\t<tr><th scope=col>keyword</th><th scope=col>count</th></tr>\n",
       "\t<tr><th scope=col>&lt;fct&gt;</th><th scope=col>&lt;int&gt;</th></tr>\n",
       "</thead>\n",
       "<tbody>\n",
       "\t<tr><td>death                       </td><td>3601</td></tr>\n",
       "\t<tr><td>independent-film            </td><td>6517</td></tr>\n",
       "\t<tr><td>father-son-relationship     </td><td>3592</td></tr>\n",
       "\t<tr><td>female-nudity               </td><td>3792</td></tr>\n",
       "\t<tr><td>cigarette-smoking           </td><td>3521</td></tr>\n",
       "\t<tr><td>murder                      </td><td>5012</td></tr>\n",
       "\t<tr><td>based-on-novel              </td><td>3612</td></tr>\n",
       "\t<tr><td>father-daughter-relationship</td><td>3152</td></tr>\n",
       "\t<tr><td>husband-wife-relationship   </td><td>4239</td></tr>\n",
       "\t<tr><td>character-name-in-title     </td><td>3242</td></tr>\n",
       "</tbody>\n",
       "</table>\n"
      ],
      "text/latex": [
       "A tibble: 10 × 2\n",
       "\\begin{tabular}{ll}\n",
       " keyword & count\\\\\n",
       " <fct> & <int>\\\\\n",
       "\\hline\n",
       "\t death                        & 3601\\\\\n",
       "\t independent-film             & 6517\\\\\n",
       "\t father-son-relationship      & 3592\\\\\n",
       "\t female-nudity                & 3792\\\\\n",
       "\t cigarette-smoking            & 3521\\\\\n",
       "\t murder                       & 5012\\\\\n",
       "\t based-on-novel               & 3612\\\\\n",
       "\t father-daughter-relationship & 3152\\\\\n",
       "\t husband-wife-relationship    & 4239\\\\\n",
       "\t character-name-in-title      & 3242\\\\\n",
       "\\end{tabular}\n"
      ],
      "text/markdown": [
       "\n",
       "A tibble: 10 × 2\n",
       "\n",
       "| keyword &lt;fct&gt; | count &lt;int&gt; |\n",
       "|---|---|\n",
       "| death                        | 3601 |\n",
       "| independent-film             | 6517 |\n",
       "| father-son-relationship      | 3592 |\n",
       "| female-nudity                | 3792 |\n",
       "| cigarette-smoking            | 3521 |\n",
       "| murder                       | 5012 |\n",
       "| based-on-novel               | 3612 |\n",
       "| father-daughter-relationship | 3152 |\n",
       "| husband-wife-relationship    | 4239 |\n",
       "| character-name-in-title      | 3242 |\n",
       "\n"
      ],
      "text/plain": [
       "   keyword                      count\n",
       "1  death                        3601 \n",
       "2  independent-film             6517 \n",
       "3  father-son-relationship      3592 \n",
       "4  female-nudity                3792 \n",
       "5  cigarette-smoking            3521 \n",
       "6  murder                       5012 \n",
       "7  based-on-novel               3612 \n",
       "8  father-daughter-relationship 3152 \n",
       "9  husband-wife-relationship    4239 \n",
       "10 character-name-in-title      3242 "
      ]
     },
     "metadata": {},
     "output_type": "display_data"
    }
   ],
   "source": [
    "# table of \"distribution of top n keywords in that genre\"\n",
    "\n",
    "# keywords table only for movies found in selected_genre\n",
    "keywords_subset_for_genre <- subset(keywords_subset, movie %in% movies_in_selected_genre$movie)\n",
    "\n",
    "top_N = 10\n",
    "distribution_keywords_by_selected_genre <- distribution_of_keywords(keywords_subset_for_genre, top_N)\n",
    "\n",
    "# output a sample of 10 rows\n",
    "sample_n(distribution_keywords_by_selected_genre, 10)"
   ]
  },
  {
   "cell_type": "code",
   "execution_count": 124,
   "metadata": {},
   "outputs": [],
   "source": [
    "############## CHOOSE KEYWORD ##############"
   ]
  },
  {
   "cell_type": "code",
   "execution_count": 140,
   "metadata": {
    "scrolled": true
   },
   "outputs": [
    {
     "data": {
      "text/html": [
       "<table>\n",
       "<caption>A data.frame: 10 × 3</caption>\n",
       "<thead>\n",
       "\t<tr><th scope=col>X</th><th scope=col>movie</th><th scope=col>keyword</th></tr>\n",
       "\t<tr><th scope=col>&lt;int&gt;</th><th scope=col>&lt;fct&gt;</th><th scope=col>&lt;fct&gt;</th></tr>\n",
       "</thead>\n",
       "<tbody>\n",
       "\t<tr><td>2761215</td><td>Stronger (2017/I)        </td><td>fight  </td></tr>\n",
       "\t<tr><td>1040352</td><td>Fong sai yuk 2 (1993)    </td><td>fight  </td></tr>\n",
       "\t<tr><td>3316450</td><td>The Tenants (2005)       </td><td>fight  </td></tr>\n",
       "\t<tr><td>3027534</td><td>The Four Feathers (2002) </td><td>fight  </td></tr>\n",
       "\t<tr><td>1856388</td><td>Magnum Force (1973)      </td><td>shotgun</td></tr>\n",
       "\t<tr><td>2836480</td><td>Te wu mi cheng (2001)    </td><td>fight  </td></tr>\n",
       "\t<tr><td>2957774</td><td>The Courier (2012)       </td><td>fight  </td></tr>\n",
       "\t<tr><td>2789204</td><td>Surviving the Game (1994)</td><td>fight  </td></tr>\n",
       "\t<tr><td>1285384</td><td>Hollywood Cop (1987)     </td><td>fight  </td></tr>\n",
       "\t<tr><td>1911575</td><td>Mean Guns (1997)         </td><td>fight  </td></tr>\n",
       "</tbody>\n",
       "</table>\n"
      ],
      "text/latex": [
       "A data.frame: 10 × 3\n",
       "\\begin{tabular}{lll}\n",
       " X & movie & keyword\\\\\n",
       " <int> & <fct> & <fct>\\\\\n",
       "\\hline\n",
       "\t 2761215 & Stronger (2017/I)         & fight  \\\\\n",
       "\t 1040352 & Fong sai yuk 2 (1993)     & fight  \\\\\n",
       "\t 3316450 & The Tenants (2005)        & fight  \\\\\n",
       "\t 3027534 & The Four Feathers (2002)  & fight  \\\\\n",
       "\t 1856388 & Magnum Force (1973)       & shotgun\\\\\n",
       "\t 2836480 & Te wu mi cheng (2001)     & fight  \\\\\n",
       "\t 2957774 & The Courier (2012)        & fight  \\\\\n",
       "\t 2789204 & Surviving the Game (1994) & fight  \\\\\n",
       "\t 1285384 & Hollywood Cop (1987)      & fight  \\\\\n",
       "\t 1911575 & Mean Guns (1997)          & fight  \\\\\n",
       "\\end{tabular}\n"
      ],
      "text/markdown": [
       "\n",
       "A data.frame: 10 × 3\n",
       "\n",
       "| X &lt;int&gt; | movie &lt;fct&gt; | keyword &lt;fct&gt; |\n",
       "|---|---|---|\n",
       "| 2761215 | Stronger (2017/I)         | fight   |\n",
       "| 1040352 | Fong sai yuk 2 (1993)     | fight   |\n",
       "| 3316450 | The Tenants (2005)        | fight   |\n",
       "| 3027534 | The Four Feathers (2002)  | fight   |\n",
       "| 1856388 | Magnum Force (1973)       | shotgun |\n",
       "| 2836480 | Te wu mi cheng (2001)     | fight   |\n",
       "| 2957774 | The Courier (2012)        | fight   |\n",
       "| 2789204 | Surviving the Game (1994) | fight   |\n",
       "| 1285384 | Hollywood Cop (1987)      | fight   |\n",
       "| 1911575 | Mean Guns (1997)          | fight   |\n",
       "\n"
      ],
      "text/plain": [
       "   X       movie                     keyword\n",
       "1  2761215 Stronger (2017/I)         fight  \n",
       "2  1040352 Fong sai yuk 2 (1993)     fight  \n",
       "3  3316450 The Tenants (2005)        fight  \n",
       "4  3027534 The Four Feathers (2002)  fight  \n",
       "5  1856388 Magnum Force (1973)       shotgun\n",
       "6  2836480 Te wu mi cheng (2001)     fight  \n",
       "7  2957774 The Courier (2012)        fight  \n",
       "8  2789204 Surviving the Game (1994) fight  \n",
       "9  1285384 Hollywood Cop (1987)      fight  \n",
       "10 1911575 Mean Guns (1997)          fight  "
      ]
     },
     "metadata": {},
     "output_type": "display_data"
    }
   ],
   "source": [
    "# keyword input is comma separated string list\n",
    "selected_keywords = \"fight, cat-and-mouse , fake_test, shOtguN, \"\n",
    "\n",
    "# split keyword input to individual inputs\n",
    "keywords <- unlist(strsplit(selected_keywords, \",\"))\n",
    "\n",
    "# retrieve first keyword as a \"base\"\n",
    "condition <- paste0(\"str_to_lower(str_trim(keywords[1])) == str_to_lower(keyword) \")\n",
    "\n",
    "# if more than 1 keywords provided...\n",
    "if (length(keywords) > 1) {\n",
    "    \n",
    "    # then build conditional string for each one after \"base\"\n",
    "    for (i in 2:length(keywords)) {\n",
    "        \n",
    "        # make a new condition with the current keyword, being sure to ignore case and trim the input\n",
    "        next_condition <- paste0(\"| str_to_lower(str_trim(keywords[\", i, \"])) == str_to_lower(keyword) \")\n",
    "        \n",
    "        # add the new condition onto the current list of conditions\n",
    "        condition <- paste(condition, next_condition, sep = \"\")\n",
    "    }\n",
    "}\n",
    "\n",
    "# movie keyword found in keyword column, just fetch it by parsing the condition from above\n",
    "movies_in_selected_keywords <- subset(keywords_subset, eval(parse(text = condition)))\n",
    "\n",
    "# output a sample of movies found for given keyword(s)\n",
    "sample_n(movies_in_selected_keywords, 10)"
   ]
  },
  {
   "cell_type": "code",
   "execution_count": 126,
   "metadata": {},
   "outputs": [],
   "source": [
    "#\n",
    "#\n",
    "# repeat code similarily as found in CHOOSE GENRE section\n",
    "#\n",
    "#"
   ]
  },
  {
   "cell_type": "code",
   "execution_count": 127,
   "metadata": {},
   "outputs": [],
   "source": [
    "############## CHOOSE CERTIFICATE ##############"
   ]
  },
  {
   "cell_type": "code",
   "execution_count": 128,
   "metadata": {},
   "outputs": [
    {
     "data": {
      "text/html": [
       "<table>\n",
       "<caption>A data.frame: 10 × 6</caption>\n",
       "<thead>\n",
       "\t<tr><th scope=col>movie</th><th scope=col>year</th><th scope=col>month</th><th scope=col>genre</th><th scope=col>runtime</th><th scope=col>rating</th></tr>\n",
       "\t<tr><th scope=col>&lt;chr&gt;</th><th scope=col>&lt;int&gt;</th><th scope=col>&lt;fct&gt;</th><th scope=col>&lt;fct&gt;</th><th scope=col>&lt;dbl&gt;</th><th scope=col>&lt;fct&gt;</th></tr>\n",
       "</thead>\n",
       "<tbody>\n",
       "\t<tr><td>Serving Sara (2002)           </td><td>2002</td><td>October  </td><td>Romance </td><td> 99</td><td>USA:PG-13  </td></tr>\n",
       "\t<tr><td>Mon roi (2015)                </td><td>2015</td><td>May      </td><td>Romance </td><td>124</td><td>USA:Unrated</td></tr>\n",
       "\t<tr><td>The Maze Runner (2014)        </td><td>2014</td><td>October  </td><td>Thriller</td><td>113</td><td>USA:PG-13  </td></tr>\n",
       "\t<tr><td>The Forest (2016/I)           </td><td>2016</td><td>April    </td><td>Horror  </td><td> 93</td><td>USA:PG-13  </td></tr>\n",
       "\t<tr><td>Supernova (2000/I)            </td><td>2000</td><td>October  </td><td>Thriller</td><td> 91</td><td>USA:PG-13  </td></tr>\n",
       "\t<tr><td>Pray for Rain (2017)          </td><td>2017</td><td>August   </td><td>Drama   </td><td> 92</td><td>USA:PG-13  </td></tr>\n",
       "\t<tr><td>De-Lovely (2004)              </td><td>2004</td><td>May      </td><td>Drama   </td><td>125</td><td>USA:PG-13  </td></tr>\n",
       "\t<tr><td>The Love Witch (2016)         </td><td>2016</td><td>June     </td><td>Comedy  </td><td>120</td><td>USA:Unrated</td></tr>\n",
       "\t<tr><td>Hancock (2008)                </td><td>2008</td><td>September</td><td>Crime   </td><td>102</td><td>USA:PG-13  </td></tr>\n",
       "\t<tr><td>The Replacement Killers (1998)</td><td>1998</td><td>September</td><td>Thriller</td><td> 87</td><td>USA:Unrated</td></tr>\n",
       "</tbody>\n",
       "</table>\n"
      ],
      "text/latex": [
       "A data.frame: 10 × 6\n",
       "\\begin{tabular}{llllll}\n",
       " movie & year & month & genre & runtime & rating\\\\\n",
       " <chr> & <int> & <fct> & <fct> & <dbl> & <fct>\\\\\n",
       "\\hline\n",
       "\t Serving Sara (2002)            & 2002 & October   & Romance  &  99 & USA:PG-13  \\\\\n",
       "\t Mon roi (2015)                 & 2015 & May       & Romance  & 124 & USA:Unrated\\\\\n",
       "\t The Maze Runner (2014)         & 2014 & October   & Thriller & 113 & USA:PG-13  \\\\\n",
       "\t The Forest (2016/I)            & 2016 & April     & Horror   &  93 & USA:PG-13  \\\\\n",
       "\t Supernova (2000/I)             & 2000 & October   & Thriller &  91 & USA:PG-13  \\\\\n",
       "\t Pray for Rain (2017)           & 2017 & August    & Drama    &  92 & USA:PG-13  \\\\\n",
       "\t De-Lovely (2004)               & 2004 & May       & Drama    & 125 & USA:PG-13  \\\\\n",
       "\t The Love Witch (2016)          & 2016 & June      & Comedy   & 120 & USA:Unrated\\\\\n",
       "\t Hancock (2008)                 & 2008 & September & Crime    & 102 & USA:PG-13  \\\\\n",
       "\t The Replacement Killers (1998) & 1998 & September & Thriller &  87 & USA:Unrated\\\\\n",
       "\\end{tabular}\n"
      ],
      "text/markdown": [
       "\n",
       "A data.frame: 10 × 6\n",
       "\n",
       "| movie &lt;chr&gt; | year &lt;int&gt; | month &lt;fct&gt; | genre &lt;fct&gt; | runtime &lt;dbl&gt; | rating &lt;fct&gt; |\n",
       "|---|---|---|---|---|---|\n",
       "| Serving Sara (2002)            | 2002 | October   | Romance  |  99 | USA:PG-13   |\n",
       "| Mon roi (2015)                 | 2015 | May       | Romance  | 124 | USA:Unrated |\n",
       "| The Maze Runner (2014)         | 2014 | October   | Thriller | 113 | USA:PG-13   |\n",
       "| The Forest (2016/I)            | 2016 | April     | Horror   |  93 | USA:PG-13   |\n",
       "| Supernova (2000/I)             | 2000 | October   | Thriller |  91 | USA:PG-13   |\n",
       "| Pray for Rain (2017)           | 2017 | August    | Drama    |  92 | USA:PG-13   |\n",
       "| De-Lovely (2004)               | 2004 | May       | Drama    | 125 | USA:PG-13   |\n",
       "| The Love Witch (2016)          | 2016 | June      | Comedy   | 120 | USA:Unrated |\n",
       "| Hancock (2008)                 | 2008 | September | Crime    | 102 | USA:PG-13   |\n",
       "| The Replacement Killers (1998) | 1998 | September | Thriller |  87 | USA:Unrated |\n",
       "\n"
      ],
      "text/plain": [
       "   movie                          year month     genre    runtime rating     \n",
       "1  Serving Sara (2002)            2002 October   Romance   99     USA:PG-13  \n",
       "2  Mon roi (2015)                 2015 May       Romance  124     USA:Unrated\n",
       "3  The Maze Runner (2014)         2014 October   Thriller 113     USA:PG-13  \n",
       "4  The Forest (2016/I)            2016 April     Horror    93     USA:PG-13  \n",
       "5  Supernova (2000/I)             2000 October   Thriller  91     USA:PG-13  \n",
       "6  Pray for Rain (2017)           2017 August    Drama     92     USA:PG-13  \n",
       "7  De-Lovely (2004)               2004 May       Drama    125     USA:PG-13  \n",
       "8  The Love Witch (2016)          2016 June      Comedy   120     USA:Unrated\n",
       "9  Hancock (2008)                 2008 September Crime    102     USA:PG-13  \n",
       "10 The Replacement Killers (1998) 1998 September Thriller  87     USA:Unrated"
      ]
     },
     "metadata": {},
     "output_type": "display_data"
    }
   ],
   "source": [
    "# certificate input is comma separated string list\n",
    "selected_certificates = \"USA:Pg-13, USA:UnRateD , USA:fake_test, USA:, \"\n",
    "\n",
    "# split certificate input to individual inputs\n",
    "certificates <- unlist(strsplit(selected_certificates, \",\"))\n",
    "\n",
    "# retrieve first certificate as a \"base\"\n",
    "condition <- paste0(\"str_to_lower(str_trim(certificates[1])) == str_to_lower(rating) \")\n",
    "\n",
    "# if more than 1 certificates provided...\n",
    "if (length(certificates) > 1) {\n",
    "    \n",
    "    # then build conditional string for each one after \"base\"\n",
    "    for (i in 2:length(certificates)) {\n",
    "        \n",
    "        # make a new condition with the current certificate, being sure to ignore case and trim the input\n",
    "        next_condition <- paste0(\"| str_to_lower(str_trim(certificates[\", i, \"])) == str_to_lower(rating) \")\n",
    "        \n",
    "        # add the new condition onto the current list of conditions\n",
    "        condition <- paste(condition, next_condition, sep = \"\")\n",
    "    }\n",
    "}\n",
    "\n",
    "# movie certificate found in certificate column, just fetch it by parsing the condition from above\n",
    "movies_in_selected_certificates <- subset(data, eval(parse(text = condition)))\n",
    "\n",
    "# output a sample of movies found for given certificate(s)\n",
    "sample_n(movies_in_selected_certificates, 10)"
   ]
  },
  {
   "cell_type": "code",
   "execution_count": 129,
   "metadata": {},
   "outputs": [],
   "source": [
    "#\n",
    "#\n",
    "# repeat code similarily as found in CHOOSE GENRE section\n",
    "#\n",
    "#"
   ]
  },
  {
   "cell_type": "code",
   "execution_count": 130,
   "metadata": {},
   "outputs": [],
   "source": [
    "############## CHOOSE RUNTIME ##############"
   ]
  },
  {
   "cell_type": "code",
   "execution_count": 131,
   "metadata": {},
   "outputs": [
    {
     "data": {
      "text/html": [
       "<table>\n",
       "<caption>A data.frame: 10 × 6</caption>\n",
       "<thead>\n",
       "\t<tr><th scope=col>movie</th><th scope=col>year</th><th scope=col>month</th><th scope=col>genre</th><th scope=col>runtime</th><th scope=col>rating</th></tr>\n",
       "\t<tr><th scope=col>&lt;chr&gt;</th><th scope=col>&lt;int&gt;</th><th scope=col>&lt;fct&gt;</th><th scope=col>&lt;fct&gt;</th><th scope=col>&lt;dbl&gt;</th><th scope=col>&lt;fct&gt;</th></tr>\n",
       "</thead>\n",
       "<tbody>\n",
       "\t<tr><td>New Jack City (1991)                 </td><td>1991</td><td>November</td><td>Thriller </td><td> 97</td><td>USA:R      </td></tr>\n",
       "\t<tr><td>Phantasm III: Lord of the Dead (1994)</td><td>1994</td><td>February</td><td>Sci-Fi   </td><td> 91</td><td>USA:R      </td></tr>\n",
       "\t<tr><td>La folie des grandeurs (1971)        </td><td>1971</td><td>December</td><td>History  </td><td>108</td><td>USA:PG     </td></tr>\n",
       "\t<tr><td>Burn Your Maps (2016)                </td><td>2016</td><td>December</td><td>Adventure</td><td>102</td><td>USA:PG-13  </td></tr>\n",
       "\t<tr><td>Kings (2017)                         </td><td>2017</td><td>November</td><td>Thriller </td><td> 92</td><td>USA:R      </td></tr>\n",
       "\t<tr><td>A Boy Named Charlie Brown (1969)     </td><td>1969</td><td>December</td><td>Animation</td><td> 88</td><td>USA:G      </td></tr>\n",
       "\t<tr><td>The Hideous Sun Demon (1958)         </td><td>1958</td><td>August  </td><td>Sci-Fi   </td><td> 74</td><td>USA:Unrated</td></tr>\n",
       "\t<tr><td>Harry and the Hendersons (1987)      </td><td>1987</td><td>June    </td><td>Family   </td><td>110</td><td>USA:PG     </td></tr>\n",
       "\t<tr><td>Cursed (2005)                        </td><td>2005</td><td>March   </td><td>Horror   </td><td> 99</td><td>USA:R      </td></tr>\n",
       "\t<tr><td>[REC] 4: Apocalipsis (2014)          </td><td>2014</td><td>November</td><td>Thriller </td><td> 95</td><td>USA:R      </td></tr>\n",
       "</tbody>\n",
       "</table>\n"
      ],
      "text/latex": [
       "A data.frame: 10 × 6\n",
       "\\begin{tabular}{llllll}\n",
       " movie & year & month & genre & runtime & rating\\\\\n",
       " <chr> & <int> & <fct> & <fct> & <dbl> & <fct>\\\\\n",
       "\\hline\n",
       "\t New Jack City (1991)                  & 1991 & November & Thriller  &  97 & USA:R      \\\\\n",
       "\t Phantasm III: Lord of the Dead (1994) & 1994 & February & Sci-Fi    &  91 & USA:R      \\\\\n",
       "\t La folie des grandeurs (1971)         & 1971 & December & History   & 108 & USA:PG     \\\\\n",
       "\t Burn Your Maps (2016)                 & 2016 & December & Adventure & 102 & USA:PG-13  \\\\\n",
       "\t Kings (2017)                          & 2017 & November & Thriller  &  92 & USA:R      \\\\\n",
       "\t A Boy Named Charlie Brown (1969)      & 1969 & December & Animation &  88 & USA:G      \\\\\n",
       "\t The Hideous Sun Demon (1958)          & 1958 & August   & Sci-Fi    &  74 & USA:Unrated\\\\\n",
       "\t Harry and the Hendersons (1987)       & 1987 & June     & Family    & 110 & USA:PG     \\\\\n",
       "\t Cursed (2005)                         & 2005 & March    & Horror    &  99 & USA:R      \\\\\n",
       "\t {[}REC{]} 4: Apocalipsis (2014)           & 2014 & November & Thriller  &  95 & USA:R      \\\\\n",
       "\\end{tabular}\n"
      ],
      "text/markdown": [
       "\n",
       "A data.frame: 10 × 6\n",
       "\n",
       "| movie &lt;chr&gt; | year &lt;int&gt; | month &lt;fct&gt; | genre &lt;fct&gt; | runtime &lt;dbl&gt; | rating &lt;fct&gt; |\n",
       "|---|---|---|---|---|---|\n",
       "| New Jack City (1991)                  | 1991 | November | Thriller  |  97 | USA:R       |\n",
       "| Phantasm III: Lord of the Dead (1994) | 1994 | February | Sci-Fi    |  91 | USA:R       |\n",
       "| La folie des grandeurs (1971)         | 1971 | December | History   | 108 | USA:PG      |\n",
       "| Burn Your Maps (2016)                 | 2016 | December | Adventure | 102 | USA:PG-13   |\n",
       "| Kings (2017)                          | 2017 | November | Thriller  |  92 | USA:R       |\n",
       "| A Boy Named Charlie Brown (1969)      | 1969 | December | Animation |  88 | USA:G       |\n",
       "| The Hideous Sun Demon (1958)          | 1958 | August   | Sci-Fi    |  74 | USA:Unrated |\n",
       "| Harry and the Hendersons (1987)       | 1987 | June     | Family    | 110 | USA:PG      |\n",
       "| Cursed (2005)                         | 2005 | March    | Horror    |  99 | USA:R       |\n",
       "| [REC] 4: Apocalipsis (2014)           | 2014 | November | Thriller  |  95 | USA:R       |\n",
       "\n"
      ],
      "text/plain": [
       "   movie                                 year month    genre     runtime\n",
       "1  New Jack City (1991)                  1991 November Thriller   97    \n",
       "2  Phantasm III: Lord of the Dead (1994) 1994 February Sci-Fi     91    \n",
       "3  La folie des grandeurs (1971)         1971 December History   108    \n",
       "4  Burn Your Maps (2016)                 2016 December Adventure 102    \n",
       "5  Kings (2017)                          2017 November Thriller   92    \n",
       "6  A Boy Named Charlie Brown (1969)      1969 December Animation  88    \n",
       "7  The Hideous Sun Demon (1958)          1958 August   Sci-Fi     74    \n",
       "8  Harry and the Hendersons (1987)       1987 June     Family    110    \n",
       "9  Cursed (2005)                         2005 March    Horror     99    \n",
       "10 [REC] 4: Apocalipsis (2014)           2014 November Thriller   95    \n",
       "   rating     \n",
       "1  USA:R      \n",
       "2  USA:R      \n",
       "3  USA:PG     \n",
       "4  USA:PG-13  \n",
       "5  USA:R      \n",
       "6  USA:G      \n",
       "7  USA:Unrated\n",
       "8  USA:PG     \n",
       "9  USA:R      \n",
       "10 USA:R      "
      ]
     },
     "metadata": {},
     "output_type": "display_data"
    }
   ],
   "source": [
    "# runtime input is range from min to max\n",
    "runtime_min = 60\n",
    "runtime_max = 120\n",
    "\n",
    "# movie runtime found in runtime column, just fetch it and compare the inputs\n",
    "movies_in_selected_runtimes <- subset(data, runtime_min <= runtime & runtime_max >= runtime)\n",
    "\n",
    "# output a sample of movies found for given runtime range\n",
    "sample_n(movies_in_selected_runtimes, 10)"
   ]
  },
  {
   "cell_type": "code",
   "execution_count": 132,
   "metadata": {},
   "outputs": [],
   "source": [
    "#\n",
    "#\n",
    "# repeat code similarily as found in CHOOSE GENRE section\n",
    "#\n",
    "#"
   ]
  },
  {
   "cell_type": "code",
   "execution_count": 133,
   "metadata": {},
   "outputs": [],
   "source": [
    "############## PLOTS ##############"
   ]
  },
  {
   "cell_type": "code",
   "execution_count": 114,
   "metadata": {},
   "outputs": [
    {
     "name": "stdout",
     "output_type": "stream",
     "text": [
      "[1] \"---- total counted= 36596\"\n",
      "[1] \"---- unique years= 108\"\n"
     ]
    },
    {
     "data": {
      "image/png": "[encoded data removed]",
      "text/plain": [
       "plot without title"
      ]
     },
     "metadata": {
      "image/png": {
       "height": 420,
       "width": 420
      }
     },
     "output_type": "display_data"
    }
   ],
   "source": [
    "## Bar chart for films released per year## \n",
    "\n",
    "films_per_year_graph = number_films_per_year(unique_movies)\n",
    "ggplot(films_per_year_graph, aes(x=year, y=count)) +\n",
    "  geom_bar(stat = \"identity\", fill = \"black\") + labs(title = \"Number of Films Per Year\", x = \"Year\", y = \"Number of Films\")"
   ]
  },
  {
   "cell_type": "code",
   "execution_count": 115,
   "metadata": {},
   "outputs": [
    {
     "name": "stdout",
     "output_type": "stream",
     "text": [
      "[1] \"---- total counted= 36596\"\n",
      "[1] \"---- unique months= 12\"\n"
     ]
    },
    {
     "data": {
      "image/png": "[encoded data removed]",
      "text/plain": [
       "plot without title"
      ]
     },
     "metadata": {
      "image/png": {
       "height": 420,
       "width": 420
      }
     },
     "output_type": "display_data"
    }
   ],
   "source": [
    "## Bar chart for films released per month## \n",
    "films_per_month_graph = number_films_per_month(unique_movies)\n",
    "\n",
    "ggplot(films_per_month_graph, aes(x=month, y=count)) +\n",
    "  geom_bar(stat = \"identity\", fill = \"yellow\") + labs(title = \"Films Released By Month\", x = \"Month\", y = \"Number of Films\")"
   ]
  },
  {
   "cell_type": "code",
   "execution_count": 96,
   "metadata": {},
   "outputs": [],
   "source": [
    "## Bar chart for distribution runtimes##\n"
   ]
  },
  {
   "cell_type": "code",
   "execution_count": 116,
   "metadata": {},
   "outputs": [
    {
     "name": "stdout",
     "output_type": "stream",
     "text": [
      "[1] \"---- total counted= 36596\"\n",
      "[1] \"---- unique genres= 22\"\n"
     ]
    },
    {
     "data": {
      "image/png": "[encoded data removed]",
      "text/plain": [
       "plot without title"
      ]
     },
     "metadata": {
      "image/png": {
       "height": 420,
       "width": 420
      }
     },
     "output_type": "display_data"
    }
   ],
   "source": [
    "## Bar chart for distribution of genres ##\n",
    "\n",
    "genres_graph = distribution_of_genres(unique_movies)\n",
    "\n",
    "ggplot(genres_graph, aes(x= genre, y=count)) + geom_bar(stat = \"identity\", fill = \"black\") + labs(title = \"Count of Films by Genre\", x = \"Genre\", y = \"Number of Films\")"
   ]
  },
  {
   "cell_type": "code",
   "execution_count": 119,
   "metadata": {},
   "outputs": [
    {
     "name": "stdout",
     "output_type": "stream",
     "text": [
      "[1] \"---- total counted= 36596\"\n",
      "[1] \"---- unique certificates= 12\"\n"
     ]
    },
    {
     "data": {
      "image/png": "[encoded data removed]",
      "text/plain": [
       "plot without title"
      ]
     },
     "metadata": {
      "image/png": {
       "height": 420,
       "width": 420
      }
     },
     "output_type": "display_data"
    }
   ],
   "source": [
    "## Bar chart for distribution of certificates for a given movie ##\n",
    "\n",
    "certificates_graph <- distribution_of_certificates(unique_movies)\n",
    "ggplot(certificates_graph, aes(x = rating, y = count)) + geom_bar(stat = \"identity\", fill = \"yellow\")"
   ]
  },
  {
   "cell_type": "code",
   "execution_count": 141,
   "metadata": {
    "scrolled": true
   },
   "outputs": [
    {
     "ename": "ERROR",
     "evalue": "Error: Column `keyword` is unknown\n",
     "output_type": "error",
     "traceback": [
      "Error: Column `keyword` is unknown\nTraceback:\n",
      "1. distribution_of_keywords(unique_movies, 10)",
      "2. table %>% group_by(keyword) %>% summarize(count = n())   # at line 148 of file <text>",
      "3. withVisible(eval(quote(`_fseq`(`_lhs`)), env, env))",
      "4. eval(quote(`_fseq`(`_lhs`)), env, env)",
      "5. eval(quote(`_fseq`(`_lhs`)), env, env)",
      "6. `_fseq`(`_lhs`)",
      "7. freduce(value, `_function_list`)",
      "8. function_list[[i]](value)",
      "9. group_by(., keyword)",
      "10. group_by.data.frame(., keyword)",
      "11. grouped_df(groups$data, groups$group_names, .drop)",
      "12. grouped_df_impl(data, unname(vars), drop)"
     ]
    }
   ],
   "source": [
    "## Bar chart for distribution of 10 key words ##\n",
    "## Used ten as an example ## \n",
    "\n",
    "ten_keywords = distribution_of_keywords(unique_movies, 10)"
   ]
  },
  {
   "cell_type": "code",
   "execution_count": null,
   "metadata": {},
   "outputs": [],
   "source": []
  }
 ],
 "metadata": {
  "kernelspec": {
   "display_name": "R",
   "language": "R",
   "name": "ir"
  },
  "language_info": {
   "codemirror_mode": "r",
   "file_extension": ".r",
   "mimetype": "text/x-r-source",
   "name": "R",
   "pygments_lexer": "r",
   "version": "3.5.0"
  }
 },
 "nbformat": 4,
 "nbformat_minor": 2
}
