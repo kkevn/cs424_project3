{
 "cells": [
  {
   "cell_type": "code",
   "execution_count": 78,
   "metadata": {},
   "outputs": [],
   "source": [
    "#######################################\n",
    "# CS 424 - Project 3\n",
    "# Kevin Kowalski\n",
    "# Samuel Kajah\n",
    "# Vijay Vemu\n",
    "#######################################\n",
    "#\n",
    "# This file contains the code to clean\n",
    "# the original data set. It outputs\n",
    "# the necessary plots and updated data\n",
    "# set to be used by shiny.\n",
    "#\n",
    "# This file was used for testing and \n",
    "# plotting before using RStudio for a\n",
    "# dashboard.\n",
    "#\n",
    "#######################################"
   ]
  },
  {
   "cell_type": "code",
   "execution_count": 80,
   "metadata": {},
   "outputs": [],
   "source": [
    "# import libraries\n",
    "library(comprehenr)\n",
    "library(dplyr)\n",
    "library(ggplot2)\n",
    "library(hashmap)\n",
    "library(lubridate)\n",
    "library(stringr)"
   ]
  },
  {
   "cell_type": "code",
   "execution_count": 81,
   "metadata": {},
   "outputs": [],
   "source": [
    "# read in the new CSV files\n",
    "df_certificates = read.csv('data_files/new_files/certificates.csv')\n",
    "df_genres = read.csv('data_files/new_files/genres.csv')\n",
    "df_keywords = read.csv('data_files/new_files/keywords.csv')\n",
    "df_movies = read.csv('data_files/new_files/movies.csv')\n",
    "df_releases = read.csv('data_files/new_files/releases.csv')\n",
    "df_runtimes = read.csv('data_files/new_files/runtimes.csv')"
   ]
  },
  {
   "cell_type": "code",
   "execution_count": 82,
   "metadata": {},
   "outputs": [
    {
     "name": "stdout",
     "output_type": "stream",
     "text": [
      "[1] \"---- df_certificates, n=55567\"\n"
     ]
    },
    {
     "data": {
      "text/html": [
       "<table>\n",
       "<thead><tr><th scope=col>movie</th><th scope=col>rating</th></tr></thead>\n",
       "<tbody>\n",
       "\t<tr><td>Bullet Scars (1942)                   </td><td>USA:Approved                          </td></tr>\n",
       "\t<tr><td>Scoring (1979)                        </td><td>USA:PG                                </td></tr>\n",
       "\t<tr><td>Goya en Burdeos (1999)                </td><td>USA:R                                 </td></tr>\n",
       "\t<tr><td>Can't Even Shout Can't Even Cry (2014)</td><td>USA:PG-13                             </td></tr>\n",
       "\t<tr><td>Dino Time (2012)                      </td><td>USA:PG                                </td></tr>\n",
       "</tbody>\n",
       "</table>\n"
      ],
      "text/latex": [
       "\\begin{tabular}{r|ll}\n",
       " movie & rating\\\\\n",
       "\\hline\n",
       "\t Bullet Scars (1942)                    & USA:Approved                          \\\\\n",
       "\t Scoring (1979)                         & USA:PG                                \\\\\n",
       "\t Goya en Burdeos (1999)                 & USA:R                                 \\\\\n",
       "\t Can't Even Shout Can't Even Cry (2014) & USA:PG-13                             \\\\\n",
       "\t Dino Time (2012)                       & USA:PG                                \\\\\n",
       "\\end{tabular}\n"
      ],
      "text/markdown": [
       "\n",
       "| movie | rating |\n",
       "|---|---|\n",
       "| Bullet Scars (1942)                    | USA:Approved                           |\n",
       "| Scoring (1979)                         | USA:PG                                 |\n",
       "| Goya en Burdeos (1999)                 | USA:R                                  |\n",
       "| Can't Even Shout Can't Even Cry (2014) | USA:PG-13                              |\n",
       "| Dino Time (2012)                       | USA:PG                                 |\n",
       "\n"
      ],
      "text/plain": [
       "  movie                                  rating      \n",
       "1 Bullet Scars (1942)                    USA:Approved\n",
       "2 Scoring (1979)                         USA:PG      \n",
       "3 Goya en Burdeos (1999)                 USA:R       \n",
       "4 Can't Even Shout Can't Even Cry (2014) USA:PG-13   \n",
       "5 Dino Time (2012)                       USA:PG      "
      ]
     },
     "metadata": {},
     "output_type": "display_data"
    },
    {
     "data": {
      "text/plain": [
       "                                                 movie      \n",
       " The Green Archer (1940)                            :   16  \n",
       " The Mysterious Pilot (1937)                        :   16  \n",
       " The Amazing Exploits of the Clutching Hand (1936/I):   15  \n",
       " The Shadow (1940)                                  :   14  \n",
       " Sky Raiders (1941)                                 :   13  \n",
       " Junior G-Men of the Air (1942)                     :   12  \n",
       " (Other)                                            :55481  \n",
       "          rating     \n",
       " USA:R       :16302  \n",
       " USA:Approved:13864  \n",
       " USA:Passed  : 7327  \n",
       " USA:PG      : 5510  \n",
       " USA:PG-13   : 5337  \n",
       " USA:Unrated : 4611  \n",
       " (Other)     : 2616  "
      ]
     },
     "metadata": {},
     "output_type": "display_data"
    }
   ],
   "source": [
    "# printing certificate CSV info\n",
    "print(paste0(\"---- df_certificates, n=\", count(df_certificates)))\n",
    "sample_n(df_certificates, 5)\n",
    "summary(df_certificates)"
   ]
  },
  {
   "cell_type": "code",
   "execution_count": 83,
   "metadata": {},
   "outputs": [
    {
     "name": "stdout",
     "output_type": "stream",
     "text": [
      "[1] \"---- df_genres, n=1340551\"\n"
     ]
    },
    {
     "data": {
      "text/html": [
       "<table>\n",
       "<thead><tr><th scope=col>movie</th><th scope=col>genre</th></tr></thead>\n",
       "<tbody>\n",
       "\t<tr><td>My La Story (????)       </td><td>Drama                    </td></tr>\n",
       "\t<tr><td>Açúcares de Angola (1933)</td><td>Documentary              </td></tr>\n",
       "\t<tr><td>Vida de Menina (2003)    </td><td>Drama                    </td></tr>\n",
       "\t<tr><td>Face-Typeface-Type (1985)</td><td>Drama                    </td></tr>\n",
       "\t<tr><td>Siren (2016/II)          </td><td>Romance                  </td></tr>\n",
       "</tbody>\n",
       "</table>\n"
      ],
      "text/latex": [
       "\\begin{tabular}{r|ll}\n",
       " movie & genre\\\\\n",
       "\\hline\n",
       "\t My La Story (????)        & Drama                    \\\\\n",
       "\t Açúcares de Angola (1933) & Documentary              \\\\\n",
       "\t Vida de Menina (2003)     & Drama                    \\\\\n",
       "\t Face-Typeface-Type (1985) & Drama                    \\\\\n",
       "\t Siren (2016/II)           & Romance                  \\\\\n",
       "\\end{tabular}\n"
      ],
      "text/markdown": [
       "\n",
       "| movie | genre |\n",
       "|---|---|\n",
       "| My La Story (????)        | Drama                     |\n",
       "| Açúcares de Angola (1933) | Documentary               |\n",
       "| Vida de Menina (2003)     | Drama                     |\n",
       "| Face-Typeface-Type (1985) | Drama                     |\n",
       "| Siren (2016/II)           | Romance                   |\n",
       "\n"
      ],
      "text/plain": [
       "  movie                     genre      \n",
       "1 My La Story (????)        Drama      \n",
       "2 Açúcares de Angola (1933) Documentary\n",
       "3 Vida de Menina (2003)     Drama      \n",
       "4 Face-Typeface-Type (1985) Drama      \n",
       "5 Siren (2016/II)           Romance    "
      ]
     },
     "metadata": {},
     "output_type": "display_data"
    },
    {
     "data": {
      "text/plain": [
       "                                 movie                 genre       \n",
       " Melon Soda (2008)                  :     14   Drama      :337702  \n",
       " The Travelogues (2008)             :     12   Comedy     :214682  \n",
       " Vampire Hunter D: Bloodlust (2000) :     11   Documentary:176268  \n",
       " Batman: Mask of the Phantasm (1993):     10   Thriller   : 67827  \n",
       " Gumby 1 (1995)                     :     10   Romance    : 64033  \n",
       " Dreamworks Spooky Stories (2012)   :      9   Action     : 56333  \n",
       " (Other)                            :1340485   (Other)    :423706  "
      ]
     },
     "metadata": {},
     "output_type": "display_data"
    }
   ],
   "source": [
    "# printing genre CSV info\n",
    "print(paste0(\"---- df_genres, n=\", count(df_genres)))\n",
    "sample_n(df_genres, 5)\n",
    "summary(df_genres)"
   ]
  },
  {
   "cell_type": "code",
   "execution_count": 84,
   "metadata": {},
   "outputs": [
    {
     "name": "stdout",
     "output_type": "stream",
     "text": [
      "[1] \"---- df_keywords, n=3763298\"\n"
     ]
    },
    {
     "data": {
      "text/html": [
       "<table>\n",
       "<thead><tr><th scope=col>movie</th><th scope=col>keyword</th></tr></thead>\n",
       "<tbody>\n",
       "\t<tr><td>Ladder of Philosophy (????)            </td><td>stream-of-consciousness                </td></tr>\n",
       "\t<tr><td>Zítra vstanu a oparím se cajem (1977)  </td><td>changing-history                       </td></tr>\n",
       "\t<tr><td>Cache (????)                           </td><td>one-word-title                         </td></tr>\n",
       "\t<tr><td>Traffic Regulations (1929)             </td><td>political-humor                        </td></tr>\n",
       "\t<tr><td>A Girl Walks Home Alone at Night (2014)</td><td>subjective-camera                      </td></tr>\n",
       "</tbody>\n",
       "</table>\n"
      ],
      "text/latex": [
       "\\begin{tabular}{r|ll}\n",
       " movie & keyword\\\\\n",
       "\\hline\n",
       "\t Ladder of Philosophy (????)             & stream-of-consciousness                \\\\\n",
       "\t Zítra vstanu a oparím se cajem (1977)   & changing-history                       \\\\\n",
       "\t Cache (????)                            & one-word-title                         \\\\\n",
       "\t Traffic Regulations (1929)              & political-humor                        \\\\\n",
       "\t A Girl Walks Home Alone at Night (2014) & subjective-camera                      \\\\\n",
       "\\end{tabular}\n"
      ],
      "text/markdown": [
       "\n",
       "| movie | keyword |\n",
       "|---|---|\n",
       "| Ladder of Philosophy (????)             | stream-of-consciousness                 |\n",
       "| Zítra vstanu a oparím se cajem (1977)   | changing-history                        |\n",
       "| Cache (????)                            | one-word-title                          |\n",
       "| Traffic Regulations (1929)              | political-humor                         |\n",
       "| A Girl Walks Home Alone at Night (2014) | subjective-camera                       |\n",
       "\n"
      ],
      "text/plain": [
       "  movie                                   keyword                \n",
       "1 Ladder of Philosophy (????)             stream-of-consciousness\n",
       "2 Zítra vstanu a oparím se cajem (1977)   changing-history       \n",
       "3 Cache (????)                            one-word-title         \n",
       "4 Traffic Regulations (1929)              political-humor        \n",
       "5 A Girl Walks Home Alone at Night (2014) subjective-camera      "
      ]
     },
     "metadata": {},
     "output_type": "display_data"
    },
    {
     "data": {
      "text/plain": [
       "                                       movie        \n",
       " Pane, vy jste vdova! (1971)              :    678  \n",
       " 75 (2017)                                :    587  \n",
       " The Dark Knight (2008)                   :    580  \n",
       " Batman v Superman: Dawn of Justice (2016):    548  \n",
       " The Boys Club (1996)                     :    541  \n",
       " Golgo 13 (1983)                          :    520  \n",
       " (Other)                                  :3759844  \n",
       "                    keyword       \n",
       " independent-film       :  34932  \n",
       " based-on-novel         :  22626  \n",
       " character-name-in-title:  21769  \n",
       " murder                 :  19321  \n",
       " f-rated                :  18253  \n",
       " sex                    :  17555  \n",
       " (Other)                :3628842  "
      ]
     },
     "metadata": {},
     "output_type": "display_data"
    }
   ],
   "source": [
    "# printing keyword CSV info\n",
    "print(paste0(\"---- df_keywords, n=\", count(df_keywords)))\n",
    "sample_n(df_keywords, 5)\n",
    "summary(df_keywords)"
   ]
  },
  {
   "cell_type": "code",
   "execution_count": 85,
   "metadata": {},
   "outputs": [
    {
     "name": "stdout",
     "output_type": "stream",
     "text": [
      "[1] \"---- df_movies, n=1024452\"\n"
     ]
    },
    {
     "data": {
      "text/html": [
       "<table>\n",
       "<thead><tr><th scope=col>movie</th><th scope=col>year</th></tr></thead>\n",
       "<tbody>\n",
       "\t<tr><td>Pro vsekh na svete (1984)          </td><td>1984                               </td></tr>\n",
       "\t<tr><td>Zordon of Eltar (2015)             </td><td>2015                               </td></tr>\n",
       "\t<tr><td>Guess Who's Coming to Dinner (2010)</td><td>2010                               </td></tr>\n",
       "\t<tr><td>Fuyez ou Retour (2016)             </td><td>2016                               </td></tr>\n",
       "\t<tr><td>Entre ses mains (2015)             </td><td>2015                               </td></tr>\n",
       "</tbody>\n",
       "</table>\n"
      ],
      "text/latex": [
       "\\begin{tabular}{r|ll}\n",
       " movie & year\\\\\n",
       "\\hline\n",
       "\t Pro vsekh na svete (1984)           & 1984                               \\\\\n",
       "\t Zordon of Eltar (2015)              & 2015                               \\\\\n",
       "\t Guess Who's Coming to Dinner (2010) & 2010                               \\\\\n",
       "\t Fuyez ou Retour (2016)              & 2016                               \\\\\n",
       "\t Entre ses mains (2015)              & 2015                               \\\\\n",
       "\\end{tabular}\n"
      ],
      "text/markdown": [
       "\n",
       "| movie | year |\n",
       "|---|---|\n",
       "| Pro vsekh na svete (1984)           | 1984                                |\n",
       "| Zordon of Eltar (2015)              | 2015                                |\n",
       "| Guess Who's Coming to Dinner (2010) | 2010                                |\n",
       "| Fuyez ou Retour (2016)              | 2016                                |\n",
       "| Entre ses mains (2015)              | 2015                                |\n",
       "\n"
      ],
      "text/plain": [
       "  movie                               year\n",
       "1 Pro vsekh na svete (1984)           1984\n",
       "2 Zordon of Eltar (2015)              2015\n",
       "3 Guess Who's Coming to Dinner (2010) 2010\n",
       "4 Fuyez ou Retour (2016)              2016\n",
       "5 Entre ses mains (2015)              2015"
      ]
     },
     "metadata": {},
     "output_type": "display_data"
    },
    {
     "data": {
      "text/plain": [
       "                                         movie              year     \n",
       " ''The Shot'' (2012)                        :      1   Min.   :1874  \n",
       " '...nettirwnU' (2005)                      :      1   1st Qu.:1969  \n",
       " '_____' (Insert Superhero Name Here) (2013):      1   Median :2006  \n",
       " '06: The Big One (2006)                    :      1   Mean   :1987  \n",
       " '11' (1980)                                :      1   3rd Qu.:2013  \n",
       " '14 oktobar' (1968)                        :      1   Max.   :2115  \n",
       " (Other)                                    :1024446                 "
      ]
     },
     "metadata": {},
     "output_type": "display_data"
    }
   ],
   "source": [
    "# printing movie CSV info\n",
    "print(paste0(\"---- df_movies, n=\", count(df_movies)))\n",
    "sample_n(df_movies, 5)\n",
    "summary(df_movies)"
   ]
  },
  {
   "cell_type": "code",
   "execution_count": 86,
   "metadata": {},
   "outputs": [
    {
     "name": "stdout",
     "output_type": "stream",
     "text": [
      "[1] \"---- df_releases, n=1724262\"\n"
     ]
    },
    {
     "data": {
      "text/html": [
       "<table>\n",
       "<thead><tr><th scope=col>movie</th><th scope=col>month</th><th scope=col>year</th></tr></thead>\n",
       "<tbody>\n",
       "\t<tr><td>His First Experiment in Chemistry (1908)</td><td>September                               </td><td>1908                                    </td></tr>\n",
       "\t<tr><td>Twins (1912)                            </td><td>July                                    </td><td>1912                                    </td></tr>\n",
       "\t<tr><td>The Lost City of Z (2016)               </td><td>February                                </td><td>2017                                    </td></tr>\n",
       "\t<tr><td>Misafir (2015)                          </td><td>March                                   </td><td>2016                                    </td></tr>\n",
       "\t<tr><td>Jurang bahaya (1968)                    </td><td>NA                                      </td><td>1968                                    </td></tr>\n",
       "</tbody>\n",
       "</table>\n"
      ],
      "text/latex": [
       "\\begin{tabular}{r|lll}\n",
       " movie & month & year\\\\\n",
       "\\hline\n",
       "\t His First Experiment in Chemistry (1908) & September                                & 1908                                    \\\\\n",
       "\t Twins (1912)                             & July                                     & 1912                                    \\\\\n",
       "\t The Lost City of Z (2016)                & February                                 & 2017                                    \\\\\n",
       "\t Misafir (2015)                           & March                                    & 2016                                    \\\\\n",
       "\t Jurang bahaya (1968)                     & NA                                       & 1968                                    \\\\\n",
       "\\end{tabular}\n"
      ],
      "text/markdown": [
       "\n",
       "| movie | month | year |\n",
       "|---|---|---|\n",
       "| His First Experiment in Chemistry (1908) | September                                | 1908                                     |\n",
       "| Twins (1912)                             | July                                     | 1912                                     |\n",
       "| The Lost City of Z (2016)                | February                                 | 2017                                     |\n",
       "| Misafir (2015)                           | March                                    | 2016                                     |\n",
       "| Jurang bahaya (1968)                     | NA                                       | 1968                                     |\n",
       "\n"
      ],
      "text/plain": [
       "  movie                                    month     year\n",
       "1 His First Experiment in Chemistry (1908) September 1908\n",
       "2 Twins (1912)                             July      1912\n",
       "3 The Lost City of Z (2016)                February  2017\n",
       "4 Misafir (2015)                           March     2016\n",
       "5 Jurang bahaya (1968)                     NA        1968"
      ]
     },
     "metadata": {},
     "output_type": "display_data"
    },
    {
     "data": {
      "text/plain": [
       "                                    movie               month       \n",
       " Maudie (2016)                         :    284   October  :185018  \n",
       " Mirror (2016/VI)                      :    193   November :154897  \n",
       " 4242 (2016)                           :    179   September:154526  \n",
       " Snow White and the Seven Dwarfs (1937):    153   April    :144281  \n",
       " The Imitation Game (2014)             :    144   March    :135903  \n",
       " Bakemono no ko (2015)                 :    143   (Other)  :829148  \n",
       " (Other)                               :1723166   NA's     :120489  \n",
       "      year     \n",
       " Min.   :1874  \n",
       " 1st Qu.:1979  \n",
       " Median :2006  \n",
       " Mean   :1992  \n",
       " 3rd Qu.:2013  \n",
       " Max.   :2115  \n",
       "               "
      ]
     },
     "metadata": {},
     "output_type": "display_data"
    }
   ],
   "source": [
    "# printing release CSV info\n",
    "print(paste0(\"---- df_releases, n=\", count(df_releases)))\n",
    "sample_n(df_releases, 5)\n",
    "summary(df_releases)"
   ]
  },
  {
   "cell_type": "code",
   "execution_count": 87,
   "metadata": {},
   "outputs": [
    {
     "name": "stdout",
     "output_type": "stream",
     "text": [
      "[1] \"---- df_runtimes, n=283155\"\n"
     ]
    },
    {
     "data": {
      "text/html": [
       "<table>\n",
       "<thead><tr><th scope=col>movie</th><th scope=col>runtime</th></tr></thead>\n",
       "<tbody>\n",
       "\t<tr><td>Wa wa bing (1989)                     </td><td>85                                    </td></tr>\n",
       "\t<tr><td>Exorcism (2014)                       </td><td>73                                    </td></tr>\n",
       "\t<tr><td>This Man Is News (1938)               </td><td>77                                    </td></tr>\n",
       "\t<tr><td>Sotuyo sueños de un viejo cerro (2007)</td><td>65                                    </td></tr>\n",
       "\t<tr><td>Fûsoku nanajû-go mêtoru (1963)        </td><td>89                                    </td></tr>\n",
       "</tbody>\n",
       "</table>\n"
      ],
      "text/latex": [
       "\\begin{tabular}{r|ll}\n",
       " movie & runtime\\\\\n",
       "\\hline\n",
       "\t Wa wa bing (1989)                      & 85                                    \\\\\n",
       "\t Exorcism (2014)                        & 73                                    \\\\\n",
       "\t This Man Is News (1938)                & 77                                    \\\\\n",
       "\t Sotuyo sueños de un viejo cerro (2007) & 65                                    \\\\\n",
       "\t Fûsoku nanajû-go mêtoru (1963)         & 89                                    \\\\\n",
       "\\end{tabular}\n"
      ],
      "text/markdown": [
       "\n",
       "| movie | runtime |\n",
       "|---|---|\n",
       "| Wa wa bing (1989)                      | 85                                     |\n",
       "| Exorcism (2014)                        | 73                                     |\n",
       "| This Man Is News (1938)                | 77                                     |\n",
       "| Sotuyo sueños de un viejo cerro (2007) | 65                                     |\n",
       "| Fûsoku nanajû-go mêtoru (1963)         | 89                                     |\n",
       "\n"
      ],
      "text/plain": [
       "  movie                                  runtime\n",
       "1 Wa wa bing (1989)                      85     \n",
       "2 Exorcism (2014)                        73     \n",
       "3 This Man Is News (1938)                77     \n",
       "4 Sotuyo sueños de un viejo cerro (2007) 65     \n",
       "5 Fûsoku nanajû-go mêtoru (1963)         89     "
      ]
     },
     "metadata": {},
     "output_type": "display_data"
    },
    {
     "data": {
      "text/plain": [
       "                         movie           runtime        \n",
       " Der heiße Tod (1969)       :    10   Min.   :    60.0  \n",
       " Die freudlose Gasse (1925) :    10   1st Qu.:    80.0  \n",
       " Shichinin no samurai (1954):    10   Median :    90.0  \n",
       " Braindead (1992)           :     9   Mean   :    94.5  \n",
       " Ai no korîda (1976)        :     8   3rd Qu.:   101.0  \n",
       " Cleopatra (1963)           :     8   Max.   :125156.0  \n",
       " (Other)                    :283100                     "
      ]
     },
     "metadata": {},
     "output_type": "display_data"
    }
   ],
   "source": [
    "# printing runtime CSV info\n",
    "print(paste0(\"---- df_runtimes, n=\", count(df_runtimes)))\n",
    "sample_n(df_runtimes, 5)\n",
    "summary(df_runtimes)"
   ]
  },
  {
   "cell_type": "code",
   "execution_count": 88,
   "metadata": {},
   "outputs": [],
   "source": [
    "############## COUNT/DISTRIBUTION TABLES BELOW ##############"
   ]
  },
  {
   "cell_type": "code",
   "execution_count": 89,
   "metadata": {},
   "outputs": [
    {
     "data": {
      "text/html": [
       "<table>\n",
       "<thead><tr><th scope=col>year</th><th scope=col>count</th></tr></thead>\n",
       "<tbody>\n",
       "\t<tr><td>1918 </td><td> 4614</td></tr>\n",
       "\t<tr><td>2069 </td><td>    0</td></tr>\n",
       "\t<tr><td>2028 </td><td>    0</td></tr>\n",
       "\t<tr><td>2112 </td><td>    0</td></tr>\n",
       "\t<tr><td>2062 </td><td>    0</td></tr>\n",
       "\t<tr><td>1907 </td><td> 2482</td></tr>\n",
       "\t<tr><td>2067 </td><td>    0</td></tr>\n",
       "\t<tr><td>1949 </td><td> 2535</td></tr>\n",
       "\t<tr><td>2010 </td><td>37972</td></tr>\n",
       "\t<tr><td>1900 </td><td> 1838</td></tr>\n",
       "</tbody>\n",
       "</table>\n"
      ],
      "text/latex": [
       "\\begin{tabular}{r|ll}\n",
       " year & count\\\\\n",
       "\\hline\n",
       "\t 1918  &  4614\\\\\n",
       "\t 2069  &     0\\\\\n",
       "\t 2028  &     0\\\\\n",
       "\t 2112  &     0\\\\\n",
       "\t 2062  &     0\\\\\n",
       "\t 1907  &  2482\\\\\n",
       "\t 2067  &     0\\\\\n",
       "\t 1949  &  2535\\\\\n",
       "\t 2010  & 37972\\\\\n",
       "\t 1900  &  1838\\\\\n",
       "\\end{tabular}\n"
      ],
      "text/markdown": [
       "\n",
       "| year | count |\n",
       "|---|---|\n",
       "| 1918  |  4614 |\n",
       "| 2069  |     0 |\n",
       "| 2028  |     0 |\n",
       "| 2112  |     0 |\n",
       "| 2062  |     0 |\n",
       "| 1907  |  2482 |\n",
       "| 2067  |     0 |\n",
       "| 1949  |  2535 |\n",
       "| 2010  | 37972 |\n",
       "| 1900  |  1838 |\n",
       "\n"
      ],
      "text/plain": [
       "   year count\n",
       "1  1918  4614\n",
       "2  2069     0\n",
       "3  2028     0\n",
       "4  2112     0\n",
       "5  2062     0\n",
       "6  1907  2482\n",
       "7  2067     0\n",
       "8  1949  2535\n",
       "9  2010 37972\n",
       "10 1900  1838"
      ]
     },
     "metadata": {},
     "output_type": "display_data"
    },
    {
     "name": "stdout",
     "output_type": "stream",
     "text": [
      "[1] \"---- total counted= 1024452\"\n",
      "[1] \"---- unique years= 242\"\n"
     ]
    }
   ],
   "source": [
    "# get a count of movies from each year (earliest movie in 1874, latest movie in 2115)\n",
    "\n",
    "# create empty dataframe of all years in range 1874-2115\n",
    "all_years <- data.frame(formatC(1874:2115, width = 2), 0)\n",
    "names(all_years)[1] <- \"year\"\n",
    "names(all_years)[2] <- \"count\"\n",
    "all_years$year <- c(1874:2115)\n",
    "\n",
    "# make dataframe of available years and their frequency\n",
    "by_year <- df_movies %>% group_by(year) %>% summarize(count = n())\n",
    "\n",
    "# join the counts into the full range of years dataframe\n",
    "by_year <- full_join(all_years, by_year, by = \"year\")\n",
    "by_year[is.na(by_year)] <- 0\n",
    "by_year$count.x <- NULL\n",
    "names(by_year)[2] <- \"count\"\n",
    "\n",
    "# output info\n",
    "sample_n(by_year, 10)\n",
    "total_films = as.numeric(sum(by_year$count))\n",
    "print(paste0(\"---- total counted= \", total_films))\n",
    "unique_years = as.numeric(count(by_year))\n",
    "print(paste0(\"---- unique years= \", unique_years))"
   ]
  },
  {
   "cell_type": "code",
   "execution_count": 90,
   "metadata": {},
   "outputs": [
    {
     "name": "stderr",
     "output_type": "stream",
     "text": [
      "Warning message:\n",
      "\"Factor `month` contains implicit NA, consider using `forcats::fct_explicit_na`\""
     ]
    },
    {
     "data": {
      "text/html": [
       "<table>\n",
       "<thead><tr><th scope=col>month</th><th scope=col>count</th></tr></thead>\n",
       "<tbody>\n",
       "\t<tr><td>January  </td><td>119598   </td></tr>\n",
       "\t<tr><td>February </td><td>114326   </td></tr>\n",
       "\t<tr><td>March    </td><td>135903   </td></tr>\n",
       "\t<tr><td>April    </td><td>144281   </td></tr>\n",
       "\t<tr><td>May      </td><td>129916   </td></tr>\n",
       "\t<tr><td>June     </td><td>126094   </td></tr>\n",
       "\t<tr><td>July     </td><td>111870   </td></tr>\n",
       "\t<tr><td>August   </td><td>114394   </td></tr>\n",
       "\t<tr><td>September</td><td>154526   </td></tr>\n",
       "\t<tr><td>October  </td><td>185018   </td></tr>\n",
       "\t<tr><td>November </td><td>154897   </td></tr>\n",
       "\t<tr><td>December </td><td>112950   </td></tr>\n",
       "\t<tr><td>NA       </td><td>120489   </td></tr>\n",
       "</tbody>\n",
       "</table>\n"
      ],
      "text/latex": [
       "\\begin{tabular}{r|ll}\n",
       " month & count\\\\\n",
       "\\hline\n",
       "\t January   & 119598   \\\\\n",
       "\t February  & 114326   \\\\\n",
       "\t March     & 135903   \\\\\n",
       "\t April     & 144281   \\\\\n",
       "\t May       & 129916   \\\\\n",
       "\t June      & 126094   \\\\\n",
       "\t July      & 111870   \\\\\n",
       "\t August    & 114394   \\\\\n",
       "\t September & 154526   \\\\\n",
       "\t October   & 185018   \\\\\n",
       "\t November  & 154897   \\\\\n",
       "\t December  & 112950   \\\\\n",
       "\t NA        & 120489   \\\\\n",
       "\\end{tabular}\n"
      ],
      "text/markdown": [
       "\n",
       "| month | count |\n",
       "|---|---|\n",
       "| January   | 119598    |\n",
       "| February  | 114326    |\n",
       "| March     | 135903    |\n",
       "| April     | 144281    |\n",
       "| May       | 129916    |\n",
       "| June      | 126094    |\n",
       "| July      | 111870    |\n",
       "| August    | 114394    |\n",
       "| September | 154526    |\n",
       "| October   | 185018    |\n",
       "| November  | 154897    |\n",
       "| December  | 112950    |\n",
       "| NA        | 120489    |\n",
       "\n"
      ],
      "text/plain": [
       "   month     count \n",
       "1  January   119598\n",
       "2  February  114326\n",
       "3  March     135903\n",
       "4  April     144281\n",
       "5  May       129916\n",
       "6  June      126094\n",
       "7  July      111870\n",
       "8  August    114394\n",
       "9  September 154526\n",
       "10 October   185018\n",
       "11 November  154897\n",
       "12 December  112950\n",
       "13 NA        120489"
      ]
     },
     "metadata": {},
     "output_type": "display_data"
    },
    {
     "name": "stdout",
     "output_type": "stream",
     "text": [
      "[1] \"---- total counted= 1724262\"\n",
      "[1] \"---- unique months= 13\"\n"
     ]
    }
   ],
   "source": [
    "# get a count of movies from each month\n",
    "by_month <- df_releases %>% group_by(month) %>% summarize(count = n())\n",
    "\n",
    "# reorder months to be in order\n",
    "by_month$month <- factor(by_month$month, levels = c(\"January\", \"February\", \"March\", \"April\", \"May\", \"June\", \"July\", \"August\", \"September\", \"October\", \"November\", \"December\"))\n",
    "by_month <- by_month[order(by_month$month), ]\n",
    "\n",
    "# output info\n",
    "by_month\n",
    "print(paste0(\"---- total counted= \", sum(by_month$count)))\n",
    "unique_months = as.numeric(count(by_month))\n",
    "print(paste0(\"---- unique months= \", unique_months))"
   ]
  },
  {
   "cell_type": "code",
   "execution_count": 91,
   "metadata": {},
   "outputs": [
    {
     "data": {
      "text/html": [
       "<table>\n",
       "<thead><tr><th scope=col>runtime</th><th scope=col>count</th></tr></thead>\n",
       "<tbody>\n",
       "\t<tr><td>60  </td><td>8158</td></tr>\n",
       "\t<tr><td>61  </td><td>1988</td></tr>\n",
       "\t<tr><td>62  </td><td>2012</td></tr>\n",
       "\t<tr><td>63  </td><td>1898</td></tr>\n",
       "\t<tr><td>64  </td><td>1640</td></tr>\n",
       "\t<tr><td>65  </td><td>2743</td></tr>\n",
       "\t<tr><td>66  </td><td>1520</td></tr>\n",
       "\t<tr><td>67  </td><td>1875</td></tr>\n",
       "\t<tr><td>68  </td><td>1925</td></tr>\n",
       "\t<tr><td>69  </td><td>1535</td></tr>\n",
       "</tbody>\n",
       "</table>\n"
      ],
      "text/latex": [
       "\\begin{tabular}{r|ll}\n",
       " runtime & count\\\\\n",
       "\\hline\n",
       "\t 60   & 8158\\\\\n",
       "\t 61   & 1988\\\\\n",
       "\t 62   & 2012\\\\\n",
       "\t 63   & 1898\\\\\n",
       "\t 64   & 1640\\\\\n",
       "\t 65   & 2743\\\\\n",
       "\t 66   & 1520\\\\\n",
       "\t 67   & 1875\\\\\n",
       "\t 68   & 1925\\\\\n",
       "\t 69   & 1535\\\\\n",
       "\\end{tabular}\n"
      ],
      "text/markdown": [
       "\n",
       "| runtime | count |\n",
       "|---|---|\n",
       "| 60   | 8158 |\n",
       "| 61   | 1988 |\n",
       "| 62   | 2012 |\n",
       "| 63   | 1898 |\n",
       "| 64   | 1640 |\n",
       "| 65   | 2743 |\n",
       "| 66   | 1520 |\n",
       "| 67   | 1875 |\n",
       "| 68   | 1925 |\n",
       "| 69   | 1535 |\n",
       "\n"
      ],
      "text/plain": [
       "   runtime count\n",
       "1  60      8158 \n",
       "2  61      1988 \n",
       "3  62      2012 \n",
       "4  63      1898 \n",
       "5  64      1640 \n",
       "6  65      2743 \n",
       "7  66      1520 \n",
       "8  67      1875 \n",
       "9  68      1925 \n",
       "10 69      1535 "
      ]
     },
     "metadata": {},
     "output_type": "display_data"
    },
    {
     "name": "stdout",
     "output_type": "stream",
     "text": [
      "[1] \"---- total counted= 283155\"\n",
      "[1] \"---- unique runtimes= 125102\"\n"
     ]
    }
   ],
   "source": [
    "# get a distribution of runtimes (quickest movie is 60.0, longest movie is 125156.0)\n",
    "\n",
    "# create empty dataframe of all runtimes in range 60-125156\n",
    "all_runtimes <- data.frame(formatC(60:125156, width = 2), 0)\n",
    "names(all_runtimes)[1] <- \"runtime\"\n",
    "names(all_runtimes)[2] <- \"count\"\n",
    "all_runtimes$runtime <- c(60:125156)\n",
    "\n",
    "# make dataframe of available runtimes and their frequency\n",
    "by_runtime <- df_runtimes %>% group_by(runtime) %>% summarize(count = n())\n",
    "\n",
    "# join the counts into the full range of years dataframe\n",
    "by_runtime <- full_join(all_runtimes, by_runtime, by = \"runtime\")\n",
    "by_runtime[is.na(by_runtime)] <- 0\n",
    "by_runtime$count.x <- NULL\n",
    "names(by_runtime)[2] <- \"count\"\n",
    "\n",
    "# output info\n",
    "head(by_runtime, 10)\n",
    "print(paste0(\"---- total counted= \", sum(by_runtime$count)))\n",
    "unique_runtimes = as.numeric(count(by_runtime))\n",
    "print(paste0(\"---- unique runtimes= \", unique_runtimes))"
   ]
  },
  {
   "cell_type": "code",
   "execution_count": 92,
   "metadata": {},
   "outputs": [
    {
     "data": {
      "text/html": [
       "<table>\n",
       "<thead><tr><th scope=col>rating</th><th scope=col>count</th></tr></thead>\n",
       "<tbody>\n",
       "\t<tr><td>USA:(Banned)</td><td>    4       </td></tr>\n",
       "\t<tr><td>USA:12      </td><td>   16       </td></tr>\n",
       "\t<tr><td>USA:AO      </td><td>   20       </td></tr>\n",
       "\t<tr><td>USA:Approved</td><td>13864       </td></tr>\n",
       "\t<tr><td>USA:G       </td><td> 2214       </td></tr>\n",
       "\t<tr><td>USA:GA      </td><td>    1       </td></tr>\n",
       "\t<tr><td>USA:GP      </td><td>  328       </td></tr>\n",
       "\t<tr><td>USA:Open    </td><td>   33       </td></tr>\n",
       "\t<tr><td>USA:Passed  </td><td> 7327       </td></tr>\n",
       "\t<tr><td>USA:PG      </td><td> 5510       </td></tr>\n",
       "\t<tr><td>USA:PG-13   </td><td> 5337       </td></tr>\n",
       "\t<tr><td>USA:R       </td><td>16302       </td></tr>\n",
       "\t<tr><td>USA:Unrated </td><td> 4611       </td></tr>\n",
       "</tbody>\n",
       "</table>\n"
      ],
      "text/latex": [
       "\\begin{tabular}{r|ll}\n",
       " rating & count\\\\\n",
       "\\hline\n",
       "\t USA:(Banned) &     4       \\\\\n",
       "\t USA:12       &    16       \\\\\n",
       "\t USA:AO       &    20       \\\\\n",
       "\t USA:Approved & 13864       \\\\\n",
       "\t USA:G        &  2214       \\\\\n",
       "\t USA:GA       &     1       \\\\\n",
       "\t USA:GP       &   328       \\\\\n",
       "\t USA:Open     &    33       \\\\\n",
       "\t USA:Passed   &  7327       \\\\\n",
       "\t USA:PG       &  5510       \\\\\n",
       "\t USA:PG-13    &  5337       \\\\\n",
       "\t USA:R        & 16302       \\\\\n",
       "\t USA:Unrated  &  4611       \\\\\n",
       "\\end{tabular}\n"
      ],
      "text/markdown": [
       "\n",
       "| rating | count |\n",
       "|---|---|\n",
       "| USA:(Banned) |     4        |\n",
       "| USA:12       |    16        |\n",
       "| USA:AO       |    20        |\n",
       "| USA:Approved | 13864        |\n",
       "| USA:G        |  2214        |\n",
       "| USA:GA       |     1        |\n",
       "| USA:GP       |   328        |\n",
       "| USA:Open     |    33        |\n",
       "| USA:Passed   |  7327        |\n",
       "| USA:PG       |  5510        |\n",
       "| USA:PG-13    |  5337        |\n",
       "| USA:R        | 16302        |\n",
       "| USA:Unrated  |  4611        |\n",
       "\n"
      ],
      "text/plain": [
       "   rating       count\n",
       "1  USA:(Banned)     4\n",
       "2  USA:12          16\n",
       "3  USA:AO          20\n",
       "4  USA:Approved 13864\n",
       "5  USA:G         2214\n",
       "6  USA:GA           1\n",
       "7  USA:GP         328\n",
       "8  USA:Open        33\n",
       "9  USA:Passed    7327\n",
       "10 USA:PG        5510\n",
       "11 USA:PG-13     5337\n",
       "12 USA:R        16302\n",
       "13 USA:Unrated   4611"
      ]
     },
     "metadata": {},
     "output_type": "display_data"
    },
    {
     "name": "stdout",
     "output_type": "stream",
     "text": [
      "[1] \"---- total counted= 55567\"\n",
      "[1] \"---- unique certificates= 13\"\n"
     ]
    }
   ],
   "source": [
    "# get a distribution of certificate\n",
    "by_certificates <- df_certificates %>% group_by(rating) %>% summarize(count = n())\n",
    "\n",
    "# output info\n",
    "by_certificates\n",
    "print(paste0(\"---- total counted= \", sum(by_certificates$count)))\n",
    "unique_certificates = as.numeric(count(by_certificates))\n",
    "print(paste0(\"---- unique certificates= \", unique_certificates))"
   ]
  },
  {
   "cell_type": "code",
   "execution_count": 93,
   "metadata": {},
   "outputs": [
    {
     "name": "stderr",
     "output_type": "stream",
     "text": [
      "Selecting by count\n"
     ]
    },
    {
     "data": {
      "text/html": [
       "<table>\n",
       "<thead><tr><th scope=col>keyword</th><th scope=col>count</th></tr></thead>\n",
       "<tbody>\n",
       "\t<tr><td>based-on-novel           </td><td>22626                    </td></tr>\n",
       "\t<tr><td>character-name-in-title  </td><td>21769                    </td></tr>\n",
       "\t<tr><td>death                    </td><td>12710                    </td></tr>\n",
       "\t<tr><td>f-rated                  </td><td>18253                    </td></tr>\n",
       "\t<tr><td>female-nudity            </td><td>15146                    </td></tr>\n",
       "\t<tr><td>husband-wife-relationship</td><td> 9888                    </td></tr>\n",
       "\t<tr><td>independent-film         </td><td>34932                    </td></tr>\n",
       "\t<tr><td>murder                   </td><td>19321                    </td></tr>\n",
       "\t<tr><td>sex                      </td><td>17555                    </td></tr>\n",
       "\t<tr><td>violence                 </td><td> 9823                    </td></tr>\n",
       "</tbody>\n",
       "</table>\n"
      ],
      "text/latex": [
       "\\begin{tabular}{r|ll}\n",
       " keyword & count\\\\\n",
       "\\hline\n",
       "\t based-on-novel            & 22626                    \\\\\n",
       "\t character-name-in-title   & 21769                    \\\\\n",
       "\t death                     & 12710                    \\\\\n",
       "\t f-rated                   & 18253                    \\\\\n",
       "\t female-nudity             & 15146                    \\\\\n",
       "\t husband-wife-relationship &  9888                    \\\\\n",
       "\t independent-film          & 34932                    \\\\\n",
       "\t murder                    & 19321                    \\\\\n",
       "\t sex                       & 17555                    \\\\\n",
       "\t violence                  &  9823                    \\\\\n",
       "\\end{tabular}\n"
      ],
      "text/markdown": [
       "\n",
       "| keyword | count |\n",
       "|---|---|\n",
       "| based-on-novel            | 22626                     |\n",
       "| character-name-in-title   | 21769                     |\n",
       "| death                     | 12710                     |\n",
       "| f-rated                   | 18253                     |\n",
       "| female-nudity             | 15146                     |\n",
       "| husband-wife-relationship |  9888                     |\n",
       "| independent-film          | 34932                     |\n",
       "| murder                    | 19321                     |\n",
       "| sex                       | 17555                     |\n",
       "| violence                  |  9823                     |\n",
       "\n"
      ],
      "text/plain": [
       "   keyword                   count\n",
       "1  based-on-novel            22626\n",
       "2  character-name-in-title   21769\n",
       "3  death                     12710\n",
       "4  f-rated                   18253\n",
       "5  female-nudity             15146\n",
       "6  husband-wife-relationship  9888\n",
       "7  independent-film          34932\n",
       "8  murder                    19321\n",
       "9  sex                       17555\n",
       "10 violence                   9823"
      ]
     },
     "metadata": {},
     "output_type": "display_data"
    },
    {
     "name": "stdout",
     "output_type": "stream",
     "text": [
      "[1] \"---- total counted= 3763298\"\n",
      "[1] \"---- unique keywords= 32370\"\n"
     ]
    }
   ],
   "source": [
    "# get a distribution of top n keywords\n",
    "by_keywords <- df_keywords %>% group_by(keyword) %>% summarize(count = n())\n",
    "\n",
    "# output info\n",
    "top_n(by_keywords, 10)\n",
    "print(paste0(\"---- total counted= \", sum(by_keywords$count)))\n",
    "unique_keywords = as.numeric(count(by_keywords))\n",
    "print(paste0(\"---- unique keywords= \", unique_keywords))"
   ]
  },
  {
   "cell_type": "code",
   "execution_count": 94,
   "metadata": {},
   "outputs": [
    {
     "data": {
      "text/html": [
       "<table>\n",
       "<thead><tr><th scope=col>keyword</th><th scope=col>count</th></tr></thead>\n",
       "<tbody>\n",
       "\t<tr><td>football-player                </td><td>245                            </td></tr>\n",
       "\t<tr><td>boasting                       </td><td> 14                            </td></tr>\n",
       "\t<tr><td>parent-grown-child-relationship</td><td> 26                            </td></tr>\n",
       "\t<tr><td>lovebird                       </td><td> 16                            </td></tr>\n",
       "\t<tr><td>reference-to-george-foreman    </td><td>  4                            </td></tr>\n",
       "\t<tr><td>russian-empire                 </td><td> 38                            </td></tr>\n",
       "\t<tr><td>king-richard-iii               </td><td>  9                            </td></tr>\n",
       "\t<tr><td>publicity-stunt                </td><td> 65                            </td></tr>\n",
       "\t<tr><td>white-pantyhose                </td><td> 32                            </td></tr>\n",
       "\t<tr><td>puppet                         </td><td>625                            </td></tr>\n",
       "</tbody>\n",
       "</table>\n"
      ],
      "text/latex": [
       "\\begin{tabular}{r|ll}\n",
       " keyword & count\\\\\n",
       "\\hline\n",
       "\t football-player                 & 245                            \\\\\n",
       "\t boasting                        &  14                            \\\\\n",
       "\t parent-grown-child-relationship &  26                            \\\\\n",
       "\t lovebird                        &  16                            \\\\\n",
       "\t reference-to-george-foreman     &   4                            \\\\\n",
       "\t russian-empire                  &  38                            \\\\\n",
       "\t king-richard-iii                &   9                            \\\\\n",
       "\t publicity-stunt                 &  65                            \\\\\n",
       "\t white-pantyhose                 &  32                            \\\\\n",
       "\t puppet                          & 625                            \\\\\n",
       "\\end{tabular}\n"
      ],
      "text/markdown": [
       "\n",
       "| keyword | count |\n",
       "|---|---|\n",
       "| football-player                 | 245                             |\n",
       "| boasting                        |  14                             |\n",
       "| parent-grown-child-relationship |  26                             |\n",
       "| lovebird                        |  16                             |\n",
       "| reference-to-george-foreman     |   4                             |\n",
       "| russian-empire                  |  38                             |\n",
       "| king-richard-iii                |   9                             |\n",
       "| publicity-stunt                 |  65                             |\n",
       "| white-pantyhose                 |  32                             |\n",
       "| puppet                          | 625                             |\n",
       "\n"
      ],
      "text/plain": [
       "   keyword                         count\n",
       "1  football-player                 245  \n",
       "2  boasting                         14  \n",
       "3  parent-grown-child-relationship  26  \n",
       "4  lovebird                         16  \n",
       "5  reference-to-george-foreman       4  \n",
       "6  russian-empire                   38  \n",
       "7  king-richard-iii                  9  \n",
       "8  publicity-stunt                  65  \n",
       "9  white-pantyhose                  32  \n",
       "10 puppet                          625  "
      ]
     },
     "metadata": {},
     "output_type": "display_data"
    },
    {
     "name": "stdout",
     "output_type": "stream",
     "text": [
      "[1] \"---- total counted= 1340551\"\n",
      "[1] \"---- unique genres= 22\"\n"
     ]
    }
   ],
   "source": [
    "# get a distribution of genres\n",
    "by_genre <- df_genres %>% group_by(genre) %>% summarize(count = n())\n",
    "\n",
    "# output info\n",
    "sample_n(by_keywords, 10)\n",
    "print(paste0(\"---- total counted= \", sum(by_genre$count)))\n",
    "unique_genres = as.numeric(count(by_genre))\n",
    "print(paste0(\"---- unique genres= \", unique_genres))"
   ]
  },
  {
   "cell_type": "code",
   "execution_count": 95,
   "metadata": {},
   "outputs": [],
   "source": [
    "############## AVERAGES BELOW ##############"
   ]
  },
  {
   "cell_type": "code",
   "execution_count": 96,
   "metadata": {},
   "outputs": [
    {
     "name": "stdout",
     "output_type": "stream",
     "text": [
      "[1] \"---- avg films per year= 4233\"\n",
      "[1] \"---- avg films per month= 548\"\n"
     ]
    },
    {
     "data": {
      "text/html": [
       "<table>\n",
       "<thead><tr><th scope=col>month</th><th scope=col>average</th></tr></thead>\n",
       "<tbody>\n",
       "\t<tr><td>January  </td><td>494.2066 </td></tr>\n",
       "\t<tr><td>February </td><td>472.4215 </td></tr>\n",
       "\t<tr><td>March    </td><td>561.5826 </td></tr>\n",
       "\t<tr><td>April    </td><td>596.2025 </td></tr>\n",
       "\t<tr><td>May      </td><td>536.8430 </td></tr>\n",
       "\t<tr><td>June     </td><td>521.0496 </td></tr>\n",
       "\t<tr><td>July     </td><td>462.2727 </td></tr>\n",
       "\t<tr><td>August   </td><td>472.7025 </td></tr>\n",
       "\t<tr><td>September</td><td>638.5372 </td></tr>\n",
       "\t<tr><td>October  </td><td>764.5372 </td></tr>\n",
       "\t<tr><td>November </td><td>640.0702 </td></tr>\n",
       "\t<tr><td>December </td><td>466.7355 </td></tr>\n",
       "\t<tr><td>NA       </td><td>497.8884 </td></tr>\n",
       "</tbody>\n",
       "</table>\n"
      ],
      "text/latex": [
       "\\begin{tabular}{r|ll}\n",
       " month & average\\\\\n",
       "\\hline\n",
       "\t January   & 494.2066 \\\\\n",
       "\t February  & 472.4215 \\\\\n",
       "\t March     & 561.5826 \\\\\n",
       "\t April     & 596.2025 \\\\\n",
       "\t May       & 536.8430 \\\\\n",
       "\t June      & 521.0496 \\\\\n",
       "\t July      & 462.2727 \\\\\n",
       "\t August    & 472.7025 \\\\\n",
       "\t September & 638.5372 \\\\\n",
       "\t October   & 764.5372 \\\\\n",
       "\t November  & 640.0702 \\\\\n",
       "\t December  & 466.7355 \\\\\n",
       "\t NA        & 497.8884 \\\\\n",
       "\\end{tabular}\n"
      ],
      "text/markdown": [
       "\n",
       "| month | average |\n",
       "|---|---|\n",
       "| January   | 494.2066  |\n",
       "| February  | 472.4215  |\n",
       "| March     | 561.5826  |\n",
       "| April     | 596.2025  |\n",
       "| May       | 536.8430  |\n",
       "| June      | 521.0496  |\n",
       "| July      | 462.2727  |\n",
       "| August    | 472.7025  |\n",
       "| September | 638.5372  |\n",
       "| October   | 764.5372  |\n",
       "| November  | 640.0702  |\n",
       "| December  | 466.7355  |\n",
       "| NA        | 497.8884  |\n",
       "\n"
      ],
      "text/plain": [
       "   month     average \n",
       "1  January   494.2066\n",
       "2  February  472.4215\n",
       "3  March     561.5826\n",
       "4  April     596.2025\n",
       "5  May       536.8430\n",
       "6  June      521.0496\n",
       "7  July      462.2727\n",
       "8  August    472.7025\n",
       "9  September 638.5372\n",
       "10 October   764.5372\n",
       "11 November  640.0702\n",
       "12 December  466.7355\n",
       "13 NA        497.8884"
      ]
     },
     "metadata": {},
     "output_type": "display_data"
    },
    {
     "name": "stdout",
     "output_type": "stream",
     "text": [
      "[1] \"---- avg runtime= 94\"\n"
     ]
    }
   ],
   "source": [
    "# get average films per year, month, and average runtime\n",
    "\n",
    "# average fims per year: sum of films divided by total years observed\n",
    "avg_per_year = trunc(total_films / unique_years)\n",
    "print(paste0(\"---- avg films per year= \", avg_per_year))\n",
    "\n",
    "# average films per month: sum of films each month, each sum divided by total years observed; then average these results\n",
    "avg_by_month <- by_month\n",
    "avg_by_month$count <- by_month$count / unique_years\n",
    "names(avg_by_month)[2] <- \"average\"\n",
    "avg_per_month = trunc(as.numeric(sum(avg_by_month$average) / unique_months))\n",
    "print(paste0(\"---- avg films per month= \", avg_per_month))\n",
    "avg_by_month\n",
    "\n",
    "# average runtime: sum of each runtime divided by total runtime observations\n",
    "avg_runtime = trunc(mean(df_runtimes$runtime))\n",
    "print(paste0(\"---- avg runtime= \", avg_runtime))"
   ]
  },
  {
   "cell_type": "code",
   "execution_count": 97,
   "metadata": {},
   "outputs": [],
   "source": [
    "############## CHOOSE YEAR OR DECADE ############## "
   ]
  },
  {
   "cell_type": "code",
   "execution_count": 98,
   "metadata": {},
   "outputs": [
    {
     "data": {
      "text/html": [
       "<table>\n",
       "<thead><tr><th scope=col>movie</th><th scope=col>month</th><th scope=col>year</th></tr></thead>\n",
       "<tbody>\n",
       "\t<tr><td>Black Swan 2: Epidemic (2011)                     </td><td>January                                           </td><td>2011                                              </td></tr>\n",
       "\t<tr><td>Pirates of the Caribbean: On Stranger Tides (2011)</td><td>May                                               </td><td>2011                                              </td></tr>\n",
       "\t<tr><td>Marilivit Tetri (2011)                            </td><td>April                                             </td><td>2011                                              </td></tr>\n",
       "\t<tr><td>Indochine, sur les traces d'une mère (2011)       </td><td>October                                           </td><td>2011                                              </td></tr>\n",
       "\t<tr><td>Borgríki (2011)                                   </td><td>July                                              </td><td>2013                                              </td></tr>\n",
       "\t<tr><td>Soul Surfer (2011)                                </td><td>April                                             </td><td>2011                                              </td></tr>\n",
       "\t<tr><td>Photo Booth (2011)                                </td><td>May                                               </td><td>2011                                              </td></tr>\n",
       "\t<tr><td>Gokudô heiki (2011)                               </td><td>September                                         </td><td>2012                                              </td></tr>\n",
       "\t<tr><td>No Good Deed (2011)                               </td><td>May                                               </td><td>2011                                              </td></tr>\n",
       "\t<tr><td>Gekijouban Makurosu F: Sayonara no tsubasa (2011) </td><td>February                                          </td><td>2011                                              </td></tr>\n",
       "</tbody>\n",
       "</table>\n"
      ],
      "text/latex": [
       "\\begin{tabular}{r|lll}\n",
       " movie & month & year\\\\\n",
       "\\hline\n",
       "\t Black Swan 2: Epidemic (2011)                      & January                                            & 2011                                              \\\\\n",
       "\t Pirates of the Caribbean: On Stranger Tides (2011) & May                                                & 2011                                              \\\\\n",
       "\t Marilivit Tetri (2011)                             & April                                              & 2011                                              \\\\\n",
       "\t Indochine, sur les traces d'une mère (2011)        & October                                            & 2011                                              \\\\\n",
       "\t Borgríki (2011)                                    & July                                               & 2013                                              \\\\\n",
       "\t Soul Surfer (2011)                                 & April                                              & 2011                                              \\\\\n",
       "\t Photo Booth (2011)                                 & May                                                & 2011                                              \\\\\n",
       "\t Gokudô heiki (2011)                                & September                                          & 2012                                              \\\\\n",
       "\t No Good Deed (2011)                                & May                                                & 2011                                              \\\\\n",
       "\t Gekijouban Makurosu F: Sayonara no tsubasa (2011)  & February                                           & 2011                                              \\\\\n",
       "\\end{tabular}\n"
      ],
      "text/markdown": [
       "\n",
       "| movie | month | year |\n",
       "|---|---|---|\n",
       "| Black Swan 2: Epidemic (2011)                      | January                                            | 2011                                               |\n",
       "| Pirates of the Caribbean: On Stranger Tides (2011) | May                                                | 2011                                               |\n",
       "| Marilivit Tetri (2011)                             | April                                              | 2011                                               |\n",
       "| Indochine, sur les traces d'une mère (2011)        | October                                            | 2011                                               |\n",
       "| Borgríki (2011)                                    | July                                               | 2013                                               |\n",
       "| Soul Surfer (2011)                                 | April                                              | 2011                                               |\n",
       "| Photo Booth (2011)                                 | May                                                | 2011                                               |\n",
       "| Gokudô heiki (2011)                                | September                                          | 2012                                               |\n",
       "| No Good Deed (2011)                                | May                                                | 2011                                               |\n",
       "| Gekijouban Makurosu F: Sayonara no tsubasa (2011)  | February                                           | 2011                                               |\n",
       "\n"
      ],
      "text/plain": [
       "   movie                                              month     year\n",
       "1  Black Swan 2: Epidemic (2011)                      January   2011\n",
       "2  Pirates of the Caribbean: On Stranger Tides (2011) May       2011\n",
       "3  Marilivit Tetri (2011)                             April     2011\n",
       "4  Indochine, sur les traces d'une mère (2011)        October   2011\n",
       "5  Borgríki (2011)                                    July      2013\n",
       "6  Soul Surfer (2011)                                 April     2011\n",
       "7  Photo Booth (2011)                                 May       2011\n",
       "8  Gokudô heiki (2011)                                September 2012\n",
       "9  No Good Deed (2011)                                May       2011\n",
       "10 Gekijouban Makurosu F: Sayonara no tsubasa (2011)  February  2011"
      ]
     },
     "metadata": {},
     "output_type": "display_data"
    }
   ],
   "source": [
    "# get items by year\n",
    "selected_year = 2011\n",
    "\n",
    "# movie year found in movie name i.e. \"{Title} (2014)\" or \"{Title} (2014/I)\", extract year via pattern matching because year column is inaccurate for some reason\n",
    "regex_year = paste0(\"\\\\(\", selected_year, \"\\\\)|\\\\(\", selected_year, \"\\\\/\")\n",
    "movies_in_selected_year <- subset(df_releases, grepl(regex_year, movie))\n",
    "\n",
    "# output a sample of movies found for given year\n",
    "sample_n(movies_in_selected_year, 10)"
   ]
  },
  {
   "cell_type": "code",
   "execution_count": 99,
   "metadata": {},
   "outputs": [
    {
     "data": {
      "text/html": [
       "<table>\n",
       "<thead><tr><th scope=col>movie</th><th scope=col>month</th><th scope=col>year</th></tr></thead>\n",
       "<tbody>\n",
       "\t<tr><td>Guantanamo's Child: Omar Khadr (2015)</td><td>September                            </td><td>2015                                 </td></tr>\n",
       "\t<tr><td>Theri (2016)                         </td><td>April                                </td><td>2016                                 </td></tr>\n",
       "\t<tr><td>Il colore verde della vita (2015)    </td><td>June                                 </td><td>2015                                 </td></tr>\n",
       "\t<tr><td>The Ezekiel Covenant (2015)          </td><td>NA                                   </td><td>2015                                 </td></tr>\n",
       "\t<tr><td>Untitled Black Drag Racers (2018)    </td><td>NA                                   </td><td>2018                                 </td></tr>\n",
       "\t<tr><td>The Pull (2014)                      </td><td>June                                 </td><td>2014                                 </td></tr>\n",
       "\t<tr><td>Je suis un conte de fées (2017)      </td><td>September                            </td><td>2017                                 </td></tr>\n",
       "\t<tr><td>George and the Vacuum (2015)         </td><td>April                                </td><td>2016                                 </td></tr>\n",
       "\t<tr><td>Just (2013)                          </td><td>May                                  </td><td>2013                                 </td></tr>\n",
       "\t<tr><td>La Guera, my forgotten land (2015)   </td><td>May                                  </td><td>2015                                 </td></tr>\n",
       "</tbody>\n",
       "</table>\n"
      ],
      "text/latex": [
       "\\begin{tabular}{r|lll}\n",
       " movie & month & year\\\\\n",
       "\\hline\n",
       "\t Guantanamo's Child: Omar Khadr (2015) & September                             & 2015                                 \\\\\n",
       "\t Theri (2016)                          & April                                 & 2016                                 \\\\\n",
       "\t Il colore verde della vita (2015)     & June                                  & 2015                                 \\\\\n",
       "\t The Ezekiel Covenant (2015)           & NA                                    & 2015                                 \\\\\n",
       "\t Untitled Black Drag Racers (2018)     & NA                                    & 2018                                 \\\\\n",
       "\t The Pull (2014)                       & June                                  & 2014                                 \\\\\n",
       "\t Je suis un conte de fées (2017)       & September                             & 2017                                 \\\\\n",
       "\t George and the Vacuum (2015)          & April                                 & 2016                                 \\\\\n",
       "\t Just (2013)                           & May                                   & 2013                                 \\\\\n",
       "\t La Guera, my forgotten land (2015)    & May                                   & 2015                                 \\\\\n",
       "\\end{tabular}\n"
      ],
      "text/markdown": [
       "\n",
       "| movie | month | year |\n",
       "|---|---|---|\n",
       "| Guantanamo's Child: Omar Khadr (2015) | September                             | 2015                                  |\n",
       "| Theri (2016)                          | April                                 | 2016                                  |\n",
       "| Il colore verde della vita (2015)     | June                                  | 2015                                  |\n",
       "| The Ezekiel Covenant (2015)           | NA                                    | 2015                                  |\n",
       "| Untitled Black Drag Racers (2018)     | NA                                    | 2018                                  |\n",
       "| The Pull (2014)                       | June                                  | 2014                                  |\n",
       "| Je suis un conte de fées (2017)       | September                             | 2017                                  |\n",
       "| George and the Vacuum (2015)          | April                                 | 2016                                  |\n",
       "| Just (2013)                           | May                                   | 2013                                  |\n",
       "| La Guera, my forgotten land (2015)    | May                                   | 2015                                  |\n",
       "\n"
      ],
      "text/plain": [
       "   movie                                 month     year\n",
       "1  Guantanamo's Child: Omar Khadr (2015) September 2015\n",
       "2  Theri (2016)                          April     2016\n",
       "3  Il colore verde della vita (2015)     June      2015\n",
       "4  The Ezekiel Covenant (2015)           NA        2015\n",
       "5  Untitled Black Drag Racers (2018)     NA        2018\n",
       "6  The Pull (2014)                       June      2014\n",
       "7  Je suis un conte de fées (2017)       September 2017\n",
       "8  George and the Vacuum (2015)          April     2016\n",
       "9  Just (2013)                           May       2013\n",
       "10 La Guera, my forgotten land (2015)    May       2015"
      ]
     },
     "metadata": {},
     "output_type": "display_data"
    }
   ],
   "source": [
    "# get items by decade (where decades are in format of 1990, 2000, 2010, etc... for next 9 years, i.e. 1990-1999, 2000-2009, etc..)\n",
    "selected_decade = 2010 / 10\n",
    "\n",
    "# movie year found in movie name i.e. \"{Title} (2014)\" or \"{Title} (2014/I)\", extract decade via pattern matching for decade + 9\n",
    "regex_decade = paste0(\"\\\\(\", selected_decade, \"[0-9]\\\\)|\\\\(\", selected_decade, \"[0-9]\\\\/\")\n",
    "movies_in_selected_decade <- subset(df_releases, grepl(regex_decade, movie))\n",
    "\n",
    "# output a sample of movies found for given year\n",
    "sample_n(movies_in_selected_decade, 10)"
   ]
  },
  {
   "cell_type": "code",
   "execution_count": null,
   "metadata": {},
   "outputs": [],
   "source": []
  },
  {
   "cell_type": "code",
   "execution_count": 100,
   "metadata": {},
   "outputs": [],
   "source": [
    "# !!! may need to store this prepared data to RDS for quicker shiny load times !!!\n",
    "# write the cleaned data to RDS file\n",
    "#saveRDS(data, file = \"data.rds\")"
   ]
  }
 ],
 "metadata": {
  "kernelspec": {
   "display_name": "R",
   "language": "R",
   "name": "ir"
  },
  "language_info": {
   "codemirror_mode": "r",
   "file_extension": ".r",
   "mimetype": "text/x-r-source",
   "name": "R",
   "pygments_lexer": "r",
   "version": "3.6.1"
  }
 },
 "nbformat": 4,
 "nbformat_minor": 2
}
