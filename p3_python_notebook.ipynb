{
 "cells": [
  {
   "cell_type": "code",
   "execution_count": 1,
   "metadata": {},
   "outputs": [],
   "source": [
    "import os # for file/directory manipulation\n",
    "import re # for regex split\n",
    "import pandas as pd # for dataframes"
   ]
  },
  {
   "cell_type": "markdown",
   "metadata": {},
   "source": [
    "# Make a new directory to store the new files"
   ]
  },
  {
   "cell_type": "code",
   "execution_count": 2,
   "metadata": {},
   "outputs": [],
   "source": [
    "OLD_FILES_DIRECTORY = './data_files/old_files/'\n",
    "NEW_FILES_DIRECTORY = './data_files/new_files/'\n",
    "\n",
    "if not os.path.exists(OLD_FILES_DIRECTORY): # after files are downloaded, show move them to this directory\n",
    "    os.makedirs(OLD_FILES_DIRECTORY)\n",
    "    \n",
    "if not os.path.exists(NEW_FILES_DIRECTORY):\n",
    "    os.makedirs(NEW_FILES_DIRECTORY)"
   ]
  },
  {
   "cell_type": "markdown",
   "metadata": {},
   "source": [
    "# Read old movie file and write new one"
   ]
  },
  {
   "cell_type": "code",
   "execution_count": 3,
   "metadata": {},
   "outputs": [],
   "source": [
    "# LATIN ENCODING SEEMS TO WORK OVER UTF-8; UTF-8/ASCII is not able to decode all the lines\n",
    "with open(OLD_FILES_DIRECTORY + 'movies.list', 'rb') as movie_file: # read as binary file\n",
    "    movie_data_original = [line.decode('latin-1').strip() for line in movie_file.readlines()]"
   ]
  },
  {
   "cell_type": "code",
   "execution_count": 4,
   "metadata": {},
   "outputs": [
    {
     "name": "stdout",
     "output_type": "stream",
     "text": [
      "CRC: 0x8E8DBD74  File: movies.list  Date: Fri Dec 22 00:00:00 2017\n",
      "\n",
      "Copyright 1991-2017 The Internet Movie Database Ltd. All rights reserved.\n",
      "\n",
      "http://www.imdb.com\n",
      "\n",
      "movies.list\n",
      "\n",
      "20 Dec 2017\n",
      "\n",
      "-----------------------------------------------------------------------------\n",
      "\n",
      "MOVIES LIST\n",
      "===========\n",
      "\n",
      "\"!Next?\" (1994)\t\t\t\t\t\t1994-1995\n",
      "\"#1 Single\" (2006)\t\t\t\t\t2006-????\n",
      "\"#1 Single\" (2006) {Cats and Dogs (#1.4)}\t\t2006\n",
      "\"#1 Single\" (2006) {Finishing a Chapter (#1.5)}\t\t2006\n",
      "\"#1 Single\" (2006) {Is the Grass Greener? (#1.1)}\t2006\n",
      "\"#1 Single\" (2006) {Stay (#1.8)}\t\t\t2006\n",
      "\"#1 Single\" (2006) {The Rules of Dating (#1.3)}\t\t2006\n",
      "\"#1 Single\" (2006) {Timing Is Everything (#1.7)}\t2006\n",
      "\"#1 Single\" (2006) {Window Shopping (#1.2)}\t\t2006\n",
      "\"#1 Single\" (2006) {Wingman (#1.6)}\t\t\t2006\n",
      "\"#15SecondScare\" (2015)\t\t\t\t\t2015-????\n",
      "\"#15SecondScare\" (2015) {Beauty Wrap}\t\t\t2016\n",
      "\"#15SecondScare\" (2015) {Because We Don't Want You to Fall Asleep (#1.3)}\t????\n",
      "\"#15SecondScare\" (2015) {Bubbles of Blood (#1.17)}\t2016\n",
      "\"#15SecondScare\" (2015) {Coming and Going (#1.11)}\t????\n"
     ]
    }
   ],
   "source": [
    "# Sample of file \n",
    "for i in range(30):\n",
    "    print(movie_data_original[i])"
   ]
  },
  {
   "cell_type": "code",
   "execution_count": 5,
   "metadata": {},
   "outputs": [],
   "source": [
    "# ACTUAL DATA STARTS ON LINE 16, or index 15"
   ]
  },
  {
   "cell_type": "code",
   "execution_count": 6,
   "metadata": {},
   "outputs": [],
   "source": [
    "def write_new_move_file(movie_data_original): # list of lines \n",
    "    movie_file = open(NEW_FILES_DIRECTORY + 'movies.csv', 'w')\n",
    "    movie_file.write('movie,year\\n') # write a header\n",
    "    \n",
    "    # internet doesn't seem to have anything, not reliable\n",
    "    skips = ('(tv)', '(v)', '(vg)', 're-release', 'blu-ray')\n",
    "    \n",
    "    for i in range(15, len(movie_data_original)): # start from 15 cuz before is filler\n",
    "        line = movie_data_original[i]\n",
    "        \n",
    "        if line.startswith('\"'):\n",
    "            continue\n",
    "        try: # some lines may not be in correct format\n",
    "            parts = [x.strip() for x in re.split('\\\\t+', line)] # split by 1 or more tabs\n",
    "            name, year = parts[:2]\n",
    "            if any(skip in name.lower() for skip in skips): # check is any of the skippables are in the name\n",
    "                continue\n",
    "            if '????' in year: # movie should have a defined year\n",
    "                continue\n",
    "            if ',' in name: # surround in quote if name already has comma\n",
    "                movie_file.write(f'\"{name}\",{year}\\n') \n",
    "            else:\n",
    "                movie_file.write(f'{name},{year}\\n') \n",
    "        except Exception as e: # tried to process this line, but failed\n",
    "            print(line, e)\n",
    "    \n",
    "    movie_file.close()\n"
   ]
  },
  {
   "cell_type": "code",
   "execution_count": 7,
   "metadata": {},
   "outputs": [
    {
     "name": "stdout",
     "output_type": "stream",
     "text": [
      "-------------------------------------------------------------------------------- not enough values to unpack (expected 2, got 1)\n"
     ]
    }
   ],
   "source": [
    "write_new_move_file(movie_data_original)"
   ]
  },
  {
   "cell_type": "code",
   "execution_count": 8,
   "metadata": {},
   "outputs": [],
   "source": [
    "movie_data = pd.read_csv(NEW_FILES_DIRECTORY + 'movies.csv')"
   ]
  },
  {
   "cell_type": "code",
   "execution_count": 9,
   "metadata": {},
   "outputs": [
    {
     "data": {
      "text/plain": [
       "'New Data has 1024456 Titles'"
      ]
     },
     "execution_count": 9,
     "metadata": {},
     "output_type": "execute_result"
    }
   ],
   "source": [
    "rows, _ = movie_data.shape\n",
    "f'New Data has {rows} Titles'"
   ]
  },
  {
   "cell_type": "code",
   "execution_count": 10,
   "metadata": {},
   "outputs": [
    {
     "data": {
      "text/html": [
       "<div>\n",
       "<style scoped>\n",
       "    .dataframe tbody tr th:only-of-type {\n",
       "        vertical-align: middle;\n",
       "    }\n",
       "\n",
       "    .dataframe tbody tr th {\n",
       "        vertical-align: top;\n",
       "    }\n",
       "\n",
       "    .dataframe thead th {\n",
       "        text-align: right;\n",
       "    }\n",
       "</style>\n",
       "<table border=\"1\" class=\"dataframe\">\n",
       "  <thead>\n",
       "    <tr style=\"text-align: right;\">\n",
       "      <th></th>\n",
       "      <th>movie</th>\n",
       "      <th>year</th>\n",
       "    </tr>\n",
       "  </thead>\n",
       "  <tbody>\n",
       "    <tr>\n",
       "      <th>231501</th>\n",
       "      <td>Dos (1980)</td>\n",
       "      <td>1980</td>\n",
       "    </tr>\n",
       "    <tr>\n",
       "      <th>264088</th>\n",
       "      <td>Eon (2007)</td>\n",
       "      <td>2007</td>\n",
       "    </tr>\n",
       "    <tr>\n",
       "      <th>495342</th>\n",
       "      <td>Liebe (1988)</td>\n",
       "      <td>1988</td>\n",
       "    </tr>\n",
       "    <tr>\n",
       "      <th>138554</th>\n",
       "      <td>Called Back (1914/II)</td>\n",
       "      <td>1914</td>\n",
       "    </tr>\n",
       "    <tr>\n",
       "      <th>858626</th>\n",
       "      <td>The Last Halloween (2014/I)</td>\n",
       "      <td>2014</td>\n",
       "    </tr>\n",
       "    <tr>\n",
       "      <th>384065</th>\n",
       "      <td>Il medico delle pazze (1919)</td>\n",
       "      <td>1919</td>\n",
       "    </tr>\n",
       "    <tr>\n",
       "      <th>981654</th>\n",
       "      <td>Washing Away (2012)</td>\n",
       "      <td>2012</td>\n",
       "    </tr>\n",
       "    <tr>\n",
       "      <th>699045</th>\n",
       "      <td>Road Trip (2014)</td>\n",
       "      <td>2014</td>\n",
       "    </tr>\n",
       "    <tr>\n",
       "      <th>45741</th>\n",
       "      <td>Al Franken: God Spoke (2006)</td>\n",
       "      <td>2006</td>\n",
       "    </tr>\n",
       "    <tr>\n",
       "      <th>755741</th>\n",
       "      <td>Smog (1975)</td>\n",
       "      <td>1975</td>\n",
       "    </tr>\n",
       "    <tr>\n",
       "      <th>325816</th>\n",
       "      <td>Goonj (1989)</td>\n",
       "      <td>1989</td>\n",
       "    </tr>\n",
       "    <tr>\n",
       "      <th>90265</th>\n",
       "      <td>Ballet (2012)</td>\n",
       "      <td>2012</td>\n",
       "    </tr>\n",
       "    <tr>\n",
       "      <th>613721</th>\n",
       "      <td>On the Wrong Track (1915)</td>\n",
       "      <td>1915</td>\n",
       "    </tr>\n",
       "    <tr>\n",
       "      <th>205748</th>\n",
       "      <td>Demons (2016/V)</td>\n",
       "      <td>2016</td>\n",
       "    </tr>\n",
       "    <tr>\n",
       "      <th>806793</th>\n",
       "      <td>ThanksKilling 3 (2012)</td>\n",
       "      <td>2012</td>\n",
       "    </tr>\n",
       "    <tr>\n",
       "      <th>1014380</th>\n",
       "      <td>Yûzai (2018)</td>\n",
       "      <td>2018</td>\n",
       "    </tr>\n",
       "    <tr>\n",
       "      <th>763964</th>\n",
       "      <td>Sophie s'enflamme (2002)</td>\n",
       "      <td>2002</td>\n",
       "    </tr>\n",
       "    <tr>\n",
       "      <th>808655</th>\n",
       "      <td>The Actor (2017/II)</td>\n",
       "      <td>2017</td>\n",
       "    </tr>\n",
       "    <tr>\n",
       "      <th>931627</th>\n",
       "      <td>Tovarishch Arseni (1965)</td>\n",
       "      <td>1965</td>\n",
       "    </tr>\n",
       "    <tr>\n",
       "      <th>743812</th>\n",
       "      <td>Shuo hao bu fen shou (1999)</td>\n",
       "      <td>1999</td>\n",
       "    </tr>\n",
       "  </tbody>\n",
       "</table>\n",
       "</div>"
      ],
      "text/plain": [
       "                                movie  year\n",
       "231501                     Dos (1980)  1980\n",
       "264088                     Eon (2007)  2007\n",
       "495342                   Liebe (1988)  1988\n",
       "138554          Called Back (1914/II)  1914\n",
       "858626    The Last Halloween (2014/I)  2014\n",
       "384065   Il medico delle pazze (1919)  1919\n",
       "981654            Washing Away (2012)  2012\n",
       "699045               Road Trip (2014)  2014\n",
       "45741    Al Franken: God Spoke (2006)  2006\n",
       "755741                    Smog (1975)  1975\n",
       "325816                   Goonj (1989)  1989\n",
       "90265                   Ballet (2012)  2012\n",
       "613721      On the Wrong Track (1915)  1915\n",
       "205748                Demons (2016/V)  2016\n",
       "806793         ThanksKilling 3 (2012)  2012\n",
       "1014380                  Yûzai (2018)  2018\n",
       "763964       Sophie s'enflamme (2002)  2002\n",
       "808655            The Actor (2017/II)  2017\n",
       "931627       Tovarishch Arseni (1965)  1965\n",
       "743812    Shuo hao bu fen shou (1999)  1999"
      ]
     },
     "execution_count": 10,
     "metadata": {},
     "output_type": "execute_result"
    }
   ],
   "source": [
    "movie_data.sample(20)"
   ]
  },
  {
   "cell_type": "markdown",
   "metadata": {},
   "source": [
    "# Read old certificates file and write new one"
   ]
  },
  {
   "cell_type": "code",
   "execution_count": 11,
   "metadata": {},
   "outputs": [],
   "source": [
    "with open(OLD_FILES_DIRECTORY + 'certificates.list', 'rb') as certificate_file: # read as binary file\n",
    "    certificate_data_original = [line.decode('latin-1').strip() for line in certificate_file.readlines()]"
   ]
  },
  {
   "cell_type": "code",
   "execution_count": 12,
   "metadata": {},
   "outputs": [
    {
     "name": "stdout",
     "output_type": "stream",
     "text": [
      "CRC: 0x1697FD9F  File: certificates.list  Date: Fri Dec 22 00:00:00 2017\n",
      "\n",
      "Copyright 1991-2017 The Internet Movie Database Ltd. All rights reserved.\n",
      "\n",
      "http://www.imdb.com\n",
      "\n",
      "certificates.list\n",
      "\n",
      "2017-12-19\n",
      "\n",
      "-----------------------------------------------------------------------------\n",
      "\n",
      "CERTIFICATES LIST\n",
      "=================\n",
      "\"#1 Single\" (2006)\t\t\t\t\tUSA:TV-PG\n",
      "\"#BlackLove\" (2015) {Bringing Sexy Back (#1.3)}\t\tUSA:TV-14\n",
      "\"#BlackLove\" (2015) {Crash the Party (#1.9)}\t\tUSA:TV-14\n",
      "\"#BlackLove\" (2015) {Feeling Some Kinda Way (#1.7)}\tUSA:TV-14\n",
      "\"#BlackLove\" (2015) {Like a Virgin (#1.4)}\t\tUSA:TV-14\n",
      "\"#BlackLove\" (2015) {Making Lemonade Out of Lemons (#1.2)}\tUSA:TV-14\n",
      "\"#BlackLove\" (2015) {Maybe Baby (#1.8)}\t\t\tUSA:TV-14\n",
      "\"#BlackLove\" (2015) {Miss Independent (#1.5)}\t\tUSA:TV-14\n",
      "\"#BlackLove\" (2015) {Pack Your Bags (#1.6)}\t\tUSA:TV-14\n",
      "\"#BlackLove\" (2015) {Sealing the Deal (#1.10)}\t\tUSA:TV-14\n",
      "\"#BlackLove\" (2015) {Sexy in the City (#1.1)}\t\tUSA:TV-14\n",
      "\"#Hashtag Travel\" (2017)\t\t\t\tUSA:Unrated\n",
      "\"#LoveMonkeyChocolate\" (2014)\t\t\t\tUK:PG\n",
      "\"#LoveMonkeyChocolateFlowers\" (2014)\t\t\tUK:PG\n",
      "\"#SpongeyLeaks\" (2016)\t\t\t\t\tUSA:Not Rated\n",
      "\"#SpongeyLeaks\" (2016) {Leak 2.1: in medias res: Fraudulent Eviction Notices & Bulletproof Vests: Barb's 2nd Abuser (#1.4)}\tUSA:Not Rated\n"
     ]
    }
   ],
   "source": [
    "# Sample of ratings file\n",
    "for i in range(30):\n",
    "    print(certificate_data_original[i])"
   ]
  },
  {
   "cell_type": "code",
   "execution_count": 13,
   "metadata": {},
   "outputs": [],
   "source": [
    "# ACTUAL DATA STARTS ON LINE 15 or index 14"
   ]
  },
  {
   "cell_type": "code",
   "execution_count": 14,
   "metadata": {},
   "outputs": [],
   "source": [
    "def write_new_certificate_file(certificate_data_original): # list of lines \n",
    "    certificate_file = open(NEW_FILES_DIRECTORY + 'certificates.csv', 'w')\n",
    "    certificate_file.write('movie,rating\\n') # write a header\n",
    "    \n",
    "    # internet doesn't seem to have anything, not reliable\n",
    "    skips = ('(tv)', '(v)', '(vg)', 're-release', 'blu-ray')\n",
    "    vg_ratings = 'E, E10+, T, C, M, Not Rated'.split(', ')\n",
    "    \n",
    "    for i in range(14, len(certificate_data_original)): # start from 14 cuz before is filler\n",
    "        line = certificate_data_original[i]\n",
    "        \n",
    "        if line.startswith('\"'):\n",
    "            continue\n",
    "        try: # some lines may not be in correct format\n",
    "            parts = [x.strip() for x in re.split('\\\\t+', line)] # split by 1 or more tabs\n",
    "            name, rating = parts[:2]\n",
    "            if any(skip in name.lower() for skip in skips): # check is any of the skippables are in the name\n",
    "                continue\n",
    "            if 'USA' not in rating: # skip non us ratings\n",
    "                continue\n",
    "            if 'USA:X' in rating or 'USA:NC-17' in rating or 'TV' in rating: # per rubric, skip these ratings\n",
    "                continue\n",
    "            usa, vgr = rating.split(':') \n",
    "            if any(vg_rating in vgr for vg_rating in vg_ratings):  # check if video game\n",
    "                continue\n",
    "            if ',' in name: # surround in quote if name already has comma\n",
    "                certificate_file.write(f'\"{name}\",{rating}\\n') \n",
    "            else:\n",
    "                certificate_file.write(f'{name},{rating}\\n') \n",
    "        except Exception as e: # tried to process this line, but failed\n",
    "            print(line, e)\n",
    "    \n",
    "    certificate_file.close()\n"
   ]
  },
  {
   "cell_type": "code",
   "execution_count": 15,
   "metadata": {},
   "outputs": [
    {
     "name": "stdout",
     "output_type": "stream",
     "text": [
      "-------------------------------------------------------------------------------- not enough values to unpack (expected 2, got 1)\n"
     ]
    }
   ],
   "source": [
    "write_new_certificate_file(certificate_data_original)"
   ]
  },
  {
   "cell_type": "code",
   "execution_count": 16,
   "metadata": {},
   "outputs": [],
   "source": [
    "certificate_data = pd.read_csv(NEW_FILES_DIRECTORY + \"certificates.csv\")"
   ]
  },
  {
   "cell_type": "code",
   "execution_count": 17,
   "metadata": {},
   "outputs": [
    {
     "data": {
      "text/plain": [
       "'New data has 55567 Titles'"
      ]
     },
     "execution_count": 17,
     "metadata": {},
     "output_type": "execute_result"
    }
   ],
   "source": [
    "rows, _ = certificate_data.shape\n",
    "f'New data has {rows} Titles'"
   ]
  },
  {
   "cell_type": "code",
   "execution_count": 18,
   "metadata": {},
   "outputs": [
    {
     "data": {
      "text/html": [
       "<div>\n",
       "<style scoped>\n",
       "    .dataframe tbody tr th:only-of-type {\n",
       "        vertical-align: middle;\n",
       "    }\n",
       "\n",
       "    .dataframe tbody tr th {\n",
       "        vertical-align: top;\n",
       "    }\n",
       "\n",
       "    .dataframe thead th {\n",
       "        text-align: right;\n",
       "    }\n",
       "</style>\n",
       "<table border=\"1\" class=\"dataframe\">\n",
       "  <thead>\n",
       "    <tr style=\"text-align: right;\">\n",
       "      <th></th>\n",
       "      <th>movie</th>\n",
       "      <th>rating</th>\n",
       "    </tr>\n",
       "  </thead>\n",
       "  <tbody>\n",
       "    <tr>\n",
       "      <th>29184</th>\n",
       "      <td>Nuns on the Run (1990)</td>\n",
       "      <td>USA:PG-13</td>\n",
       "    </tr>\n",
       "    <tr>\n",
       "      <th>30040</th>\n",
       "      <td>Our Daily Bread (1934)</td>\n",
       "      <td>USA:Approved</td>\n",
       "    </tr>\n",
       "    <tr>\n",
       "      <th>51887</th>\n",
       "      <td>Two Saplings (1943)</td>\n",
       "      <td>USA:Approved</td>\n",
       "    </tr>\n",
       "    <tr>\n",
       "      <th>38814</th>\n",
       "      <td>Street of Shadows (1946)</td>\n",
       "      <td>USA:Approved</td>\n",
       "    </tr>\n",
       "    <tr>\n",
       "      <th>26829</th>\n",
       "      <td>Missing Daughters (1939)</td>\n",
       "      <td>USA:Passed</td>\n",
       "    </tr>\n",
       "    <tr>\n",
       "      <th>46236</th>\n",
       "      <td>The Miracle (1991)</td>\n",
       "      <td>USA:R</td>\n",
       "    </tr>\n",
       "    <tr>\n",
       "      <th>31480</th>\n",
       "      <td>Playing by Heart (1998)</td>\n",
       "      <td>USA:R</td>\n",
       "    </tr>\n",
       "    <tr>\n",
       "      <th>46574</th>\n",
       "      <td>The Next Big Thing (2001)</td>\n",
       "      <td>USA:R</td>\n",
       "    </tr>\n",
       "    <tr>\n",
       "      <th>30726</th>\n",
       "      <td>Password (2006)</td>\n",
       "      <td>USA:PG-13</td>\n",
       "    </tr>\n",
       "    <tr>\n",
       "      <th>37085</th>\n",
       "      <td>Smitten Kitten (1952)</td>\n",
       "      <td>USA:Approved</td>\n",
       "    </tr>\n",
       "    <tr>\n",
       "      <th>48816</th>\n",
       "      <td>The Sweeney (2012)</td>\n",
       "      <td>USA:R</td>\n",
       "    </tr>\n",
       "    <tr>\n",
       "      <th>54718</th>\n",
       "      <td>Women Must Dress (1935)</td>\n",
       "      <td>USA:Passed</td>\n",
       "    </tr>\n",
       "    <tr>\n",
       "      <th>14220</th>\n",
       "      <td>Finding Bliss (2009)</td>\n",
       "      <td>USA:R</td>\n",
       "    </tr>\n",
       "    <tr>\n",
       "      <th>6183</th>\n",
       "      <td>Break (2008/II)</td>\n",
       "      <td>USA:Approved</td>\n",
       "    </tr>\n",
       "    <tr>\n",
       "      <th>8765</th>\n",
       "      <td>Columbia World of Sports 3809: Sunshine Sports...</td>\n",
       "      <td>USA:Approved</td>\n",
       "    </tr>\n",
       "    <tr>\n",
       "      <th>21846</th>\n",
       "      <td>Kehoe's Marimba Band (1944)</td>\n",
       "      <td>USA:Approved</td>\n",
       "    </tr>\n",
       "    <tr>\n",
       "      <th>24600</th>\n",
       "      <td>Lords of Dogtown (2005)</td>\n",
       "      <td>USA:Unrated</td>\n",
       "    </tr>\n",
       "    <tr>\n",
       "      <th>31195</th>\n",
       "      <td>Pictures at an Exhibition (1973)</td>\n",
       "      <td>USA:G</td>\n",
       "    </tr>\n",
       "    <tr>\n",
       "      <th>14075</th>\n",
       "      <td>Fifth Ward (1998)</td>\n",
       "      <td>USA:R</td>\n",
       "    </tr>\n",
       "    <tr>\n",
       "      <th>51604</th>\n",
       "      <td>True True Lie (2006)</td>\n",
       "      <td>USA:R</td>\n",
       "    </tr>\n",
       "  </tbody>\n",
       "</table>\n",
       "</div>"
      ],
      "text/plain": [
       "                                                   movie        rating\n",
       "29184                             Nuns on the Run (1990)     USA:PG-13\n",
       "30040                             Our Daily Bread (1934)  USA:Approved\n",
       "51887                                Two Saplings (1943)  USA:Approved\n",
       "38814                           Street of Shadows (1946)  USA:Approved\n",
       "26829                           Missing Daughters (1939)    USA:Passed\n",
       "46236                                 The Miracle (1991)         USA:R\n",
       "31480                            Playing by Heart (1998)         USA:R\n",
       "46574                          The Next Big Thing (2001)         USA:R\n",
       "30726                                    Password (2006)     USA:PG-13\n",
       "37085                              Smitten Kitten (1952)  USA:Approved\n",
       "48816                                 The Sweeney (2012)         USA:R\n",
       "54718                            Women Must Dress (1935)    USA:Passed\n",
       "14220                               Finding Bliss (2009)         USA:R\n",
       "6183                                     Break (2008/II)  USA:Approved\n",
       "8765   Columbia World of Sports 3809: Sunshine Sports...  USA:Approved\n",
       "21846                        Kehoe's Marimba Band (1944)  USA:Approved\n",
       "24600                            Lords of Dogtown (2005)   USA:Unrated\n",
       "31195                   Pictures at an Exhibition (1973)         USA:G\n",
       "14075                                  Fifth Ward (1998)         USA:R\n",
       "51604                               True True Lie (2006)         USA:R"
      ]
     },
     "execution_count": 18,
     "metadata": {},
     "output_type": "execute_result"
    }
   ],
   "source": [
    "certificate_data.sample(20)"
   ]
  },
  {
   "cell_type": "markdown",
   "metadata": {},
   "source": [
    "# Read old genre file and write new one"
   ]
  },
  {
   "cell_type": "code",
   "execution_count": 19,
   "metadata": {},
   "outputs": [],
   "source": [
    "with open(OLD_FILES_DIRECTORY + 'genres.list', 'rb') as genre_file: # read as binary file\n",
    "    genre_data_original = [line.decode('latin-1').strip() for line in genre_file.readlines()]"
   ]
  },
  {
   "cell_type": "code",
   "execution_count": 20,
   "metadata": {},
   "outputs": [
    {
     "name": "stdout",
     "output_type": "stream",
     "text": [
      "Short    \t 680840\n",
      "Drama    \t 411259\n",
      "Comedy    \t 297238\n",
      "Documentary    \t 263981\n",
      "Adult    \t 82287\n",
      "Thriller    \t 79908\n",
      "Action    \t 79269\n",
      "Romance    \t 79009\n",
      "Music    \t 69599\n",
      "Animation    \t 65035\n",
      "Horror    \t 62687\n",
      "Family    \t 62126\n",
      "Crime    \t 55886\n",
      "Adventure    \t 48554\n",
      "Fantasy    \t 45128\n",
      "Sci-Fi    \t 41402\n",
      "Mystery    \t 37910\n",
      "Biography    \t 31414\n",
      "History    \t 27850\n",
      "Sport    \t 26610\n",
      "Musical    \t 21293\n",
      "War    \t 18570\n",
      "Reality-TV    \t 17921\n",
      "News    \t 16250\n",
      "Western    \t 16111\n",
      "Talk-Show    \t 13732\n",
      "Game-Show    \t 6113\n",
      "Film-Noir    \t 906\n",
      "Reality-tv    \t 45\n",
      "Sci-fi    \t 2\n",
      "Sex    \t 1\n",
      "Lifestyle    \t 1\n",
      "Hardcore    \t 1\n",
      "Experimental    \t 1\n",
      "Erotica    \t 1\n",
      "Commercial    \t 1\n"
     ]
    }
   ],
   "source": [
    "# Sample 1 of genre file \n",
    "for i in range(42, 78): # counts from index 42 to 77\n",
    "    print(genre_data_original[i])"
   ]
  },
  {
   "cell_type": "code",
   "execution_count": 21,
   "metadata": {},
   "outputs": [
    {
     "data": {
      "text/plain": [
       "{'Short': 680840,\n",
       " 'Drama': 411259,\n",
       " 'Comedy': 297238,\n",
       " 'Documentary': 263981,\n",
       " 'Adult': 82287,\n",
       " 'Thriller': 79908,\n",
       " 'Action': 79269,\n",
       " 'Romance': 79009,\n",
       " 'Music': 69599,\n",
       " 'Animation': 65035,\n",
       " 'Horror': 62687,\n",
       " 'Family': 62126,\n",
       " 'Crime': 55886,\n",
       " 'Adventure': 48554,\n",
       " 'Fantasy': 45128,\n",
       " 'Sci-Fi': 41402,\n",
       " 'Mystery': 37910,\n",
       " 'Biography': 31414,\n",
       " 'History': 27850,\n",
       " 'Sport': 26610,\n",
       " 'Musical': 21293,\n",
       " 'War': 18570,\n",
       " 'Reality-TV': 17921,\n",
       " 'News': 16250,\n",
       " 'Western': 16111,\n",
       " 'Talk-Show': 13732,\n",
       " 'Game-Show': 6113,\n",
       " 'Film-Noir': 906,\n",
       " 'Reality-tv': 45,\n",
       " 'Sci-fi': 2,\n",
       " 'Sex': 1,\n",
       " 'Lifestyle': 1,\n",
       " 'Hardcore': 1,\n",
       " 'Experimental': 1,\n",
       " 'Erotica': 1,\n",
       " 'Commercial': 1}"
      ]
     },
     "execution_count": 21,
     "metadata": {},
     "output_type": "execute_result"
    }
   ],
   "source": [
    "genre_counts = dict()\n",
    "for i in range(42, 78): # counts for each genre start from line 43 to 78 or index 42 to 77\n",
    "    line = genre_data_original[i]\n",
    "    movie, count = [x.strip() for x in re.split('\\\\t+', line)]\n",
    "    genre_counts[movie] = int(count)\n",
    "genre_counts"
   ]
  },
  {
   "cell_type": "code",
   "execution_count": 22,
   "metadata": {},
   "outputs": [
    {
     "name": "stdout",
     "output_type": "stream",
     "text": [
      "\n",
      "8: THE GENRES LIST\n",
      "==================\n",
      "\n",
      "\"!Next?\" (1994)\t\t\t\t\t\tDocumentary\n",
      "\"#1 Single\" (2006)\t\t\t\t\tReality-TV\n",
      "\"#15SecondScare\" (2015)\t\t\t\t\tHorror\n",
      "\"#15SecondScare\" (2015)\t\t\t\t\tShort\n",
      "\"#15SecondScare\" (2015)\t\t\t\t\tThriller\n",
      "\"#15SecondScare\" (2015) {Who Wants to Play with the Rabbit? (#1.2)}\tDrama\n",
      "\"#15SecondScare\" (2015) {Who Wants to Play with the Rabbit? (#1.2)}\tHorror\n",
      "\"#15SecondScare\" (2015) {Who Wants to Play with the Rabbit? (#1.2)}\tShort\n",
      "\"#15SecondScare\" (2015) {Who Wants to Play with the Rabbit? (#1.2)}\tThriller\n",
      "\"#1MinuteNightmare\" (2014)\t\t\t\tHorror\n",
      "\"#2G1S\" (2016)\t\t\t\t\t\tCrime\n",
      "\"#2WheelzNHeelz\" (2017)\t\t\t\t\tReality-TV\n",
      "\"#30Nods Trailer\" (2016)\t\t\t\tDrama\n",
      "\"#30Nods\" (2016)\t\t\t\t\tDrama\n",
      "\"#4Hire\" (2017)\t\t\t\t\t\tComedy\n",
      "\"#7DaysLater\" (2013)\t\t\t\t\tComedy\n"
     ]
    }
   ],
   "source": [
    "# Sample 2 of genre file \n",
    "for i in range(380, 400):\n",
    "    print(genre_data_original[i])"
   ]
  },
  {
   "cell_type": "code",
   "execution_count": 23,
   "metadata": {},
   "outputs": [],
   "source": [
    "# ACTUAL DATA START ON LINE 385 or index 384"
   ]
  },
  {
   "cell_type": "code",
   "execution_count": 24,
   "metadata": {},
   "outputs": [],
   "source": [
    "def write_new_genre_file(genre_data_original): # list of lines \n",
    "    genre_file = open(NEW_FILES_DIRECTORY + 'genres.csv', 'w')\n",
    "    genre_file.write('movie,genre\\n') # write a header\n",
    "    \n",
    "    # internet doesn't seem to have anything, not reliable\n",
    "    skips = ('(tv)', '(v)', '(vg)', 're-release', 'blu-ray')\n",
    "    skip_genres = 'Short, Adult, Reality-TV, Talk-Show, Game-Show, News'.split(', ')\n",
    "    \n",
    "    for i in range(384, len(genre_data_original)): # start from 384 cuz before is filler\n",
    "        line = genre_data_original[i]\n",
    "        \n",
    "        if line.startswith('\"'):\n",
    "            continue\n",
    "        try: # some lines may not be in correct format\n",
    "            parts = [x.strip() for x in re.split('\\\\t+', line)] # split by 1 or more tabs\n",
    "            name, genre = parts[:2]\n",
    "            if any(skip in name.lower() for skip in skips): # check is any of the skippables are in the name\n",
    "                continue\n",
    "            if any(g in genre for g in skip_genres): # check if should skip this genre by value\n",
    "                continue\n",
    "            count = genre_counts.get(genre, None)\n",
    "            if count is None or count < 100: # if genre not found or less than 100, skip it \n",
    "                continue\n",
    "            if ',' in name: # surround in quote if name already has comma\n",
    "                genre_file.write(f'\"{name}\",{genre}\\n') \n",
    "            else:\n",
    "                genre_file.write(f'{name},{genre}\\n') \n",
    "        except Exception as e: # tried to process this line, but failed\n",
    "            print(line, e)\n",
    "    \n",
    "    genre_file.close()"
   ]
  },
  {
   "cell_type": "code",
   "execution_count": 25,
   "metadata": {},
   "outputs": [],
   "source": [
    "write_new_genre_file(genre_data_original)"
   ]
  },
  {
   "cell_type": "code",
   "execution_count": 26,
   "metadata": {},
   "outputs": [
    {
     "data": {
      "text/html": [
       "<div>\n",
       "<style scoped>\n",
       "    .dataframe tbody tr th:only-of-type {\n",
       "        vertical-align: middle;\n",
       "    }\n",
       "\n",
       "    .dataframe tbody tr th {\n",
       "        vertical-align: top;\n",
       "    }\n",
       "\n",
       "    .dataframe thead th {\n",
       "        text-align: right;\n",
       "    }\n",
       "</style>\n",
       "<table border=\"1\" class=\"dataframe\">\n",
       "  <thead>\n",
       "    <tr style=\"text-align: right;\">\n",
       "      <th></th>\n",
       "      <th>movie</th>\n",
       "      <th>genre</th>\n",
       "    </tr>\n",
       "  </thead>\n",
       "  <tbody>\n",
       "    <tr>\n",
       "      <th>83562</th>\n",
       "      <td>Angels in the Outfield (1951)</td>\n",
       "      <td>Comedy</td>\n",
       "    </tr>\n",
       "    <tr>\n",
       "      <th>129561</th>\n",
       "      <td>Behind the Lens (2017)</td>\n",
       "      <td>Horror</td>\n",
       "    </tr>\n",
       "    <tr>\n",
       "      <th>363142</th>\n",
       "      <td>Fass Malh wa Dakh (2016)</td>\n",
       "      <td>Comedy</td>\n",
       "    </tr>\n",
       "    <tr>\n",
       "      <th>219088</th>\n",
       "      <td>Club Frontera (2016)</td>\n",
       "      <td>Documentary</td>\n",
       "    </tr>\n",
       "    <tr>\n",
       "      <th>1332538</th>\n",
       "      <td>Zlodziej i dziewczynka (1923)</td>\n",
       "      <td>Comedy</td>\n",
       "    </tr>\n",
       "    <tr>\n",
       "      <th>295416</th>\n",
       "      <td>Dobryy vecher (2016)</td>\n",
       "      <td>Crime</td>\n",
       "    </tr>\n",
       "    <tr>\n",
       "      <th>861374</th>\n",
       "      <td>Quinta das Murças (2011)</td>\n",
       "      <td>Drama</td>\n",
       "    </tr>\n",
       "    <tr>\n",
       "      <th>1197164</th>\n",
       "      <td>Things We Know (2014)</td>\n",
       "      <td>Action</td>\n",
       "    </tr>\n",
       "    <tr>\n",
       "      <th>215641</th>\n",
       "      <td>Claire of the Moon (1992)</td>\n",
       "      <td>Romance</td>\n",
       "    </tr>\n",
       "    <tr>\n",
       "      <th>917868</th>\n",
       "      <td>Saturday Morning (1971)</td>\n",
       "      <td>Documentary</td>\n",
       "    </tr>\n",
       "    <tr>\n",
       "      <th>270192</th>\n",
       "      <td>Dekhi Teri Bambai (1961)</td>\n",
       "      <td>Comedy</td>\n",
       "    </tr>\n",
       "    <tr>\n",
       "      <th>137613</th>\n",
       "      <td>Beyond the Mirage: The Future of Water in the ...</td>\n",
       "      <td>Documentary</td>\n",
       "    </tr>\n",
       "    <tr>\n",
       "      <th>471755</th>\n",
       "      <td>Homeless Pup (1924)</td>\n",
       "      <td>Animation</td>\n",
       "    </tr>\n",
       "    <tr>\n",
       "      <th>776288</th>\n",
       "      <td>Ohio's Hidden Story (1996)</td>\n",
       "      <td>Drama</td>\n",
       "    </tr>\n",
       "    <tr>\n",
       "      <th>1269961</th>\n",
       "      <td>Vinny the Dentist (2015)</td>\n",
       "      <td>Sport</td>\n",
       "    </tr>\n",
       "    <tr>\n",
       "      <th>1340192</th>\n",
       "      <td>Új Eldorádó (2004)</td>\n",
       "      <td>Documentary</td>\n",
       "    </tr>\n",
       "    <tr>\n",
       "      <th>429015</th>\n",
       "      <td>Greek Lightning (1973)</td>\n",
       "      <td>Crime</td>\n",
       "    </tr>\n",
       "    <tr>\n",
       "      <th>771794</th>\n",
       "      <td>Objectia (2014)</td>\n",
       "      <td>Drama</td>\n",
       "    </tr>\n",
       "    <tr>\n",
       "      <th>31148</th>\n",
       "      <td>A New Life (2001)</td>\n",
       "      <td>Action</td>\n",
       "    </tr>\n",
       "    <tr>\n",
       "      <th>343937</th>\n",
       "      <td>Ercole, Sansone, Maciste e Ursus gli invincibi...</td>\n",
       "      <td>Adventure</td>\n",
       "    </tr>\n",
       "  </tbody>\n",
       "</table>\n",
       "</div>"
      ],
      "text/plain": [
       "                                                     movie        genre\n",
       "83562                        Angels in the Outfield (1951)       Comedy\n",
       "129561                              Behind the Lens (2017)       Horror\n",
       "363142                            Fass Malh wa Dakh (2016)       Comedy\n",
       "219088                                Club Frontera (2016)  Documentary\n",
       "1332538                      Zlodziej i dziewczynka (1923)       Comedy\n",
       "295416                                Dobryy vecher (2016)        Crime\n",
       "861374                            Quinta das Murças (2011)        Drama\n",
       "1197164                              Things We Know (2014)       Action\n",
       "215641                           Claire of the Moon (1992)      Romance\n",
       "917868                             Saturday Morning (1971)  Documentary\n",
       "270192                            Dekhi Teri Bambai (1961)       Comedy\n",
       "137613   Beyond the Mirage: The Future of Water in the ...  Documentary\n",
       "471755                                 Homeless Pup (1924)    Animation\n",
       "776288                          Ohio's Hidden Story (1996)        Drama\n",
       "1269961                           Vinny the Dentist (2015)        Sport\n",
       "1340192                                 Új Eldorádó (2004)  Documentary\n",
       "429015                              Greek Lightning (1973)        Crime\n",
       "771794                                     Objectia (2014)        Drama\n",
       "31148                                    A New Life (2001)       Action\n",
       "343937   Ercole, Sansone, Maciste e Ursus gli invincibi...    Adventure"
      ]
     },
     "execution_count": 26,
     "metadata": {},
     "output_type": "execute_result"
    }
   ],
   "source": [
    "genre_data = pd.read_csv(NEW_FILES_DIRECTORY + 'genres.csv')\n",
    "genre_data.sample(20)"
   ]
  },
  {
   "cell_type": "code",
   "execution_count": 27,
   "metadata": {},
   "outputs": [
    {
     "data": {
      "text/plain": [
       "'New data has 1340555 titles'"
      ]
     },
     "execution_count": 27,
     "metadata": {},
     "output_type": "execute_result"
    }
   ],
   "source": [
    "rows, _ = genre_data.shape \n",
    "f'New data has {rows} titles'"
   ]
  },
  {
   "cell_type": "code",
   "execution_count": 28,
   "metadata": {},
   "outputs": [
    {
     "data": {
      "text/plain": [
       "array(['Comedy', 'Animation', 'Drama', 'Documentary', 'History', 'War',\n",
       "       'Horror', 'Sci-Fi', 'Adventure', 'Biography', 'Family', 'Action',\n",
       "       'Romance', 'Musical', 'Sport', 'Fantasy', 'Mystery', 'Crime',\n",
       "       'Thriller', 'Music', 'Western', 'Film-Noir'], dtype=object)"
      ]
     },
     "execution_count": 28,
     "metadata": {},
     "output_type": "execute_result"
    }
   ],
   "source": [
    "genre_data.genre.unique()"
   ]
  },
  {
   "cell_type": "markdown",
   "metadata": {},
   "source": [
    "# Read old keywords file and write new one"
   ]
  },
  {
   "cell_type": "code",
   "execution_count": 29,
   "metadata": {},
   "outputs": [],
   "source": [
    "with open(OLD_FILES_DIRECTORY + 'keywords.list', 'rb') as keywords_file: # read as binary file\n",
    "    keywords_data_original = [line.decode('latin-1').strip() for line in keywords_file.readlines()]"
   ]
  },
  {
   "cell_type": "code",
   "execution_count": 30,
   "metadata": {},
   "outputs": [
    {
     "data": {
      "text/plain": [
       "7582062"
      ]
     },
     "execution_count": 30,
     "metadata": {},
     "output_type": "execute_result"
    }
   ],
   "source": [
    "len(keywords_data_original)"
   ]
  },
  {
   "cell_type": "code",
   "execution_count": 31,
   "metadata": {},
   "outputs": [
    {
     "name": "stdout",
     "output_type": "stream",
     "text": [
      "keywords in use:\n",
      "$100-bill (3)\t$10000 (3)\t$1000000-prize (2)\n",
      "$1500-bottle-of-wine (1)\t$20-bill (3)\t$200000000 (1)\n",
      "$5-bill (1)\t$5-day (1)\t$5000 (3)\t$700-bank-check (1)\n",
      "$98000-gift-card (1)\t\t'50s-music (11)\t'81-subaru (1)\n",
      "'n-sync (1)\t-184-degrees-fahrenheit (2)\t-320-degrees-fahrenheit (1)\n",
      "-40-degrees-fahrenheit (1)\t.22-caliber-beretta (2)\n",
      ".22-caliber-bullet (1)\t\t.22-caliber-gun (7)\n",
      ".22-caliber-pistol (3)\t\t.22-caliber-revolver (3)\n",
      ".22-caliber-rifle (1)\t\t.22-caliber-semiautomatic-rifle (1)\n",
      ".22-magnum-revolver (2)\t\t.22-magnum-rifle (1)\n",
      ".25-caliber-pistol (1)\t\t.30-caliber-bullet (2)\n",
      ".32-caliber-pistol (1)\t\t.357-magnum (19)\n",
      ".38-caliber-gun (5)\t\t.38-calibre-pistol (3)\n",
      ".38-silenced-revolver (1)\t.38-snubnose-revolver (16)\n",
      ".38-special (5)\t.40-caliber-pistol (1)\t\t.44-calibre-bullet (1)\n",
      ".44-magnum (19)\t.44-magnum-pistol (2)\t\t.44-magnum-rifle (1)\n",
      ".45-automatic (6)\t\t.45-calibre-pistol (11)\n",
      ".451-batting-average (1)\t.50-caliber-pistol (2)\n",
      ".50-calibre-bullet (6)\t\t.50-calibre-gun (1)\n",
      ".50-calibre-sniper-rifle (4)\t.69-calibre-pistol (1)\n",
      ".hack (88)\t007 (34)\t1-508th-parachute-infantry-regiment (1)\n",
      "1-800-phone-number (2)\t\t1-900-line (1)\t1-euro-coin (5)\n",
      "1-million-bc (1)\t\t1-year-ago (3)\t1-year-later (14)\n",
      "1-year-old (12)\t10-april-1826 (2)\t\t10-cent-beer-night (1)\n",
      "10-chapters (7)\t10-days-in-october (1)\t\t10-downing-street (21)\n",
      "10-downing-street-london (1)\t10-episodes (10)\n",
      "10-euro-bill (1)\t\t10-k-run (2)\t10-minute-dogfight (1)\n",
      "10-of-clubs (1)\t10-of-diamonds (1)\t\t10-of-hearts (2)\n",
      "10-of-spades (1)\t\t10-pm (1)\t10-x-10 (1)\n",
      "10-year-old (195)\t\t10-year-old-boy (8)\n",
      "10-year-plan (1)\t\t10-years-later (14)\n",
      "100-euro-bill (1)\t\t100-lei-coin (1)\n",
      "100-meter-freestyle (4)\t\t100-mile-wilderness-maine (2)\n",
      "100-miles-per-hour (1)\t\t100-missions (1)\n",
      "100-pound-contact-bomb (1)\t100-yard-dash (3)\n",
      "100-year-old (16)\t\t100-years (4)\t100-yuan-bill (2)\n",
      "1000-lakes-rally (8)\t\t1000-pound-bomb (4)\n",
      "1000-pound-contact-bomb (1)\t1000-year-old (1)\n",
      "10000-b.c. (7)\t10000-mile-club (1)\t\t1000000-b.c. (38)\n"
     ]
    }
   ],
   "source": [
    "for i in range(60, 100): # Keywords + counts start on line 62 or index 61\n",
    "    print(keywords_data_original[i])"
   ]
  },
  {
   "cell_type": "code",
   "execution_count": 32,
   "metadata": {},
   "outputs": [],
   "source": [
    "keyword_count_start = 61"
   ]
  },
  {
   "cell_type": "code",
   "execution_count": 33,
   "metadata": {},
   "outputs": [],
   "source": [
    "keyword_count_end = 101649 # got this after a little trial and error"
   ]
  },
  {
   "cell_type": "code",
   "execution_count": 34,
   "metadata": {},
   "outputs": [
    {
     "name": "stdout",
     "output_type": "stream",
     "text": [
      "zypora (2)\tzz-top (3)\tzz-top-impression (2)\n",
      "\n",
      "5: Submission Rules\n",
      "===================\n",
      "\n",
      "How To Add Keywords\n",
      "-------------------\n",
      "\n",
      "Send email to   adds@imdb.com   with the subject \"ADD\".  Above\n",
      "the data you write the word \"KEYWORD\" on a line by itself.\n"
     ]
    }
   ],
   "source": [
    "for i in range(keyword_count_end, keyword_count_end + 10):\n",
    "    print(keywords_data_original[i])"
   ]
  },
  {
   "cell_type": "code",
   "execution_count": 35,
   "metadata": {},
   "outputs": [
    {
     "data": {
      "text/plain": [
       "'$100-bill (3)\\t$10000 (3)\\t$1000000-prize (2)'"
      ]
     },
     "execution_count": 35,
     "metadata": {},
     "output_type": "execute_result"
    }
   ],
   "source": [
    "keywords_data_original[61]\n",
    "# format of a line. split by tabs, for each part get the keyword and count"
   ]
  },
  {
   "cell_type": "code",
   "execution_count": 36,
   "metadata": {},
   "outputs": [
    {
     "name": "stdout",
     "output_type": "stream",
     "text": [
      "721\n",
      "5378\n",
      "11470\n",
      "19628\n",
      "24031\n",
      "26742\n",
      "32073\n",
      "35091\n",
      "38998\n",
      "41285\n",
      "42342\n",
      "43654\n",
      "46702\n",
      "52598\n",
      "54629\n",
      "56167\n",
      "62338\n",
      "62576\n",
      "79316\n",
      "89967\n",
      "95121\n",
      "96377\n",
      "97571\n",
      "100917\n",
      "100961\n",
      "101465\n"
     ]
    }
   ],
   "source": [
    "keyword_count = dict()\n",
    "\n",
    "for i in range(keyword_count_start, keyword_count_end + 1): # +1 cuz end index is not included\n",
    "    line = keywords_data_original[i]\n",
    "    parts = [x.strip() for x in re.split('\\\\t+', line)]\n",
    "    for part in parts:\n",
    "        try:\n",
    "            keyword, count = [x.strip() for x in part.split(' ')]\n",
    "            count = int(count[1:-1]) # don't need the parenthesis\n",
    "            keyword_count[keyword] = count\n",
    "        except Exception as e:\n",
    "            print(i) # after inspection, these are just line empty lines 26 of them\n",
    "            # there's a newline after each keyword group with the same letter\n",
    "# keyword_count # it's a lot so I won't show"
   ]
  },
  {
   "cell_type": "code",
   "execution_count": 37,
   "metadata": {},
   "outputs": [
    {
     "name": "stdout",
     "output_type": "stream",
     "text": [
      "\"#1 Single\" (2006)\t\t\t\t\tnumber-in-title\n",
      "\"#1MinuteNightmare\" (2014)\t\t\t\tweb-series\n",
      "\"#30Nods\" (2016)\t\t\t\t\tfriend\n",
      "\"#30Nods\" (2016)\t\t\t\t\theroin\n",
      "\"#30Nods\" (2016)\t\t\t\t\tvlog\n",
      "\"#4Hire\" (2017)\t\t\t\t\t\ttv-mini-series\n",
      "\"#ATown\" (2014)\t\t\t\t\t\taustin-texas\n",
      "\"#ATown\" (2014)\t\t\t\t\t\tbeer\n",
      "\"#ATown\" (2014)\t\t\t\t\t\tdrugs\n",
      "\"#ATown\" (2014)\t\t\t\t\t\tfriendship\n",
      "\"#ATown\" (2014)\t\t\t\t\t\tlove\n",
      "\"#ATown\" (2014)\t\t\t\t\t\ttexas\n",
      "\"#ATown\" (2014)\t\t\t\t\t\tweb-series\n",
      "\"#Adulting\" (2016/I)\t\t\t\t\tmillennial\n",
      "\"#Adulting\" (2016/I)\t\t\t\t\tweb-series\n",
      "\"#AuVolant\" (2016)\t\t\t\t\ttv-mini-series\n",
      "\"#Bandcamp\" (2014)\t\t\t\t\ttv-mini-series\n",
      "\"#ByMySide\" (2012)\t\t\t\t\ttwitter-hashtag-in-title\n",
      "\"#DailyPipTalk\" (2016)\t\t\t\t\tforex\n",
      "\"#DayOff\" (2013)\t\t\t\t\ttv-mini-series\n"
     ]
    }
   ],
   "source": [
    "movie_keyword_start = 101937 # got this after a little trial and error\n",
    "for i in range(movie_keyword_start, movie_keyword_start + 20):\n",
    "    print(keywords_data_original[i])"
   ]
  },
  {
   "cell_type": "code",
   "execution_count": 38,
   "metadata": {},
   "outputs": [],
   "source": [
    "def write_new_keywords_file(keywords_data_original): # list of lines \n",
    "    keywords_file = open(NEW_FILES_DIRECTORY + 'keywords.csv', 'w')\n",
    "    keywords_file.write('movie,keyword\\n') # write a header\n",
    "    \n",
    "    # internet doesn't seem to have anything, not reliable\n",
    "    skips = ('(tv)', '(v)', '(vg)', 're-release', 'blu-ray')\n",
    "    \n",
    "    for i in range(movie_keyword_start, len(keywords_data_original)):\n",
    "        line = keywords_data_original[i]\n",
    "        \n",
    "        if line.startswith('\"'):\n",
    "            continue\n",
    "        try: # some lines may not be in correct format\n",
    "            parts = [x.strip() for x in re.split('\\\\t+', line)] # split by 1 or more tabs\n",
    "            name, keyword = parts[:2]\n",
    "            if any(skip in name.lower() for skip in skips): # check is any of the skippables are in the name\n",
    "                continue\n",
    "                \n",
    "            count = keyword_count.get(keyword, None)\n",
    "            if count is None or count < 20 :\n",
    "                continue\n",
    "            if ',' in name: # surround in quote if name already has comma\n",
    "                keywords_file.write(f'\"{name}\",{keyword}\\n') \n",
    "            else:\n",
    "                keywords_file.write(f'{name},{keyword}\\n') \n",
    "        except Exception as e: # tried to process this line, but failed\n",
    "            print(line, e)\n",
    "    \n",
    "    keywords_file.close()"
   ]
  },
  {
   "cell_type": "code",
   "execution_count": 39,
   "metadata": {},
   "outputs": [],
   "source": [
    "write_new_keywords_file(keywords_data_original)"
   ]
  },
  {
   "cell_type": "code",
   "execution_count": 40,
   "metadata": {},
   "outputs": [
    {
     "data": {
      "text/plain": [
       "'New file has 3763306 titles'"
      ]
     },
     "execution_count": 40,
     "metadata": {},
     "output_type": "execute_result"
    }
   ],
   "source": [
    "keywords_data = pd.read_csv(NEW_FILES_DIRECTORY + \"keywords.csv\")\n",
    "rows, _ = keywords_data.shape \n",
    "f'New file has {rows} titles'"
   ]
  },
  {
   "cell_type": "code",
   "execution_count": 41,
   "metadata": {},
   "outputs": [
    {
     "data": {
      "text/html": [
       "<div>\n",
       "<style scoped>\n",
       "    .dataframe tbody tr th:only-of-type {\n",
       "        vertical-align: middle;\n",
       "    }\n",
       "\n",
       "    .dataframe tbody tr th {\n",
       "        vertical-align: top;\n",
       "    }\n",
       "\n",
       "    .dataframe thead th {\n",
       "        text-align: right;\n",
       "    }\n",
       "</style>\n",
       "<table border=\"1\" class=\"dataframe\">\n",
       "  <thead>\n",
       "    <tr style=\"text-align: right;\">\n",
       "      <th></th>\n",
       "      <th>movie</th>\n",
       "      <th>keyword</th>\n",
       "    </tr>\n",
       "  </thead>\n",
       "  <tbody>\n",
       "    <tr>\n",
       "      <th>3383632</th>\n",
       "      <td>Things We Lost in the Fire (2007)</td>\n",
       "      <td>recovery</td>\n",
       "    </tr>\n",
       "    <tr>\n",
       "      <th>1958664</th>\n",
       "      <td>Misija: Leptir (2008)</td>\n",
       "      <td>owl</td>\n",
       "    </tr>\n",
       "    <tr>\n",
       "      <th>2885919</th>\n",
       "      <td>The Assignment (1997)</td>\n",
       "      <td>cuban-american</td>\n",
       "    </tr>\n",
       "    <tr>\n",
       "      <th>258287</th>\n",
       "      <td>Atrocious (2010)</td>\n",
       "      <td>homicide</td>\n",
       "    </tr>\n",
       "    <tr>\n",
       "      <th>3669907</th>\n",
       "      <td>Wisconsin Death Trip (1999)</td>\n",
       "      <td>black-comedy</td>\n",
       "    </tr>\n",
       "    <tr>\n",
       "      <th>3252843</th>\n",
       "      <td>The Return (2006/I)</td>\n",
       "      <td>listening-to-a-car-radio</td>\n",
       "    </tr>\n",
       "    <tr>\n",
       "      <th>2470004</th>\n",
       "      <td>Rosolino Paternò, soldato... (1970)</td>\n",
       "      <td>cigarette-smoking</td>\n",
       "    </tr>\n",
       "    <tr>\n",
       "      <th>84770</th>\n",
       "      <td>A Reason (2014)</td>\n",
       "      <td>inheritance</td>\n",
       "    </tr>\n",
       "    <tr>\n",
       "      <th>200734</th>\n",
       "      <td>And Then Came Lola (2009)</td>\n",
       "      <td>sex-talk</td>\n",
       "    </tr>\n",
       "    <tr>\n",
       "      <th>2874253</th>\n",
       "      <td>The Adventures of Tintin (2011)</td>\n",
       "      <td>inventor</td>\n",
       "    </tr>\n",
       "    <tr>\n",
       "      <th>2804088</th>\n",
       "      <td>Swords &amp; Words (2012)</td>\n",
       "      <td>student</td>\n",
       "    </tr>\n",
       "    <tr>\n",
       "      <th>3355359</th>\n",
       "      <td>The Weirder It Gets... (2016)</td>\n",
       "      <td>student-film</td>\n",
       "    </tr>\n",
       "    <tr>\n",
       "      <th>1635320</th>\n",
       "      <td>La fille du RER (2009)</td>\n",
       "      <td>mother-daughter-relationship</td>\n",
       "    </tr>\n",
       "    <tr>\n",
       "      <th>1392311</th>\n",
       "      <td>In Name Only (1939)</td>\n",
       "      <td>christmas</td>\n",
       "    </tr>\n",
       "    <tr>\n",
       "      <th>519537</th>\n",
       "      <td>Carry on Cleo (1964)</td>\n",
       "      <td>ship</td>\n",
       "    </tr>\n",
       "    <tr>\n",
       "      <th>1195823</th>\n",
       "      <td>Hacksaw Ridge (2016)</td>\n",
       "      <td>rock-climbing</td>\n",
       "    </tr>\n",
       "    <tr>\n",
       "      <th>2718847</th>\n",
       "      <td>Stacy's Knights (1983)</td>\n",
       "      <td>clock</td>\n",
       "    </tr>\n",
       "    <tr>\n",
       "      <th>552440</th>\n",
       "      <td>Chasers (1994)</td>\n",
       "      <td>tampon</td>\n",
       "    </tr>\n",
       "    <tr>\n",
       "      <th>3607978</th>\n",
       "      <td>Warriors of Virtue: The Return to Tao (2002)</td>\n",
       "      <td>sequel</td>\n",
       "    </tr>\n",
       "    <tr>\n",
       "      <th>2807464</th>\n",
       "      <td>Szwadron (1992)</td>\n",
       "      <td>sadism</td>\n",
       "    </tr>\n",
       "  </tbody>\n",
       "</table>\n",
       "</div>"
      ],
      "text/plain": [
       "                                                movie  \\\n",
       "3383632             Things We Lost in the Fire (2007)   \n",
       "1958664                         Misija: Leptir (2008)   \n",
       "2885919                         The Assignment (1997)   \n",
       "258287                               Atrocious (2010)   \n",
       "3669907                   Wisconsin Death Trip (1999)   \n",
       "3252843                           The Return (2006/I)   \n",
       "2470004           Rosolino Paternò, soldato... (1970)   \n",
       "84770                                 A Reason (2014)   \n",
       "200734                      And Then Came Lola (2009)   \n",
       "2874253               The Adventures of Tintin (2011)   \n",
       "2804088                         Swords & Words (2012)   \n",
       "3355359                 The Weirder It Gets... (2016)   \n",
       "1635320                        La fille du RER (2009)   \n",
       "1392311                           In Name Only (1939)   \n",
       "519537                           Carry on Cleo (1964)   \n",
       "1195823                          Hacksaw Ridge (2016)   \n",
       "2718847                        Stacy's Knights (1983)   \n",
       "552440                                 Chasers (1994)   \n",
       "3607978  Warriors of Virtue: The Return to Tao (2002)   \n",
       "2807464                               Szwadron (1992)   \n",
       "\n",
       "                              keyword  \n",
       "3383632                      recovery  \n",
       "1958664                           owl  \n",
       "2885919                cuban-american  \n",
       "258287                       homicide  \n",
       "3669907                  black-comedy  \n",
       "3252843      listening-to-a-car-radio  \n",
       "2470004             cigarette-smoking  \n",
       "84770                     inheritance  \n",
       "200734                       sex-talk  \n",
       "2874253                      inventor  \n",
       "2804088                       student  \n",
       "3355359                  student-film  \n",
       "1635320  mother-daughter-relationship  \n",
       "1392311                     christmas  \n",
       "519537                           ship  \n",
       "1195823                 rock-climbing  \n",
       "2718847                         clock  \n",
       "552440                         tampon  \n",
       "3607978                        sequel  \n",
       "2807464                        sadism  "
      ]
     },
     "execution_count": 41,
     "metadata": {},
     "output_type": "execute_result"
    }
   ],
   "source": [
    "keywords_data.sample(20)"
   ]
  },
  {
   "cell_type": "code",
   "execution_count": 42,
   "metadata": {},
   "outputs": [
    {
     "data": {
      "text/plain": [
       "0.1367987321711569"
      ]
     },
     "execution_count": 42,
     "metadata": {},
     "output_type": "execute_result"
    }
   ],
   "source": [
    "len(keywords_data.keyword.unique())/len(keyword_count) # he says it should be closer to 5%\n",
    "# filter logic should be revised"
   ]
  },
  {
   "cell_type": "markdown",
   "metadata": {},
   "source": [
    "# Read old running times file and write new one "
   ]
  },
  {
   "cell_type": "code",
   "execution_count": 43,
   "metadata": {},
   "outputs": [],
   "source": [
    "with open(OLD_FILES_DIRECTORY + 'running-times.list', 'rb') as runtime_file: # read as binary file\n",
    "    runtime_data_original = [line.decode('latin-1').strip() for line in runtime_file.readlines()]"
   ]
  },
  {
   "cell_type": "code",
   "execution_count": 44,
   "metadata": {},
   "outputs": [
    {
     "name": "stdout",
     "output_type": "stream",
     "text": [
      "CRC: 0x4449AFEC  File: running-times.list  Date: Fri Dec 22 00:00:00 2017\n",
      "\n",
      "Copyright 1991-2017 The Internet Movie Database Ltd. All rights reserved.\n",
      "\n",
      "http://www.imdb.com\n",
      "\n",
      "running-times.list\n",
      "\n",
      "2017-12-19\n",
      "\n",
      "-----------------------------------------------------------------------------\n",
      "\n",
      "RUNNING TIMES LIST\n",
      "==================\n",
      "\"#1 Single\" (2006)\t\t\t\t\t30\n",
      "\"#1 Single\" (2006) {Cats and Dogs (#1.4)}\t\t20\n",
      "\"#1 Single\" (2006) {Finishing a Chapter (#1.5)}\t\t20\n",
      "\"#1 Single\" (2006) {Is the Grass Greener? (#1.1)}\t21\n",
      "\"#1 Single\" (2006) {Stay (#1.8)}\t\t\t20\n",
      "\"#1 Single\" (2006) {The Rules of Dating (#1.3)}\t\t20\n",
      "\"#1 Single\" (2006) {Timing Is Everything (#1.7)}\t20\n",
      "\"#1 Single\" (2006) {Window Shopping (#1.2)}\t\t20\n",
      "\"#1 Single\" (2006) {Wingman (#1.6)}\t\t\t20\n",
      "\"#15SecondScare\" (2015)\t\t\t\t\t1\n",
      "\"#15SecondScare\" (2015) {Because We Don't Want You to Fall Asleep (#1.3)}\t1\n",
      "\"#15SecondScare\" (2015) {Coming and Going (#1.11)}\t1\n",
      "\"#15SecondScare\" (2015) {Doll Factory (#1.10)}\t\t1\n",
      "\"#15SecondScare\" (2015) {Don't Look (#1.6)}\t\t1\n",
      "\"#15SecondScare\" (2015) {Don't Take the Picture (#1.9)}\t1\n",
      "\"#15SecondScare\" (2015) {Fly (#1.8)}\t\t\t1\n",
      "\"#15SecondScare\" (2015) {It's Me Jessica (#1.5)}\t1\n",
      "\"#15SecondScare\" (2015) {Lord Binah (#1.1)}\t\t1\n",
      "\"#15SecondScare\" (2015) {Prying Eyes (#1.12)}\t\t1\n",
      "\"#15SecondScare\" (2015) {Shriek (#1.13)}\t\t1\n",
      "\"#15SecondScare\" (2015) {Sleepless (#1.4)}\t\t1\n",
      "\"#15SecondScare\" (2015) {Stay Dead (#1.7)}\t\t1\n",
      "\"#15SecondScare\" (2015) {Who Wants to Play with the Rabbit? (#1.2)}\t1\n",
      "\"#1MinuteNightmare\" (2014)\t\t\t\t1\n",
      "\"#7DaysLater\" (2013)\t\t\t\t\t7\n",
      "\"#7DaysLater\" (2013) {Apocalypse (#1.2)}\t\t7\n",
      "\"#7DaysLater\" (2013) {Drama Queen (#1.1)}\t\t7\n",
      "\"#ATown\" (2014)\t\t\t\t\t\t10\t(10 webisodes)\n",
      "\"#ATown\" (2014) {Best Friends Day (#1.10)}\t\t13\t(approx.)\n",
      "\"#ATown\" (2014) {Chicks in Pink, Vomit in a Sink (#1.6)}\t11\t(approx.)\n",
      "\"#ATown\" (2014) {Dunzo (#1.9)}\t\t\t\t9\t(approx.)\n",
      "\"#ATown\" (2014) {Jobs & Juice (#1.2)}\t\t\t8\n",
      "\"#ATown\" (2014) {Kayaking Adventure (#1.5)}\t\t9\t(approx.)\n",
      "\"#ATown\" (2014) {PDX --> ATX (#2.1)}\t\t\t11\n",
      "\"#ATown\" (2014) {Pilot (#1.1)}\t\t\t\t12\n",
      "\"#ATown\" (2014) {So Fucked Up (#1.7)}\t\t\t7\t(approx.)\n"
     ]
    }
   ],
   "source": [
    "for i in range(50): \n",
    "    print(runtime_data_original[i])"
   ]
  },
  {
   "cell_type": "code",
   "execution_count": 45,
   "metadata": {},
   "outputs": [
    {
     "data": {
      "text/plain": [
       "'\"#1 Single\" (2006)\\t\\t\\t\\t\\t30'"
      ]
     },
     "execution_count": 45,
     "metadata": {},
     "output_type": "execute_result"
    }
   ],
   "source": [
    "runtime_data_original[14] # Actual data starts at line 15 or index 14"
   ]
  },
  {
   "cell_type": "code",
   "execution_count": 46,
   "metadata": {},
   "outputs": [],
   "source": [
    "# After inspection, many runtimes are in the format 'Country:runtime' and some have diff formats\n",
    "\n",
    "def get_runtime(runtime_string):\n",
    "    result = None\n",
    "    try:\n",
    "        if float(runtime_string) >= 60: # try to see if it's just a regular numeric\n",
    "            result = runtime_string\n",
    "    except ValueError: # it's probably in the format 'Country:runtime'\n",
    "        parts = runtime_string.split(':') \n",
    "        if len(parts) == 2: # should give ['country', 'runtime'], but check\n",
    "            _, runtime = parts\n",
    "            try:\n",
    "                if float(runtime) >= 60: # try to see if it's just a regular numeric\n",
    "                    result = runtime # just the number portion\n",
    "            except ValueError:\n",
    "                # there are a lot of formats; for ease just check leading digits and make sure it's >= 60\n",
    "                non_digit_index = get_first_non_digit_index(runtime) \n",
    "                if float(runtime[:non_digit_index]) >= 60:\n",
    "                    result = runtime[:non_digit_index] # we can ignore the seconds; not important\n",
    "    return result\n",
    "    \n",
    "    \n",
    "def get_first_non_digit_index(string):\n",
    "    for i, char in enumerate(string):\n",
    "        if not char.isdigit():\n",
    "            return i"
   ]
  },
  {
   "cell_type": "code",
   "execution_count": 47,
   "metadata": {},
   "outputs": [],
   "source": [
    "def write_new_runtime_file(runtime_data_original): # list of lines \n",
    "    runtime_file = open(NEW_FILES_DIRECTORY + 'runtimes.csv', 'w')\n",
    "    runtime_file.write('movie,runtime\\n') # write a header\n",
    "    \n",
    "    # internet doesn't seem to have anything, not reliable\n",
    "    skips = ('(tv)', '(v)', '(vg)', 're-release', 'blu-ray')\n",
    "    \n",
    "    for i in range(14, len(runtime_data_original)):\n",
    "        line = runtime_data_original[i]\n",
    "        \n",
    "        if line.startswith('\"'):\n",
    "            continue\n",
    "        try: # some lines may not be in correct format\n",
    "            parts = [x.strip() for x in re.split('\\\\t+', line)] # split by 1 or more tabs\n",
    "            name, runtime_string = parts[:2]\n",
    "            if any(skip in name.lower() for skip in skips): # check is any of the skippables are in the name\n",
    "                continue\n",
    "                \n",
    "            \n",
    "            runtime = get_runtime(runtime_string)\n",
    "            \n",
    "            if runtime is None:\n",
    "                continue\n",
    "                \n",
    "            if ',' in name: # surround in quote if name already has comma\n",
    "                runtime_file.write(f'\"{name}\",{runtime}\\n') \n",
    "            else:\n",
    "                runtime_file.write(f'{name},{runtime}\\n') \n",
    "        except Exception as e: # tried to process this line, but failed    \n",
    "            print(line, e)\n",
    "    \n",
    "    runtime_file.close()"
   ]
  },
  {
   "cell_type": "code",
   "execution_count": 48,
   "metadata": {},
   "outputs": [
    {
     "name": "stdout",
     "output_type": "stream",
     "text": [
      "-------------------------------------------------------------------------------- not enough values to unpack (expected 2, got 1)\n"
     ]
    }
   ],
   "source": [
    "write_new_runtime_file(runtime_data_original)"
   ]
  },
  {
   "cell_type": "code",
   "execution_count": 49,
   "metadata": {},
   "outputs": [
    {
     "data": {
      "text/plain": [
       "'New file has 283156 titles'"
      ]
     },
     "execution_count": 49,
     "metadata": {},
     "output_type": "execute_result"
    }
   ],
   "source": [
    "runtime_data = pd.read_csv(NEW_FILES_DIRECTORY + \"runtimes.csv\")\n",
    "rows, _ = runtime_data.shape \n",
    "f'New file has {rows} titles'"
   ]
  },
  {
   "cell_type": "code",
   "execution_count": 50,
   "metadata": {},
   "outputs": [
    {
     "data": {
      "text/html": [
       "<div>\n",
       "<style scoped>\n",
       "    .dataframe tbody tr th:only-of-type {\n",
       "        vertical-align: middle;\n",
       "    }\n",
       "\n",
       "    .dataframe tbody tr th {\n",
       "        vertical-align: top;\n",
       "    }\n",
       "\n",
       "    .dataframe thead th {\n",
       "        text-align: right;\n",
       "    }\n",
       "</style>\n",
       "<table border=\"1\" class=\"dataframe\">\n",
       "  <thead>\n",
       "    <tr style=\"text-align: right;\">\n",
       "      <th></th>\n",
       "      <th>movie</th>\n",
       "      <th>runtime</th>\n",
       "    </tr>\n",
       "  </thead>\n",
       "  <tbody>\n",
       "    <tr>\n",
       "      <th>243428</th>\n",
       "      <td>The Permanents Live at Rally in the Alley (2017)</td>\n",
       "      <td>62.0</td>\n",
       "    </tr>\n",
       "    <tr>\n",
       "      <th>18637</th>\n",
       "      <td>Arun (2015)</td>\n",
       "      <td>67.0</td>\n",
       "    </tr>\n",
       "    <tr>\n",
       "      <th>183443</th>\n",
       "      <td>Pi li shi jie (1985)</td>\n",
       "      <td>90.0</td>\n",
       "    </tr>\n",
       "    <tr>\n",
       "      <th>26662</th>\n",
       "      <td>Better Than Chocolate (1999)</td>\n",
       "      <td>101.0</td>\n",
       "    </tr>\n",
       "    <tr>\n",
       "      <th>229168</th>\n",
       "      <td>The Best of Friends (1982)</td>\n",
       "      <td>97.0</td>\n",
       "    </tr>\n",
       "    <tr>\n",
       "      <th>28807</th>\n",
       "      <td>Black Crusader (1986)</td>\n",
       "      <td>72.0</td>\n",
       "    </tr>\n",
       "    <tr>\n",
       "      <th>219293</th>\n",
       "      <td>Stranger from Venus (1954)</td>\n",
       "      <td>75.0</td>\n",
       "    </tr>\n",
       "    <tr>\n",
       "      <th>67947</th>\n",
       "      <td>El amor es un juego extraño (1983)</td>\n",
       "      <td>90.0</td>\n",
       "    </tr>\n",
       "    <tr>\n",
       "      <th>1298</th>\n",
       "      <td>1974: La posesión de Altair (2016)</td>\n",
       "      <td>82.0</td>\n",
       "    </tr>\n",
       "    <tr>\n",
       "      <th>76545</th>\n",
       "      <td>Fantasias Sexuais (1982)</td>\n",
       "      <td>90.0</td>\n",
       "    </tr>\n",
       "    <tr>\n",
       "      <th>91862</th>\n",
       "      <td>Gülsüm ana (1982)</td>\n",
       "      <td>85.0</td>\n",
       "    </tr>\n",
       "    <tr>\n",
       "      <th>131115</th>\n",
       "      <td>La pelota vasca. La piel contra la piedra (2003)</td>\n",
       "      <td>110.0</td>\n",
       "    </tr>\n",
       "    <tr>\n",
       "      <th>236266</th>\n",
       "      <td>The Gregory Id (2009)</td>\n",
       "      <td>86.0</td>\n",
       "    </tr>\n",
       "    <tr>\n",
       "      <th>168765</th>\n",
       "      <td>No Sad Songs for Me (1950)</td>\n",
       "      <td>88.0</td>\n",
       "    </tr>\n",
       "    <tr>\n",
       "      <th>236082</th>\n",
       "      <td>The Great Moment (1921)</td>\n",
       "      <td>70.0</td>\n",
       "    </tr>\n",
       "    <tr>\n",
       "      <th>242874</th>\n",
       "      <td>The Other Side: A Paranormal Documentary (2013)</td>\n",
       "      <td>68.0</td>\n",
       "    </tr>\n",
       "    <tr>\n",
       "      <th>213434</th>\n",
       "      <td>Smouldering Fires (1925)</td>\n",
       "      <td>80.0</td>\n",
       "    </tr>\n",
       "    <tr>\n",
       "      <th>210471</th>\n",
       "      <td>Si wang wang lao (2000)</td>\n",
       "      <td>88.0</td>\n",
       "    </tr>\n",
       "    <tr>\n",
       "      <th>111146</th>\n",
       "      <td>Ivan Tsarevich i Seryy Volk 2 (2013)</td>\n",
       "      <td>85.0</td>\n",
       "    </tr>\n",
       "    <tr>\n",
       "      <th>126751</th>\n",
       "      <td>L'uomo della strada fa giustizia (1975)</td>\n",
       "      <td>90.0</td>\n",
       "    </tr>\n",
       "  </tbody>\n",
       "</table>\n",
       "</div>"
      ],
      "text/plain": [
       "                                                   movie  runtime\n",
       "243428  The Permanents Live at Rally in the Alley (2017)     62.0\n",
       "18637                                        Arun (2015)     67.0\n",
       "183443                              Pi li shi jie (1985)     90.0\n",
       "26662                       Better Than Chocolate (1999)    101.0\n",
       "229168                        The Best of Friends (1982)     97.0\n",
       "28807                              Black Crusader (1986)     72.0\n",
       "219293                        Stranger from Venus (1954)     75.0\n",
       "67947                 El amor es un juego extraño (1983)     90.0\n",
       "1298                  1974: La posesión de Altair (2016)     82.0\n",
       "76545                           Fantasias Sexuais (1982)     90.0\n",
       "91862                                  Gülsüm ana (1982)     85.0\n",
       "131115  La pelota vasca. La piel contra la piedra (2003)    110.0\n",
       "236266                             The Gregory Id (2009)     86.0\n",
       "168765                        No Sad Songs for Me (1950)     88.0\n",
       "236082                           The Great Moment (1921)     70.0\n",
       "242874   The Other Side: A Paranormal Documentary (2013)     68.0\n",
       "213434                          Smouldering Fires (1925)     80.0\n",
       "210471                           Si wang wang lao (2000)     88.0\n",
       "111146              Ivan Tsarevich i Seryy Volk 2 (2013)     85.0\n",
       "126751           L'uomo della strada fa giustizia (1975)     90.0"
      ]
     },
     "execution_count": 50,
     "metadata": {},
     "output_type": "execute_result"
    }
   ],
   "source": [
    "runtime_data.sample(20)"
   ]
  },
  {
   "cell_type": "markdown",
   "metadata": {},
   "source": [
    "# Read old release dates file and write new one"
   ]
  },
  {
   "cell_type": "code",
   "execution_count": 51,
   "metadata": {},
   "outputs": [],
   "source": [
    "with open(OLD_FILES_DIRECTORY + 'release-dates.list', 'rb') as release_file: # read as binary file\n",
    "    release_data_original = [line.decode('latin-1').strip() for line in release_file.readlines()]"
   ]
  },
  {
   "cell_type": "code",
   "execution_count": 52,
   "metadata": {},
   "outputs": [
    {
     "name": "stdout",
     "output_type": "stream",
     "text": [
      "CRC: 0x3F1CFDEF  File: release-dates.list  Date: Fri Dec 22 00:00:00 2017\n",
      "\n",
      "Copyright 1991-2017 The Internet Movie Database Ltd. All rights reserved.\n",
      "\n",
      "http://www.imdb.com\n",
      "\n",
      "release-dates.list\n",
      "\n",
      "2017-12-20\n",
      "\n",
      "-----------------------------------------------------------------------------\n",
      "\n",
      "RELEASE DATES LIST\n",
      "==================\n",
      "\"!Next?\" (1994)\t\t\t\t\t\tItaly:1 January 1994\n",
      "\"#1 Single\" (2006)\t\t\t\t\tUSA:22 January 2006\n",
      "\"#1 Single\" (2006) {Cats and Dogs (#1.4)}\t\tUSA:12 February 2006\n",
      "\"#1 Single\" (2006) {Finishing a Chapter (#1.5)}\t\tUSA:19 February 2006\n",
      "\"#1 Single\" (2006) {Is the Grass Greener? (#1.1)}\tUSA:22 January 2006\n",
      "\"#1 Single\" (2006) {Stay (#1.8)}\t\t\tUSA:19 March 2006\n",
      "\"#1 Single\" (2006) {The Rules of Dating (#1.3)}\t\tUSA:5 February 2006\n",
      "\"#1 Single\" (2006) {Timing Is Everything (#1.7)}\tUSA:12 March 2006\n",
      "\"#1 Single\" (2006) {Window Shopping (#1.2)}\t\tUSA:29 January 2006\n",
      "\"#1 Single\" (2006) {Wingman (#1.6)}\t\t\tUSA:26 February 2006\n",
      "\"#15SecondScare\" (2015) {Beauty Wrap}\t\t\tUSA:1 August 2016\n",
      "\"#15SecondScare\" (2015) {Bubbles of Blood (#1.17)}\tUSA:1 September 2016\n",
      "\"#15SecondScare\" (2015) {Don't Go Upstairs (#1.16)}\tUSA:1 September 2016\n",
      "\"#15SecondScare\" (2015) {First Time (#1.15)}\t\tUSA:1 September 2016\n",
      "\"#15SecondScare\" (2015) {Goober Lift}\t\t\tUSA:1 August 2016\n",
      "\"#15SecondScare\" (2015) {Good Night Sweetie}\t\tUSA:1 August 2016\n",
      "\"#15SecondScare\" (2015) {It's Me Jessica (#1.5)}\tUK:31 October 2015\n",
      "\"#15SecondScare\" (2015) {It's Me Jessica (#1.5)}\tUSA:17 January 2016\n",
      "\"#15SecondScare\" (2015) {Make OUt Point}\t\tUSA:1 August 2016\n",
      "\"#15SecondScare\" (2015) {The Devils Text}\t\tUSA:1 August 2016\n",
      "\"#15SecondScare\" (2015) {The Jogging Dead}\t\tUSA:1 August 2016\n",
      "\"#15SecondScare\" (2015) {Who Wants to Play with the Rabbit? (#1.2)}\tUSA:23 March 2016\t(Los Angeles, California)\n",
      "\"#1MinuteNightmare\" (2014)\t\t\t\tUK:1 October 2014\t(internet)\n",
      "\"#1MinuteNightmare\" (2014) {Burning Man (#1.2)}\t\tUK:1 November 2014\n",
      "\"#1MinuteNightmare\" (2014) {Get Wet (#1.3)}\t\tUK:1 December 2014\n",
      "\"#1MinuteNightmare\" (2014) {Junction. 51 (#1.7)}\tUK:1 April 2015\n",
      "\"#1MinuteNightmare\" (2014) {Meat Feast (#1.9)}\t\tUK:1 June 2015\n",
      "\"#1MinuteNightmare\" (2014) {Mr Creak (#1.6)}\t\tUK:1 March 2015\n",
      "\"#1MinuteNightmare\" (2014) {My Sweet Valentine (#1.5)}\tUK:1 February 2015\n",
      "\"#1MinuteNightmare\" (2014) {Night Crawler (#1.10)}\tUK:1 July 2015\n",
      "\"#1MinuteNightmare\" (2014) {Night Light (#1.1)}\t\tUK:1 October 2014\n",
      "\"#1MinuteNightmare\" (2014) {Play Time (#1.11)}\t\tUK:1 August 2015\n",
      "\"#1MinuteNightmare\" (2014) {Size Matters (#1.8)}\tUK:1 May 2015\n",
      "\"#1MinuteNightmare\" (2014) {Trust Me I'm a Doctor (#1.12)}\tUK:1 September 2015\n",
      "\"#1MinuteNightmare\" (2014) {Want to See Something Cool (#1.4)}\tUK:1 January 2015\n",
      "\"#2G1S\" (2016)\t\t\t\t\t\tUSA:14 October 2016\t(internet)\n"
     ]
    }
   ],
   "source": [
    "for i in range(50):\n",
    "    print(release_data_original[i])"
   ]
  },
  {
   "cell_type": "code",
   "execution_count": 53,
   "metadata": {},
   "outputs": [
    {
     "data": {
      "text/plain": [
       "'\"!Next?\" (1994)\\t\\t\\t\\t\\t\\tItaly:1 January 1994'"
      ]
     },
     "execution_count": 53,
     "metadata": {},
     "output_type": "execute_result"
    }
   ],
   "source": [
    "# Actual data starts on line 15 or index 14\n",
    "release_data_original[14] # format is 'Movie <tabs> Country:Date'\n",
    "# for ease of access/subsets etc, I'll make 2 columns month, year"
   ]
  },
  {
   "cell_type": "code",
   "execution_count": 54,
   "metadata": {},
   "outputs": [],
   "source": [
    "# After inspection, some dates only have either month and year, year, or month year and day\n",
    "# given a date string, return a list of just month and year\n",
    "\n",
    "def get_date_parts(date_string):\n",
    "    result = ['NA', 'NA']\n",
    "    parts = re.split('\\\\s+', date_string) \n",
    "    \n",
    "    if len(parts) == 1: # only year found\n",
    "        result[1] = parts[0]\n",
    "    elif len(parts) == 2: # month and year found\n",
    "        result = parts \n",
    "    elif len(parts) == 3: # day month year found\n",
    "        result = parts[1:]\n",
    "    return result"
   ]
  },
  {
   "cell_type": "code",
   "execution_count": 55,
   "metadata": {},
   "outputs": [],
   "source": [
    "def write_new_release_file(release_data_original): # list of lines \n",
    "    release_file = open(NEW_FILES_DIRECTORY + 'releases.csv', 'w')\n",
    "    release_file.write('movie,month,year\\n') # write a header\n",
    "    \n",
    "    # internet doesn't seem to have anything, not reliable\n",
    "    skips = ('(tv)', '(v)', '(vg)', 're-release', 'blu-ray')\n",
    "    \n",
    "    for i in range(14, len(release_data_original)):\n",
    "        line = release_data_original[i]\n",
    "        \n",
    "        if line.startswith('\"'):\n",
    "            continue\n",
    "        try: # some lines may not be in correct format\n",
    "            parts = [x.strip() for x in re.split('\\\\t+', line)] # split by 1 or more tabs\n",
    "            name, release_string = parts[:2]\n",
    "            if any(skip in name.lower() for skip in skips): # check is any of the skippables are in the name\n",
    "                continue\n",
    "            \n",
    "            _, date_string = release_string.split(':')\n",
    "            \n",
    "            month, year = get_date_parts(date_string)\n",
    "            \n",
    "            \n",
    "            if ',' in name: # surround in quote if name already has comma\n",
    "                release_file.write(f'\"{name}\",{month},{year}\\n') \n",
    "            else:\n",
    "                release_file.write(f'{name},{month},{year}\\n') \n",
    "        except Exception as e: # tried to process this line, but failed    \n",
    "            print(line, e)\n",
    "    \n",
    "    release_file.close()"
   ]
  },
  {
   "cell_type": "code",
   "execution_count": 56,
   "metadata": {},
   "outputs": [
    {
     "name": "stdout",
     "output_type": "stream",
     "text": [
      "-------------------------------------------------------------------------------- not enough values to unpack (expected 2, got 1)\n"
     ]
    }
   ],
   "source": [
    "write_new_release_file(release_data_original)"
   ]
  },
  {
   "cell_type": "code",
   "execution_count": 57,
   "metadata": {},
   "outputs": [
    {
     "data": {
      "text/plain": [
       "'New file has 1724266 titles'"
      ]
     },
     "execution_count": 57,
     "metadata": {},
     "output_type": "execute_result"
    }
   ],
   "source": [
    "release_data = pd.read_csv(NEW_FILES_DIRECTORY + \"releases.csv\")\n",
    "rows, _ = release_data.shape \n",
    "f'New file has {rows} titles'"
   ]
  },
  {
   "cell_type": "code",
   "execution_count": 58,
   "metadata": {},
   "outputs": [
    {
     "data": {
      "text/html": [
       "<div>\n",
       "<style scoped>\n",
       "    .dataframe tbody tr th:only-of-type {\n",
       "        vertical-align: middle;\n",
       "    }\n",
       "\n",
       "    .dataframe tbody tr th {\n",
       "        vertical-align: top;\n",
       "    }\n",
       "\n",
       "    .dataframe thead th {\n",
       "        text-align: right;\n",
       "    }\n",
       "</style>\n",
       "<table border=\"1\" class=\"dataframe\">\n",
       "  <thead>\n",
       "    <tr style=\"text-align: right;\">\n",
       "      <th></th>\n",
       "      <th>movie</th>\n",
       "      <th>month</th>\n",
       "      <th>year</th>\n",
       "    </tr>\n",
       "  </thead>\n",
       "  <tbody>\n",
       "    <tr>\n",
       "      <th>326409</th>\n",
       "      <td>Dead Body (2017)</td>\n",
       "      <td>October</td>\n",
       "      <td>2017</td>\n",
       "    </tr>\n",
       "    <tr>\n",
       "      <th>222362</th>\n",
       "      <td>Cabin Fever 2: Spring Fever (2009)</td>\n",
       "      <td>February</td>\n",
       "      <td>2010</td>\n",
       "    </tr>\n",
       "    <tr>\n",
       "      <th>899990</th>\n",
       "      <td>Maut Ka Jungle (2003)</td>\n",
       "      <td>January</td>\n",
       "      <td>2003</td>\n",
       "    </tr>\n",
       "    <tr>\n",
       "      <th>1159785</th>\n",
       "      <td>Robo-Dog (2015)</td>\n",
       "      <td>October</td>\n",
       "      <td>2015</td>\n",
       "    </tr>\n",
       "    <tr>\n",
       "      <th>1485120</th>\n",
       "      <td>The Prophet (2014)</td>\n",
       "      <td>June</td>\n",
       "      <td>2015</td>\n",
       "    </tr>\n",
       "    <tr>\n",
       "      <th>186720</th>\n",
       "      <td>Bloody Crisis (2002)</td>\n",
       "      <td>February</td>\n",
       "      <td>2002</td>\n",
       "    </tr>\n",
       "    <tr>\n",
       "      <th>490980</th>\n",
       "      <td>Freak (2011/II)</td>\n",
       "      <td>May</td>\n",
       "      <td>2011</td>\n",
       "    </tr>\n",
       "    <tr>\n",
       "      <th>511864</th>\n",
       "      <td>Gekijouban Kamen raidâ Wizâdo in majikku rando...</td>\n",
       "      <td>August</td>\n",
       "      <td>2013</td>\n",
       "    </tr>\n",
       "    <tr>\n",
       "      <th>407132</th>\n",
       "      <td>Eki (1981)</td>\n",
       "      <td>April</td>\n",
       "      <td>2000</td>\n",
       "    </tr>\n",
       "    <tr>\n",
       "      <th>940894</th>\n",
       "      <td>Morceaux de conversations avec Jean-Luc Godard...</td>\n",
       "      <td>August</td>\n",
       "      <td>2007</td>\n",
       "    </tr>\n",
       "    <tr>\n",
       "      <th>1657411</th>\n",
       "      <td>We're Having Sex (2013)</td>\n",
       "      <td>January</td>\n",
       "      <td>2013</td>\n",
       "    </tr>\n",
       "    <tr>\n",
       "      <th>621919</th>\n",
       "      <td>I earini synaxis ton agrofylakon (1999)</td>\n",
       "      <td>November</td>\n",
       "      <td>2009</td>\n",
       "    </tr>\n",
       "    <tr>\n",
       "      <th>593595</th>\n",
       "      <td>Holy Man: The USA vs Douglas White (2011)</td>\n",
       "      <td>September</td>\n",
       "      <td>2011</td>\n",
       "    </tr>\n",
       "    <tr>\n",
       "      <th>605086</th>\n",
       "      <td>How Much Does Your Building Weigh, Mr Foster? ...</td>\n",
       "      <td>October</td>\n",
       "      <td>2010</td>\n",
       "    </tr>\n",
       "    <tr>\n",
       "      <th>284582</th>\n",
       "      <td>Contenedor (2012)</td>\n",
       "      <td>September</td>\n",
       "      <td>2012</td>\n",
       "    </tr>\n",
       "    <tr>\n",
       "      <th>706924</th>\n",
       "      <td>Karai norte (2009)</td>\n",
       "      <td>November</td>\n",
       "      <td>2009</td>\n",
       "    </tr>\n",
       "    <tr>\n",
       "      <th>1132140</th>\n",
       "      <td>Rats by M.R. James (2011)</td>\n",
       "      <td>January</td>\n",
       "      <td>2011</td>\n",
       "    </tr>\n",
       "    <tr>\n",
       "      <th>955420</th>\n",
       "      <td>Musiek vir die Agtergrond (2013)</td>\n",
       "      <td>December</td>\n",
       "      <td>2013</td>\n",
       "    </tr>\n",
       "    <tr>\n",
       "      <th>671770</th>\n",
       "      <td>Jack the Giant Slayer (2013)</td>\n",
       "      <td>March</td>\n",
       "      <td>2013</td>\n",
       "    </tr>\n",
       "    <tr>\n",
       "      <th>1692240</th>\n",
       "      <td>Xin mi gong (2014)</td>\n",
       "      <td>March</td>\n",
       "      <td>2015</td>\n",
       "    </tr>\n",
       "  </tbody>\n",
       "</table>\n",
       "</div>"
      ],
      "text/plain": [
       "                                                     movie      month  year\n",
       "326409                                    Dead Body (2017)    October  2017\n",
       "222362                  Cabin Fever 2: Spring Fever (2009)   February  2010\n",
       "899990                               Maut Ka Jungle (2003)    January  2003\n",
       "1159785                                    Robo-Dog (2015)    October  2015\n",
       "1485120                                 The Prophet (2014)       June  2015\n",
       "186720                                Bloody Crisis (2002)   February  2002\n",
       "490980                                     Freak (2011/II)        May  2011\n",
       "511864   Gekijouban Kamen raidâ Wizâdo in majikku rando...     August  2013\n",
       "407132                                          Eki (1981)      April  2000\n",
       "940894   Morceaux de conversations avec Jean-Luc Godard...     August  2007\n",
       "1657411                            We're Having Sex (2013)    January  2013\n",
       "621919             I earini synaxis ton agrofylakon (1999)   November  2009\n",
       "593595           Holy Man: The USA vs Douglas White (2011)  September  2011\n",
       "605086   How Much Does Your Building Weigh, Mr Foster? ...    October  2010\n",
       "284582                                   Contenedor (2012)  September  2012\n",
       "706924                                  Karai norte (2009)   November  2009\n",
       "1132140                          Rats by M.R. James (2011)    January  2011\n",
       "955420                    Musiek vir die Agtergrond (2013)   December  2013\n",
       "671770                        Jack the Giant Slayer (2013)      March  2013\n",
       "1692240                                 Xin mi gong (2014)      March  2015"
      ]
     },
     "execution_count": 58,
     "metadata": {},
     "output_type": "execute_result"
    }
   ],
   "source": [
    "release_data.sample(20)"
   ]
  },
  {
   "cell_type": "code",
   "execution_count": 61,
   "metadata": {},
   "outputs": [
    {
     "data": {
      "text/html": [
       "<div>\n",
       "<style scoped>\n",
       "    .dataframe tbody tr th:only-of-type {\n",
       "        vertical-align: middle;\n",
       "    }\n",
       "\n",
       "    .dataframe tbody tr th {\n",
       "        vertical-align: top;\n",
       "    }\n",
       "\n",
       "    .dataframe thead th {\n",
       "        text-align: right;\n",
       "    }\n",
       "</style>\n",
       "<table border=\"1\" class=\"dataframe\">\n",
       "  <thead>\n",
       "    <tr style=\"text-align: right;\">\n",
       "      <th></th>\n",
       "      <th>movie</th>\n",
       "      <th>keyword</th>\n",
       "    </tr>\n",
       "  </thead>\n",
       "  <tbody>\n",
       "    <tr>\n",
       "      <th>201788</th>\n",
       "      <td>Andel Páne 2 (2016)</td>\n",
       "      <td>fairy-tale</td>\n",
       "    </tr>\n",
       "    <tr>\n",
       "      <th>1183260</th>\n",
       "      <td>Guilt (????)</td>\n",
       "      <td>surrealism</td>\n",
       "    </tr>\n",
       "    <tr>\n",
       "      <th>1957968</th>\n",
       "      <td>Misconceptions (????)</td>\n",
       "      <td>fighting</td>\n",
       "    </tr>\n",
       "    <tr>\n",
       "      <th>2295537</th>\n",
       "      <td>Poeten og Lillemor (1959)</td>\n",
       "      <td>name-in-title</td>\n",
       "    </tr>\n",
       "    <tr>\n",
       "      <th>1976506</th>\n",
       "      <td>Money Monster (2016)</td>\n",
       "      <td>negotiator</td>\n",
       "    </tr>\n",
       "    <tr>\n",
       "      <th>1300198</th>\n",
       "      <td>Hopla på sengekanten (1976)</td>\n",
       "      <td>blow-job</td>\n",
       "    </tr>\n",
       "    <tr>\n",
       "      <th>1833984</th>\n",
       "      <td>Lustful Illusions (2011)</td>\n",
       "      <td>woman</td>\n",
       "    </tr>\n",
       "    <tr>\n",
       "      <th>2832901</th>\n",
       "      <td>Tatarin (2001)</td>\n",
       "      <td>sex</td>\n",
       "    </tr>\n",
       "    <tr>\n",
       "      <th>51105</th>\n",
       "      <td>A Bathtub Marriage (1917)</td>\n",
       "      <td>bathtub</td>\n",
       "    </tr>\n",
       "    <tr>\n",
       "      <th>339314</th>\n",
       "      <td>Bells of San Angelo (1947)</td>\n",
       "      <td>silver-mine</td>\n",
       "    </tr>\n",
       "  </tbody>\n",
       "</table>\n",
       "</div>"
      ],
      "text/plain": [
       "                               movie        keyword\n",
       "201788           Andel Páne 2 (2016)     fairy-tale\n",
       "1183260                 Guilt (????)     surrealism\n",
       "1957968        Misconceptions (????)       fighting\n",
       "2295537    Poeten og Lillemor (1959)  name-in-title\n",
       "1976506         Money Monster (2016)     negotiator\n",
       "1300198  Hopla på sengekanten (1976)       blow-job\n",
       "1833984     Lustful Illusions (2011)          woman\n",
       "2832901               Tatarin (2001)            sex\n",
       "51105      A Bathtub Marriage (1917)        bathtub\n",
       "339314    Bells of San Angelo (1947)    silver-mine"
      ]
     },
     "execution_count": 61,
     "metadata": {},
     "output_type": "execute_result"
    }
   ],
   "source": [
    "keywords_data.sample(10)"
   ]
  },
  {
   "cell_type": "code",
   "execution_count": 81,
   "metadata": {},
   "outputs": [],
   "source": [
    "# Make a mapping of movie to year\n",
    "year_map = dict(zip(movie_data.movie.values, movie_data.year.values))"
   ]
  },
  {
   "cell_type": "code",
   "execution_count": 91,
   "metadata": {},
   "outputs": [],
   "source": [
    "keyword_years = [None] * keywords_data.shape[0]\n",
    "\n",
    "for i, movie in enumerate(keywords_data.movie.values):\n",
    "    try:\n",
    "        keyword_years[i] = year_map[movie]\n",
    "    except:\n",
    "        pass\n",
    "    \n",
    "keywords_data['year'] = keyword_years"
   ]
  },
  {
   "cell_type": "code",
   "execution_count": 93,
   "metadata": {},
   "outputs": [],
   "source": [
    "keywords_data.year.dropna(inplace=True)"
   ]
  },
  {
   "cell_type": "code",
   "execution_count": 94,
   "metadata": {},
   "outputs": [],
   "source": [
    "keywords_data.year = keywords_data.year.astype('int64')"
   ]
  },
  {
   "cell_type": "code",
   "execution_count": 95,
   "metadata": {},
   "outputs": [
    {
     "data": {
      "text/html": [
       "<div>\n",
       "<style scoped>\n",
       "    .dataframe tbody tr th:only-of-type {\n",
       "        vertical-align: middle;\n",
       "    }\n",
       "\n",
       "    .dataframe tbody tr th {\n",
       "        vertical-align: top;\n",
       "    }\n",
       "\n",
       "    .dataframe thead th {\n",
       "        text-align: right;\n",
       "    }\n",
       "</style>\n",
       "<table border=\"1\" class=\"dataframe\">\n",
       "  <thead>\n",
       "    <tr style=\"text-align: right;\">\n",
       "      <th></th>\n",
       "      <th>movie</th>\n",
       "      <th>keyword</th>\n",
       "      <th>year</th>\n",
       "    </tr>\n",
       "  </thead>\n",
       "  <tbody>\n",
       "    <tr>\n",
       "      <th>1248885</th>\n",
       "      <td>Hellbound (1994)</td>\n",
       "      <td>neo-noir</td>\n",
       "      <td>1994.0</td>\n",
       "    </tr>\n",
       "    <tr>\n",
       "      <th>18328</th>\n",
       "      <td>1941 (1979)</td>\n",
       "      <td>military</td>\n",
       "      <td>1979.0</td>\n",
       "    </tr>\n",
       "    <tr>\n",
       "      <th>3676119</th>\n",
       "      <td>WolfCop (2014)</td>\n",
       "      <td>werewolf</td>\n",
       "      <td>2014.0</td>\n",
       "    </tr>\n",
       "    <tr>\n",
       "      <th>2546722</th>\n",
       "      <td>Second Blood (2016)</td>\n",
       "      <td>bare-chested-male-bondage</td>\n",
       "      <td>2016.0</td>\n",
       "    </tr>\n",
       "    <tr>\n",
       "      <th>150952</th>\n",
       "      <td>Alia (2015/I)</td>\n",
       "      <td>independent-film</td>\n",
       "      <td>2015.0</td>\n",
       "    </tr>\n",
       "    <tr>\n",
       "      <th>1792883</th>\n",
       "      <td>Lolotte (2013)</td>\n",
       "      <td>calling-the-police</td>\n",
       "      <td>2013.0</td>\n",
       "    </tr>\n",
       "    <tr>\n",
       "      <th>805283</th>\n",
       "      <td>Dirty Deeds (2005)</td>\n",
       "      <td>video-camera</td>\n",
       "      <td>2005.0</td>\n",
       "    </tr>\n",
       "    <tr>\n",
       "      <th>2608733</th>\n",
       "      <td>Shut Up White Boy (2002)</td>\n",
       "      <td>lesbian</td>\n",
       "      <td>2002.0</td>\n",
       "    </tr>\n",
       "    <tr>\n",
       "      <th>1631462</th>\n",
       "      <td>La destruction des campagnols (1925)</td>\n",
       "      <td>microbe</td>\n",
       "      <td>1925.0</td>\n",
       "    </tr>\n",
       "    <tr>\n",
       "      <th>1051762</th>\n",
       "      <td>Fortified (2008)</td>\n",
       "      <td>alternative</td>\n",
       "      <td>2008.0</td>\n",
       "    </tr>\n",
       "    <tr>\n",
       "      <th>1900383</th>\n",
       "      <td>Mastodontul (1975)</td>\n",
       "      <td>year-1946</td>\n",
       "      <td>1975.0</td>\n",
       "    </tr>\n",
       "    <tr>\n",
       "      <th>310699</th>\n",
       "      <td>Basket Case (1982)</td>\n",
       "      <td>doctor</td>\n",
       "      <td>1982.0</td>\n",
       "    </tr>\n",
       "    <tr>\n",
       "      <th>2776046</th>\n",
       "      <td>Sundae in New York (1983)</td>\n",
       "      <td>hot-dog</td>\n",
       "      <td>1983.0</td>\n",
       "    </tr>\n",
       "    <tr>\n",
       "      <th>3001254</th>\n",
       "      <td>The English Patient (1996)</td>\n",
       "      <td>loyalty</td>\n",
       "      <td>1996.0</td>\n",
       "    </tr>\n",
       "    <tr>\n",
       "      <th>2762571</th>\n",
       "      <td>Student Short Film (2008)</td>\n",
       "      <td>headphones</td>\n",
       "      <td>2008.0</td>\n",
       "    </tr>\n",
       "    <tr>\n",
       "      <th>689887</th>\n",
       "      <td>Dance of the Weed (1941)</td>\n",
       "      <td>anthropomorphism</td>\n",
       "      <td>1941.0</td>\n",
       "    </tr>\n",
       "    <tr>\n",
       "      <th>432895</th>\n",
       "      <td>Bound by Honor (1993)</td>\n",
       "      <td>artist</td>\n",
       "      <td>1993.0</td>\n",
       "    </tr>\n",
       "    <tr>\n",
       "      <th>1855078</th>\n",
       "      <td>Magician: The Astonishing Life and Work of Ors...</td>\n",
       "      <td>doctor</td>\n",
       "      <td>2014.0</td>\n",
       "    </tr>\n",
       "    <tr>\n",
       "      <th>3550462</th>\n",
       "      <td>Vampire in Vegas (2009)</td>\n",
       "      <td>vampire</td>\n",
       "      <td>2009.0</td>\n",
       "    </tr>\n",
       "    <tr>\n",
       "      <th>2075140</th>\n",
       "      <td>New Jack City (1991)</td>\n",
       "      <td>death-of-friend</td>\n",
       "      <td>1991.0</td>\n",
       "    </tr>\n",
       "  </tbody>\n",
       "</table>\n",
       "</div>"
      ],
      "text/plain": [
       "                                                     movie  \\\n",
       "1248885                                   Hellbound (1994)   \n",
       "18328                                          1941 (1979)   \n",
       "3676119                                     WolfCop (2014)   \n",
       "2546722                                Second Blood (2016)   \n",
       "150952                                       Alia (2015/I)   \n",
       "1792883                                     Lolotte (2013)   \n",
       "805283                                  Dirty Deeds (2005)   \n",
       "2608733                           Shut Up White Boy (2002)   \n",
       "1631462               La destruction des campagnols (1925)   \n",
       "1051762                                   Fortified (2008)   \n",
       "1900383                                 Mastodontul (1975)   \n",
       "310699                                  Basket Case (1982)   \n",
       "2776046                          Sundae in New York (1983)   \n",
       "3001254                         The English Patient (1996)   \n",
       "2762571                          Student Short Film (2008)   \n",
       "689887                            Dance of the Weed (1941)   \n",
       "432895                               Bound by Honor (1993)   \n",
       "1855078  Magician: The Astonishing Life and Work of Ors...   \n",
       "3550462                            Vampire in Vegas (2009)   \n",
       "2075140                               New Jack City (1991)   \n",
       "\n",
       "                           keyword    year  \n",
       "1248885                   neo-noir  1994.0  \n",
       "18328                     military  1979.0  \n",
       "3676119                   werewolf  2014.0  \n",
       "2546722  bare-chested-male-bondage  2016.0  \n",
       "150952            independent-film  2015.0  \n",
       "1792883         calling-the-police  2013.0  \n",
       "805283                video-camera  2005.0  \n",
       "2608733                    lesbian  2002.0  \n",
       "1631462                    microbe  1925.0  \n",
       "1051762                alternative  2008.0  \n",
       "1900383                  year-1946  1975.0  \n",
       "310699                      doctor  1982.0  \n",
       "2776046                    hot-dog  1983.0  \n",
       "3001254                    loyalty  1996.0  \n",
       "2762571                 headphones  2008.0  \n",
       "689887            anthropomorphism  1941.0  \n",
       "432895                      artist  1993.0  \n",
       "1855078                     doctor  2014.0  \n",
       "3550462                    vampire  2009.0  \n",
       "2075140            death-of-friend  1991.0  "
      ]
     },
     "execution_count": 95,
     "metadata": {},
     "output_type": "execute_result"
    }
   ],
   "source": [
    "keywords_data.sample(20)"
   ]
  },
  {
   "cell_type": "code",
   "execution_count": 97,
   "metadata": {},
   "outputs": [],
   "source": [
    "keywords_data.to_csv(NEW_FILES_DIRECTORY + 'keywords.csv', index=False)"
   ]
  },
  {
   "cell_type": "code",
   "execution_count": null,
   "metadata": {},
   "outputs": [],
   "source": []
  }
 ],
 "metadata": {
  "kernelspec": {
   "display_name": "Python 3",
   "language": "python",
   "name": "python3"
  },
  "language_info": {
   "codemirror_mode": {
    "name": "ipython",
    "version": 3
   },
   "file_extension": ".py",
   "mimetype": "text/x-python",
   "name": "python",
   "nbconvert_exporter": "python",
   "pygments_lexer": "ipython3",
   "version": "3.7.6"
  }
 },
 "nbformat": 4,
 "nbformat_minor": 2
}
