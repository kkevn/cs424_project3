{
 "cells": [
  {
   "cell_type": "code",
   "execution_count": 1,
   "metadata": {},
   "outputs": [],
   "source": [
    "#######################################\n",
    "# CS 424 - Project 3\n",
    "# Kevin Kowalski\n",
    "# Samuel Kajah\n",
    "# Vijay Vemu\n",
    "#######################################\n",
    "#\n",
    "# This file contains the code to clean\n",
    "# the original data set. It outputs\n",
    "# the necessary plots and updated data\n",
    "# set to be used by shiny.\n",
    "#\n",
    "# This file was used for testing and \n",
    "# plotting before using RStudio for a\n",
    "# dashboard.\n",
    "#\n",
    "#######################################"
   ]
  },
  {
   "cell_type": "code",
   "execution_count": 2,
   "metadata": {},
   "outputs": [
    {
     "name": "stderr",
     "output_type": "stream",
     "text": [
      "Warning message:\n",
      "\"package 'comprehenr' was built under R version 3.6.2\"Warning message:\n",
      "\"package 'dplyr' was built under R version 3.6.2\"\n",
      "Attaching package: 'dplyr'\n",
      "\n",
      "The following objects are masked from 'package:stats':\n",
      "\n",
      "    filter, lag\n",
      "\n",
      "The following objects are masked from 'package:base':\n",
      "\n",
      "    intersect, setdiff, setequal, union\n",
      "\n",
      "Warning message:\n",
      "\"package 'ggplot2' was built under R version 3.6.3\"Warning message:\n",
      "\"package 'hashmap' was built under R version 3.6.2\"Warning message:\n",
      "\"package 'lubridate' was built under R version 3.6.2\"\n",
      "Attaching package: 'lubridate'\n",
      "\n",
      "The following object is masked from 'package:base':\n",
      "\n",
      "    date\n",
      "\n",
      "Warning message:\n",
      "\"package 'stringr' was built under R version 3.6.2\"Warning message:\n",
      "\"package 'tidyverse' was built under R version 3.6.3\"-- Attaching packages --------------------------------------- tidyverse 1.3.0 --\n",
      "v tibble  2.1.3     v purrr   0.3.3\n",
      "v tidyr   1.0.2     v forcats 0.5.0\n",
      "v readr   1.3.1     \n",
      "Warning message:\n",
      "\"package 'tibble' was built under R version 3.6.2\"Warning message:\n",
      "\"package 'tidyr' was built under R version 3.6.3\"Warning message:\n",
      "\"package 'readr' was built under R version 3.6.2\"Warning message:\n",
      "\"package 'purrr' was built under R version 3.6.2\"Warning message:\n",
      "\"package 'forcats' was built under R version 3.6.3\"-- Conflicts ------------------------------------------ tidyverse_conflicts() --\n",
      "x lubridate::as.difftime() masks base::as.difftime()\n",
      "x lubridate::date()        masks base::date()\n",
      "x dplyr::filter()          masks stats::filter()\n",
      "x lubridate::intersect()   masks base::intersect()\n",
      "x dplyr::lag()             masks stats::lag()\n",
      "x lubridate::setdiff()     masks base::setdiff()\n",
      "x lubridate::union()       masks base::union()\n"
     ]
    }
   ],
   "source": [
    "# import libraries\n",
    "library(comprehenr)\n",
    "library(dplyr)\n",
    "library(ggplot2)\n",
    "library(hashmap)\n",
    "library(lubridate)\n",
    "library(stringr)\n",
    "library(tidyverse)"
   ]
  },
  {
   "cell_type": "code",
   "execution_count": 3,
   "metadata": {},
   "outputs": [],
   "source": [
    "# read in the combined RDS file\n",
    "data <- readRDS(file = \"combined_data.rds\")\n",
    "\n",
    "# LEAVE COMMENTED, UNLESS YOU NEED TO REMAKE FILE\n",
    "# keywords table only for movies found in combined data table\n",
    "#keywords_subset <- subset(df_keywords, movie %in% data$movie)\n",
    "#write.csv(keywords_subset, file = 'keywords_subset.csv')\n",
    "\n",
    "# read in the subsetted keywords CSV file\n",
    "keywords_subset = read.csv('keywords_subset.csv')"
   ]
  },
  {
   "cell_type": "code",
   "execution_count": 4,
   "metadata": {},
   "outputs": [
    {
     "name": "stdout",
     "output_type": "stream",
     "text": [
      "[1] \"---- data, n=334427\"\n",
      "[1] \"---- unique movies, n=36596\"\n"
     ]
    }
   ],
   "source": [
    "# output number of entries in data\n",
    "total_data <- count(data)\n",
    "print(paste0(\"---- data, n=\", total_data))\n",
    "unique_films <- length(unique(data$movie))\n",
    "print(paste0(\"---- unique movies, n=\", unique_films))"
   ]
  },
  {
   "cell_type": "code",
   "execution_count": 5,
   "metadata": {},
   "outputs": [],
   "source": [
    "# get list of movies where none is duplicated (used for times where you only want to account for a movie once, such as runtime average)\n",
    "unique_movies <- subset(data, !duplicated(subset(data, select = movie)))"
   ]
  },
  {
   "cell_type": "code",
   "execution_count": 6,
   "metadata": {},
   "outputs": [
    {
     "data": {
      "text/html": [
       "<table>\n",
       "<thead><tr><th></th><th scope=col>movie</th><th scope=col>year</th><th scope=col>month</th><th scope=col>genre</th><th scope=col>runtime</th><th scope=col>rating</th></tr></thead>\n",
       "<tbody>\n",
       "\t<tr><th scope=row>214</th><td>#FollowFriday (2016)</td><td>2016                </td><td>September           </td><td>Thriller            </td><td> 90                 </td><td>USA:Unrated         </td></tr>\n",
       "\t<tr><th scope=row>698</th><td>$ (1971)            </td><td>1971                </td><td>December            </td><td>Comedy              </td><td>121                 </td><td>USA:R               </td></tr>\n",
       "\t<tr><th scope=row>700</th><td>$ (1971)            </td><td>1971                </td><td>December            </td><td>Crime               </td><td>121                 </td><td>USA:R               </td></tr>\n",
       "\t<tr><th scope=row>702</th><td>$ (1971)            </td><td>1971                </td><td>December            </td><td>Drama               </td><td>121                 </td><td>USA:R               </td></tr>\n",
       "\t<tr><th scope=row>714</th><td>$10 Raise (1935)    </td><td>1935                </td><td>May                 </td><td>Comedy              </td><td> 70                 </td><td>USA:Approved        </td></tr>\n",
       "</tbody>\n",
       "</table>\n"
      ],
      "text/latex": [
       "\\begin{tabular}{r|llllll}\n",
       "  & movie & year & month & genre & runtime & rating\\\\\n",
       "\\hline\n",
       "\t214 & \\#FollowFriday (2016) & 2016                   & September              & Thriller               &  90                    & USA:Unrated           \\\\\n",
       "\t698 & \\$ (1971)             & 1971                   & December               & Comedy                 & 121                    & USA:R                 \\\\\n",
       "\t700 & \\$ (1971)             & 1971                   & December               & Crime                  & 121                    & USA:R                 \\\\\n",
       "\t702 & \\$ (1971)             & 1971                   & December               & Drama                  & 121                    & USA:R                 \\\\\n",
       "\t714 & \\$10 Raise (1935)     & 1935                   & May                    & Comedy                 &  70                    & USA:Approved          \\\\\n",
       "\\end{tabular}\n"
      ],
      "text/markdown": [
       "\n",
       "| <!--/--> | movie | year | month | genre | runtime | rating |\n",
       "|---|---|---|---|---|---|---|\n",
       "| 214 | #FollowFriday (2016) | 2016                 | September            | Thriller             |  90                  | USA:Unrated          |\n",
       "| 698 | $ (1971)             | 1971                 | December             | Comedy               | 121                  | USA:R                |\n",
       "| 700 | $ (1971)             | 1971                 | December             | Crime                | 121                  | USA:R                |\n",
       "| 702 | $ (1971)             | 1971                 | December             | Drama                | 121                  | USA:R                |\n",
       "| 714 | $10 Raise (1935)     | 1935                 | May                  | Comedy               |  70                  | USA:Approved         |\n",
       "\n"
      ],
      "text/plain": [
       "    movie                year month     genre    runtime rating      \n",
       "214 #FollowFriday (2016) 2016 September Thriller  90     USA:Unrated \n",
       "698 $ (1971)             1971 December  Comedy   121     USA:R       \n",
       "700 $ (1971)             1971 December  Crime    121     USA:R       \n",
       "702 $ (1971)             1971 December  Drama    121     USA:R       \n",
       "714 $10 Raise (1935)     1935 May       Comedy    70     USA:Approved"
      ]
     },
     "metadata": {},
     "output_type": "display_data"
    },
    {
     "data": {
      "text/html": [
       "<table>\n",
       "<thead><tr><th scope=col>movie</th><th scope=col>year</th><th scope=col>month</th><th scope=col>genre</th><th scope=col>runtime</th><th scope=col>rating</th></tr></thead>\n",
       "<tbody>\n",
       "\t<tr><td>Hard Cash (2002)                </td><td>2002                            </td><td>December                        </td><td>Action                          </td><td>116                             </td><td>USA:R                           </td></tr>\n",
       "\t<tr><td><span style=white-space:pre-wrap>Tom &amp; Thomas (2002)             </span></td><td>2002                                                                        </td><td><span style=white-space:pre-wrap>January  </span>                           </td><td><span style=white-space:pre-wrap>Family   </span>                           </td><td>110                                                                         </td><td><span style=white-space:pre-wrap>USA:PG      </span>                        </td></tr>\n",
       "\t<tr><td>Silent Shame (2009)             </td><td>2009                            </td><td>November                        </td><td>Drama                           </td><td> 90                             </td><td>USA:R                           </td></tr>\n",
       "\t<tr><td>Young Man with a Horn (1950)    </td><td>1950                            </td><td>March                           </td><td>Biography                       </td><td>112                             </td><td>USA:Approved                    </td></tr>\n",
       "\t<tr><td>20 Million Miles to Earth (1957)</td><td>1957                            </td><td>September                       </td><td>Sci-Fi                          </td><td> 82                             </td><td>USA:Approved                    </td></tr>\n",
       "</tbody>\n",
       "</table>\n"
      ],
      "text/latex": [
       "\\begin{tabular}{r|llllll}\n",
       " movie & year & month & genre & runtime & rating\\\\\n",
       "\\hline\n",
       "\t Hard Cash (2002)                 & 2002                             & December                         & Action                           & 116                              & USA:R                           \\\\\n",
       "\t Tom \\& Thomas (2002)              & 2002                               & January                            & Family                             & 110                                & USA:PG                            \\\\\n",
       "\t Silent Shame (2009)              & 2009                             & November                         & Drama                            &  90                              & USA:R                           \\\\\n",
       "\t Young Man with a Horn (1950)     & 1950                             & March                            & Biography                        & 112                              & USA:Approved                    \\\\\n",
       "\t 20 Million Miles to Earth (1957) & 1957                             & September                        & Sci-Fi                           &  82                              & USA:Approved                    \\\\\n",
       "\\end{tabular}\n"
      ],
      "text/markdown": [
       "\n",
       "| movie | year | month | genre | runtime | rating |\n",
       "|---|---|---|---|---|---|\n",
       "| Hard Cash (2002)                 | 2002                             | December                         | Action                           | 116                              | USA:R                            |\n",
       "| Tom & Thomas (2002)              | 2002                             | January                          | Family                           | 110                              | USA:PG                           |\n",
       "| Silent Shame (2009)              | 2009                             | November                         | Drama                            |  90                              | USA:R                            |\n",
       "| Young Man with a Horn (1950)     | 1950                             | March                            | Biography                        | 112                              | USA:Approved                     |\n",
       "| 20 Million Miles to Earth (1957) | 1957                             | September                        | Sci-Fi                           |  82                              | USA:Approved                     |\n",
       "\n"
      ],
      "text/plain": [
       "  movie                            year month     genre     runtime\n",
       "1 Hard Cash (2002)                 2002 December  Action    116    \n",
       "2 Tom & Thomas (2002)              2002 January   Family    110    \n",
       "3 Silent Shame (2009)              2009 November  Drama      90    \n",
       "4 Young Man with a Horn (1950)     1950 March     Biography 112    \n",
       "5 20 Million Miles to Earth (1957) 1957 September Sci-Fi     82    \n",
       "  rating      \n",
       "1 USA:R       \n",
       "2 USA:PG      \n",
       "3 USA:R       \n",
       "4 USA:Approved\n",
       "5 USA:Approved"
      ]
     },
     "metadata": {},
     "output_type": "display_data"
    }
   ],
   "source": [
    "# preview the top 5 rows\n",
    "head(data, 5)\n",
    "\n",
    "# get a random sample of 5 rows\n",
    "sample_n(data, 5)"
   ]
  },
  {
   "cell_type": "code",
   "execution_count": 7,
   "metadata": {},
   "outputs": [
    {
     "name": "stdout",
     "output_type": "stream",
     "text": [
      "[1] \"---- years range from: 1912-2019\"\n"
     ]
    }
   ],
   "source": [
    "# get min and max years\n",
    "min_year_all <- min(data$year)\n",
    "max_year_all <- max(data$year)\n",
    "print(paste0(\"---- years range from: \", min_year_all, \"-\", max_year_all))"
   ]
  },
  {
   "cell_type": "code",
   "execution_count": 8,
   "metadata": {},
   "outputs": [
    {
     "name": "stdout",
     "output_type": "stream",
     "text": [
      "[1] \"---- decades range from: 1910-2010\"\n"
     ]
    }
   ],
   "source": [
    "# get min and max decades\n",
    "min_decade_all <- floor(min(data$year) / 10) * 10\n",
    "max_decade_all <- floor(max(data$year) / 10) * 10\n",
    "print(paste0(\"---- decades range from: \", min_decade_all, \"-\", max_decade_all))"
   ]
  },
  {
   "cell_type": "code",
   "execution_count": 9,
   "metadata": {},
   "outputs": [
    {
     "name": "stdout",
     "output_type": "stream",
     "text": [
      "[1] \"---- runtimes range from: 60-453 minutes\"\n"
     ]
    }
   ],
   "source": [
    "# get min and max runtimes\n",
    "min_runtime_all <- min(data$runtime)\n",
    "max_runtime_all <- max(data$runtime)\n",
    "print(paste0(\"---- runtimes range from: \", min_runtime_all, \"-\", max_runtime_all, \" minutes\"))"
   ]
  },
  {
   "cell_type": "code",
   "execution_count": 10,
   "metadata": {},
   "outputs": [],
   "source": [
    "############## COUNT/DISTRIBUTION TABLES BELOW ##############"
   ]
  },
  {
   "cell_type": "code",
   "execution_count": 11,
   "metadata": {},
   "outputs": [],
   "source": [
    "# function to get a count of movies from each year as a table (same as above)\n",
    "number_films_per_year = function(table) {\n",
    "    \n",
    "    # create empty dataframe of all years in range from calculated min to max\n",
    "    all_years <- data.frame(formatC(min_year_all:max_year_all, width = 2), 0)\n",
    "    names(all_years)[1] <- \"year\"\n",
    "    names(all_years)[2] <- \"count\"\n",
    "    all_years$year <- c(min_year_all:max_year_all)\n",
    "    \n",
    "    # make dataframe of available years and their frequency\n",
    "    by_year <- table %>% group_by(year) %>% summarize(count = n())\n",
    "    \n",
    "    # join the counts into the full range of years dataframe\n",
    "    by_year <- full_join(all_years, by_year, by = \"year\")\n",
    "    by_year[is.na(by_year)] <- 0\n",
    "    by_year$count.x <- NULL\n",
    "    names(by_year)[2] <- \"count\"\n",
    "    \n",
    "    # output info\n",
    "    total_films = as.numeric(sum(by_year$count))\n",
    "    print(paste0(\"---- total counted= \", total_films))\n",
    "    unique_years = as.numeric(count(by_year))\n",
    "    print(paste0(\"---- unique years= \", unique_years))\n",
    "    \n",
    "    # return the table of counts per year\n",
    "    by_year\n",
    "}\n",
    "\n",
    "# function to get a count of movies from each decade as a table\n",
    "number_films_per_decade = function(table) {\n",
    "    \n",
    "    # create empty dataframe of each decade in range from calculated min to max\n",
    "    all_decades <- data.frame(formatC(1:((max_decade_all - min_decade_all) / 10 + 1), width = 2), 0)\n",
    "    names(all_decades)[1] <- \"decade\"\n",
    "    names(all_decades)[2] <- \"count\"\n",
    "    all_decades$decade <- seq(from = min_decade_all, to = max_decade_all, by = 10)\n",
    "    \n",
    "    # INEFFICIENT NESTED LOOP, IDEALLY A GROUP_BY OR SOMETHING BETTER\n",
    "    # loop through each movie in given table\n",
    "    for (row in 1:as.numeric(count(table))) {\n",
    "        \n",
    "        # get the current movie's decade it belongs to\n",
    "        curr_decade = floor(table$year[row] / 10) * 10\n",
    "        \n",
    "        # loop through each decade\n",
    "        for (i in 1:as.numeric(count(all_decades))) {\n",
    "            \n",
    "            # increment the decade count for found decade\n",
    "            if (curr_decade == all_decades$decade[i]) {\n",
    "                all_decades$count[i] <- all_decades$count[i] + 1\n",
    "                break\n",
    "            }\n",
    "        }\n",
    "    }\n",
    "    \n",
    "    # output info\n",
    "    total_films = as.numeric(sum(all_decades$count))\n",
    "    print(paste0(\"---- total counted= \", total_films))\n",
    "    unique_decades = as.numeric(count(all_decades))\n",
    "    print(paste0(\"---- unique decades= \", unique_decades))\n",
    "    \n",
    "    # return the table of counts per decade\n",
    "    all_decades\n",
    "}\n",
    "\n",
    "# function to get a count of movies from each month as a table\n",
    "number_films_per_month = function(table) {\n",
    "    \n",
    "    # get a count of movies from each month\n",
    "    by_month <- table %>% group_by(month) %>% summarize(count = n())\n",
    "\n",
    "    # reorder months to be in order\n",
    "    by_month$month <- factor(by_month$month, levels = c(\"January\", \"February\", \"March\", \"April\", \"May\", \"June\", \"July\", \"August\", \"September\", \"October\", \"November\", \"December\"))\n",
    "    by_month <- by_month[order(by_month$month), ]\n",
    "\n",
    "    # output info\n",
    "    by_month\n",
    "    print(paste0(\"---- total counted= \", sum(by_month$count)))\n",
    "    unique_months = as.numeric(count(by_month))\n",
    "    print(paste0(\"---- unique months= \", unique_months))\n",
    "    \n",
    "    # return the table of counts per month\n",
    "    by_month\n",
    "}\n",
    "\n",
    "# function to get a distribution of runtimes as a table\n",
    "distribution_of_runtimes = function(table) {\n",
    "    \n",
    "    # create empty dataframe of all runtimes in range from min to max\n",
    "    all_runtimes <- data.frame(formatC(min_runtime_all:max_runtime_all, width = 2), 0)\n",
    "    names(all_runtimes)[1] <- \"runtime\"\n",
    "    names(all_runtimes)[2] <- \"count\"\n",
    "    all_runtimes$runtime <- c(min_runtime_all:max_runtime_all)\n",
    "\n",
    "    # make dataframe of available runtimes and their frequency\n",
    "    by_runtime <- table %>% group_by(runtime) %>% summarize(count = n())\n",
    "\n",
    "    # join the counts into the full range of years dataframe\n",
    "    by_runtime <- full_join(all_runtimes, by_runtime, by = \"runtime\")\n",
    "    by_runtime[is.na(by_runtime)] <- 0\n",
    "    by_runtime$count.x <- NULL\n",
    "    names(by_runtime)[2] <- \"count\"\n",
    "\n",
    "    # output info\n",
    "    head(by_runtime, 10)\n",
    "    print(paste0(\"---- total counted= \", sum(by_runtime$count)))\n",
    "    unique_runtimes = as.numeric(count(by_runtime))\n",
    "    print(paste0(\"---- unique runtimes= \", unique_runtimes))\n",
    "    \n",
    "    # return the distribution of runtimes\n",
    "    by_runtime\n",
    "}\n",
    "\n",
    "# function to get a distribution of certificates as a table\n",
    "distribution_of_certificates = function(table) {\n",
    "    \n",
    "    # get a distribution of certificate\n",
    "    by_certificates <- table %>% group_by(rating) %>% summarize(count = n())\n",
    "\n",
    "    # output info\n",
    "    print(paste0(\"---- total counted= \", sum(by_certificates$count)))\n",
    "    unique_certificates = as.numeric(count(by_certificates))\n",
    "    print(paste0(\"---- unique certificates= \", unique_certificates))\n",
    "    \n",
    "    # return the distribution of certificates\n",
    "    by_certificates\n",
    "}\n",
    "\n",
    "# function to get a distribution of genres as a table\n",
    "distribution_of_genres = function(table) {\n",
    "    \n",
    "    # get a distribution of genres\n",
    "    by_genre <- table %>% group_by(genre) %>% summarize(count = n())\n",
    "\n",
    "    # output info\n",
    "    print(paste0(\"---- total counted= \", sum(by_genre$count)))\n",
    "    unique_genres = as.numeric(count(by_genre))\n",
    "    print(paste0(\"---- unique genres= \", unique_genres))\n",
    "    \n",
    "    # return the distribution of genres\n",
    "    by_genre\n",
    "}\n",
    "\n",
    "# function to get a distribution of top n keywords as a table\n",
    "distribution_of_keywords = function(table, n) {\n",
    "\n",
    "    # get a distribution of top n keywords\n",
    "    by_keywords <- table %>% group_by(keyword) %>% summarize(count = n())\n",
    "\n",
    "    # output info\n",
    "    by_keywords <- top_n(by_keywords, n) %>% arrange(desc(count))\n",
    "    print(paste0(\"---- total counted= \", sum(by_keywords$count)))\n",
    "    unique_keywords = as.numeric(count(by_keywords))\n",
    "    print(paste0(\"---- unique keywords= \", unique_keywords))\n",
    "    \n",
    "    # return the distribution of top n keywords\n",
    "    by_keywords\n",
    "}\n"
   ]
  },
  {
   "cell_type": "code",
   "execution_count": 12,
   "metadata": {},
   "outputs": [
    {
     "name": "stdout",
     "output_type": "stream",
     "text": [
      "[1] \"---- total counted= 36596\"\n",
      "[1] \"---- unique years= 108\"\n"
     ]
    },
    {
     "data": {
      "text/html": [
       "<table>\n",
       "<thead><tr><th scope=col>year</th><th scope=col>count</th></tr></thead>\n",
       "<tbody>\n",
       "\t<tr><td>1932</td><td>249 </td></tr>\n",
       "\t<tr><td>1977</td><td>304 </td></tr>\n",
       "\t<tr><td>2008</td><td>865 </td></tr>\n",
       "\t<tr><td>1930</td><td>183 </td></tr>\n",
       "\t<tr><td>1925</td><td> 46 </td></tr>\n",
       "</tbody>\n",
       "</table>\n"
      ],
      "text/latex": [
       "\\begin{tabular}{r|ll}\n",
       " year & count\\\\\n",
       "\\hline\n",
       "\t 1932 & 249 \\\\\n",
       "\t 1977 & 304 \\\\\n",
       "\t 2008 & 865 \\\\\n",
       "\t 1930 & 183 \\\\\n",
       "\t 1925 &  46 \\\\\n",
       "\\end{tabular}\n"
      ],
      "text/markdown": [
       "\n",
       "| year | count |\n",
       "|---|---|\n",
       "| 1932 | 249  |\n",
       "| 1977 | 304  |\n",
       "| 2008 | 865  |\n",
       "| 1930 | 183  |\n",
       "| 1925 |  46  |\n",
       "\n"
      ],
      "text/plain": [
       "  year count\n",
       "1 1932 249  \n",
       "2 1977 304  \n",
       "3 2008 865  \n",
       "4 1930 183  \n",
       "5 1925  46  "
      ]
     },
     "metadata": {},
     "output_type": "display_data"
    }
   ],
   "source": [
    "# get a count of movies from each year (for entire data (of unique movies))\n",
    "by_year <- number_films_per_year(unique_movies)\n",
    "sample_n(by_year, 5)"
   ]
  },
  {
   "cell_type": "code",
   "execution_count": 13,
   "metadata": {},
   "outputs": [
    {
     "name": "stdout",
     "output_type": "stream",
     "text": [
      "[1] \"---- total counted= 36596\"\n",
      "[1] \"---- unique decades= 11\"\n"
     ]
    },
    {
     "data": {
      "text/html": [
       "<table>\n",
       "<thead><tr><th scope=col>decade</th><th scope=col>count</th></tr></thead>\n",
       "<tbody>\n",
       "\t<tr><td>1910</td><td>  34</td></tr>\n",
       "\t<tr><td>1920</td><td> 494</td></tr>\n",
       "\t<tr><td>1930</td><td>3031</td></tr>\n",
       "\t<tr><td>1940</td><td>3049</td></tr>\n",
       "\t<tr><td>1950</td><td>2475</td></tr>\n",
       "\t<tr><td>1960</td><td>1583</td></tr>\n",
       "\t<tr><td>1970</td><td>3517</td></tr>\n",
       "\t<tr><td>1980</td><td>3754</td></tr>\n",
       "\t<tr><td>1990</td><td>4916</td></tr>\n",
       "\t<tr><td>2000</td><td>7551</td></tr>\n",
       "\t<tr><td>2010</td><td>6192</td></tr>\n",
       "</tbody>\n",
       "</table>\n"
      ],
      "text/latex": [
       "\\begin{tabular}{r|ll}\n",
       " decade & count\\\\\n",
       "\\hline\n",
       "\t 1910 &   34\\\\\n",
       "\t 1920 &  494\\\\\n",
       "\t 1930 & 3031\\\\\n",
       "\t 1940 & 3049\\\\\n",
       "\t 1950 & 2475\\\\\n",
       "\t 1960 & 1583\\\\\n",
       "\t 1970 & 3517\\\\\n",
       "\t 1980 & 3754\\\\\n",
       "\t 1990 & 4916\\\\\n",
       "\t 2000 & 7551\\\\\n",
       "\t 2010 & 6192\\\\\n",
       "\\end{tabular}\n"
      ],
      "text/markdown": [
       "\n",
       "| decade | count |\n",
       "|---|---|\n",
       "| 1910 |   34 |\n",
       "| 1920 |  494 |\n",
       "| 1930 | 3031 |\n",
       "| 1940 | 3049 |\n",
       "| 1950 | 2475 |\n",
       "| 1960 | 1583 |\n",
       "| 1970 | 3517 |\n",
       "| 1980 | 3754 |\n",
       "| 1990 | 4916 |\n",
       "| 2000 | 7551 |\n",
       "| 2010 | 6192 |\n",
       "\n"
      ],
      "text/plain": [
       "   decade count\n",
       "1  1910     34 \n",
       "2  1920    494 \n",
       "3  1930   3031 \n",
       "4  1940   3049 \n",
       "5  1950   2475 \n",
       "6  1960   1583 \n",
       "7  1970   3517 \n",
       "8  1980   3754 \n",
       "9  1990   4916 \n",
       "10 2000   7551 \n",
       "11 2010   6192 "
      ]
     },
     "metadata": {},
     "output_type": "display_data"
    }
   ],
   "source": [
    "# get a count of movies from each decade (for entire data (of unique movies), takes a minute)\n",
    "by_decade <- number_films_per_decade(unique_movies)\n",
    "by_decade"
   ]
  },
  {
   "cell_type": "code",
   "execution_count": 14,
   "metadata": {},
   "outputs": [
    {
     "data": {
      "text/html": [
       "<table>\n",
       "<thead><tr><th></th><th scope=col>movie</th><th scope=col>year</th><th scope=col>month</th><th scope=col>genre</th><th scope=col>runtime</th><th scope=col>rating</th></tr></thead>\n",
       "<tbody>\n",
       "\t<tr><th scope=row>1119396</th><td>John Wick: Chapter 2 (2017)</td><td>2017                       </td><td>January                    </td><td>Action                     </td><td>122                        </td><td>USA:R                      </td></tr>\n",
       "\t<tr><th scope=row>1119397</th><td>John Wick: Chapter 2 (2017)</td><td>2017                       </td><td>February                   </td><td>Action                     </td><td>122                        </td><td>USA:R                      </td></tr>\n",
       "\t<tr><th scope=row>1119461</th><td>John Wick: Chapter 2 (2017)</td><td>2017                       </td><td>March                      </td><td>Action                     </td><td>122                        </td><td>USA:R                      </td></tr>\n",
       "\t<tr><th scope=row>1119464</th><td>John Wick: Chapter 2 (2017)</td><td>2017                       </td><td>April                      </td><td>Action                     </td><td>122                        </td><td>USA:R                      </td></tr>\n",
       "\t<tr><th scope=row>1119465</th><td>John Wick: Chapter 2 (2017)</td><td>2017                       </td><td>May                        </td><td>Action                     </td><td>122                        </td><td>USA:R                      </td></tr>\n",
       "\t<tr><th scope=row>1119467</th><td>John Wick: Chapter 2 (2017)</td><td>2017                       </td><td>July                       </td><td>Action                     </td><td>122                        </td><td>USA:R                      </td></tr>\n",
       "\t<tr><th scope=row>1119468</th><td>John Wick: Chapter 2 (2017)</td><td>2017                       </td><td>January                    </td><td>Crime                      </td><td>122                        </td><td>USA:R                      </td></tr>\n",
       "\t<tr><th scope=row>1119469</th><td>John Wick: Chapter 2 (2017)</td><td>2017                       </td><td>February                   </td><td>Crime                      </td><td>122                        </td><td>USA:R                      </td></tr>\n",
       "\t<tr><th scope=row>1119533</th><td>John Wick: Chapter 2 (2017)</td><td>2017                       </td><td>March                      </td><td>Crime                      </td><td>122                        </td><td>USA:R                      </td></tr>\n",
       "\t<tr><th scope=row>1119536</th><td>John Wick: Chapter 2 (2017)</td><td>2017                       </td><td>April                      </td><td>Crime                      </td><td>122                        </td><td>USA:R                      </td></tr>\n",
       "\t<tr><th scope=row>1119537</th><td>John Wick: Chapter 2 (2017)</td><td>2017                       </td><td>May                        </td><td>Crime                      </td><td>122                        </td><td>USA:R                      </td></tr>\n",
       "\t<tr><th scope=row>1119539</th><td>John Wick: Chapter 2 (2017)</td><td>2017                       </td><td>July                       </td><td>Crime                      </td><td>122                        </td><td>USA:R                      </td></tr>\n",
       "\t<tr><th scope=row>1119540</th><td>John Wick: Chapter 2 (2017)</td><td>2017                       </td><td>January                    </td><td>Thriller                   </td><td>122                        </td><td>USA:R                      </td></tr>\n",
       "\t<tr><th scope=row>1119541</th><td>John Wick: Chapter 2 (2017)</td><td>2017                       </td><td>February                   </td><td>Thriller                   </td><td>122                        </td><td>USA:R                      </td></tr>\n",
       "\t<tr><th scope=row>1119605</th><td>John Wick: Chapter 2 (2017)</td><td>2017                       </td><td>March                      </td><td>Thriller                   </td><td>122                        </td><td>USA:R                      </td></tr>\n",
       "\t<tr><th scope=row>1119608</th><td>John Wick: Chapter 2 (2017)</td><td>2017                       </td><td>April                      </td><td>Thriller                   </td><td>122                        </td><td>USA:R                      </td></tr>\n",
       "\t<tr><th scope=row>1119609</th><td>John Wick: Chapter 2 (2017)</td><td>2017                       </td><td>May                        </td><td>Thriller                   </td><td>122                        </td><td>USA:R                      </td></tr>\n",
       "\t<tr><th scope=row>1119611</th><td>John Wick: Chapter 2 (2017)</td><td>2017                       </td><td>July                       </td><td>Thriller                   </td><td>122                        </td><td>USA:R                      </td></tr>\n",
       "</tbody>\n",
       "</table>\n"
      ],
      "text/latex": [
       "\\begin{tabular}{r|llllll}\n",
       "  & movie & year & month & genre & runtime & rating\\\\\n",
       "\\hline\n",
       "\t1119396 & John Wick: Chapter 2 (2017) & 2017                        & January                     & Action                      & 122                         & USA:R                      \\\\\n",
       "\t1119397 & John Wick: Chapter 2 (2017) & 2017                        & February                    & Action                      & 122                         & USA:R                      \\\\\n",
       "\t1119461 & John Wick: Chapter 2 (2017) & 2017                        & March                       & Action                      & 122                         & USA:R                      \\\\\n",
       "\t1119464 & John Wick: Chapter 2 (2017) & 2017                        & April                       & Action                      & 122                         & USA:R                      \\\\\n",
       "\t1119465 & John Wick: Chapter 2 (2017) & 2017                        & May                         & Action                      & 122                         & USA:R                      \\\\\n",
       "\t1119467 & John Wick: Chapter 2 (2017) & 2017                        & July                        & Action                      & 122                         & USA:R                      \\\\\n",
       "\t1119468 & John Wick: Chapter 2 (2017) & 2017                        & January                     & Crime                       & 122                         & USA:R                      \\\\\n",
       "\t1119469 & John Wick: Chapter 2 (2017) & 2017                        & February                    & Crime                       & 122                         & USA:R                      \\\\\n",
       "\t1119533 & John Wick: Chapter 2 (2017) & 2017                        & March                       & Crime                       & 122                         & USA:R                      \\\\\n",
       "\t1119536 & John Wick: Chapter 2 (2017) & 2017                        & April                       & Crime                       & 122                         & USA:R                      \\\\\n",
       "\t1119537 & John Wick: Chapter 2 (2017) & 2017                        & May                         & Crime                       & 122                         & USA:R                      \\\\\n",
       "\t1119539 & John Wick: Chapter 2 (2017) & 2017                        & July                        & Crime                       & 122                         & USA:R                      \\\\\n",
       "\t1119540 & John Wick: Chapter 2 (2017) & 2017                        & January                     & Thriller                    & 122                         & USA:R                      \\\\\n",
       "\t1119541 & John Wick: Chapter 2 (2017) & 2017                        & February                    & Thriller                    & 122                         & USA:R                      \\\\\n",
       "\t1119605 & John Wick: Chapter 2 (2017) & 2017                        & March                       & Thriller                    & 122                         & USA:R                      \\\\\n",
       "\t1119608 & John Wick: Chapter 2 (2017) & 2017                        & April                       & Thriller                    & 122                         & USA:R                      \\\\\n",
       "\t1119609 & John Wick: Chapter 2 (2017) & 2017                        & May                         & Thriller                    & 122                         & USA:R                      \\\\\n",
       "\t1119611 & John Wick: Chapter 2 (2017) & 2017                        & July                        & Thriller                    & 122                         & USA:R                      \\\\\n",
       "\\end{tabular}\n"
      ],
      "text/markdown": [
       "\n",
       "| <!--/--> | movie | year | month | genre | runtime | rating |\n",
       "|---|---|---|---|---|---|---|\n",
       "| 1119396 | John Wick: Chapter 2 (2017) | 2017                        | January                     | Action                      | 122                         | USA:R                       |\n",
       "| 1119397 | John Wick: Chapter 2 (2017) | 2017                        | February                    | Action                      | 122                         | USA:R                       |\n",
       "| 1119461 | John Wick: Chapter 2 (2017) | 2017                        | March                       | Action                      | 122                         | USA:R                       |\n",
       "| 1119464 | John Wick: Chapter 2 (2017) | 2017                        | April                       | Action                      | 122                         | USA:R                       |\n",
       "| 1119465 | John Wick: Chapter 2 (2017) | 2017                        | May                         | Action                      | 122                         | USA:R                       |\n",
       "| 1119467 | John Wick: Chapter 2 (2017) | 2017                        | July                        | Action                      | 122                         | USA:R                       |\n",
       "| 1119468 | John Wick: Chapter 2 (2017) | 2017                        | January                     | Crime                       | 122                         | USA:R                       |\n",
       "| 1119469 | John Wick: Chapter 2 (2017) | 2017                        | February                    | Crime                       | 122                         | USA:R                       |\n",
       "| 1119533 | John Wick: Chapter 2 (2017) | 2017                        | March                       | Crime                       | 122                         | USA:R                       |\n",
       "| 1119536 | John Wick: Chapter 2 (2017) | 2017                        | April                       | Crime                       | 122                         | USA:R                       |\n",
       "| 1119537 | John Wick: Chapter 2 (2017) | 2017                        | May                         | Crime                       | 122                         | USA:R                       |\n",
       "| 1119539 | John Wick: Chapter 2 (2017) | 2017                        | July                        | Crime                       | 122                         | USA:R                       |\n",
       "| 1119540 | John Wick: Chapter 2 (2017) | 2017                        | January                     | Thriller                    | 122                         | USA:R                       |\n",
       "| 1119541 | John Wick: Chapter 2 (2017) | 2017                        | February                    | Thriller                    | 122                         | USA:R                       |\n",
       "| 1119605 | John Wick: Chapter 2 (2017) | 2017                        | March                       | Thriller                    | 122                         | USA:R                       |\n",
       "| 1119608 | John Wick: Chapter 2 (2017) | 2017                        | April                       | Thriller                    | 122                         | USA:R                       |\n",
       "| 1119609 | John Wick: Chapter 2 (2017) | 2017                        | May                         | Thriller                    | 122                         | USA:R                       |\n",
       "| 1119611 | John Wick: Chapter 2 (2017) | 2017                        | July                        | Thriller                    | 122                         | USA:R                       |\n",
       "\n"
      ],
      "text/plain": [
       "        movie                       year month    genre    runtime rating\n",
       "1119396 John Wick: Chapter 2 (2017) 2017 January  Action   122     USA:R \n",
       "1119397 John Wick: Chapter 2 (2017) 2017 February Action   122     USA:R \n",
       "1119461 John Wick: Chapter 2 (2017) 2017 March    Action   122     USA:R \n",
       "1119464 John Wick: Chapter 2 (2017) 2017 April    Action   122     USA:R \n",
       "1119465 John Wick: Chapter 2 (2017) 2017 May      Action   122     USA:R \n",
       "1119467 John Wick: Chapter 2 (2017) 2017 July     Action   122     USA:R \n",
       "1119468 John Wick: Chapter 2 (2017) 2017 January  Crime    122     USA:R \n",
       "1119469 John Wick: Chapter 2 (2017) 2017 February Crime    122     USA:R \n",
       "1119533 John Wick: Chapter 2 (2017) 2017 March    Crime    122     USA:R \n",
       "1119536 John Wick: Chapter 2 (2017) 2017 April    Crime    122     USA:R \n",
       "1119537 John Wick: Chapter 2 (2017) 2017 May      Crime    122     USA:R \n",
       "1119539 John Wick: Chapter 2 (2017) 2017 July     Crime    122     USA:R \n",
       "1119540 John Wick: Chapter 2 (2017) 2017 January  Thriller 122     USA:R \n",
       "1119541 John Wick: Chapter 2 (2017) 2017 February Thriller 122     USA:R \n",
       "1119605 John Wick: Chapter 2 (2017) 2017 March    Thriller 122     USA:R \n",
       "1119608 John Wick: Chapter 2 (2017) 2017 April    Thriller 122     USA:R \n",
       "1119609 John Wick: Chapter 2 (2017) 2017 May      Thriller 122     USA:R \n",
       "1119611 John Wick: Chapter 2 (2017) 2017 July     Thriller 122     USA:R "
      ]
     },
     "metadata": {},
     "output_type": "display_data"
    }
   ],
   "source": [
    "# get rows for a movie by partial name (can exclude year from its name)\n",
    "# lots of movies have differing release months for some reason\n",
    "# this SHOULD output 3 rows, 1 for each genre but many release months prevents this :(\n",
    "jw2 <- data[str_detect(data$movie, \"John Wick: Chapter 2\"), ]\n",
    "jw2"
   ]
  },
  {
   "cell_type": "code",
   "execution_count": 15,
   "metadata": {},
   "outputs": [
    {
     "name": "stdout",
     "output_type": "stream",
     "text": [
      "[1] \"---- total counted= 36596\"\n",
      "[1] \"---- unique months= 12\"\n"
     ]
    },
    {
     "data": {
      "text/html": [
       "<table>\n",
       "<thead><tr><th scope=col>month</th><th scope=col>count</th></tr></thead>\n",
       "<tbody>\n",
       "\t<tr><td>January  </td><td>3150     </td></tr>\n",
       "\t<tr><td>February </td><td>2511     </td></tr>\n",
       "\t<tr><td>March    </td><td>3105     </td></tr>\n",
       "\t<tr><td>April    </td><td>3082     </td></tr>\n",
       "\t<tr><td>May      </td><td>3485     </td></tr>\n",
       "\t<tr><td>June     </td><td>2651     </td></tr>\n",
       "\t<tr><td>July     </td><td>2410     </td></tr>\n",
       "\t<tr><td>August   </td><td>2921     </td></tr>\n",
       "\t<tr><td>September</td><td>4453     </td></tr>\n",
       "\t<tr><td>October  </td><td>3478     </td></tr>\n",
       "\t<tr><td>November </td><td>2667     </td></tr>\n",
       "\t<tr><td>December </td><td>2683     </td></tr>\n",
       "</tbody>\n",
       "</table>\n"
      ],
      "text/latex": [
       "\\begin{tabular}{r|ll}\n",
       " month & count\\\\\n",
       "\\hline\n",
       "\t January   & 3150     \\\\\n",
       "\t February  & 2511     \\\\\n",
       "\t March     & 3105     \\\\\n",
       "\t April     & 3082     \\\\\n",
       "\t May       & 3485     \\\\\n",
       "\t June      & 2651     \\\\\n",
       "\t July      & 2410     \\\\\n",
       "\t August    & 2921     \\\\\n",
       "\t September & 4453     \\\\\n",
       "\t October   & 3478     \\\\\n",
       "\t November  & 2667     \\\\\n",
       "\t December  & 2683     \\\\\n",
       "\\end{tabular}\n"
      ],
      "text/markdown": [
       "\n",
       "| month | count |\n",
       "|---|---|\n",
       "| January   | 3150      |\n",
       "| February  | 2511      |\n",
       "| March     | 3105      |\n",
       "| April     | 3082      |\n",
       "| May       | 3485      |\n",
       "| June      | 2651      |\n",
       "| July      | 2410      |\n",
       "| August    | 2921      |\n",
       "| September | 4453      |\n",
       "| October   | 3478      |\n",
       "| November  | 2667      |\n",
       "| December  | 2683      |\n",
       "\n"
      ],
      "text/plain": [
       "   month     count\n",
       "1  January   3150 \n",
       "2  February  2511 \n",
       "3  March     3105 \n",
       "4  April     3082 \n",
       "5  May       3485 \n",
       "6  June      2651 \n",
       "7  July      2410 \n",
       "8  August    2921 \n",
       "9  September 4453 \n",
       "10 October   3478 \n",
       "11 November  2667 \n",
       "12 December  2683 "
      ]
     },
     "metadata": {},
     "output_type": "display_data"
    }
   ],
   "source": [
    "# !!!\n",
    "# since most movies have several months/genres as listed above, the leftover month\n",
    "# from the unique_films table might not be correct so the months table below is skewed\n",
    "# !!!\n",
    "\n",
    "# get a count of movies from each month (for entire data (of unique movies))\n",
    "by_month <- number_films_per_month(unique_movies)\n",
    "by_month"
   ]
  },
  {
   "cell_type": "code",
   "execution_count": 16,
   "metadata": {},
   "outputs": [
    {
     "name": "stdout",
     "output_type": "stream",
     "text": [
      "[1] \"---- total counted= 36596\"\n",
      "[1] \"---- unique runtimes= 395\"\n"
     ]
    },
    {
     "data": {
      "text/html": [
       "<table>\n",
       "<thead><tr><th scope=col>runtime</th><th scope=col>count</th></tr></thead>\n",
       "<tbody>\n",
       "\t<tr><td>191</td><td> 2 </td></tr>\n",
       "\t<tr><td>353</td><td> 0 </td></tr>\n",
       "\t<tr><td>180</td><td>17 </td></tr>\n",
       "\t<tr><td>134</td><td>70 </td></tr>\n",
       "\t<tr><td>200</td><td> 6 </td></tr>\n",
       "</tbody>\n",
       "</table>\n"
      ],
      "text/latex": [
       "\\begin{tabular}{r|ll}\n",
       " runtime & count\\\\\n",
       "\\hline\n",
       "\t 191 &  2 \\\\\n",
       "\t 353 &  0 \\\\\n",
       "\t 180 & 17 \\\\\n",
       "\t 134 & 70 \\\\\n",
       "\t 200 &  6 \\\\\n",
       "\\end{tabular}\n"
      ],
      "text/markdown": [
       "\n",
       "| runtime | count |\n",
       "|---|---|\n",
       "| 191 |  2  |\n",
       "| 353 |  0  |\n",
       "| 180 | 17  |\n",
       "| 134 | 70  |\n",
       "| 200 |  6  |\n",
       "\n"
      ],
      "text/plain": [
       "  runtime count\n",
       "1 191      2   \n",
       "2 353      0   \n",
       "3 180     17   \n",
       "4 134     70   \n",
       "5 200      6   "
      ]
     },
     "metadata": {},
     "output_type": "display_data"
    }
   ],
   "source": [
    "# get a distribution of runtimes\n",
    "by_runtime <- distribution_of_runtimes(unique_movies)\n",
    "sample_n(by_runtime, 5)"
   ]
  },
  {
   "cell_type": "code",
   "execution_count": 17,
   "metadata": {},
   "outputs": [
    {
     "name": "stdout",
     "output_type": "stream",
     "text": [
      "[1] \"---- total counted= 36596\"\n",
      "[1] \"---- unique certificates= 12\"\n"
     ]
    },
    {
     "data": {
      "text/html": [
       "<table>\n",
       "<thead><tr><th scope=col>rating</th><th scope=col>count</th></tr></thead>\n",
       "<tbody>\n",
       "\t<tr><td>USA:(Banned)</td><td>    1       </td></tr>\n",
       "\t<tr><td>USA:12      </td><td>    4       </td></tr>\n",
       "\t<tr><td>USA:AO      </td><td>    3       </td></tr>\n",
       "\t<tr><td>USA:Approved</td><td> 6604       </td></tr>\n",
       "\t<tr><td>USA:G       </td><td> 1175       </td></tr>\n",
       "\t<tr><td>USA:GP      </td><td>  186       </td></tr>\n",
       "\t<tr><td>USA:Open    </td><td>    9       </td></tr>\n",
       "\t<tr><td>USA:Passed  </td><td> 2776       </td></tr>\n",
       "\t<tr><td>USA:PG      </td><td> 4418       </td></tr>\n",
       "\t<tr><td>USA:PG-13   </td><td> 4273       </td></tr>\n",
       "\t<tr><td>USA:R       </td><td>14191       </td></tr>\n",
       "\t<tr><td>USA:Unrated </td><td> 2956       </td></tr>\n",
       "</tbody>\n",
       "</table>\n"
      ],
      "text/latex": [
       "\\begin{tabular}{r|ll}\n",
       " rating & count\\\\\n",
       "\\hline\n",
       "\t USA:(Banned) &     1       \\\\\n",
       "\t USA:12       &     4       \\\\\n",
       "\t USA:AO       &     3       \\\\\n",
       "\t USA:Approved &  6604       \\\\\n",
       "\t USA:G        &  1175       \\\\\n",
       "\t USA:GP       &   186       \\\\\n",
       "\t USA:Open     &     9       \\\\\n",
       "\t USA:Passed   &  2776       \\\\\n",
       "\t USA:PG       &  4418       \\\\\n",
       "\t USA:PG-13    &  4273       \\\\\n",
       "\t USA:R        & 14191       \\\\\n",
       "\t USA:Unrated  &  2956       \\\\\n",
       "\\end{tabular}\n"
      ],
      "text/markdown": [
       "\n",
       "| rating | count |\n",
       "|---|---|\n",
       "| USA:(Banned) |     1        |\n",
       "| USA:12       |     4        |\n",
       "| USA:AO       |     3        |\n",
       "| USA:Approved |  6604        |\n",
       "| USA:G        |  1175        |\n",
       "| USA:GP       |   186        |\n",
       "| USA:Open     |     9        |\n",
       "| USA:Passed   |  2776        |\n",
       "| USA:PG       |  4418        |\n",
       "| USA:PG-13    |  4273        |\n",
       "| USA:R        | 14191        |\n",
       "| USA:Unrated  |  2956        |\n",
       "\n"
      ],
      "text/plain": [
       "   rating       count\n",
       "1  USA:(Banned)     1\n",
       "2  USA:12           4\n",
       "3  USA:AO           3\n",
       "4  USA:Approved  6604\n",
       "5  USA:G         1175\n",
       "6  USA:GP         186\n",
       "7  USA:Open         9\n",
       "8  USA:Passed    2776\n",
       "9  USA:PG        4418\n",
       "10 USA:PG-13     4273\n",
       "11 USA:R        14191\n",
       "12 USA:Unrated   2956"
      ]
     },
     "metadata": {},
     "output_type": "display_data"
    }
   ],
   "source": [
    "# get a distribution of certificate\n",
    "by_certificates <- distribution_of_certificates(unique_movies)\n",
    "by_certificates"
   ]
  },
  {
   "cell_type": "code",
   "execution_count": 18,
   "metadata": {},
   "outputs": [
    {
     "name": "stdout",
     "output_type": "stream",
     "text": [
      "[1] \"---- total counted= 36596\"\n",
      "[1] \"---- unique genres= 22\"\n"
     ]
    },
    {
     "data": {
      "text/html": [
       "<table>\n",
       "<thead><tr><th scope=col>genre</th><th scope=col>count</th></tr></thead>\n",
       "<tbody>\n",
       "\t<tr><td>Action     </td><td>6226       </td></tr>\n",
       "\t<tr><td>Adventure  </td><td>2399       </td></tr>\n",
       "\t<tr><td>Animation  </td><td> 294       </td></tr>\n",
       "\t<tr><td>Biography  </td><td>1172       </td></tr>\n",
       "\t<tr><td>Comedy     </td><td>9399       </td></tr>\n",
       "\t<tr><td>Crime      </td><td>2834       </td></tr>\n",
       "\t<tr><td>Documentary</td><td>1255       </td></tr>\n",
       "\t<tr><td>Drama      </td><td>8243       </td></tr>\n",
       "\t<tr><td>Family     </td><td> 161       </td></tr>\n",
       "\t<tr><td>Fantasy    </td><td> 162       </td></tr>\n",
       "\t<tr><td>Film-Noir  </td><td>  33       </td></tr>\n",
       "\t<tr><td>History    </td><td>  27       </td></tr>\n",
       "\t<tr><td>Horror     </td><td>2230       </td></tr>\n",
       "\t<tr><td>Music      </td><td>  71       </td></tr>\n",
       "\t<tr><td>Musical    </td><td> 158       </td></tr>\n",
       "\t<tr><td>Mystery    </td><td> 276       </td></tr>\n",
       "\t<tr><td>Romance    </td><td> 232       </td></tr>\n",
       "\t<tr><td>Sci-Fi     </td><td> 151       </td></tr>\n",
       "\t<tr><td>Sport      </td><td>   8       </td></tr>\n",
       "\t<tr><td>Thriller   </td><td> 467       </td></tr>\n",
       "\t<tr><td>War        </td><td>  14       </td></tr>\n",
       "\t<tr><td>Western    </td><td> 784       </td></tr>\n",
       "</tbody>\n",
       "</table>\n"
      ],
      "text/latex": [
       "\\begin{tabular}{r|ll}\n",
       " genre & count\\\\\n",
       "\\hline\n",
       "\t Action      & 6226       \\\\\n",
       "\t Adventure   & 2399       \\\\\n",
       "\t Animation   &  294       \\\\\n",
       "\t Biography   & 1172       \\\\\n",
       "\t Comedy      & 9399       \\\\\n",
       "\t Crime       & 2834       \\\\\n",
       "\t Documentary & 1255       \\\\\n",
       "\t Drama       & 8243       \\\\\n",
       "\t Family      &  161       \\\\\n",
       "\t Fantasy     &  162       \\\\\n",
       "\t Film-Noir   &   33       \\\\\n",
       "\t History     &   27       \\\\\n",
       "\t Horror      & 2230       \\\\\n",
       "\t Music       &   71       \\\\\n",
       "\t Musical     &  158       \\\\\n",
       "\t Mystery     &  276       \\\\\n",
       "\t Romance     &  232       \\\\\n",
       "\t Sci-Fi      &  151       \\\\\n",
       "\t Sport       &    8       \\\\\n",
       "\t Thriller    &  467       \\\\\n",
       "\t War         &   14       \\\\\n",
       "\t Western     &  784       \\\\\n",
       "\\end{tabular}\n"
      ],
      "text/markdown": [
       "\n",
       "| genre | count |\n",
       "|---|---|\n",
       "| Action      | 6226        |\n",
       "| Adventure   | 2399        |\n",
       "| Animation   |  294        |\n",
       "| Biography   | 1172        |\n",
       "| Comedy      | 9399        |\n",
       "| Crime       | 2834        |\n",
       "| Documentary | 1255        |\n",
       "| Drama       | 8243        |\n",
       "| Family      |  161        |\n",
       "| Fantasy     |  162        |\n",
       "| Film-Noir   |   33        |\n",
       "| History     |   27        |\n",
       "| Horror      | 2230        |\n",
       "| Music       |   71        |\n",
       "| Musical     |  158        |\n",
       "| Mystery     |  276        |\n",
       "| Romance     |  232        |\n",
       "| Sci-Fi      |  151        |\n",
       "| Sport       |    8        |\n",
       "| Thriller    |  467        |\n",
       "| War         |   14        |\n",
       "| Western     |  784        |\n",
       "\n"
      ],
      "text/plain": [
       "   genre       count\n",
       "1  Action      6226 \n",
       "2  Adventure   2399 \n",
       "3  Animation    294 \n",
       "4  Biography   1172 \n",
       "5  Comedy      9399 \n",
       "6  Crime       2834 \n",
       "7  Documentary 1255 \n",
       "8  Drama       8243 \n",
       "9  Family       161 \n",
       "10 Fantasy      162 \n",
       "11 Film-Noir     33 \n",
       "12 History       27 \n",
       "13 Horror      2230 \n",
       "14 Music         71 \n",
       "15 Musical      158 \n",
       "16 Mystery      276 \n",
       "17 Romance      232 \n",
       "18 Sci-Fi       151 \n",
       "19 Sport          8 \n",
       "20 Thriller     467 \n",
       "21 War           14 \n",
       "22 Western      784 "
      ]
     },
     "metadata": {},
     "output_type": "display_data"
    }
   ],
   "source": [
    "# get a distribution of genres\n",
    "by_genre <- distribution_of_genres(unique_movies)\n",
    "by_genre"
   ]
  },
  {
   "cell_type": "code",
   "execution_count": 19,
   "metadata": {},
   "outputs": [
    {
     "name": "stderr",
     "output_type": "stream",
     "text": [
      "Selecting by count\n"
     ]
    },
    {
     "name": "stdout",
     "output_type": "stream",
     "text": [
      "[1] \"---- total counted= 56048\"\n",
      "[1] \"---- unique keywords= 10\"\n"
     ]
    },
    {
     "data": {
      "text/html": [
       "<table>\n",
       "<thead><tr><th scope=col>keyword</th><th scope=col>count</th></tr></thead>\n",
       "<tbody>\n",
       "\t<tr><td>independent-film         </td><td>8987                     </td></tr>\n",
       "\t<tr><td>murder                   </td><td>8281                     </td></tr>\n",
       "\t<tr><td>death                    </td><td>5430                     </td></tr>\n",
       "\t<tr><td>female-nudity            </td><td>5256                     </td></tr>\n",
       "\t<tr><td>husband-wife-relationship</td><td>5138                     </td></tr>\n",
       "\t<tr><td>violence                 </td><td>4920                     </td></tr>\n",
       "\t<tr><td>based-on-novel           </td><td>4738                     </td></tr>\n",
       "\t<tr><td>blood                    </td><td>4523                     </td></tr>\n",
       "\t<tr><td>cigarette-smoking        </td><td>4398                     </td></tr>\n",
       "\t<tr><td>father-son-relationship  </td><td>4377                     </td></tr>\n",
       "</tbody>\n",
       "</table>\n"
      ],
      "text/latex": [
       "\\begin{tabular}{r|ll}\n",
       " keyword & count\\\\\n",
       "\\hline\n",
       "\t independent-film          & 8987                     \\\\\n",
       "\t murder                    & 8281                     \\\\\n",
       "\t death                     & 5430                     \\\\\n",
       "\t female-nudity             & 5256                     \\\\\n",
       "\t husband-wife-relationship & 5138                     \\\\\n",
       "\t violence                  & 4920                     \\\\\n",
       "\t based-on-novel            & 4738                     \\\\\n",
       "\t blood                     & 4523                     \\\\\n",
       "\t cigarette-smoking         & 4398                     \\\\\n",
       "\t father-son-relationship   & 4377                     \\\\\n",
       "\\end{tabular}\n"
      ],
      "text/markdown": [
       "\n",
       "| keyword | count |\n",
       "|---|---|\n",
       "| independent-film          | 8987                      |\n",
       "| murder                    | 8281                      |\n",
       "| death                     | 5430                      |\n",
       "| female-nudity             | 5256                      |\n",
       "| husband-wife-relationship | 5138                      |\n",
       "| violence                  | 4920                      |\n",
       "| based-on-novel            | 4738                      |\n",
       "| blood                     | 4523                      |\n",
       "| cigarette-smoking         | 4398                      |\n",
       "| father-son-relationship   | 4377                      |\n",
       "\n"
      ],
      "text/plain": [
       "   keyword                   count\n",
       "1  independent-film          8987 \n",
       "2  murder                    8281 \n",
       "3  death                     5430 \n",
       "4  female-nudity             5256 \n",
       "5  husband-wife-relationship 5138 \n",
       "6  violence                  4920 \n",
       "7  based-on-novel            4738 \n",
       "8  blood                     4523 \n",
       "9  cigarette-smoking         4398 \n",
       "10 father-son-relationship   4377 "
      ]
     },
     "metadata": {},
     "output_type": "display_data"
    }
   ],
   "source": [
    "# get a distribution of top n keywords\n",
    "n = 10\n",
    "by_keywords <- distribution_of_keywords(keywords_subset, n)\n",
    "by_keywords"
   ]
  },
  {
   "cell_type": "code",
   "execution_count": 20,
   "metadata": {},
   "outputs": [],
   "source": [
    "############## AVERAGES BELOW ##############"
   ]
  },
  {
   "cell_type": "code",
   "execution_count": 21,
   "metadata": {},
   "outputs": [
    {
     "name": "stdout",
     "output_type": "stream",
     "text": [
      "[1] \"---- avg films per year= 338\"\n",
      "[1] \"---- avg films per month= 28\"\n"
     ]
    },
    {
     "data": {
      "text/html": [
       "<table>\n",
       "<thead><tr><th scope=col>month</th><th scope=col>average</th></tr></thead>\n",
       "<tbody>\n",
       "\t<tr><td>January  </td><td>29.16667 </td></tr>\n",
       "\t<tr><td>February </td><td>23.25000 </td></tr>\n",
       "\t<tr><td>March    </td><td>28.75000 </td></tr>\n",
       "\t<tr><td>April    </td><td>28.53704 </td></tr>\n",
       "\t<tr><td>May      </td><td>32.26852 </td></tr>\n",
       "\t<tr><td>June     </td><td>24.54630 </td></tr>\n",
       "\t<tr><td>July     </td><td>22.31481 </td></tr>\n",
       "\t<tr><td>August   </td><td>27.04630 </td></tr>\n",
       "\t<tr><td>September</td><td>41.23148 </td></tr>\n",
       "\t<tr><td>October  </td><td>32.20370 </td></tr>\n",
       "\t<tr><td>November </td><td>24.69444 </td></tr>\n",
       "\t<tr><td>December </td><td>24.84259 </td></tr>\n",
       "</tbody>\n",
       "</table>\n"
      ],
      "text/latex": [
       "\\begin{tabular}{r|ll}\n",
       " month & average\\\\\n",
       "\\hline\n",
       "\t January   & 29.16667 \\\\\n",
       "\t February  & 23.25000 \\\\\n",
       "\t March     & 28.75000 \\\\\n",
       "\t April     & 28.53704 \\\\\n",
       "\t May       & 32.26852 \\\\\n",
       "\t June      & 24.54630 \\\\\n",
       "\t July      & 22.31481 \\\\\n",
       "\t August    & 27.04630 \\\\\n",
       "\t September & 41.23148 \\\\\n",
       "\t October   & 32.20370 \\\\\n",
       "\t November  & 24.69444 \\\\\n",
       "\t December  & 24.84259 \\\\\n",
       "\\end{tabular}\n"
      ],
      "text/markdown": [
       "\n",
       "| month | average |\n",
       "|---|---|\n",
       "| January   | 29.16667  |\n",
       "| February  | 23.25000  |\n",
       "| March     | 28.75000  |\n",
       "| April     | 28.53704  |\n",
       "| May       | 32.26852  |\n",
       "| June      | 24.54630  |\n",
       "| July      | 22.31481  |\n",
       "| August    | 27.04630  |\n",
       "| September | 41.23148  |\n",
       "| October   | 32.20370  |\n",
       "| November  | 24.69444  |\n",
       "| December  | 24.84259  |\n",
       "\n"
      ],
      "text/plain": [
       "   month     average \n",
       "1  January   29.16667\n",
       "2  February  23.25000\n",
       "3  March     28.75000\n",
       "4  April     28.53704\n",
       "5  May       32.26852\n",
       "6  June      24.54630\n",
       "7  July      22.31481\n",
       "8  August    27.04630\n",
       "9  September 41.23148\n",
       "10 October   32.20370\n",
       "11 November  24.69444\n",
       "12 December  24.84259"
      ]
     },
     "metadata": {},
     "output_type": "display_data"
    },
    {
     "name": "stdout",
     "output_type": "stream",
     "text": [
      "[1] \"---- avg runtime= 95\"\n"
     ]
    }
   ],
   "source": [
    "# get average films per year, month, and average runtime\n",
    "\n",
    "# average fims per year: sum of films divided by total years observed\n",
    "#avg_per_year = trunc(total_films / unique_years)\n",
    "unique_years = as.numeric(count(by_year))\n",
    "avg_per_year = trunc(unique_films / unique_years)\n",
    "print(paste0(\"---- avg films per year= \", avg_per_year))\n",
    "\n",
    "# average films per month: sum of films each month, each sum divided by total years observed; then average these results\n",
    "unique_months = as.numeric(count(by_month))\n",
    "avg_by_month <- by_month\n",
    "avg_by_month$count <- by_month$count / unique_years\n",
    "names(avg_by_month)[2] <- \"average\"\n",
    "avg_per_month = trunc(as.numeric(sum(avg_by_month$average) / unique_months))\n",
    "print(paste0(\"---- avg films per month= \", avg_per_month))\n",
    "avg_by_month\n",
    "\n",
    "# average runtime: sum of each runtime divided by total runtime observations\n",
    "avg_runtime = trunc(mean(unique_movies$runtime))\n",
    "print(paste0(\"---- avg runtime= \", avg_runtime))"
   ]
  },
  {
   "cell_type": "code",
   "execution_count": 22,
   "metadata": {},
   "outputs": [],
   "source": [
    "############## CHOOSE YEAR OR DECADE ##############"
   ]
  },
  {
   "cell_type": "code",
   "execution_count": 23,
   "metadata": {},
   "outputs": [
    {
     "data": {
      "text/html": [
       "<table>\n",
       "<thead><tr><th scope=col>movie</th><th scope=col>year</th><th scope=col>month</th><th scope=col>genre</th><th scope=col>runtime</th><th scope=col>rating</th></tr></thead>\n",
       "<tbody>\n",
       "\t<tr><td>Magic Trip: Ken Kesey's Search for a Kool Place (2011)</td><td>2011                                                  </td><td>November                                              </td><td>Documentary                                           </td><td>107                                                   </td><td>USA:R                                                 </td></tr>\n",
       "\t<tr><td>Abduction (2011/I)                                    </td><td>2011                                                  </td><td>August                                                </td><td>Mystery                                               </td><td>106                                                   </td><td>USA:PG-13                                             </td></tr>\n",
       "\t<tr><td>Thor (2011)                                           </td><td>2011                                                  </td><td>July                                                  </td><td>Action                                                </td><td>115                                                   </td><td>USA:PG-13                                             </td></tr>\n",
       "\t<tr><td>Un monstre à Paris (2011)                             </td><td>2011                                                  </td><td>December                                              </td><td>Romance                                               </td><td> 90                                                   </td><td>USA:PG                                                </td></tr>\n",
       "\t<tr><td>The Adjustment Bureau (2011)                          </td><td>2011                                                  </td><td>March                                                 </td><td>Romance                                               </td><td>106                                                   </td><td>USA:PG-13                                             </td></tr>\n",
       "\t<tr><td>21 Brothers (2011)                                    </td><td>2011                                                  </td><td>November                                              </td><td>Drama                                                 </td><td> 96                                                   </td><td>USA:Unrated                                           </td></tr>\n",
       "\t<tr><td>The Darkest Hour (2011)                               </td><td>2011                                                  </td><td>December                                              </td><td>Horror                                                </td><td> 89                                                   </td><td>USA:PG-13                                             </td></tr>\n",
       "\t<tr><td>247°F (2011)                                          </td><td>2011                                                  </td><td>September                                             </td><td>Horror                                                </td><td> 90                                                   </td><td>USA:R                                                 </td></tr>\n",
       "\t<tr><td>Martha Marcy May Marlene (2011)                       </td><td>2011                                                  </td><td>October                                               </td><td>Thriller                                              </td><td>102                                                   </td><td>USA:R                                                 </td></tr>\n",
       "\t<tr><td>Mrs. Carey's Concert (2011)                           </td><td>2011                                                  </td><td>April                                                 </td><td>Drama                                                 </td><td> 95                                                   </td><td>USA:PG                                                </td></tr>\n",
       "</tbody>\n",
       "</table>\n"
      ],
      "text/latex": [
       "\\begin{tabular}{r|llllll}\n",
       " movie & year & month & genre & runtime & rating\\\\\n",
       "\\hline\n",
       "\t Magic Trip: Ken Kesey's Search for a Kool Place (2011) & 2011                                                   & November                                               & Documentary                                            & 107                                                    & USA:R                                                 \\\\\n",
       "\t Abduction (2011/I)                                     & 2011                                                   & August                                                 & Mystery                                                & 106                                                    & USA:PG-13                                             \\\\\n",
       "\t Thor (2011)                                            & 2011                                                   & July                                                   & Action                                                 & 115                                                    & USA:PG-13                                             \\\\\n",
       "\t Un monstre à Paris (2011)                              & 2011                                                   & December                                               & Romance                                                &  90                                                    & USA:PG                                                \\\\\n",
       "\t The Adjustment Bureau (2011)                           & 2011                                                   & March                                                  & Romance                                                & 106                                                    & USA:PG-13                                             \\\\\n",
       "\t 21 Brothers (2011)                                     & 2011                                                   & November                                               & Drama                                                  &  96                                                    & USA:Unrated                                           \\\\\n",
       "\t The Darkest Hour (2011)                                & 2011                                                   & December                                               & Horror                                                 &  89                                                    & USA:PG-13                                             \\\\\n",
       "\t 247°F (2011)                                           & 2011                                                   & September                                              & Horror                                                 &  90                                                    & USA:R                                                 \\\\\n",
       "\t Martha Marcy May Marlene (2011)                        & 2011                                                   & October                                                & Thriller                                               & 102                                                    & USA:R                                                 \\\\\n",
       "\t Mrs. Carey's Concert (2011)                            & 2011                                                   & April                                                  & Drama                                                  &  95                                                    & USA:PG                                                \\\\\n",
       "\\end{tabular}\n"
      ],
      "text/markdown": [
       "\n",
       "| movie | year | month | genre | runtime | rating |\n",
       "|---|---|---|---|---|---|\n",
       "| Magic Trip: Ken Kesey's Search for a Kool Place (2011) | 2011                                                   | November                                               | Documentary                                            | 107                                                    | USA:R                                                  |\n",
       "| Abduction (2011/I)                                     | 2011                                                   | August                                                 | Mystery                                                | 106                                                    | USA:PG-13                                              |\n",
       "| Thor (2011)                                            | 2011                                                   | July                                                   | Action                                                 | 115                                                    | USA:PG-13                                              |\n",
       "| Un monstre à Paris (2011)                              | 2011                                                   | December                                               | Romance                                                |  90                                                    | USA:PG                                                 |\n",
       "| The Adjustment Bureau (2011)                           | 2011                                                   | March                                                  | Romance                                                | 106                                                    | USA:PG-13                                              |\n",
       "| 21 Brothers (2011)                                     | 2011                                                   | November                                               | Drama                                                  |  96                                                    | USA:Unrated                                            |\n",
       "| The Darkest Hour (2011)                                | 2011                                                   | December                                               | Horror                                                 |  89                                                    | USA:PG-13                                              |\n",
       "| 247°F (2011)                                           | 2011                                                   | September                                              | Horror                                                 |  90                                                    | USA:R                                                  |\n",
       "| Martha Marcy May Marlene (2011)                        | 2011                                                   | October                                                | Thriller                                               | 102                                                    | USA:R                                                  |\n",
       "| Mrs. Carey's Concert (2011)                            | 2011                                                   | April                                                  | Drama                                                  |  95                                                    | USA:PG                                                 |\n",
       "\n"
      ],
      "text/plain": [
       "   movie                                                  year month    \n",
       "1  Magic Trip: Ken Kesey's Search for a Kool Place (2011) 2011 November \n",
       "2  Abduction (2011/I)                                     2011 August   \n",
       "3  Thor (2011)                                            2011 July     \n",
       "4  Un monstre à Paris (2011)                              2011 December \n",
       "5  The Adjustment Bureau (2011)                           2011 March    \n",
       "6  21 Brothers (2011)                                     2011 November \n",
       "7  The Darkest Hour (2011)                                2011 December \n",
       "8  247°F (2011)                                           2011 September\n",
       "9  Martha Marcy May Marlene (2011)                        2011 October  \n",
       "10 Mrs. Carey's Concert (2011)                            2011 April    \n",
       "   genre       runtime rating     \n",
       "1  Documentary 107     USA:R      \n",
       "2  Mystery     106     USA:PG-13  \n",
       "3  Action      115     USA:PG-13  \n",
       "4  Romance      90     USA:PG     \n",
       "5  Romance     106     USA:PG-13  \n",
       "6  Drama        96     USA:Unrated\n",
       "7  Horror       89     USA:PG-13  \n",
       "8  Horror       90     USA:R      \n",
       "9  Thriller    102     USA:R      \n",
       "10 Drama        95     USA:PG     "
      ]
     },
     "metadata": {},
     "output_type": "display_data"
    }
   ],
   "source": [
    "# get items by year\n",
    "selected_year = 2011\n",
    "\n",
    "# USE THIS ONE TO FETCH MOVIES BY YEAR FROM THEIR NAME (I noticed some movies have a different year than in the name, but possibly not in this combined table)\n",
    "# movie year found in movie name i.e. \"{Title} (2014)\" or \"{Title} (2014/I)\", extract year via pattern matching because year column is inaccurate for some reason\n",
    "#regex_year = paste0(\"\\\\(\", selected_year, \"\\\\)|\\\\(\", selected_year, \"\\\\/\")\n",
    "#movies_in_selected_year <- subset(data, grepl(regex_year, movie))\n",
    "\n",
    "# fetch the movies by the selected year\n",
    "movies_in_selected_year <- subset(data, year == selected_year)\n",
    "\n",
    "# output a sample of movies found for given year\n",
    "sample_n(movies_in_selected_year, 10)"
   ]
  },
  {
   "cell_type": "code",
   "execution_count": 24,
   "metadata": {},
   "outputs": [
    {
     "data": {
      "text/html": [
       "<table>\n",
       "<thead><tr><th scope=col>movie</th><th scope=col>year</th><th scope=col>month</th><th scope=col>genre</th><th scope=col>runtime</th><th scope=col>rating</th></tr></thead>\n",
       "<tbody>\n",
       "\t<tr><td>Planes (2013)              </td><td>2013                       </td><td>December                   </td><td>Adventure                  </td><td> 91                        </td><td>USA:PG                     </td></tr>\n",
       "\t<tr><td>The Killer Inside Me (2010)</td><td>2010                       </td><td>April                      </td><td>Thriller                   </td><td>109                        </td><td>USA:R                      </td></tr>\n",
       "\t<tr><td>Jason Bourne (2016)        </td><td>2016                       </td><td>September                  </td><td>Thriller                   </td><td>123                        </td><td>USA:PG-13                  </td></tr>\n",
       "\t<tr><td>I Origins (2014)           </td><td>2014                       </td><td>January                    </td><td>Romance                    </td><td>106                        </td><td>USA:R                      </td></tr>\n",
       "\t<tr><td>In Time (2011)             </td><td>2011                       </td><td>October                    </td><td>Thriller                   </td><td>109                        </td><td>USA:PG-13                  </td></tr>\n",
       "\t<tr><td>Hot Tub Time Machine (2010)</td><td>2010                       </td><td>November                   </td><td>Sci-Fi                     </td><td>101                        </td><td>USA:R                      </td></tr>\n",
       "\t<tr><td>Amber Alert (2012)         </td><td>2012                       </td><td>November                   </td><td>Thriller                   </td><td> 80                        </td><td>USA:R                      </td></tr>\n",
       "\t<tr><td>Yi dai zong shi (2013)     </td><td>2013                       </td><td>October                    </td><td>Biography                  </td><td>111                        </td><td>USA:PG-13                  </td></tr>\n",
       "\t<tr><td>The Hunger Games (2012)    </td><td>2012                       </td><td>June                       </td><td>Adventure                  </td><td>142                        </td><td>USA:PG-13                  </td></tr>\n",
       "\t<tr><td>The Tall Man (2012)        </td><td>2012                       </td><td>July                       </td><td>Drama                      </td><td>106                        </td><td>USA:R                      </td></tr>\n",
       "</tbody>\n",
       "</table>\n"
      ],
      "text/latex": [
       "\\begin{tabular}{r|llllll}\n",
       " movie & year & month & genre & runtime & rating\\\\\n",
       "\\hline\n",
       "\t Planes (2013)               & 2013                        & December                    & Adventure                   &  91                         & USA:PG                     \\\\\n",
       "\t The Killer Inside Me (2010) & 2010                        & April                       & Thriller                    & 109                         & USA:R                      \\\\\n",
       "\t Jason Bourne (2016)         & 2016                        & September                   & Thriller                    & 123                         & USA:PG-13                  \\\\\n",
       "\t I Origins (2014)            & 2014                        & January                     & Romance                     & 106                         & USA:R                      \\\\\n",
       "\t In Time (2011)              & 2011                        & October                     & Thriller                    & 109                         & USA:PG-13                  \\\\\n",
       "\t Hot Tub Time Machine (2010) & 2010                        & November                    & Sci-Fi                      & 101                         & USA:R                      \\\\\n",
       "\t Amber Alert (2012)          & 2012                        & November                    & Thriller                    &  80                         & USA:R                      \\\\\n",
       "\t Yi dai zong shi (2013)      & 2013                        & October                     & Biography                   & 111                         & USA:PG-13                  \\\\\n",
       "\t The Hunger Games (2012)     & 2012                        & June                        & Adventure                   & 142                         & USA:PG-13                  \\\\\n",
       "\t The Tall Man (2012)         & 2012                        & July                        & Drama                       & 106                         & USA:R                      \\\\\n",
       "\\end{tabular}\n"
      ],
      "text/markdown": [
       "\n",
       "| movie | year | month | genre | runtime | rating |\n",
       "|---|---|---|---|---|---|\n",
       "| Planes (2013)               | 2013                        | December                    | Adventure                   |  91                         | USA:PG                      |\n",
       "| The Killer Inside Me (2010) | 2010                        | April                       | Thriller                    | 109                         | USA:R                       |\n",
       "| Jason Bourne (2016)         | 2016                        | September                   | Thriller                    | 123                         | USA:PG-13                   |\n",
       "| I Origins (2014)            | 2014                        | January                     | Romance                     | 106                         | USA:R                       |\n",
       "| In Time (2011)              | 2011                        | October                     | Thriller                    | 109                         | USA:PG-13                   |\n",
       "| Hot Tub Time Machine (2010) | 2010                        | November                    | Sci-Fi                      | 101                         | USA:R                       |\n",
       "| Amber Alert (2012)          | 2012                        | November                    | Thriller                    |  80                         | USA:R                       |\n",
       "| Yi dai zong shi (2013)      | 2013                        | October                     | Biography                   | 111                         | USA:PG-13                   |\n",
       "| The Hunger Games (2012)     | 2012                        | June                        | Adventure                   | 142                         | USA:PG-13                   |\n",
       "| The Tall Man (2012)         | 2012                        | July                        | Drama                       | 106                         | USA:R                       |\n",
       "\n"
      ],
      "text/plain": [
       "   movie                       year month     genre     runtime rating   \n",
       "1  Planes (2013)               2013 December  Adventure  91     USA:PG   \n",
       "2  The Killer Inside Me (2010) 2010 April     Thriller  109     USA:R    \n",
       "3  Jason Bourne (2016)         2016 September Thriller  123     USA:PG-13\n",
       "4  I Origins (2014)            2014 January   Romance   106     USA:R    \n",
       "5  In Time (2011)              2011 October   Thriller  109     USA:PG-13\n",
       "6  Hot Tub Time Machine (2010) 2010 November  Sci-Fi    101     USA:R    \n",
       "7  Amber Alert (2012)          2012 November  Thriller   80     USA:R    \n",
       "8  Yi dai zong shi (2013)      2013 October   Biography 111     USA:PG-13\n",
       "9  The Hunger Games (2012)     2012 June      Adventure 142     USA:PG-13\n",
       "10 The Tall Man (2012)         2012 July      Drama     106     USA:R    "
      ]
     },
     "metadata": {},
     "output_type": "display_data"
    }
   ],
   "source": [
    "# get items by decade (where decades are in format of 1990, 2000, 2010, etc... for next 9 years, i.e. 1990-1999, 2000-2009, etc..)\n",
    "selected_decade = 2010\n",
    "\n",
    "# USE THIS ONE TO FETCH MOVIES BY YEAR FROM THEIR NAME\n",
    "# movie year found in movie name i.e. \"{Title} (2014)\" or \"{Title} (2014/I)\", extract decade via pattern matching for decade + 9\n",
    "#regex_decade = paste0(\"\\\\(\", selected_decade / 10, \"[0-9]\\\\)|\\\\(\", selected_decade / 10, \"[0-9]\\\\/\")\n",
    "#movies_in_selected_decade <- subset(data, grepl(regex_decade, movie))\n",
    "\n",
    "# fetch the movies by the selected year\n",
    "movies_in_selected_decade <- subset(data, year >= selected_decade & year < selected_decade + 10)\n",
    "\n",
    "# output a sample of movies found for given year\n",
    "sample_n(movies_in_selected_decade, 10)"
   ]
  },
  {
   "cell_type": "code",
   "execution_count": 25,
   "metadata": {},
   "outputs": [],
   "source": [
    "############## CHOOSE GENRE ##############"
   ]
  },
  {
   "cell_type": "code",
   "execution_count": 26,
   "metadata": {},
   "outputs": [
    {
     "data": {
      "text/html": [
       "<table>\n",
       "<thead><tr><th scope=col>movie</th><th scope=col>year</th><th scope=col>month</th><th scope=col>genre</th><th scope=col>runtime</th><th scope=col>rating</th></tr></thead>\n",
       "<tbody>\n",
       "\t<tr><td>Cesar Chavez (2014)                                 </td><td>2014                                                </td><td>October                                             </td><td>Drama                                               </td><td>102                                                 </td><td>USA:PG-13                                           </td></tr>\n",
       "\t<tr><td>Das Experiment (2001)                               </td><td>2001                                                </td><td>October                                             </td><td>Drama                                               </td><td>114                                                 </td><td>USA:R                                               </td></tr>\n",
       "\t<tr><td>Beyond Re-Animator (2003)                           </td><td>2003                                                </td><td>September                                           </td><td>Comedy                                              </td><td> 95                                                 </td><td>USA:R                                               </td></tr>\n",
       "\t<tr><td>Criss Cross (1949)                                  </td><td>1949                                                </td><td>April                                               </td><td>Drama                                               </td><td> 83                                                 </td><td>USA:Approved                                        </td></tr>\n",
       "\t<tr><td>Pygmalion (1938)                                    </td><td>1938                                                </td><td>October                                             </td><td>Drama                                               </td><td> 96                                                 </td><td>USA:Approved                                        </td></tr>\n",
       "\t<tr><td>The Thief Who Came to Dinner (1973)                 </td><td>1973                                                </td><td>March                                               </td><td>Comedy                                              </td><td>104                                                 </td><td>USA:PG                                              </td></tr>\n",
       "\t<tr><td>The Day the Earth Stood Still (1951)                </td><td>1951                                                </td><td>November                                            </td><td>Drama                                               </td><td> 85                                                 </td><td>USA:G                                               </td></tr>\n",
       "\t<tr><td>Esther Waters (1948)                                </td><td>1948                                                </td><td>November                                            </td><td>Drama                                               </td><td>108                                                 </td><td>USA:Passed                                          </td></tr>\n",
       "\t<tr><td>The Pirates! In an Adventure with Scientists! (2012)</td><td>2012                                                </td><td>July                                                </td><td>Comedy                                              </td><td> 88                                                 </td><td>USA:PG                                              </td></tr>\n",
       "\t<tr><td>The Ex-Mrs. Bradford (1936)                         </td><td>1936                                                </td><td>August                                              </td><td>Comedy                                              </td><td> 82                                                 </td><td>USA:Approved                                        </td></tr>\n",
       "</tbody>\n",
       "</table>\n"
      ],
      "text/latex": [
       "\\begin{tabular}{r|llllll}\n",
       " movie & year & month & genre & runtime & rating\\\\\n",
       "\\hline\n",
       "\t Cesar Chavez (2014)                                  & 2014                                                 & October                                              & Drama                                                & 102                                                  & USA:PG-13                                           \\\\\n",
       "\t Das Experiment (2001)                                & 2001                                                 & October                                              & Drama                                                & 114                                                  & USA:R                                               \\\\\n",
       "\t Beyond Re-Animator (2003)                            & 2003                                                 & September                                            & Comedy                                               &  95                                                  & USA:R                                               \\\\\n",
       "\t Criss Cross (1949)                                   & 1949                                                 & April                                                & Drama                                                &  83                                                  & USA:Approved                                        \\\\\n",
       "\t Pygmalion (1938)                                     & 1938                                                 & October                                              & Drama                                                &  96                                                  & USA:Approved                                        \\\\\n",
       "\t The Thief Who Came to Dinner (1973)                  & 1973                                                 & March                                                & Comedy                                               & 104                                                  & USA:PG                                              \\\\\n",
       "\t The Day the Earth Stood Still (1951)                 & 1951                                                 & November                                             & Drama                                                &  85                                                  & USA:G                                               \\\\\n",
       "\t Esther Waters (1948)                                 & 1948                                                 & November                                             & Drama                                                & 108                                                  & USA:Passed                                          \\\\\n",
       "\t The Pirates! In an Adventure with Scientists! (2012) & 2012                                                 & July                                                 & Comedy                                               &  88                                                  & USA:PG                                              \\\\\n",
       "\t The Ex-Mrs. Bradford (1936)                          & 1936                                                 & August                                               & Comedy                                               &  82                                                  & USA:Approved                                        \\\\\n",
       "\\end{tabular}\n"
      ],
      "text/markdown": [
       "\n",
       "| movie | year | month | genre | runtime | rating |\n",
       "|---|---|---|---|---|---|\n",
       "| Cesar Chavez (2014)                                  | 2014                                                 | October                                              | Drama                                                | 102                                                  | USA:PG-13                                            |\n",
       "| Das Experiment (2001)                                | 2001                                                 | October                                              | Drama                                                | 114                                                  | USA:R                                                |\n",
       "| Beyond Re-Animator (2003)                            | 2003                                                 | September                                            | Comedy                                               |  95                                                  | USA:R                                                |\n",
       "| Criss Cross (1949)                                   | 1949                                                 | April                                                | Drama                                                |  83                                                  | USA:Approved                                         |\n",
       "| Pygmalion (1938)                                     | 1938                                                 | October                                              | Drama                                                |  96                                                  | USA:Approved                                         |\n",
       "| The Thief Who Came to Dinner (1973)                  | 1973                                                 | March                                                | Comedy                                               | 104                                                  | USA:PG                                               |\n",
       "| The Day the Earth Stood Still (1951)                 | 1951                                                 | November                                             | Drama                                                |  85                                                  | USA:G                                                |\n",
       "| Esther Waters (1948)                                 | 1948                                                 | November                                             | Drama                                                | 108                                                  | USA:Passed                                           |\n",
       "| The Pirates! In an Adventure with Scientists! (2012) | 2012                                                 | July                                                 | Comedy                                               |  88                                                  | USA:PG                                               |\n",
       "| The Ex-Mrs. Bradford (1936)                          | 1936                                                 | August                                               | Comedy                                               |  82                                                  | USA:Approved                                         |\n",
       "\n"
      ],
      "text/plain": [
       "   movie                                                year month     genre \n",
       "1  Cesar Chavez (2014)                                  2014 October   Drama \n",
       "2  Das Experiment (2001)                                2001 October   Drama \n",
       "3  Beyond Re-Animator (2003)                            2003 September Comedy\n",
       "4  Criss Cross (1949)                                   1949 April     Drama \n",
       "5  Pygmalion (1938)                                     1938 October   Drama \n",
       "6  The Thief Who Came to Dinner (1973)                  1973 March     Comedy\n",
       "7  The Day the Earth Stood Still (1951)                 1951 November  Drama \n",
       "8  Esther Waters (1948)                                 1948 November  Drama \n",
       "9  The Pirates! In an Adventure with Scientists! (2012) 2012 July      Comedy\n",
       "10 The Ex-Mrs. Bradford (1936)                          1936 August    Comedy\n",
       "   runtime rating      \n",
       "1  102     USA:PG-13   \n",
       "2  114     USA:R       \n",
       "3   95     USA:R       \n",
       "4   83     USA:Approved\n",
       "5   96     USA:Approved\n",
       "6  104     USA:PG      \n",
       "7   85     USA:G       \n",
       "8  108     USA:Passed  \n",
       "9   88     USA:PG      \n",
       "10  82     USA:Approved"
      ]
     },
     "metadata": {},
     "output_type": "display_data"
    }
   ],
   "source": [
    "# genre input is comma separated string list\n",
    "selected_genres = \"comedy, Drama , fake_test, doCumenTarY, \"\n",
    "\n",
    "# split genres input to individual inputs\n",
    "genres <- unlist(strsplit(selected_genres, \",\"))\n",
    "\n",
    "# retrieve first genre as a \"base\"\n",
    "condition <- paste0(\"str_to_lower(str_trim(genres[1])) == str_to_lower(genre) \")\n",
    "\n",
    "# if more than 1 genres provided...\n",
    "if (length(genres) > 1) {\n",
    "    \n",
    "    # then build conditional string for each one after \"base\"\n",
    "    for (i in 2:length(genres)) {\n",
    "        \n",
    "        # make a new condition with the current genre, being sure to ignore case and trim the input\n",
    "        next_condition <- paste0(\"| str_to_lower(str_trim(genres[\", i, \"])) == str_to_lower(genre) \")\n",
    "        \n",
    "        # add the new condition onto the current list of conditions\n",
    "        condition <- paste(condition, next_condition, sep = \"\")\n",
    "    }\n",
    "}\n",
    "\n",
    "# movie genre found in genre column, just fetch it by parsing the condition from above\n",
    "movies_in_selected_genre <- subset(data, eval(parse(text = condition)))\n",
    "\n",
    "# output a sample of movies found for given genre(s)\n",
    "sample_n(movies_in_selected_genre, 10)"
   ]
  },
  {
   "cell_type": "code",
   "execution_count": 27,
   "metadata": {},
   "outputs": [
    {
     "name": "stdout",
     "output_type": "stream",
     "text": [
      "[1] \"---- films in genre= 27448\"\n"
     ]
    }
   ],
   "source": [
    "# number of films released in selected genre\n",
    "number_in_genre <- length(unique(movies_in_selected_genre$movie))\n",
    "print(paste0(\"---- films in genre= \", number_in_genre))"
   ]
  },
  {
   "cell_type": "code",
   "execution_count": 28,
   "metadata": {},
   "outputs": [
    {
     "name": "stdout",
     "output_type": "stream",
     "text": [
      "[1] \"---- total counted= 27448\"\n",
      "[1] \"---- unique years= 108\"\n"
     ]
    },
    {
     "data": {
      "text/html": [
       "<table>\n",
       "<thead><tr><th scope=col>year</th><th scope=col>count</th></tr></thead>\n",
       "<tbody>\n",
       "\t<tr><td>1983</td><td>213 </td></tr>\n",
       "\t<tr><td>1973</td><td>293 </td></tr>\n",
       "\t<tr><td>1957</td><td>133 </td></tr>\n",
       "\t<tr><td>1914</td><td>  1 </td></tr>\n",
       "\t<tr><td>1912</td><td>  1 </td></tr>\n",
       "</tbody>\n",
       "</table>\n"
      ],
      "text/latex": [
       "\\begin{tabular}{r|ll}\n",
       " year & count\\\\\n",
       "\\hline\n",
       "\t 1983 & 213 \\\\\n",
       "\t 1973 & 293 \\\\\n",
       "\t 1957 & 133 \\\\\n",
       "\t 1914 &   1 \\\\\n",
       "\t 1912 &   1 \\\\\n",
       "\\end{tabular}\n"
      ],
      "text/markdown": [
       "\n",
       "| year | count |\n",
       "|---|---|\n",
       "| 1983 | 213  |\n",
       "| 1973 | 293  |\n",
       "| 1957 | 133  |\n",
       "| 1914 |   1  |\n",
       "| 1912 |   1  |\n",
       "\n"
      ],
      "text/plain": [
       "  year count\n",
       "1 1983 213  \n",
       "2 1973 293  \n",
       "3 1957 133  \n",
       "4 1914   1  \n",
       "5 1912   1  "
      ]
     },
     "metadata": {},
     "output_type": "display_data"
    }
   ],
   "source": [
    "# table above can have duplicate movies due to movies having multiple genres or months\n",
    "# get a subset of those movies where a movie only appears once\n",
    "unique_movies_in_genre <- subset(movies_in_selected_genre, !duplicated(subset(movies_in_selected_genre, select = movie)))\n",
    "\n",
    "# table of \"number of films released in that genre each year\" (total_counted value should match number_in_x value)\n",
    "films_per_year_by_selected_genre <- number_films_per_year(unique_movies_in_genre)\n",
    "\n",
    "# output a sample of 5 rows\n",
    "sample_n(films_per_year_by_selected_genre, 5)"
   ]
  },
  {
   "cell_type": "code",
   "execution_count": 29,
   "metadata": {},
   "outputs": [
    {
     "data": {
      "text/html": [
       "<table>\n",
       "<thead><tr><th scope=col>year</th><th scope=col>count</th><th scope=col>total</th><th scope=col>percent</th></tr></thead>\n",
       "<tbody>\n",
       "\t<tr><td>1941    </td><td>303     </td><td>388     </td><td>78.09278</td></tr>\n",
       "\t<tr><td>2009    </td><td>649     </td><td>879     </td><td>73.83390</td></tr>\n",
       "\t<tr><td>1996    </td><td>397     </td><td>503     </td><td>78.92644</td></tr>\n",
       "\t<tr><td>2000    </td><td>495     </td><td>625     </td><td>79.20000</td></tr>\n",
       "\t<tr><td>1934    </td><td>244     </td><td>292     </td><td>83.56164</td></tr>\n",
       "</tbody>\n",
       "</table>\n"
      ],
      "text/latex": [
       "\\begin{tabular}{r|llll}\n",
       " year & count & total & percent\\\\\n",
       "\\hline\n",
       "\t 1941     & 303      & 388      & 78.09278\\\\\n",
       "\t 2009     & 649      & 879      & 73.83390\\\\\n",
       "\t 1996     & 397      & 503      & 78.92644\\\\\n",
       "\t 2000     & 495      & 625      & 79.20000\\\\\n",
       "\t 1934     & 244      & 292      & 83.56164\\\\\n",
       "\\end{tabular}\n"
      ],
      "text/markdown": [
       "\n",
       "| year | count | total | percent |\n",
       "|---|---|---|---|\n",
       "| 1941     | 303      | 388      | 78.09278 |\n",
       "| 2009     | 649      | 879      | 73.83390 |\n",
       "| 1996     | 397      | 503      | 78.92644 |\n",
       "| 2000     | 495      | 625      | 79.20000 |\n",
       "| 1934     | 244      | 292      | 83.56164 |\n",
       "\n"
      ],
      "text/plain": [
       "  year count total percent \n",
       "1 1941 303   388   78.09278\n",
       "2 2009 649   879   73.83390\n",
       "3 1996 397   503   78.92644\n",
       "4 2000 495   625   79.20000\n",
       "5 1934 244   292   83.56164"
      ]
     },
     "metadata": {},
     "output_type": "display_data"
    }
   ],
   "source": [
    "# get \"percentage of films released in that genre each year\"\n",
    "\n",
    "# add total films per year to table and calculuate percentage\n",
    "films_per_year_by_selected_genre$total <- by_year$count\n",
    "films_per_year_by_selected_genre$percent <- (films_per_year_by_selected_genre$count / by_year$count) * 100\n",
    "\n",
    "# output a sample of 5 rows\n",
    "sample_n(films_per_year_by_selected_genre, 5)"
   ]
  },
  {
   "cell_type": "code",
   "execution_count": 30,
   "metadata": {},
   "outputs": [
    {
     "name": "stdout",
     "output_type": "stream",
     "text": [
      "[1] \"---- total counted= 27448\"\n",
      "[1] \"---- unique decades= 11\"\n"
     ]
    },
    {
     "data": {
      "text/html": [
       "<table>\n",
       "<thead><tr><th scope=col>decade</th><th scope=col>count</th></tr></thead>\n",
       "<tbody>\n",
       "\t<tr><td>1950</td><td>1549</td></tr>\n",
       "\t<tr><td>1910</td><td>  23</td></tr>\n",
       "\t<tr><td>1960</td><td>1135</td></tr>\n",
       "\t<tr><td>1940</td><td>2288</td></tr>\n",
       "\t<tr><td>1970</td><td>2613</td></tr>\n",
       "</tbody>\n",
       "</table>\n"
      ],
      "text/latex": [
       "\\begin{tabular}{r|ll}\n",
       " decade & count\\\\\n",
       "\\hline\n",
       "\t 1950 & 1549\\\\\n",
       "\t 1910 &   23\\\\\n",
       "\t 1960 & 1135\\\\\n",
       "\t 1940 & 2288\\\\\n",
       "\t 1970 & 2613\\\\\n",
       "\\end{tabular}\n"
      ],
      "text/markdown": [
       "\n",
       "| decade | count |\n",
       "|---|---|\n",
       "| 1950 | 1549 |\n",
       "| 1910 |   23 |\n",
       "| 1960 | 1135 |\n",
       "| 1940 | 2288 |\n",
       "| 1970 | 2613 |\n",
       "\n"
      ],
      "text/plain": [
       "  decade count\n",
       "1 1950   1549 \n",
       "2 1910     23 \n",
       "3 1960   1135 \n",
       "4 1940   2288 \n",
       "5 1970   2613 "
      ]
     },
     "metadata": {},
     "output_type": "display_data"
    }
   ],
   "source": [
    "# table of \"number of films released in that genre each decade\" (total_counted value should match number_in_x value)\n",
    "films_per_decade_by_selected_genre <- number_films_per_decade(unique_movies_in_genre)\n",
    "\n",
    "# output a sample of 5 rows\n",
    "sample_n(films_per_decade_by_selected_genre, 5)"
   ]
  },
  {
   "cell_type": "code",
   "execution_count": 31,
   "metadata": {},
   "outputs": [
    {
     "data": {
      "text/html": [
       "<table>\n",
       "<thead><tr><th scope=col>decade</th><th scope=col>count</th><th scope=col>total</th><th scope=col>percent</th></tr></thead>\n",
       "<tbody>\n",
       "\t<tr><td>1910    </td><td>  23    </td><td>  34    </td><td>67.64706</td></tr>\n",
       "\t<tr><td>1920    </td><td> 394    </td><td> 494    </td><td>79.75709</td></tr>\n",
       "\t<tr><td>1930    </td><td>2379    </td><td>3031    </td><td>78.48895</td></tr>\n",
       "\t<tr><td>1940    </td><td>2288    </td><td>3049    </td><td>75.04100</td></tr>\n",
       "\t<tr><td>1950    </td><td>1549    </td><td>2475    </td><td>62.58586</td></tr>\n",
       "\t<tr><td>1960    </td><td>1135    </td><td>1583    </td><td>71.69931</td></tr>\n",
       "\t<tr><td>1970    </td><td>2613    </td><td>3517    </td><td>74.29628</td></tr>\n",
       "\t<tr><td>1980    </td><td>2758    </td><td>3754    </td><td>73.46830</td></tr>\n",
       "\t<tr><td>1990    </td><td>3760    </td><td>4916    </td><td>76.48495</td></tr>\n",
       "\t<tr><td>2000    </td><td>5915    </td><td>7551    </td><td>78.33400</td></tr>\n",
       "\t<tr><td>2010    </td><td>4634    </td><td>6192    </td><td>74.83850</td></tr>\n",
       "</tbody>\n",
       "</table>\n"
      ],
      "text/latex": [
       "\\begin{tabular}{r|llll}\n",
       " decade & count & total & percent\\\\\n",
       "\\hline\n",
       "\t 1910     &   23     &   34     & 67.64706\\\\\n",
       "\t 1920     &  394     &  494     & 79.75709\\\\\n",
       "\t 1930     & 2379     & 3031     & 78.48895\\\\\n",
       "\t 1940     & 2288     & 3049     & 75.04100\\\\\n",
       "\t 1950     & 1549     & 2475     & 62.58586\\\\\n",
       "\t 1960     & 1135     & 1583     & 71.69931\\\\\n",
       "\t 1970     & 2613     & 3517     & 74.29628\\\\\n",
       "\t 1980     & 2758     & 3754     & 73.46830\\\\\n",
       "\t 1990     & 3760     & 4916     & 76.48495\\\\\n",
       "\t 2000     & 5915     & 7551     & 78.33400\\\\\n",
       "\t 2010     & 4634     & 6192     & 74.83850\\\\\n",
       "\\end{tabular}\n"
      ],
      "text/markdown": [
       "\n",
       "| decade | count | total | percent |\n",
       "|---|---|---|---|\n",
       "| 1910     |   23     |   34     | 67.64706 |\n",
       "| 1920     |  394     |  494     | 79.75709 |\n",
       "| 1930     | 2379     | 3031     | 78.48895 |\n",
       "| 1940     | 2288     | 3049     | 75.04100 |\n",
       "| 1950     | 1549     | 2475     | 62.58586 |\n",
       "| 1960     | 1135     | 1583     | 71.69931 |\n",
       "| 1970     | 2613     | 3517     | 74.29628 |\n",
       "| 1980     | 2758     | 3754     | 73.46830 |\n",
       "| 1990     | 3760     | 4916     | 76.48495 |\n",
       "| 2000     | 5915     | 7551     | 78.33400 |\n",
       "| 2010     | 4634     | 6192     | 74.83850 |\n",
       "\n"
      ],
      "text/plain": [
       "   decade count total percent \n",
       "1  1910     23    34  67.64706\n",
       "2  1920    394   494  79.75709\n",
       "3  1930   2379  3031  78.48895\n",
       "4  1940   2288  3049  75.04100\n",
       "5  1950   1549  2475  62.58586\n",
       "6  1960   1135  1583  71.69931\n",
       "7  1970   2613  3517  74.29628\n",
       "8  1980   2758  3754  73.46830\n",
       "9  1990   3760  4916  76.48495\n",
       "10 2000   5915  7551  78.33400\n",
       "11 2010   4634  6192  74.83850"
      ]
     },
     "metadata": {},
     "output_type": "display_data"
    }
   ],
   "source": [
    "# get \"percentage of films released in that genre each decade\"\n",
    "\n",
    "# add total films per decade to table and calculuate percentage\n",
    "films_per_decade_by_selected_genre$total <- by_decade$count\n",
    "films_per_decade_by_selected_genre$percent <- (films_per_decade_by_selected_genre$count / by_decade$count) * 100\n",
    "\n",
    "# show output\n",
    "films_per_decade_by_selected_genre"
   ]
  },
  {
   "cell_type": "code",
   "execution_count": 32,
   "metadata": {},
   "outputs": [
    {
     "name": "stdout",
     "output_type": "stream",
     "text": [
      "[1] \"---- total counted= 27448\"\n",
      "[1] \"---- unique months= 12\"\n"
     ]
    },
    {
     "data": {
      "text/html": [
       "<table>\n",
       "<thead><tr><th scope=col>month</th><th scope=col>count</th></tr></thead>\n",
       "<tbody>\n",
       "\t<tr><td>October  </td><td>2502     </td></tr>\n",
       "\t<tr><td>March    </td><td>2293     </td></tr>\n",
       "\t<tr><td>July     </td><td>1645     </td></tr>\n",
       "\t<tr><td>September</td><td>3574     </td></tr>\n",
       "\t<tr><td>February </td><td>1906     </td></tr>\n",
       "</tbody>\n",
       "</table>\n"
      ],
      "text/latex": [
       "\\begin{tabular}{r|ll}\n",
       " month & count\\\\\n",
       "\\hline\n",
       "\t October   & 2502     \\\\\n",
       "\t March     & 2293     \\\\\n",
       "\t July      & 1645     \\\\\n",
       "\t September & 3574     \\\\\n",
       "\t February  & 1906     \\\\\n",
       "\\end{tabular}\n"
      ],
      "text/markdown": [
       "\n",
       "| month | count |\n",
       "|---|---|\n",
       "| October   | 2502      |\n",
       "| March     | 2293      |\n",
       "| July      | 1645      |\n",
       "| September | 3574      |\n",
       "| February  | 1906      |\n",
       "\n"
      ],
      "text/plain": [
       "  month     count\n",
       "1 October   2502 \n",
       "2 March     2293 \n",
       "3 July      1645 \n",
       "4 September 3574 \n",
       "5 February  1906 "
      ]
     },
     "metadata": {},
     "output_type": "display_data"
    }
   ],
   "source": [
    "# table of \"number of films released in that genre each month\" (total_counted value should match number_in_x value)\n",
    "films_per_month_by_selected_genre <- number_films_per_month(unique_movies_in_genre)\n",
    "\n",
    "# output a sample of 5 rows\n",
    "sample_n(films_per_month_by_selected_genre, 5)"
   ]
  },
  {
   "cell_type": "code",
   "execution_count": 33,
   "metadata": {},
   "outputs": [
    {
     "data": {
      "text/html": [
       "<table>\n",
       "<thead><tr><th scope=col>month</th><th scope=col>count</th><th scope=col>total</th><th scope=col>percent</th></tr></thead>\n",
       "<tbody>\n",
       "\t<tr><td>January  </td><td>2501     </td><td>3150     </td><td>79.39683 </td></tr>\n",
       "\t<tr><td>February </td><td>1906     </td><td>2511     </td><td>75.90601 </td></tr>\n",
       "\t<tr><td>March    </td><td>2293     </td><td>3105     </td><td>73.84863 </td></tr>\n",
       "\t<tr><td>April    </td><td>2289     </td><td>3082     </td><td>74.26995 </td></tr>\n",
       "\t<tr><td>May      </td><td>2673     </td><td>3485     </td><td>76.70014 </td></tr>\n",
       "\t<tr><td>June     </td><td>1971     </td><td>2651     </td><td>74.34930 </td></tr>\n",
       "\t<tr><td>July     </td><td>1645     </td><td>2410     </td><td>68.25726 </td></tr>\n",
       "\t<tr><td>August   </td><td>2129     </td><td>2921     </td><td>72.88600 </td></tr>\n",
       "\t<tr><td>September</td><td>3574     </td><td>4453     </td><td>80.26050 </td></tr>\n",
       "\t<tr><td>October  </td><td>2502     </td><td>3478     </td><td>71.93790 </td></tr>\n",
       "\t<tr><td>November </td><td>1977     </td><td>2667     </td><td>74.12823 </td></tr>\n",
       "\t<tr><td>December </td><td>1988     </td><td>2683     </td><td>74.09616 </td></tr>\n",
       "</tbody>\n",
       "</table>\n"
      ],
      "text/latex": [
       "\\begin{tabular}{r|llll}\n",
       " month & count & total & percent\\\\\n",
       "\\hline\n",
       "\t January   & 2501      & 3150      & 79.39683 \\\\\n",
       "\t February  & 1906      & 2511      & 75.90601 \\\\\n",
       "\t March     & 2293      & 3105      & 73.84863 \\\\\n",
       "\t April     & 2289      & 3082      & 74.26995 \\\\\n",
       "\t May       & 2673      & 3485      & 76.70014 \\\\\n",
       "\t June      & 1971      & 2651      & 74.34930 \\\\\n",
       "\t July      & 1645      & 2410      & 68.25726 \\\\\n",
       "\t August    & 2129      & 2921      & 72.88600 \\\\\n",
       "\t September & 3574      & 4453      & 80.26050 \\\\\n",
       "\t October   & 2502      & 3478      & 71.93790 \\\\\n",
       "\t November  & 1977      & 2667      & 74.12823 \\\\\n",
       "\t December  & 1988      & 2683      & 74.09616 \\\\\n",
       "\\end{tabular}\n"
      ],
      "text/markdown": [
       "\n",
       "| month | count | total | percent |\n",
       "|---|---|---|---|\n",
       "| January   | 2501      | 3150      | 79.39683  |\n",
       "| February  | 1906      | 2511      | 75.90601  |\n",
       "| March     | 2293      | 3105      | 73.84863  |\n",
       "| April     | 2289      | 3082      | 74.26995  |\n",
       "| May       | 2673      | 3485      | 76.70014  |\n",
       "| June      | 1971      | 2651      | 74.34930  |\n",
       "| July      | 1645      | 2410      | 68.25726  |\n",
       "| August    | 2129      | 2921      | 72.88600  |\n",
       "| September | 3574      | 4453      | 80.26050  |\n",
       "| October   | 2502      | 3478      | 71.93790  |\n",
       "| November  | 1977      | 2667      | 74.12823  |\n",
       "| December  | 1988      | 2683      | 74.09616  |\n",
       "\n"
      ],
      "text/plain": [
       "   month     count total percent \n",
       "1  January   2501  3150  79.39683\n",
       "2  February  1906  2511  75.90601\n",
       "3  March     2293  3105  73.84863\n",
       "4  April     2289  3082  74.26995\n",
       "5  May       2673  3485  76.70014\n",
       "6  June      1971  2651  74.34930\n",
       "7  July      1645  2410  68.25726\n",
       "8  August    2129  2921  72.88600\n",
       "9  September 3574  4453  80.26050\n",
       "10 October   2502  3478  71.93790\n",
       "11 November  1977  2667  74.12823\n",
       "12 December  1988  2683  74.09616"
      ]
     },
     "metadata": {},
     "output_type": "display_data"
    }
   ],
   "source": [
    "# get \"percentage of films released in that genre each month\"\n",
    "\n",
    "# add total films per month to table and calculuate percentage\n",
    "films_per_month_by_selected_genre$total <- by_month$count\n",
    "films_per_month_by_selected_genre$percent <- (films_per_month_by_selected_genre$count / by_month$count) * 100\n",
    "\n",
    "# show output\n",
    "films_per_month_by_selected_genre"
   ]
  },
  {
   "cell_type": "code",
   "execution_count": 34,
   "metadata": {},
   "outputs": [
    {
     "name": "stdout",
     "output_type": "stream",
     "text": [
      "[1] \"---- total counted= 27448\"\n",
      "[1] \"---- unique runtimes= 395\"\n"
     ]
    },
    {
     "data": {
      "text/html": [
       "<table>\n",
       "<thead><tr><th scope=col>runtime</th><th scope=col>count</th></tr></thead>\n",
       "<tbody>\n",
       "\t<tr><td>433</td><td>0  </td></tr>\n",
       "\t<tr><td>280</td><td>1  </td></tr>\n",
       "\t<tr><td>166</td><td>2  </td></tr>\n",
       "\t<tr><td>268</td><td>0  </td></tr>\n",
       "\t<tr><td>294</td><td>1  </td></tr>\n",
       "</tbody>\n",
       "</table>\n"
      ],
      "text/latex": [
       "\\begin{tabular}{r|ll}\n",
       " runtime & count\\\\\n",
       "\\hline\n",
       "\t 433 & 0  \\\\\n",
       "\t 280 & 1  \\\\\n",
       "\t 166 & 2  \\\\\n",
       "\t 268 & 0  \\\\\n",
       "\t 294 & 1  \\\\\n",
       "\\end{tabular}\n"
      ],
      "text/markdown": [
       "\n",
       "| runtime | count |\n",
       "|---|---|\n",
       "| 433 | 0   |\n",
       "| 280 | 1   |\n",
       "| 166 | 2   |\n",
       "| 268 | 0   |\n",
       "| 294 | 1   |\n",
       "\n"
      ],
      "text/plain": [
       "  runtime count\n",
       "1 433     0    \n",
       "2 280     1    \n",
       "3 166     2    \n",
       "4 268     0    \n",
       "5 294     1    "
      ]
     },
     "metadata": {},
     "output_type": "display_data"
    }
   ],
   "source": [
    "# table of \"distribution of running times of films in that genre\" (total_counted value should match number_in_x value)\n",
    "distribution_runtimes_by_selected_genre <- distribution_of_runtimes(unique_movies_in_genre)\n",
    "\n",
    "# output a sample of 5 rows\n",
    "sample_n(distribution_runtimes_by_selected_genre, 5)"
   ]
  },
  {
   "cell_type": "code",
   "execution_count": 35,
   "metadata": {},
   "outputs": [
    {
     "name": "stdout",
     "output_type": "stream",
     "text": [
      "[1] \"---- total counted= 27448\"\n",
      "[1] \"---- unique certificates= 12\"\n"
     ]
    },
    {
     "data": {
      "text/html": [
       "<table>\n",
       "<thead><tr><th scope=col>rating</th><th scope=col>count</th></tr></thead>\n",
       "<tbody>\n",
       "\t<tr><td>USA:G   </td><td>  840   </td></tr>\n",
       "\t<tr><td>USA:R   </td><td>10293   </td></tr>\n",
       "\t<tr><td>USA:Open</td><td>    6   </td></tr>\n",
       "\t<tr><td>USA:AO  </td><td>    3   </td></tr>\n",
       "\t<tr><td>USA:PG  </td><td> 3518   </td></tr>\n",
       "</tbody>\n",
       "</table>\n"
      ],
      "text/latex": [
       "\\begin{tabular}{r|ll}\n",
       " rating & count\\\\\n",
       "\\hline\n",
       "\t USA:G    &   840   \\\\\n",
       "\t USA:R    & 10293   \\\\\n",
       "\t USA:Open &     6   \\\\\n",
       "\t USA:AO   &     3   \\\\\n",
       "\t USA:PG   &  3518   \\\\\n",
       "\\end{tabular}\n"
      ],
      "text/markdown": [
       "\n",
       "| rating | count |\n",
       "|---|---|\n",
       "| USA:G    |   840    |\n",
       "| USA:R    | 10293    |\n",
       "| USA:Open |     6    |\n",
       "| USA:AO   |     3    |\n",
       "| USA:PG   |  3518    |\n",
       "\n"
      ],
      "text/plain": [
       "  rating   count\n",
       "1 USA:G      840\n",
       "2 USA:R    10293\n",
       "3 USA:Open     6\n",
       "4 USA:AO       3\n",
       "5 USA:PG    3518"
      ]
     },
     "metadata": {},
     "output_type": "display_data"
    }
   ],
   "source": [
    "# table of \"distribution of certificates in that genre\" (total_counted value should match number_in_x value)\n",
    "distribution_certificates_by_selected_genre <- distribution_of_certificates(unique_movies_in_genre)\n",
    "\n",
    "# output a sample of 5 rows\n",
    "sample_n(distribution_certificates_by_selected_genre, 5)"
   ]
  },
  {
   "cell_type": "code",
   "execution_count": 36,
   "metadata": {},
   "outputs": [
    {
     "name": "stderr",
     "output_type": "stream",
     "text": [
      "Selecting by count\n"
     ]
    },
    {
     "name": "stdout",
     "output_type": "stream",
     "text": [
      "[1] \"---- total counted= 41369\"\n",
      "[1] \"---- unique keywords= 10\"\n"
     ]
    },
    {
     "data": {
      "text/html": [
       "<table>\n",
       "<thead><tr><th scope=col>keyword</th><th scope=col>count</th></tr></thead>\n",
       "<tbody>\n",
       "\t<tr><td>independent-film            </td><td>6555                        </td></tr>\n",
       "\t<tr><td>murder                      </td><td>5112                        </td></tr>\n",
       "\t<tr><td>cigarette-smoking           </td><td>3621                        </td></tr>\n",
       "\t<tr><td>character-name-in-title     </td><td>3325                        </td></tr>\n",
       "\t<tr><td>death                       </td><td>3725                        </td></tr>\n",
       "\t<tr><td>father-son-relationship     </td><td>3703                        </td></tr>\n",
       "\t<tr><td>husband-wife-relationship   </td><td>4362                        </td></tr>\n",
       "\t<tr><td>father-daughter-relationship</td><td>3233                        </td></tr>\n",
       "\t<tr><td>based-on-novel              </td><td>3730                        </td></tr>\n",
       "\t<tr><td>female-nudity               </td><td>4003                        </td></tr>\n",
       "</tbody>\n",
       "</table>\n"
      ],
      "text/latex": [
       "\\begin{tabular}{r|ll}\n",
       " keyword & count\\\\\n",
       "\\hline\n",
       "\t independent-film             & 6555                        \\\\\n",
       "\t murder                       & 5112                        \\\\\n",
       "\t cigarette-smoking            & 3621                        \\\\\n",
       "\t character-name-in-title      & 3325                        \\\\\n",
       "\t death                        & 3725                        \\\\\n",
       "\t father-son-relationship      & 3703                        \\\\\n",
       "\t husband-wife-relationship    & 4362                        \\\\\n",
       "\t father-daughter-relationship & 3233                        \\\\\n",
       "\t based-on-novel               & 3730                        \\\\\n",
       "\t female-nudity                & 4003                        \\\\\n",
       "\\end{tabular}\n"
      ],
      "text/markdown": [
       "\n",
       "| keyword | count |\n",
       "|---|---|\n",
       "| independent-film             | 6555                         |\n",
       "| murder                       | 5112                         |\n",
       "| cigarette-smoking            | 3621                         |\n",
       "| character-name-in-title      | 3325                         |\n",
       "| death                        | 3725                         |\n",
       "| father-son-relationship      | 3703                         |\n",
       "| husband-wife-relationship    | 4362                         |\n",
       "| father-daughter-relationship | 3233                         |\n",
       "| based-on-novel               | 3730                         |\n",
       "| female-nudity                | 4003                         |\n",
       "\n"
      ],
      "text/plain": [
       "   keyword                      count\n",
       "1  independent-film             6555 \n",
       "2  murder                       5112 \n",
       "3  cigarette-smoking            3621 \n",
       "4  character-name-in-title      3325 \n",
       "5  death                        3725 \n",
       "6  father-son-relationship      3703 \n",
       "7  husband-wife-relationship    4362 \n",
       "8  father-daughter-relationship 3233 \n",
       "9  based-on-novel               3730 \n",
       "10 female-nudity                4003 "
      ]
     },
     "metadata": {},
     "output_type": "display_data"
    }
   ],
   "source": [
    "# table of \"distribution of top n keywords in that genre\"\n",
    "\n",
    "# keywords table only for movies found in selected_genre\n",
    "keywords_subset_for_genre <- subset(keywords_subset, movie %in% movies_in_selected_genre$movie)\n",
    "\n",
    "top_N = 10\n",
    "distribution_keywords_by_selected_genre <- distribution_of_keywords(keywords_subset_for_genre, top_N)\n",
    "\n",
    "# output a sample of 10 rows\n",
    "sample_n(distribution_keywords_by_selected_genre, 10)"
   ]
  },
  {
   "cell_type": "code",
   "execution_count": 37,
   "metadata": {},
   "outputs": [],
   "source": [
    "############## CHOOSE KEYWORD ##############"
   ]
  },
  {
   "cell_type": "code",
   "execution_count": 38,
   "metadata": {},
   "outputs": [
    {
     "data": {
      "text/html": [
       "<table>\n",
       "<thead><tr><th scope=col>X</th><th scope=col>movie</th><th scope=col>keyword</th></tr></thead>\n",
       "<tbody>\n",
       "\t<tr><td>1930478                    </td><td>Meskada (2010)             </td><td>fight                      </td></tr>\n",
       "\t<tr><td> 421020                    </td><td>Bonneville (2006)          </td><td>fight                      </td></tr>\n",
       "\t<tr><td>1110479                    </td><td>Gentle Annie (1944)        </td><td>fight                      </td></tr>\n",
       "\t<tr><td> 489005                    </td><td>Caffeine (2006)            </td><td>shotgun                    </td></tr>\n",
       "\t<tr><td> 291038                    </td><td>Bad Timing (1980)          </td><td>fight                      </td></tr>\n",
       "\t<tr><td> 151121                    </td><td>Alias Boston Blackie (1942)</td><td>fight                      </td></tr>\n",
       "\t<tr><td>2918884                    </td><td>The Boss (2016)            </td><td>fight                      </td></tr>\n",
       "\t<tr><td> 109587                    </td><td>Above the Law (1988)       </td><td>fight                      </td></tr>\n",
       "\t<tr><td> 238966                    </td><td>Armageddon (1998)          </td><td>shotgun                    </td></tr>\n",
       "\t<tr><td>1873139                    </td><td>Man on a Ledge (2012)      </td><td>fight                      </td></tr>\n",
       "</tbody>\n",
       "</table>\n"
      ],
      "text/latex": [
       "\\begin{tabular}{r|lll}\n",
       " X & movie & keyword\\\\\n",
       "\\hline\n",
       "\t 1930478                     & Meskada (2010)              & fight                      \\\\\n",
       "\t  421020                     & Bonneville (2006)           & fight                      \\\\\n",
       "\t 1110479                     & Gentle Annie (1944)         & fight                      \\\\\n",
       "\t  489005                     & Caffeine (2006)             & shotgun                    \\\\\n",
       "\t  291038                     & Bad Timing (1980)           & fight                      \\\\\n",
       "\t  151121                     & Alias Boston Blackie (1942) & fight                      \\\\\n",
       "\t 2918884                     & The Boss (2016)             & fight                      \\\\\n",
       "\t  109587                     & Above the Law (1988)        & fight                      \\\\\n",
       "\t  238966                     & Armageddon (1998)           & shotgun                    \\\\\n",
       "\t 1873139                     & Man on a Ledge (2012)       & fight                      \\\\\n",
       "\\end{tabular}\n"
      ],
      "text/markdown": [
       "\n",
       "| X | movie | keyword |\n",
       "|---|---|---|\n",
       "| 1930478                     | Meskada (2010)              | fight                       |\n",
       "|  421020                     | Bonneville (2006)           | fight                       |\n",
       "| 1110479                     | Gentle Annie (1944)         | fight                       |\n",
       "|  489005                     | Caffeine (2006)             | shotgun                     |\n",
       "|  291038                     | Bad Timing (1980)           | fight                       |\n",
       "|  151121                     | Alias Boston Blackie (1942) | fight                       |\n",
       "| 2918884                     | The Boss (2016)             | fight                       |\n",
       "|  109587                     | Above the Law (1988)        | fight                       |\n",
       "|  238966                     | Armageddon (1998)           | shotgun                     |\n",
       "| 1873139                     | Man on a Ledge (2012)       | fight                       |\n",
       "\n"
      ],
      "text/plain": [
       "   X       movie                       keyword\n",
       "1  1930478 Meskada (2010)              fight  \n",
       "2   421020 Bonneville (2006)           fight  \n",
       "3  1110479 Gentle Annie (1944)         fight  \n",
       "4   489005 Caffeine (2006)             shotgun\n",
       "5   291038 Bad Timing (1980)           fight  \n",
       "6   151121 Alias Boston Blackie (1942) fight  \n",
       "7  2918884 The Boss (2016)             fight  \n",
       "8   109587 Above the Law (1988)        fight  \n",
       "9   238966 Armageddon (1998)           shotgun\n",
       "10 1873139 Man on a Ledge (2012)       fight  "
      ]
     },
     "metadata": {},
     "output_type": "display_data"
    }
   ],
   "source": [
    "# keyword input is comma separated string list\n",
    "selected_keywords = \"fight, cat-and-mouse , fake_test, shOtguN, \"\n",
    "\n",
    "# split keyword input to individual inputs\n",
    "keywords <- unlist(strsplit(selected_keywords, \",\"))\n",
    "\n",
    "# retrieve first keyword as a \"base\"\n",
    "condition <- paste0(\"str_to_lower(str_trim(keywords[1])) == str_to_lower(keyword) \")\n",
    "\n",
    "# if more than 1 keywords provided...\n",
    "if (length(keywords) > 1) {\n",
    "    \n",
    "    # then build conditional string for each one after \"base\"\n",
    "    for (i in 2:length(keywords)) {\n",
    "        \n",
    "        # make a new condition with the current keyword, being sure to ignore case and trim the input\n",
    "        next_condition <- paste0(\"| str_to_lower(str_trim(keywords[\", i, \"])) == str_to_lower(keyword) \")\n",
    "        \n",
    "        # add the new condition onto the current list of conditions\n",
    "        condition <- paste(condition, next_condition, sep = \"\")\n",
    "    }\n",
    "}\n",
    "\n",
    "# movie keyword found in keyword column, just fetch it by parsing the condition from above\n",
    "movies_in_selected_keywords <- subset(keywords_subset, eval(parse(text = condition)))\n",
    "\n",
    "# output a sample of movies found for given keyword(s)\n",
    "sample_n(movies_in_selected_keywords, 10)"
   ]
  },
  {
   "cell_type": "code",
   "execution_count": 40,
   "metadata": {},
   "outputs": [
    {
     "data": {
      "text/html": [
       "<table>\n",
       "<thead><tr><th scope=col>movie</th><th scope=col>year</th><th scope=col>month</th><th scope=col>genre</th><th scope=col>runtime</th><th scope=col>rating</th></tr></thead>\n",
       "<tbody>\n",
       "\t<tr><td>Death Race (2008)        </td><td>2008                     </td><td>October                  </td><td>Sci-Fi                   </td><td>105                      </td><td>USA:R                    </td></tr>\n",
       "\t<tr><td>Malèna (2000)            </td><td>2000                     </td><td>December                 </td><td>Romance                  </td><td> 92                      </td><td>USA:R                    </td></tr>\n",
       "\t<tr><td>Cloud Atlas (2012)       </td><td>2012                     </td><td>December                 </td><td>Mystery                  </td><td>134                      </td><td>USA:R                    </td></tr>\n",
       "\t<tr><td>The Immigrant (2013)     </td><td>2013                     </td><td>November                 </td><td>Romance                  </td><td>120                      </td><td>USA:R                    </td></tr>\n",
       "\t<tr><td>Suspect Zero (2004)      </td><td>2004                     </td><td>October                  </td><td>Drama                    </td><td> 99                      </td><td>USA:R                    </td></tr>\n",
       "\t<tr><td>Kill Your Darlings (2013)</td><td>2013                     </td><td>December                 </td><td>Thriller                 </td><td>104                      </td><td>USA:R                    </td></tr>\n",
       "\t<tr><td>Out for Justice (1991)   </td><td>1991                     </td><td>September                </td><td>Crime                    </td><td> 91                      </td><td>USA:R                    </td></tr>\n",
       "\t<tr><td>A Simple Wish (1997)     </td><td>1997                     </td><td>October                  </td><td>Family                   </td><td> 89                      </td><td>USA:PG                   </td></tr>\n",
       "\t<tr><td>Reindeer Games (2000)    </td><td>2000                     </td><td>December                 </td><td>Crime                    </td><td>124                      </td><td>USA:R                    </td></tr>\n",
       "\t<tr><td>Mac and Me (1988)        </td><td>1988                     </td><td>September                </td><td>Family                   </td><td> 95                      </td><td>USA:PG                   </td></tr>\n",
       "</tbody>\n",
       "</table>\n"
      ],
      "text/latex": [
       "\\begin{tabular}{r|llllll}\n",
       " movie & year & month & genre & runtime & rating\\\\\n",
       "\\hline\n",
       "\t Death Race (2008)         & 2008                      & October                   & Sci-Fi                    & 105                       & USA:R                    \\\\\n",
       "\t Malèna (2000)             & 2000                      & December                  & Romance                   &  92                       & USA:R                    \\\\\n",
       "\t Cloud Atlas (2012)        & 2012                      & December                  & Mystery                   & 134                       & USA:R                    \\\\\n",
       "\t The Immigrant (2013)      & 2013                      & November                  & Romance                   & 120                       & USA:R                    \\\\\n",
       "\t Suspect Zero (2004)       & 2004                      & October                   & Drama                     &  99                       & USA:R                    \\\\\n",
       "\t Kill Your Darlings (2013) & 2013                      & December                  & Thriller                  & 104                       & USA:R                    \\\\\n",
       "\t Out for Justice (1991)    & 1991                      & September                 & Crime                     &  91                       & USA:R                    \\\\\n",
       "\t A Simple Wish (1997)      & 1997                      & October                   & Family                    &  89                       & USA:PG                   \\\\\n",
       "\t Reindeer Games (2000)     & 2000                      & December                  & Crime                     & 124                       & USA:R                    \\\\\n",
       "\t Mac and Me (1988)         & 1988                      & September                 & Family                    &  95                       & USA:PG                   \\\\\n",
       "\\end{tabular}\n"
      ],
      "text/markdown": [
       "\n",
       "| movie | year | month | genre | runtime | rating |\n",
       "|---|---|---|---|---|---|\n",
       "| Death Race (2008)         | 2008                      | October                   | Sci-Fi                    | 105                       | USA:R                     |\n",
       "| Malèna (2000)             | 2000                      | December                  | Romance                   |  92                       | USA:R                     |\n",
       "| Cloud Atlas (2012)        | 2012                      | December                  | Mystery                   | 134                       | USA:R                     |\n",
       "| The Immigrant (2013)      | 2013                      | November                  | Romance                   | 120                       | USA:R                     |\n",
       "| Suspect Zero (2004)       | 2004                      | October                   | Drama                     |  99                       | USA:R                     |\n",
       "| Kill Your Darlings (2013) | 2013                      | December                  | Thriller                  | 104                       | USA:R                     |\n",
       "| Out for Justice (1991)    | 1991                      | September                 | Crime                     |  91                       | USA:R                     |\n",
       "| A Simple Wish (1997)      | 1997                      | October                   | Family                    |  89                       | USA:PG                    |\n",
       "| Reindeer Games (2000)     | 2000                      | December                  | Crime                     | 124                       | USA:R                     |\n",
       "| Mac and Me (1988)         | 1988                      | September                 | Family                    |  95                       | USA:PG                    |\n",
       "\n"
      ],
      "text/plain": [
       "   movie                     year month     genre    runtime rating\n",
       "1  Death Race (2008)         2008 October   Sci-Fi   105     USA:R \n",
       "2  Malèna (2000)             2000 December  Romance   92     USA:R \n",
       "3  Cloud Atlas (2012)        2012 December  Mystery  134     USA:R \n",
       "4  The Immigrant (2013)      2013 November  Romance  120     USA:R \n",
       "5  Suspect Zero (2004)       2004 October   Drama     99     USA:R \n",
       "6  Kill Your Darlings (2013) 2013 December  Thriller 104     USA:R \n",
       "7  Out for Justice (1991)    1991 September Crime     91     USA:R \n",
       "8  A Simple Wish (1997)      1997 October   Family    89     USA:PG\n",
       "9  Reindeer Games (2000)     2000 December  Crime    124     USA:R \n",
       "10 Mac and Me (1988)         1988 September Family    95     USA:PG"
      ]
     },
     "metadata": {},
     "output_type": "display_data"
    },
    {
     "data": {
      "text/html": [
       "<table>\n",
       "<thead><tr><th scope=col>n</th></tr></thead>\n",
       "<tbody>\n",
       "\t<tr><td>61527</td></tr>\n",
       "</tbody>\n",
       "</table>\n"
      ],
      "text/latex": [
       "\\begin{tabular}{r|l}\n",
       " n\\\\\n",
       "\\hline\n",
       "\t 61527\\\\\n",
       "\\end{tabular}\n"
      ],
      "text/markdown": [
       "\n",
       "| n |\n",
       "|---|\n",
       "| 61527 |\n",
       "\n"
      ],
      "text/plain": [
       "  n    \n",
       "1 61527"
      ]
     },
     "metadata": {},
     "output_type": "display_data"
    }
   ],
   "source": [
    "movies_in_selected_keywords <- subset(data, movie %in% movies_in_selected_keywords$movie)\n",
    "sample_n(movies_in_selected_keywords, 10)"
   ]
  },
  {
   "cell_type": "code",
   "execution_count": 87,
   "metadata": {},
   "outputs": [],
   "source": [
    "#\n",
    "#\n",
    "# repeat code similarily as found in CHOOSE GENRE section\n",
    "#\n",
    "#"
   ]
  },
  {
   "cell_type": "code",
   "execution_count": 88,
   "metadata": {},
   "outputs": [],
   "source": [
    "############## CHOOSE CERTIFICATE ##############"
   ]
  },
  {
   "cell_type": "code",
   "execution_count": 89,
   "metadata": {},
   "outputs": [
    {
     "data": {
      "text/html": [
       "<table>\n",
       "<thead><tr><th scope=col>movie</th><th scope=col>year</th><th scope=col>month</th><th scope=col>genre</th><th scope=col>runtime</th><th scope=col>rating</th></tr></thead>\n",
       "<tbody>\n",
       "\t<tr><td>Heartlands (2002)                         </td><td>2002                                      </td><td>August                                    </td><td>Drama                                     </td><td> 90                                       </td><td>USA:PG-13                                 </td></tr>\n",
       "\t<tr><td>The Wolves (1996)                         </td><td>1996                                      </td><td>March                                     </td><td>Action                                    </td><td> 88                                       </td><td>USA:PG-13                                 </td></tr>\n",
       "\t<tr><td>Pit and the Pendulum (1961)               </td><td>1961                                      </td><td>August                                    </td><td>Mystery                                   </td><td> 80                                       </td><td>USA:Unrated                               </td></tr>\n",
       "\t<tr><td>Before I Wake (2016)                      </td><td>2016                                      </td><td>April                                     </td><td>Thriller                                  </td><td> 97                                       </td><td>USA:PG-13                                 </td></tr>\n",
       "\t<tr><td>Drowning Mona (2000)                      </td><td>2000                                      </td><td>July                                      </td><td>Comedy                                    </td><td> 96                                       </td><td>USA:PG-13                                 </td></tr>\n",
       "\t<tr><td>The Way (2010/I)                          </td><td>2010                                      </td><td>September                                 </td><td>Drama                                     </td><td>123                                       </td><td>USA:PG-13                                 </td></tr>\n",
       "\t<tr><td>Eric Clapton Planes Trains and Eric (2014)</td><td>2014                                      </td><td>November                                  </td><td>Documentary                               </td><td>155                                       </td><td>USA:Unrated                               </td></tr>\n",
       "\t<tr><td>Shallow Hal (2001)                        </td><td>2001                                      </td><td>November                                  </td><td>Comedy                                    </td><td>114                                       </td><td>USA:PG-13                                 </td></tr>\n",
       "\t<tr><td>Bachelor Night (2014)                     </td><td>2014                                      </td><td>August                                    </td><td>Comedy                                    </td><td> 88                                       </td><td>USA:Unrated                               </td></tr>\n",
       "\t<tr><td>Paradies: Hoffnung (2013)                 </td><td>2013                                      </td><td>November                                  </td><td>Drama                                     </td><td> 92                                       </td><td>USA:Unrated                               </td></tr>\n",
       "</tbody>\n",
       "</table>\n"
      ],
      "text/latex": [
       "\\begin{tabular}{r|llllll}\n",
       " movie & year & month & genre & runtime & rating\\\\\n",
       "\\hline\n",
       "\t Heartlands (2002)                          & 2002                                       & August                                     & Drama                                      &  90                                        & USA:PG-13                                 \\\\\n",
       "\t The Wolves (1996)                          & 1996                                       & March                                      & Action                                     &  88                                        & USA:PG-13                                 \\\\\n",
       "\t Pit and the Pendulum (1961)                & 1961                                       & August                                     & Mystery                                    &  80                                        & USA:Unrated                               \\\\\n",
       "\t Before I Wake (2016)                       & 2016                                       & April                                      & Thriller                                   &  97                                        & USA:PG-13                                 \\\\\n",
       "\t Drowning Mona (2000)                       & 2000                                       & July                                       & Comedy                                     &  96                                        & USA:PG-13                                 \\\\\n",
       "\t The Way (2010/I)                           & 2010                                       & September                                  & Drama                                      & 123                                        & USA:PG-13                                 \\\\\n",
       "\t Eric Clapton Planes Trains and Eric (2014) & 2014                                       & November                                   & Documentary                                & 155                                        & USA:Unrated                               \\\\\n",
       "\t Shallow Hal (2001)                         & 2001                                       & November                                   & Comedy                                     & 114                                        & USA:PG-13                                 \\\\\n",
       "\t Bachelor Night (2014)                      & 2014                                       & August                                     & Comedy                                     &  88                                        & USA:Unrated                               \\\\\n",
       "\t Paradies: Hoffnung (2013)                  & 2013                                       & November                                   & Drama                                      &  92                                        & USA:Unrated                               \\\\\n",
       "\\end{tabular}\n"
      ],
      "text/markdown": [
       "\n",
       "| movie | year | month | genre | runtime | rating |\n",
       "|---|---|---|---|---|---|\n",
       "| Heartlands (2002)                          | 2002                                       | August                                     | Drama                                      |  90                                        | USA:PG-13                                  |\n",
       "| The Wolves (1996)                          | 1996                                       | March                                      | Action                                     |  88                                        | USA:PG-13                                  |\n",
       "| Pit and the Pendulum (1961)                | 1961                                       | August                                     | Mystery                                    |  80                                        | USA:Unrated                                |\n",
       "| Before I Wake (2016)                       | 2016                                       | April                                      | Thriller                                   |  97                                        | USA:PG-13                                  |\n",
       "| Drowning Mona (2000)                       | 2000                                       | July                                       | Comedy                                     |  96                                        | USA:PG-13                                  |\n",
       "| The Way (2010/I)                           | 2010                                       | September                                  | Drama                                      | 123                                        | USA:PG-13                                  |\n",
       "| Eric Clapton Planes Trains and Eric (2014) | 2014                                       | November                                   | Documentary                                | 155                                        | USA:Unrated                                |\n",
       "| Shallow Hal (2001)                         | 2001                                       | November                                   | Comedy                                     | 114                                        | USA:PG-13                                  |\n",
       "| Bachelor Night (2014)                      | 2014                                       | August                                     | Comedy                                     |  88                                        | USA:Unrated                                |\n",
       "| Paradies: Hoffnung (2013)                  | 2013                                       | November                                   | Drama                                      |  92                                        | USA:Unrated                                |\n",
       "\n"
      ],
      "text/plain": [
       "   movie                                      year month     genre      \n",
       "1  Heartlands (2002)                          2002 August    Drama      \n",
       "2  The Wolves (1996)                          1996 March     Action     \n",
       "3  Pit and the Pendulum (1961)                1961 August    Mystery    \n",
       "4  Before I Wake (2016)                       2016 April     Thriller   \n",
       "5  Drowning Mona (2000)                       2000 July      Comedy     \n",
       "6  The Way (2010/I)                           2010 September Drama      \n",
       "7  Eric Clapton Planes Trains and Eric (2014) 2014 November  Documentary\n",
       "8  Shallow Hal (2001)                         2001 November  Comedy     \n",
       "9  Bachelor Night (2014)                      2014 August    Comedy     \n",
       "10 Paradies: Hoffnung (2013)                  2013 November  Drama      \n",
       "   runtime rating     \n",
       "1   90     USA:PG-13  \n",
       "2   88     USA:PG-13  \n",
       "3   80     USA:Unrated\n",
       "4   97     USA:PG-13  \n",
       "5   96     USA:PG-13  \n",
       "6  123     USA:PG-13  \n",
       "7  155     USA:Unrated\n",
       "8  114     USA:PG-13  \n",
       "9   88     USA:Unrated\n",
       "10  92     USA:Unrated"
      ]
     },
     "metadata": {},
     "output_type": "display_data"
    }
   ],
   "source": [
    "# certificate input is comma separated string list\n",
    "selected_certificates = \"USA:Pg-13, USA:UnRateD , USA:fake_test, USA:, \"\n",
    "\n",
    "# split certificate input to individual inputs\n",
    "certificates <- unlist(strsplit(selected_certificates, \",\"))\n",
    "\n",
    "# retrieve first certificate as a \"base\"\n",
    "condition <- paste0(\"str_to_lower(str_trim(certificates[1])) == str_to_lower(rating) \")\n",
    "\n",
    "# if more than 1 certificates provided...\n",
    "if (length(certificates) > 1) {\n",
    "    \n",
    "    # then build conditional string for each one after \"base\"\n",
    "    for (i in 2:length(certificates)) {\n",
    "        \n",
    "        # make a new condition with the current certificate, being sure to ignore case and trim the input\n",
    "        next_condition <- paste0(\"| str_to_lower(str_trim(certificates[\", i, \"])) == str_to_lower(rating) \")\n",
    "        \n",
    "        # add the new condition onto the current list of conditions\n",
    "        condition <- paste(condition, next_condition, sep = \"\")\n",
    "    }\n",
    "}\n",
    "\n",
    "# movie certificate found in certificate column, just fetch it by parsing the condition from above\n",
    "movies_in_selected_certificates <- subset(data, eval(parse(text = condition)))\n",
    "\n",
    "# output a sample of movies found for given certificate(s)\n",
    "sample_n(movies_in_selected_certificates, 10)"
   ]
  },
  {
   "cell_type": "code",
   "execution_count": 90,
   "metadata": {},
   "outputs": [],
   "source": [
    "#\n",
    "#\n",
    "# repeat code similarily as found in CHOOSE GENRE section\n",
    "#\n",
    "#"
   ]
  },
  {
   "cell_type": "code",
   "execution_count": 91,
   "metadata": {},
   "outputs": [],
   "source": [
    "############## CHOOSE RUNTIME ##############"
   ]
  },
  {
   "cell_type": "code",
   "execution_count": 92,
   "metadata": {},
   "outputs": [
    {
     "data": {
      "text/html": [
       "<table>\n",
       "<thead><tr><th scope=col>movie</th><th scope=col>year</th><th scope=col>month</th><th scope=col>genre</th><th scope=col>runtime</th><th scope=col>rating</th></tr></thead>\n",
       "<tbody>\n",
       "\t<tr><td>Vital (2004)               </td><td>2004                       </td><td>December                   </td><td>Drama                      </td><td> 86                        </td><td>USA:R                      </td></tr>\n",
       "\t<tr><td>Opa! (2005)                </td><td>2005                       </td><td>September                  </td><td>Romance                    </td><td>100                        </td><td>USA:PG-13                  </td></tr>\n",
       "\t<tr><td>It Started in Naples (1960)</td><td>1960                       </td><td>October                    </td><td>Drama                      </td><td>100                        </td><td>USA:Approved               </td></tr>\n",
       "\t<tr><td>Wife of General Ling (1937)</td><td>1937                       </td><td>April                      </td><td>Drama                      </td><td> 72                        </td><td>USA:Approved               </td></tr>\n",
       "\t<tr><td>Midnight in Paris (2011)   </td><td>2011                       </td><td>August                     </td><td>Romance                    </td><td>100                        </td><td>USA:PG-13                  </td></tr>\n",
       "\t<tr><td>Warlock (1989)             </td><td>1989                       </td><td>November                   </td><td>Action                     </td><td>103                        </td><td>USA:R                      </td></tr>\n",
       "\t<tr><td>Mr. Bean's Holiday (2007)  </td><td>2007                       </td><td>April                      </td><td>Family                     </td><td> 90                        </td><td>USA:PG                     </td></tr>\n",
       "\t<tr><td>Knots (2004)               </td><td>2004                       </td><td>April                      </td><td>Comedy                     </td><td> 93                        </td><td>USA:R                      </td></tr>\n",
       "\t<tr><td>2 Minutes Later (2007)     </td><td>2007                       </td><td>September                  </td><td>Adventure                  </td><td> 78                        </td><td>USA:Unrated                </td></tr>\n",
       "\t<tr><td>Bandido! (1956)            </td><td>1956                       </td><td>September                  </td><td>Adventure                  </td><td> 92                        </td><td>USA:Passed                 </td></tr>\n",
       "</tbody>\n",
       "</table>\n"
      ],
      "text/latex": [
       "\\begin{tabular}{r|llllll}\n",
       " movie & year & month & genre & runtime & rating\\\\\n",
       "\\hline\n",
       "\t Vital (2004)                & 2004                        & December                    & Drama                       &  86                         & USA:R                      \\\\\n",
       "\t Opa! (2005)                 & 2005                        & September                   & Romance                     & 100                         & USA:PG-13                  \\\\\n",
       "\t It Started in Naples (1960) & 1960                        & October                     & Drama                       & 100                         & USA:Approved               \\\\\n",
       "\t Wife of General Ling (1937) & 1937                        & April                       & Drama                       &  72                         & USA:Approved               \\\\\n",
       "\t Midnight in Paris (2011)    & 2011                        & August                      & Romance                     & 100                         & USA:PG-13                  \\\\\n",
       "\t Warlock (1989)              & 1989                        & November                    & Action                      & 103                         & USA:R                      \\\\\n",
       "\t Mr. Bean's Holiday (2007)   & 2007                        & April                       & Family                      &  90                         & USA:PG                     \\\\\n",
       "\t Knots (2004)                & 2004                        & April                       & Comedy                      &  93                         & USA:R                      \\\\\n",
       "\t 2 Minutes Later (2007)      & 2007                        & September                   & Adventure                   &  78                         & USA:Unrated                \\\\\n",
       "\t Bandido! (1956)             & 1956                        & September                   & Adventure                   &  92                         & USA:Passed                 \\\\\n",
       "\\end{tabular}\n"
      ],
      "text/markdown": [
       "\n",
       "| movie | year | month | genre | runtime | rating |\n",
       "|---|---|---|---|---|---|\n",
       "| Vital (2004)                | 2004                        | December                    | Drama                       |  86                         | USA:R                       |\n",
       "| Opa! (2005)                 | 2005                        | September                   | Romance                     | 100                         | USA:PG-13                   |\n",
       "| It Started in Naples (1960) | 1960                        | October                     | Drama                       | 100                         | USA:Approved                |\n",
       "| Wife of General Ling (1937) | 1937                        | April                       | Drama                       |  72                         | USA:Approved                |\n",
       "| Midnight in Paris (2011)    | 2011                        | August                      | Romance                     | 100                         | USA:PG-13                   |\n",
       "| Warlock (1989)              | 1989                        | November                    | Action                      | 103                         | USA:R                       |\n",
       "| Mr. Bean's Holiday (2007)   | 2007                        | April                       | Family                      |  90                         | USA:PG                      |\n",
       "| Knots (2004)                | 2004                        | April                       | Comedy                      |  93                         | USA:R                       |\n",
       "| 2 Minutes Later (2007)      | 2007                        | September                   | Adventure                   |  78                         | USA:Unrated                 |\n",
       "| Bandido! (1956)             | 1956                        | September                   | Adventure                   |  92                         | USA:Passed                  |\n",
       "\n"
      ],
      "text/plain": [
       "   movie                       year month     genre     runtime rating      \n",
       "1  Vital (2004)                2004 December  Drama      86     USA:R       \n",
       "2  Opa! (2005)                 2005 September Romance   100     USA:PG-13   \n",
       "3  It Started in Naples (1960) 1960 October   Drama     100     USA:Approved\n",
       "4  Wife of General Ling (1937) 1937 April     Drama      72     USA:Approved\n",
       "5  Midnight in Paris (2011)    2011 August    Romance   100     USA:PG-13   \n",
       "6  Warlock (1989)              1989 November  Action    103     USA:R       \n",
       "7  Mr. Bean's Holiday (2007)   2007 April     Family     90     USA:PG      \n",
       "8  Knots (2004)                2004 April     Comedy     93     USA:R       \n",
       "9  2 Minutes Later (2007)      2007 September Adventure  78     USA:Unrated \n",
       "10 Bandido! (1956)             1956 September Adventure  92     USA:Passed  "
      ]
     },
     "metadata": {},
     "output_type": "display_data"
    }
   ],
   "source": [
    "# runtime input is range from min to max\n",
    "runtime_min = 60\n",
    "runtime_max = 120\n",
    "\n",
    "# movie runtime found in runtime column, just fetch it and compare the inputs\n",
    "movies_in_selected_runtimes <- subset(data, runtime_min <= runtime & runtime_max >= runtime)\n",
    "\n",
    "# output a sample of movies found for given runtime range\n",
    "sample_n(movies_in_selected_runtimes, 10)"
   ]
  },
  {
   "cell_type": "code",
   "execution_count": 93,
   "metadata": {},
   "outputs": [],
   "source": [
    "#\n",
    "#\n",
    "# repeat code similarily as found in CHOOSE GENRE section\n",
    "#\n",
    "#"
   ]
  },
  {
   "cell_type": "code",
   "execution_count": null,
   "metadata": {},
   "outputs": [],
   "source": []
  }
 ],
 "metadata": {
  "kernelspec": {
   "display_name": "R",
   "language": "R",
   "name": "ir"
  },
  "language_info": {
   "codemirror_mode": "r",
   "file_extension": ".r",
   "mimetype": "text/x-r-source",
   "name": "R",
   "pygments_lexer": "r",
   "version": "3.6.1"
  }
 },
 "nbformat": 4,
 "nbformat_minor": 2
}
