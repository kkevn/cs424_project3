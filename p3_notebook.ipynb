{
 "cells": [
  {
   "cell_type": "code",
   "execution_count": 1,
   "metadata": {},
   "outputs": [],
   "source": [
    "#######################################\n",
    "# CS 424 - Project 3\n",
    "# Kevin Kowalski\n",
    "# Samuel Kajah\n",
    "# Vijay Vemu\n",
    "#######################################\n",
    "#\n",
    "# This file contains the code to clean\n",
    "# the original data set. It outputs\n",
    "# the necessary plots and updated data\n",
    "# set to be used by shiny.\n",
    "#\n",
    "# This file was used for testing and \n",
    "# plotting before using RStudio for a\n",
    "# dashboard.\n",
    "#\n",
    "#######################################"
   ]
  },
  {
   "cell_type": "code",
   "execution_count": 2,
   "metadata": {},
   "outputs": [
    {
     "name": "stderr",
     "output_type": "stream",
     "text": [
      "\n",
      "Attaching package: ‘dplyr’\n",
      "\n",
      "\n",
      "The following objects are masked from ‘package:stats’:\n",
      "\n",
      "    filter, lag\n",
      "\n",
      "\n",
      "The following objects are masked from ‘package:base’:\n",
      "\n",
      "    intersect, setdiff, setequal, union\n",
      "\n",
      "\n",
      "\n",
      "Attaching package: ‘lubridate’\n",
      "\n",
      "\n",
      "The following object is masked from ‘package:base’:\n",
      "\n",
      "    date\n",
      "\n",
      "\n",
      "── \u001b[1mAttaching packages\u001b[22m ─────────────────────────────────────── tidyverse 1.3.0 ──\n",
      "\n",
      "\u001b[32m✔\u001b[39m \u001b[34mtibble \u001b[39m 3.0.0     \u001b[32m✔\u001b[39m \u001b[34mpurrr  \u001b[39m 0.3.3\n",
      "\u001b[32m✔\u001b[39m \u001b[34mtidyr  \u001b[39m 1.0.2     \u001b[32m✔\u001b[39m \u001b[34mforcats\u001b[39m 0.4.0\n",
      "\u001b[32m✔\u001b[39m \u001b[34mreadr  \u001b[39m 1.3.1     \n",
      "\n",
      "── \u001b[1mConflicts\u001b[22m ────────────────────────────────────────── tidyverse_conflicts() ──\n",
      "\u001b[31m✖\u001b[39m \u001b[34mlubridate\u001b[39m::\u001b[32mas.difftime()\u001b[39m masks \u001b[34mbase\u001b[39m::as.difftime()\n",
      "\u001b[31m✖\u001b[39m \u001b[34mlubridate\u001b[39m::\u001b[32mdate()\u001b[39m        masks \u001b[34mbase\u001b[39m::date()\n",
      "\u001b[31m✖\u001b[39m \u001b[34mdplyr\u001b[39m::\u001b[32mfilter()\u001b[39m          masks \u001b[34mstats\u001b[39m::filter()\n",
      "\u001b[31m✖\u001b[39m \u001b[34mlubridate\u001b[39m::\u001b[32mintersect()\u001b[39m   masks \u001b[34mbase\u001b[39m::intersect()\n",
      "\u001b[31m✖\u001b[39m \u001b[34mdplyr\u001b[39m::\u001b[32mlag()\u001b[39m             masks \u001b[34mstats\u001b[39m::lag()\n",
      "\u001b[31m✖\u001b[39m \u001b[34mlubridate\u001b[39m::\u001b[32msetdiff()\u001b[39m     masks \u001b[34mbase\u001b[39m::setdiff()\n",
      "\u001b[31m✖\u001b[39m \u001b[34mlubridate\u001b[39m::\u001b[32munion()\u001b[39m       masks \u001b[34mbase\u001b[39m::union()\n",
      "\n"
     ]
    }
   ],
   "source": [
    "# import libraries\n",
    "library(comprehenr)\n",
    "library(dplyr)\n",
    "library(ggplot2)\n",
    "library(hashmap)\n",
    "library(lubridate)\n",
    "library(stringr)\n",
    "library(tidyverse)"
   ]
  },
  {
   "cell_type": "code",
   "execution_count": 3,
   "metadata": {},
   "outputs": [],
   "source": [
    "# read in the CSV files\n",
    "df_certificates = read.csv('data_files/new_files/certificates.csv')\n",
    "df_genres = read.csv('data_files/new_files/genres.csv')\n",
    "df_keywords = read.csv('data_files/new_files/keywords.csv')\n",
    "df_movies = read.csv('data_files/new_files/movies.csv')\n",
    "df_releases = read.csv('data_files/new_files/releases.csv')\n",
    "df_runtimes = read.csv('data_files/new_files/runtimes.csv')"
   ]
  },
  {
   "cell_type": "code",
   "execution_count": 4,
   "metadata": {},
   "outputs": [
    {
     "name": "stdout",
     "output_type": "stream",
     "text": [
      "[1] \"---- df_certificates, n=55567\"\n"
     ]
    },
    {
     "data": {
      "text/html": [
       "<table>\n",
       "<caption>A data.frame: 5 × 2</caption>\n",
       "<thead>\n",
       "\t<tr><th scope=col>movie</th><th scope=col>rating</th></tr>\n",
       "\t<tr><th scope=col>&lt;fct&gt;</th><th scope=col>&lt;fct&gt;</th></tr>\n",
       "</thead>\n",
       "<tbody>\n",
       "\t<tr><td>For the Love of Pete (1936)     </td><td>USA:Passed </td></tr>\n",
       "\t<tr><td>Eddy Ray (2006)                 </td><td>USA:Unrated</td></tr>\n",
       "\t<tr><td>Big Fan (2009)                  </td><td>USA:R      </td></tr>\n",
       "\t<tr><td>Le avventure di Cartouche (1955)</td><td>USA:Passed </td></tr>\n",
       "\t<tr><td>Standoff (2016/I)               </td><td>USA:R      </td></tr>\n",
       "</tbody>\n",
       "</table>\n"
      ],
      "text/latex": [
       "A data.frame: 5 × 2\n",
       "\\begin{tabular}{ll}\n",
       " movie & rating\\\\\n",
       " <fct> & <fct>\\\\\n",
       "\\hline\n",
       "\t For the Love of Pete (1936)      & USA:Passed \\\\\n",
       "\t Eddy Ray (2006)                  & USA:Unrated\\\\\n",
       "\t Big Fan (2009)                   & USA:R      \\\\\n",
       "\t Le avventure di Cartouche (1955) & USA:Passed \\\\\n",
       "\t Standoff (2016/I)                & USA:R      \\\\\n",
       "\\end{tabular}\n"
      ],
      "text/markdown": [
       "\n",
       "A data.frame: 5 × 2\n",
       "\n",
       "| movie &lt;fct&gt; | rating &lt;fct&gt; |\n",
       "|---|---|\n",
       "| For the Love of Pete (1936)      | USA:Passed  |\n",
       "| Eddy Ray (2006)                  | USA:Unrated |\n",
       "| Big Fan (2009)                   | USA:R       |\n",
       "| Le avventure di Cartouche (1955) | USA:Passed  |\n",
       "| Standoff (2016/I)                | USA:R       |\n",
       "\n"
      ],
      "text/plain": [
       "  movie                            rating     \n",
       "1 For the Love of Pete (1936)      USA:Passed \n",
       "2 Eddy Ray (2006)                  USA:Unrated\n",
       "3 Big Fan (2009)                   USA:R      \n",
       "4 Le avventure di Cartouche (1955) USA:Passed \n",
       "5 Standoff (2016/I)                USA:R      "
      ]
     },
     "metadata": {},
     "output_type": "display_data"
    },
    {
     "data": {
      "text/plain": [
       "                                                 movie      \n",
       " The Green Archer (1940)                            :   16  \n",
       " The Mysterious Pilot (1937)                        :   16  \n",
       " The Amazing Exploits of the Clutching Hand (1936/I):   15  \n",
       " The Shadow (1940)                                  :   14  \n",
       " Sky Raiders (1941)                                 :   13  \n",
       " Junior G-Men of the Air (1942)                     :   12  \n",
       " (Other)                                            :55481  \n",
       "          rating     \n",
       " USA:R       :16302  \n",
       " USA:Approved:13864  \n",
       " USA:Passed  : 7327  \n",
       " USA:PG      : 5510  \n",
       " USA:PG-13   : 5337  \n",
       " USA:Unrated : 4611  \n",
       " (Other)     : 2616  "
      ]
     },
     "metadata": {},
     "output_type": "display_data"
    }
   ],
   "source": [
    "# printing certificate CSV info\n",
    "print(paste0(\"---- df_certificates, n=\", count(df_certificates)))\n",
    "sample_n(df_certificates, 5)\n",
    "summary(df_certificates)"
   ]
  },
  {
   "cell_type": "code",
   "execution_count": 5,
   "metadata": {},
   "outputs": [
    {
     "name": "stdout",
     "output_type": "stream",
     "text": [
      "[1] \"---- df_genres, n=1340555\"\n"
     ]
    },
    {
     "data": {
      "text/html": [
       "<table>\n",
       "<caption>A data.frame: 5 × 2</caption>\n",
       "<thead>\n",
       "\t<tr><th scope=col>movie</th><th scope=col>genre</th></tr>\n",
       "\t<tr><th scope=col>&lt;fct&gt;</th><th scope=col>&lt;fct&gt;</th></tr>\n",
       "</thead>\n",
       "<tbody>\n",
       "\t<tr><td>Fail-Safe (1964)      </td><td>Drama      </td></tr>\n",
       "\t<tr><td>Gleam of Hope (2017)  </td><td>Drama      </td></tr>\n",
       "\t<tr><td>Amori e veleni (1952) </td><td>Drama      </td></tr>\n",
       "\t<tr><td>Päämäärä (1962)       </td><td>Documentary</td></tr>\n",
       "\t<tr><td>Contos da Morte (2016)</td><td>Horror     </td></tr>\n",
       "</tbody>\n",
       "</table>\n"
      ],
      "text/latex": [
       "A data.frame: 5 × 2\n",
       "\\begin{tabular}{ll}\n",
       " movie & genre\\\\\n",
       " <fct> & <fct>\\\\\n",
       "\\hline\n",
       "\t Fail-Safe (1964)       & Drama      \\\\\n",
       "\t Gleam of Hope (2017)   & Drama      \\\\\n",
       "\t Amori e veleni (1952)  & Drama      \\\\\n",
       "\t Päämäärä (1962)        & Documentary\\\\\n",
       "\t Contos da Morte (2016) & Horror     \\\\\n",
       "\\end{tabular}\n"
      ],
      "text/markdown": [
       "\n",
       "A data.frame: 5 × 2\n",
       "\n",
       "| movie &lt;fct&gt; | genre &lt;fct&gt; |\n",
       "|---|---|\n",
       "| Fail-Safe (1964)       | Drama       |\n",
       "| Gleam of Hope (2017)   | Drama       |\n",
       "| Amori e veleni (1952)  | Drama       |\n",
       "| Päämäärä (1962)        | Documentary |\n",
       "| Contos da Morte (2016) | Horror      |\n",
       "\n"
      ],
      "text/plain": [
       "  movie                  genre      \n",
       "1 Fail-Safe (1964)       Drama      \n",
       "2 Gleam of Hope (2017)   Drama      \n",
       "3 Amori e veleni (1952)  Drama      \n",
       "4 Päämäärä (1962)        Documentary\n",
       "5 Contos da Morte (2016) Horror     "
      ]
     },
     "metadata": {},
     "output_type": "display_data"
    },
    {
     "data": {
      "text/plain": [
       "                                 movie                 genre       \n",
       " Melon Soda (2008)                  :     14   Drama      :337702  \n",
       " The Travelogues (2008)             :     12   Comedy     :214682  \n",
       " Vampire Hunter D: Bloodlust (2000) :     11   Documentary:176270  \n",
       " Batman: Mask of the Phantasm (1993):     10   Thriller   : 67827  \n",
       " Gumby 1 (1995)                     :     10   Romance    : 64033  \n",
       " Dreamworks Spooky Stories (2012)   :      9   Action     : 56333  \n",
       " (Other)                            :1340489   (Other)    :423708  "
      ]
     },
     "metadata": {},
     "output_type": "display_data"
    }
   ],
   "source": [
    "# printing genre CSV info\n",
    "print(paste0(\"---- df_genres, n=\", count(df_genres)))\n",
    "sample_n(df_genres, 5)\n",
    "summary(df_genres)"
   ]
  },
  {
   "cell_type": "code",
   "execution_count": 6,
   "metadata": {},
   "outputs": [
    {
     "name": "stdout",
     "output_type": "stream",
     "text": [
      "[1] \"---- df_keywords, n=3763306\"\n"
     ]
    },
    {
     "data": {
      "text/html": [
       "<table>\n",
       "<caption>A data.frame: 5 × 3</caption>\n",
       "<thead>\n",
       "\t<tr><th scope=col>movie</th><th scope=col>keyword</th><th scope=col>year</th></tr>\n",
       "\t<tr><th scope=col>&lt;fct&gt;</th><th scope=col>&lt;fct&gt;</th><th scope=col>&lt;dbl&gt;</th></tr>\n",
       "</thead>\n",
       "<tbody>\n",
       "\t<tr><td>Scream 3 (2000)                 </td><td>strong-female-lead</td><td>2000</td></tr>\n",
       "\t<tr><td>Hajde da se volimo 3 (1990)     </td><td>liar              </td><td>1990</td></tr>\n",
       "\t<tr><td>Violet (2000/II)                </td><td>italian           </td><td>2000</td></tr>\n",
       "\t<tr><td>Battle Taxi (1955)              </td><td>korean-war        </td><td>1955</td></tr>\n",
       "\t<tr><td>Die Hard with a Vengeance (1995)</td><td>stabbed-in-the-leg</td><td>1995</td></tr>\n",
       "</tbody>\n",
       "</table>\n"
      ],
      "text/latex": [
       "A data.frame: 5 × 3\n",
       "\\begin{tabular}{lll}\n",
       " movie & keyword & year\\\\\n",
       " <fct> & <fct> & <dbl>\\\\\n",
       "\\hline\n",
       "\t Scream 3 (2000)                  & strong-female-lead & 2000\\\\\n",
       "\t Hajde da se volimo 3 (1990)      & liar               & 1990\\\\\n",
       "\t Violet (2000/II)                 & italian            & 2000\\\\\n",
       "\t Battle Taxi (1955)               & korean-war         & 1955\\\\\n",
       "\t Die Hard with a Vengeance (1995) & stabbed-in-the-leg & 1995\\\\\n",
       "\\end{tabular}\n"
      ],
      "text/markdown": [
       "\n",
       "A data.frame: 5 × 3\n",
       "\n",
       "| movie &lt;fct&gt; | keyword &lt;fct&gt; | year &lt;dbl&gt; |\n",
       "|---|---|---|\n",
       "| Scream 3 (2000)                  | strong-female-lead | 2000 |\n",
       "| Hajde da se volimo 3 (1990)      | liar               | 1990 |\n",
       "| Violet (2000/II)                 | italian            | 2000 |\n",
       "| Battle Taxi (1955)               | korean-war         | 1955 |\n",
       "| Die Hard with a Vengeance (1995) | stabbed-in-the-leg | 1995 |\n",
       "\n"
      ],
      "text/plain": [
       "  movie                            keyword            year\n",
       "1 Scream 3 (2000)                  strong-female-lead 2000\n",
       "2 Hajde da se volimo 3 (1990)      liar               1990\n",
       "3 Violet (2000/II)                 italian            2000\n",
       "4 Battle Taxi (1955)               korean-war         1955\n",
       "5 Die Hard with a Vengeance (1995) stabbed-in-the-leg 1995"
      ]
     },
     "metadata": {},
     "output_type": "display_data"
    },
    {
     "data": {
      "text/plain": [
       "                                       movie        \n",
       " Pane, vy jste vdova! (1971)              :    678  \n",
       " 75 (2017)                                :    587  \n",
       " The Dark Knight (2008)                   :    580  \n",
       " Batman v Superman: Dawn of Justice (2016):    548  \n",
       " The Boys Club (1996)                     :    541  \n",
       " Golgo 13 (1983)                          :    520  \n",
       " (Other)                                  :3759852  \n",
       "                    keyword             year      \n",
       " independent-film       :  34932   Min.   :1874   \n",
       " based-on-novel         :  22626   1st Qu.:1972   \n",
       " character-name-in-title:  21769   Median :1996   \n",
       " murder                 :  19321   Mean   :1987   \n",
       " f-rated                :  18253   3rd Qu.:2008   \n",
       " sex                    :  17555   Max.   :2115   \n",
       " (Other)                :3628850   NA's   :29406  "
      ]
     },
     "metadata": {},
     "output_type": "display_data"
    }
   ],
   "source": [
    "# printing keyword CSV info\n",
    "print(paste0(\"---- df_keywords, n=\", count(df_keywords)))\n",
    "sample_n(df_keywords, 5)\n",
    "summary(df_keywords)"
   ]
  },
  {
   "cell_type": "code",
   "execution_count": 7,
   "metadata": {},
   "outputs": [
    {
     "name": "stdout",
     "output_type": "stream",
     "text": [
      "[1] \"---- df_movies, n=1024456\"\n"
     ]
    },
    {
     "data": {
      "text/html": [
       "<table>\n",
       "<caption>A data.frame: 5 × 2</caption>\n",
       "<thead>\n",
       "\t<tr><th scope=col>movie</th><th scope=col>year</th></tr>\n",
       "\t<tr><th scope=col>&lt;fct&gt;</th><th scope=col>&lt;int&gt;</th></tr>\n",
       "</thead>\n",
       "<tbody>\n",
       "\t<tr><td>A Canine Affair (2014)     </td><td>2014</td></tr>\n",
       "\t<tr><td>Not of the Flock (1914)    </td><td>1914</td></tr>\n",
       "\t<tr><td>A Model Made (1921)        </td><td>1921</td></tr>\n",
       "\t<tr><td>All at Once (2015)         </td><td>2015</td></tr>\n",
       "\t<tr><td>Madame Pinkette &amp; Co (1917)</td><td>1917</td></tr>\n",
       "</tbody>\n",
       "</table>\n"
      ],
      "text/latex": [
       "A data.frame: 5 × 2\n",
       "\\begin{tabular}{ll}\n",
       " movie & year\\\\\n",
       " <fct> & <int>\\\\\n",
       "\\hline\n",
       "\t A Canine Affair (2014)      & 2014\\\\\n",
       "\t Not of the Flock (1914)     & 1914\\\\\n",
       "\t A Model Made (1921)         & 1921\\\\\n",
       "\t All at Once (2015)          & 2015\\\\\n",
       "\t Madame Pinkette \\& Co (1917) & 1917\\\\\n",
       "\\end{tabular}\n"
      ],
      "text/markdown": [
       "\n",
       "A data.frame: 5 × 2\n",
       "\n",
       "| movie &lt;fct&gt; | year &lt;int&gt; |\n",
       "|---|---|\n",
       "| A Canine Affair (2014)      | 2014 |\n",
       "| Not of the Flock (1914)     | 1914 |\n",
       "| A Model Made (1921)         | 1921 |\n",
       "| All at Once (2015)          | 2015 |\n",
       "| Madame Pinkette &amp; Co (1917) | 1917 |\n",
       "\n"
      ],
      "text/plain": [
       "  movie                       year\n",
       "1 A Canine Affair (2014)      2014\n",
       "2 Not of the Flock (1914)     1914\n",
       "3 A Model Made (1921)         1921\n",
       "4 All at Once (2015)          2015\n",
       "5 Madame Pinkette & Co (1917) 1917"
      ]
     },
     "metadata": {},
     "output_type": "display_data"
    },
    {
     "data": {
      "text/plain": [
       "                      movie              year     \n",
       " _ _ _' _ Peephole (2013):      1   Min.   :1874  \n",
       " _. (2012)               :      1   1st Qu.:1969  \n",
       " _+ Space Positive (2017):      1   Median :2006  \n",
       " _EXHIBIT_84xxx_ (2016)  :      1   Mean   :1987  \n",
       " _grau (2005)            :      1   3rd Qu.:2013  \n",
       " _proxy (2015)           :      1   Max.   :2115  \n",
       " (Other)                 :1024450                 "
      ]
     },
     "metadata": {},
     "output_type": "display_data"
    }
   ],
   "source": [
    "# printing movie CSV info\n",
    "print(paste0(\"---- df_movies, n=\", count(df_movies)))\n",
    "sample_n(df_movies, 5)\n",
    "summary(df_movies)"
   ]
  },
  {
   "cell_type": "code",
   "execution_count": 8,
   "metadata": {},
   "outputs": [
    {
     "name": "stdout",
     "output_type": "stream",
     "text": [
      "[1] \"---- df_releases, n=1724266\"\n"
     ]
    },
    {
     "data": {
      "text/html": [
       "<table>\n",
       "<caption>A data.frame: 5 × 3</caption>\n",
       "<thead>\n",
       "\t<tr><th scope=col>movie</th><th scope=col>month</th><th scope=col>year</th></tr>\n",
       "\t<tr><th scope=col>&lt;fct&gt;</th><th scope=col>&lt;fct&gt;</th><th scope=col>&lt;int&gt;</th></tr>\n",
       "</thead>\n",
       "<tbody>\n",
       "\t<tr><td>The Dark Swan (1924)    </td><td>November </td><td>1924</td></tr>\n",
       "\t<tr><td>À l'origine (2009)      </td><td>March    </td><td>2010</td></tr>\n",
       "\t<tr><td>Jealousy Punished (1907)</td><td>October  </td><td>1907</td></tr>\n",
       "\t<tr><td>Gingersnap (2009)       </td><td>April    </td><td>2009</td></tr>\n",
       "\t<tr><td>Vixen! (1968)           </td><td>September</td><td>1969</td></tr>\n",
       "</tbody>\n",
       "</table>\n"
      ],
      "text/latex": [
       "A data.frame: 5 × 3\n",
       "\\begin{tabular}{lll}\n",
       " movie & month & year\\\\\n",
       " <fct> & <fct> & <int>\\\\\n",
       "\\hline\n",
       "\t The Dark Swan (1924)     & November  & 1924\\\\\n",
       "\t À l'origine (2009)       & March     & 2010\\\\\n",
       "\t Jealousy Punished (1907) & October   & 1907\\\\\n",
       "\t Gingersnap (2009)        & April     & 2009\\\\\n",
       "\t Vixen! (1968)            & September & 1969\\\\\n",
       "\\end{tabular}\n"
      ],
      "text/markdown": [
       "\n",
       "A data.frame: 5 × 3\n",
       "\n",
       "| movie &lt;fct&gt; | month &lt;fct&gt; | year &lt;int&gt; |\n",
       "|---|---|---|\n",
       "| The Dark Swan (1924)     | November  | 1924 |\n",
       "| À l'origine (2009)       | March     | 2010 |\n",
       "| Jealousy Punished (1907) | October   | 1907 |\n",
       "| Gingersnap (2009)        | April     | 2009 |\n",
       "| Vixen! (1968)            | September | 1969 |\n",
       "\n"
      ],
      "text/plain": [
       "  movie                    month     year\n",
       "1 The Dark Swan (1924)     November  1924\n",
       "2 À l'origine (2009)       March     2010\n",
       "3 Jealousy Punished (1907) October   1907\n",
       "4 Gingersnap (2009)        April     2009\n",
       "5 Vixen! (1968)            September 1969"
      ]
     },
     "metadata": {},
     "output_type": "display_data"
    },
    {
     "data": {
      "text/plain": [
       "                                    movie               month       \n",
       " Maudie (2016)                         :    284   October  :185019  \n",
       " Mirror (2016/VI)                      :    193   November :154897  \n",
       " 4242 (2016)                           :    179   September:154526  \n",
       " Snow White and the Seven Dwarfs (1937):    153   April    :144281  \n",
       " The Imitation Game (2014)             :    144   March    :135903  \n",
       " Bakemono no ko (2015)                 :    143   (Other)  :829150  \n",
       " (Other)                               :1723170   NA's     :120490  \n",
       "      year     \n",
       " Min.   :1874  \n",
       " 1st Qu.:1979  \n",
       " Median :2006  \n",
       " Mean   :1992  \n",
       " 3rd Qu.:2013  \n",
       " Max.   :2115  \n",
       "               "
      ]
     },
     "metadata": {},
     "output_type": "display_data"
    }
   ],
   "source": [
    "# printing release CSV info\n",
    "print(paste0(\"---- df_releases, n=\", count(df_releases)))\n",
    "sample_n(df_releases, 5)\n",
    "summary(df_releases)"
   ]
  },
  {
   "cell_type": "code",
   "execution_count": 9,
   "metadata": {},
   "outputs": [
    {
     "name": "stdout",
     "output_type": "stream",
     "text": [
      "[1] \"---- df_runtimes, n=283156\"\n"
     ]
    },
    {
     "data": {
      "text/html": [
       "<table>\n",
       "<caption>A data.frame: 5 × 2</caption>\n",
       "<thead>\n",
       "\t<tr><th scope=col>movie</th><th scope=col>runtime</th></tr>\n",
       "\t<tr><th scope=col>&lt;fct&gt;</th><th scope=col>&lt;dbl&gt;</th></tr>\n",
       "</thead>\n",
       "<tbody>\n",
       "\t<tr><td>Jump Out Boys (2008)          </td><td> 83</td></tr>\n",
       "\t<tr><td>The Boxer from Shandong (1927)</td><td> 90</td></tr>\n",
       "\t<tr><td>Turbina (1941)                </td><td> 98</td></tr>\n",
       "\t<tr><td>Hayazaki no hana (2006)       </td><td>105</td></tr>\n",
       "\t<tr><td>Wasted Youth (2011)           </td><td>122</td></tr>\n",
       "</tbody>\n",
       "</table>\n"
      ],
      "text/latex": [
       "A data.frame: 5 × 2\n",
       "\\begin{tabular}{ll}\n",
       " movie & runtime\\\\\n",
       " <fct> & <dbl>\\\\\n",
       "\\hline\n",
       "\t Jump Out Boys (2008)           &  83\\\\\n",
       "\t The Boxer from Shandong (1927) &  90\\\\\n",
       "\t Turbina (1941)                 &  98\\\\\n",
       "\t Hayazaki no hana (2006)        & 105\\\\\n",
       "\t Wasted Youth (2011)            & 122\\\\\n",
       "\\end{tabular}\n"
      ],
      "text/markdown": [
       "\n",
       "A data.frame: 5 × 2\n",
       "\n",
       "| movie &lt;fct&gt; | runtime &lt;dbl&gt; |\n",
       "|---|---|\n",
       "| Jump Out Boys (2008)           |  83 |\n",
       "| The Boxer from Shandong (1927) |  90 |\n",
       "| Turbina (1941)                 |  98 |\n",
       "| Hayazaki no hana (2006)        | 105 |\n",
       "| Wasted Youth (2011)            | 122 |\n",
       "\n"
      ],
      "text/plain": [
       "  movie                          runtime\n",
       "1 Jump Out Boys (2008)            83    \n",
       "2 The Boxer from Shandong (1927)  90    \n",
       "3 Turbina (1941)                  98    \n",
       "4 Hayazaki no hana (2006)        105    \n",
       "5 Wasted Youth (2011)            122    "
      ]
     },
     "metadata": {},
     "output_type": "display_data"
    },
    {
     "data": {
      "text/plain": [
       "                         movie           runtime        \n",
       " Der heiße Tod (1969)       :    10   Min.   :    60.0  \n",
       " Die freudlose Gasse (1925) :    10   1st Qu.:    80.0  \n",
       " Shichinin no samurai (1954):    10   Median :    90.0  \n",
       " Braindead (1992)           :     9   Mean   :    94.5  \n",
       " Ai no korîda (1976)        :     8   3rd Qu.:   101.0  \n",
       " Cleopatra (1963)           :     8   Max.   :125156.0  \n",
       " (Other)                    :283101                     "
      ]
     },
     "metadata": {},
     "output_type": "display_data"
    }
   ],
   "source": [
    "# printing runtime CSV info\n",
    "print(paste0(\"---- df_runtimes, n=\", count(df_runtimes)))\n",
    "sample_n(df_runtimes, 5)\n",
    "summary(df_runtimes)"
   ]
  },
  {
   "cell_type": "code",
   "execution_count": 10,
   "metadata": {},
   "outputs": [],
   "source": [
    "############## COUNT/DISTRIBUTION TABLES BELOW ##############"
   ]
  },
  {
   "cell_type": "code",
   "execution_count": 11,
   "metadata": {},
   "outputs": [
    {
     "data": {
      "text/html": [
       "<table>\n",
       "<caption>A data.frame: 10 × 2</caption>\n",
       "<thead>\n",
       "\t<tr><th scope=col>year</th><th scope=col>count</th></tr>\n",
       "\t<tr><th scope=col>&lt;int&gt;</th><th scope=col>&lt;dbl&gt;</th></tr>\n",
       "</thead>\n",
       "<tbody>\n",
       "\t<tr><td>1904</td><td> 1833</td></tr>\n",
       "\t<tr><td>1893</td><td>    2</td></tr>\n",
       "\t<tr><td>1995</td><td> 6301</td></tr>\n",
       "\t<tr><td>1925</td><td> 3288</td></tr>\n",
       "\t<tr><td>2094</td><td>    0</td></tr>\n",
       "\t<tr><td>2058</td><td>    0</td></tr>\n",
       "\t<tr><td>2097</td><td>    0</td></tr>\n",
       "\t<tr><td>1968</td><td> 4940</td></tr>\n",
       "\t<tr><td>1950</td><td> 2685</td></tr>\n",
       "\t<tr><td>2013</td><td>53877</td></tr>\n",
       "</tbody>\n",
       "</table>\n"
      ],
      "text/latex": [
       "A data.frame: 10 × 2\n",
       "\\begin{tabular}{ll}\n",
       " year & count\\\\\n",
       " <int> & <dbl>\\\\\n",
       "\\hline\n",
       "\t 1904 &  1833\\\\\n",
       "\t 1893 &     2\\\\\n",
       "\t 1995 &  6301\\\\\n",
       "\t 1925 &  3288\\\\\n",
       "\t 2094 &     0\\\\\n",
       "\t 2058 &     0\\\\\n",
       "\t 2097 &     0\\\\\n",
       "\t 1968 &  4940\\\\\n",
       "\t 1950 &  2685\\\\\n",
       "\t 2013 & 53877\\\\\n",
       "\\end{tabular}\n"
      ],
      "text/markdown": [
       "\n",
       "A data.frame: 10 × 2\n",
       "\n",
       "| year &lt;int&gt; | count &lt;dbl&gt; |\n",
       "|---|---|\n",
       "| 1904 |  1833 |\n",
       "| 1893 |     2 |\n",
       "| 1995 |  6301 |\n",
       "| 1925 |  3288 |\n",
       "| 2094 |     0 |\n",
       "| 2058 |     0 |\n",
       "| 2097 |     0 |\n",
       "| 1968 |  4940 |\n",
       "| 1950 |  2685 |\n",
       "| 2013 | 53877 |\n",
       "\n"
      ],
      "text/plain": [
       "   year count\n",
       "1  1904  1833\n",
       "2  1893     2\n",
       "3  1995  6301\n",
       "4  1925  3288\n",
       "5  2094     0\n",
       "6  2058     0\n",
       "7  2097     0\n",
       "8  1968  4940\n",
       "9  1950  2685\n",
       "10 2013 53877"
      ]
     },
     "metadata": {},
     "output_type": "display_data"
    },
    {
     "name": "stdout",
     "output_type": "stream",
     "text": [
      "[1] \"---- total counted= 1024456\"\n",
      "[1] \"---- unique years= 242\"\n"
     ]
    }
   ],
   "source": [
    "# get a count of movies from each year (earliest movie in 1874, latest movie in 2115)\n",
    "\n",
    "# create empty dataframe of all years in range 1874-2115\n",
    "all_years <- data.frame(formatC(1874:2115, width = 2), 0)\n",
    "names(all_years)[1] <- \"year\"\n",
    "names(all_years)[2] <- \"count\"\n",
    "all_years$year <- c(1874:2115)\n",
    "\n",
    "# make dataframe of available years and their frequency\n",
    "by_year <- df_movies %>% group_by(year) %>% summarize(count = n())\n",
    "\n",
    "# join the counts into the full range of years dataframe\n",
    "by_year <- full_join(all_years, by_year, by = \"year\")\n",
    "by_year[is.na(by_year)] <- 0\n",
    "by_year$count.x <- NULL\n",
    "names(by_year)[2] <- \"count\"\n",
    "\n",
    "# output info\n",
    "sample_n(by_year, 10)\n",
    "total_films = as.numeric(sum(by_year$count))\n",
    "print(paste0(\"---- total counted= \", total_films))\n",
    "unique_years = as.numeric(count(by_year))\n",
    "print(paste0(\"---- unique years= \", unique_years))"
   ]
  },
  {
   "cell_type": "code",
   "execution_count": 12,
   "metadata": {},
   "outputs": [
    {
     "name": "stderr",
     "output_type": "stream",
     "text": [
      "Warning message:\n",
      "“Factor `month` contains implicit NA, consider using `forcats::fct_explicit_na`”\n"
     ]
    },
    {
     "data": {
      "text/html": [
       "<table>\n",
       "<caption>A tibble: 13 × 2</caption>\n",
       "<thead>\n",
       "\t<tr><th scope=col>month</th><th scope=col>count</th></tr>\n",
       "\t<tr><th scope=col>&lt;fct&gt;</th><th scope=col>&lt;int&gt;</th></tr>\n",
       "</thead>\n",
       "<tbody>\n",
       "\t<tr><td>January  </td><td>119598</td></tr>\n",
       "\t<tr><td>February </td><td>114327</td></tr>\n",
       "\t<tr><td>March    </td><td>135903</td></tr>\n",
       "\t<tr><td>April    </td><td>144281</td></tr>\n",
       "\t<tr><td>May      </td><td>129916</td></tr>\n",
       "\t<tr><td>June     </td><td>126095</td></tr>\n",
       "\t<tr><td>July     </td><td>111870</td></tr>\n",
       "\t<tr><td>August   </td><td>114394</td></tr>\n",
       "\t<tr><td>September</td><td>154526</td></tr>\n",
       "\t<tr><td>October  </td><td>185019</td></tr>\n",
       "\t<tr><td>November </td><td>154897</td></tr>\n",
       "\t<tr><td>December </td><td>112950</td></tr>\n",
       "\t<tr><td>NA       </td><td>120490</td></tr>\n",
       "</tbody>\n",
       "</table>\n"
      ],
      "text/latex": [
       "A tibble: 13 × 2\n",
       "\\begin{tabular}{ll}\n",
       " month & count\\\\\n",
       " <fct> & <int>\\\\\n",
       "\\hline\n",
       "\t January   & 119598\\\\\n",
       "\t February  & 114327\\\\\n",
       "\t March     & 135903\\\\\n",
       "\t April     & 144281\\\\\n",
       "\t May       & 129916\\\\\n",
       "\t June      & 126095\\\\\n",
       "\t July      & 111870\\\\\n",
       "\t August    & 114394\\\\\n",
       "\t September & 154526\\\\\n",
       "\t October   & 185019\\\\\n",
       "\t November  & 154897\\\\\n",
       "\t December  & 112950\\\\\n",
       "\t NA        & 120490\\\\\n",
       "\\end{tabular}\n"
      ],
      "text/markdown": [
       "\n",
       "A tibble: 13 × 2\n",
       "\n",
       "| month &lt;fct&gt; | count &lt;int&gt; |\n",
       "|---|---|\n",
       "| January   | 119598 |\n",
       "| February  | 114327 |\n",
       "| March     | 135903 |\n",
       "| April     | 144281 |\n",
       "| May       | 129916 |\n",
       "| June      | 126095 |\n",
       "| July      | 111870 |\n",
       "| August    | 114394 |\n",
       "| September | 154526 |\n",
       "| October   | 185019 |\n",
       "| November  | 154897 |\n",
       "| December  | 112950 |\n",
       "| NA        | 120490 |\n",
       "\n"
      ],
      "text/plain": [
       "   month     count \n",
       "1  January   119598\n",
       "2  February  114327\n",
       "3  March     135903\n",
       "4  April     144281\n",
       "5  May       129916\n",
       "6  June      126095\n",
       "7  July      111870\n",
       "8  August    114394\n",
       "9  September 154526\n",
       "10 October   185019\n",
       "11 November  154897\n",
       "12 December  112950\n",
       "13 NA        120490"
      ]
     },
     "metadata": {},
     "output_type": "display_data"
    },
    {
     "name": "stdout",
     "output_type": "stream",
     "text": [
      "[1] \"---- total counted= 1724266\"\n",
      "[1] \"---- unique months= 13\"\n"
     ]
    }
   ],
   "source": [
    "# get a count of movies from each month\n",
    "by_month <- df_releases %>% group_by(month) %>% summarize(count = n())\n",
    "\n",
    "# reorder months to be in order\n",
    "by_month$month <- factor(by_month$month, levels = c(\"January\", \"February\", \"March\", \"April\", \"May\", \"June\", \"July\", \"August\", \"September\", \"October\", \"November\", \"December\"))\n",
    "by_month <- by_month[order(by_month$month), ]\n",
    "\n",
    "# output info\n",
    "by_month\n",
    "print(paste0(\"---- total counted= \", sum(by_month$count)))\n",
    "unique_months = as.numeric(count(by_month))\n",
    "print(paste0(\"---- unique months= \", unique_months))"
   ]
  },
  {
   "cell_type": "code",
   "execution_count": 13,
   "metadata": {},
   "outputs": [
    {
     "data": {
      "text/html": [
       "<table>\n",
       "<caption>A data.frame: 10 × 2</caption>\n",
       "<thead>\n",
       "\t<tr><th></th><th scope=col>runtime</th><th scope=col>count</th></tr>\n",
       "\t<tr><th></th><th scope=col>&lt;dbl&gt;</th><th scope=col>&lt;dbl&gt;</th></tr>\n",
       "</thead>\n",
       "<tbody>\n",
       "\t<tr><th scope=row>1</th><td>60</td><td>8158</td></tr>\n",
       "\t<tr><th scope=row>2</th><td>61</td><td>1988</td></tr>\n",
       "\t<tr><th scope=row>3</th><td>62</td><td>2012</td></tr>\n",
       "\t<tr><th scope=row>4</th><td>63</td><td>1898</td></tr>\n",
       "\t<tr><th scope=row>5</th><td>64</td><td>1640</td></tr>\n",
       "\t<tr><th scope=row>6</th><td>65</td><td>2743</td></tr>\n",
       "\t<tr><th scope=row>7</th><td>66</td><td>1520</td></tr>\n",
       "\t<tr><th scope=row>8</th><td>67</td><td>1875</td></tr>\n",
       "\t<tr><th scope=row>9</th><td>68</td><td>1925</td></tr>\n",
       "\t<tr><th scope=row>10</th><td>69</td><td>1535</td></tr>\n",
       "</tbody>\n",
       "</table>\n"
      ],
      "text/latex": [
       "A data.frame: 10 × 2\n",
       "\\begin{tabular}{r|ll}\n",
       "  & runtime & count\\\\\n",
       "  & <dbl> & <dbl>\\\\\n",
       "\\hline\n",
       "\t1 & 60 & 8158\\\\\n",
       "\t2 & 61 & 1988\\\\\n",
       "\t3 & 62 & 2012\\\\\n",
       "\t4 & 63 & 1898\\\\\n",
       "\t5 & 64 & 1640\\\\\n",
       "\t6 & 65 & 2743\\\\\n",
       "\t7 & 66 & 1520\\\\\n",
       "\t8 & 67 & 1875\\\\\n",
       "\t9 & 68 & 1925\\\\\n",
       "\t10 & 69 & 1535\\\\\n",
       "\\end{tabular}\n"
      ],
      "text/markdown": [
       "\n",
       "A data.frame: 10 × 2\n",
       "\n",
       "| <!--/--> | runtime &lt;dbl&gt; | count &lt;dbl&gt; |\n",
       "|---|---|---|\n",
       "| 1 | 60 | 8158 |\n",
       "| 2 | 61 | 1988 |\n",
       "| 3 | 62 | 2012 |\n",
       "| 4 | 63 | 1898 |\n",
       "| 5 | 64 | 1640 |\n",
       "| 6 | 65 | 2743 |\n",
       "| 7 | 66 | 1520 |\n",
       "| 8 | 67 | 1875 |\n",
       "| 9 | 68 | 1925 |\n",
       "| 10 | 69 | 1535 |\n",
       "\n"
      ],
      "text/plain": [
       "   runtime count\n",
       "1  60      8158 \n",
       "2  61      1988 \n",
       "3  62      2012 \n",
       "4  63      1898 \n",
       "5  64      1640 \n",
       "6  65      2743 \n",
       "7  66      1520 \n",
       "8  67      1875 \n",
       "9  68      1925 \n",
       "10 69      1535 "
      ]
     },
     "metadata": {},
     "output_type": "display_data"
    },
    {
     "name": "stdout",
     "output_type": "stream",
     "text": [
      "[1] \"---- total counted= 283156\"\n",
      "[1] \"---- unique runtimes= 125102\"\n"
     ]
    }
   ],
   "source": [
    "# get a distribution of runtimes (quickest movie is 60.0, longest movie is 125156.0)\n",
    "\n",
    "# create empty dataframe of all runtimes in range 60-125156\n",
    "all_runtimes <- data.frame(formatC(60:125156, width = 2), 0)\n",
    "names(all_runtimes)[1] <- \"runtime\"\n",
    "names(all_runtimes)[2] <- \"count\"\n",
    "all_runtimes$runtime <- c(60:125156)\n",
    "\n",
    "# make dataframe of available runtimes and their frequency\n",
    "by_runtime <- df_runtimes %>% group_by(runtime) %>% summarize(count = n())\n",
    "\n",
    "# join the counts into the full range of years dataframe\n",
    "by_runtime <- full_join(all_runtimes, by_runtime, by = \"runtime\")\n",
    "by_runtime[is.na(by_runtime)] <- 0\n",
    "by_runtime$count.x <- NULL\n",
    "names(by_runtime)[2] <- \"count\"\n",
    "\n",
    "# output info\n",
    "head(by_runtime, 10)\n",
    "print(paste0(\"---- total counted= \", sum(by_runtime$count)))\n",
    "unique_runtimes = as.numeric(count(by_runtime))\n",
    "print(paste0(\"---- unique runtimes= \", unique_runtimes))"
   ]
  },
  {
   "cell_type": "code",
   "execution_count": 14,
   "metadata": {},
   "outputs": [
    {
     "data": {
      "text/html": [
       "<table>\n",
       "<caption>A tibble: 13 × 2</caption>\n",
       "<thead>\n",
       "\t<tr><th scope=col>rating</th><th scope=col>count</th></tr>\n",
       "\t<tr><th scope=col>&lt;fct&gt;</th><th scope=col>&lt;int&gt;</th></tr>\n",
       "</thead>\n",
       "<tbody>\n",
       "\t<tr><td>USA:(Banned)</td><td>    4</td></tr>\n",
       "\t<tr><td>USA:12      </td><td>   16</td></tr>\n",
       "\t<tr><td>USA:AO      </td><td>   20</td></tr>\n",
       "\t<tr><td>USA:Approved</td><td>13864</td></tr>\n",
       "\t<tr><td>USA:G       </td><td> 2214</td></tr>\n",
       "\t<tr><td>USA:GA      </td><td>    1</td></tr>\n",
       "\t<tr><td>USA:GP      </td><td>  328</td></tr>\n",
       "\t<tr><td>USA:Open    </td><td>   33</td></tr>\n",
       "\t<tr><td>USA:Passed  </td><td> 7327</td></tr>\n",
       "\t<tr><td>USA:PG      </td><td> 5510</td></tr>\n",
       "\t<tr><td>USA:PG-13   </td><td> 5337</td></tr>\n",
       "\t<tr><td>USA:R       </td><td>16302</td></tr>\n",
       "\t<tr><td>USA:Unrated </td><td> 4611</td></tr>\n",
       "</tbody>\n",
       "</table>\n"
      ],
      "text/latex": [
       "A tibble: 13 × 2\n",
       "\\begin{tabular}{ll}\n",
       " rating & count\\\\\n",
       " <fct> & <int>\\\\\n",
       "\\hline\n",
       "\t USA:(Banned) &     4\\\\\n",
       "\t USA:12       &    16\\\\\n",
       "\t USA:AO       &    20\\\\\n",
       "\t USA:Approved & 13864\\\\\n",
       "\t USA:G        &  2214\\\\\n",
       "\t USA:GA       &     1\\\\\n",
       "\t USA:GP       &   328\\\\\n",
       "\t USA:Open     &    33\\\\\n",
       "\t USA:Passed   &  7327\\\\\n",
       "\t USA:PG       &  5510\\\\\n",
       "\t USA:PG-13    &  5337\\\\\n",
       "\t USA:R        & 16302\\\\\n",
       "\t USA:Unrated  &  4611\\\\\n",
       "\\end{tabular}\n"
      ],
      "text/markdown": [
       "\n",
       "A tibble: 13 × 2\n",
       "\n",
       "| rating &lt;fct&gt; | count &lt;int&gt; |\n",
       "|---|---|\n",
       "| USA:(Banned) |     4 |\n",
       "| USA:12       |    16 |\n",
       "| USA:AO       |    20 |\n",
       "| USA:Approved | 13864 |\n",
       "| USA:G        |  2214 |\n",
       "| USA:GA       |     1 |\n",
       "| USA:GP       |   328 |\n",
       "| USA:Open     |    33 |\n",
       "| USA:Passed   |  7327 |\n",
       "| USA:PG       |  5510 |\n",
       "| USA:PG-13    |  5337 |\n",
       "| USA:R        | 16302 |\n",
       "| USA:Unrated  |  4611 |\n",
       "\n"
      ],
      "text/plain": [
       "   rating       count\n",
       "1  USA:(Banned)     4\n",
       "2  USA:12          16\n",
       "3  USA:AO          20\n",
       "4  USA:Approved 13864\n",
       "5  USA:G         2214\n",
       "6  USA:GA           1\n",
       "7  USA:GP         328\n",
       "8  USA:Open        33\n",
       "9  USA:Passed    7327\n",
       "10 USA:PG        5510\n",
       "11 USA:PG-13     5337\n",
       "12 USA:R        16302\n",
       "13 USA:Unrated   4611"
      ]
     },
     "metadata": {},
     "output_type": "display_data"
    },
    {
     "name": "stdout",
     "output_type": "stream",
     "text": [
      "[1] \"---- total counted= 55567\"\n",
      "[1] \"---- unique certificates= 13\"\n"
     ]
    }
   ],
   "source": [
    "# get a distribution of certificate\n",
    "by_certificates <- df_certificates %>% group_by(rating) %>% summarize(count = n())\n",
    "\n",
    "# output info\n",
    "by_certificates\n",
    "print(paste0(\"---- total counted= \", sum(by_certificates$count)))\n",
    "unique_certificates = as.numeric(count(by_certificates))\n",
    "print(paste0(\"---- unique certificates= \", unique_certificates))"
   ]
  },
  {
   "cell_type": "code",
   "execution_count": 15,
   "metadata": {},
   "outputs": [
    {
     "name": "stderr",
     "output_type": "stream",
     "text": [
      "Selecting by count\n",
      "\n"
     ]
    },
    {
     "data": {
      "text/html": [
       "<table>\n",
       "<caption>A tibble: 10 × 2</caption>\n",
       "<thead>\n",
       "\t<tr><th scope=col>keyword</th><th scope=col>count</th></tr>\n",
       "\t<tr><th scope=col>&lt;fct&gt;</th><th scope=col>&lt;int&gt;</th></tr>\n",
       "</thead>\n",
       "<tbody>\n",
       "\t<tr><td>based-on-novel           </td><td>22626</td></tr>\n",
       "\t<tr><td>character-name-in-title  </td><td>21769</td></tr>\n",
       "\t<tr><td>death                    </td><td>12710</td></tr>\n",
       "\t<tr><td>f-rated                  </td><td>18253</td></tr>\n",
       "\t<tr><td>female-nudity            </td><td>15146</td></tr>\n",
       "\t<tr><td>husband-wife-relationship</td><td> 9888</td></tr>\n",
       "\t<tr><td>independent-film         </td><td>34932</td></tr>\n",
       "\t<tr><td>murder                   </td><td>19321</td></tr>\n",
       "\t<tr><td>sex                      </td><td>17555</td></tr>\n",
       "\t<tr><td>violence                 </td><td> 9823</td></tr>\n",
       "</tbody>\n",
       "</table>\n"
      ],
      "text/latex": [
       "A tibble: 10 × 2\n",
       "\\begin{tabular}{ll}\n",
       " keyword & count\\\\\n",
       " <fct> & <int>\\\\\n",
       "\\hline\n",
       "\t based-on-novel            & 22626\\\\\n",
       "\t character-name-in-title   & 21769\\\\\n",
       "\t death                     & 12710\\\\\n",
       "\t f-rated                   & 18253\\\\\n",
       "\t female-nudity             & 15146\\\\\n",
       "\t husband-wife-relationship &  9888\\\\\n",
       "\t independent-film          & 34932\\\\\n",
       "\t murder                    & 19321\\\\\n",
       "\t sex                       & 17555\\\\\n",
       "\t violence                  &  9823\\\\\n",
       "\\end{tabular}\n"
      ],
      "text/markdown": [
       "\n",
       "A tibble: 10 × 2\n",
       "\n",
       "| keyword &lt;fct&gt; | count &lt;int&gt; |\n",
       "|---|---|\n",
       "| based-on-novel            | 22626 |\n",
       "| character-name-in-title   | 21769 |\n",
       "| death                     | 12710 |\n",
       "| f-rated                   | 18253 |\n",
       "| female-nudity             | 15146 |\n",
       "| husband-wife-relationship |  9888 |\n",
       "| independent-film          | 34932 |\n",
       "| murder                    | 19321 |\n",
       "| sex                       | 17555 |\n",
       "| violence                  |  9823 |\n",
       "\n"
      ],
      "text/plain": [
       "   keyword                   count\n",
       "1  based-on-novel            22626\n",
       "2  character-name-in-title   21769\n",
       "3  death                     12710\n",
       "4  f-rated                   18253\n",
       "5  female-nudity             15146\n",
       "6  husband-wife-relationship  9888\n",
       "7  independent-film          34932\n",
       "8  murder                    19321\n",
       "9  sex                       17555\n",
       "10 violence                   9823"
      ]
     },
     "metadata": {},
     "output_type": "display_data"
    },
    {
     "name": "stdout",
     "output_type": "stream",
     "text": [
      "[1] \"---- total counted= 3763306\"\n",
      "[1] \"---- unique keywords= 32370\"\n"
     ]
    }
   ],
   "source": [
    "# get a distribution of top n keywords\n",
    "by_keywords <- df_keywords %>% group_by(keyword) %>% summarize(count = n())\n",
    "\n",
    "# output info\n",
    "top_n(by_keywords, 10)\n",
    "print(paste0(\"---- total counted= \", sum(by_keywords$count)))\n",
    "unique_keywords = as.numeric(count(by_keywords))\n",
    "print(paste0(\"---- unique keywords= \", unique_keywords))"
   ]
  },
  {
   "cell_type": "code",
   "execution_count": 16,
   "metadata": {},
   "outputs": [
    {
     "data": {
      "text/html": [
       "<table>\n",
       "<caption>A tibble: 10 × 2</caption>\n",
       "<thead>\n",
       "\t<tr><th scope=col>genre</th><th scope=col>count</th></tr>\n",
       "\t<tr><th scope=col>&lt;fct&gt;</th><th scope=col>&lt;int&gt;</th></tr>\n",
       "</thead>\n",
       "<tbody>\n",
       "\t<tr><td>Western  </td><td>14775</td></tr>\n",
       "\t<tr><td>Animation</td><td>46459</td></tr>\n",
       "\t<tr><td>Fantasy  </td><td>33197</td></tr>\n",
       "\t<tr><td>Crime    </td><td>40925</td></tr>\n",
       "\t<tr><td>Musical  </td><td>15183</td></tr>\n",
       "\t<tr><td>Action   </td><td>56333</td></tr>\n",
       "\t<tr><td>Thriller </td><td>67827</td></tr>\n",
       "\t<tr><td>Mystery  </td><td>29220</td></tr>\n",
       "\t<tr><td>Sci-Fi   </td><td>28854</td></tr>\n",
       "\t<tr><td>Music    </td><td>25044</td></tr>\n",
       "</tbody>\n",
       "</table>\n"
      ],
      "text/latex": [
       "A tibble: 10 × 2\n",
       "\\begin{tabular}{ll}\n",
       " genre & count\\\\\n",
       " <fct> & <int>\\\\\n",
       "\\hline\n",
       "\t Western   & 14775\\\\\n",
       "\t Animation & 46459\\\\\n",
       "\t Fantasy   & 33197\\\\\n",
       "\t Crime     & 40925\\\\\n",
       "\t Musical   & 15183\\\\\n",
       "\t Action    & 56333\\\\\n",
       "\t Thriller  & 67827\\\\\n",
       "\t Mystery   & 29220\\\\\n",
       "\t Sci-Fi    & 28854\\\\\n",
       "\t Music     & 25044\\\\\n",
       "\\end{tabular}\n"
      ],
      "text/markdown": [
       "\n",
       "A tibble: 10 × 2\n",
       "\n",
       "| genre &lt;fct&gt; | count &lt;int&gt; |\n",
       "|---|---|\n",
       "| Western   | 14775 |\n",
       "| Animation | 46459 |\n",
       "| Fantasy   | 33197 |\n",
       "| Crime     | 40925 |\n",
       "| Musical   | 15183 |\n",
       "| Action    | 56333 |\n",
       "| Thriller  | 67827 |\n",
       "| Mystery   | 29220 |\n",
       "| Sci-Fi    | 28854 |\n",
       "| Music     | 25044 |\n",
       "\n"
      ],
      "text/plain": [
       "   genre     count\n",
       "1  Western   14775\n",
       "2  Animation 46459\n",
       "3  Fantasy   33197\n",
       "4  Crime     40925\n",
       "5  Musical   15183\n",
       "6  Action    56333\n",
       "7  Thriller  67827\n",
       "8  Mystery   29220\n",
       "9  Sci-Fi    28854\n",
       "10 Music     25044"
      ]
     },
     "metadata": {},
     "output_type": "display_data"
    },
    {
     "name": "stdout",
     "output_type": "stream",
     "text": [
      "[1] \"---- total counted= 1340555\"\n",
      "[1] \"---- unique genres= 22\"\n"
     ]
    }
   ],
   "source": [
    "# get a distribution of genres\n",
    "by_genre <- df_genres %>% group_by(genre) %>% summarize(count = n())\n",
    "\n",
    "# output info\n",
    "sample_n(by_genre, 10)\n",
    "print(paste0(\"---- total counted= \", sum(by_genre$count)))\n",
    "unique_genres = as.numeric(count(by_genre))\n",
    "print(paste0(\"---- unique genres= \", unique_genres))"
   ]
  },
  {
   "cell_type": "code",
   "execution_count": 17,
   "metadata": {},
   "outputs": [],
   "source": [
    "############## AVERAGES BELOW ##############"
   ]
  },
  {
   "cell_type": "code",
   "execution_count": 18,
   "metadata": {},
   "outputs": [
    {
     "name": "stdout",
     "output_type": "stream",
     "text": [
      "[1] \"---- avg films per year= 4233\"\n",
      "[1] \"---- avg films per month= 548\"\n"
     ]
    },
    {
     "data": {
      "text/html": [
       "<table>\n",
       "<caption>A tibble: 13 × 2</caption>\n",
       "<thead>\n",
       "\t<tr><th scope=col>month</th><th scope=col>average</th></tr>\n",
       "\t<tr><th scope=col>&lt;fct&gt;</th><th scope=col>&lt;dbl&gt;</th></tr>\n",
       "</thead>\n",
       "<tbody>\n",
       "\t<tr><td>January  </td><td>494.2066</td></tr>\n",
       "\t<tr><td>February </td><td>472.4256</td></tr>\n",
       "\t<tr><td>March    </td><td>561.5826</td></tr>\n",
       "\t<tr><td>April    </td><td>596.2025</td></tr>\n",
       "\t<tr><td>May      </td><td>536.8430</td></tr>\n",
       "\t<tr><td>June     </td><td>521.0537</td></tr>\n",
       "\t<tr><td>July     </td><td>462.2727</td></tr>\n",
       "\t<tr><td>August   </td><td>472.7025</td></tr>\n",
       "\t<tr><td>September</td><td>638.5372</td></tr>\n",
       "\t<tr><td>October  </td><td>764.5413</td></tr>\n",
       "\t<tr><td>November </td><td>640.0702</td></tr>\n",
       "\t<tr><td>December </td><td>466.7355</td></tr>\n",
       "\t<tr><td>NA       </td><td>497.8926</td></tr>\n",
       "</tbody>\n",
       "</table>\n"
      ],
      "text/latex": [
       "A tibble: 13 × 2\n",
       "\\begin{tabular}{ll}\n",
       " month & average\\\\\n",
       " <fct> & <dbl>\\\\\n",
       "\\hline\n",
       "\t January   & 494.2066\\\\\n",
       "\t February  & 472.4256\\\\\n",
       "\t March     & 561.5826\\\\\n",
       "\t April     & 596.2025\\\\\n",
       "\t May       & 536.8430\\\\\n",
       "\t June      & 521.0537\\\\\n",
       "\t July      & 462.2727\\\\\n",
       "\t August    & 472.7025\\\\\n",
       "\t September & 638.5372\\\\\n",
       "\t October   & 764.5413\\\\\n",
       "\t November  & 640.0702\\\\\n",
       "\t December  & 466.7355\\\\\n",
       "\t NA        & 497.8926\\\\\n",
       "\\end{tabular}\n"
      ],
      "text/markdown": [
       "\n",
       "A tibble: 13 × 2\n",
       "\n",
       "| month &lt;fct&gt; | average &lt;dbl&gt; |\n",
       "|---|---|\n",
       "| January   | 494.2066 |\n",
       "| February  | 472.4256 |\n",
       "| March     | 561.5826 |\n",
       "| April     | 596.2025 |\n",
       "| May       | 536.8430 |\n",
       "| June      | 521.0537 |\n",
       "| July      | 462.2727 |\n",
       "| August    | 472.7025 |\n",
       "| September | 638.5372 |\n",
       "| October   | 764.5413 |\n",
       "| November  | 640.0702 |\n",
       "| December  | 466.7355 |\n",
       "| NA        | 497.8926 |\n",
       "\n"
      ],
      "text/plain": [
       "   month     average \n",
       "1  January   494.2066\n",
       "2  February  472.4256\n",
       "3  March     561.5826\n",
       "4  April     596.2025\n",
       "5  May       536.8430\n",
       "6  June      521.0537\n",
       "7  July      462.2727\n",
       "8  August    472.7025\n",
       "9  September 638.5372\n",
       "10 October   764.5413\n",
       "11 November  640.0702\n",
       "12 December  466.7355\n",
       "13 NA        497.8926"
      ]
     },
     "metadata": {},
     "output_type": "display_data"
    },
    {
     "name": "stdout",
     "output_type": "stream",
     "text": [
      "[1] \"---- avg runtime= 94\"\n"
     ]
    }
   ],
   "source": [
    "# get average films per year, month, and average runtime\n",
    "\n",
    "# average fims per year: sum of films divided by total years observed\n",
    "avg_per_year = trunc(total_films / unique_years)\n",
    "print(paste0(\"---- avg films per year= \", avg_per_year))\n",
    "\n",
    "# average films per month: sum of films each month, each sum divided by total years observed; then average these results\n",
    "avg_by_month <- by_month\n",
    "avg_by_month$count <- by_month$count / unique_years\n",
    "names(avg_by_month)[2] <- \"average\"\n",
    "avg_per_month = trunc(as.numeric(sum(avg_by_month$average) / unique_months))\n",
    "print(paste0(\"---- avg films per month= \", avg_per_month))\n",
    "avg_by_month\n",
    "\n",
    "# average runtime: sum of each runtime divided by total runtime observations\n",
    "avg_runtime = trunc(mean(df_runtimes$runtime))\n",
    "print(paste0(\"---- avg runtime= \", avg_runtime))"
   ]
  },
  {
   "cell_type": "code",
   "execution_count": 19,
   "metadata": {},
   "outputs": [],
   "source": [
    "############## CHOOSE YEAR OR DECADE ##############"
   ]
  },
  {
   "cell_type": "code",
   "execution_count": 20,
   "metadata": {},
   "outputs": [
    {
     "data": {
      "text/html": [
       "<table>\n",
       "<caption>A data.frame: 10 × 3</caption>\n",
       "<thead>\n",
       "\t<tr><th scope=col>movie</th><th scope=col>month</th><th scope=col>year</th></tr>\n",
       "\t<tr><th scope=col>&lt;fct&gt;</th><th scope=col>&lt;fct&gt;</th><th scope=col>&lt;int&gt;</th></tr>\n",
       "</thead>\n",
       "<tbody>\n",
       "\t<tr><td>Venicile Vyapari (2011)          </td><td>December </td><td>2011</td></tr>\n",
       "\t<tr><td>A Morning Stroll (2011)          </td><td>May      </td><td>2011</td></tr>\n",
       "\t<tr><td>Himizu (2011)                    </td><td>September</td><td>2011</td></tr>\n",
       "\t<tr><td>A Wolf in Sheep's Clothing (2011)</td><td>NA       </td><td>2011</td></tr>\n",
       "\t<tr><td>Le Havre (2011)                  </td><td>August   </td><td>2012</td></tr>\n",
       "\t<tr><td>Eyyvah Eyvah 2 (2011)            </td><td>January  </td><td>2011</td></tr>\n",
       "\t<tr><td>Ang babae sa septic tank (2011)  </td><td>August   </td><td>2011</td></tr>\n",
       "\t<tr><td>Domesticada (2011)               </td><td>February </td><td>2011</td></tr>\n",
       "\t<tr><td>Puss in Boots (2011)             </td><td>December </td><td>2011</td></tr>\n",
       "\t<tr><td>The Tree of Life (2011)          </td><td>September</td><td>2011</td></tr>\n",
       "</tbody>\n",
       "</table>\n"
      ],
      "text/latex": [
       "A data.frame: 10 × 3\n",
       "\\begin{tabular}{lll}\n",
       " movie & month & year\\\\\n",
       " <fct> & <fct> & <int>\\\\\n",
       "\\hline\n",
       "\t Venicile Vyapari (2011)           & December  & 2011\\\\\n",
       "\t A Morning Stroll (2011)           & May       & 2011\\\\\n",
       "\t Himizu (2011)                     & September & 2011\\\\\n",
       "\t A Wolf in Sheep's Clothing (2011) & NA        & 2011\\\\\n",
       "\t Le Havre (2011)                   & August    & 2012\\\\\n",
       "\t Eyyvah Eyvah 2 (2011)             & January   & 2011\\\\\n",
       "\t Ang babae sa septic tank (2011)   & August    & 2011\\\\\n",
       "\t Domesticada (2011)                & February  & 2011\\\\\n",
       "\t Puss in Boots (2011)              & December  & 2011\\\\\n",
       "\t The Tree of Life (2011)           & September & 2011\\\\\n",
       "\\end{tabular}\n"
      ],
      "text/markdown": [
       "\n",
       "A data.frame: 10 × 3\n",
       "\n",
       "| movie &lt;fct&gt; | month &lt;fct&gt; | year &lt;int&gt; |\n",
       "|---|---|---|\n",
       "| Venicile Vyapari (2011)           | December  | 2011 |\n",
       "| A Morning Stroll (2011)           | May       | 2011 |\n",
       "| Himizu (2011)                     | September | 2011 |\n",
       "| A Wolf in Sheep's Clothing (2011) | NA        | 2011 |\n",
       "| Le Havre (2011)                   | August    | 2012 |\n",
       "| Eyyvah Eyvah 2 (2011)             | January   | 2011 |\n",
       "| Ang babae sa septic tank (2011)   | August    | 2011 |\n",
       "| Domesticada (2011)                | February  | 2011 |\n",
       "| Puss in Boots (2011)              | December  | 2011 |\n",
       "| The Tree of Life (2011)           | September | 2011 |\n",
       "\n"
      ],
      "text/plain": [
       "   movie                             month     year\n",
       "1  Venicile Vyapari (2011)           December  2011\n",
       "2  A Morning Stroll (2011)           May       2011\n",
       "3  Himizu (2011)                     September 2011\n",
       "4  A Wolf in Sheep's Clothing (2011) NA        2011\n",
       "5  Le Havre (2011)                   August    2012\n",
       "6  Eyyvah Eyvah 2 (2011)             January   2011\n",
       "7  Ang babae sa septic tank (2011)   August    2011\n",
       "8  Domesticada (2011)                February  2011\n",
       "9  Puss in Boots (2011)              December  2011\n",
       "10 The Tree of Life (2011)           September 2011"
      ]
     },
     "metadata": {},
     "output_type": "display_data"
    }
   ],
   "source": [
    "# get items by year\n",
    "selected_year = 2011\n",
    "\n",
    "# movie year found in movie name i.e. \"{Title} (2014)\" or \"{Title} (2014/I)\", extract year via pattern matching because year column is inaccurate for some reason\n",
    "regex_year = paste0(\"\\\\(\", selected_year, \"\\\\)|\\\\(\", selected_year, \"\\\\/\")\n",
    "movies_in_selected_year <- subset(df_releases, grepl(regex_year, movie))\n",
    "\n",
    "# output a sample of movies found for given year\n",
    "sample_n(movies_in_selected_year, 10)"
   ]
  },
  {
   "cell_type": "code",
   "execution_count": 21,
   "metadata": {},
   "outputs": [
    {
     "data": {
      "text/html": [
       "<table>\n",
       "<caption>A data.frame: 10 × 3</caption>\n",
       "<thead>\n",
       "\t<tr><th scope=col>movie</th><th scope=col>month</th><th scope=col>year</th></tr>\n",
       "\t<tr><th scope=col>&lt;fct&gt;</th><th scope=col>&lt;fct&gt;</th><th scope=col>&lt;int&gt;</th></tr>\n",
       "</thead>\n",
       "<tbody>\n",
       "\t<tr><td>Valley Inn (2014)              </td><td>September</td><td>2014</td></tr>\n",
       "\t<tr><td>Un voyage (2014)               </td><td>April    </td><td>2014</td></tr>\n",
       "\t<tr><td>Junior (2011)                  </td><td>January  </td><td>2012</td></tr>\n",
       "\t<tr><td>Lapped, Translated Lines (2010)</td><td>October  </td><td>2010</td></tr>\n",
       "\t<tr><td>The Rocket (2013)              </td><td>January  </td><td>2014</td></tr>\n",
       "\t<tr><td>Lilting (2014)                 </td><td>June     </td><td>2014</td></tr>\n",
       "\t<tr><td>Face Value (2010)              </td><td>September</td><td>2010</td></tr>\n",
       "\t<tr><td>Lion (2016)                    </td><td>February </td><td>2017</td></tr>\n",
       "\t<tr><td>Bà nôi (2013)                  </td><td>November </td><td>2013</td></tr>\n",
       "\t<tr><td>Raw and Grass-Fed (2011)       </td><td>December </td><td>2011</td></tr>\n",
       "</tbody>\n",
       "</table>\n"
      ],
      "text/latex": [
       "A data.frame: 10 × 3\n",
       "\\begin{tabular}{lll}\n",
       " movie & month & year\\\\\n",
       " <fct> & <fct> & <int>\\\\\n",
       "\\hline\n",
       "\t Valley Inn (2014)               & September & 2014\\\\\n",
       "\t Un voyage (2014)                & April     & 2014\\\\\n",
       "\t Junior (2011)                   & January   & 2012\\\\\n",
       "\t Lapped, Translated Lines (2010) & October   & 2010\\\\\n",
       "\t The Rocket (2013)               & January   & 2014\\\\\n",
       "\t Lilting (2014)                  & June      & 2014\\\\\n",
       "\t Face Value (2010)               & September & 2010\\\\\n",
       "\t Lion (2016)                     & February  & 2017\\\\\n",
       "\t Bà nôi (2013)                   & November  & 2013\\\\\n",
       "\t Raw and Grass-Fed (2011)        & December  & 2011\\\\\n",
       "\\end{tabular}\n"
      ],
      "text/markdown": [
       "\n",
       "A data.frame: 10 × 3\n",
       "\n",
       "| movie &lt;fct&gt; | month &lt;fct&gt; | year &lt;int&gt; |\n",
       "|---|---|---|\n",
       "| Valley Inn (2014)               | September | 2014 |\n",
       "| Un voyage (2014)                | April     | 2014 |\n",
       "| Junior (2011)                   | January   | 2012 |\n",
       "| Lapped, Translated Lines (2010) | October   | 2010 |\n",
       "| The Rocket (2013)               | January   | 2014 |\n",
       "| Lilting (2014)                  | June      | 2014 |\n",
       "| Face Value (2010)               | September | 2010 |\n",
       "| Lion (2016)                     | February  | 2017 |\n",
       "| Bà nôi (2013)                   | November  | 2013 |\n",
       "| Raw and Grass-Fed (2011)        | December  | 2011 |\n",
       "\n"
      ],
      "text/plain": [
       "   movie                           month     year\n",
       "1  Valley Inn (2014)               September 2014\n",
       "2  Un voyage (2014)                April     2014\n",
       "3  Junior (2011)                   January   2012\n",
       "4  Lapped, Translated Lines (2010) October   2010\n",
       "5  The Rocket (2013)               January   2014\n",
       "6  Lilting (2014)                  June      2014\n",
       "7  Face Value (2010)               September 2010\n",
       "8  Lion (2016)                     February  2017\n",
       "9  Bà nôi (2013)                   November  2013\n",
       "10 Raw and Grass-Fed (2011)        December  2011"
      ]
     },
     "metadata": {},
     "output_type": "display_data"
    }
   ],
   "source": [
    "# get items by decade (where decades are in format of 1990, 2000, 2010, etc... for next 9 years, i.e. 1990-1999, 2000-2009, etc..)\n",
    "selected_decade = 2010\n",
    "\n",
    "# movie year found in movie name i.e. \"{Title} (2014)\" or \"{Title} (2014/I)\", extract decade via pattern matching for decade + 9\n",
    "regex_decade = paste0(\"\\\\(\", selected_decade / 10, \"[0-9]\\\\)|\\\\(\", selected_decade / 10, \"[0-9]\\\\/\")\n",
    "movies_in_selected_decade <- subset(df_releases, grepl(regex_decade, movie))\n",
    "\n",
    "# output a sample of movies found for given year\n",
    "sample_n(movies_in_selected_decade, 10)"
   ]
  },
  {
   "cell_type": "code",
   "execution_count": 22,
   "metadata": {},
   "outputs": [],
   "source": [
    "############## CHOOSE GENRE ##############"
   ]
  },
  {
   "cell_type": "code",
   "execution_count": 23,
   "metadata": {
    "scrolled": true
   },
   "outputs": [
    {
     "data": {
      "text/html": [
       "<table>\n",
       "<caption>A data.frame: 10 × 2</caption>\n",
       "<thead>\n",
       "\t<tr><th scope=col>movie</th><th scope=col>genre</th></tr>\n",
       "\t<tr><th scope=col>&lt;fct&gt;</th><th scope=col>&lt;fct&gt;</th></tr>\n",
       "</thead>\n",
       "<tbody>\n",
       "\t<tr><td>Homenaje internacional al gran poeta mexicano Amado Nervo en Veracruz (1920)    </td><td>Documentary</td></tr>\n",
       "\t<tr><td>Silent Voice (????)                                                             </td><td>Drama      </td></tr>\n",
       "\t<tr><td>Reminiscéncas Cinematográficas - Palhaços Chateau - Margot due dos Patos (1937) </td><td>Documentary</td></tr>\n",
       "\t<tr><td>Missing (2010/III)                                                              </td><td>Drama      </td></tr>\n",
       "\t<tr><td>Those Who Know, Knot (2016)                                                     </td><td>Drama      </td></tr>\n",
       "\t<tr><td>I Still Believe (2014)                                                          </td><td>Documentary</td></tr>\n",
       "\t<tr><td>A documentary about the wrong band: The story of Will Spector y Los Fatus (2017)</td><td>Comedy     </td></tr>\n",
       "\t<tr><td>Sugar Shop (2011)                                                               </td><td>Drama      </td></tr>\n",
       "\t<tr><td>Good Grief (2017/IV)                                                            </td><td>Comedy     </td></tr>\n",
       "\t<tr><td>I Should Worry (1913)                                                           </td><td>Comedy     </td></tr>\n",
       "</tbody>\n",
       "</table>\n"
      ],
      "text/latex": [
       "A data.frame: 10 × 2\n",
       "\\begin{tabular}{ll}\n",
       " movie & genre\\\\\n",
       " <fct> & <fct>\\\\\n",
       "\\hline\n",
       "\t Homenaje internacional al gran poeta mexicano Amado Nervo en Veracruz (1920)     & Documentary\\\\\n",
       "\t Silent Voice (????)                                                              & Drama      \\\\\n",
       "\t Reminiscéncas Cinematográficas - Palhaços Chateau - Margot due dos Patos (1937)  & Documentary\\\\\n",
       "\t Missing (2010/III)                                                               & Drama      \\\\\n",
       "\t Those Who Know, Knot (2016)                                                      & Drama      \\\\\n",
       "\t I Still Believe (2014)                                                           & Documentary\\\\\n",
       "\t A documentary about the wrong band: The story of Will Spector y Los Fatus (2017) & Comedy     \\\\\n",
       "\t Sugar Shop (2011)                                                                & Drama      \\\\\n",
       "\t Good Grief (2017/IV)                                                             & Comedy     \\\\\n",
       "\t I Should Worry (1913)                                                            & Comedy     \\\\\n",
       "\\end{tabular}\n"
      ],
      "text/markdown": [
       "\n",
       "A data.frame: 10 × 2\n",
       "\n",
       "| movie &lt;fct&gt; | genre &lt;fct&gt; |\n",
       "|---|---|\n",
       "| Homenaje internacional al gran poeta mexicano Amado Nervo en Veracruz (1920)     | Documentary |\n",
       "| Silent Voice (????)                                                              | Drama       |\n",
       "| Reminiscéncas Cinematográficas - Palhaços Chateau - Margot due dos Patos (1937)  | Documentary |\n",
       "| Missing (2010/III)                                                               | Drama       |\n",
       "| Those Who Know, Knot (2016)                                                      | Drama       |\n",
       "| I Still Believe (2014)                                                           | Documentary |\n",
       "| A documentary about the wrong band: The story of Will Spector y Los Fatus (2017) | Comedy      |\n",
       "| Sugar Shop (2011)                                                                | Drama       |\n",
       "| Good Grief (2017/IV)                                                             | Comedy      |\n",
       "| I Should Worry (1913)                                                            | Comedy      |\n",
       "\n"
      ],
      "text/plain": [
       "   movie                                                                           \n",
       "1  Homenaje internacional al gran poeta mexicano Amado Nervo en Veracruz (1920)    \n",
       "2  Silent Voice (????)                                                             \n",
       "3  Reminiscéncas Cinematográficas - Palhaços Chateau - Margot due dos Patos (1937) \n",
       "4  Missing (2010/III)                                                              \n",
       "5  Those Who Know, Knot (2016)                                                     \n",
       "6  I Still Believe (2014)                                                          \n",
       "7  A documentary about the wrong band: The story of Will Spector y Los Fatus (2017)\n",
       "8  Sugar Shop (2011)                                                               \n",
       "9  Good Grief (2017/IV)                                                            \n",
       "10 I Should Worry (1913)                                                           \n",
       "   genre      \n",
       "1  Documentary\n",
       "2  Drama      \n",
       "3  Documentary\n",
       "4  Drama      \n",
       "5  Drama      \n",
       "6  Documentary\n",
       "7  Comedy     \n",
       "8  Drama      \n",
       "9  Comedy     \n",
       "10 Comedy     "
      ]
     },
     "metadata": {},
     "output_type": "display_data"
    }
   ],
   "source": [
    "# genre input is comma separated string list\n",
    "selected_genres = \"comedy, Drama , fake_test, doCumenTarY, \"\n",
    "\n",
    "# split genres input to individual inputs\n",
    "genres <- unlist(strsplit(selected_genres, \",\"))\n",
    "\n",
    "# retrieve first genre as a \"base\"\n",
    "condition <- paste0(\"str_to_lower(str_trim(genres[1])) == str_to_lower(genre) \")\n",
    "\n",
    "# if more than 1 genres provided...\n",
    "if (length(genres) > 1) {\n",
    "    \n",
    "    # then build conditional string for each one after \"base\"\n",
    "    for (i in 2:length(genres)) {\n",
    "        \n",
    "        # make a new condition with the current genre, being sure to ignore case and trim the input\n",
    "        next_condition <- paste0(\"| str_to_lower(str_trim(genres[\", i, \"])) == str_to_lower(genre) \")\n",
    "        \n",
    "        # add the new condition onto the current list of conditions\n",
    "        condition <- paste(condition, next_condition, sep = \"\")\n",
    "    }\n",
    "}\n",
    "\n",
    "# movie genre found in genre column, just fetch it by parsing the condition from above\n",
    "movies_in_selected_genre <- subset(df_genres, eval(parse(text = condition)))\n",
    "\n",
    "# output a sample of movies found for given genre(s)\n",
    "sample_n(movies_in_selected_genre, 10)"
   ]
  },
  {
   "cell_type": "code",
   "execution_count": 24,
   "metadata": {},
   "outputs": [],
   "source": [
    "############## CHOOSE KEYWORD ##############"
   ]
  },
  {
   "cell_type": "code",
   "execution_count": 25,
   "metadata": {},
   "outputs": [
    {
     "data": {
      "text/html": [
       "<table>\n",
       "<caption>A data.frame: 10 × 3</caption>\n",
       "<thead>\n",
       "\t<tr><th scope=col>movie</th><th scope=col>keyword</th><th scope=col>year</th></tr>\n",
       "\t<tr><th scope=col>&lt;fct&gt;</th><th scope=col>&lt;fct&gt;</th><th scope=col>&lt;dbl&gt;</th></tr>\n",
       "</thead>\n",
       "<tbody>\n",
       "\t<tr><td>USS Indianapolis: Men of Courage (2016)</td><td>fight  </td><td>2016</td></tr>\n",
       "\t<tr><td>Mac (1992)                             </td><td>fight  </td><td>1992</td></tr>\n",
       "\t<tr><td>Na krásnom modrom Dunaji (1994)        </td><td>fight  </td><td>1994</td></tr>\n",
       "\t<tr><td>Pikajuna pohjoiseen (1947)             </td><td>fight  </td><td>1947</td></tr>\n",
       "\t<tr><td>Wild Riders (1971)                     </td><td>fight  </td><td>1971</td></tr>\n",
       "\t<tr><td>Silent Night, Deadly Night (1984)      </td><td>fight  </td><td>1984</td></tr>\n",
       "\t<tr><td>On the Ropes (1999)                    </td><td>fight  </td><td>1999</td></tr>\n",
       "\t<tr><td>A Short Hike (2017)                    </td><td>fight  </td><td>2017</td></tr>\n",
       "\t<tr><td>Jesse James as the Outlaw (1921)       </td><td>shotgun</td><td>1921</td></tr>\n",
       "\t<tr><td>Mafioso (1962)                         </td><td>fight  </td><td>1962</td></tr>\n",
       "</tbody>\n",
       "</table>\n"
      ],
      "text/latex": [
       "A data.frame: 10 × 3\n",
       "\\begin{tabular}{lll}\n",
       " movie & keyword & year\\\\\n",
       " <fct> & <fct> & <dbl>\\\\\n",
       "\\hline\n",
       "\t USS Indianapolis: Men of Courage (2016) & fight   & 2016\\\\\n",
       "\t Mac (1992)                              & fight   & 1992\\\\\n",
       "\t Na krásnom modrom Dunaji (1994)         & fight   & 1994\\\\\n",
       "\t Pikajuna pohjoiseen (1947)              & fight   & 1947\\\\\n",
       "\t Wild Riders (1971)                      & fight   & 1971\\\\\n",
       "\t Silent Night, Deadly Night (1984)       & fight   & 1984\\\\\n",
       "\t On the Ropes (1999)                     & fight   & 1999\\\\\n",
       "\t A Short Hike (2017)                     & fight   & 2017\\\\\n",
       "\t Jesse James as the Outlaw (1921)        & shotgun & 1921\\\\\n",
       "\t Mafioso (1962)                          & fight   & 1962\\\\\n",
       "\\end{tabular}\n"
      ],
      "text/markdown": [
       "\n",
       "A data.frame: 10 × 3\n",
       "\n",
       "| movie &lt;fct&gt; | keyword &lt;fct&gt; | year &lt;dbl&gt; |\n",
       "|---|---|---|\n",
       "| USS Indianapolis: Men of Courage (2016) | fight   | 2016 |\n",
       "| Mac (1992)                              | fight   | 1992 |\n",
       "| Na krásnom modrom Dunaji (1994)         | fight   | 1994 |\n",
       "| Pikajuna pohjoiseen (1947)              | fight   | 1947 |\n",
       "| Wild Riders (1971)                      | fight   | 1971 |\n",
       "| Silent Night, Deadly Night (1984)       | fight   | 1984 |\n",
       "| On the Ropes (1999)                     | fight   | 1999 |\n",
       "| A Short Hike (2017)                     | fight   | 2017 |\n",
       "| Jesse James as the Outlaw (1921)        | shotgun | 1921 |\n",
       "| Mafioso (1962)                          | fight   | 1962 |\n",
       "\n"
      ],
      "text/plain": [
       "   movie                                   keyword year\n",
       "1  USS Indianapolis: Men of Courage (2016) fight   2016\n",
       "2  Mac (1992)                              fight   1992\n",
       "3  Na krásnom modrom Dunaji (1994)         fight   1994\n",
       "4  Pikajuna pohjoiseen (1947)              fight   1947\n",
       "5  Wild Riders (1971)                      fight   1971\n",
       "6  Silent Night, Deadly Night (1984)       fight   1984\n",
       "7  On the Ropes (1999)                     fight   1999\n",
       "8  A Short Hike (2017)                     fight   2017\n",
       "9  Jesse James as the Outlaw (1921)        shotgun 1921\n",
       "10 Mafioso (1962)                          fight   1962"
      ]
     },
     "metadata": {},
     "output_type": "display_data"
    }
   ],
   "source": [
    "# keyword input is comma separated string list\n",
    "selected_keywords = \"fight, cat-and-mouse , fake_test, shOtguN, \"\n",
    "\n",
    "# split keyword input to individual inputs\n",
    "keywords <- unlist(strsplit(selected_keywords, \",\"))\n",
    "\n",
    "# retrieve first keyword as a \"base\"\n",
    "condition <- paste0(\"str_to_lower(str_trim(keywords[1])) == str_to_lower(keyword) \")\n",
    "\n",
    "# if more than 1 keywords provided...\n",
    "if (length(keywords) > 1) {\n",
    "    \n",
    "    # then build conditional string for each one after \"base\"\n",
    "    for (i in 2:length(keywords)) {\n",
    "        \n",
    "        # make a new condition with the current keyword, being sure to ignore case and trim the input\n",
    "        next_condition <- paste0(\"| str_to_lower(str_trim(keywords[\", i, \"])) == str_to_lower(keyword) \")\n",
    "        \n",
    "        # add the new condition onto the current list of conditions\n",
    "        condition <- paste(condition, next_condition, sep = \"\")\n",
    "    }\n",
    "}\n",
    "\n",
    "# movie keyword found in keyword column, just fetch it by parsing the condition from above\n",
    "movies_in_selected_keywords <- subset(df_keywords, eval(parse(text = condition)))\n",
    "\n",
    "# output a sample of movies found for given keyword(s)\n",
    "sample_n(movies_in_selected_keywords, 10)"
   ]
  },
  {
   "cell_type": "code",
   "execution_count": 26,
   "metadata": {},
   "outputs": [],
   "source": [
    "############## CHOOSE CERTIFICATE ##############"
   ]
  },
  {
   "cell_type": "code",
   "execution_count": 27,
   "metadata": {},
   "outputs": [
    {
     "data": {
      "text/html": [
       "<table>\n",
       "<caption>A data.frame: 10 × 2</caption>\n",
       "<thead>\n",
       "\t<tr><th scope=col>movie</th><th scope=col>rating</th></tr>\n",
       "\t<tr><th scope=col>&lt;fct&gt;</th><th scope=col>&lt;fct&gt;</th></tr>\n",
       "</thead>\n",
       "<tbody>\n",
       "\t<tr><td>Think Like a Man Too (2014)                                   </td><td>USA:PG-13  </td></tr>\n",
       "\t<tr><td>Looking for Richard (1996)                                    </td><td>USA:PG-13  </td></tr>\n",
       "\t<tr><td>The Search for Signs of Inteligent Life in the Universe (1991)</td><td>USA:PG-13  </td></tr>\n",
       "\t<tr><td>Iris (2014/IX)                                                </td><td>USA:PG-13  </td></tr>\n",
       "\t<tr><td>Payatas a Mirror of Poverty (2002)                            </td><td>USA:PG-13  </td></tr>\n",
       "\t<tr><td>I Am Not Your Negro (2016)                                    </td><td>USA:PG-13  </td></tr>\n",
       "\t<tr><td>The Darkest Hour (2011)                                       </td><td>USA:PG-13  </td></tr>\n",
       "\t<tr><td>Zombieworld (2015)                                            </td><td>USA:Unrated</td></tr>\n",
       "\t<tr><td>Inventing Adam (2013)                                         </td><td>USA:PG-13  </td></tr>\n",
       "\t<tr><td>Fantastic Four (2005/I)                                       </td><td>USA:PG-13  </td></tr>\n",
       "</tbody>\n",
       "</table>\n"
      ],
      "text/latex": [
       "A data.frame: 10 × 2\n",
       "\\begin{tabular}{ll}\n",
       " movie & rating\\\\\n",
       " <fct> & <fct>\\\\\n",
       "\\hline\n",
       "\t Think Like a Man Too (2014)                                    & USA:PG-13  \\\\\n",
       "\t Looking for Richard (1996)                                     & USA:PG-13  \\\\\n",
       "\t The Search for Signs of Inteligent Life in the Universe (1991) & USA:PG-13  \\\\\n",
       "\t Iris (2014/IX)                                                 & USA:PG-13  \\\\\n",
       "\t Payatas a Mirror of Poverty (2002)                             & USA:PG-13  \\\\\n",
       "\t I Am Not Your Negro (2016)                                     & USA:PG-13  \\\\\n",
       "\t The Darkest Hour (2011)                                        & USA:PG-13  \\\\\n",
       "\t Zombieworld (2015)                                             & USA:Unrated\\\\\n",
       "\t Inventing Adam (2013)                                          & USA:PG-13  \\\\\n",
       "\t Fantastic Four (2005/I)                                        & USA:PG-13  \\\\\n",
       "\\end{tabular}\n"
      ],
      "text/markdown": [
       "\n",
       "A data.frame: 10 × 2\n",
       "\n",
       "| movie &lt;fct&gt; | rating &lt;fct&gt; |\n",
       "|---|---|\n",
       "| Think Like a Man Too (2014)                                    | USA:PG-13   |\n",
       "| Looking for Richard (1996)                                     | USA:PG-13   |\n",
       "| The Search for Signs of Inteligent Life in the Universe (1991) | USA:PG-13   |\n",
       "| Iris (2014/IX)                                                 | USA:PG-13   |\n",
       "| Payatas a Mirror of Poverty (2002)                             | USA:PG-13   |\n",
       "| I Am Not Your Negro (2016)                                     | USA:PG-13   |\n",
       "| The Darkest Hour (2011)                                        | USA:PG-13   |\n",
       "| Zombieworld (2015)                                             | USA:Unrated |\n",
       "| Inventing Adam (2013)                                          | USA:PG-13   |\n",
       "| Fantastic Four (2005/I)                                        | USA:PG-13   |\n",
       "\n"
      ],
      "text/plain": [
       "   movie                                                          rating     \n",
       "1  Think Like a Man Too (2014)                                    USA:PG-13  \n",
       "2  Looking for Richard (1996)                                     USA:PG-13  \n",
       "3  The Search for Signs of Inteligent Life in the Universe (1991) USA:PG-13  \n",
       "4  Iris (2014/IX)                                                 USA:PG-13  \n",
       "5  Payatas a Mirror of Poverty (2002)                             USA:PG-13  \n",
       "6  I Am Not Your Negro (2016)                                     USA:PG-13  \n",
       "7  The Darkest Hour (2011)                                        USA:PG-13  \n",
       "8  Zombieworld (2015)                                             USA:Unrated\n",
       "9  Inventing Adam (2013)                                          USA:PG-13  \n",
       "10 Fantastic Four (2005/I)                                        USA:PG-13  "
      ]
     },
     "metadata": {},
     "output_type": "display_data"
    }
   ],
   "source": [
    "# certificate input is comma separated string list\n",
    "selected_certificates = \"USA:Pg-13, USA:UnRateD , USA:fake_test, USA:, \"\n",
    "\n",
    "# split certificate input to individual inputs\n",
    "certificates <- unlist(strsplit(selected_certificates, \",\"))\n",
    "\n",
    "# retrieve first certificate as a \"base\"\n",
    "condition <- paste0(\"str_to_lower(str_trim(certificates[1])) == str_to_lower(rating) \")\n",
    "\n",
    "# if more than 1 certificates provided...\n",
    "if (length(certificates) > 1) {\n",
    "    \n",
    "    # then build conditional string for each one after \"base\"\n",
    "    for (i in 2:length(certificates)) {\n",
    "        \n",
    "        # make a new condition with the current certificate, being sure to ignore case and trim the input\n",
    "        next_condition <- paste0(\"| str_to_lower(str_trim(certificates[\", i, \"])) == str_to_lower(rating) \")\n",
    "        \n",
    "        # add the new condition onto the current list of conditions\n",
    "        condition <- paste(condition, next_condition, sep = \"\")\n",
    "    }\n",
    "}\n",
    "\n",
    "# movie certificate found in certificate column, just fetch it by parsing the condition from above\n",
    "movies_in_selected_certificates <- subset(df_certificates, eval(parse(text = condition)))\n",
    "\n",
    "# output a sample of movies found for given certificate(s)\n",
    "sample_n(movies_in_selected_certificates, 10)"
   ]
  },
  {
   "cell_type": "code",
   "execution_count": 28,
   "metadata": {},
   "outputs": [],
   "source": [
    "############## CHOOSE RUNTIME ##############"
   ]
  },
  {
   "cell_type": "code",
   "execution_count": 29,
   "metadata": {},
   "outputs": [
    {
     "data": {
      "text/html": [
       "<table>\n",
       "<caption>A data.frame: 10 × 2</caption>\n",
       "<thead>\n",
       "\t<tr><th scope=col>movie</th><th scope=col>runtime</th></tr>\n",
       "\t<tr><th scope=col>&lt;fct&gt;</th><th scope=col>&lt;dbl&gt;</th></tr>\n",
       "</thead>\n",
       "<tbody>\n",
       "\t<tr><td>Half a House (1975)             </td><td>84</td></tr>\n",
       "\t<tr><td>Mer kolkhozi mardik (1940)      </td><td>84</td></tr>\n",
       "\t<tr><td>Tout dépend des filles... (1980)</td><td>94</td></tr>\n",
       "\t<tr><td>Le Chalet (2005)                </td><td>90</td></tr>\n",
       "\t<tr><td>Beloved Impostor (1936)         </td><td>86</td></tr>\n",
       "\t<tr><td>An Englishman in New York (2009)</td><td>74</td></tr>\n",
       "\t<tr><td>Byl sobie dzieciak (2013)       </td><td>91</td></tr>\n",
       "\t<tr><td>Struggle No More (2006)         </td><td>85</td></tr>\n",
       "\t<tr><td>Midnight Blue (1979)            </td><td>83</td></tr>\n",
       "\t<tr><td>Death Force (1978)              </td><td>96</td></tr>\n",
       "</tbody>\n",
       "</table>\n"
      ],
      "text/latex": [
       "A data.frame: 10 × 2\n",
       "\\begin{tabular}{ll}\n",
       " movie & runtime\\\\\n",
       " <fct> & <dbl>\\\\\n",
       "\\hline\n",
       "\t Half a House (1975)              & 84\\\\\n",
       "\t Mer kolkhozi mardik (1940)       & 84\\\\\n",
       "\t Tout dépend des filles... (1980) & 94\\\\\n",
       "\t Le Chalet (2005)                 & 90\\\\\n",
       "\t Beloved Impostor (1936)          & 86\\\\\n",
       "\t An Englishman in New York (2009) & 74\\\\\n",
       "\t Byl sobie dzieciak (2013)        & 91\\\\\n",
       "\t Struggle No More (2006)          & 85\\\\\n",
       "\t Midnight Blue (1979)             & 83\\\\\n",
       "\t Death Force (1978)               & 96\\\\\n",
       "\\end{tabular}\n"
      ],
      "text/markdown": [
       "\n",
       "A data.frame: 10 × 2\n",
       "\n",
       "| movie &lt;fct&gt; | runtime &lt;dbl&gt; |\n",
       "|---|---|\n",
       "| Half a House (1975)              | 84 |\n",
       "| Mer kolkhozi mardik (1940)       | 84 |\n",
       "| Tout dépend des filles... (1980) | 94 |\n",
       "| Le Chalet (2005)                 | 90 |\n",
       "| Beloved Impostor (1936)          | 86 |\n",
       "| An Englishman in New York (2009) | 74 |\n",
       "| Byl sobie dzieciak (2013)        | 91 |\n",
       "| Struggle No More (2006)          | 85 |\n",
       "| Midnight Blue (1979)             | 83 |\n",
       "| Death Force (1978)               | 96 |\n",
       "\n"
      ],
      "text/plain": [
       "   movie                            runtime\n",
       "1  Half a House (1975)              84     \n",
       "2  Mer kolkhozi mardik (1940)       84     \n",
       "3  Tout dépend des filles... (1980) 94     \n",
       "4  Le Chalet (2005)                 90     \n",
       "5  Beloved Impostor (1936)          86     \n",
       "6  An Englishman in New York (2009) 74     \n",
       "7  Byl sobie dzieciak (2013)        91     \n",
       "8  Struggle No More (2006)          85     \n",
       "9  Midnight Blue (1979)             83     \n",
       "10 Death Force (1978)               96     "
      ]
     },
     "metadata": {},
     "output_type": "display_data"
    }
   ],
   "source": [
    "# runtime input is range from min to max\n",
    "runtime_min = 60\n",
    "runtime_max = 120\n",
    "\n",
    "# movie runtime found in runtime column, just fetch it and compare the inputs\n",
    "movies_in_selected_runtimes <- subset(df_runtimes, runtime_min <= runtime & runtime_max >= runtime)\n",
    "\n",
    "# output a sample of movies found for given runtime range\n",
    "sample_n(movies_in_selected_runtimes, 10)"
   ]
  },
  {
   "cell_type": "code",
   "execution_count": null,
   "metadata": {},
   "outputs": [],
   "source": []
  },
  {
   "cell_type": "code",
   "execution_count": 30,
   "metadata": {},
   "outputs": [],
   "source": [
    "############## SINGLE RDS FILE BELOW ##############"
   ]
  },
  {
   "cell_type": "code",
   "execution_count": 31,
   "metadata": {},
   "outputs": [
    {
     "name": "stderr",
     "output_type": "stream",
     "text": [
      "Joining, by = \"movie\"\n",
      "\n",
      "Warning message:\n",
      "“Column `movie` joining factors with different levels, coercing to character vector”\n",
      "Joining, by = c(\"movie\", \"year\")\n",
      "\n",
      "Warning message:\n",
      "“Column `movie` joining character vector and factor, coercing into character vector”\n",
      "Joining, by = \"movie\"\n",
      "\n",
      "Warning message:\n",
      "“Column `movie` joining character vector and factor, coercing into character vector”\n",
      "Joining, by = \"movie\"\n",
      "\n",
      "Warning message:\n",
      "“Column `movie` joining character vector and factor, coercing into character vector”\n"
     ]
    }
   ],
   "source": [
    "# joining each CSV on movie column (excluding keywords, too large and slow)\n",
    "combined <- df_movies %>%\n",
    "            left_join(df_genres) %>%\n",
    "            left_join(df_releases) %>%\n",
    "            left_join(df_runtimes) %>%\n",
    "            left_join(df_certificates) %>%\n",
    "            #left_join(df_keywords) %>%\n",
    "            #select(movie, month, genre, runtime, rating, keyword)\n",
    "            select(movie, year, month, genre, runtime, rating)\n",
    "\n",
    "# dropping rows with NA values\n",
    "combined <- drop_na(combined)\n",
    "\n",
    "# removing duplicate rows\n",
    "combined <- combined[!duplicated(combined), ]"
   ]
  },
  {
   "cell_type": "code",
   "execution_count": 32,
   "metadata": {},
   "outputs": [],
   "source": [
    "# writing the joined data to a single RDS file\n",
    "saveRDS(combined, file = \"combined_data.rds\")"
   ]
  },
  {
   "cell_type": "code",
   "execution_count": null,
   "metadata": {},
   "outputs": [],
   "source": []
  }
 ],
 "metadata": {
  "kernelspec": {
   "display_name": "R",
   "language": "R",
   "name": "ir"
  },
  "language_info": {
   "codemirror_mode": "r",
   "file_extension": ".r",
   "mimetype": "text/x-r-source",
   "name": "R",
   "pygments_lexer": "r",
   "version": "3.6.3"
  }
 },
 "nbformat": 4,
 "nbformat_minor": 2
}
