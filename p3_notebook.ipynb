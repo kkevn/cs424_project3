{
 "cells": [
  {
   "cell_type": "code",
   "execution_count": 107,
   "metadata": {},
   "outputs": [],
   "source": [
    "#######################################\n",
    "# CS 424 - Project 3\n",
    "# Kevin Kowalski\n",
    "# Samuel Kajah\n",
    "# Vijay Vemu\n",
    "#######################################\n",
    "#\n",
    "# This file contains the code to clean\n",
    "# the original data set. It outputs\n",
    "# the necessary plots and updated data\n",
    "# set to be used by shiny.\n",
    "#\n",
    "# This file was used for testing and \n",
    "# plotting before using RStudio for a\n",
    "# dashboard.\n",
    "#\n",
    "#######################################"
   ]
  },
  {
   "cell_type": "code",
   "execution_count": 108,
   "metadata": {},
   "outputs": [],
   "source": [
    "# import libraries\n",
    "library(comprehenr)\n",
    "library(dplyr)\n",
    "library(ggplot2)\n",
    "library(hashmap)\n",
    "library(lubridate)\n",
    "library(stringr)\n",
    "library(tidyverse)"
   ]
  },
  {
   "cell_type": "code",
   "execution_count": 109,
   "metadata": {},
   "outputs": [],
   "source": [
    "# read in the CSV files\n",
    "df_certificates = read.csv('data_files/new_files/certificates.csv')\n",
    "df_genres = read.csv('data_files/new_files/genres.csv')\n",
    "df_keywords = read.csv('data_files/new_files/keywords.csv')\n",
    "df_movies = read.csv('data_files/new_files/movies.csv')\n",
    "df_releases = read.csv('data_files/new_files/releases.csv')\n",
    "df_runtimes = read.csv('data_files/new_files/runtimes.csv')"
   ]
  },
  {
   "cell_type": "code",
   "execution_count": 110,
   "metadata": {},
   "outputs": [
    {
     "name": "stdout",
     "output_type": "stream",
     "text": [
      "[1] \"---- df_certificates, n=55567\"\n"
     ]
    },
    {
     "data": {
      "text/html": [
       "<table>\n",
       "<thead><tr><th scope=col>movie</th><th scope=col>rating</th></tr></thead>\n",
       "<tbody>\n",
       "\t<tr><td>Ma! He's Making Eyes at Me (1940)                                                           </td><td>USA:Passed                                                                                  </td></tr>\n",
       "\t<tr><td>The Last of the Mohicans (1936)                                                             </td><td>USA:Approved                                                                                </td></tr>\n",
       "\t<tr><td>The Catnip Gang (1949)                                                                      </td><td>USA:Passed                                                                                  </td></tr>\n",
       "\t<tr><td>The Twilight People (1972)                                                                  </td><td>USA:PG                                                                                      </td></tr>\n",
       "\t<tr><td>PYONGYANG CONCERT: WAGNER, R./DVORAK, A./GERSHWIN, G. (New York Philharmonic, Maazel) (2013)</td><td>USA:Unrated                                                                                 </td></tr>\n",
       "</tbody>\n",
       "</table>\n"
      ],
      "text/latex": [
       "\\begin{tabular}{r|ll}\n",
       " movie & rating\\\\\n",
       "\\hline\n",
       "\t Ma! He's Making Eyes at Me (1940)                                                            & USA:Passed                                                                                  \\\\\n",
       "\t The Last of the Mohicans (1936)                                                              & USA:Approved                                                                                \\\\\n",
       "\t The Catnip Gang (1949)                                                                       & USA:Passed                                                                                  \\\\\n",
       "\t The Twilight People (1972)                                                                   & USA:PG                                                                                      \\\\\n",
       "\t PYONGYANG CONCERT: WAGNER, R./DVORAK, A./GERSHWIN, G. (New York Philharmonic, Maazel) (2013) & USA:Unrated                                                                                 \\\\\n",
       "\\end{tabular}\n"
      ],
      "text/markdown": [
       "\n",
       "| movie | rating |\n",
       "|---|---|\n",
       "| Ma! He's Making Eyes at Me (1940)                                                            | USA:Passed                                                                                   |\n",
       "| The Last of the Mohicans (1936)                                                              | USA:Approved                                                                                 |\n",
       "| The Catnip Gang (1949)                                                                       | USA:Passed                                                                                   |\n",
       "| The Twilight People (1972)                                                                   | USA:PG                                                                                       |\n",
       "| PYONGYANG CONCERT: WAGNER, R./DVORAK, A./GERSHWIN, G. (New York Philharmonic, Maazel) (2013) | USA:Unrated                                                                                  |\n",
       "\n"
      ],
      "text/plain": [
       "  movie                                                                                       \n",
       "1 Ma! He's Making Eyes at Me (1940)                                                           \n",
       "2 The Last of the Mohicans (1936)                                                             \n",
       "3 The Catnip Gang (1949)                                                                      \n",
       "4 The Twilight People (1972)                                                                  \n",
       "5 PYONGYANG CONCERT: WAGNER, R./DVORAK, A./GERSHWIN, G. (New York Philharmonic, Maazel) (2013)\n",
       "  rating      \n",
       "1 USA:Passed  \n",
       "2 USA:Approved\n",
       "3 USA:Passed  \n",
       "4 USA:PG      \n",
       "5 USA:Unrated "
      ]
     },
     "metadata": {},
     "output_type": "display_data"
    },
    {
     "data": {
      "text/plain": [
       "                                                 movie      \n",
       " The Green Archer (1940)                            :   16  \n",
       " The Mysterious Pilot (1937)                        :   16  \n",
       " The Amazing Exploits of the Clutching Hand (1936/I):   15  \n",
       " The Shadow (1940)                                  :   14  \n",
       " Sky Raiders (1941)                                 :   13  \n",
       " Junior G-Men of the Air (1942)                     :   12  \n",
       " (Other)                                            :55481  \n",
       "          rating     \n",
       " USA:R       :16302  \n",
       " USA:Approved:13864  \n",
       " USA:Passed  : 7327  \n",
       " USA:PG      : 5510  \n",
       " USA:PG-13   : 5337  \n",
       " USA:Unrated : 4611  \n",
       " (Other)     : 2616  "
      ]
     },
     "metadata": {},
     "output_type": "display_data"
    }
   ],
   "source": [
    "# printing certificate CSV info\n",
    "print(paste0(\"---- df_certificates, n=\", count(df_certificates)))\n",
    "sample_n(df_certificates, 5)\n",
    "summary(df_certificates)"
   ]
  },
  {
   "cell_type": "code",
   "execution_count": 111,
   "metadata": {},
   "outputs": [
    {
     "name": "stdout",
     "output_type": "stream",
     "text": [
      "[1] \"---- df_genres, n=1340551\"\n"
     ]
    },
    {
     "data": {
      "text/html": [
       "<table>\n",
       "<thead><tr><th scope=col>movie</th><th scope=col>genre</th></tr></thead>\n",
       "<tbody>\n",
       "\t<tr><td>My Next Funeral (2000)      </td><td>Comedy                      </td></tr>\n",
       "\t<tr><td>All the Wild Horses (2017)  </td><td>Adventure                   </td></tr>\n",
       "\t<tr><td>A Symmetrical Romance (2013)</td><td>Comedy                      </td></tr>\n",
       "\t<tr><td>Caribbean Christmas (2001)  </td><td>Animation                   </td></tr>\n",
       "\t<tr><td>Dirt (????)                 </td><td>Thriller                    </td></tr>\n",
       "</tbody>\n",
       "</table>\n"
      ],
      "text/latex": [
       "\\begin{tabular}{r|ll}\n",
       " movie & genre\\\\\n",
       "\\hline\n",
       "\t My Next Funeral (2000)       & Comedy                      \\\\\n",
       "\t All the Wild Horses (2017)   & Adventure                   \\\\\n",
       "\t A Symmetrical Romance (2013) & Comedy                      \\\\\n",
       "\t Caribbean Christmas (2001)   & Animation                   \\\\\n",
       "\t Dirt (????)                  & Thriller                    \\\\\n",
       "\\end{tabular}\n"
      ],
      "text/markdown": [
       "\n",
       "| movie | genre |\n",
       "|---|---|\n",
       "| My Next Funeral (2000)       | Comedy                       |\n",
       "| All the Wild Horses (2017)   | Adventure                    |\n",
       "| A Symmetrical Romance (2013) | Comedy                       |\n",
       "| Caribbean Christmas (2001)   | Animation                    |\n",
       "| Dirt (????)                  | Thriller                     |\n",
       "\n"
      ],
      "text/plain": [
       "  movie                        genre    \n",
       "1 My Next Funeral (2000)       Comedy   \n",
       "2 All the Wild Horses (2017)   Adventure\n",
       "3 A Symmetrical Romance (2013) Comedy   \n",
       "4 Caribbean Christmas (2001)   Animation\n",
       "5 Dirt (????)                  Thriller "
      ]
     },
     "metadata": {},
     "output_type": "display_data"
    },
    {
     "data": {
      "text/plain": [
       "                                 movie                 genre       \n",
       " Melon Soda (2008)                  :     14   Drama      :337702  \n",
       " The Travelogues (2008)             :     12   Comedy     :214682  \n",
       " Vampire Hunter D: Bloodlust (2000) :     11   Documentary:176268  \n",
       " Batman: Mask of the Phantasm (1993):     10   Thriller   : 67827  \n",
       " Gumby 1 (1995)                     :     10   Romance    : 64033  \n",
       " Dreamworks Spooky Stories (2012)   :      9   Action     : 56333  \n",
       " (Other)                            :1340485   (Other)    :423706  "
      ]
     },
     "metadata": {},
     "output_type": "display_data"
    }
   ],
   "source": [
    "# printing genre CSV info\n",
    "print(paste0(\"---- df_genres, n=\", count(df_genres)))\n",
    "sample_n(df_genres, 5)\n",
    "summary(df_genres)"
   ]
  },
  {
   "cell_type": "code",
   "execution_count": 112,
   "metadata": {},
   "outputs": [
    {
     "name": "stdout",
     "output_type": "stream",
     "text": [
      "[1] \"---- df_keywords, n=3763298\"\n"
     ]
    },
    {
     "data": {
      "text/html": [
       "<table>\n",
       "<thead><tr><th scope=col>movie</th><th scope=col>keyword</th></tr></thead>\n",
       "<tbody>\n",
       "\t<tr><td>Shi ba (1993)                                      </td><td>father-daughter-relationship                       </td></tr>\n",
       "\t<tr><td>The Girl Who Met Simone de Beauvoir in Paris (1980)</td><td>paris-france                                       </td></tr>\n",
       "\t<tr><td>Her Cardboard Lover (1942)                         </td><td>fistfight                                          </td></tr>\n",
       "\t<tr><td>Talanty i poklonniki (1973)                        </td><td>theatre                                            </td></tr>\n",
       "\t<tr><td>Hidden Danger (1948)                               </td><td>duplicity                                          </td></tr>\n",
       "</tbody>\n",
       "</table>\n"
      ],
      "text/latex": [
       "\\begin{tabular}{r|ll}\n",
       " movie & keyword\\\\\n",
       "\\hline\n",
       "\t Shi ba (1993)                                       & father-daughter-relationship                       \\\\\n",
       "\t The Girl Who Met Simone de Beauvoir in Paris (1980) & paris-france                                       \\\\\n",
       "\t Her Cardboard Lover (1942)                          & fistfight                                          \\\\\n",
       "\t Talanty i poklonniki (1973)                         & theatre                                            \\\\\n",
       "\t Hidden Danger (1948)                                & duplicity                                          \\\\\n",
       "\\end{tabular}\n"
      ],
      "text/markdown": [
       "\n",
       "| movie | keyword |\n",
       "|---|---|\n",
       "| Shi ba (1993)                                       | father-daughter-relationship                        |\n",
       "| The Girl Who Met Simone de Beauvoir in Paris (1980) | paris-france                                        |\n",
       "| Her Cardboard Lover (1942)                          | fistfight                                           |\n",
       "| Talanty i poklonniki (1973)                         | theatre                                             |\n",
       "| Hidden Danger (1948)                                | duplicity                                           |\n",
       "\n"
      ],
      "text/plain": [
       "  movie                                              \n",
       "1 Shi ba (1993)                                      \n",
       "2 The Girl Who Met Simone de Beauvoir in Paris (1980)\n",
       "3 Her Cardboard Lover (1942)                         \n",
       "4 Talanty i poklonniki (1973)                        \n",
       "5 Hidden Danger (1948)                               \n",
       "  keyword                     \n",
       "1 father-daughter-relationship\n",
       "2 paris-france                \n",
       "3 fistfight                   \n",
       "4 theatre                     \n",
       "5 duplicity                   "
      ]
     },
     "metadata": {},
     "output_type": "display_data"
    },
    {
     "data": {
      "text/plain": [
       "                                       movie        \n",
       " Pane, vy jste vdova! (1971)              :    678  \n",
       " 75 (2017)                                :    587  \n",
       " The Dark Knight (2008)                   :    580  \n",
       " Batman v Superman: Dawn of Justice (2016):    548  \n",
       " The Boys Club (1996)                     :    541  \n",
       " Golgo 13 (1983)                          :    520  \n",
       " (Other)                                  :3759844  \n",
       "                    keyword       \n",
       " independent-film       :  34932  \n",
       " based-on-novel         :  22626  \n",
       " character-name-in-title:  21769  \n",
       " murder                 :  19321  \n",
       " f-rated                :  18253  \n",
       " sex                    :  17555  \n",
       " (Other)                :3628842  "
      ]
     },
     "metadata": {},
     "output_type": "display_data"
    }
   ],
   "source": [
    "# printing keyword CSV info\n",
    "print(paste0(\"---- df_keywords, n=\", count(df_keywords)))\n",
    "sample_n(df_keywords, 5)\n",
    "summary(df_keywords)"
   ]
  },
  {
   "cell_type": "code",
   "execution_count": 113,
   "metadata": {},
   "outputs": [
    {
     "name": "stdout",
     "output_type": "stream",
     "text": [
      "[1] \"---- df_movies, n=1024452\"\n"
     ]
    },
    {
     "data": {
      "text/html": [
       "<table>\n",
       "<thead><tr><th scope=col>movie</th><th scope=col>year</th></tr></thead>\n",
       "<tbody>\n",
       "\t<tr><td>Wrong Turn (2003/I)          </td><td>2003                         </td></tr>\n",
       "\t<tr><td>Uppi 2 (2015)                </td><td>2015                         </td></tr>\n",
       "\t<tr><td>Relay (2011)                 </td><td>2011                         </td></tr>\n",
       "\t<tr><td>Miss Édith, duchesse (1929)  </td><td>1929                         </td></tr>\n",
       "\t<tr><td>Teen Batti Char Raasta (1953)</td><td>1953                         </td></tr>\n",
       "</tbody>\n",
       "</table>\n"
      ],
      "text/latex": [
       "\\begin{tabular}{r|ll}\n",
       " movie & year\\\\\n",
       "\\hline\n",
       "\t Wrong Turn (2003/I)           & 2003                         \\\\\n",
       "\t Uppi 2 (2015)                 & 2015                         \\\\\n",
       "\t Relay (2011)                  & 2011                         \\\\\n",
       "\t Miss Édith, duchesse (1929)   & 1929                         \\\\\n",
       "\t Teen Batti Char Raasta (1953) & 1953                         \\\\\n",
       "\\end{tabular}\n"
      ],
      "text/markdown": [
       "\n",
       "| movie | year |\n",
       "|---|---|\n",
       "| Wrong Turn (2003/I)           | 2003                          |\n",
       "| Uppi 2 (2015)                 | 2015                          |\n",
       "| Relay (2011)                  | 2011                          |\n",
       "| Miss Édith, duchesse (1929)   | 1929                          |\n",
       "| Teen Batti Char Raasta (1953) | 1953                          |\n",
       "\n"
      ],
      "text/plain": [
       "  movie                         year\n",
       "1 Wrong Turn (2003/I)           2003\n",
       "2 Uppi 2 (2015)                 2015\n",
       "3 Relay (2011)                  2011\n",
       "4 Miss Édith, duchesse (1929)   1929\n",
       "5 Teen Batti Char Raasta (1953) 1953"
      ]
     },
     "metadata": {},
     "output_type": "display_data"
    },
    {
     "data": {
      "text/plain": [
       "                                         movie              year     \n",
       " ''The Shot'' (2012)                        :      1   Min.   :1874  \n",
       " '...nettirwnU' (2005)                      :      1   1st Qu.:1969  \n",
       " '_____' (Insert Superhero Name Here) (2013):      1   Median :2006  \n",
       " '06: The Big One (2006)                    :      1   Mean   :1987  \n",
       " '11' (1980)                                :      1   3rd Qu.:2013  \n",
       " '14 oktobar' (1968)                        :      1   Max.   :2115  \n",
       " (Other)                                    :1024446                 "
      ]
     },
     "metadata": {},
     "output_type": "display_data"
    }
   ],
   "source": [
    "# printing movie CSV info\n",
    "print(paste0(\"---- df_movies, n=\", count(df_movies)))\n",
    "sample_n(df_movies, 5)\n",
    "summary(df_movies)"
   ]
  },
  {
   "cell_type": "code",
   "execution_count": 114,
   "metadata": {},
   "outputs": [
    {
     "name": "stdout",
     "output_type": "stream",
     "text": [
      "[1] \"---- df_releases, n=1724262\"\n"
     ]
    },
    {
     "data": {
      "text/html": [
       "<table>\n",
       "<thead><tr><th scope=col>movie</th><th scope=col>month</th><th scope=col>year</th></tr></thead>\n",
       "<tbody>\n",
       "\t<tr><td>Johnny Learns His Manners (1946)    </td><td>NA                                  </td><td>1946                                </td></tr>\n",
       "\t<tr><td>The Spare Room (1932)               </td><td>June                                </td><td>1932                                </td></tr>\n",
       "\t<tr><td>The Polar Express (2004)            </td><td>December                            </td><td>2004                                </td></tr>\n",
       "\t<tr><td>Tucker: The Man and His Dream (1988)</td><td>October                             </td><td>1988                                </td></tr>\n",
       "\t<tr><td>The Land of the Enlightened (2016)  </td><td>June                                </td><td>2016                                </td></tr>\n",
       "</tbody>\n",
       "</table>\n"
      ],
      "text/latex": [
       "\\begin{tabular}{r|lll}\n",
       " movie & month & year\\\\\n",
       "\\hline\n",
       "\t Johnny Learns His Manners (1946)     & NA                                   & 1946                                \\\\\n",
       "\t The Spare Room (1932)                & June                                 & 1932                                \\\\\n",
       "\t The Polar Express (2004)             & December                             & 2004                                \\\\\n",
       "\t Tucker: The Man and His Dream (1988) & October                              & 1988                                \\\\\n",
       "\t The Land of the Enlightened (2016)   & June                                 & 2016                                \\\\\n",
       "\\end{tabular}\n"
      ],
      "text/markdown": [
       "\n",
       "| movie | month | year |\n",
       "|---|---|---|\n",
       "| Johnny Learns His Manners (1946)     | NA                                   | 1946                                 |\n",
       "| The Spare Room (1932)                | June                                 | 1932                                 |\n",
       "| The Polar Express (2004)             | December                             | 2004                                 |\n",
       "| Tucker: The Man and His Dream (1988) | October                              | 1988                                 |\n",
       "| The Land of the Enlightened (2016)   | June                                 | 2016                                 |\n",
       "\n"
      ],
      "text/plain": [
       "  movie                                month    year\n",
       "1 Johnny Learns His Manners (1946)     NA       1946\n",
       "2 The Spare Room (1932)                June     1932\n",
       "3 The Polar Express (2004)             December 2004\n",
       "4 Tucker: The Man and His Dream (1988) October  1988\n",
       "5 The Land of the Enlightened (2016)   June     2016"
      ]
     },
     "metadata": {},
     "output_type": "display_data"
    },
    {
     "data": {
      "text/plain": [
       "                                    movie               month       \n",
       " Maudie (2016)                         :    284   October  :185018  \n",
       " Mirror (2016/VI)                      :    193   November :154897  \n",
       " 4242 (2016)                           :    179   September:154526  \n",
       " Snow White and the Seven Dwarfs (1937):    153   April    :144281  \n",
       " The Imitation Game (2014)             :    144   March    :135903  \n",
       " Bakemono no ko (2015)                 :    143   (Other)  :829148  \n",
       " (Other)                               :1723166   NA's     :120489  \n",
       "      year     \n",
       " Min.   :1874  \n",
       " 1st Qu.:1979  \n",
       " Median :2006  \n",
       " Mean   :1992  \n",
       " 3rd Qu.:2013  \n",
       " Max.   :2115  \n",
       "               "
      ]
     },
     "metadata": {},
     "output_type": "display_data"
    }
   ],
   "source": [
    "# printing release CSV info\n",
    "print(paste0(\"---- df_releases, n=\", count(df_releases)))\n",
    "sample_n(df_releases, 5)\n",
    "summary(df_releases)"
   ]
  },
  {
   "cell_type": "code",
   "execution_count": 115,
   "metadata": {},
   "outputs": [
    {
     "name": "stdout",
     "output_type": "stream",
     "text": [
      "[1] \"---- df_runtimes, n=283155\"\n"
     ]
    },
    {
     "data": {
      "text/html": [
       "<table>\n",
       "<thead><tr><th scope=col>movie</th><th scope=col>runtime</th></tr></thead>\n",
       "<tbody>\n",
       "\t<tr><td>I Am Cursed (2014)                               </td><td> 75                                              </td></tr>\n",
       "\t<tr><td>Ebberöds bank (1926)                             </td><td>103                                              </td></tr>\n",
       "\t<tr><td>Terre rosse (2008)                               </td><td>118                                              </td></tr>\n",
       "\t<tr><td>Original falsifikata (1991)                      </td><td>117                                              </td></tr>\n",
       "\t<tr><td>No Retreat, No Surrender 2: Raging Thunder (1987)</td><td> 85                                              </td></tr>\n",
       "</tbody>\n",
       "</table>\n"
      ],
      "text/latex": [
       "\\begin{tabular}{r|ll}\n",
       " movie & runtime\\\\\n",
       "\\hline\n",
       "\t I Am Cursed (2014)                                &  75                                              \\\\\n",
       "\t Ebberöds bank (1926)                              & 103                                              \\\\\n",
       "\t Terre rosse (2008)                                & 118                                              \\\\\n",
       "\t Original falsifikata (1991)                       & 117                                              \\\\\n",
       "\t No Retreat, No Surrender 2: Raging Thunder (1987) &  85                                              \\\\\n",
       "\\end{tabular}\n"
      ],
      "text/markdown": [
       "\n",
       "| movie | runtime |\n",
       "|---|---|\n",
       "| I Am Cursed (2014)                                |  75                                               |\n",
       "| Ebberöds bank (1926)                              | 103                                               |\n",
       "| Terre rosse (2008)                                | 118                                               |\n",
       "| Original falsifikata (1991)                       | 117                                               |\n",
       "| No Retreat, No Surrender 2: Raging Thunder (1987) |  85                                               |\n",
       "\n"
      ],
      "text/plain": [
       "  movie                                             runtime\n",
       "1 I Am Cursed (2014)                                 75    \n",
       "2 Ebberöds bank (1926)                              103    \n",
       "3 Terre rosse (2008)                                118    \n",
       "4 Original falsifikata (1991)                       117    \n",
       "5 No Retreat, No Surrender 2: Raging Thunder (1987)  85    "
      ]
     },
     "metadata": {},
     "output_type": "display_data"
    },
    {
     "data": {
      "text/plain": [
       "                         movie           runtime        \n",
       " Der heiße Tod (1969)       :    10   Min.   :    60.0  \n",
       " Die freudlose Gasse (1925) :    10   1st Qu.:    80.0  \n",
       " Shichinin no samurai (1954):    10   Median :    90.0  \n",
       " Braindead (1992)           :     9   Mean   :    94.5  \n",
       " Ai no korîda (1976)        :     8   3rd Qu.:   101.0  \n",
       " Cleopatra (1963)           :     8   Max.   :125156.0  \n",
       " (Other)                    :283100                     "
      ]
     },
     "metadata": {},
     "output_type": "display_data"
    }
   ],
   "source": [
    "# printing runtime CSV info\n",
    "print(paste0(\"---- df_runtimes, n=\", count(df_runtimes)))\n",
    "sample_n(df_runtimes, 5)\n",
    "summary(df_runtimes)"
   ]
  },
  {
   "cell_type": "code",
   "execution_count": 116,
   "metadata": {},
   "outputs": [],
   "source": [
    "############## COUNT/DISTRIBUTION TABLES BELOW ##############"
   ]
  },
  {
   "cell_type": "code",
   "execution_count": 117,
   "metadata": {},
   "outputs": [
    {
     "data": {
      "text/html": [
       "<table>\n",
       "<thead><tr><th scope=col>year</th><th scope=col>count</th></tr></thead>\n",
       "<tbody>\n",
       "\t<tr><td>1969</td><td>4883</td></tr>\n",
       "\t<tr><td>1953</td><td>2956</td></tr>\n",
       "\t<tr><td>1971</td><td>5121</td></tr>\n",
       "\t<tr><td>2087</td><td>   0</td></tr>\n",
       "\t<tr><td>1882</td><td>   0</td></tr>\n",
       "\t<tr><td>1995</td><td>6301</td></tr>\n",
       "\t<tr><td>2109</td><td>   0</td></tr>\n",
       "\t<tr><td>1934</td><td>2692</td></tr>\n",
       "\t<tr><td>1990</td><td>5953</td></tr>\n",
       "\t<tr><td>2039</td><td>   0</td></tr>\n",
       "</tbody>\n",
       "</table>\n"
      ],
      "text/latex": [
       "\\begin{tabular}{r|ll}\n",
       " year & count\\\\\n",
       "\\hline\n",
       "\t 1969 & 4883\\\\\n",
       "\t 1953 & 2956\\\\\n",
       "\t 1971 & 5121\\\\\n",
       "\t 2087 &    0\\\\\n",
       "\t 1882 &    0\\\\\n",
       "\t 1995 & 6301\\\\\n",
       "\t 2109 &    0\\\\\n",
       "\t 1934 & 2692\\\\\n",
       "\t 1990 & 5953\\\\\n",
       "\t 2039 &    0\\\\\n",
       "\\end{tabular}\n"
      ],
      "text/markdown": [
       "\n",
       "| year | count |\n",
       "|---|---|\n",
       "| 1969 | 4883 |\n",
       "| 1953 | 2956 |\n",
       "| 1971 | 5121 |\n",
       "| 2087 |    0 |\n",
       "| 1882 |    0 |\n",
       "| 1995 | 6301 |\n",
       "| 2109 |    0 |\n",
       "| 1934 | 2692 |\n",
       "| 1990 | 5953 |\n",
       "| 2039 |    0 |\n",
       "\n"
      ],
      "text/plain": [
       "   year count\n",
       "1  1969 4883 \n",
       "2  1953 2956 \n",
       "3  1971 5121 \n",
       "4  2087    0 \n",
       "5  1882    0 \n",
       "6  1995 6301 \n",
       "7  2109    0 \n",
       "8  1934 2692 \n",
       "9  1990 5953 \n",
       "10 2039    0 "
      ]
     },
     "metadata": {},
     "output_type": "display_data"
    },
    {
     "name": "stdout",
     "output_type": "stream",
     "text": [
      "[1] \"---- total counted= 1024452\"\n",
      "[1] \"---- unique years= 242\"\n"
     ]
    }
   ],
   "source": [
    "# get a count of movies from each year (earliest movie in 1874, latest movie in 2115)\n",
    "\n",
    "# create empty dataframe of all years in range 1874-2115\n",
    "all_years <- data.frame(formatC(1874:2115, width = 2), 0)\n",
    "names(all_years)[1] <- \"year\"\n",
    "names(all_years)[2] <- \"count\"\n",
    "all_years$year <- c(1874:2115)\n",
    "\n",
    "# make dataframe of available years and their frequency\n",
    "by_year <- df_movies %>% group_by(year) %>% summarize(count = n())\n",
    "\n",
    "# join the counts into the full range of years dataframe\n",
    "by_year <- full_join(all_years, by_year, by = \"year\")\n",
    "by_year[is.na(by_year)] <- 0\n",
    "by_year$count.x <- NULL\n",
    "names(by_year)[2] <- \"count\"\n",
    "\n",
    "# output info\n",
    "sample_n(by_year, 10)\n",
    "total_films = as.numeric(sum(by_year$count))\n",
    "print(paste0(\"---- total counted= \", total_films))\n",
    "unique_years = as.numeric(count(by_year))\n",
    "print(paste0(\"---- unique years= \", unique_years))"
   ]
  },
  {
   "cell_type": "code",
   "execution_count": 118,
   "metadata": {},
   "outputs": [
    {
     "name": "stderr",
     "output_type": "stream",
     "text": [
      "Warning message:\n",
      "\"Factor `month` contains implicit NA, consider using `forcats::fct_explicit_na`\""
     ]
    },
    {
     "data": {
      "text/html": [
       "<table>\n",
       "<thead><tr><th scope=col>month</th><th scope=col>count</th></tr></thead>\n",
       "<tbody>\n",
       "\t<tr><td>January  </td><td>119598   </td></tr>\n",
       "\t<tr><td>February </td><td>114326   </td></tr>\n",
       "\t<tr><td>March    </td><td>135903   </td></tr>\n",
       "\t<tr><td>April    </td><td>144281   </td></tr>\n",
       "\t<tr><td>May      </td><td>129916   </td></tr>\n",
       "\t<tr><td>June     </td><td>126094   </td></tr>\n",
       "\t<tr><td>July     </td><td>111870   </td></tr>\n",
       "\t<tr><td>August   </td><td>114394   </td></tr>\n",
       "\t<tr><td>September</td><td>154526   </td></tr>\n",
       "\t<tr><td>October  </td><td>185018   </td></tr>\n",
       "\t<tr><td>November </td><td>154897   </td></tr>\n",
       "\t<tr><td>December </td><td>112950   </td></tr>\n",
       "\t<tr><td>NA       </td><td>120489   </td></tr>\n",
       "</tbody>\n",
       "</table>\n"
      ],
      "text/latex": [
       "\\begin{tabular}{r|ll}\n",
       " month & count\\\\\n",
       "\\hline\n",
       "\t January   & 119598   \\\\\n",
       "\t February  & 114326   \\\\\n",
       "\t March     & 135903   \\\\\n",
       "\t April     & 144281   \\\\\n",
       "\t May       & 129916   \\\\\n",
       "\t June      & 126094   \\\\\n",
       "\t July      & 111870   \\\\\n",
       "\t August    & 114394   \\\\\n",
       "\t September & 154526   \\\\\n",
       "\t October   & 185018   \\\\\n",
       "\t November  & 154897   \\\\\n",
       "\t December  & 112950   \\\\\n",
       "\t NA        & 120489   \\\\\n",
       "\\end{tabular}\n"
      ],
      "text/markdown": [
       "\n",
       "| month | count |\n",
       "|---|---|\n",
       "| January   | 119598    |\n",
       "| February  | 114326    |\n",
       "| March     | 135903    |\n",
       "| April     | 144281    |\n",
       "| May       | 129916    |\n",
       "| June      | 126094    |\n",
       "| July      | 111870    |\n",
       "| August    | 114394    |\n",
       "| September | 154526    |\n",
       "| October   | 185018    |\n",
       "| November  | 154897    |\n",
       "| December  | 112950    |\n",
       "| NA        | 120489    |\n",
       "\n"
      ],
      "text/plain": [
       "   month     count \n",
       "1  January   119598\n",
       "2  February  114326\n",
       "3  March     135903\n",
       "4  April     144281\n",
       "5  May       129916\n",
       "6  June      126094\n",
       "7  July      111870\n",
       "8  August    114394\n",
       "9  September 154526\n",
       "10 October   185018\n",
       "11 November  154897\n",
       "12 December  112950\n",
       "13 NA        120489"
      ]
     },
     "metadata": {},
     "output_type": "display_data"
    },
    {
     "name": "stdout",
     "output_type": "stream",
     "text": [
      "[1] \"---- total counted= 1724262\"\n",
      "[1] \"---- unique months= 13\"\n"
     ]
    }
   ],
   "source": [
    "# get a count of movies from each month\n",
    "by_month <- df_releases %>% group_by(month) %>% summarize(count = n())\n",
    "\n",
    "# reorder months to be in order\n",
    "by_month$month <- factor(by_month$month, levels = c(\"January\", \"February\", \"March\", \"April\", \"May\", \"June\", \"July\", \"August\", \"September\", \"October\", \"November\", \"December\"))\n",
    "by_month <- by_month[order(by_month$month), ]\n",
    "\n",
    "# output info\n",
    "by_month\n",
    "print(paste0(\"---- total counted= \", sum(by_month$count)))\n",
    "unique_months = as.numeric(count(by_month))\n",
    "print(paste0(\"---- unique months= \", unique_months))"
   ]
  },
  {
   "cell_type": "code",
   "execution_count": 119,
   "metadata": {},
   "outputs": [
    {
     "data": {
      "text/html": [
       "<table>\n",
       "<thead><tr><th scope=col>runtime</th><th scope=col>count</th></tr></thead>\n",
       "<tbody>\n",
       "\t<tr><td>60  </td><td>8158</td></tr>\n",
       "\t<tr><td>61  </td><td>1988</td></tr>\n",
       "\t<tr><td>62  </td><td>2012</td></tr>\n",
       "\t<tr><td>63  </td><td>1898</td></tr>\n",
       "\t<tr><td>64  </td><td>1640</td></tr>\n",
       "\t<tr><td>65  </td><td>2743</td></tr>\n",
       "\t<tr><td>66  </td><td>1520</td></tr>\n",
       "\t<tr><td>67  </td><td>1875</td></tr>\n",
       "\t<tr><td>68  </td><td>1925</td></tr>\n",
       "\t<tr><td>69  </td><td>1535</td></tr>\n",
       "</tbody>\n",
       "</table>\n"
      ],
      "text/latex": [
       "\\begin{tabular}{r|ll}\n",
       " runtime & count\\\\\n",
       "\\hline\n",
       "\t 60   & 8158\\\\\n",
       "\t 61   & 1988\\\\\n",
       "\t 62   & 2012\\\\\n",
       "\t 63   & 1898\\\\\n",
       "\t 64   & 1640\\\\\n",
       "\t 65   & 2743\\\\\n",
       "\t 66   & 1520\\\\\n",
       "\t 67   & 1875\\\\\n",
       "\t 68   & 1925\\\\\n",
       "\t 69   & 1535\\\\\n",
       "\\end{tabular}\n"
      ],
      "text/markdown": [
       "\n",
       "| runtime | count |\n",
       "|---|---|\n",
       "| 60   | 8158 |\n",
       "| 61   | 1988 |\n",
       "| 62   | 2012 |\n",
       "| 63   | 1898 |\n",
       "| 64   | 1640 |\n",
       "| 65   | 2743 |\n",
       "| 66   | 1520 |\n",
       "| 67   | 1875 |\n",
       "| 68   | 1925 |\n",
       "| 69   | 1535 |\n",
       "\n"
      ],
      "text/plain": [
       "   runtime count\n",
       "1  60      8158 \n",
       "2  61      1988 \n",
       "3  62      2012 \n",
       "4  63      1898 \n",
       "5  64      1640 \n",
       "6  65      2743 \n",
       "7  66      1520 \n",
       "8  67      1875 \n",
       "9  68      1925 \n",
       "10 69      1535 "
      ]
     },
     "metadata": {},
     "output_type": "display_data"
    },
    {
     "name": "stdout",
     "output_type": "stream",
     "text": [
      "[1] \"---- total counted= 283155\"\n",
      "[1] \"---- unique runtimes= 125102\"\n"
     ]
    }
   ],
   "source": [
    "# get a distribution of runtimes (quickest movie is 60.0, longest movie is 125156.0)\n",
    "\n",
    "# create empty dataframe of all runtimes in range 60-125156\n",
    "all_runtimes <- data.frame(formatC(60:125156, width = 2), 0)\n",
    "names(all_runtimes)[1] <- \"runtime\"\n",
    "names(all_runtimes)[2] <- \"count\"\n",
    "all_runtimes$runtime <- c(60:125156)\n",
    "\n",
    "# make dataframe of available runtimes and their frequency\n",
    "by_runtime <- df_runtimes %>% group_by(runtime) %>% summarize(count = n())\n",
    "\n",
    "# join the counts into the full range of years dataframe\n",
    "by_runtime <- full_join(all_runtimes, by_runtime, by = \"runtime\")\n",
    "by_runtime[is.na(by_runtime)] <- 0\n",
    "by_runtime$count.x <- NULL\n",
    "names(by_runtime)[2] <- \"count\"\n",
    "\n",
    "# output info\n",
    "head(by_runtime, 10)\n",
    "print(paste0(\"---- total counted= \", sum(by_runtime$count)))\n",
    "unique_runtimes = as.numeric(count(by_runtime))\n",
    "print(paste0(\"---- unique runtimes= \", unique_runtimes))"
   ]
  },
  {
   "cell_type": "code",
   "execution_count": 120,
   "metadata": {},
   "outputs": [
    {
     "data": {
      "text/html": [
       "<table>\n",
       "<thead><tr><th scope=col>rating</th><th scope=col>count</th></tr></thead>\n",
       "<tbody>\n",
       "\t<tr><td>USA:(Banned)</td><td>    4       </td></tr>\n",
       "\t<tr><td>USA:12      </td><td>   16       </td></tr>\n",
       "\t<tr><td>USA:AO      </td><td>   20       </td></tr>\n",
       "\t<tr><td>USA:Approved</td><td>13864       </td></tr>\n",
       "\t<tr><td>USA:G       </td><td> 2214       </td></tr>\n",
       "\t<tr><td>USA:GA      </td><td>    1       </td></tr>\n",
       "\t<tr><td>USA:GP      </td><td>  328       </td></tr>\n",
       "\t<tr><td>USA:Open    </td><td>   33       </td></tr>\n",
       "\t<tr><td>USA:Passed  </td><td> 7327       </td></tr>\n",
       "\t<tr><td>USA:PG      </td><td> 5510       </td></tr>\n",
       "\t<tr><td>USA:PG-13   </td><td> 5337       </td></tr>\n",
       "\t<tr><td>USA:R       </td><td>16302       </td></tr>\n",
       "\t<tr><td>USA:Unrated </td><td> 4611       </td></tr>\n",
       "</tbody>\n",
       "</table>\n"
      ],
      "text/latex": [
       "\\begin{tabular}{r|ll}\n",
       " rating & count\\\\\n",
       "\\hline\n",
       "\t USA:(Banned) &     4       \\\\\n",
       "\t USA:12       &    16       \\\\\n",
       "\t USA:AO       &    20       \\\\\n",
       "\t USA:Approved & 13864       \\\\\n",
       "\t USA:G        &  2214       \\\\\n",
       "\t USA:GA       &     1       \\\\\n",
       "\t USA:GP       &   328       \\\\\n",
       "\t USA:Open     &    33       \\\\\n",
       "\t USA:Passed   &  7327       \\\\\n",
       "\t USA:PG       &  5510       \\\\\n",
       "\t USA:PG-13    &  5337       \\\\\n",
       "\t USA:R        & 16302       \\\\\n",
       "\t USA:Unrated  &  4611       \\\\\n",
       "\\end{tabular}\n"
      ],
      "text/markdown": [
       "\n",
       "| rating | count |\n",
       "|---|---|\n",
       "| USA:(Banned) |     4        |\n",
       "| USA:12       |    16        |\n",
       "| USA:AO       |    20        |\n",
       "| USA:Approved | 13864        |\n",
       "| USA:G        |  2214        |\n",
       "| USA:GA       |     1        |\n",
       "| USA:GP       |   328        |\n",
       "| USA:Open     |    33        |\n",
       "| USA:Passed   |  7327        |\n",
       "| USA:PG       |  5510        |\n",
       "| USA:PG-13    |  5337        |\n",
       "| USA:R        | 16302        |\n",
       "| USA:Unrated  |  4611        |\n",
       "\n"
      ],
      "text/plain": [
       "   rating       count\n",
       "1  USA:(Banned)     4\n",
       "2  USA:12          16\n",
       "3  USA:AO          20\n",
       "4  USA:Approved 13864\n",
       "5  USA:G         2214\n",
       "6  USA:GA           1\n",
       "7  USA:GP         328\n",
       "8  USA:Open        33\n",
       "9  USA:Passed    7327\n",
       "10 USA:PG        5510\n",
       "11 USA:PG-13     5337\n",
       "12 USA:R        16302\n",
       "13 USA:Unrated   4611"
      ]
     },
     "metadata": {},
     "output_type": "display_data"
    },
    {
     "name": "stdout",
     "output_type": "stream",
     "text": [
      "[1] \"---- total counted= 55567\"\n",
      "[1] \"---- unique certificates= 13\"\n"
     ]
    }
   ],
   "source": [
    "# get a distribution of certificate\n",
    "by_certificates <- df_certificates %>% group_by(rating) %>% summarize(count = n())\n",
    "\n",
    "# output info\n",
    "by_certificates\n",
    "print(paste0(\"---- total counted= \", sum(by_certificates$count)))\n",
    "unique_certificates = as.numeric(count(by_certificates))\n",
    "print(paste0(\"---- unique certificates= \", unique_certificates))"
   ]
  },
  {
   "cell_type": "code",
   "execution_count": 121,
   "metadata": {},
   "outputs": [
    {
     "name": "stderr",
     "output_type": "stream",
     "text": [
      "Selecting by count\n"
     ]
    },
    {
     "data": {
      "text/html": [
       "<table>\n",
       "<thead><tr><th scope=col>keyword</th><th scope=col>count</th></tr></thead>\n",
       "<tbody>\n",
       "\t<tr><td>based-on-novel           </td><td>22626                    </td></tr>\n",
       "\t<tr><td>character-name-in-title  </td><td>21769                    </td></tr>\n",
       "\t<tr><td>death                    </td><td>12710                    </td></tr>\n",
       "\t<tr><td>f-rated                  </td><td>18253                    </td></tr>\n",
       "\t<tr><td>female-nudity            </td><td>15146                    </td></tr>\n",
       "\t<tr><td>husband-wife-relationship</td><td> 9888                    </td></tr>\n",
       "\t<tr><td>independent-film         </td><td>34932                    </td></tr>\n",
       "\t<tr><td>murder                   </td><td>19321                    </td></tr>\n",
       "\t<tr><td>sex                      </td><td>17555                    </td></tr>\n",
       "\t<tr><td>violence                 </td><td> 9823                    </td></tr>\n",
       "</tbody>\n",
       "</table>\n"
      ],
      "text/latex": [
       "\\begin{tabular}{r|ll}\n",
       " keyword & count\\\\\n",
       "\\hline\n",
       "\t based-on-novel            & 22626                    \\\\\n",
       "\t character-name-in-title   & 21769                    \\\\\n",
       "\t death                     & 12710                    \\\\\n",
       "\t f-rated                   & 18253                    \\\\\n",
       "\t female-nudity             & 15146                    \\\\\n",
       "\t husband-wife-relationship &  9888                    \\\\\n",
       "\t independent-film          & 34932                    \\\\\n",
       "\t murder                    & 19321                    \\\\\n",
       "\t sex                       & 17555                    \\\\\n",
       "\t violence                  &  9823                    \\\\\n",
       "\\end{tabular}\n"
      ],
      "text/markdown": [
       "\n",
       "| keyword | count |\n",
       "|---|---|\n",
       "| based-on-novel            | 22626                     |\n",
       "| character-name-in-title   | 21769                     |\n",
       "| death                     | 12710                     |\n",
       "| f-rated                   | 18253                     |\n",
       "| female-nudity             | 15146                     |\n",
       "| husband-wife-relationship |  9888                     |\n",
       "| independent-film          | 34932                     |\n",
       "| murder                    | 19321                     |\n",
       "| sex                       | 17555                     |\n",
       "| violence                  |  9823                     |\n",
       "\n"
      ],
      "text/plain": [
       "   keyword                   count\n",
       "1  based-on-novel            22626\n",
       "2  character-name-in-title   21769\n",
       "3  death                     12710\n",
       "4  f-rated                   18253\n",
       "5  female-nudity             15146\n",
       "6  husband-wife-relationship  9888\n",
       "7  independent-film          34932\n",
       "8  murder                    19321\n",
       "9  sex                       17555\n",
       "10 violence                   9823"
      ]
     },
     "metadata": {},
     "output_type": "display_data"
    },
    {
     "name": "stdout",
     "output_type": "stream",
     "text": [
      "[1] \"---- total counted= 3763298\"\n",
      "[1] \"---- unique keywords= 32370\"\n"
     ]
    }
   ],
   "source": [
    "# get a distribution of top n keywords\n",
    "by_keywords <- df_keywords %>% group_by(keyword) %>% summarize(count = n())\n",
    "\n",
    "# output info\n",
    "top_n(by_keywords, 10)\n",
    "print(paste0(\"---- total counted= \", sum(by_keywords$count)))\n",
    "unique_keywords = as.numeric(count(by_keywords))\n",
    "print(paste0(\"---- unique keywords= \", unique_keywords))"
   ]
  },
  {
   "cell_type": "code",
   "execution_count": 122,
   "metadata": {},
   "outputs": [
    {
     "data": {
      "text/html": [
       "<table>\n",
       "<thead><tr><th scope=col>genre</th><th scope=col>count</th></tr></thead>\n",
       "<tbody>\n",
       "\t<tr><td>Adventure</td><td> 31600   </td></tr>\n",
       "\t<tr><td>Musical  </td><td> 15183   </td></tr>\n",
       "\t<tr><td>Comedy   </td><td>214682   </td></tr>\n",
       "\t<tr><td>Animation</td><td> 46458   </td></tr>\n",
       "\t<tr><td>Drama    </td><td>337702   </td></tr>\n",
       "\t<tr><td>Sci-Fi   </td><td> 28853   </td></tr>\n",
       "\t<tr><td>Mystery  </td><td> 29220   </td></tr>\n",
       "\t<tr><td>Thriller </td><td> 67827   </td></tr>\n",
       "\t<tr><td>War      </td><td> 15079   </td></tr>\n",
       "\t<tr><td>Romance  </td><td> 64033   </td></tr>\n",
       "</tbody>\n",
       "</table>\n"
      ],
      "text/latex": [
       "\\begin{tabular}{r|ll}\n",
       " genre & count\\\\\n",
       "\\hline\n",
       "\t Adventure &  31600   \\\\\n",
       "\t Musical   &  15183   \\\\\n",
       "\t Comedy    & 214682   \\\\\n",
       "\t Animation &  46458   \\\\\n",
       "\t Drama     & 337702   \\\\\n",
       "\t Sci-Fi    &  28853   \\\\\n",
       "\t Mystery   &  29220   \\\\\n",
       "\t Thriller  &  67827   \\\\\n",
       "\t War       &  15079   \\\\\n",
       "\t Romance   &  64033   \\\\\n",
       "\\end{tabular}\n"
      ],
      "text/markdown": [
       "\n",
       "| genre | count |\n",
       "|---|---|\n",
       "| Adventure |  31600    |\n",
       "| Musical   |  15183    |\n",
       "| Comedy    | 214682    |\n",
       "| Animation |  46458    |\n",
       "| Drama     | 337702    |\n",
       "| Sci-Fi    |  28853    |\n",
       "| Mystery   |  29220    |\n",
       "| Thriller  |  67827    |\n",
       "| War       |  15079    |\n",
       "| Romance   |  64033    |\n",
       "\n"
      ],
      "text/plain": [
       "   genre     count \n",
       "1  Adventure  31600\n",
       "2  Musical    15183\n",
       "3  Comedy    214682\n",
       "4  Animation  46458\n",
       "5  Drama     337702\n",
       "6  Sci-Fi     28853\n",
       "7  Mystery    29220\n",
       "8  Thriller   67827\n",
       "9  War        15079\n",
       "10 Romance    64033"
      ]
     },
     "metadata": {},
     "output_type": "display_data"
    },
    {
     "name": "stdout",
     "output_type": "stream",
     "text": [
      "[1] \"---- total counted= 1340551\"\n",
      "[1] \"---- unique genres= 22\"\n"
     ]
    }
   ],
   "source": [
    "# get a distribution of genres\n",
    "by_genre <- df_genres %>% group_by(genre) %>% summarize(count = n())\n",
    "\n",
    "# output info\n",
    "sample_n(by_genre, 10)\n",
    "print(paste0(\"---- total counted= \", sum(by_genre$count)))\n",
    "unique_genres = as.numeric(count(by_genre))\n",
    "print(paste0(\"---- unique genres= \", unique_genres))"
   ]
  },
  {
   "cell_type": "code",
   "execution_count": 123,
   "metadata": {},
   "outputs": [],
   "source": [
    "############## AVERAGES BELOW ##############"
   ]
  },
  {
   "cell_type": "code",
   "execution_count": 124,
   "metadata": {},
   "outputs": [
    {
     "name": "stdout",
     "output_type": "stream",
     "text": [
      "[1] \"---- avg films per year= 4233\"\n",
      "[1] \"---- avg films per month= 548\"\n"
     ]
    },
    {
     "data": {
      "text/html": [
       "<table>\n",
       "<thead><tr><th scope=col>month</th><th scope=col>average</th></tr></thead>\n",
       "<tbody>\n",
       "\t<tr><td>January  </td><td>494.2066 </td></tr>\n",
       "\t<tr><td>February </td><td>472.4215 </td></tr>\n",
       "\t<tr><td>March    </td><td>561.5826 </td></tr>\n",
       "\t<tr><td>April    </td><td>596.2025 </td></tr>\n",
       "\t<tr><td>May      </td><td>536.8430 </td></tr>\n",
       "\t<tr><td>June     </td><td>521.0496 </td></tr>\n",
       "\t<tr><td>July     </td><td>462.2727 </td></tr>\n",
       "\t<tr><td>August   </td><td>472.7025 </td></tr>\n",
       "\t<tr><td>September</td><td>638.5372 </td></tr>\n",
       "\t<tr><td>October  </td><td>764.5372 </td></tr>\n",
       "\t<tr><td>November </td><td>640.0702 </td></tr>\n",
       "\t<tr><td>December </td><td>466.7355 </td></tr>\n",
       "\t<tr><td>NA       </td><td>497.8884 </td></tr>\n",
       "</tbody>\n",
       "</table>\n"
      ],
      "text/latex": [
       "\\begin{tabular}{r|ll}\n",
       " month & average\\\\\n",
       "\\hline\n",
       "\t January   & 494.2066 \\\\\n",
       "\t February  & 472.4215 \\\\\n",
       "\t March     & 561.5826 \\\\\n",
       "\t April     & 596.2025 \\\\\n",
       "\t May       & 536.8430 \\\\\n",
       "\t June      & 521.0496 \\\\\n",
       "\t July      & 462.2727 \\\\\n",
       "\t August    & 472.7025 \\\\\n",
       "\t September & 638.5372 \\\\\n",
       "\t October   & 764.5372 \\\\\n",
       "\t November  & 640.0702 \\\\\n",
       "\t December  & 466.7355 \\\\\n",
       "\t NA        & 497.8884 \\\\\n",
       "\\end{tabular}\n"
      ],
      "text/markdown": [
       "\n",
       "| month | average |\n",
       "|---|---|\n",
       "| January   | 494.2066  |\n",
       "| February  | 472.4215  |\n",
       "| March     | 561.5826  |\n",
       "| April     | 596.2025  |\n",
       "| May       | 536.8430  |\n",
       "| June      | 521.0496  |\n",
       "| July      | 462.2727  |\n",
       "| August    | 472.7025  |\n",
       "| September | 638.5372  |\n",
       "| October   | 764.5372  |\n",
       "| November  | 640.0702  |\n",
       "| December  | 466.7355  |\n",
       "| NA        | 497.8884  |\n",
       "\n"
      ],
      "text/plain": [
       "   month     average \n",
       "1  January   494.2066\n",
       "2  February  472.4215\n",
       "3  March     561.5826\n",
       "4  April     596.2025\n",
       "5  May       536.8430\n",
       "6  June      521.0496\n",
       "7  July      462.2727\n",
       "8  August    472.7025\n",
       "9  September 638.5372\n",
       "10 October   764.5372\n",
       "11 November  640.0702\n",
       "12 December  466.7355\n",
       "13 NA        497.8884"
      ]
     },
     "metadata": {},
     "output_type": "display_data"
    },
    {
     "name": "stdout",
     "output_type": "stream",
     "text": [
      "[1] \"---- avg runtime= 94\"\n"
     ]
    }
   ],
   "source": [
    "# get average films per year, month, and average runtime\n",
    "\n",
    "# average fims per year: sum of films divided by total years observed\n",
    "avg_per_year = trunc(total_films / unique_years)\n",
    "print(paste0(\"---- avg films per year= \", avg_per_year))\n",
    "\n",
    "# average films per month: sum of films each month, each sum divided by total years observed; then average these results\n",
    "avg_by_month <- by_month\n",
    "avg_by_month$count <- by_month$count / unique_years\n",
    "names(avg_by_month)[2] <- \"average\"\n",
    "avg_per_month = trunc(as.numeric(sum(avg_by_month$average) / unique_months))\n",
    "print(paste0(\"---- avg films per month= \", avg_per_month))\n",
    "avg_by_month\n",
    "\n",
    "# average runtime: sum of each runtime divided by total runtime observations\n",
    "avg_runtime = trunc(mean(df_runtimes$runtime))\n",
    "print(paste0(\"---- avg runtime= \", avg_runtime))"
   ]
  },
  {
   "cell_type": "code",
   "execution_count": 125,
   "metadata": {},
   "outputs": [],
   "source": [
    "############## CHOOSE YEAR OR DECADE ##############"
   ]
  },
  {
   "cell_type": "code",
   "execution_count": 126,
   "metadata": {},
   "outputs": [
    {
     "data": {
      "text/html": [
       "<table>\n",
       "<thead><tr><th scope=col>movie</th><th scope=col>month</th><th scope=col>year</th></tr></thead>\n",
       "<tbody>\n",
       "\t<tr><td>Muse (2011/I)                        </td><td>May                                  </td><td>2011                                 </td></tr>\n",
       "\t<tr><td>Tambores (2011)                      </td><td>October                              </td><td>2011                                 </td></tr>\n",
       "\t<tr><td>Friends with Benefits (2011)         </td><td>September                            </td><td>2011                                 </td></tr>\n",
       "\t<tr><td>Angels Crest (2011)                  </td><td>April                                </td><td>2013                                 </td></tr>\n",
       "\t<tr><td>Hermanitos del fin del mundo (2011)  </td><td>July                                 </td><td>2011                                 </td></tr>\n",
       "\t<tr><td>Immortals (2011)                     </td><td>December                             </td><td>2011                                 </td></tr>\n",
       "\t<tr><td>Rise of the Planet of the Apes (2011)</td><td>August                               </td><td>2011                                 </td></tr>\n",
       "\t<tr><td>Limitless (2011/I)                   </td><td>March                                </td><td>2011                                 </td></tr>\n",
       "\t<tr><td>Justice on the Border (2011)         </td><td>September                            </td><td>2011                                 </td></tr>\n",
       "\t<tr><td>Eva (2011/I)                         </td><td>August                               </td><td>2012                                 </td></tr>\n",
       "</tbody>\n",
       "</table>\n"
      ],
      "text/latex": [
       "\\begin{tabular}{r|lll}\n",
       " movie & month & year\\\\\n",
       "\\hline\n",
       "\t Muse (2011/I)                         & May                                   & 2011                                 \\\\\n",
       "\t Tambores (2011)                       & October                               & 2011                                 \\\\\n",
       "\t Friends with Benefits (2011)          & September                             & 2011                                 \\\\\n",
       "\t Angels Crest (2011)                   & April                                 & 2013                                 \\\\\n",
       "\t Hermanitos del fin del mundo (2011)   & July                                  & 2011                                 \\\\\n",
       "\t Immortals (2011)                      & December                              & 2011                                 \\\\\n",
       "\t Rise of the Planet of the Apes (2011) & August                                & 2011                                 \\\\\n",
       "\t Limitless (2011/I)                    & March                                 & 2011                                 \\\\\n",
       "\t Justice on the Border (2011)          & September                             & 2011                                 \\\\\n",
       "\t Eva (2011/I)                          & August                                & 2012                                 \\\\\n",
       "\\end{tabular}\n"
      ],
      "text/markdown": [
       "\n",
       "| movie | month | year |\n",
       "|---|---|---|\n",
       "| Muse (2011/I)                         | May                                   | 2011                                  |\n",
       "| Tambores (2011)                       | October                               | 2011                                  |\n",
       "| Friends with Benefits (2011)          | September                             | 2011                                  |\n",
       "| Angels Crest (2011)                   | April                                 | 2013                                  |\n",
       "| Hermanitos del fin del mundo (2011)   | July                                  | 2011                                  |\n",
       "| Immortals (2011)                      | December                              | 2011                                  |\n",
       "| Rise of the Planet of the Apes (2011) | August                                | 2011                                  |\n",
       "| Limitless (2011/I)                    | March                                 | 2011                                  |\n",
       "| Justice on the Border (2011)          | September                             | 2011                                  |\n",
       "| Eva (2011/I)                          | August                                | 2012                                  |\n",
       "\n"
      ],
      "text/plain": [
       "   movie                                 month     year\n",
       "1  Muse (2011/I)                         May       2011\n",
       "2  Tambores (2011)                       October   2011\n",
       "3  Friends with Benefits (2011)          September 2011\n",
       "4  Angels Crest (2011)                   April     2013\n",
       "5  Hermanitos del fin del mundo (2011)   July      2011\n",
       "6  Immortals (2011)                      December  2011\n",
       "7  Rise of the Planet of the Apes (2011) August    2011\n",
       "8  Limitless (2011/I)                    March     2011\n",
       "9  Justice on the Border (2011)          September 2011\n",
       "10 Eva (2011/I)                          August    2012"
      ]
     },
     "metadata": {},
     "output_type": "display_data"
    }
   ],
   "source": [
    "# get items by year\n",
    "selected_year = 2011\n",
    "\n",
    "# movie year found in movie name i.e. \"{Title} (2014)\" or \"{Title} (2014/I)\", extract year via pattern matching because year column is inaccurate for some reason\n",
    "regex_year = paste0(\"\\\\(\", selected_year, \"\\\\)|\\\\(\", selected_year, \"\\\\/\")\n",
    "movies_in_selected_year <- subset(df_releases, grepl(regex_year, movie))\n",
    "\n",
    "# output a sample of movies found for given year\n",
    "sample_n(movies_in_selected_year, 10)"
   ]
  },
  {
   "cell_type": "code",
   "execution_count": 127,
   "metadata": {},
   "outputs": [
    {
     "data": {
      "text/html": [
       "<table>\n",
       "<thead><tr><th scope=col>movie</th><th scope=col>month</th><th scope=col>year</th></tr></thead>\n",
       "<tbody>\n",
       "\t<tr><td>Il sangue verde (2010)                          </td><td>September                                       </td><td>2010                                            </td></tr>\n",
       "\t<tr><td>Hidden Pearls (2016)                            </td><td>July                                            </td><td>2016                                            </td></tr>\n",
       "\t<tr><td>Who Is Lydia Loveless? (2016)                   </td><td>May                                             </td><td>2016                                            </td></tr>\n",
       "\t<tr><td>I, a Film by Ben McDonnell (2016)               </td><td>October                                         </td><td>2016                                            </td></tr>\n",
       "\t<tr><td>La campana (2011)                               </td><td>December                                        </td><td>2011                                            </td></tr>\n",
       "\t<tr><td>Rooftop Summer (2016)                           </td><td>September                                       </td><td>2016                                            </td></tr>\n",
       "\t<tr><td>Bob Barry: Jazzography in Black and White (2012)</td><td>June                                            </td><td>2012                                            </td></tr>\n",
       "\t<tr><td>Duma (2011)                                     </td><td>NA                                              </td><td>2011                                            </td></tr>\n",
       "\t<tr><td>Avtobani (2010)                                 </td><td>August                                          </td><td>2010                                            </td></tr>\n",
       "\t<tr><td>The Cold Winter (2016)                          </td><td>NA                                              </td><td>2016                                            </td></tr>\n",
       "</tbody>\n",
       "</table>\n"
      ],
      "text/latex": [
       "\\begin{tabular}{r|lll}\n",
       " movie & month & year\\\\\n",
       "\\hline\n",
       "\t Il sangue verde (2010)                           & September                                        & 2010                                            \\\\\n",
       "\t Hidden Pearls (2016)                             & July                                             & 2016                                            \\\\\n",
       "\t Who Is Lydia Loveless? (2016)                    & May                                              & 2016                                            \\\\\n",
       "\t I, a Film by Ben McDonnell (2016)                & October                                          & 2016                                            \\\\\n",
       "\t La campana (2011)                                & December                                         & 2011                                            \\\\\n",
       "\t Rooftop Summer (2016)                            & September                                        & 2016                                            \\\\\n",
       "\t Bob Barry: Jazzography in Black and White (2012) & June                                             & 2012                                            \\\\\n",
       "\t Duma (2011)                                      & NA                                               & 2011                                            \\\\\n",
       "\t Avtobani (2010)                                  & August                                           & 2010                                            \\\\\n",
       "\t The Cold Winter (2016)                           & NA                                               & 2016                                            \\\\\n",
       "\\end{tabular}\n"
      ],
      "text/markdown": [
       "\n",
       "| movie | month | year |\n",
       "|---|---|---|\n",
       "| Il sangue verde (2010)                           | September                                        | 2010                                             |\n",
       "| Hidden Pearls (2016)                             | July                                             | 2016                                             |\n",
       "| Who Is Lydia Loveless? (2016)                    | May                                              | 2016                                             |\n",
       "| I, a Film by Ben McDonnell (2016)                | October                                          | 2016                                             |\n",
       "| La campana (2011)                                | December                                         | 2011                                             |\n",
       "| Rooftop Summer (2016)                            | September                                        | 2016                                             |\n",
       "| Bob Barry: Jazzography in Black and White (2012) | June                                             | 2012                                             |\n",
       "| Duma (2011)                                      | NA                                               | 2011                                             |\n",
       "| Avtobani (2010)                                  | August                                           | 2010                                             |\n",
       "| The Cold Winter (2016)                           | NA                                               | 2016                                             |\n",
       "\n"
      ],
      "text/plain": [
       "   movie                                            month     year\n",
       "1  Il sangue verde (2010)                           September 2010\n",
       "2  Hidden Pearls (2016)                             July      2016\n",
       "3  Who Is Lydia Loveless? (2016)                    May       2016\n",
       "4  I, a Film by Ben McDonnell (2016)                October   2016\n",
       "5  La campana (2011)                                December  2011\n",
       "6  Rooftop Summer (2016)                            September 2016\n",
       "7  Bob Barry: Jazzography in Black and White (2012) June      2012\n",
       "8  Duma (2011)                                      NA        2011\n",
       "9  Avtobani (2010)                                  August    2010\n",
       "10 The Cold Winter (2016)                           NA        2016"
      ]
     },
     "metadata": {},
     "output_type": "display_data"
    }
   ],
   "source": [
    "# get items by decade (where decades are in format of 1990, 2000, 2010, etc... for next 9 years, i.e. 1990-1999, 2000-2009, etc..)\n",
    "selected_decade = 2010\n",
    "\n",
    "# movie year found in movie name i.e. \"{Title} (2014)\" or \"{Title} (2014/I)\", extract decade via pattern matching for decade + 9\n",
    "regex_decade = paste0(\"\\\\(\", selected_decade / 10, \"[0-9]\\\\)|\\\\(\", selected_decade / 10, \"[0-9]\\\\/\")\n",
    "movies_in_selected_decade <- subset(df_releases, grepl(regex_decade, movie))\n",
    "\n",
    "# output a sample of movies found for given year\n",
    "sample_n(movies_in_selected_decade, 10)"
   ]
  },
  {
   "cell_type": "code",
   "execution_count": 128,
   "metadata": {},
   "outputs": [],
   "source": [
    "############## CHOOSE GENRE ##############"
   ]
  },
  {
   "cell_type": "code",
   "execution_count": 129,
   "metadata": {
    "scrolled": true
   },
   "outputs": [
    {
     "data": {
      "text/html": [
       "<table>\n",
       "<thead><tr><th scope=col>movie</th><th scope=col>genre</th></tr></thead>\n",
       "<tbody>\n",
       "\t<tr><td>In the Glimmer (2005)                                                    </td><td>Drama                                                                    </td></tr>\n",
       "\t<tr><td>I Got the Hook Up (1998)                                                 </td><td>Comedy                                                                   </td></tr>\n",
       "\t<tr><td>Kijken naar Sacha (2010)                                                 </td><td>Drama                                                                    </td></tr>\n",
       "\t<tr><td>Teens &amp; Sex in Europe: A Story of Rights, Respect &amp; Responsibility (2007)</td><td>Documentary                                                                      </td></tr>\n",
       "\t<tr><td>A Goblin's Tale (2011)                                                   </td><td>Drama                                                                    </td></tr>\n",
       "\t<tr><td>Bagets 2 (1984)                                                          </td><td>Drama                                                                    </td></tr>\n",
       "\t<tr><td>Bait (2013/III)                                                          </td><td>Drama                                                                    </td></tr>\n",
       "\t<tr><td>Real Cowboy (2018)                                                       </td><td>Comedy                                                                   </td></tr>\n",
       "\t<tr><td>Chekhov's Everyman (2015)                                                </td><td>Documentary                                                              </td></tr>\n",
       "\t<tr><td>First Jerk on Mars (2016)                                                </td><td>Comedy                                                                   </td></tr>\n",
       "</tbody>\n",
       "</table>\n"
      ],
      "text/latex": [
       "\\begin{tabular}{r|ll}\n",
       " movie & genre\\\\\n",
       "\\hline\n",
       "\t In the Glimmer (2005)                                                     & Drama                                                                    \\\\\n",
       "\t I Got the Hook Up (1998)                                                  & Comedy                                                                   \\\\\n",
       "\t Kijken naar Sacha (2010)                                                  & Drama                                                                    \\\\\n",
       "\t Teens \\& Sex in Europe: A Story of Rights, Respect \\& Responsibility (2007) & Documentary                                                                  \\\\\n",
       "\t A Goblin's Tale (2011)                                                    & Drama                                                                    \\\\\n",
       "\t Bagets 2 (1984)                                                           & Drama                                                                    \\\\\n",
       "\t Bait (2013/III)                                                           & Drama                                                                    \\\\\n",
       "\t Real Cowboy (2018)                                                        & Comedy                                                                   \\\\\n",
       "\t Chekhov's Everyman (2015)                                                 & Documentary                                                              \\\\\n",
       "\t First Jerk on Mars (2016)                                                 & Comedy                                                                   \\\\\n",
       "\\end{tabular}\n"
      ],
      "text/markdown": [
       "\n",
       "| movie | genre |\n",
       "|---|---|\n",
       "| In the Glimmer (2005)                                                     | Drama                                                                     |\n",
       "| I Got the Hook Up (1998)                                                  | Comedy                                                                    |\n",
       "| Kijken naar Sacha (2010)                                                  | Drama                                                                     |\n",
       "| Teens & Sex in Europe: A Story of Rights, Respect & Responsibility (2007) | Documentary                                                               |\n",
       "| A Goblin's Tale (2011)                                                    | Drama                                                                     |\n",
       "| Bagets 2 (1984)                                                           | Drama                                                                     |\n",
       "| Bait (2013/III)                                                           | Drama                                                                     |\n",
       "| Real Cowboy (2018)                                                        | Comedy                                                                    |\n",
       "| Chekhov's Everyman (2015)                                                 | Documentary                                                               |\n",
       "| First Jerk on Mars (2016)                                                 | Comedy                                                                    |\n",
       "\n"
      ],
      "text/plain": [
       "   movie                                                                    \n",
       "1  In the Glimmer (2005)                                                    \n",
       "2  I Got the Hook Up (1998)                                                 \n",
       "3  Kijken naar Sacha (2010)                                                 \n",
       "4  Teens & Sex in Europe: A Story of Rights, Respect & Responsibility (2007)\n",
       "5  A Goblin's Tale (2011)                                                   \n",
       "6  Bagets 2 (1984)                                                          \n",
       "7  Bait (2013/III)                                                          \n",
       "8  Real Cowboy (2018)                                                       \n",
       "9  Chekhov's Everyman (2015)                                                \n",
       "10 First Jerk on Mars (2016)                                                \n",
       "   genre      \n",
       "1  Drama      \n",
       "2  Comedy     \n",
       "3  Drama      \n",
       "4  Documentary\n",
       "5  Drama      \n",
       "6  Drama      \n",
       "7  Drama      \n",
       "8  Comedy     \n",
       "9  Documentary\n",
       "10 Comedy     "
      ]
     },
     "metadata": {},
     "output_type": "display_data"
    }
   ],
   "source": [
    "# genre input is comma separated string list\n",
    "selected_genres = \"comedy, Drama , fake_test, doCumenTarY, \"\n",
    "\n",
    "# split genres input to individual inputs\n",
    "genres <- unlist(strsplit(selected_genres, \",\"))\n",
    "\n",
    "# retrieve first genre as a \"base\"\n",
    "condition <- paste0(\"str_to_lower(str_trim(genres[1])) == str_to_lower(genre) \")\n",
    "\n",
    "# if more than 1 genres provided...\n",
    "if (length(genres) > 1) {\n",
    "    \n",
    "    # then build conditional string for each one after \"base\"\n",
    "    for (i in 2:length(genres)) {\n",
    "        \n",
    "        # make a new condition with the current genre, being sure to ignore case and trim the input\n",
    "        next_condition <- paste0(\"| str_to_lower(str_trim(genres[\", i, \"])) == str_to_lower(genre) \")\n",
    "        \n",
    "        # add the new condition onto the current list of conditions\n",
    "        condition <- paste(condition, next_condition, sep = \"\")\n",
    "    }\n",
    "}\n",
    "\n",
    "# movie genre found in genre column, just fetch it by parsing the condition from above\n",
    "movies_in_selected_genre <- subset(df_genres, eval(parse(text = condition)))\n",
    "\n",
    "# output a sample of movies found for given genre(s)\n",
    "sample_n(movies_in_selected_genre, 10)"
   ]
  },
  {
   "cell_type": "code",
   "execution_count": 130,
   "metadata": {},
   "outputs": [],
   "source": [
    "############## CHOOSE KEYWORD ##############"
   ]
  },
  {
   "cell_type": "code",
   "execution_count": 131,
   "metadata": {},
   "outputs": [
    {
     "data": {
      "text/html": [
       "<table>\n",
       "<thead><tr><th scope=col>movie</th><th scope=col>keyword</th></tr></thead>\n",
       "<tbody>\n",
       "\t<tr><td>The Dry Blade (2012)                 </td><td>fight                                </td></tr>\n",
       "\t<tr><td>Mujang haeje (1975)                  </td><td>fight                                </td></tr>\n",
       "\t<tr><td>Shekhvedra mtashi (1966)             </td><td>fight                                </td></tr>\n",
       "\t<tr><td>Saturn (1999)                        </td><td>fight                                </td></tr>\n",
       "\t<tr><td>Feast of July (1995)                 </td><td>fight                                </td></tr>\n",
       "\t<tr><td>Another 48 Hrs. (1990)               </td><td>fight                                </td></tr>\n",
       "\t<tr><td>Inuyasha - Guren no Houraijima (2004)</td><td>fight                                </td></tr>\n",
       "\t<tr><td>Bosque de sombras (2006)             </td><td>shotgun                              </td></tr>\n",
       "\t<tr><td>The Cannonball Run (1981)            </td><td>fight                                </td></tr>\n",
       "\t<tr><td>Delusion (2016/I)                    </td><td>fight                                </td></tr>\n",
       "</tbody>\n",
       "</table>\n"
      ],
      "text/latex": [
       "\\begin{tabular}{r|ll}\n",
       " movie & keyword\\\\\n",
       "\\hline\n",
       "\t The Dry Blade (2012)                  & fight                                \\\\\n",
       "\t Mujang haeje (1975)                   & fight                                \\\\\n",
       "\t Shekhvedra mtashi (1966)              & fight                                \\\\\n",
       "\t Saturn (1999)                         & fight                                \\\\\n",
       "\t Feast of July (1995)                  & fight                                \\\\\n",
       "\t Another 48 Hrs. (1990)                & fight                                \\\\\n",
       "\t Inuyasha - Guren no Houraijima (2004) & fight                                \\\\\n",
       "\t Bosque de sombras (2006)              & shotgun                              \\\\\n",
       "\t The Cannonball Run (1981)             & fight                                \\\\\n",
       "\t Delusion (2016/I)                     & fight                                \\\\\n",
       "\\end{tabular}\n"
      ],
      "text/markdown": [
       "\n",
       "| movie | keyword |\n",
       "|---|---|\n",
       "| The Dry Blade (2012)                  | fight                                 |\n",
       "| Mujang haeje (1975)                   | fight                                 |\n",
       "| Shekhvedra mtashi (1966)              | fight                                 |\n",
       "| Saturn (1999)                         | fight                                 |\n",
       "| Feast of July (1995)                  | fight                                 |\n",
       "| Another 48 Hrs. (1990)                | fight                                 |\n",
       "| Inuyasha - Guren no Houraijima (2004) | fight                                 |\n",
       "| Bosque de sombras (2006)              | shotgun                               |\n",
       "| The Cannonball Run (1981)             | fight                                 |\n",
       "| Delusion (2016/I)                     | fight                                 |\n",
       "\n"
      ],
      "text/plain": [
       "   movie                                 keyword\n",
       "1  The Dry Blade (2012)                  fight  \n",
       "2  Mujang haeje (1975)                   fight  \n",
       "3  Shekhvedra mtashi (1966)              fight  \n",
       "4  Saturn (1999)                         fight  \n",
       "5  Feast of July (1995)                  fight  \n",
       "6  Another 48 Hrs. (1990)                fight  \n",
       "7  Inuyasha - Guren no Houraijima (2004) fight  \n",
       "8  Bosque de sombras (2006)              shotgun\n",
       "9  The Cannonball Run (1981)             fight  \n",
       "10 Delusion (2016/I)                     fight  "
      ]
     },
     "metadata": {},
     "output_type": "display_data"
    }
   ],
   "source": [
    "# keyword input is comma separated string list\n",
    "selected_keywords = \"fight, cat-and-mouse , fake_test, shOtguN, \"\n",
    "\n",
    "# split keyword input to individual inputs\n",
    "keywords <- unlist(strsplit(selected_keywords, \",\"))\n",
    "\n",
    "# retrieve first keyword as a \"base\"\n",
    "condition <- paste0(\"str_to_lower(str_trim(keywords[1])) == str_to_lower(keyword) \")\n",
    "\n",
    "# if more than 1 keywords provided...\n",
    "if (length(keywords) > 1) {\n",
    "    \n",
    "    # then build conditional string for each one after \"base\"\n",
    "    for (i in 2:length(keywords)) {\n",
    "        \n",
    "        # make a new condition with the current keyword, being sure to ignore case and trim the input\n",
    "        next_condition <- paste0(\"| str_to_lower(str_trim(keywords[\", i, \"])) == str_to_lower(keyword) \")\n",
    "        \n",
    "        # add the new condition onto the current list of conditions\n",
    "        condition <- paste(condition, next_condition, sep = \"\")\n",
    "    }\n",
    "}\n",
    "\n",
    "# movie keyword found in keyword column, just fetch it by parsing the condition from above\n",
    "movies_in_selected_keywords <- subset(df_keywords, eval(parse(text = condition)))\n",
    "\n",
    "# output a sample of movies found for given keyword(s)\n",
    "sample_n(movies_in_selected_keywords, 10)"
   ]
  },
  {
   "cell_type": "code",
   "execution_count": 132,
   "metadata": {},
   "outputs": [],
   "source": [
    "############## CHOOSE CERTIFICATE ##############"
   ]
  },
  {
   "cell_type": "code",
   "execution_count": 133,
   "metadata": {},
   "outputs": [
    {
     "data": {
      "text/html": [
       "<table>\n",
       "<thead><tr><th scope=col>movie</th><th scope=col>rating</th></tr></thead>\n",
       "<tbody>\n",
       "\t<tr><td>The Curse (2011/II)              </td><td>USA:PG-13                        </td></tr>\n",
       "\t<tr><td>The Free Speech Apocalypse (2015)</td><td>USA:Unrated                      </td></tr>\n",
       "\t<tr><td>For Richer or Poorer (1997)      </td><td>USA:PG-13                        </td></tr>\n",
       "\t<tr><td>Return of the Ghostbusters (2007)</td><td>USA:PG-13                        </td></tr>\n",
       "\t<tr><td>Chop Shop (2007)                 </td><td>USA:Unrated                      </td></tr>\n",
       "\t<tr><td>Money Ain't a Thing (2010)       </td><td>USA:Unrated                      </td></tr>\n",
       "\t<tr><td>The Memoirs of Don Walker (2005) </td><td>USA:Unrated                      </td></tr>\n",
       "\t<tr><td>The Estates (2010)               </td><td>USA:PG-13                        </td></tr>\n",
       "\t<tr><td>Alien Dreamtime (2003)           </td><td>USA:Unrated                      </td></tr>\n",
       "\t<tr><td>The Martian (2015)               </td><td>USA:PG-13                        </td></tr>\n",
       "</tbody>\n",
       "</table>\n"
      ],
      "text/latex": [
       "\\begin{tabular}{r|ll}\n",
       " movie & rating\\\\\n",
       "\\hline\n",
       "\t The Curse (2011/II)               & USA:PG-13                        \\\\\n",
       "\t The Free Speech Apocalypse (2015) & USA:Unrated                      \\\\\n",
       "\t For Richer or Poorer (1997)       & USA:PG-13                        \\\\\n",
       "\t Return of the Ghostbusters (2007) & USA:PG-13                        \\\\\n",
       "\t Chop Shop (2007)                  & USA:Unrated                      \\\\\n",
       "\t Money Ain't a Thing (2010)        & USA:Unrated                      \\\\\n",
       "\t The Memoirs of Don Walker (2005)  & USA:Unrated                      \\\\\n",
       "\t The Estates (2010)                & USA:PG-13                        \\\\\n",
       "\t Alien Dreamtime (2003)            & USA:Unrated                      \\\\\n",
       "\t The Martian (2015)                & USA:PG-13                        \\\\\n",
       "\\end{tabular}\n"
      ],
      "text/markdown": [
       "\n",
       "| movie | rating |\n",
       "|---|---|\n",
       "| The Curse (2011/II)               | USA:PG-13                         |\n",
       "| The Free Speech Apocalypse (2015) | USA:Unrated                       |\n",
       "| For Richer or Poorer (1997)       | USA:PG-13                         |\n",
       "| Return of the Ghostbusters (2007) | USA:PG-13                         |\n",
       "| Chop Shop (2007)                  | USA:Unrated                       |\n",
       "| Money Ain't a Thing (2010)        | USA:Unrated                       |\n",
       "| The Memoirs of Don Walker (2005)  | USA:Unrated                       |\n",
       "| The Estates (2010)                | USA:PG-13                         |\n",
       "| Alien Dreamtime (2003)            | USA:Unrated                       |\n",
       "| The Martian (2015)                | USA:PG-13                         |\n",
       "\n"
      ],
      "text/plain": [
       "   movie                             rating     \n",
       "1  The Curse (2011/II)               USA:PG-13  \n",
       "2  The Free Speech Apocalypse (2015) USA:Unrated\n",
       "3  For Richer or Poorer (1997)       USA:PG-13  \n",
       "4  Return of the Ghostbusters (2007) USA:PG-13  \n",
       "5  Chop Shop (2007)                  USA:Unrated\n",
       "6  Money Ain't a Thing (2010)        USA:Unrated\n",
       "7  The Memoirs of Don Walker (2005)  USA:Unrated\n",
       "8  The Estates (2010)                USA:PG-13  \n",
       "9  Alien Dreamtime (2003)            USA:Unrated\n",
       "10 The Martian (2015)                USA:PG-13  "
      ]
     },
     "metadata": {},
     "output_type": "display_data"
    }
   ],
   "source": [
    "# certificate input is comma separated string list\n",
    "selected_certificates = \"USA:Pg-13, USA:UnRateD , USA:fake_test, USA:, \"\n",
    "\n",
    "# split certificate input to individual inputs\n",
    "certificates <- unlist(strsplit(selected_certificates, \",\"))\n",
    "\n",
    "# retrieve first certificate as a \"base\"\n",
    "condition <- paste0(\"str_to_lower(str_trim(certificates[1])) == str_to_lower(rating) \")\n",
    "\n",
    "# if more than 1 certificates provided...\n",
    "if (length(certificates) > 1) {\n",
    "    \n",
    "    # then build conditional string for each one after \"base\"\n",
    "    for (i in 2:length(certificates)) {\n",
    "        \n",
    "        # make a new condition with the current certificate, being sure to ignore case and trim the input\n",
    "        next_condition <- paste0(\"| str_to_lower(str_trim(certificates[\", i, \"])) == str_to_lower(rating) \")\n",
    "        \n",
    "        # add the new condition onto the current list of conditions\n",
    "        condition <- paste(condition, next_condition, sep = \"\")\n",
    "    }\n",
    "}\n",
    "\n",
    "# movie certificate found in certificate column, just fetch it by parsing the condition from above\n",
    "movies_in_selected_certificates <- subset(df_certificates, eval(parse(text = condition)))\n",
    "\n",
    "# output a sample of movies found for given certificate(s)\n",
    "sample_n(movies_in_selected_certificates, 10)"
   ]
  },
  {
   "cell_type": "code",
   "execution_count": 134,
   "metadata": {},
   "outputs": [],
   "source": [
    "############## CHOOSE RUNTIME ##############"
   ]
  },
  {
   "cell_type": "code",
   "execution_count": 135,
   "metadata": {},
   "outputs": [
    {
     "data": {
      "text/html": [
       "<table>\n",
       "<thead><tr><th scope=col>movie</th><th scope=col>runtime</th></tr></thead>\n",
       "<tbody>\n",
       "\t<tr><td>Bijna 18 (2012)                             </td><td> 75                                         </td></tr>\n",
       "\t<tr><td>Raphaël le tatoué (1939)                    </td><td> 90                                         </td></tr>\n",
       "\t<tr><td>Shin Zatôichi monogatari (1963)             </td><td> 91                                         </td></tr>\n",
       "\t<tr><td>Sensory Perception (2015)                   </td><td> 92                                         </td></tr>\n",
       "\t<tr><td>The Doctor and the Woman (1918)             </td><td> 60                                         </td></tr>\n",
       "\t<tr><td>Vojna akademija 3 (2016)                    </td><td> 95                                         </td></tr>\n",
       "\t<tr><td>Qué absurdo es haber crecido (2000)         </td><td> 90                                         </td></tr>\n",
       "\t<tr><td>Apocalypse: A Bill Callahan Tour Film (2012)</td><td> 60                                         </td></tr>\n",
       "\t<tr><td>The Black Pearl (1977)                      </td><td> 95                                         </td></tr>\n",
       "\t<tr><td>Duelyant (2016)                             </td><td>109                                         </td></tr>\n",
       "</tbody>\n",
       "</table>\n"
      ],
      "text/latex": [
       "\\begin{tabular}{r|ll}\n",
       " movie & runtime\\\\\n",
       "\\hline\n",
       "\t Bijna 18 (2012)                              &  75                                         \\\\\n",
       "\t Raphaël le tatoué (1939)                     &  90                                         \\\\\n",
       "\t Shin Zatôichi monogatari (1963)              &  91                                         \\\\\n",
       "\t Sensory Perception (2015)                    &  92                                         \\\\\n",
       "\t The Doctor and the Woman (1918)              &  60                                         \\\\\n",
       "\t Vojna akademija 3 (2016)                     &  95                                         \\\\\n",
       "\t Qué absurdo es haber crecido (2000)          &  90                                         \\\\\n",
       "\t Apocalypse: A Bill Callahan Tour Film (2012) &  60                                         \\\\\n",
       "\t The Black Pearl (1977)                       &  95                                         \\\\\n",
       "\t Duelyant (2016)                              & 109                                         \\\\\n",
       "\\end{tabular}\n"
      ],
      "text/markdown": [
       "\n",
       "| movie | runtime |\n",
       "|---|---|\n",
       "| Bijna 18 (2012)                              |  75                                          |\n",
       "| Raphaël le tatoué (1939)                     |  90                                          |\n",
       "| Shin Zatôichi monogatari (1963)              |  91                                          |\n",
       "| Sensory Perception (2015)                    |  92                                          |\n",
       "| The Doctor and the Woman (1918)              |  60                                          |\n",
       "| Vojna akademija 3 (2016)                     |  95                                          |\n",
       "| Qué absurdo es haber crecido (2000)          |  90                                          |\n",
       "| Apocalypse: A Bill Callahan Tour Film (2012) |  60                                          |\n",
       "| The Black Pearl (1977)                       |  95                                          |\n",
       "| Duelyant (2016)                              | 109                                          |\n",
       "\n"
      ],
      "text/plain": [
       "   movie                                        runtime\n",
       "1  Bijna 18 (2012)                               75    \n",
       "2  Raphaël le tatoué (1939)                      90    \n",
       "3  Shin Zatôichi monogatari (1963)               91    \n",
       "4  Sensory Perception (2015)                     92    \n",
       "5  The Doctor and the Woman (1918)               60    \n",
       "6  Vojna akademija 3 (2016)                      95    \n",
       "7  Qué absurdo es haber crecido (2000)           90    \n",
       "8  Apocalypse: A Bill Callahan Tour Film (2012)  60    \n",
       "9  The Black Pearl (1977)                        95    \n",
       "10 Duelyant (2016)                              109    "
      ]
     },
     "metadata": {},
     "output_type": "display_data"
    }
   ],
   "source": [
    "# runtime input is range from min to max\n",
    "runtime_min = 60\n",
    "runtime_max = 120\n",
    "\n",
    "# movie runtime found in runtime column, just fetch it and compare the inputs\n",
    "movies_in_selected_runtimes <- subset(df_runtimes, runtime_min <= runtime & runtime_max >= runtime)\n",
    "\n",
    "# output a sample of movies found for given runtime range\n",
    "sample_n(movies_in_selected_runtimes, 10)"
   ]
  },
  {
   "cell_type": "code",
   "execution_count": null,
   "metadata": {},
   "outputs": [],
   "source": []
  },
  {
   "cell_type": "code",
   "execution_count": 136,
   "metadata": {},
   "outputs": [],
   "source": [
    "############## SINGLE RDS FILE BELOW ##############"
   ]
  },
  {
   "cell_type": "code",
   "execution_count": 137,
   "metadata": {},
   "outputs": [
    {
     "name": "stderr",
     "output_type": "stream",
     "text": [
      "Joining, by = \"movie\"\n",
      "Warning message:\n",
      "\"Column `movie` joining factors with different levels, coercing to character vector\"Joining, by = c(\"movie\", \"year\")\n",
      "Warning message:\n",
      "\"Column `movie` joining character vector and factor, coercing into character vector\"Joining, by = \"movie\"\n",
      "Warning message:\n",
      "\"Column `movie` joining character vector and factor, coercing into character vector\"Joining, by = \"movie\"\n",
      "Warning message:\n",
      "\"Column `movie` joining character vector and factor, coercing into character vector\""
     ]
    }
   ],
   "source": [
    "# joining each CSV on movie column (excluding keywords, too large and slow)\n",
    "combined <- df_movies %>%\n",
    "            left_join(df_genres) %>%\n",
    "            left_join(df_releases) %>%\n",
    "            left_join(df_runtimes) %>%\n",
    "            left_join(df_certificates) %>%\n",
    "            #left_join(df_keywords) %>%\n",
    "            #select(movie, month, genre, runtime, rating, keyword)\n",
    "            select(movie, year, month, genre, runtime, rating)\n",
    "\n",
    "# dropping rows with NA values\n",
    "combined <- drop_na(combined)\n",
    "\n",
    "# removing duplicate rows\n",
    "combined <- combined[!duplicated(combined), ]"
   ]
  },
  {
   "cell_type": "code",
   "execution_count": 138,
   "metadata": {},
   "outputs": [],
   "source": [
    "# writing the joined data to a single RDS file\n",
    "saveRDS(combined, file = \"combined_data.rds\")"
   ]
  },
  {
   "cell_type": "code",
   "execution_count": null,
   "metadata": {},
   "outputs": [],
   "source": []
  }
 ],
 "metadata": {
  "kernelspec": {
   "display_name": "R",
   "language": "R",
   "name": "ir"
  },
  "language_info": {
   "codemirror_mode": "r",
   "file_extension": ".r",
   "mimetype": "text/x-r-source",
   "name": "R",
   "pygments_lexer": "r",
   "version": "3.6.1"
  }
 },
 "nbformat": 4,
 "nbformat_minor": 2
}
