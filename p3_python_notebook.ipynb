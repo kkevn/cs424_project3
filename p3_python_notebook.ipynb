{
 "cells": [
  {
   "cell_type": "code",
   "execution_count": 1,
   "metadata": {},
   "outputs": [],
   "source": [
    "import os # for file/directory manipulation\n",
    "import re # for regex split\n",
    "import pandas as pd # for dataframes"
   ]
  },
  {
   "cell_type": "markdown",
   "metadata": {},
   "source": [
    "# Make a new directory to store the new files"
   ]
  },
  {
   "cell_type": "code",
   "execution_count": 2,
   "metadata": {},
   "outputs": [],
   "source": [
    "OLD_FILES_DIRECTORY = './data_files/old_files/'\n",
    "NEW_FILES_DIRECTORY = './data_files/new_files/'\n",
    "\n",
    "if not os.path.exists(OLD_FILES_DIRECTORY): # after files are downloaded, show move them to this directory\n",
    "    os.mkdir(OLD_FILES_DIRECTORY)\n",
    "    \n",
    "if not os.path.exists(NEW_FILES_DIRECTORY):\n",
    "    os.mkdir(NEW_FILES_DIRECTORY)"
   ]
  },
  {
   "cell_type": "markdown",
   "metadata": {},
   "source": [
    "# Read old movie file and write new one"
   ]
  },
  {
   "cell_type": "code",
   "execution_count": 3,
   "metadata": {},
   "outputs": [],
   "source": [
    "# LATIN ENCODING SEEMS TO WORK OVER UTF-8; UTF-8/ASCII is not able to decode all the lines\n",
    "with open(OLD_FILES_DIRECTORY + 'movies.list', 'rb') as movie_file: # read as binary file\n",
    "    movie_data_original = [line.decode('latin-1').strip() for line in movie_file.readlines()]"
   ]
  },
  {
   "cell_type": "code",
   "execution_count": 4,
   "metadata": {},
   "outputs": [
    {
     "name": "stdout",
     "output_type": "stream",
     "text": [
      "CRC: 0x8E8DBD74  File: movies.list  Date: Fri Dec 22 00:00:00 2017\n",
      "\n",
      "Copyright 1991-2017 The Internet Movie Database Ltd. All rights reserved.\n",
      "\n",
      "http://www.imdb.com\n",
      "\n",
      "movies.list\n",
      "\n",
      "20 Dec 2017\n",
      "\n",
      "-----------------------------------------------------------------------------\n",
      "\n",
      "MOVIES LIST\n",
      "===========\n",
      "\n",
      "\"!Next?\" (1994)\t\t\t\t\t\t1994-1995\n",
      "\"#1 Single\" (2006)\t\t\t\t\t2006-????\n",
      "\"#1 Single\" (2006) {Cats and Dogs (#1.4)}\t\t2006\n",
      "\"#1 Single\" (2006) {Finishing a Chapter (#1.5)}\t\t2006\n",
      "\"#1 Single\" (2006) {Is the Grass Greener? (#1.1)}\t2006\n",
      "\"#1 Single\" (2006) {Stay (#1.8)}\t\t\t2006\n",
      "\"#1 Single\" (2006) {The Rules of Dating (#1.3)}\t\t2006\n",
      "\"#1 Single\" (2006) {Timing Is Everything (#1.7)}\t2006\n",
      "\"#1 Single\" (2006) {Window Shopping (#1.2)}\t\t2006\n",
      "\"#1 Single\" (2006) {Wingman (#1.6)}\t\t\t2006\n",
      "\"#15SecondScare\" (2015)\t\t\t\t\t2015-????\n",
      "\"#15SecondScare\" (2015) {Beauty Wrap}\t\t\t2016\n",
      "\"#15SecondScare\" (2015) {Because We Don't Want You to Fall Asleep (#1.3)}\t????\n",
      "\"#15SecondScare\" (2015) {Bubbles of Blood (#1.17)}\t2016\n",
      "\"#15SecondScare\" (2015) {Coming and Going (#1.11)}\t????\n"
     ]
    }
   ],
   "source": [
    "# Sample of file \n",
    "for i in range(30):\n",
    "    print(movie_data_original[i])"
   ]
  },
  {
   "cell_type": "code",
   "execution_count": 5,
   "metadata": {},
   "outputs": [],
   "source": [
    "# ACTUAL DATA STARTS ON LINE 16, or index 15"
   ]
  },
  {
   "cell_type": "code",
   "execution_count": 6,
   "metadata": {},
   "outputs": [],
   "source": [
    "def write_new_move_file(movie_data_original): # list of lines \n",
    "    movie_file = open(NEW_FILES_DIRECTORY + 'movies.csv', 'w')\n",
    "    movie_file.write('movie,year\\n') # write a header\n",
    "    \n",
    "    # internet doesn't seem to have anything, not reliable\n",
    "    skips = ('(tv)', '(v)', '(vg)', 're-release', 'blu-ray')\n",
    "    \n",
    "    for i in range(15, len(movie_data_original)): # start from 15 cuz before is filler\n",
    "        line = movie_data_original[i]\n",
    "        \n",
    "        if line.startswith('\"'):\n",
    "            continue\n",
    "        try: # some lines may not be in correct format\n",
    "            parts = [x.strip() for x in re.split('\\\\t+', line)] # split by 1 or more tabs\n",
    "            name, year = parts[:2]\n",
    "            if any(skip in name.lower() for skip in skips): # check is any of the skippables are in the name\n",
    "                continue\n",
    "            if '????' in year: # movie should have a defined year\n",
    "                continue\n",
    "            if ',' in name: # surround in quote if name already has comma\n",
    "                movie_file.write(f'\"{name}\",{year}\\n') \n",
    "            else:\n",
    "                movie_file.write(f'{name},{year}\\n') \n",
    "        except Exception as e: # tried to process this line, but failed\n",
    "            print(line, e)\n",
    "    \n",
    "    movie_file.close()\n"
   ]
  },
  {
   "cell_type": "code",
   "execution_count": 7,
   "metadata": {},
   "outputs": [
    {
     "name": "stdout",
     "output_type": "stream",
     "text": [
      "-------------------------------------------------------------------------------- not enough values to unpack (expected 2, got 1)\n"
     ]
    }
   ],
   "source": [
    "write_new_move_file(movie_data_original)"
   ]
  },
  {
   "cell_type": "code",
   "execution_count": 8,
   "metadata": {},
   "outputs": [],
   "source": [
    "movie_data = pd.read_csv(NEW_FILES_DIRECTORY + 'movies.csv')"
   ]
  },
  {
   "cell_type": "code",
   "execution_count": 9,
   "metadata": {},
   "outputs": [
    {
     "data": {
      "text/plain": [
       "'New Data has 1024456 Titles'"
      ]
     },
     "execution_count": 9,
     "metadata": {},
     "output_type": "execute_result"
    }
   ],
   "source": [
    "rows, _ = movie_data.shape\n",
    "f'New Data has {rows} Titles'"
   ]
  },
  {
   "cell_type": "code",
   "execution_count": 10,
   "metadata": {},
   "outputs": [
    {
     "data": {
      "text/html": [
       "<div>\n",
       "<style scoped>\n",
       "    .dataframe tbody tr th:only-of-type {\n",
       "        vertical-align: middle;\n",
       "    }\n",
       "\n",
       "    .dataframe tbody tr th {\n",
       "        vertical-align: top;\n",
       "    }\n",
       "\n",
       "    .dataframe thead th {\n",
       "        text-align: right;\n",
       "    }\n",
       "</style>\n",
       "<table border=\"1\" class=\"dataframe\">\n",
       "  <thead>\n",
       "    <tr style=\"text-align: right;\">\n",
       "      <th></th>\n",
       "      <th>movie</th>\n",
       "      <th>year</th>\n",
       "    </tr>\n",
       "  </thead>\n",
       "  <tbody>\n",
       "    <tr>\n",
       "      <th>404402</th>\n",
       "      <td>It's Okay (2014)</td>\n",
       "      <td>2014</td>\n",
       "    </tr>\n",
       "    <tr>\n",
       "      <th>616594</th>\n",
       "      <td>One Small Step (2016)</td>\n",
       "      <td>2016</td>\n",
       "    </tr>\n",
       "    <tr>\n",
       "      <th>228704</th>\n",
       "      <td>Domino (2005)</td>\n",
       "      <td>2005</td>\n",
       "    </tr>\n",
       "    <tr>\n",
       "      <th>187076</th>\n",
       "      <td>D'éfficience (2014)</td>\n",
       "      <td>2014</td>\n",
       "    </tr>\n",
       "    <tr>\n",
       "      <th>312029</th>\n",
       "      <td>Gaz Bar Blues (2003)</td>\n",
       "      <td>2003</td>\n",
       "    </tr>\n",
       "    <tr>\n",
       "      <th>487664</th>\n",
       "      <td>Lene oder Lena (1918)</td>\n",
       "      <td>1918</td>\n",
       "    </tr>\n",
       "    <tr>\n",
       "      <th>957922</th>\n",
       "      <td>Unspoken (2013/III)</td>\n",
       "      <td>2013</td>\n",
       "    </tr>\n",
       "    <tr>\n",
       "      <th>231846</th>\n",
       "      <td>Dosukebe sanmai: Haha musume kui (1996)</td>\n",
       "      <td>1996</td>\n",
       "    </tr>\n",
       "    <tr>\n",
       "      <th>402164</th>\n",
       "      <td>Islamophobia (2018)</td>\n",
       "      <td>2018</td>\n",
       "    </tr>\n",
       "    <tr>\n",
       "      <th>632392</th>\n",
       "      <td>Papá se enreda otra vez (1942)</td>\n",
       "      <td>1942</td>\n",
       "    </tr>\n",
       "    <tr>\n",
       "      <th>201542</th>\n",
       "      <td>Dear Season (1927)</td>\n",
       "      <td>1927</td>\n",
       "    </tr>\n",
       "    <tr>\n",
       "      <th>240116</th>\n",
       "      <td>Dusty Ermine (1936)</td>\n",
       "      <td>1936</td>\n",
       "    </tr>\n",
       "    <tr>\n",
       "      <th>662515</th>\n",
       "      <td>Preethsod Thappa (2001)</td>\n",
       "      <td>2001</td>\n",
       "    </tr>\n",
       "    <tr>\n",
       "      <th>551698</th>\n",
       "      <td>Mirai no dai meiyu (1922)</td>\n",
       "      <td>1922</td>\n",
       "    </tr>\n",
       "    <tr>\n",
       "      <th>194032</th>\n",
       "      <td>Das Fenster-Theater (2002)</td>\n",
       "      <td>2002</td>\n",
       "    </tr>\n",
       "    <tr>\n",
       "      <th>604578</th>\n",
       "      <td>O Relojoeiro (1998)</td>\n",
       "      <td>1998</td>\n",
       "    </tr>\n",
       "    <tr>\n",
       "      <th>246097</th>\n",
       "      <td>Eiga Kureyon Shinchan: Arashi o yobu! Ora to u...</td>\n",
       "      <td>2012</td>\n",
       "    </tr>\n",
       "    <tr>\n",
       "      <th>620452</th>\n",
       "      <td>Order and Chaos (2018)</td>\n",
       "      <td>2018</td>\n",
       "    </tr>\n",
       "    <tr>\n",
       "      <th>993725</th>\n",
       "      <td>Whitefire (2013)</td>\n",
       "      <td>2013</td>\n",
       "    </tr>\n",
       "    <tr>\n",
       "      <th>452052</th>\n",
       "      <td>L'impresa (2014)</td>\n",
       "      <td>2014</td>\n",
       "    </tr>\n",
       "  </tbody>\n",
       "</table>\n",
       "</div>"
      ],
      "text/plain": [
       "                                                    movie  year\n",
       "404402                                   It's Okay (2014)  2014\n",
       "616594                              One Small Step (2016)  2016\n",
       "228704                                      Domino (2005)  2005\n",
       "187076                                D'éfficience (2014)  2014\n",
       "312029                               Gaz Bar Blues (2003)  2003\n",
       "487664                              Lene oder Lena (1918)  1918\n",
       "957922                                Unspoken (2013/III)  2013\n",
       "231846            Dosukebe sanmai: Haha musume kui (1996)  1996\n",
       "402164                                Islamophobia (2018)  2018\n",
       "632392                     Papá se enreda otra vez (1942)  1942\n",
       "201542                                 Dear Season (1927)  1927\n",
       "240116                                Dusty Ermine (1936)  1936\n",
       "662515                            Preethsod Thappa (2001)  2001\n",
       "551698                          Mirai no dai meiyu (1922)  1922\n",
       "194032                         Das Fenster-Theater (2002)  2002\n",
       "604578                                O Relojoeiro (1998)  1998\n",
       "246097  Eiga Kureyon Shinchan: Arashi o yobu! Ora to u...  2012\n",
       "620452                             Order and Chaos (2018)  2018\n",
       "993725                                   Whitefire (2013)  2013\n",
       "452052                                   L'impresa (2014)  2014"
      ]
     },
     "execution_count": 10,
     "metadata": {},
     "output_type": "execute_result"
    }
   ],
   "source": [
    "movie_data.sample(20)"
   ]
  },
  {
   "cell_type": "markdown",
   "metadata": {},
   "source": [
    "# Read old certificates file and write new one"
   ]
  },
  {
   "cell_type": "code",
   "execution_count": 11,
   "metadata": {},
   "outputs": [],
   "source": [
    "with open(OLD_FILES_DIRECTORY + 'certificates.list', 'rb') as certificate_file: # read as binary file\n",
    "    certificate_data_original = [line.decode('latin-1').strip() for line in certificate_file.readlines()]"
   ]
  },
  {
   "cell_type": "code",
   "execution_count": 12,
   "metadata": {},
   "outputs": [
    {
     "name": "stdout",
     "output_type": "stream",
     "text": [
      "CRC: 0x1697FD9F  File: certificates.list  Date: Fri Dec 22 00:00:00 2017\n",
      "\n",
      "Copyright 1991-2017 The Internet Movie Database Ltd. All rights reserved.\n",
      "\n",
      "http://www.imdb.com\n",
      "\n",
      "certificates.list\n",
      "\n",
      "2017-12-19\n",
      "\n",
      "-----------------------------------------------------------------------------\n",
      "\n",
      "CERTIFICATES LIST\n",
      "=================\n",
      "\"#1 Single\" (2006)\t\t\t\t\tUSA:TV-PG\n",
      "\"#BlackLove\" (2015) {Bringing Sexy Back (#1.3)}\t\tUSA:TV-14\n",
      "\"#BlackLove\" (2015) {Crash the Party (#1.9)}\t\tUSA:TV-14\n",
      "\"#BlackLove\" (2015) {Feeling Some Kinda Way (#1.7)}\tUSA:TV-14\n",
      "\"#BlackLove\" (2015) {Like a Virgin (#1.4)}\t\tUSA:TV-14\n",
      "\"#BlackLove\" (2015) {Making Lemonade Out of Lemons (#1.2)}\tUSA:TV-14\n",
      "\"#BlackLove\" (2015) {Maybe Baby (#1.8)}\t\t\tUSA:TV-14\n",
      "\"#BlackLove\" (2015) {Miss Independent (#1.5)}\t\tUSA:TV-14\n",
      "\"#BlackLove\" (2015) {Pack Your Bags (#1.6)}\t\tUSA:TV-14\n",
      "\"#BlackLove\" (2015) {Sealing the Deal (#1.10)}\t\tUSA:TV-14\n",
      "\"#BlackLove\" (2015) {Sexy in the City (#1.1)}\t\tUSA:TV-14\n",
      "\"#Hashtag Travel\" (2017)\t\t\t\tUSA:Unrated\n",
      "\"#LoveMonkeyChocolate\" (2014)\t\t\t\tUK:PG\n",
      "\"#LoveMonkeyChocolateFlowers\" (2014)\t\t\tUK:PG\n",
      "\"#SpongeyLeaks\" (2016)\t\t\t\t\tUSA:Not Rated\n",
      "\"#SpongeyLeaks\" (2016) {Leak 2.1: in medias res: Fraudulent Eviction Notices & Bulletproof Vests: Barb's 2nd Abuser (#1.4)}\tUSA:Not Rated\n"
     ]
    }
   ],
   "source": [
    "# Sample of ratings file\n",
    "for i in range(30):\n",
    "    print(certificate_data_original[i])"
   ]
  },
  {
   "cell_type": "code",
   "execution_count": 13,
   "metadata": {},
   "outputs": [],
   "source": [
    "# ACTUAL DATA STARTS ON LINE 15 or index 14"
   ]
  },
  {
   "cell_type": "code",
   "execution_count": 14,
   "metadata": {},
   "outputs": [],
   "source": [
    "def write_new_certificate_file(certificate_data_original): # list of lines \n",
    "    certificate_file = open(NEW_FILES_DIRECTORY + 'certificates.csv', 'w')\n",
    "    certificate_file.write('movie,rating\\n') # write a header\n",
    "    \n",
    "    # internet doesn't seem to have anything, not reliable\n",
    "    skips = ('(tv)', '(v)', '(vg)', 're-release', 'blu-ray')\n",
    "    vg_ratings = 'E, E10+, T, C, M, Not Rated'.split(', ')\n",
    "    \n",
    "    for i in range(14, len(certificate_data_original)): # start from 14 cuz before is filler\n",
    "        line = certificate_data_original[i]\n",
    "        \n",
    "        if line.startswith('\"'):\n",
    "            continue\n",
    "        try: # some lines may not be in correct format\n",
    "            parts = [x.strip() for x in re.split('\\\\t+', line)] # split by 1 or more tabs\n",
    "            name, rating = parts[:2]\n",
    "            if any(skip in name.lower() for skip in skips): # check is any of the skippables are in the name\n",
    "                continue\n",
    "            if 'USA' not in rating: # skip non us ratings\n",
    "                continue\n",
    "            if 'USA:X' in rating or 'USA:NC-17' in rating or 'TV' in rating: # per rubric, skip these ratings\n",
    "                continue\n",
    "            usa, vgr = rating.split(':') \n",
    "            if any(vg_rating in vgr for vg_rating in vg_ratings):  # check if video game\n",
    "                continue\n",
    "            if ',' in name: # surround in quote if name already has comma\n",
    "                certificate_file.write(f'\"{name}\",{rating}\\n') \n",
    "            else:\n",
    "                certificate_file.write(f'{name},{rating}\\n') \n",
    "        except Exception as e: # tried to process this line, but failed\n",
    "            print(line, e)\n",
    "    \n",
    "    certificate_file.close()\n"
   ]
  },
  {
   "cell_type": "code",
   "execution_count": 15,
   "metadata": {},
   "outputs": [
    {
     "name": "stdout",
     "output_type": "stream",
     "text": [
      "-------------------------------------------------------------------------------- not enough values to unpack (expected 2, got 1)\n"
     ]
    }
   ],
   "source": [
    "write_new_certificate_file(certificate_data_original)"
   ]
  },
  {
   "cell_type": "code",
   "execution_count": 16,
   "metadata": {},
   "outputs": [],
   "source": [
    "certificate_data = pd.read_csv(NEW_FILES_DIRECTORY + \"certificates.csv\")"
   ]
  },
  {
   "cell_type": "code",
   "execution_count": 17,
   "metadata": {},
   "outputs": [
    {
     "data": {
      "text/plain": [
       "'New data has 55567 Titles'"
      ]
     },
     "execution_count": 17,
     "metadata": {},
     "output_type": "execute_result"
    }
   ],
   "source": [
    "rows, _ = certificate_data.shape\n",
    "f'New data has {rows} Titles'"
   ]
  },
  {
   "cell_type": "code",
   "execution_count": 18,
   "metadata": {},
   "outputs": [
    {
     "data": {
      "text/html": [
       "<div>\n",
       "<style scoped>\n",
       "    .dataframe tbody tr th:only-of-type {\n",
       "        vertical-align: middle;\n",
       "    }\n",
       "\n",
       "    .dataframe tbody tr th {\n",
       "        vertical-align: top;\n",
       "    }\n",
       "\n",
       "    .dataframe thead th {\n",
       "        text-align: right;\n",
       "    }\n",
       "</style>\n",
       "<table border=\"1\" class=\"dataframe\">\n",
       "  <thead>\n",
       "    <tr style=\"text-align: right;\">\n",
       "      <th></th>\n",
       "      <th>movie</th>\n",
       "      <th>rating</th>\n",
       "    </tr>\n",
       "  </thead>\n",
       "  <tbody>\n",
       "    <tr>\n",
       "      <th>7714</th>\n",
       "      <td>Chain of Evidence (1957)</td>\n",
       "      <td>USA:Approved</td>\n",
       "    </tr>\n",
       "    <tr>\n",
       "      <th>42537</th>\n",
       "      <td>The Detective (1968)</td>\n",
       "      <td>USA:Approved</td>\n",
       "    </tr>\n",
       "    <tr>\n",
       "      <th>1603</th>\n",
       "      <td>Action Jackson (1988)</td>\n",
       "      <td>USA:R</td>\n",
       "    </tr>\n",
       "    <tr>\n",
       "      <th>42362</th>\n",
       "      <td>The Dark Mirror (1946)</td>\n",
       "      <td>USA:Approved</td>\n",
       "    </tr>\n",
       "    <tr>\n",
       "      <th>27865</th>\n",
       "      <td>My Flesh and Blood (2003)</td>\n",
       "      <td>USA:Unrated</td>\n",
       "    </tr>\n",
       "    <tr>\n",
       "      <th>47045</th>\n",
       "      <td>The Perfect Location (2004)</td>\n",
       "      <td>USA:Unrated</td>\n",
       "    </tr>\n",
       "    <tr>\n",
       "      <th>38642</th>\n",
       "      <td>Straight Out of Brooklyn (1991)</td>\n",
       "      <td>USA:R</td>\n",
       "    </tr>\n",
       "    <tr>\n",
       "      <th>2208</th>\n",
       "      <td>All the World's a Stooge (1941)</td>\n",
       "      <td>USA:Approved</td>\n",
       "    </tr>\n",
       "    <tr>\n",
       "      <th>45173</th>\n",
       "      <td>The Last Starfighter (1984)</td>\n",
       "      <td>USA:PG</td>\n",
       "    </tr>\n",
       "    <tr>\n",
       "      <th>47003</th>\n",
       "      <td>The Pebble and the Penguin (1995)</td>\n",
       "      <td>USA:G</td>\n",
       "    </tr>\n",
       "    <tr>\n",
       "      <th>6211</th>\n",
       "      <td>Breaking Dawn (2004)</td>\n",
       "      <td>USA:R</td>\n",
       "    </tr>\n",
       "    <tr>\n",
       "      <th>14217</th>\n",
       "      <td>Finders Keepers: The Root of All Evil (2013)</td>\n",
       "      <td>USA:Unrated</td>\n",
       "    </tr>\n",
       "    <tr>\n",
       "      <th>4323</th>\n",
       "      <td>Beauty and the Beach (1941)</td>\n",
       "      <td>USA:Passed</td>\n",
       "    </tr>\n",
       "    <tr>\n",
       "      <th>30475</th>\n",
       "      <td>Paperback Hero (1973)</td>\n",
       "      <td>USA:R</td>\n",
       "    </tr>\n",
       "    <tr>\n",
       "      <th>45361</th>\n",
       "      <td>The Libertine (2005)</td>\n",
       "      <td>USA:R</td>\n",
       "    </tr>\n",
       "    <tr>\n",
       "      <th>11905</th>\n",
       "      <td>Double Deal (1939)</td>\n",
       "      <td>USA:Approved</td>\n",
       "    </tr>\n",
       "    <tr>\n",
       "      <th>6701</th>\n",
       "      <td>Buried Loot (1935)</td>\n",
       "      <td>USA:Approved</td>\n",
       "    </tr>\n",
       "    <tr>\n",
       "      <th>23814</th>\n",
       "      <td>Lesser of Three Evils (2007)</td>\n",
       "      <td>USA:R</td>\n",
       "    </tr>\n",
       "    <tr>\n",
       "      <th>42657</th>\n",
       "      <td>The Divided Heart (1954)</td>\n",
       "      <td>USA:Approved</td>\n",
       "    </tr>\n",
       "    <tr>\n",
       "      <th>5089</th>\n",
       "      <td>Birthday Blues (1945)</td>\n",
       "      <td>USA:Passed</td>\n",
       "    </tr>\n",
       "  </tbody>\n",
       "</table>\n",
       "</div>"
      ],
      "text/plain": [
       "                                              movie        rating\n",
       "7714                       Chain of Evidence (1957)  USA:Approved\n",
       "42537                          The Detective (1968)  USA:Approved\n",
       "1603                          Action Jackson (1988)         USA:R\n",
       "42362                        The Dark Mirror (1946)  USA:Approved\n",
       "27865                     My Flesh and Blood (2003)   USA:Unrated\n",
       "47045                   The Perfect Location (2004)   USA:Unrated\n",
       "38642               Straight Out of Brooklyn (1991)         USA:R\n",
       "2208                All the World's a Stooge (1941)  USA:Approved\n",
       "45173                   The Last Starfighter (1984)        USA:PG\n",
       "47003             The Pebble and the Penguin (1995)         USA:G\n",
       "6211                           Breaking Dawn (2004)         USA:R\n",
       "14217  Finders Keepers: The Root of All Evil (2013)   USA:Unrated\n",
       "4323                    Beauty and the Beach (1941)    USA:Passed\n",
       "30475                         Paperback Hero (1973)         USA:R\n",
       "45361                          The Libertine (2005)         USA:R\n",
       "11905                            Double Deal (1939)  USA:Approved\n",
       "6701                             Buried Loot (1935)  USA:Approved\n",
       "23814                  Lesser of Three Evils (2007)         USA:R\n",
       "42657                      The Divided Heart (1954)  USA:Approved\n",
       "5089                          Birthday Blues (1945)    USA:Passed"
      ]
     },
     "execution_count": 18,
     "metadata": {},
     "output_type": "execute_result"
    }
   ],
   "source": [
    "certificate_data.sample(20)"
   ]
  },
  {
   "cell_type": "markdown",
   "metadata": {},
   "source": [
    "# Read old genre file and write new one"
   ]
  },
  {
   "cell_type": "code",
   "execution_count": 19,
   "metadata": {},
   "outputs": [],
   "source": [
    "with open(OLD_FILES_DIRECTORY + 'genres.list', 'rb') as genre_file: # read as binary file\n",
    "    genre_data_original = [line.decode('latin-1').strip() for line in genre_file.readlines()]"
   ]
  },
  {
   "cell_type": "code",
   "execution_count": 20,
   "metadata": {},
   "outputs": [
    {
     "name": "stdout",
     "output_type": "stream",
     "text": [
      "Short    \t 680840\n",
      "Drama    \t 411259\n",
      "Comedy    \t 297238\n",
      "Documentary    \t 263981\n",
      "Adult    \t 82287\n",
      "Thriller    \t 79908\n",
      "Action    \t 79269\n",
      "Romance    \t 79009\n",
      "Music    \t 69599\n",
      "Animation    \t 65035\n",
      "Horror    \t 62687\n",
      "Family    \t 62126\n",
      "Crime    \t 55886\n",
      "Adventure    \t 48554\n",
      "Fantasy    \t 45128\n",
      "Sci-Fi    \t 41402\n",
      "Mystery    \t 37910\n",
      "Biography    \t 31414\n",
      "History    \t 27850\n",
      "Sport    \t 26610\n",
      "Musical    \t 21293\n",
      "War    \t 18570\n",
      "Reality-TV    \t 17921\n",
      "News    \t 16250\n",
      "Western    \t 16111\n",
      "Talk-Show    \t 13732\n",
      "Game-Show    \t 6113\n",
      "Film-Noir    \t 906\n",
      "Reality-tv    \t 45\n",
      "Sci-fi    \t 2\n",
      "Sex    \t 1\n",
      "Lifestyle    \t 1\n",
      "Hardcore    \t 1\n",
      "Experimental    \t 1\n",
      "Erotica    \t 1\n",
      "Commercial    \t 1\n"
     ]
    }
   ],
   "source": [
    "# Sample 1 of genre file \n",
    "for i in range(42, 78): # counts from index 42 to 77\n",
    "    print(genre_data_original[i])"
   ]
  },
  {
   "cell_type": "code",
   "execution_count": 21,
   "metadata": {},
   "outputs": [
    {
     "data": {
      "text/plain": [
       "{'Short': 680840,\n",
       " 'Drama': 411259,\n",
       " 'Comedy': 297238,\n",
       " 'Documentary': 263981,\n",
       " 'Adult': 82287,\n",
       " 'Thriller': 79908,\n",
       " 'Action': 79269,\n",
       " 'Romance': 79009,\n",
       " 'Music': 69599,\n",
       " 'Animation': 65035,\n",
       " 'Horror': 62687,\n",
       " 'Family': 62126,\n",
       " 'Crime': 55886,\n",
       " 'Adventure': 48554,\n",
       " 'Fantasy': 45128,\n",
       " 'Sci-Fi': 41402,\n",
       " 'Mystery': 37910,\n",
       " 'Biography': 31414,\n",
       " 'History': 27850,\n",
       " 'Sport': 26610,\n",
       " 'Musical': 21293,\n",
       " 'War': 18570,\n",
       " 'Reality-TV': 17921,\n",
       " 'News': 16250,\n",
       " 'Western': 16111,\n",
       " 'Talk-Show': 13732,\n",
       " 'Game-Show': 6113,\n",
       " 'Film-Noir': 906,\n",
       " 'Reality-tv': 45,\n",
       " 'Sci-fi': 2,\n",
       " 'Sex': 1,\n",
       " 'Lifestyle': 1,\n",
       " 'Hardcore': 1,\n",
       " 'Experimental': 1,\n",
       " 'Erotica': 1,\n",
       " 'Commercial': 1}"
      ]
     },
     "execution_count": 21,
     "metadata": {},
     "output_type": "execute_result"
    }
   ],
   "source": [
    "genre_counts = dict()\n",
    "for i in range(42, 78): # counts for each genre start from line 43 to 78 or index 42 to 77\n",
    "    line = genre_data_original[i]\n",
    "    movie, count = [x.strip() for x in re.split('\\\\t+', line)]\n",
    "    genre_counts[movie] = int(count)\n",
    "genre_counts"
   ]
  },
  {
   "cell_type": "code",
   "execution_count": 22,
   "metadata": {},
   "outputs": [
    {
     "name": "stdout",
     "output_type": "stream",
     "text": [
      "\n",
      "8: THE GENRES LIST\n",
      "==================\n",
      "\n",
      "\"!Next?\" (1994)\t\t\t\t\t\tDocumentary\n",
      "\"#1 Single\" (2006)\t\t\t\t\tReality-TV\n",
      "\"#15SecondScare\" (2015)\t\t\t\t\tHorror\n",
      "\"#15SecondScare\" (2015)\t\t\t\t\tShort\n",
      "\"#15SecondScare\" (2015)\t\t\t\t\tThriller\n",
      "\"#15SecondScare\" (2015) {Who Wants to Play with the Rabbit? (#1.2)}\tDrama\n",
      "\"#15SecondScare\" (2015) {Who Wants to Play with the Rabbit? (#1.2)}\tHorror\n",
      "\"#15SecondScare\" (2015) {Who Wants to Play with the Rabbit? (#1.2)}\tShort\n",
      "\"#15SecondScare\" (2015) {Who Wants to Play with the Rabbit? (#1.2)}\tThriller\n",
      "\"#1MinuteNightmare\" (2014)\t\t\t\tHorror\n",
      "\"#2G1S\" (2016)\t\t\t\t\t\tCrime\n",
      "\"#2WheelzNHeelz\" (2017)\t\t\t\t\tReality-TV\n",
      "\"#30Nods Trailer\" (2016)\t\t\t\tDrama\n",
      "\"#30Nods\" (2016)\t\t\t\t\tDrama\n",
      "\"#4Hire\" (2017)\t\t\t\t\t\tComedy\n",
      "\"#7DaysLater\" (2013)\t\t\t\t\tComedy\n"
     ]
    }
   ],
   "source": [
    "# Sample 2 of genre file \n",
    "for i in range(380, 400):\n",
    "    print(genre_data_original[i])"
   ]
  },
  {
   "cell_type": "code",
   "execution_count": 23,
   "metadata": {},
   "outputs": [],
   "source": [
    "# ACTUAL DATA START ON LINE 385 or index 384"
   ]
  },
  {
   "cell_type": "code",
   "execution_count": 24,
   "metadata": {},
   "outputs": [],
   "source": [
    "def write_new_genre_file(genre_data_original): # list of lines \n",
    "    genre_file = open(NEW_FILES_DIRECTORY + 'genres.csv', 'w')\n",
    "    genre_file.write('movie,genre\\n') # write a header\n",
    "    \n",
    "    # internet doesn't seem to have anything, not reliable\n",
    "    skips = ('(tv)', '(v)', '(vg)', 're-release', 'blu-ray')\n",
    "    skip_genres = 'Short, Adult, Reality-TV, Talk-Show, Game-Show, News'.split(', ')\n",
    "    \n",
    "    for i in range(384, len(genre_data_original)): # start from 384 cuz before is filler\n",
    "        line = genre_data_original[i]\n",
    "        \n",
    "        if line.startswith('\"'):\n",
    "            continue\n",
    "        try: # some lines may not be in correct format\n",
    "            parts = [x.strip() for x in re.split('\\\\t+', line)] # split by 1 or more tabs\n",
    "            name, genre = parts[:2]\n",
    "            if any(skip in name.lower() for skip in skips): # check is any of the skippables are in the name\n",
    "                continue\n",
    "            if any(g in genre for g in skip_genres): # check if should skip this genre by value\n",
    "                continue\n",
    "            count = genre_counts.get(genre, None)\n",
    "            if count is None or count < 100: # if genre not found or less than 100, skip it \n",
    "                continue\n",
    "            if ',' in name: # surround in quote if name already has comma\n",
    "                genre_file.write(f'\"{name}\",{genre}\\n') \n",
    "            else:\n",
    "                genre_file.write(f'{name},{genre}\\n') \n",
    "        except Exception as e: # tried to process this line, but failed\n",
    "            print(line, e)\n",
    "    \n",
    "    genre_file.close()"
   ]
  },
  {
   "cell_type": "code",
   "execution_count": 25,
   "metadata": {},
   "outputs": [],
   "source": [
    "write_new_genre_file(genre_data_original)"
   ]
  },
  {
   "cell_type": "code",
   "execution_count": 26,
   "metadata": {},
   "outputs": [
    {
     "data": {
      "text/html": [
       "<div>\n",
       "<style scoped>\n",
       "    .dataframe tbody tr th:only-of-type {\n",
       "        vertical-align: middle;\n",
       "    }\n",
       "\n",
       "    .dataframe tbody tr th {\n",
       "        vertical-align: top;\n",
       "    }\n",
       "\n",
       "    .dataframe thead th {\n",
       "        text-align: right;\n",
       "    }\n",
       "</style>\n",
       "<table border=\"1\" class=\"dataframe\">\n",
       "  <thead>\n",
       "    <tr style=\"text-align: right;\">\n",
       "      <th></th>\n",
       "      <th>movie</th>\n",
       "      <th>genre</th>\n",
       "    </tr>\n",
       "  </thead>\n",
       "  <tbody>\n",
       "    <tr>\n",
       "      <th>320995</th>\n",
       "      <td>Eggs Don't Bounce (1944)</td>\n",
       "      <td>Family</td>\n",
       "    </tr>\n",
       "    <tr>\n",
       "      <th>1300451</th>\n",
       "      <td>Who Is Vermin Supreme? An Outsider Odyssey (2014)</td>\n",
       "      <td>Drama</td>\n",
       "    </tr>\n",
       "    <tr>\n",
       "      <th>1310511</th>\n",
       "      <td>Women ceng jing de wuchanzhe (2009)</td>\n",
       "      <td>Documentary</td>\n",
       "    </tr>\n",
       "    <tr>\n",
       "      <th>1041390</th>\n",
       "      <td>The Autograph Hound (1939)</td>\n",
       "      <td>Animation</td>\n",
       "    </tr>\n",
       "    <tr>\n",
       "      <th>271031</th>\n",
       "      <td>Delivery (2013/III)</td>\n",
       "      <td>Crime</td>\n",
       "    </tr>\n",
       "    <tr>\n",
       "      <th>905404</th>\n",
       "      <td>Rû=garû (2010)</td>\n",
       "      <td>Animation</td>\n",
       "    </tr>\n",
       "    <tr>\n",
       "      <th>870777</th>\n",
       "      <td>Real Pretty Song (????)</td>\n",
       "      <td>Comedy</td>\n",
       "    </tr>\n",
       "    <tr>\n",
       "      <th>1265269</th>\n",
       "      <td>Verloren (????)</td>\n",
       "      <td>Thriller</td>\n",
       "    </tr>\n",
       "    <tr>\n",
       "      <th>1060381</th>\n",
       "      <td>The Code-Genesis (2011)</td>\n",
       "      <td>Fantasy</td>\n",
       "    </tr>\n",
       "    <tr>\n",
       "      <th>1332529</th>\n",
       "      <td>Zlocin v dívcí skole (1966)</td>\n",
       "      <td>Crime</td>\n",
       "    </tr>\n",
       "    <tr>\n",
       "      <th>1067471</th>\n",
       "      <td>The Day After (2012)</td>\n",
       "      <td>Sci-Fi</td>\n",
       "    </tr>\n",
       "    <tr>\n",
       "      <th>287660</th>\n",
       "      <td>Die: Lianhua (2015)</td>\n",
       "      <td>Mystery</td>\n",
       "    </tr>\n",
       "    <tr>\n",
       "      <th>1220402</th>\n",
       "      <td>Tradition und Fortschritt (1956)</td>\n",
       "      <td>Documentary</td>\n",
       "    </tr>\n",
       "    <tr>\n",
       "      <th>1169009</th>\n",
       "      <td>The Stitch (2012)</td>\n",
       "      <td>Romance</td>\n",
       "    </tr>\n",
       "    <tr>\n",
       "      <th>269932</th>\n",
       "      <td>Dehkadehe talaie (1965)</td>\n",
       "      <td>Drama</td>\n",
       "    </tr>\n",
       "    <tr>\n",
       "      <th>505831</th>\n",
       "      <td>In Memoriam (2009/III)</td>\n",
       "      <td>Drama</td>\n",
       "    </tr>\n",
       "    <tr>\n",
       "      <th>113096</th>\n",
       "      <td>Backseat Driver (2014)</td>\n",
       "      <td>Horror</td>\n",
       "    </tr>\n",
       "    <tr>\n",
       "      <th>1137226</th>\n",
       "      <td>The One Man Jury (1978)</td>\n",
       "      <td>Drama</td>\n",
       "    </tr>\n",
       "    <tr>\n",
       "      <th>363394</th>\n",
       "      <td>Fast and Furious (1939)</td>\n",
       "      <td>Comedy</td>\n",
       "    </tr>\n",
       "    <tr>\n",
       "      <th>1242015</th>\n",
       "      <td>Un día vi 10.000 elefantes (2015)</td>\n",
       "      <td>Documentary</td>\n",
       "    </tr>\n",
       "  </tbody>\n",
       "</table>\n",
       "</div>"
      ],
      "text/plain": [
       "                                                     movie        genre\n",
       "320995                            Eggs Don't Bounce (1944)       Family\n",
       "1300451  Who Is Vermin Supreme? An Outsider Odyssey (2014)        Drama\n",
       "1310511                Women ceng jing de wuchanzhe (2009)  Documentary\n",
       "1041390                         The Autograph Hound (1939)    Animation\n",
       "271031                                 Delivery (2013/III)        Crime\n",
       "905404                                      Rû=garû (2010)    Animation\n",
       "870777                             Real Pretty Song (????)       Comedy\n",
       "1265269                                    Verloren (????)     Thriller\n",
       "1060381                            The Code-Genesis (2011)      Fantasy\n",
       "1332529                        Zlocin v dívcí skole (1966)        Crime\n",
       "1067471                               The Day After (2012)       Sci-Fi\n",
       "287660                                 Die: Lianhua (2015)      Mystery\n",
       "1220402                   Tradition und Fortschritt (1956)  Documentary\n",
       "1169009                                  The Stitch (2012)      Romance\n",
       "269932                             Dehkadehe talaie (1965)        Drama\n",
       "505831                              In Memoriam (2009/III)        Drama\n",
       "113096                              Backseat Driver (2014)       Horror\n",
       "1137226                            The One Man Jury (1978)        Drama\n",
       "363394                             Fast and Furious (1939)       Comedy\n",
       "1242015                  Un día vi 10.000 elefantes (2015)  Documentary"
      ]
     },
     "execution_count": 26,
     "metadata": {},
     "output_type": "execute_result"
    }
   ],
   "source": [
    "genre_data = pd.read_csv(NEW_FILES_DIRECTORY + 'genres.csv')\n",
    "genre_data.sample(20)"
   ]
  },
  {
   "cell_type": "code",
   "execution_count": 27,
   "metadata": {},
   "outputs": [
    {
     "data": {
      "text/plain": [
       "'New data has 1340555 titles'"
      ]
     },
     "execution_count": 27,
     "metadata": {},
     "output_type": "execute_result"
    }
   ],
   "source": [
    "rows, _ = genre_data.shape \n",
    "f'New data has {rows} titles'"
   ]
  },
  {
   "cell_type": "code",
   "execution_count": 28,
   "metadata": {},
   "outputs": [
    {
     "data": {
      "text/plain": [
       "array(['Comedy', 'Animation', 'Drama', 'Documentary', 'History', 'War',\n",
       "       'Horror', 'Sci-Fi', 'Adventure', 'Biography', 'Family', 'Action',\n",
       "       'Romance', 'Musical', 'Sport', 'Fantasy', 'Mystery', 'Crime',\n",
       "       'Thriller', 'Music', 'Western', 'Film-Noir'], dtype=object)"
      ]
     },
     "execution_count": 28,
     "metadata": {},
     "output_type": "execute_result"
    }
   ],
   "source": [
    "genre_data.genre.unique()"
   ]
  },
  {
   "cell_type": "markdown",
   "metadata": {},
   "source": [
    "# Read old keywords file and write new one"
   ]
  },
  {
   "cell_type": "code",
   "execution_count": 29,
   "metadata": {},
   "outputs": [],
   "source": [
    "with open(OLD_FILES_DIRECTORY + 'keywords.list', 'rb') as keywords_file: # read as binary file\n",
    "    keywords_data_original = [line.decode('latin-1').strip() for line in keywords_file.readlines()]"
   ]
  },
  {
   "cell_type": "code",
   "execution_count": 30,
   "metadata": {},
   "outputs": [
    {
     "data": {
      "text/plain": [
       "7582062"
      ]
     },
     "execution_count": 30,
     "metadata": {},
     "output_type": "execute_result"
    }
   ],
   "source": [
    "len(keywords_data_original)"
   ]
  },
  {
   "cell_type": "code",
   "execution_count": 31,
   "metadata": {},
   "outputs": [
    {
     "name": "stdout",
     "output_type": "stream",
     "text": [
      "keywords in use:\n",
      "$100-bill (3)\t$10000 (3)\t$1000000-prize (2)\n",
      "$1500-bottle-of-wine (1)\t$20-bill (3)\t$200000000 (1)\n",
      "$5-bill (1)\t$5-day (1)\t$5000 (3)\t$700-bank-check (1)\n",
      "$98000-gift-card (1)\t\t'50s-music (11)\t'81-subaru (1)\n",
      "'n-sync (1)\t-184-degrees-fahrenheit (2)\t-320-degrees-fahrenheit (1)\n",
      "-40-degrees-fahrenheit (1)\t.22-caliber-beretta (2)\n",
      ".22-caliber-bullet (1)\t\t.22-caliber-gun (7)\n",
      ".22-caliber-pistol (3)\t\t.22-caliber-revolver (3)\n",
      ".22-caliber-rifle (1)\t\t.22-caliber-semiautomatic-rifle (1)\n",
      ".22-magnum-revolver (2)\t\t.22-magnum-rifle (1)\n",
      ".25-caliber-pistol (1)\t\t.30-caliber-bullet (2)\n",
      ".32-caliber-pistol (1)\t\t.357-magnum (19)\n",
      ".38-caliber-gun (5)\t\t.38-calibre-pistol (3)\n",
      ".38-silenced-revolver (1)\t.38-snubnose-revolver (16)\n",
      ".38-special (5)\t.40-caliber-pistol (1)\t\t.44-calibre-bullet (1)\n",
      ".44-magnum (19)\t.44-magnum-pistol (2)\t\t.44-magnum-rifle (1)\n",
      ".45-automatic (6)\t\t.45-calibre-pistol (11)\n",
      ".451-batting-average (1)\t.50-caliber-pistol (2)\n",
      ".50-calibre-bullet (6)\t\t.50-calibre-gun (1)\n",
      ".50-calibre-sniper-rifle (4)\t.69-calibre-pistol (1)\n",
      ".hack (88)\t007 (34)\t1-508th-parachute-infantry-regiment (1)\n",
      "1-800-phone-number (2)\t\t1-900-line (1)\t1-euro-coin (5)\n",
      "1-million-bc (1)\t\t1-year-ago (3)\t1-year-later (14)\n",
      "1-year-old (12)\t10-april-1826 (2)\t\t10-cent-beer-night (1)\n",
      "10-chapters (7)\t10-days-in-october (1)\t\t10-downing-street (21)\n",
      "10-downing-street-london (1)\t10-episodes (10)\n",
      "10-euro-bill (1)\t\t10-k-run (2)\t10-minute-dogfight (1)\n",
      "10-of-clubs (1)\t10-of-diamonds (1)\t\t10-of-hearts (2)\n",
      "10-of-spades (1)\t\t10-pm (1)\t10-x-10 (1)\n",
      "10-year-old (195)\t\t10-year-old-boy (8)\n",
      "10-year-plan (1)\t\t10-years-later (14)\n",
      "100-euro-bill (1)\t\t100-lei-coin (1)\n",
      "100-meter-freestyle (4)\t\t100-mile-wilderness-maine (2)\n",
      "100-miles-per-hour (1)\t\t100-missions (1)\n",
      "100-pound-contact-bomb (1)\t100-yard-dash (3)\n",
      "100-year-old (16)\t\t100-years (4)\t100-yuan-bill (2)\n",
      "1000-lakes-rally (8)\t\t1000-pound-bomb (4)\n",
      "1000-pound-contact-bomb (1)\t1000-year-old (1)\n",
      "10000-b.c. (7)\t10000-mile-club (1)\t\t1000000-b.c. (38)\n"
     ]
    }
   ],
   "source": [
    "for i in range(60, 100): # Keywords + counts start on line 62 or index 61\n",
    "    print(keywords_data_original[i])"
   ]
  },
  {
   "cell_type": "code",
   "execution_count": 32,
   "metadata": {},
   "outputs": [],
   "source": [
    "keyword_count_start = 61"
   ]
  },
  {
   "cell_type": "code",
   "execution_count": 33,
   "metadata": {},
   "outputs": [],
   "source": [
    "keyword_count_end = 101649 # got this after a little trial and error"
   ]
  },
  {
   "cell_type": "code",
   "execution_count": 34,
   "metadata": {},
   "outputs": [
    {
     "name": "stdout",
     "output_type": "stream",
     "text": [
      "zypora (2)\tzz-top (3)\tzz-top-impression (2)\n",
      "\n",
      "5: Submission Rules\n",
      "===================\n",
      "\n",
      "How To Add Keywords\n",
      "-------------------\n",
      "\n",
      "Send email to   adds@imdb.com   with the subject \"ADD\".  Above\n",
      "the data you write the word \"KEYWORD\" on a line by itself.\n"
     ]
    }
   ],
   "source": [
    "for i in range(keyword_count_end, keyword_count_end + 10):\n",
    "    print(keywords_data_original[i])"
   ]
  },
  {
   "cell_type": "code",
   "execution_count": 35,
   "metadata": {},
   "outputs": [
    {
     "data": {
      "text/plain": [
       "'$100-bill (3)\\t$10000 (3)\\t$1000000-prize (2)'"
      ]
     },
     "execution_count": 35,
     "metadata": {},
     "output_type": "execute_result"
    }
   ],
   "source": [
    "keywords_data_original[61]\n",
    "# format of a line. split by tabs, for each part get the keyword and count"
   ]
  },
  {
   "cell_type": "code",
   "execution_count": 36,
   "metadata": {},
   "outputs": [
    {
     "name": "stdout",
     "output_type": "stream",
     "text": [
      "721\n",
      "5378\n",
      "11470\n",
      "19628\n",
      "24031\n",
      "26742\n",
      "32073\n",
      "35091\n",
      "38998\n",
      "41285\n",
      "42342\n",
      "43654\n",
      "46702\n",
      "52598\n",
      "54629\n",
      "56167\n",
      "62338\n",
      "62576\n",
      "79316\n",
      "89967\n",
      "95121\n",
      "96377\n",
      "97571\n",
      "100917\n",
      "100961\n",
      "101465\n"
     ]
    }
   ],
   "source": [
    "keyword_count = dict()\n",
    "\n",
    "for i in range(keyword_count_start, keyword_count_end + 1): # +1 cuz end index is not included\n",
    "    line = keywords_data_original[i]\n",
    "    parts = [x.strip() for x in re.split('\\\\t+', line)]\n",
    "    for part in parts:\n",
    "        try:\n",
    "            keyword, count = [x.strip() for x in part.split(' ')]\n",
    "            count = int(count[1:-1]) # don't need the parenthesis\n",
    "            keyword_count[keyword] = count\n",
    "        except Exception as e:\n",
    "            print(i) # after inspection, these are just line empty lines 26 of them\n",
    "            # there's a newline after each keyword group with the same letter\n",
    "# keyword_count # it's a lot so I won't show"
   ]
  },
  {
   "cell_type": "code",
   "execution_count": 37,
   "metadata": {},
   "outputs": [
    {
     "name": "stdout",
     "output_type": "stream",
     "text": [
      "\"#1 Single\" (2006)\t\t\t\t\tnumber-in-title\n",
      "\"#1MinuteNightmare\" (2014)\t\t\t\tweb-series\n",
      "\"#30Nods\" (2016)\t\t\t\t\tfriend\n",
      "\"#30Nods\" (2016)\t\t\t\t\theroin\n",
      "\"#30Nods\" (2016)\t\t\t\t\tvlog\n",
      "\"#4Hire\" (2017)\t\t\t\t\t\ttv-mini-series\n",
      "\"#ATown\" (2014)\t\t\t\t\t\taustin-texas\n",
      "\"#ATown\" (2014)\t\t\t\t\t\tbeer\n",
      "\"#ATown\" (2014)\t\t\t\t\t\tdrugs\n",
      "\"#ATown\" (2014)\t\t\t\t\t\tfriendship\n",
      "\"#ATown\" (2014)\t\t\t\t\t\tlove\n",
      "\"#ATown\" (2014)\t\t\t\t\t\ttexas\n",
      "\"#ATown\" (2014)\t\t\t\t\t\tweb-series\n",
      "\"#Adulting\" (2016/I)\t\t\t\t\tmillennial\n",
      "\"#Adulting\" (2016/I)\t\t\t\t\tweb-series\n",
      "\"#AuVolant\" (2016)\t\t\t\t\ttv-mini-series\n",
      "\"#Bandcamp\" (2014)\t\t\t\t\ttv-mini-series\n",
      "\"#ByMySide\" (2012)\t\t\t\t\ttwitter-hashtag-in-title\n",
      "\"#DailyPipTalk\" (2016)\t\t\t\t\tforex\n",
      "\"#DayOff\" (2013)\t\t\t\t\ttv-mini-series\n"
     ]
    }
   ],
   "source": [
    "movie_keyword_start = 101937 # got this after a little trial and error\n",
    "for i in range(movie_keyword_start, movie_keyword_start + 20):\n",
    "    print(keywords_data_original[i])"
   ]
  },
  {
   "cell_type": "code",
   "execution_count": 38,
   "metadata": {},
   "outputs": [],
   "source": [
    "def write_new_keywords_file(keywords_data_original): # list of lines \n",
    "    keywords_file = open(NEW_FILES_DIRECTORY + 'keywords.csv', 'w')\n",
    "    keywords_file.write('movie,keyword\\n') # write a header\n",
    "    \n",
    "    # internet doesn't seem to have anything, not reliable\n",
    "    skips = ('(tv)', '(v)', '(vg)', 're-release', 'blu-ray')\n",
    "    \n",
    "    for i in range(movie_keyword_start, len(keywords_data_original)):\n",
    "        line = keywords_data_original[i]\n",
    "        \n",
    "        if line.startswith('\"'):\n",
    "            continue\n",
    "        try: # some lines may not be in correct format\n",
    "            parts = [x.strip() for x in re.split('\\\\t+', line)] # split by 1 or more tabs\n",
    "            name, keyword = parts[:2]\n",
    "            if any(skip in name.lower() for skip in skips): # check is any of the skippables are in the name\n",
    "                continue\n",
    "                \n",
    "            count = keyword_count.get(keyword, None)\n",
    "            if count is None or count < 20 :\n",
    "                continue\n",
    "            if ',' in name: # surround in quote if name already has comma\n",
    "                keywords_file.write(f'\"{name}\",{keyword}\\n') \n",
    "            else:\n",
    "                keywords_file.write(f'{name},{keyword}\\n') \n",
    "        except Exception as e: # tried to process this line, but failed\n",
    "            print(line, e)\n",
    "    \n",
    "    keywords_file.close()"
   ]
  },
  {
   "cell_type": "code",
   "execution_count": 39,
   "metadata": {},
   "outputs": [],
   "source": [
    "write_new_keywords_file(keywords_data_original)"
   ]
  },
  {
   "cell_type": "code",
   "execution_count": 40,
   "metadata": {},
   "outputs": [
    {
     "data": {
      "text/plain": [
       "'New file has 3763306 titles'"
      ]
     },
     "execution_count": 40,
     "metadata": {},
     "output_type": "execute_result"
    }
   ],
   "source": [
    "keywords_data = pd.read_csv(NEW_FILES_DIRECTORY + \"keywords.csv\")\n",
    "rows, _ = keywords_data.shape \n",
    "f'New file has {rows} titles'"
   ]
  },
  {
   "cell_type": "code",
   "execution_count": 41,
   "metadata": {},
   "outputs": [
    {
     "data": {
      "text/html": [
       "<div>\n",
       "<style scoped>\n",
       "    .dataframe tbody tr th:only-of-type {\n",
       "        vertical-align: middle;\n",
       "    }\n",
       "\n",
       "    .dataframe tbody tr th {\n",
       "        vertical-align: top;\n",
       "    }\n",
       "\n",
       "    .dataframe thead th {\n",
       "        text-align: right;\n",
       "    }\n",
       "</style>\n",
       "<table border=\"1\" class=\"dataframe\">\n",
       "  <thead>\n",
       "    <tr style=\"text-align: right;\">\n",
       "      <th></th>\n",
       "      <th>movie</th>\n",
       "      <th>keyword</th>\n",
       "    </tr>\n",
       "  </thead>\n",
       "  <tbody>\n",
       "    <tr>\n",
       "      <th>3667781</th>\n",
       "      <td>Winning (1969)</td>\n",
       "      <td>teenage-boy</td>\n",
       "    </tr>\n",
       "    <tr>\n",
       "      <th>2179041</th>\n",
       "      <td>Only You (1994)</td>\n",
       "      <td>canal</td>\n",
       "    </tr>\n",
       "    <tr>\n",
       "      <th>983767</th>\n",
       "      <td>Fantastic Beasts and Where to Find Them (2016)</td>\n",
       "      <td>abusive-mother</td>\n",
       "    </tr>\n",
       "    <tr>\n",
       "      <th>2016109</th>\n",
       "      <td>Murderball (2005)</td>\n",
       "      <td>cripple</td>\n",
       "    </tr>\n",
       "    <tr>\n",
       "      <th>24237</th>\n",
       "      <td>2047: Sights of Death (2014)</td>\n",
       "      <td>soldier</td>\n",
       "    </tr>\n",
       "    <tr>\n",
       "      <th>2541642</th>\n",
       "      <td>Screen Test (1985)</td>\n",
       "      <td>filmmaking</td>\n",
       "    </tr>\n",
       "    <tr>\n",
       "      <th>3664515</th>\n",
       "      <td>Wilsonov (2015)</td>\n",
       "      <td>racist-comment</td>\n",
       "    </tr>\n",
       "    <tr>\n",
       "      <th>2149121</th>\n",
       "      <td>Office Space (1999)</td>\n",
       "      <td>disgruntled-worker</td>\n",
       "    </tr>\n",
       "    <tr>\n",
       "      <th>1121859</th>\n",
       "      <td>Ghost of Mae Nak (2005)</td>\n",
       "      <td>mysterious-stranger</td>\n",
       "    </tr>\n",
       "    <tr>\n",
       "      <th>2406401</th>\n",
       "      <td>Reflections of Youth (1975)</td>\n",
       "      <td>youth</td>\n",
       "    </tr>\n",
       "    <tr>\n",
       "      <th>11859</th>\n",
       "      <td>11.6 (2013)</td>\n",
       "      <td>lust-for-money</td>\n",
       "    </tr>\n",
       "    <tr>\n",
       "      <th>1839286</th>\n",
       "      <td>Ma maman est en Amérique, elle a rencontré Buf...</td>\n",
       "      <td>grandparents</td>\n",
       "    </tr>\n",
       "    <tr>\n",
       "      <th>3041160</th>\n",
       "      <td>The Girl with the Hungry Eyes (1995)</td>\n",
       "      <td>reverse-footage</td>\n",
       "    </tr>\n",
       "    <tr>\n",
       "      <th>754041</th>\n",
       "      <td>Denied (2004)</td>\n",
       "      <td>couch</td>\n",
       "    </tr>\n",
       "    <tr>\n",
       "      <th>2189739</th>\n",
       "      <td>Orlando (1992)</td>\n",
       "      <td>women's-rights</td>\n",
       "    </tr>\n",
       "    <tr>\n",
       "      <th>937188</th>\n",
       "      <td>Er di (2003)</td>\n",
       "      <td>u.s.-citizenship</td>\n",
       "    </tr>\n",
       "    <tr>\n",
       "      <th>380386</th>\n",
       "      <td>Black Imbue (2002)</td>\n",
       "      <td>mistaken-identity</td>\n",
       "    </tr>\n",
       "    <tr>\n",
       "      <th>2738323</th>\n",
       "      <td>Stella Maris (1918)</td>\n",
       "      <td>unrequited-love</td>\n",
       "    </tr>\n",
       "    <tr>\n",
       "      <th>1622675</th>\n",
       "      <td>La buena vida (1996)</td>\n",
       "      <td>honeymoon</td>\n",
       "    </tr>\n",
       "    <tr>\n",
       "      <th>3070780</th>\n",
       "      <td>The High Five (2011)</td>\n",
       "      <td>religion</td>\n",
       "    </tr>\n",
       "  </tbody>\n",
       "</table>\n",
       "</div>"
      ],
      "text/plain": [
       "                                                     movie  \\\n",
       "3667781                                     Winning (1969)   \n",
       "2179041                                    Only You (1994)   \n",
       "983767      Fantastic Beasts and Where to Find Them (2016)   \n",
       "2016109                                  Murderball (2005)   \n",
       "24237                         2047: Sights of Death (2014)   \n",
       "2541642                                 Screen Test (1985)   \n",
       "3664515                                    Wilsonov (2015)   \n",
       "2149121                                Office Space (1999)   \n",
       "1121859                            Ghost of Mae Nak (2005)   \n",
       "2406401                        Reflections of Youth (1975)   \n",
       "11859                                          11.6 (2013)   \n",
       "1839286  Ma maman est en Amérique, elle a rencontré Buf...   \n",
       "3041160               The Girl with the Hungry Eyes (1995)   \n",
       "754041                                       Denied (2004)   \n",
       "2189739                                     Orlando (1992)   \n",
       "937188                                        Er di (2003)   \n",
       "380386                                  Black Imbue (2002)   \n",
       "2738323                                Stella Maris (1918)   \n",
       "1622675                               La buena vida (1996)   \n",
       "3070780                               The High Five (2011)   \n",
       "\n",
       "                     keyword  \n",
       "3667781          teenage-boy  \n",
       "2179041                canal  \n",
       "983767        abusive-mother  \n",
       "2016109              cripple  \n",
       "24237                soldier  \n",
       "2541642           filmmaking  \n",
       "3664515       racist-comment  \n",
       "2149121   disgruntled-worker  \n",
       "1121859  mysterious-stranger  \n",
       "2406401                youth  \n",
       "11859         lust-for-money  \n",
       "1839286         grandparents  \n",
       "3041160      reverse-footage  \n",
       "754041                 couch  \n",
       "2189739       women's-rights  \n",
       "937188      u.s.-citizenship  \n",
       "380386     mistaken-identity  \n",
       "2738323      unrequited-love  \n",
       "1622675            honeymoon  \n",
       "3070780             religion  "
      ]
     },
     "execution_count": 41,
     "metadata": {},
     "output_type": "execute_result"
    }
   ],
   "source": [
    "keywords_data.sample(20)"
   ]
  },
  {
   "cell_type": "code",
   "execution_count": 61,
   "metadata": {},
   "outputs": [
    {
     "data": {
      "text/plain": [
       "0.1367987321711569"
      ]
     },
     "execution_count": 61,
     "metadata": {},
     "output_type": "execute_result"
    }
   ],
   "source": [
    "len(keywords_data.keyword.unique())/len(keyword_count) # he says it should be closer to 5%\n",
    "# filter logic should be revised"
   ]
  },
  {
   "cell_type": "markdown",
   "metadata": {},
   "source": [
    "# Read old running times file and write new one "
   ]
  },
  {
   "cell_type": "code",
   "execution_count": 43,
   "metadata": {},
   "outputs": [],
   "source": [
    "with open(OLD_FILES_DIRECTORY + 'running-times.list', 'rb') as runtime_file: # read as binary file\n",
    "    runtime_data_original = [line.decode('latin-1').strip() for line in runtime_file.readlines()]"
   ]
  },
  {
   "cell_type": "code",
   "execution_count": 44,
   "metadata": {},
   "outputs": [
    {
     "name": "stdout",
     "output_type": "stream",
     "text": [
      "CRC: 0x4449AFEC  File: running-times.list  Date: Fri Dec 22 00:00:00 2017\n",
      "\n",
      "Copyright 1991-2017 The Internet Movie Database Ltd. All rights reserved.\n",
      "\n",
      "http://www.imdb.com\n",
      "\n",
      "running-times.list\n",
      "\n",
      "2017-12-19\n",
      "\n",
      "-----------------------------------------------------------------------------\n",
      "\n",
      "RUNNING TIMES LIST\n",
      "==================\n",
      "\"#1 Single\" (2006)\t\t\t\t\t30\n",
      "\"#1 Single\" (2006) {Cats and Dogs (#1.4)}\t\t20\n",
      "\"#1 Single\" (2006) {Finishing a Chapter (#1.5)}\t\t20\n",
      "\"#1 Single\" (2006) {Is the Grass Greener? (#1.1)}\t21\n",
      "\"#1 Single\" (2006) {Stay (#1.8)}\t\t\t20\n",
      "\"#1 Single\" (2006) {The Rules of Dating (#1.3)}\t\t20\n",
      "\"#1 Single\" (2006) {Timing Is Everything (#1.7)}\t20\n",
      "\"#1 Single\" (2006) {Window Shopping (#1.2)}\t\t20\n",
      "\"#1 Single\" (2006) {Wingman (#1.6)}\t\t\t20\n",
      "\"#15SecondScare\" (2015)\t\t\t\t\t1\n",
      "\"#15SecondScare\" (2015) {Because We Don't Want You to Fall Asleep (#1.3)}\t1\n",
      "\"#15SecondScare\" (2015) {Coming and Going (#1.11)}\t1\n",
      "\"#15SecondScare\" (2015) {Doll Factory (#1.10)}\t\t1\n",
      "\"#15SecondScare\" (2015) {Don't Look (#1.6)}\t\t1\n",
      "\"#15SecondScare\" (2015) {Don't Take the Picture (#1.9)}\t1\n",
      "\"#15SecondScare\" (2015) {Fly (#1.8)}\t\t\t1\n",
      "\"#15SecondScare\" (2015) {It's Me Jessica (#1.5)}\t1\n",
      "\"#15SecondScare\" (2015) {Lord Binah (#1.1)}\t\t1\n",
      "\"#15SecondScare\" (2015) {Prying Eyes (#1.12)}\t\t1\n",
      "\"#15SecondScare\" (2015) {Shriek (#1.13)}\t\t1\n",
      "\"#15SecondScare\" (2015) {Sleepless (#1.4)}\t\t1\n",
      "\"#15SecondScare\" (2015) {Stay Dead (#1.7)}\t\t1\n",
      "\"#15SecondScare\" (2015) {Who Wants to Play with the Rabbit? (#1.2)}\t1\n",
      "\"#1MinuteNightmare\" (2014)\t\t\t\t1\n",
      "\"#7DaysLater\" (2013)\t\t\t\t\t7\n",
      "\"#7DaysLater\" (2013) {Apocalypse (#1.2)}\t\t7\n",
      "\"#7DaysLater\" (2013) {Drama Queen (#1.1)}\t\t7\n",
      "\"#ATown\" (2014)\t\t\t\t\t\t10\t(10 webisodes)\n",
      "\"#ATown\" (2014) {Best Friends Day (#1.10)}\t\t13\t(approx.)\n",
      "\"#ATown\" (2014) {Chicks in Pink, Vomit in a Sink (#1.6)}\t11\t(approx.)\n",
      "\"#ATown\" (2014) {Dunzo (#1.9)}\t\t\t\t9\t(approx.)\n",
      "\"#ATown\" (2014) {Jobs & Juice (#1.2)}\t\t\t8\n",
      "\"#ATown\" (2014) {Kayaking Adventure (#1.5)}\t\t9\t(approx.)\n",
      "\"#ATown\" (2014) {PDX --> ATX (#2.1)}\t\t\t11\n",
      "\"#ATown\" (2014) {Pilot (#1.1)}\t\t\t\t12\n",
      "\"#ATown\" (2014) {So Fucked Up (#1.7)}\t\t\t7\t(approx.)\n"
     ]
    }
   ],
   "source": [
    "for i in range(50): \n",
    "    print(runtime_data_original[i])"
   ]
  },
  {
   "cell_type": "code",
   "execution_count": 45,
   "metadata": {},
   "outputs": [
    {
     "data": {
      "text/plain": [
       "'\"#1 Single\" (2006)\\t\\t\\t\\t\\t30'"
      ]
     },
     "execution_count": 45,
     "metadata": {},
     "output_type": "execute_result"
    }
   ],
   "source": [
    "runtime_data_original[14] # Actual data starts at line 15 or index 14"
   ]
  },
  {
   "cell_type": "code",
   "execution_count": 46,
   "metadata": {},
   "outputs": [],
   "source": [
    "# After inspection, many runtimes are in the format 'Country:runtime' and some have diff formats\n",
    "\n",
    "def get_runtime(runtime_string):\n",
    "    result = None\n",
    "    try:\n",
    "        if float(runtime_string) >= 60: # try to see if it's just a regular numeric\n",
    "            result = runtime_string\n",
    "    except ValueError: # it's probably in the format 'Country:runtime'\n",
    "        parts = runtime_string.split(':') \n",
    "        if len(parts) == 2: # should give ['country', 'runtime'], but check\n",
    "            _, runtime = parts\n",
    "            try:\n",
    "                if float(runtime) >= 60: # try to see if it's just a regular numeric\n",
    "                    result = runtime # just the number portion\n",
    "            except ValueError:\n",
    "                # there are a lot of formats; for ease just check leading digits and make sure it's >= 60\n",
    "                non_digit_index = get_first_non_digit_index(runtime) \n",
    "                if float(runtime[:non_digit_index]) >= 60:\n",
    "                    result = runtime[:non_digit_index] # we can ignore the seconds; not important\n",
    "    return result\n",
    "    \n",
    "    \n",
    "def get_first_non_digit_index(string):\n",
    "    for i, char in enumerate(string):\n",
    "        if not char.isdigit():\n",
    "            return i"
   ]
  },
  {
   "cell_type": "code",
   "execution_count": 47,
   "metadata": {},
   "outputs": [],
   "source": [
    "def write_new_runtime_file(runtime_data_original): # list of lines \n",
    "    runtime_file = open(NEW_FILES_DIRECTORY + 'runtimes.csv', 'w')\n",
    "    runtime_file.write('movie,runtime\\n') # write a header\n",
    "    \n",
    "    # internet doesn't seem to have anything, not reliable\n",
    "    skips = ('(tv)', '(v)', '(vg)', 're-release', 'blu-ray')\n",
    "    \n",
    "    for i in range(14, len(runtime_data_original)):\n",
    "        line = runtime_data_original[i]\n",
    "        \n",
    "        if line.startswith('\"'):\n",
    "            continue\n",
    "        try: # some lines may not be in correct format\n",
    "            parts = [x.strip() for x in re.split('\\\\t+', line)] # split by 1 or more tabs\n",
    "            name, runtime_string = parts[:2]\n",
    "            if any(skip in name.lower() for skip in skips): # check is any of the skippables are in the name\n",
    "                continue\n",
    "                \n",
    "            \n",
    "            runtime = get_runtime(runtime_string)\n",
    "            \n",
    "            if runtime is None:\n",
    "                continue\n",
    "                \n",
    "            if ',' in name: # surround in quote if name already has comma\n",
    "                runtime_file.write(f'\"{name}\",{runtime}\\n') \n",
    "            else:\n",
    "                runtime_file.write(f'{name},{runtime}\\n') \n",
    "        except Exception as e: # tried to process this line, but failed    \n",
    "            print(line, e)\n",
    "    \n",
    "    runtime_file.close()"
   ]
  },
  {
   "cell_type": "code",
   "execution_count": 48,
   "metadata": {},
   "outputs": [
    {
     "name": "stdout",
     "output_type": "stream",
     "text": [
      "-------------------------------------------------------------------------------- not enough values to unpack (expected 2, got 1)\n"
     ]
    }
   ],
   "source": [
    "write_new_runtime_file(runtime_data_original)"
   ]
  },
  {
   "cell_type": "code",
   "execution_count": 49,
   "metadata": {},
   "outputs": [
    {
     "data": {
      "text/plain": [
       "'New file has 283156 titles'"
      ]
     },
     "execution_count": 49,
     "metadata": {},
     "output_type": "execute_result"
    }
   ],
   "source": [
    "runtime_data = pd.read_csv(NEW_FILES_DIRECTORY + \"runtimes.csv\")\n",
    "rows, _ = runtime_data.shape \n",
    "f'New file has {rows} titles'"
   ]
  },
  {
   "cell_type": "code",
   "execution_count": 50,
   "metadata": {},
   "outputs": [
    {
     "data": {
      "text/html": [
       "<div>\n",
       "<style scoped>\n",
       "    .dataframe tbody tr th:only-of-type {\n",
       "        vertical-align: middle;\n",
       "    }\n",
       "\n",
       "    .dataframe tbody tr th {\n",
       "        vertical-align: top;\n",
       "    }\n",
       "\n",
       "    .dataframe thead th {\n",
       "        text-align: right;\n",
       "    }\n",
       "</style>\n",
       "<table border=\"1\" class=\"dataframe\">\n",
       "  <thead>\n",
       "    <tr style=\"text-align: right;\">\n",
       "      <th></th>\n",
       "      <th>movie</th>\n",
       "      <th>runtime</th>\n",
       "    </tr>\n",
       "  </thead>\n",
       "  <tbody>\n",
       "    <tr>\n",
       "      <th>209420</th>\n",
       "      <td>Shizumanu taiyô (2009)</td>\n",
       "      <td>202.0</td>\n",
       "    </tr>\n",
       "    <tr>\n",
       "      <th>125631</th>\n",
       "      <td>L'apetta Giulia e la signora Vita (2003)</td>\n",
       "      <td>76.0</td>\n",
       "    </tr>\n",
       "    <tr>\n",
       "      <th>32386</th>\n",
       "      <td>Boys on Film 2: In Too Deep (2009)</td>\n",
       "      <td>147.0</td>\n",
       "    </tr>\n",
       "    <tr>\n",
       "      <th>82583</th>\n",
       "      <td>From Behind the Sunflower (2005)</td>\n",
       "      <td>81.0</td>\n",
       "    </tr>\n",
       "    <tr>\n",
       "      <th>177899</th>\n",
       "      <td>Out in the Desert (2013)</td>\n",
       "      <td>80.0</td>\n",
       "    </tr>\n",
       "    <tr>\n",
       "      <th>83260</th>\n",
       "      <td>Fukushû no uta ga kikoeru (1968)</td>\n",
       "      <td>90.0</td>\n",
       "    </tr>\n",
       "    <tr>\n",
       "      <th>251776</th>\n",
       "      <td>Thong Dee Fun Khao (2017)</td>\n",
       "      <td>122.0</td>\n",
       "    </tr>\n",
       "    <tr>\n",
       "      <th>196674</th>\n",
       "      <td>Road Hard (2015)</td>\n",
       "      <td>98.0</td>\n",
       "    </tr>\n",
       "    <tr>\n",
       "      <th>59417</th>\n",
       "      <td>Die große Liebe (1942)</td>\n",
       "      <td>102.0</td>\n",
       "    </tr>\n",
       "    <tr>\n",
       "      <th>168560</th>\n",
       "      <td>No Intenso Agora (2017)</td>\n",
       "      <td>127.0</td>\n",
       "    </tr>\n",
       "    <tr>\n",
       "      <th>39253</th>\n",
       "      <td>Chaka (1993)</td>\n",
       "      <td>65.0</td>\n",
       "    </tr>\n",
       "    <tr>\n",
       "      <th>22015</th>\n",
       "      <td>Backpack Full of Cash (2016)</td>\n",
       "      <td>93.0</td>\n",
       "    </tr>\n",
       "    <tr>\n",
       "      <th>214878</th>\n",
       "      <td>Somewhere Between Here and Now (2009)</td>\n",
       "      <td>74.0</td>\n",
       "    </tr>\n",
       "    <tr>\n",
       "      <th>191559</th>\n",
       "      <td>Raccontami una storia (2006)</td>\n",
       "      <td>84.0</td>\n",
       "    </tr>\n",
       "    <tr>\n",
       "      <th>45892</th>\n",
       "      <td>Contrabando de esmeraldas (1993)</td>\n",
       "      <td>96.0</td>\n",
       "    </tr>\n",
       "    <tr>\n",
       "      <th>2634</th>\n",
       "      <td>51 (2011)</td>\n",
       "      <td>90.0</td>\n",
       "    </tr>\n",
       "    <tr>\n",
       "      <th>47446</th>\n",
       "      <td>Cristel's 60th (2011)</td>\n",
       "      <td>137.0</td>\n",
       "    </tr>\n",
       "    <tr>\n",
       "      <th>187880</th>\n",
       "      <td>Prince d'une nuit (1936)</td>\n",
       "      <td>80.0</td>\n",
       "    </tr>\n",
       "    <tr>\n",
       "      <th>105714</th>\n",
       "      <td>Il figlio di d'Artagnan (1950)</td>\n",
       "      <td>86.0</td>\n",
       "    </tr>\n",
       "    <tr>\n",
       "      <th>255732</th>\n",
       "      <td>Tout doit disparaître (1997)</td>\n",
       "      <td>100.0</td>\n",
       "    </tr>\n",
       "  </tbody>\n",
       "</table>\n",
       "</div>"
      ],
      "text/plain": [
       "                                           movie  runtime\n",
       "209420                    Shizumanu taiyô (2009)    202.0\n",
       "125631  L'apetta Giulia e la signora Vita (2003)     76.0\n",
       "32386         Boys on Film 2: In Too Deep (2009)    147.0\n",
       "82583           From Behind the Sunflower (2005)     81.0\n",
       "177899                  Out in the Desert (2013)     80.0\n",
       "83260           Fukushû no uta ga kikoeru (1968)     90.0\n",
       "251776                 Thong Dee Fun Khao (2017)    122.0\n",
       "196674                          Road Hard (2015)     98.0\n",
       "59417                     Die große Liebe (1942)    102.0\n",
       "168560                   No Intenso Agora (2017)    127.0\n",
       "39253                               Chaka (1993)     65.0\n",
       "22015               Backpack Full of Cash (2016)     93.0\n",
       "214878     Somewhere Between Here and Now (2009)     74.0\n",
       "191559              Raccontami una storia (2006)     84.0\n",
       "45892           Contrabando de esmeraldas (1993)     96.0\n",
       "2634                                   51 (2011)     90.0\n",
       "47446                      Cristel's 60th (2011)    137.0\n",
       "187880                  Prince d'une nuit (1936)     80.0\n",
       "105714            Il figlio di d'Artagnan (1950)     86.0\n",
       "255732              Tout doit disparaître (1997)    100.0"
      ]
     },
     "execution_count": 50,
     "metadata": {},
     "output_type": "execute_result"
    }
   ],
   "source": [
    "runtime_data.sample(20)"
   ]
  },
  {
   "cell_type": "markdown",
   "metadata": {},
   "source": [
    "# Read old release dates file and write new one"
   ]
  },
  {
   "cell_type": "code",
   "execution_count": 51,
   "metadata": {},
   "outputs": [],
   "source": [
    "with open(OLD_FILES_DIRECTORY + 'release-dates.list', 'rb') as release_file: # read as binary file\n",
    "    release_data_original = [line.decode('latin-1').strip() for line in release_file.readlines()]"
   ]
  },
  {
   "cell_type": "code",
   "execution_count": 52,
   "metadata": {},
   "outputs": [
    {
     "name": "stdout",
     "output_type": "stream",
     "text": [
      "CRC: 0x3F1CFDEF  File: release-dates.list  Date: Fri Dec 22 00:00:00 2017\n",
      "\n",
      "Copyright 1991-2017 The Internet Movie Database Ltd. All rights reserved.\n",
      "\n",
      "http://www.imdb.com\n",
      "\n",
      "release-dates.list\n",
      "\n",
      "2017-12-20\n",
      "\n",
      "-----------------------------------------------------------------------------\n",
      "\n",
      "RELEASE DATES LIST\n",
      "==================\n",
      "\"!Next?\" (1994)\t\t\t\t\t\tItaly:1 January 1994\n",
      "\"#1 Single\" (2006)\t\t\t\t\tUSA:22 January 2006\n",
      "\"#1 Single\" (2006) {Cats and Dogs (#1.4)}\t\tUSA:12 February 2006\n",
      "\"#1 Single\" (2006) {Finishing a Chapter (#1.5)}\t\tUSA:19 February 2006\n",
      "\"#1 Single\" (2006) {Is the Grass Greener? (#1.1)}\tUSA:22 January 2006\n",
      "\"#1 Single\" (2006) {Stay (#1.8)}\t\t\tUSA:19 March 2006\n",
      "\"#1 Single\" (2006) {The Rules of Dating (#1.3)}\t\tUSA:5 February 2006\n",
      "\"#1 Single\" (2006) {Timing Is Everything (#1.7)}\tUSA:12 March 2006\n",
      "\"#1 Single\" (2006) {Window Shopping (#1.2)}\t\tUSA:29 January 2006\n",
      "\"#1 Single\" (2006) {Wingman (#1.6)}\t\t\tUSA:26 February 2006\n",
      "\"#15SecondScare\" (2015) {Beauty Wrap}\t\t\tUSA:1 August 2016\n",
      "\"#15SecondScare\" (2015) {Bubbles of Blood (#1.17)}\tUSA:1 September 2016\n",
      "\"#15SecondScare\" (2015) {Don't Go Upstairs (#1.16)}\tUSA:1 September 2016\n",
      "\"#15SecondScare\" (2015) {First Time (#1.15)}\t\tUSA:1 September 2016\n",
      "\"#15SecondScare\" (2015) {Goober Lift}\t\t\tUSA:1 August 2016\n",
      "\"#15SecondScare\" (2015) {Good Night Sweetie}\t\tUSA:1 August 2016\n",
      "\"#15SecondScare\" (2015) {It's Me Jessica (#1.5)}\tUK:31 October 2015\n",
      "\"#15SecondScare\" (2015) {It's Me Jessica (#1.5)}\tUSA:17 January 2016\n",
      "\"#15SecondScare\" (2015) {Make OUt Point}\t\tUSA:1 August 2016\n",
      "\"#15SecondScare\" (2015) {The Devils Text}\t\tUSA:1 August 2016\n",
      "\"#15SecondScare\" (2015) {The Jogging Dead}\t\tUSA:1 August 2016\n",
      "\"#15SecondScare\" (2015) {Who Wants to Play with the Rabbit? (#1.2)}\tUSA:23 March 2016\t(Los Angeles, California)\n",
      "\"#1MinuteNightmare\" (2014)\t\t\t\tUK:1 October 2014\t(internet)\n",
      "\"#1MinuteNightmare\" (2014) {Burning Man (#1.2)}\t\tUK:1 November 2014\n",
      "\"#1MinuteNightmare\" (2014) {Get Wet (#1.3)}\t\tUK:1 December 2014\n",
      "\"#1MinuteNightmare\" (2014) {Junction. 51 (#1.7)}\tUK:1 April 2015\n",
      "\"#1MinuteNightmare\" (2014) {Meat Feast (#1.9)}\t\tUK:1 June 2015\n",
      "\"#1MinuteNightmare\" (2014) {Mr Creak (#1.6)}\t\tUK:1 March 2015\n",
      "\"#1MinuteNightmare\" (2014) {My Sweet Valentine (#1.5)}\tUK:1 February 2015\n",
      "\"#1MinuteNightmare\" (2014) {Night Crawler (#1.10)}\tUK:1 July 2015\n",
      "\"#1MinuteNightmare\" (2014) {Night Light (#1.1)}\t\tUK:1 October 2014\n",
      "\"#1MinuteNightmare\" (2014) {Play Time (#1.11)}\t\tUK:1 August 2015\n",
      "\"#1MinuteNightmare\" (2014) {Size Matters (#1.8)}\tUK:1 May 2015\n",
      "\"#1MinuteNightmare\" (2014) {Trust Me I'm a Doctor (#1.12)}\tUK:1 September 2015\n",
      "\"#1MinuteNightmare\" (2014) {Want to See Something Cool (#1.4)}\tUK:1 January 2015\n",
      "\"#2G1S\" (2016)\t\t\t\t\t\tUSA:14 October 2016\t(internet)\n"
     ]
    }
   ],
   "source": [
    "for i in range(50):\n",
    "    print(release_data_original[i])"
   ]
  },
  {
   "cell_type": "code",
   "execution_count": 53,
   "metadata": {},
   "outputs": [
    {
     "data": {
      "text/plain": [
       "'\"!Next?\" (1994)\\t\\t\\t\\t\\t\\tItaly:1 January 1994'"
      ]
     },
     "execution_count": 53,
     "metadata": {},
     "output_type": "execute_result"
    }
   ],
   "source": [
    "# Actual data starts on line 15 or index 14\n",
    "release_data_original[14] # format is 'Movie <tabs> Country:Date'\n",
    "# for ease of access/subsets etc, I'll make 2 columns month, year"
   ]
  },
  {
   "cell_type": "code",
   "execution_count": 54,
   "metadata": {},
   "outputs": [],
   "source": [
    "# After inspection, some dates only have either month and year, year, or month year and day\n",
    "# given a date string, return a list of just month and year\n",
    "\n",
    "def get_date_parts(date_string):\n",
    "    result = ['NA', 'NA']\n",
    "    parts = re.split('\\\\s+', date_string) \n",
    "    \n",
    "    if len(parts) == 1: # only year found\n",
    "        result[1] = parts[0]\n",
    "    elif len(parts) == 2: # month and year found\n",
    "        result = parts \n",
    "    elif len(parts) == 3: # day month year found\n",
    "        result = parts[1:]\n",
    "    return result"
   ]
  },
  {
   "cell_type": "code",
   "execution_count": 55,
   "metadata": {},
   "outputs": [],
   "source": [
    "def write_new_release_file(release_data_original): # list of lines \n",
    "    release_file = open(NEW_FILES_DIRECTORY + 'releases.csv', 'w')\n",
    "    release_file.write('movie,month,year\\n') # write a header\n",
    "    \n",
    "    # internet doesn't seem to have anything, not reliable\n",
    "    skips = ('(tv)', '(v)', '(vg)', 're-release', 'blu-ray')\n",
    "    \n",
    "    for i in range(14, len(release_data_original)):\n",
    "        line = release_data_original[i]\n",
    "        \n",
    "        if line.startswith('\"'):\n",
    "            continue\n",
    "        try: # some lines may not be in correct format\n",
    "            parts = [x.strip() for x in re.split('\\\\t+', line)] # split by 1 or more tabs\n",
    "            name, release_string = parts[:2]\n",
    "            if any(skip in name.lower() for skip in skips): # check is any of the skippables are in the name\n",
    "                continue\n",
    "            \n",
    "            _, date_string = release_string.split(':')\n",
    "            \n",
    "            month, year = get_date_parts(date_string)\n",
    "            \n",
    "            \n",
    "            if ',' in name: # surround in quote if name already has comma\n",
    "                release_file.write(f'\"{name}\",{month},{year}\\n') \n",
    "            else:\n",
    "                release_file.write(f'{name},{month},{year}\\n') \n",
    "        except Exception as e: # tried to process this line, but failed    \n",
    "            print(line, e)\n",
    "    \n",
    "    release_file.close()"
   ]
  },
  {
   "cell_type": "code",
   "execution_count": 56,
   "metadata": {},
   "outputs": [
    {
     "name": "stdout",
     "output_type": "stream",
     "text": [
      "-------------------------------------------------------------------------------- not enough values to unpack (expected 2, got 1)\n"
     ]
    }
   ],
   "source": [
    "write_new_release_file(release_data_original)"
   ]
  },
  {
   "cell_type": "code",
   "execution_count": 57,
   "metadata": {},
   "outputs": [
    {
     "data": {
      "text/plain": [
       "'New file has 1724266 titles'"
      ]
     },
     "execution_count": 57,
     "metadata": {},
     "output_type": "execute_result"
    }
   ],
   "source": [
    "release_data = pd.read_csv(NEW_FILES_DIRECTORY + \"releases.csv\")\n",
    "rows, _ = release_data.shape \n",
    "f'New file has {rows} titles'"
   ]
  },
  {
   "cell_type": "code",
   "execution_count": 58,
   "metadata": {},
   "outputs": [
    {
     "data": {
      "text/html": [
       "<div>\n",
       "<style scoped>\n",
       "    .dataframe tbody tr th:only-of-type {\n",
       "        vertical-align: middle;\n",
       "    }\n",
       "\n",
       "    .dataframe tbody tr th {\n",
       "        vertical-align: top;\n",
       "    }\n",
       "\n",
       "    .dataframe thead th {\n",
       "        text-align: right;\n",
       "    }\n",
       "</style>\n",
       "<table border=\"1\" class=\"dataframe\">\n",
       "  <thead>\n",
       "    <tr style=\"text-align: right;\">\n",
       "      <th></th>\n",
       "      <th>movie</th>\n",
       "      <th>month</th>\n",
       "      <th>year</th>\n",
       "    </tr>\n",
       "  </thead>\n",
       "  <tbody>\n",
       "    <tr>\n",
       "      <th>414024</th>\n",
       "      <td>El incidente (2014)</td>\n",
       "      <td>October</td>\n",
       "      <td>2015</td>\n",
       "    </tr>\n",
       "    <tr>\n",
       "      <th>67413</th>\n",
       "      <td>Aikansa edellä (1990)</td>\n",
       "      <td>NaN</td>\n",
       "      <td>1990</td>\n",
       "    </tr>\n",
       "    <tr>\n",
       "      <th>257398</th>\n",
       "      <td>Chipman (2004)</td>\n",
       "      <td>February</td>\n",
       "      <td>2004</td>\n",
       "    </tr>\n",
       "    <tr>\n",
       "      <th>627301</th>\n",
       "      <td>Ich denke oft an Piroschka (1955)</td>\n",
       "      <td>June</td>\n",
       "      <td>1957</td>\n",
       "    </tr>\n",
       "    <tr>\n",
       "      <th>623909</th>\n",
       "      <td>I zhizn, i slyozy, i lyubov... (1984)</td>\n",
       "      <td>January</td>\n",
       "      <td>1985</td>\n",
       "    </tr>\n",
       "    <tr>\n",
       "      <th>178720</th>\n",
       "      <td>Black Eyes (1915)</td>\n",
       "      <td>October</td>\n",
       "      <td>1915</td>\n",
       "    </tr>\n",
       "    <tr>\n",
       "      <th>72702</th>\n",
       "      <td>Aleksandr Nevskiy (1938)</td>\n",
       "      <td>August</td>\n",
       "      <td>2002</td>\n",
       "    </tr>\n",
       "    <tr>\n",
       "      <th>1385548</th>\n",
       "      <td>The Devil's Rejects (2005)</td>\n",
       "      <td>October</td>\n",
       "      <td>2005</td>\n",
       "    </tr>\n",
       "    <tr>\n",
       "      <th>1086035</th>\n",
       "      <td>Playgirls of Munich (1977)</td>\n",
       "      <td>May</td>\n",
       "      <td>1988</td>\n",
       "    </tr>\n",
       "    <tr>\n",
       "      <th>910544</th>\n",
       "      <td>Men's Room (2015)</td>\n",
       "      <td>February</td>\n",
       "      <td>2016</td>\n",
       "    </tr>\n",
       "    <tr>\n",
       "      <th>62037</th>\n",
       "      <td>Affair in Trinidad (1952)</td>\n",
       "      <td>October</td>\n",
       "      <td>1953</td>\n",
       "    </tr>\n",
       "    <tr>\n",
       "      <th>1508314</th>\n",
       "      <td>The Sorcerer's Apprentice (2010)</td>\n",
       "      <td>July</td>\n",
       "      <td>2010</td>\n",
       "    </tr>\n",
       "    <tr>\n",
       "      <th>388433</th>\n",
       "      <td>Drillbit Taylor (2008)</td>\n",
       "      <td>May</td>\n",
       "      <td>2008</td>\n",
       "    </tr>\n",
       "    <tr>\n",
       "      <th>1437581</th>\n",
       "      <td>The Land of Mystery (1920)</td>\n",
       "      <td>July</td>\n",
       "      <td>1920</td>\n",
       "    </tr>\n",
       "    <tr>\n",
       "      <th>203411</th>\n",
       "      <td>Breathe (2017/I)</td>\n",
       "      <td>November</td>\n",
       "      <td>2017</td>\n",
       "    </tr>\n",
       "    <tr>\n",
       "      <th>615650</th>\n",
       "      <td>I Am Not a Witch (2017)</td>\n",
       "      <td>June</td>\n",
       "      <td>2017</td>\n",
       "    </tr>\n",
       "    <tr>\n",
       "      <th>1556399</th>\n",
       "      <td>Timber (2011)</td>\n",
       "      <td>January</td>\n",
       "      <td>2011</td>\n",
       "    </tr>\n",
       "    <tr>\n",
       "      <th>17884</th>\n",
       "      <td>6 Days (2017/I)</td>\n",
       "      <td>October</td>\n",
       "      <td>2017</td>\n",
       "    </tr>\n",
       "    <tr>\n",
       "      <th>861976</th>\n",
       "      <td>Lovesong (2016)</td>\n",
       "      <td>November</td>\n",
       "      <td>2016</td>\n",
       "    </tr>\n",
       "    <tr>\n",
       "      <th>1591954</th>\n",
       "      <td>Twisted (1996)</td>\n",
       "      <td>December</td>\n",
       "      <td>1997</td>\n",
       "    </tr>\n",
       "  </tbody>\n",
       "</table>\n",
       "</div>"
      ],
      "text/plain": [
       "                                         movie     month  year\n",
       "414024                     El incidente (2014)   October  2015\n",
       "67413                    Aikansa edellä (1990)       NaN  1990\n",
       "257398                          Chipman (2004)  February  2004\n",
       "627301       Ich denke oft an Piroschka (1955)      June  1957\n",
       "623909   I zhizn, i slyozy, i lyubov... (1984)   January  1985\n",
       "178720                       Black Eyes (1915)   October  1915\n",
       "72702                 Aleksandr Nevskiy (1938)    August  2002\n",
       "1385548             The Devil's Rejects (2005)   October  2005\n",
       "1086035             Playgirls of Munich (1977)       May  1988\n",
       "910544                       Men's Room (2015)  February  2016\n",
       "62037                Affair in Trinidad (1952)   October  1953\n",
       "1508314       The Sorcerer's Apprentice (2010)      July  2010\n",
       "388433                  Drillbit Taylor (2008)       May  2008\n",
       "1437581             The Land of Mystery (1920)      July  1920\n",
       "203411                        Breathe (2017/I)  November  2017\n",
       "615650                 I Am Not a Witch (2017)      June  2017\n",
       "1556399                          Timber (2011)   January  2011\n",
       "17884                          6 Days (2017/I)   October  2017\n",
       "861976                         Lovesong (2016)  November  2016\n",
       "1591954                         Twisted (1996)  December  1997"
      ]
     },
     "execution_count": 58,
     "metadata": {},
     "output_type": "execute_result"
    }
   ],
   "source": [
    "release_data.sample(20)"
   ]
  },
  {
   "cell_type": "code",
   "execution_count": null,
   "metadata": {},
   "outputs": [],
   "source": []
  }
 ],
 "metadata": {
  "kernelspec": {
   "display_name": "Python 3",
   "language": "python",
   "name": "python3"
  },
  "language_info": {
   "codemirror_mode": {
    "name": "ipython",
    "version": 3
   },
   "file_extension": ".py",
   "mimetype": "text/x-python",
   "name": "python",
   "nbconvert_exporter": "python",
   "pygments_lexer": "ipython3",
   "version": "3.7.6"
  }
 },
 "nbformat": 4,
 "nbformat_minor": 2
}
