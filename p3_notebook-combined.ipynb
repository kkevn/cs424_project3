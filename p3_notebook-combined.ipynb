{
 "cells": [
  {
   "cell_type": "code",
<<<<<<< HEAD
   "execution_count": 2,
=======
   "execution_count": 4,
>>>>>>> 21e497a6b72f0206ee64b8e09cfd976cc3acbe0a
   "metadata": {},
   "outputs": [],
   "source": [
    "#######################################\n",
    "# CS 424 - Project 3\n",
    "# Kevin Kowalski\n",
    "# Samuel Kajah\n",
    "# Vijay Vemu\n",
    "#######################################\n",
    "#\n",
    "# This file contains the code to clean\n",
    "# the original data set. It outputs\n",
    "# the necessary plots and updated data\n",
    "# set to be used by shiny.\n",
    "#\n",
    "# This file was used for testing and \n",
    "# plotting before using RStudio for a\n",
    "# dashboard.\n",
    "#\n",
    "#######################################"
   ]
  },
  {
   "cell_type": "code",
<<<<<<< HEAD
   "execution_count": 5,
   "metadata": {},
=======
   "execution_count": 57,
   "metadata": {
    "scrolled": true
   },
>>>>>>> 21e497a6b72f0206ee64b8e09cfd976cc3acbe0a
   "outputs": [],
   "source": [
    "# import libraries\n",
    "library(comprehenr)\n",
    "library(dplyr)\n",
    "library(ggplot2)\n",
    "library(hashmap)\n",
    "library(lubridate)\n",
    "library(stringr)\n",
    "library(tidyverse)"
   ]
  },
  {
   "cell_type": "code",
   "execution_count": 6,
   "metadata": {},
   "outputs": [],
   "source": [
    "# read in the combined RDS file\n",
    "data <- readRDS(file = \"combined_data.rds\")\n",
    "\n",
    "# LEAVE COMMENTED, UNLESS YOU NEED TO REMAKE FILE\n",
    "# keywords table only for movies found in combined data table\n",
    "#keywords_subset <- subset(df_keywords, movie %in% data$movie)\n",
    "#write.csv(keywords_subset, file = 'keywords_subset.csv')\n",
    "\n",
    "# read in the subsetted keywords CSV file\n",
    "keywords_subset = read.csv('keywords_subset.csv')"
   ]
  },
  {
   "cell_type": "code",
   "execution_count": 7,
   "metadata": {},
   "outputs": [
    {
     "name": "stdout",
     "output_type": "stream",
     "text": [
      "[1] \"---- data, n=334427\"\n",
      "[1] \"---- unique movies, n=36596\"\n"
     ]
    }
   ],
   "source": [
    "# output number of entries in data\n",
    "total_data <- count(data)\n",
    "print(paste0(\"---- data, n=\", total_data))\n",
    "unique_films <- length(unique(data$movie))\n",
    "print(paste0(\"---- unique movies, n=\", unique_films))"
   ]
  },
  {
   "cell_type": "code",
   "execution_count": 8,
   "metadata": {},
   "outputs": [],
   "source": [
    "# get list of movies where none is duplicated (used for times where you only want to account for a movie once, such as runtime average)\n",
    "unique_movies <- subset(data, !duplicated(subset(data, select = movie)))"
   ]
  },
  {
   "cell_type": "code",
   "execution_count": 9,
   "metadata": {},
   "outputs": [
    {
     "data": {
      "text/html": [
       "<table>\n",
       "<caption>A data.frame: 5 × 6</caption>\n",
       "<thead>\n",
       "\t<tr><th></th><th scope=col>movie</th><th scope=col>year</th><th scope=col>month</th><th scope=col>genre</th><th scope=col>runtime</th><th scope=col>rating</th></tr>\n",
       "\t<tr><th></th><th scope=col>&lt;chr&gt;</th><th scope=col>&lt;int&gt;</th><th scope=col>&lt;fct&gt;</th><th scope=col>&lt;fct&gt;</th><th scope=col>&lt;dbl&gt;</th><th scope=col>&lt;fct&gt;</th></tr>\n",
       "</thead>\n",
       "<tbody>\n",
       "\t<tr><th scope=row>214</th><td>#FollowFriday (2016)</td><td>2016</td><td>September</td><td>Thriller</td><td> 90</td><td>USA:Unrated </td></tr>\n",
       "\t<tr><th scope=row>698</th><td>$ (1971)            </td><td>1971</td><td>December </td><td>Comedy  </td><td>121</td><td>USA:R       </td></tr>\n",
       "\t<tr><th scope=row>700</th><td>$ (1971)            </td><td>1971</td><td>December </td><td>Crime   </td><td>121</td><td>USA:R       </td></tr>\n",
       "\t<tr><th scope=row>702</th><td>$ (1971)            </td><td>1971</td><td>December </td><td>Drama   </td><td>121</td><td>USA:R       </td></tr>\n",
       "\t<tr><th scope=row>714</th><td>$10 Raise (1935)    </td><td>1935</td><td>May      </td><td>Comedy  </td><td> 70</td><td>USA:Approved</td></tr>\n",
       "</tbody>\n",
       "</table>\n"
      ],
      "text/latex": [
       "A data.frame: 5 × 6\n",
       "\\begin{tabular}{r|llllll}\n",
       "  & movie & year & month & genre & runtime & rating\\\\\n",
       "  & <chr> & <int> & <fct> & <fct> & <dbl> & <fct>\\\\\n",
       "\\hline\n",
       "\t214 & \\#FollowFriday (2016) & 2016 & September & Thriller &  90 & USA:Unrated \\\\\n",
       "\t698 & \\$ (1971)             & 1971 & December  & Comedy   & 121 & USA:R       \\\\\n",
       "\t700 & \\$ (1971)             & 1971 & December  & Crime    & 121 & USA:R       \\\\\n",
       "\t702 & \\$ (1971)             & 1971 & December  & Drama    & 121 & USA:R       \\\\\n",
       "\t714 & \\$10 Raise (1935)     & 1935 & May       & Comedy   &  70 & USA:Approved\\\\\n",
       "\\end{tabular}\n"
      ],
      "text/markdown": [
       "\n",
       "A data.frame: 5 × 6\n",
       "\n",
       "| <!--/--> | movie &lt;chr&gt; | year &lt;int&gt; | month &lt;fct&gt; | genre &lt;fct&gt; | runtime &lt;dbl&gt; | rating &lt;fct&gt; |\n",
       "|---|---|---|---|---|---|---|\n",
       "| 214 | #FollowFriday (2016) | 2016 | September | Thriller |  90 | USA:Unrated  |\n",
       "| 698 | $ (1971)             | 1971 | December  | Comedy   | 121 | USA:R        |\n",
       "| 700 | $ (1971)             | 1971 | December  | Crime    | 121 | USA:R        |\n",
       "| 702 | $ (1971)             | 1971 | December  | Drama    | 121 | USA:R        |\n",
       "| 714 | $10 Raise (1935)     | 1935 | May       | Comedy   |  70 | USA:Approved |\n",
       "\n"
      ],
      "text/plain": [
       "    movie                year month     genre    runtime rating      \n",
       "214 #FollowFriday (2016) 2016 September Thriller  90     USA:Unrated \n",
       "698 $ (1971)             1971 December  Comedy   121     USA:R       \n",
       "700 $ (1971)             1971 December  Crime    121     USA:R       \n",
       "702 $ (1971)             1971 December  Drama    121     USA:R       \n",
       "714 $10 Raise (1935)     1935 May       Comedy    70     USA:Approved"
      ]
     },
     "metadata": {},
     "output_type": "display_data"
    },
    {
     "data": {
      "text/html": [
       "<table>\n",
       "<caption>A data.frame: 5 × 6</caption>\n",
       "<thead>\n",
       "\t<tr><th scope=col>movie</th><th scope=col>year</th><th scope=col>month</th><th scope=col>genre</th><th scope=col>runtime</th><th scope=col>rating</th></tr>\n",
       "\t<tr><th scope=col>&lt;chr&gt;</th><th scope=col>&lt;int&gt;</th><th scope=col>&lt;fct&gt;</th><th scope=col>&lt;fct&gt;</th><th scope=col>&lt;dbl&gt;</th><th scope=col>&lt;fct&gt;</th></tr>\n",
       "</thead>\n",
       "<tbody>\n",
<<<<<<< HEAD
       "\t<tr><td>Kill Speed (2010)             </td><td>2010</td><td>December</td><td>Crime    </td><td>112</td><td>USA:R       </td></tr>\n",
       "\t<tr><td>Everest (2015)                </td><td>2015</td><td>November</td><td>Adventure</td><td>121</td><td>USA:PG-13   </td></tr>\n",
       "\t<tr><td>The Singing Kid (1936)        </td><td>1936</td><td>August  </td><td>Musical  </td><td> 85</td><td>USA:Approved</td></tr>\n",
       "\t<tr><td>Flic ou voyou (1979)          </td><td>1979</td><td>October </td><td>Comedy   </td><td>107</td><td>USA:PG      </td></tr>\n",
       "\t<tr><td>Tonight and Every Night (1945)</td><td>1945</td><td>December</td><td>Musical  </td><td> 92</td><td>USA:Approved</td></tr>\n",
=======
       "\t<tr><td>Air Force (1943)                  </td><td>1943</td><td>February</td><td>Action     </td><td>124</td><td>USA:Approved</td></tr>\n",
       "\t<tr><td>The Interrupters (2011)           </td><td>2011</td><td>August  </td><td>Documentary</td><td>125</td><td>USA:Unrated </td></tr>\n",
       "\t<tr><td>China Doll (1958)                 </td><td>1958</td><td>December</td><td>War        </td><td> 99</td><td>USA:Approved</td></tr>\n",
       "\t<tr><td>Swiss Army Man (2016)             </td><td>2016</td><td>November</td><td>Drama      </td><td> 97</td><td>USA:R       </td></tr>\n",
       "\t<tr><td>The Affairs of Dobie Gillis (1953)</td><td>1953</td><td>November</td><td>Musical    </td><td> 72</td><td>USA:Approved</td></tr>\n",
>>>>>>> 21e497a6b72f0206ee64b8e09cfd976cc3acbe0a
       "</tbody>\n",
       "</table>\n"
      ],
      "text/latex": [
       "A data.frame: 5 × 6\n",
       "\\begin{tabular}{llllll}\n",
       " movie & year & month & genre & runtime & rating\\\\\n",
       " <chr> & <int> & <fct> & <fct> & <dbl> & <fct>\\\\\n",
       "\\hline\n",
<<<<<<< HEAD
       "\t Kill Speed (2010)              & 2010 & December & Crime     & 112 & USA:R       \\\\\n",
       "\t Everest (2015)                 & 2015 & November & Adventure & 121 & USA:PG-13   \\\\\n",
       "\t The Singing Kid (1936)         & 1936 & August   & Musical   &  85 & USA:Approved\\\\\n",
       "\t Flic ou voyou (1979)           & 1979 & October  & Comedy    & 107 & USA:PG      \\\\\n",
       "\t Tonight and Every Night (1945) & 1945 & December & Musical   &  92 & USA:Approved\\\\\n",
=======
       "\t Air Force (1943)                   & 1943 & February & Action      & 124 & USA:Approved\\\\\n",
       "\t The Interrupters (2011)            & 2011 & August   & Documentary & 125 & USA:Unrated \\\\\n",
       "\t China Doll (1958)                  & 1958 & December & War         &  99 & USA:Approved\\\\\n",
       "\t Swiss Army Man (2016)              & 2016 & November & Drama       &  97 & USA:R       \\\\\n",
       "\t The Affairs of Dobie Gillis (1953) & 1953 & November & Musical     &  72 & USA:Approved\\\\\n",
>>>>>>> 21e497a6b72f0206ee64b8e09cfd976cc3acbe0a
       "\\end{tabular}\n"
      ],
      "text/markdown": [
       "\n",
       "A data.frame: 5 × 6\n",
       "\n",
       "| movie &lt;chr&gt; | year &lt;int&gt; | month &lt;fct&gt; | genre &lt;fct&gt; | runtime &lt;dbl&gt; | rating &lt;fct&gt; |\n",
       "|---|---|---|---|---|---|\n",
<<<<<<< HEAD
       "| Kill Speed (2010)              | 2010 | December | Crime     | 112 | USA:R        |\n",
       "| Everest (2015)                 | 2015 | November | Adventure | 121 | USA:PG-13    |\n",
       "| The Singing Kid (1936)         | 1936 | August   | Musical   |  85 | USA:Approved |\n",
       "| Flic ou voyou (1979)           | 1979 | October  | Comedy    | 107 | USA:PG       |\n",
       "| Tonight and Every Night (1945) | 1945 | December | Musical   |  92 | USA:Approved |\n",
       "\n"
      ],
      "text/plain": [
       "  movie                          year month    genre     runtime rating      \n",
       "1 Kill Speed (2010)              2010 December Crime     112     USA:R       \n",
       "2 Everest (2015)                 2015 November Adventure 121     USA:PG-13   \n",
       "3 The Singing Kid (1936)         1936 August   Musical    85     USA:Approved\n",
       "4 Flic ou voyou (1979)           1979 October  Comedy    107     USA:PG      \n",
       "5 Tonight and Every Night (1945) 1945 December Musical    92     USA:Approved"
=======
       "| Air Force (1943)                   | 1943 | February | Action      | 124 | USA:Approved |\n",
       "| The Interrupters (2011)            | 2011 | August   | Documentary | 125 | USA:Unrated  |\n",
       "| China Doll (1958)                  | 1958 | December | War         |  99 | USA:Approved |\n",
       "| Swiss Army Man (2016)              | 2016 | November | Drama       |  97 | USA:R        |\n",
       "| The Affairs of Dobie Gillis (1953) | 1953 | November | Musical     |  72 | USA:Approved |\n",
       "\n"
      ],
      "text/plain": [
       "  movie                              year month    genre       runtime\n",
       "1 Air Force (1943)                   1943 February Action      124    \n",
       "2 The Interrupters (2011)            2011 August   Documentary 125    \n",
       "3 China Doll (1958)                  1958 December War          99    \n",
       "4 Swiss Army Man (2016)              2016 November Drama        97    \n",
       "5 The Affairs of Dobie Gillis (1953) 1953 November Musical      72    \n",
       "  rating      \n",
       "1 USA:Approved\n",
       "2 USA:Unrated \n",
       "3 USA:Approved\n",
       "4 USA:R       \n",
       "5 USA:Approved"
>>>>>>> 21e497a6b72f0206ee64b8e09cfd976cc3acbe0a
      ]
     },
     "metadata": {},
     "output_type": "display_data"
    }
   ],
   "source": [
    "# preview the top 5 rows\n",
    "head(data, 5)\n",
    "\n",
    "# get a random sample of 5 rows\n",
    "sample_n(data, 5)"
   ]
  },
  {
   "cell_type": "code",
   "execution_count": 10,
   "metadata": {},
   "outputs": [
    {
     "name": "stdout",
     "output_type": "stream",
     "text": [
      "[1] \"---- years range from: 1912-2019\"\n"
     ]
    }
   ],
   "source": [
    "# get min and max years\n",
    "min_year_all <- min(data$year)\n",
    "max_year_all <- max(data$year)\n",
    "print(paste0(\"---- years range from: \", min_year_all, \"-\", max_year_all))"
   ]
  },
  {
   "cell_type": "code",
   "execution_count": 11,
   "metadata": {},
   "outputs": [
    {
     "name": "stdout",
     "output_type": "stream",
     "text": [
      "[1] \"---- decades range from: 1910-2010\"\n"
     ]
    }
   ],
   "source": [
    "# get min and max decades\n",
    "min_decade_all <- floor(min(data$year) / 10) * 10\n",
    "max_decade_all <- floor(max(data$year) / 10) * 10\n",
    "print(paste0(\"---- decades range from: \", min_decade_all, \"-\", max_decade_all))"
   ]
  },
  {
   "cell_type": "code",
   "execution_count": 12,
   "metadata": {},
   "outputs": [
    {
     "name": "stdout",
     "output_type": "stream",
     "text": [
      "[1] \"---- runtimes range from: 60-453 minutes\"\n"
     ]
    }
   ],
   "source": [
    "# get min and max runtimes\n",
    "min_runtime_all <- min(data$runtime)\n",
    "max_runtime_all <- max(data$runtime)\n",
    "print(paste0(\"---- runtimes range from: \", min_runtime_all, \"-\", max_runtime_all, \" minutes\"))"
   ]
  },
  {
   "cell_type": "code",
   "execution_count": 13,
   "metadata": {},
   "outputs": [],
   "source": [
    "############## COUNT/DISTRIBUTION TABLES BELOW ##############"
   ]
  },
  {
   "cell_type": "code",
<<<<<<< HEAD
   "execution_count": 14,
=======
   "execution_count": 66,
>>>>>>> 21e497a6b72f0206ee64b8e09cfd976cc3acbe0a
   "metadata": {},
   "outputs": [],
   "source": [
    "# function to get a count of movies from each year as a table (same as above)\n",
    "number_films_per_year = function(table) {\n",
    "    \n",
    "    # create empty dataframe of all years in range from calculated min to max\n",
    "    all_years <- data.frame(formatC(min_year_all:max_year_all, width = 2), 0)\n",
    "    names(all_years)[1] <- \"year\"\n",
    "    names(all_years)[2] <- \"count\"\n",
    "    all_years$year <- c(min_year_all:max_year_all)\n",
    "    \n",
    "    # make dataframe of available years and their frequency\n",
    "    by_year <- table %>% group_by(year) %>% summarize(count = n())\n",
    "    \n",
    "    # join the counts into the full range of years dataframe\n",
    "    by_year <- full_join(all_years, by_year, by = \"year\")\n",
    "    by_year[is.na(by_year)] <- 0\n",
    "    by_year$count.x <- NULL\n",
    "    names(by_year)[2] <- \"count\"\n",
    "    \n",
    "    # output info\n",
    "    total_films = as.numeric(sum(by_year$count))\n",
    "    print(paste0(\"---- total counted= \", total_films))\n",
    "    unique_years = as.numeric(count(by_year))\n",
    "    print(paste0(\"---- unique years= \", unique_years))\n",
    "    \n",
    "    # return the table of counts per year\n",
    "    by_year\n",
    "}\n",
    "\n",
    "# function to get a count of movies from each decade as a table\n",
    "number_films_per_decade = function(table) {\n",
    "    \n",
    "    # create empty dataframe of each decade in range from calculated min to max\n",
    "    all_decades <- data.frame(formatC(1:((max_decade_all - min_decade_all) / 10 + 1), width = 2), 0)\n",
    "    names(all_decades)[1] <- \"decade\"\n",
    "    names(all_decades)[2] <- \"count\"\n",
    "    all_decades$decade <- seq(from = min_decade_all, to = max_decade_all, by = 10)\n",
    "    \n",
    "    # INEFFICIENT NESTED LOOP, IDEALLY A GROUP_BY OR SOMETHING BETTER\n",
    "    # loop through each movie in given table\n",
    "    for (row in 1:as.numeric(count(table))) {\n",
    "        \n",
    "        # get the current movie's decade it belongs to\n",
    "        curr_decade = floor(table$year[row] / 10) * 10\n",
    "        \n",
    "        # loop through each decade\n",
    "        for (i in 1:as.numeric(count(all_decades))) {\n",
    "            \n",
    "            # increment the decade count for found decade\n",
    "            if (curr_decade == all_decades$decade[i]) {\n",
    "                all_decades$count[i] <- all_decades$count[i] + 1\n",
    "                break\n",
    "            }\n",
    "        }\n",
    "    }\n",
    "    \n",
    "    # output info\n",
    "    total_films = as.numeric(sum(all_decades$count))\n",
    "    print(paste0(\"---- total counted= \", total_films))\n",
    "    unique_decades = as.numeric(count(all_decades))\n",
    "    print(paste0(\"---- unique decades= \", unique_decades))\n",
    "    \n",
    "    # return the table of counts per decade\n",
    "    all_decades\n",
    "}\n",
    "\n",
    "# function to get a count of movies from each month as a table\n",
    "number_films_per_month = function(table) {\n",
    "    \n",
    "    # get a count of movies from each month\n",
    "    by_month <- table %>% group_by(month) %>% summarize(count = n())\n",
    "\n",
    "    # reorder months to be in order\n",
    "    by_month$month <- factor(by_month$month, levels = c(\"January\", \"February\", \"March\", \"April\", \"May\", \"June\", \"July\", \"August\", \"September\", \"October\", \"November\", \"December\"))\n",
    "    by_month <- by_month[order(by_month$month), ]\n",
    "\n",
    "    # output info\n",
    "    by_month\n",
    "    print(paste0(\"---- total counted= \", sum(by_month$count)))\n",
    "    unique_months = as.numeric(count(by_month))\n",
    "    print(paste0(\"---- unique months= \", unique_months))\n",
    "    \n",
    "    # return the table of counts per month\n",
    "    by_month\n",
    "}\n",
    "\n",
    "# function to get a distribution of runtimes as a table\n",
    "distribution_of_runtimes = function(table) {\n",
    "    \n",
    "    # create empty dataframe of all runtimes in range from min to max\n",
    "    all_runtimes <- data.frame(formatC(min_runtime_all:max_runtime_all, width = 2), 0)\n",
    "    names(all_runtimes)[1] <- \"runtime\"\n",
    "    names(all_runtimes)[2] <- \"count\"\n",
    "    all_runtimes$runtime <- c(min_runtime_all:max_runtime_all)\n",
    "\n",
    "    # make dataframe of available runtimes and their frequency\n",
    "    by_runtime <- table %>% group_by(runtime) %>% summarize(count = n())\n",
    "\n",
    "    # join the counts into the full range of years dataframe\n",
    "    by_runtime <- full_join(all_runtimes, by_runtime, by = \"runtime\")\n",
    "    by_runtime[is.na(by_runtime)] <- 0\n",
    "    by_runtime$count.x <- NULL\n",
    "    names(by_runtime)[2] <- \"count\"\n",
    "\n",
    "    # output info\n",
    "    head(by_runtime, 10)\n",
    "    print(paste0(\"---- total counted= \", sum(by_runtime$count)))\n",
    "    unique_runtimes = as.numeric(count(by_runtime))\n",
    "    print(paste0(\"---- unique runtimes= \", unique_runtimes))\n",
    "    \n",
    "    # return the distribution of runtimes\n",
    "    by_runtime\n",
    "}\n",
    "\n",
    "# function to get a distribution of certificates as a table\n",
    "distribution_of_certificates = function(table) {\n",
    "    \n",
    "    # get a distribution of certificate\n",
    "    by_certificates <- table %>% group_by(rating) %>% summarize(count = n())\n",
    "\n",
    "    # output info\n",
    "    print(paste0(\"---- total counted= \", sum(by_certificates$count)))\n",
    "    unique_certificates = as.numeric(count(by_certificates))\n",
    "    print(paste0(\"---- unique certificates= \", unique_certificates))\n",
    "    \n",
    "    # return the distribution of certificates\n",
    "    by_certificates\n",
    "}\n",
    "\n",
    "# function to get a distribution of genres as a table\n",
    "distribution_of_genres = function(table) {\n",
    "    \n",
    "    # get a distribution of genres\n",
    "    by_genre <- table %>% group_by(genre) %>% summarize(count = n())\n",
    "\n",
    "    # output info\n",
    "    print(paste0(\"---- total counted= \", sum(by_genre$count)))\n",
    "    unique_genres = as.numeric(count(by_genre))\n",
    "    print(paste0(\"---- unique genres= \", unique_genres))\n",
    "    \n",
    "    # return the distribution of genres\n",
    "    by_genre\n",
    "}\n",
    "\n",
    "# function to get a distribution of top n keywords as a table\n",
    "distribution_of_keywords = function(table, n) {\n",
    "\n",
    "    # get a distribution of top n keywords\n",
    "    by_keywords <- table %>% group_by(keyword) %>% summarize(count = n())\n",
    "\n",
    "    # output info\n",
    "    by_keywords <- top_n(by_keywords, n) %>% arrange(desc(count))\n",
    "    print(paste0(\"---- total counted= \", sum(by_keywords$count)))\n",
    "    unique_keywords = as.numeric(count(by_keywords))\n",
    "    print(paste0(\"---- unique keywords= \", unique_keywords))\n",
    "    \n",
    "    # return the distribution of top n keywords\n",
    "    by_keywords\n",
    "}\n"
   ]
  },
  {
   "cell_type": "code",
   "execution_count": 15,
   "metadata": {},
   "outputs": [
    {
     "name": "stdout",
     "output_type": "stream",
     "text": [
      "[1] \"---- total counted= 36596\"\n",
      "[1] \"---- unique years= 108\"\n"
     ]
    },
    {
     "data": {
      "text/html": [
       "<table>\n",
       "<caption>A data.frame: 5 × 2</caption>\n",
       "<thead>\n",
       "\t<tr><th scope=col>year</th><th scope=col>count</th></tr>\n",
       "\t<tr><th scope=col>&lt;int&gt;</th><th scope=col>&lt;int&gt;</th></tr>\n",
       "</thead>\n",
       "<tbody>\n",
<<<<<<< HEAD
       "\t<tr><td>1940</td><td>345</td></tr>\n",
       "\t<tr><td>1952</td><td>265</td></tr>\n",
       "\t<tr><td>1949</td><td>260</td></tr>\n",
       "\t<tr><td>1959</td><td>158</td></tr>\n",
       "\t<tr><td>1992</td><td>407</td></tr>\n",
=======
       "\t<tr><td>1939</td><td>371</td></tr>\n",
       "\t<tr><td>1993</td><td>422</td></tr>\n",
       "\t<tr><td>1954</td><td>258</td></tr>\n",
       "\t<tr><td>2001</td><td>676</td></tr>\n",
       "\t<tr><td>2010</td><td>769</td></tr>\n",
>>>>>>> 21e497a6b72f0206ee64b8e09cfd976cc3acbe0a
       "</tbody>\n",
       "</table>\n"
      ],
      "text/latex": [
       "A data.frame: 5 × 2\n",
       "\\begin{tabular}{ll}\n",
       " year & count\\\\\n",
       " <int> & <int>\\\\\n",
       "\\hline\n",
<<<<<<< HEAD
       "\t 1940 & 345\\\\\n",
       "\t 1952 & 265\\\\\n",
       "\t 1949 & 260\\\\\n",
       "\t 1959 & 158\\\\\n",
       "\t 1992 & 407\\\\\n",
=======
       "\t 1939 & 371\\\\\n",
       "\t 1993 & 422\\\\\n",
       "\t 1954 & 258\\\\\n",
       "\t 2001 & 676\\\\\n",
       "\t 2010 & 769\\\\\n",
>>>>>>> 21e497a6b72f0206ee64b8e09cfd976cc3acbe0a
       "\\end{tabular}\n"
      ],
      "text/markdown": [
       "\n",
       "A data.frame: 5 × 2\n",
       "\n",
       "| year &lt;int&gt; | count &lt;int&gt; |\n",
       "|---|---|\n",
<<<<<<< HEAD
       "| 1940 | 345 |\n",
       "| 1952 | 265 |\n",
       "| 1949 | 260 |\n",
       "| 1959 | 158 |\n",
       "| 1992 | 407 |\n",
=======
       "| 1939 | 371 |\n",
       "| 1993 | 422 |\n",
       "| 1954 | 258 |\n",
       "| 2001 | 676 |\n",
       "| 2010 | 769 |\n",
>>>>>>> 21e497a6b72f0206ee64b8e09cfd976cc3acbe0a
       "\n"
      ],
      "text/plain": [
       "  year count\n",
<<<<<<< HEAD
       "1 1940 345  \n",
       "2 1952 265  \n",
       "3 1949 260  \n",
       "4 1959 158  \n",
       "5 1992 407  "
=======
       "1 1939 371  \n",
       "2 1993 422  \n",
       "3 1954 258  \n",
       "4 2001 676  \n",
       "5 2010 769  "
>>>>>>> 21e497a6b72f0206ee64b8e09cfd976cc3acbe0a
      ]
     },
     "metadata": {},
     "output_type": "display_data"
    }
   ],
   "source": [
    "# get a count of movies from each year (for entire data (of unique movies))\n",
    "by_year <- number_films_per_year(unique_movies)\n",
    "sample_n(by_year, 5)"
   ]
  },
  {
   "cell_type": "code",
   "execution_count": 16,
   "metadata": {},
   "outputs": [
    {
     "name": "stdout",
     "output_type": "stream",
     "text": [
      "[1] \"---- total counted= 36596\"\n",
      "[1] \"---- unique decades= 11\"\n"
     ]
    },
    {
     "data": {
      "text/html": [
       "<table>\n",
       "<caption>A data.frame: 11 × 2</caption>\n",
       "<thead>\n",
       "\t<tr><th scope=col>decade</th><th scope=col>count</th></tr>\n",
       "\t<tr><th scope=col>&lt;dbl&gt;</th><th scope=col>&lt;dbl&gt;</th></tr>\n",
       "</thead>\n",
       "<tbody>\n",
       "\t<tr><td>1910</td><td>  34</td></tr>\n",
       "\t<tr><td>1920</td><td> 494</td></tr>\n",
       "\t<tr><td>1930</td><td>3031</td></tr>\n",
       "\t<tr><td>1940</td><td>3049</td></tr>\n",
       "\t<tr><td>1950</td><td>2475</td></tr>\n",
       "\t<tr><td>1960</td><td>1583</td></tr>\n",
       "\t<tr><td>1970</td><td>3517</td></tr>\n",
       "\t<tr><td>1980</td><td>3754</td></tr>\n",
       "\t<tr><td>1990</td><td>4916</td></tr>\n",
       "\t<tr><td>2000</td><td>7551</td></tr>\n",
       "\t<tr><td>2010</td><td>6192</td></tr>\n",
       "</tbody>\n",
       "</table>\n"
      ],
      "text/latex": [
       "A data.frame: 11 × 2\n",
       "\\begin{tabular}{ll}\n",
       " decade & count\\\\\n",
       " <dbl> & <dbl>\\\\\n",
       "\\hline\n",
       "\t 1910 &   34\\\\\n",
       "\t 1920 &  494\\\\\n",
       "\t 1930 & 3031\\\\\n",
       "\t 1940 & 3049\\\\\n",
       "\t 1950 & 2475\\\\\n",
       "\t 1960 & 1583\\\\\n",
       "\t 1970 & 3517\\\\\n",
       "\t 1980 & 3754\\\\\n",
       "\t 1990 & 4916\\\\\n",
       "\t 2000 & 7551\\\\\n",
       "\t 2010 & 6192\\\\\n",
       "\\end{tabular}\n"
      ],
      "text/markdown": [
       "\n",
       "A data.frame: 11 × 2\n",
       "\n",
       "| decade &lt;dbl&gt; | count &lt;dbl&gt; |\n",
       "|---|---|\n",
       "| 1910 |   34 |\n",
       "| 1920 |  494 |\n",
       "| 1930 | 3031 |\n",
       "| 1940 | 3049 |\n",
       "| 1950 | 2475 |\n",
       "| 1960 | 1583 |\n",
       "| 1970 | 3517 |\n",
       "| 1980 | 3754 |\n",
       "| 1990 | 4916 |\n",
       "| 2000 | 7551 |\n",
       "| 2010 | 6192 |\n",
       "\n"
      ],
      "text/plain": [
       "   decade count\n",
       "1  1910     34 \n",
       "2  1920    494 \n",
       "3  1930   3031 \n",
       "4  1940   3049 \n",
       "5  1950   2475 \n",
       "6  1960   1583 \n",
       "7  1970   3517 \n",
       "8  1980   3754 \n",
       "9  1990   4916 \n",
       "10 2000   7551 \n",
       "11 2010   6192 "
      ]
     },
     "metadata": {},
     "output_type": "display_data"
    }
   ],
   "source": [
    "# get a count of movies from each decade (for entire data (of unique movies), takes a minute)\n",
    "by_decade <- number_films_per_decade(unique_movies)\n",
    "by_decade"
   ]
  },
  {
   "cell_type": "code",
   "execution_count": 17,
   "metadata": {},
   "outputs": [
    {
     "data": {
      "text/html": [
       "<table>\n",
       "<caption>A data.frame: 18 × 6</caption>\n",
       "<thead>\n",
       "\t<tr><th></th><th scope=col>movie</th><th scope=col>year</th><th scope=col>month</th><th scope=col>genre</th><th scope=col>runtime</th><th scope=col>rating</th></tr>\n",
       "\t<tr><th></th><th scope=col>&lt;chr&gt;</th><th scope=col>&lt;int&gt;</th><th scope=col>&lt;fct&gt;</th><th scope=col>&lt;fct&gt;</th><th scope=col>&lt;dbl&gt;</th><th scope=col>&lt;fct&gt;</th></tr>\n",
       "</thead>\n",
       "<tbody>\n",
       "\t<tr><th scope=row>1119396</th><td>John Wick: Chapter 2 (2017)</td><td>2017</td><td>January </td><td>Action  </td><td>122</td><td>USA:R</td></tr>\n",
       "\t<tr><th scope=row>1119397</th><td>John Wick: Chapter 2 (2017)</td><td>2017</td><td>February</td><td>Action  </td><td>122</td><td>USA:R</td></tr>\n",
       "\t<tr><th scope=row>1119461</th><td>John Wick: Chapter 2 (2017)</td><td>2017</td><td>March   </td><td>Action  </td><td>122</td><td>USA:R</td></tr>\n",
       "\t<tr><th scope=row>1119464</th><td>John Wick: Chapter 2 (2017)</td><td>2017</td><td>April   </td><td>Action  </td><td>122</td><td>USA:R</td></tr>\n",
       "\t<tr><th scope=row>1119465</th><td>John Wick: Chapter 2 (2017)</td><td>2017</td><td>May     </td><td>Action  </td><td>122</td><td>USA:R</td></tr>\n",
       "\t<tr><th scope=row>1119467</th><td>John Wick: Chapter 2 (2017)</td><td>2017</td><td>July    </td><td>Action  </td><td>122</td><td>USA:R</td></tr>\n",
       "\t<tr><th scope=row>1119468</th><td>John Wick: Chapter 2 (2017)</td><td>2017</td><td>January </td><td>Crime   </td><td>122</td><td>USA:R</td></tr>\n",
       "\t<tr><th scope=row>1119469</th><td>John Wick: Chapter 2 (2017)</td><td>2017</td><td>February</td><td>Crime   </td><td>122</td><td>USA:R</td></tr>\n",
       "\t<tr><th scope=row>1119533</th><td>John Wick: Chapter 2 (2017)</td><td>2017</td><td>March   </td><td>Crime   </td><td>122</td><td>USA:R</td></tr>\n",
       "\t<tr><th scope=row>1119536</th><td>John Wick: Chapter 2 (2017)</td><td>2017</td><td>April   </td><td>Crime   </td><td>122</td><td>USA:R</td></tr>\n",
       "\t<tr><th scope=row>1119537</th><td>John Wick: Chapter 2 (2017)</td><td>2017</td><td>May     </td><td>Crime   </td><td>122</td><td>USA:R</td></tr>\n",
       "\t<tr><th scope=row>1119539</th><td>John Wick: Chapter 2 (2017)</td><td>2017</td><td>July    </td><td>Crime   </td><td>122</td><td>USA:R</td></tr>\n",
       "\t<tr><th scope=row>1119540</th><td>John Wick: Chapter 2 (2017)</td><td>2017</td><td>January </td><td>Thriller</td><td>122</td><td>USA:R</td></tr>\n",
       "\t<tr><th scope=row>1119541</th><td>John Wick: Chapter 2 (2017)</td><td>2017</td><td>February</td><td>Thriller</td><td>122</td><td>USA:R</td></tr>\n",
       "\t<tr><th scope=row>1119605</th><td>John Wick: Chapter 2 (2017)</td><td>2017</td><td>March   </td><td>Thriller</td><td>122</td><td>USA:R</td></tr>\n",
       "\t<tr><th scope=row>1119608</th><td>John Wick: Chapter 2 (2017)</td><td>2017</td><td>April   </td><td>Thriller</td><td>122</td><td>USA:R</td></tr>\n",
       "\t<tr><th scope=row>1119609</th><td>John Wick: Chapter 2 (2017)</td><td>2017</td><td>May     </td><td>Thriller</td><td>122</td><td>USA:R</td></tr>\n",
       "\t<tr><th scope=row>1119611</th><td>John Wick: Chapter 2 (2017)</td><td>2017</td><td>July    </td><td>Thriller</td><td>122</td><td>USA:R</td></tr>\n",
       "</tbody>\n",
       "</table>\n"
      ],
      "text/latex": [
       "A data.frame: 18 × 6\n",
       "\\begin{tabular}{r|llllll}\n",
       "  & movie & year & month & genre & runtime & rating\\\\\n",
       "  & <chr> & <int> & <fct> & <fct> & <dbl> & <fct>\\\\\n",
       "\\hline\n",
       "\t1119396 & John Wick: Chapter 2 (2017) & 2017 & January  & Action   & 122 & USA:R\\\\\n",
       "\t1119397 & John Wick: Chapter 2 (2017) & 2017 & February & Action   & 122 & USA:R\\\\\n",
       "\t1119461 & John Wick: Chapter 2 (2017) & 2017 & March    & Action   & 122 & USA:R\\\\\n",
       "\t1119464 & John Wick: Chapter 2 (2017) & 2017 & April    & Action   & 122 & USA:R\\\\\n",
       "\t1119465 & John Wick: Chapter 2 (2017) & 2017 & May      & Action   & 122 & USA:R\\\\\n",
       "\t1119467 & John Wick: Chapter 2 (2017) & 2017 & July     & Action   & 122 & USA:R\\\\\n",
       "\t1119468 & John Wick: Chapter 2 (2017) & 2017 & January  & Crime    & 122 & USA:R\\\\\n",
       "\t1119469 & John Wick: Chapter 2 (2017) & 2017 & February & Crime    & 122 & USA:R\\\\\n",
       "\t1119533 & John Wick: Chapter 2 (2017) & 2017 & March    & Crime    & 122 & USA:R\\\\\n",
       "\t1119536 & John Wick: Chapter 2 (2017) & 2017 & April    & Crime    & 122 & USA:R\\\\\n",
       "\t1119537 & John Wick: Chapter 2 (2017) & 2017 & May      & Crime    & 122 & USA:R\\\\\n",
       "\t1119539 & John Wick: Chapter 2 (2017) & 2017 & July     & Crime    & 122 & USA:R\\\\\n",
       "\t1119540 & John Wick: Chapter 2 (2017) & 2017 & January  & Thriller & 122 & USA:R\\\\\n",
       "\t1119541 & John Wick: Chapter 2 (2017) & 2017 & February & Thriller & 122 & USA:R\\\\\n",
       "\t1119605 & John Wick: Chapter 2 (2017) & 2017 & March    & Thriller & 122 & USA:R\\\\\n",
       "\t1119608 & John Wick: Chapter 2 (2017) & 2017 & April    & Thriller & 122 & USA:R\\\\\n",
       "\t1119609 & John Wick: Chapter 2 (2017) & 2017 & May      & Thriller & 122 & USA:R\\\\\n",
       "\t1119611 & John Wick: Chapter 2 (2017) & 2017 & July     & Thriller & 122 & USA:R\\\\\n",
       "\\end{tabular}\n"
      ],
      "text/markdown": [
       "\n",
       "A data.frame: 18 × 6\n",
       "\n",
       "| <!--/--> | movie &lt;chr&gt; | year &lt;int&gt; | month &lt;fct&gt; | genre &lt;fct&gt; | runtime &lt;dbl&gt; | rating &lt;fct&gt; |\n",
       "|---|---|---|---|---|---|---|\n",
       "| 1119396 | John Wick: Chapter 2 (2017) | 2017 | January  | Action   | 122 | USA:R |\n",
       "| 1119397 | John Wick: Chapter 2 (2017) | 2017 | February | Action   | 122 | USA:R |\n",
       "| 1119461 | John Wick: Chapter 2 (2017) | 2017 | March    | Action   | 122 | USA:R |\n",
       "| 1119464 | John Wick: Chapter 2 (2017) | 2017 | April    | Action   | 122 | USA:R |\n",
       "| 1119465 | John Wick: Chapter 2 (2017) | 2017 | May      | Action   | 122 | USA:R |\n",
       "| 1119467 | John Wick: Chapter 2 (2017) | 2017 | July     | Action   | 122 | USA:R |\n",
       "| 1119468 | John Wick: Chapter 2 (2017) | 2017 | January  | Crime    | 122 | USA:R |\n",
       "| 1119469 | John Wick: Chapter 2 (2017) | 2017 | February | Crime    | 122 | USA:R |\n",
       "| 1119533 | John Wick: Chapter 2 (2017) | 2017 | March    | Crime    | 122 | USA:R |\n",
       "| 1119536 | John Wick: Chapter 2 (2017) | 2017 | April    | Crime    | 122 | USA:R |\n",
       "| 1119537 | John Wick: Chapter 2 (2017) | 2017 | May      | Crime    | 122 | USA:R |\n",
       "| 1119539 | John Wick: Chapter 2 (2017) | 2017 | July     | Crime    | 122 | USA:R |\n",
       "| 1119540 | John Wick: Chapter 2 (2017) | 2017 | January  | Thriller | 122 | USA:R |\n",
       "| 1119541 | John Wick: Chapter 2 (2017) | 2017 | February | Thriller | 122 | USA:R |\n",
       "| 1119605 | John Wick: Chapter 2 (2017) | 2017 | March    | Thriller | 122 | USA:R |\n",
       "| 1119608 | John Wick: Chapter 2 (2017) | 2017 | April    | Thriller | 122 | USA:R |\n",
       "| 1119609 | John Wick: Chapter 2 (2017) | 2017 | May      | Thriller | 122 | USA:R |\n",
       "| 1119611 | John Wick: Chapter 2 (2017) | 2017 | July     | Thriller | 122 | USA:R |\n",
       "\n"
      ],
      "text/plain": [
       "        movie                       year month    genre    runtime rating\n",
       "1119396 John Wick: Chapter 2 (2017) 2017 January  Action   122     USA:R \n",
       "1119397 John Wick: Chapter 2 (2017) 2017 February Action   122     USA:R \n",
       "1119461 John Wick: Chapter 2 (2017) 2017 March    Action   122     USA:R \n",
       "1119464 John Wick: Chapter 2 (2017) 2017 April    Action   122     USA:R \n",
       "1119465 John Wick: Chapter 2 (2017) 2017 May      Action   122     USA:R \n",
       "1119467 John Wick: Chapter 2 (2017) 2017 July     Action   122     USA:R \n",
       "1119468 John Wick: Chapter 2 (2017) 2017 January  Crime    122     USA:R \n",
       "1119469 John Wick: Chapter 2 (2017) 2017 February Crime    122     USA:R \n",
       "1119533 John Wick: Chapter 2 (2017) 2017 March    Crime    122     USA:R \n",
       "1119536 John Wick: Chapter 2 (2017) 2017 April    Crime    122     USA:R \n",
       "1119537 John Wick: Chapter 2 (2017) 2017 May      Crime    122     USA:R \n",
       "1119539 John Wick: Chapter 2 (2017) 2017 July     Crime    122     USA:R \n",
       "1119540 John Wick: Chapter 2 (2017) 2017 January  Thriller 122     USA:R \n",
       "1119541 John Wick: Chapter 2 (2017) 2017 February Thriller 122     USA:R \n",
       "1119605 John Wick: Chapter 2 (2017) 2017 March    Thriller 122     USA:R \n",
       "1119608 John Wick: Chapter 2 (2017) 2017 April    Thriller 122     USA:R \n",
       "1119609 John Wick: Chapter 2 (2017) 2017 May      Thriller 122     USA:R \n",
       "1119611 John Wick: Chapter 2 (2017) 2017 July     Thriller 122     USA:R "
      ]
     },
     "metadata": {},
     "output_type": "display_data"
    }
   ],
   "source": [
    "# get rows for a movie by partial name (can exclude year from its name)\n",
    "# lots of movies have differing release months for some reason\n",
    "# this SHOULD output 3 rows, 1 for each genre but many release months prevents this :(\n",
    "jw2 <- data[str_detect(data$movie, \"John Wick: Chapter 2\"), ]\n",
    "jw2"
   ]
  },
  {
   "cell_type": "code",
   "execution_count": 18,
   "metadata": {},
   "outputs": [
    {
     "name": "stdout",
     "output_type": "stream",
     "text": [
      "[1] \"---- total counted= 36596\"\n",
      "[1] \"---- unique months= 12\"\n"
     ]
    },
    {
     "data": {
      "text/html": [
       "<table>\n",
       "<caption>A tibble: 12 × 2</caption>\n",
       "<thead>\n",
       "\t<tr><th scope=col>month</th><th scope=col>count</th></tr>\n",
       "\t<tr><th scope=col>&lt;fct&gt;</th><th scope=col>&lt;int&gt;</th></tr>\n",
       "</thead>\n",
       "<tbody>\n",
       "\t<tr><td>January  </td><td>3150</td></tr>\n",
       "\t<tr><td>February </td><td>2511</td></tr>\n",
       "\t<tr><td>March    </td><td>3105</td></tr>\n",
       "\t<tr><td>April    </td><td>3082</td></tr>\n",
       "\t<tr><td>May      </td><td>3485</td></tr>\n",
       "\t<tr><td>June     </td><td>2651</td></tr>\n",
       "\t<tr><td>July     </td><td>2410</td></tr>\n",
       "\t<tr><td>August   </td><td>2921</td></tr>\n",
       "\t<tr><td>September</td><td>4453</td></tr>\n",
       "\t<tr><td>October  </td><td>3478</td></tr>\n",
       "\t<tr><td>November </td><td>2667</td></tr>\n",
       "\t<tr><td>December </td><td>2683</td></tr>\n",
       "</tbody>\n",
       "</table>\n"
      ],
      "text/latex": [
       "A tibble: 12 × 2\n",
       "\\begin{tabular}{ll}\n",
       " month & count\\\\\n",
       " <fct> & <int>\\\\\n",
       "\\hline\n",
       "\t January   & 3150\\\\\n",
       "\t February  & 2511\\\\\n",
       "\t March     & 3105\\\\\n",
       "\t April     & 3082\\\\\n",
       "\t May       & 3485\\\\\n",
       "\t June      & 2651\\\\\n",
       "\t July      & 2410\\\\\n",
       "\t August    & 2921\\\\\n",
       "\t September & 4453\\\\\n",
       "\t October   & 3478\\\\\n",
       "\t November  & 2667\\\\\n",
       "\t December  & 2683\\\\\n",
       "\\end{tabular}\n"
      ],
      "text/markdown": [
       "\n",
       "A tibble: 12 × 2\n",
       "\n",
       "| month &lt;fct&gt; | count &lt;int&gt; |\n",
       "|---|---|\n",
       "| January   | 3150 |\n",
       "| February  | 2511 |\n",
       "| March     | 3105 |\n",
       "| April     | 3082 |\n",
       "| May       | 3485 |\n",
       "| June      | 2651 |\n",
       "| July      | 2410 |\n",
       "| August    | 2921 |\n",
       "| September | 4453 |\n",
       "| October   | 3478 |\n",
       "| November  | 2667 |\n",
       "| December  | 2683 |\n",
       "\n"
      ],
      "text/plain": [
       "   month     count\n",
       "1  January   3150 \n",
       "2  February  2511 \n",
       "3  March     3105 \n",
       "4  April     3082 \n",
       "5  May       3485 \n",
       "6  June      2651 \n",
       "7  July      2410 \n",
       "8  August    2921 \n",
       "9  September 4453 \n",
       "10 October   3478 \n",
       "11 November  2667 \n",
       "12 December  2683 "
      ]
     },
     "metadata": {},
     "output_type": "display_data"
    }
   ],
   "source": [
    "# !!!\n",
    "# since most movies have several months/genres as listed above, the leftover month\n",
    "# from the unique_films table might not be correct so the months table below is skewed\n",
    "# !!!\n",
    "\n",
    "# get a count of movies from each month (for entire data (of unique movies))\n",
    "by_month <- number_films_per_month(unique_movies)\n",
    "by_month"
   ]
  },
  {
   "cell_type": "code",
   "execution_count": 19,
   "metadata": {},
   "outputs": [
    {
     "name": "stdout",
     "output_type": "stream",
     "text": [
      "[1] \"---- total counted= 36596\"\n",
      "[1] \"---- unique runtimes= 395\"\n"
     ]
    },
    {
     "data": {
      "text/html": [
       "<table>\n",
       "<caption>A data.frame: 5 × 2</caption>\n",
       "<thead>\n",
       "\t<tr><th scope=col>runtime</th><th scope=col>count</th></tr>\n",
       "\t<tr><th scope=col>&lt;dbl&gt;</th><th scope=col>&lt;dbl&gt;</th></tr>\n",
       "</thead>\n",
       "<tbody>\n",
<<<<<<< HEAD
       "\t<tr><td>333</td><td>0</td></tr>\n",
       "\t<tr><td>415</td><td>0</td></tr>\n",
       "\t<tr><td>174</td><td>4</td></tr>\n",
       "\t<tr><td>236</td><td>1</td></tr>\n",
       "\t<tr><td>204</td><td>1</td></tr>\n",
=======
       "\t<tr><td>404</td><td>0</td></tr>\n",
       "\t<tr><td>418</td><td>0</td></tr>\n",
       "\t<tr><td>293</td><td>1</td></tr>\n",
       "\t<tr><td>392</td><td>0</td></tr>\n",
       "\t<tr><td>412</td><td>0</td></tr>\n",
>>>>>>> 21e497a6b72f0206ee64b8e09cfd976cc3acbe0a
       "</tbody>\n",
       "</table>\n"
      ],
      "text/latex": [
       "A data.frame: 5 × 2\n",
       "\\begin{tabular}{ll}\n",
       " runtime & count\\\\\n",
       " <dbl> & <dbl>\\\\\n",
       "\\hline\n",
<<<<<<< HEAD
       "\t 333 & 0\\\\\n",
       "\t 415 & 0\\\\\n",
       "\t 174 & 4\\\\\n",
       "\t 236 & 1\\\\\n",
       "\t 204 & 1\\\\\n",
=======
       "\t 404 & 0\\\\\n",
       "\t 418 & 0\\\\\n",
       "\t 293 & 1\\\\\n",
       "\t 392 & 0\\\\\n",
       "\t 412 & 0\\\\\n",
>>>>>>> 21e497a6b72f0206ee64b8e09cfd976cc3acbe0a
       "\\end{tabular}\n"
      ],
      "text/markdown": [
       "\n",
       "A data.frame: 5 × 2\n",
       "\n",
       "| runtime &lt;dbl&gt; | count &lt;dbl&gt; |\n",
       "|---|---|\n",
<<<<<<< HEAD
       "| 333 | 0 |\n",
       "| 415 | 0 |\n",
       "| 174 | 4 |\n",
       "| 236 | 1 |\n",
       "| 204 | 1 |\n",
=======
       "| 404 | 0 |\n",
       "| 418 | 0 |\n",
       "| 293 | 1 |\n",
       "| 392 | 0 |\n",
       "| 412 | 0 |\n",
>>>>>>> 21e497a6b72f0206ee64b8e09cfd976cc3acbe0a
       "\n"
      ],
      "text/plain": [
       "  runtime count\n",
<<<<<<< HEAD
       "1 333     0    \n",
       "2 415     0    \n",
       "3 174     4    \n",
       "4 236     1    \n",
       "5 204     1    "
=======
       "1 404     0    \n",
       "2 418     0    \n",
       "3 293     1    \n",
       "4 392     0    \n",
       "5 412     0    "
>>>>>>> 21e497a6b72f0206ee64b8e09cfd976cc3acbe0a
      ]
     },
     "metadata": {},
     "output_type": "display_data"
    }
   ],
   "source": [
    "# get a distribution of runtimes\n",
    "by_runtime <- distribution_of_runtimes(unique_movies)\n",
    "sample_n(by_runtime, 5)"
   ]
  },
  {
   "cell_type": "code",
   "execution_count": 20,
   "metadata": {},
   "outputs": [
    {
     "name": "stdout",
     "output_type": "stream",
     "text": [
      "[1] \"---- total counted= 36596\"\n",
      "[1] \"---- unique certificates= 12\"\n"
     ]
    },
    {
     "data": {
      "text/html": [
       "<table>\n",
       "<caption>A tibble: 12 × 2</caption>\n",
       "<thead>\n",
       "\t<tr><th scope=col>rating</th><th scope=col>count</th></tr>\n",
       "\t<tr><th scope=col>&lt;fct&gt;</th><th scope=col>&lt;int&gt;</th></tr>\n",
       "</thead>\n",
       "<tbody>\n",
       "\t<tr><td>USA:(Banned)</td><td>    1</td></tr>\n",
       "\t<tr><td>USA:12      </td><td>    4</td></tr>\n",
       "\t<tr><td>USA:AO      </td><td>    3</td></tr>\n",
       "\t<tr><td>USA:Approved</td><td> 6604</td></tr>\n",
       "\t<tr><td>USA:G       </td><td> 1175</td></tr>\n",
       "\t<tr><td>USA:GP      </td><td>  186</td></tr>\n",
       "\t<tr><td>USA:Open    </td><td>    9</td></tr>\n",
       "\t<tr><td>USA:Passed  </td><td> 2776</td></tr>\n",
       "\t<tr><td>USA:PG      </td><td> 4418</td></tr>\n",
       "\t<tr><td>USA:PG-13   </td><td> 4273</td></tr>\n",
       "\t<tr><td>USA:R       </td><td>14191</td></tr>\n",
       "\t<tr><td>USA:Unrated </td><td> 2956</td></tr>\n",
       "</tbody>\n",
       "</table>\n"
      ],
      "text/latex": [
       "A tibble: 12 × 2\n",
       "\\begin{tabular}{ll}\n",
       " rating & count\\\\\n",
       " <fct> & <int>\\\\\n",
       "\\hline\n",
       "\t USA:(Banned) &     1\\\\\n",
       "\t USA:12       &     4\\\\\n",
       "\t USA:AO       &     3\\\\\n",
       "\t USA:Approved &  6604\\\\\n",
       "\t USA:G        &  1175\\\\\n",
       "\t USA:GP       &   186\\\\\n",
       "\t USA:Open     &     9\\\\\n",
       "\t USA:Passed   &  2776\\\\\n",
       "\t USA:PG       &  4418\\\\\n",
       "\t USA:PG-13    &  4273\\\\\n",
       "\t USA:R        & 14191\\\\\n",
       "\t USA:Unrated  &  2956\\\\\n",
       "\\end{tabular}\n"
      ],
      "text/markdown": [
       "\n",
       "A tibble: 12 × 2\n",
       "\n",
       "| rating &lt;fct&gt; | count &lt;int&gt; |\n",
       "|---|---|\n",
       "| USA:(Banned) |     1 |\n",
       "| USA:12       |     4 |\n",
       "| USA:AO       |     3 |\n",
       "| USA:Approved |  6604 |\n",
       "| USA:G        |  1175 |\n",
       "| USA:GP       |   186 |\n",
       "| USA:Open     |     9 |\n",
       "| USA:Passed   |  2776 |\n",
       "| USA:PG       |  4418 |\n",
       "| USA:PG-13    |  4273 |\n",
       "| USA:R        | 14191 |\n",
       "| USA:Unrated  |  2956 |\n",
       "\n"
      ],
      "text/plain": [
       "   rating       count\n",
       "1  USA:(Banned)     1\n",
       "2  USA:12           4\n",
       "3  USA:AO           3\n",
       "4  USA:Approved  6604\n",
       "5  USA:G         1175\n",
       "6  USA:GP         186\n",
       "7  USA:Open         9\n",
       "8  USA:Passed    2776\n",
       "9  USA:PG        4418\n",
       "10 USA:PG-13     4273\n",
       "11 USA:R        14191\n",
       "12 USA:Unrated   2956"
      ]
     },
     "metadata": {},
     "output_type": "display_data"
    }
   ],
   "source": [
    "# get a distribution of certificate\n",
    "by_certificates <- distribution_of_certificates(unique_movies)\n",
    "by_certificates"
   ]
  },
  {
   "cell_type": "code",
   "execution_count": 21,
   "metadata": {},
   "outputs": [
    {
     "name": "stdout",
     "output_type": "stream",
     "text": [
      "[1] \"---- total counted= 36596\"\n",
      "[1] \"---- unique genres= 22\"\n"
     ]
    },
    {
     "data": {
      "text/html": [
       "<table>\n",
       "<caption>A tibble: 22 × 2</caption>\n",
       "<thead>\n",
       "\t<tr><th scope=col>genre</th><th scope=col>count</th></tr>\n",
       "\t<tr><th scope=col>&lt;fct&gt;</th><th scope=col>&lt;int&gt;</th></tr>\n",
       "</thead>\n",
       "<tbody>\n",
       "\t<tr><td>Action     </td><td>6226</td></tr>\n",
       "\t<tr><td>Adventure  </td><td>2399</td></tr>\n",
       "\t<tr><td>Animation  </td><td> 294</td></tr>\n",
       "\t<tr><td>Biography  </td><td>1172</td></tr>\n",
       "\t<tr><td>Comedy     </td><td>9399</td></tr>\n",
       "\t<tr><td>Crime      </td><td>2834</td></tr>\n",
       "\t<tr><td>Documentary</td><td>1255</td></tr>\n",
       "\t<tr><td>Drama      </td><td>8243</td></tr>\n",
       "\t<tr><td>Family     </td><td> 161</td></tr>\n",
       "\t<tr><td>Fantasy    </td><td> 162</td></tr>\n",
       "\t<tr><td>Film-Noir  </td><td>  33</td></tr>\n",
       "\t<tr><td>History    </td><td>  27</td></tr>\n",
       "\t<tr><td>Horror     </td><td>2230</td></tr>\n",
       "\t<tr><td>Music      </td><td>  71</td></tr>\n",
       "\t<tr><td>Musical    </td><td> 158</td></tr>\n",
       "\t<tr><td>Mystery    </td><td> 276</td></tr>\n",
       "\t<tr><td>Romance    </td><td> 232</td></tr>\n",
       "\t<tr><td>Sci-Fi     </td><td> 151</td></tr>\n",
       "\t<tr><td>Sport      </td><td>   8</td></tr>\n",
       "\t<tr><td>Thriller   </td><td> 467</td></tr>\n",
       "\t<tr><td>War        </td><td>  14</td></tr>\n",
       "\t<tr><td>Western    </td><td> 784</td></tr>\n",
       "</tbody>\n",
       "</table>\n"
      ],
      "text/latex": [
       "A tibble: 22 × 2\n",
       "\\begin{tabular}{ll}\n",
       " genre & count\\\\\n",
       " <fct> & <int>\\\\\n",
       "\\hline\n",
       "\t Action      & 6226\\\\\n",
       "\t Adventure   & 2399\\\\\n",
       "\t Animation   &  294\\\\\n",
       "\t Biography   & 1172\\\\\n",
       "\t Comedy      & 9399\\\\\n",
       "\t Crime       & 2834\\\\\n",
       "\t Documentary & 1255\\\\\n",
       "\t Drama       & 8243\\\\\n",
       "\t Family      &  161\\\\\n",
       "\t Fantasy     &  162\\\\\n",
       "\t Film-Noir   &   33\\\\\n",
       "\t History     &   27\\\\\n",
       "\t Horror      & 2230\\\\\n",
       "\t Music       &   71\\\\\n",
       "\t Musical     &  158\\\\\n",
       "\t Mystery     &  276\\\\\n",
       "\t Romance     &  232\\\\\n",
       "\t Sci-Fi      &  151\\\\\n",
       "\t Sport       &    8\\\\\n",
       "\t Thriller    &  467\\\\\n",
       "\t War         &   14\\\\\n",
       "\t Western     &  784\\\\\n",
       "\\end{tabular}\n"
      ],
      "text/markdown": [
       "\n",
       "A tibble: 22 × 2\n",
       "\n",
       "| genre &lt;fct&gt; | count &lt;int&gt; |\n",
       "|---|---|\n",
       "| Action      | 6226 |\n",
       "| Adventure   | 2399 |\n",
       "| Animation   |  294 |\n",
       "| Biography   | 1172 |\n",
       "| Comedy      | 9399 |\n",
       "| Crime       | 2834 |\n",
       "| Documentary | 1255 |\n",
       "| Drama       | 8243 |\n",
       "| Family      |  161 |\n",
       "| Fantasy     |  162 |\n",
       "| Film-Noir   |   33 |\n",
       "| History     |   27 |\n",
       "| Horror      | 2230 |\n",
       "| Music       |   71 |\n",
       "| Musical     |  158 |\n",
       "| Mystery     |  276 |\n",
       "| Romance     |  232 |\n",
       "| Sci-Fi      |  151 |\n",
       "| Sport       |    8 |\n",
       "| Thriller    |  467 |\n",
       "| War         |   14 |\n",
       "| Western     |  784 |\n",
       "\n"
      ],
      "text/plain": [
       "   genre       count\n",
       "1  Action      6226 \n",
       "2  Adventure   2399 \n",
       "3  Animation    294 \n",
       "4  Biography   1172 \n",
       "5  Comedy      9399 \n",
       "6  Crime       2834 \n",
       "7  Documentary 1255 \n",
       "8  Drama       8243 \n",
       "9  Family       161 \n",
       "10 Fantasy      162 \n",
       "11 Film-Noir     33 \n",
       "12 History       27 \n",
       "13 Horror      2230 \n",
       "14 Music         71 \n",
       "15 Musical      158 \n",
       "16 Mystery      276 \n",
       "17 Romance      232 \n",
       "18 Sci-Fi       151 \n",
       "19 Sport          8 \n",
       "20 Thriller     467 \n",
       "21 War           14 \n",
       "22 Western      784 "
      ]
     },
     "metadata": {},
     "output_type": "display_data"
    }
   ],
   "source": [
    "# get a distribution of genres\n",
    "by_genre <- distribution_of_genres(unique_movies)\n",
    "by_genre"
   ]
  },
  {
   "cell_type": "code",
   "execution_count": 22,
   "metadata": {},
   "outputs": [
    {
     "name": "stderr",
     "output_type": "stream",
     "text": [
      "Selecting by count\n",
      "\n"
<<<<<<< HEAD
     ]
    },
    {
     "name": "stdout",
     "output_type": "stream",
     "text": [
      "[1] \"---- total counted= 56048\"\n",
      "[1] \"---- unique keywords= 10\"\n"
     ]
    },
    {
=======
     ]
    },
    {
     "name": "stdout",
     "output_type": "stream",
     "text": [
      "[1] \"---- total counted= 56048\"\n",
      "[1] \"---- unique keywords= 10\"\n"
     ]
    },
    {
>>>>>>> 21e497a6b72f0206ee64b8e09cfd976cc3acbe0a
     "data": {
      "text/html": [
       "<table>\n",
       "<caption>A tibble: 10 × 2</caption>\n",
       "<thead>\n",
       "\t<tr><th scope=col>keyword</th><th scope=col>count</th></tr>\n",
       "\t<tr><th scope=col>&lt;fct&gt;</th><th scope=col>&lt;int&gt;</th></tr>\n",
       "</thead>\n",
       "<tbody>\n",
       "\t<tr><td>independent-film         </td><td>8987</td></tr>\n",
       "\t<tr><td>murder                   </td><td>8281</td></tr>\n",
       "\t<tr><td>death                    </td><td>5430</td></tr>\n",
       "\t<tr><td>female-nudity            </td><td>5256</td></tr>\n",
       "\t<tr><td>husband-wife-relationship</td><td>5138</td></tr>\n",
       "\t<tr><td>violence                 </td><td>4920</td></tr>\n",
       "\t<tr><td>based-on-novel           </td><td>4738</td></tr>\n",
       "\t<tr><td>blood                    </td><td>4523</td></tr>\n",
       "\t<tr><td>cigarette-smoking        </td><td>4398</td></tr>\n",
       "\t<tr><td>father-son-relationship  </td><td>4377</td></tr>\n",
       "</tbody>\n",
       "</table>\n"
      ],
      "text/latex": [
       "A tibble: 10 × 2\n",
       "\\begin{tabular}{ll}\n",
       " keyword & count\\\\\n",
       " <fct> & <int>\\\\\n",
       "\\hline\n",
       "\t independent-film          & 8987\\\\\n",
       "\t murder                    & 8281\\\\\n",
       "\t death                     & 5430\\\\\n",
       "\t female-nudity             & 5256\\\\\n",
       "\t husband-wife-relationship & 5138\\\\\n",
       "\t violence                  & 4920\\\\\n",
       "\t based-on-novel            & 4738\\\\\n",
       "\t blood                     & 4523\\\\\n",
       "\t cigarette-smoking         & 4398\\\\\n",
       "\t father-son-relationship   & 4377\\\\\n",
       "\\end{tabular}\n"
      ],
      "text/markdown": [
       "\n",
       "A tibble: 10 × 2\n",
       "\n",
       "| keyword &lt;fct&gt; | count &lt;int&gt; |\n",
       "|---|---|\n",
       "| independent-film          | 8987 |\n",
       "| murder                    | 8281 |\n",
       "| death                     | 5430 |\n",
       "| female-nudity             | 5256 |\n",
       "| husband-wife-relationship | 5138 |\n",
       "| violence                  | 4920 |\n",
       "| based-on-novel            | 4738 |\n",
       "| blood                     | 4523 |\n",
       "| cigarette-smoking         | 4398 |\n",
       "| father-son-relationship   | 4377 |\n",
       "\n"
      ],
      "text/plain": [
       "   keyword                   count\n",
       "1  independent-film          8987 \n",
       "2  murder                    8281 \n",
       "3  death                     5430 \n",
       "4  female-nudity             5256 \n",
       "5  husband-wife-relationship 5138 \n",
       "6  violence                  4920 \n",
       "7  based-on-novel            4738 \n",
       "8  blood                     4523 \n",
       "9  cigarette-smoking         4398 \n",
       "10 father-son-relationship   4377 "
      ]
     },
     "metadata": {},
     "output_type": "display_data"
    }
   ],
   "source": [
    "# get a distribution of top n keywords\n",
    "n = 10\n",
    "by_keywords <- distribution_of_keywords(keywords_subset, n)\n",
    "by_keywords"
   ]
  },
  {
   "cell_type": "code",
   "execution_count": 23,
   "metadata": {},
   "outputs": [],
   "source": [
    "############## AVERAGES BELOW ##############"
   ]
  },
  {
   "cell_type": "code",
   "execution_count": 24,
   "metadata": {},
   "outputs": [
    {
     "name": "stdout",
     "output_type": "stream",
     "text": [
      "[1] \"---- avg films per year= 338\"\n",
      "[1] \"---- avg films per month= 28\"\n"
     ]
    },
    {
     "data": {
      "text/html": [
       "<table>\n",
       "<caption>A tibble: 12 × 2</caption>\n",
       "<thead>\n",
       "\t<tr><th scope=col>month</th><th scope=col>average</th></tr>\n",
       "\t<tr><th scope=col>&lt;fct&gt;</th><th scope=col>&lt;dbl&gt;</th></tr>\n",
       "</thead>\n",
       "<tbody>\n",
       "\t<tr><td>January  </td><td>29.16667</td></tr>\n",
       "\t<tr><td>February </td><td>23.25000</td></tr>\n",
       "\t<tr><td>March    </td><td>28.75000</td></tr>\n",
       "\t<tr><td>April    </td><td>28.53704</td></tr>\n",
       "\t<tr><td>May      </td><td>32.26852</td></tr>\n",
       "\t<tr><td>June     </td><td>24.54630</td></tr>\n",
       "\t<tr><td>July     </td><td>22.31481</td></tr>\n",
       "\t<tr><td>August   </td><td>27.04630</td></tr>\n",
       "\t<tr><td>September</td><td>41.23148</td></tr>\n",
       "\t<tr><td>October  </td><td>32.20370</td></tr>\n",
       "\t<tr><td>November </td><td>24.69444</td></tr>\n",
       "\t<tr><td>December </td><td>24.84259</td></tr>\n",
       "</tbody>\n",
       "</table>\n"
      ],
      "text/latex": [
       "A tibble: 12 × 2\n",
       "\\begin{tabular}{ll}\n",
       " month & average\\\\\n",
       " <fct> & <dbl>\\\\\n",
       "\\hline\n",
       "\t January   & 29.16667\\\\\n",
       "\t February  & 23.25000\\\\\n",
       "\t March     & 28.75000\\\\\n",
       "\t April     & 28.53704\\\\\n",
       "\t May       & 32.26852\\\\\n",
       "\t June      & 24.54630\\\\\n",
       "\t July      & 22.31481\\\\\n",
       "\t August    & 27.04630\\\\\n",
       "\t September & 41.23148\\\\\n",
       "\t October   & 32.20370\\\\\n",
       "\t November  & 24.69444\\\\\n",
       "\t December  & 24.84259\\\\\n",
       "\\end{tabular}\n"
      ],
      "text/markdown": [
       "\n",
       "A tibble: 12 × 2\n",
       "\n",
       "| month &lt;fct&gt; | average &lt;dbl&gt; |\n",
       "|---|---|\n",
       "| January   | 29.16667 |\n",
       "| February  | 23.25000 |\n",
       "| March     | 28.75000 |\n",
       "| April     | 28.53704 |\n",
       "| May       | 32.26852 |\n",
       "| June      | 24.54630 |\n",
       "| July      | 22.31481 |\n",
       "| August    | 27.04630 |\n",
       "| September | 41.23148 |\n",
       "| October   | 32.20370 |\n",
       "| November  | 24.69444 |\n",
       "| December  | 24.84259 |\n",
       "\n"
      ],
      "text/plain": [
       "   month     average \n",
       "1  January   29.16667\n",
       "2  February  23.25000\n",
       "3  March     28.75000\n",
       "4  April     28.53704\n",
       "5  May       32.26852\n",
       "6  June      24.54630\n",
       "7  July      22.31481\n",
       "8  August    27.04630\n",
       "9  September 41.23148\n",
       "10 October   32.20370\n",
       "11 November  24.69444\n",
       "12 December  24.84259"
      ]
     },
     "metadata": {},
     "output_type": "display_data"
    },
    {
     "name": "stdout",
     "output_type": "stream",
     "text": [
      "[1] \"---- avg runtime= 95\"\n"
     ]
    }
   ],
   "source": [
    "# get average films per year, month, and average runtime\n",
    "\n",
    "# average fims per year: sum of films divided by total years observed\n",
    "#avg_per_year = trunc(total_films / unique_years)\n",
    "unique_years = as.numeric(count(by_year))\n",
    "avg_per_year = trunc(unique_films / unique_years)\n",
    "print(paste0(\"---- avg films per year= \", avg_per_year))\n",
    "\n",
    "# average films per month: sum of films each month, each sum divided by total years observed; then average these results\n",
    "unique_months = as.numeric(count(by_month))\n",
    "avg_by_month <- by_month\n",
    "avg_by_month$count <- by_month$count / unique_years\n",
    "names(avg_by_month)[2] <- \"average\"\n",
    "avg_per_month = trunc(as.numeric(sum(avg_by_month$average) / unique_months))\n",
    "print(paste0(\"---- avg films per month= \", avg_per_month))\n",
    "avg_by_month\n",
    "\n",
    "# average runtime: sum of each runtime divided by total runtime observations\n",
    "avg_runtime = trunc(mean(unique_movies$runtime))\n",
    "print(paste0(\"---- avg runtime= \", avg_runtime))"
   ]
  },
  {
   "cell_type": "code",
   "execution_count": 25,
   "metadata": {},
   "outputs": [],
   "source": [
    "############## CHOOSE YEAR OR DECADE ##############"
   ]
  },
  {
   "cell_type": "code",
   "execution_count": 26,
   "metadata": {},
   "outputs": [
    {
     "data": {
      "text/html": [
       "<table>\n",
       "<caption>A data.frame: 10 × 6</caption>\n",
       "<thead>\n",
       "\t<tr><th scope=col>movie</th><th scope=col>year</th><th scope=col>month</th><th scope=col>genre</th><th scope=col>runtime</th><th scope=col>rating</th></tr>\n",
       "\t<tr><th scope=col>&lt;chr&gt;</th><th scope=col>&lt;int&gt;</th><th scope=col>&lt;fct&gt;</th><th scope=col>&lt;fct&gt;</th><th scope=col>&lt;dbl&gt;</th><th scope=col>&lt;fct&gt;</th></tr>\n",
       "</thead>\n",
       "<tbody>\n",
<<<<<<< HEAD
       "\t<tr><td>Hearat Shulayim (2011)       </td><td>2011</td><td>October  </td><td>Drama    </td><td>103</td><td>USA:PG     </td></tr>\n",
       "\t<tr><td>Nothing in the Flowers (2011)</td><td>2011</td><td>December </td><td>Thriller </td><td> 80</td><td>USA:Unrated</td></tr>\n",
       "\t<tr><td>Beastly (2011)               </td><td>2011</td><td>March    </td><td>Fantasy  </td><td> 86</td><td>USA:PG-13  </td></tr>\n",
       "\t<tr><td>The Tree of Life (2011)      </td><td>2011</td><td>June     </td><td>Drama    </td><td>139</td><td>USA:PG-13  </td></tr>\n",
       "\t<tr><td>Winnie the Pooh (2011)       </td><td>2011</td><td>April    </td><td>Adventure</td><td> 63</td><td>USA:G      </td></tr>\n",
       "\t<tr><td>The Descendants (2011)       </td><td>2011</td><td>December </td><td>Comedy   </td><td>115</td><td>USA:R      </td></tr>\n",
       "\t<tr><td>The Moth Diaries (2011)      </td><td>2011</td><td>September</td><td>Drama    </td><td> 82</td><td>USA:R      </td></tr>\n",
       "\t<tr><td>Abduction (2011/I)           </td><td>2011</td><td>December </td><td>Action   </td><td>106</td><td>USA:PG-13  </td></tr>\n",
       "\t<tr><td>A Better Life (2011)         </td><td>2011</td><td>August   </td><td>Romance  </td><td> 98</td><td>USA:PG-13  </td></tr>\n",
       "\t<tr><td>The Tree of Life (2011)      </td><td>2011</td><td>August   </td><td>Fantasy  </td><td>139</td><td>USA:PG-13  </td></tr>\n",
=======
       "\t<tr><td>Corman's World: Exploits of a Hollywood Rebel (2011)</td><td>2011</td><td>November </td><td>Documentary</td><td> 86</td><td>USA:R      </td></tr>\n",
       "\t<tr><td>Into the Abyss (2011)                               </td><td>2011</td><td>September</td><td>Drama      </td><td>107</td><td>USA:PG-13  </td></tr>\n",
       "\t<tr><td>A Little Bit of Heaven (2011)                       </td><td>2011</td><td>August   </td><td>Drama      </td><td>106</td><td>USA:PG-13  </td></tr>\n",
       "\t<tr><td>Bully (2011/I)                                      </td><td>2011</td><td>October  </td><td>Documentary</td><td> 98</td><td>USA:R      </td></tr>\n",
       "\t<tr><td>Killing Bono (2011)                                 </td><td>2011</td><td>April    </td><td>Music      </td><td>114</td><td>USA:R      </td></tr>\n",
       "\t<tr><td>Kill the Irishman (2011)                            </td><td>2011</td><td>October  </td><td>Biography  </td><td>106</td><td>USA:R      </td></tr>\n",
       "\t<tr><td>The Big Bad (2011)                                  </td><td>2011</td><td>September</td><td>Horror     </td><td> 78</td><td>USA:R      </td></tr>\n",
       "\t<tr><td>The Dilemma (2011)                                  </td><td>2011</td><td>May      </td><td>Comedy     </td><td>111</td><td>USA:PG-13  </td></tr>\n",
       "\t<tr><td>Red State (2011)                                    </td><td>2011</td><td>January  </td><td>Horror     </td><td> 88</td><td>USA:R      </td></tr>\n",
       "\t<tr><td>S.O.S/State of Security (2011)                      </td><td>2011</td><td>April    </td><td>Documentary</td><td> 90</td><td>USA:Unrated</td></tr>\n",
>>>>>>> 21e497a6b72f0206ee64b8e09cfd976cc3acbe0a
       "</tbody>\n",
       "</table>\n"
      ],
      "text/latex": [
       "A data.frame: 10 × 6\n",
       "\\begin{tabular}{llllll}\n",
       " movie & year & month & genre & runtime & rating\\\\\n",
       " <chr> & <int> & <fct> & <fct> & <dbl> & <fct>\\\\\n",
       "\\hline\n",
<<<<<<< HEAD
       "\t Hearat Shulayim (2011)        & 2011 & October   & Drama     & 103 & USA:PG     \\\\\n",
       "\t Nothing in the Flowers (2011) & 2011 & December  & Thriller  &  80 & USA:Unrated\\\\\n",
       "\t Beastly (2011)                & 2011 & March     & Fantasy   &  86 & USA:PG-13  \\\\\n",
       "\t The Tree of Life (2011)       & 2011 & June      & Drama     & 139 & USA:PG-13  \\\\\n",
       "\t Winnie the Pooh (2011)        & 2011 & April     & Adventure &  63 & USA:G      \\\\\n",
       "\t The Descendants (2011)        & 2011 & December  & Comedy    & 115 & USA:R      \\\\\n",
       "\t The Moth Diaries (2011)       & 2011 & September & Drama     &  82 & USA:R      \\\\\n",
       "\t Abduction (2011/I)            & 2011 & December  & Action    & 106 & USA:PG-13  \\\\\n",
       "\t A Better Life (2011)          & 2011 & August    & Romance   &  98 & USA:PG-13  \\\\\n",
       "\t The Tree of Life (2011)       & 2011 & August    & Fantasy   & 139 & USA:PG-13  \\\\\n",
=======
       "\t Corman's World: Exploits of a Hollywood Rebel (2011) & 2011 & November  & Documentary &  86 & USA:R      \\\\\n",
       "\t Into the Abyss (2011)                                & 2011 & September & Drama       & 107 & USA:PG-13  \\\\\n",
       "\t A Little Bit of Heaven (2011)                        & 2011 & August    & Drama       & 106 & USA:PG-13  \\\\\n",
       "\t Bully (2011/I)                                       & 2011 & October   & Documentary &  98 & USA:R      \\\\\n",
       "\t Killing Bono (2011)                                  & 2011 & April     & Music       & 114 & USA:R      \\\\\n",
       "\t Kill the Irishman (2011)                             & 2011 & October   & Biography   & 106 & USA:R      \\\\\n",
       "\t The Big Bad (2011)                                   & 2011 & September & Horror      &  78 & USA:R      \\\\\n",
       "\t The Dilemma (2011)                                   & 2011 & May       & Comedy      & 111 & USA:PG-13  \\\\\n",
       "\t Red State (2011)                                     & 2011 & January   & Horror      &  88 & USA:R      \\\\\n",
       "\t S.O.S/State of Security (2011)                       & 2011 & April     & Documentary &  90 & USA:Unrated\\\\\n",
>>>>>>> 21e497a6b72f0206ee64b8e09cfd976cc3acbe0a
       "\\end{tabular}\n"
      ],
      "text/markdown": [
       "\n",
       "A data.frame: 10 × 6\n",
       "\n",
       "| movie &lt;chr&gt; | year &lt;int&gt; | month &lt;fct&gt; | genre &lt;fct&gt; | runtime &lt;dbl&gt; | rating &lt;fct&gt; |\n",
       "|---|---|---|---|---|---|\n",
<<<<<<< HEAD
       "| Hearat Shulayim (2011)        | 2011 | October   | Drama     | 103 | USA:PG      |\n",
       "| Nothing in the Flowers (2011) | 2011 | December  | Thriller  |  80 | USA:Unrated |\n",
       "| Beastly (2011)                | 2011 | March     | Fantasy   |  86 | USA:PG-13   |\n",
       "| The Tree of Life (2011)       | 2011 | June      | Drama     | 139 | USA:PG-13   |\n",
       "| Winnie the Pooh (2011)        | 2011 | April     | Adventure |  63 | USA:G       |\n",
       "| The Descendants (2011)        | 2011 | December  | Comedy    | 115 | USA:R       |\n",
       "| The Moth Diaries (2011)       | 2011 | September | Drama     |  82 | USA:R       |\n",
       "| Abduction (2011/I)            | 2011 | December  | Action    | 106 | USA:PG-13   |\n",
       "| A Better Life (2011)          | 2011 | August    | Romance   |  98 | USA:PG-13   |\n",
       "| The Tree of Life (2011)       | 2011 | August    | Fantasy   | 139 | USA:PG-13   |\n",
       "\n"
      ],
      "text/plain": [
       "   movie                         year month     genre     runtime rating     \n",
       "1  Hearat Shulayim (2011)        2011 October   Drama     103     USA:PG     \n",
       "2  Nothing in the Flowers (2011) 2011 December  Thriller   80     USA:Unrated\n",
       "3  Beastly (2011)                2011 March     Fantasy    86     USA:PG-13  \n",
       "4  The Tree of Life (2011)       2011 June      Drama     139     USA:PG-13  \n",
       "5  Winnie the Pooh (2011)        2011 April     Adventure  63     USA:G      \n",
       "6  The Descendants (2011)        2011 December  Comedy    115     USA:R      \n",
       "7  The Moth Diaries (2011)       2011 September Drama      82     USA:R      \n",
       "8  Abduction (2011/I)            2011 December  Action    106     USA:PG-13  \n",
       "9  A Better Life (2011)          2011 August    Romance    98     USA:PG-13  \n",
       "10 The Tree of Life (2011)       2011 August    Fantasy   139     USA:PG-13  "
=======
       "| Corman's World: Exploits of a Hollywood Rebel (2011) | 2011 | November  | Documentary |  86 | USA:R       |\n",
       "| Into the Abyss (2011)                                | 2011 | September | Drama       | 107 | USA:PG-13   |\n",
       "| A Little Bit of Heaven (2011)                        | 2011 | August    | Drama       | 106 | USA:PG-13   |\n",
       "| Bully (2011/I)                                       | 2011 | October   | Documentary |  98 | USA:R       |\n",
       "| Killing Bono (2011)                                  | 2011 | April     | Music       | 114 | USA:R       |\n",
       "| Kill the Irishman (2011)                             | 2011 | October   | Biography   | 106 | USA:R       |\n",
       "| The Big Bad (2011)                                   | 2011 | September | Horror      |  78 | USA:R       |\n",
       "| The Dilemma (2011)                                   | 2011 | May       | Comedy      | 111 | USA:PG-13   |\n",
       "| Red State (2011)                                     | 2011 | January   | Horror      |  88 | USA:R       |\n",
       "| S.O.S/State of Security (2011)                       | 2011 | April     | Documentary |  90 | USA:Unrated |\n",
       "\n"
      ],
      "text/plain": [
       "   movie                                                year month    \n",
       "1  Corman's World: Exploits of a Hollywood Rebel (2011) 2011 November \n",
       "2  Into the Abyss (2011)                                2011 September\n",
       "3  A Little Bit of Heaven (2011)                        2011 August   \n",
       "4  Bully (2011/I)                                       2011 October  \n",
       "5  Killing Bono (2011)                                  2011 April    \n",
       "6  Kill the Irishman (2011)                             2011 October  \n",
       "7  The Big Bad (2011)                                   2011 September\n",
       "8  The Dilemma (2011)                                   2011 May      \n",
       "9  Red State (2011)                                     2011 January  \n",
       "10 S.O.S/State of Security (2011)                       2011 April    \n",
       "   genre       runtime rating     \n",
       "1  Documentary  86     USA:R      \n",
       "2  Drama       107     USA:PG-13  \n",
       "3  Drama       106     USA:PG-13  \n",
       "4  Documentary  98     USA:R      \n",
       "5  Music       114     USA:R      \n",
       "6  Biography   106     USA:R      \n",
       "7  Horror       78     USA:R      \n",
       "8  Comedy      111     USA:PG-13  \n",
       "9  Horror       88     USA:R      \n",
       "10 Documentary  90     USA:Unrated"
>>>>>>> 21e497a6b72f0206ee64b8e09cfd976cc3acbe0a
      ]
     },
     "metadata": {},
     "output_type": "display_data"
    }
   ],
   "source": [
    "# get items by year\n",
    "selected_year = 2011\n",
    "\n",
    "# USE THIS ONE TO FETCH MOVIES BY YEAR FROM THEIR NAME (I noticed some movies have a different year than in the name, but possibly not in this combined table)\n",
    "# movie year found in movie name i.e. \"{Title} (2014)\" or \"{Title} (2014/I)\", extract year via pattern matching because year column is inaccurate for some reason\n",
    "#regex_year = paste0(\"\\\\(\", selected_year, \"\\\\)|\\\\(\", selected_year, \"\\\\/\")\n",
    "#movies_in_selected_year <- subset(data, grepl(regex_year, movie))\n",
    "\n",
    "# fetch the movies by the selected year\n",
    "movies_in_selected_year <- subset(data, year == selected_year)\n",
    "\n",
    "# output a sample of movies found for given year\n",
    "sample_n(movies_in_selected_year, 10)"
   ]
  },
  {
   "cell_type": "code",
   "execution_count": 27,
   "metadata": {},
   "outputs": [
    {
     "data": {
      "text/html": [
       "<table>\n",
       "<caption>A data.frame: 10 × 6</caption>\n",
       "<thead>\n",
       "\t<tr><th scope=col>movie</th><th scope=col>year</th><th scope=col>month</th><th scope=col>genre</th><th scope=col>runtime</th><th scope=col>rating</th></tr>\n",
       "\t<tr><th scope=col>&lt;chr&gt;</th><th scope=col>&lt;int&gt;</th><th scope=col>&lt;fct&gt;</th><th scope=col>&lt;fct&gt;</th><th scope=col>&lt;dbl&gt;</th><th scope=col>&lt;fct&gt;</th></tr>\n",
       "</thead>\n",
       "<tbody>\n",
<<<<<<< HEAD
       "\t<tr><td>Fifty Shades of Grey (2015)</td><td>2015</td><td>February </td><td>Thriller </td><td>125</td><td>USA:Unrated</td></tr>\n",
       "\t<tr><td>Rush (2013/I)              </td><td>2013</td><td>September</td><td>History  </td><td>123</td><td>USA:R      </td></tr>\n",
       "\t<tr><td>Red Hill (2010)            </td><td>2010</td><td>October  </td><td>Western  </td><td> 95</td><td>USA:R      </td></tr>\n",
       "\t<tr><td>Ted (2012)                 </td><td>2012</td><td>July     </td><td>Comedy   </td><td>112</td><td>USA:R      </td></tr>\n",
       "\t<tr><td>Ozzy (2016)                </td><td>2016</td><td>October  </td><td>Adventure</td><td> 90</td><td>USA:G      </td></tr>\n",
       "\t<tr><td>Under sandet (2015)        </td><td>2015</td><td>December </td><td>History  </td><td>100</td><td>USA:R      </td></tr>\n",
       "\t<tr><td>Lip Service (2013)         </td><td>2013</td><td>May      </td><td>Drama    </td><td> 90</td><td>USA:PG     </td></tr>\n",
       "\t<tr><td>Tour de Force (2010)       </td><td>2010</td><td>April    </td><td>Thriller </td><td> 91</td><td>USA:Unrated</td></tr>\n",
       "\t<tr><td>Deadheads (2011)           </td><td>2011</td><td>October  </td><td>Comedy   </td><td> 96</td><td>USA:R      </td></tr>\n",
       "\t<tr><td>A Royal Night Out (2015)   </td><td>2015</td><td>June     </td><td>Drama    </td><td> 97</td><td>USA:PG-13  </td></tr>\n",
=======
       "\t<tr><td>Beneath Hill 60 (2010) </td><td>2010</td><td>December </td><td>Drama    </td><td>122</td><td>USA:R    </td></tr>\n",
       "\t<tr><td>The Rover (2014)       </td><td>2014</td><td>May      </td><td>Drama    </td><td>103</td><td>USA:R    </td></tr>\n",
       "\t<tr><td>Don't Hang Up (2016)   </td><td>2016</td><td>October  </td><td>Thriller </td><td> 83</td><td>USA:R    </td></tr>\n",
       "\t<tr><td>Falcon Song (2014)     </td><td>2014</td><td>May      </td><td>Fantasy  </td><td>105</td><td>USA:PG   </td></tr>\n",
       "\t<tr><td>Elle (2016/I)          </td><td>2016</td><td>May      </td><td>Drama    </td><td>130</td><td>USA:R    </td></tr>\n",
       "\t<tr><td>Suburban Gothic (2014) </td><td>2014</td><td>October  </td><td>Comedy   </td><td> 90</td><td>USA:R    </td></tr>\n",
       "\t<tr><td>Guardianes de Oz (2015)</td><td>2015</td><td>September</td><td>Adventure</td><td> 86</td><td>USA:PG   </td></tr>\n",
       "\t<tr><td>The Roommate (2011/I)  </td><td>2011</td><td>February </td><td>Thriller </td><td> 91</td><td>USA:PG-13</td></tr>\n",
       "\t<tr><td>Under the Skin (2013/I)</td><td>2013</td><td>August   </td><td>Drama    </td><td>108</td><td>USA:R    </td></tr>\n",
       "\t<tr><td>Tekken (2010)          </td><td>2010</td><td>June     </td><td>Action   </td><td> 87</td><td>USA:R    </td></tr>\n",
>>>>>>> 21e497a6b72f0206ee64b8e09cfd976cc3acbe0a
       "</tbody>\n",
       "</table>\n"
      ],
      "text/latex": [
       "A data.frame: 10 × 6\n",
       "\\begin{tabular}{llllll}\n",
       " movie & year & month & genre & runtime & rating\\\\\n",
       " <chr> & <int> & <fct> & <fct> & <dbl> & <fct>\\\\\n",
       "\\hline\n",
<<<<<<< HEAD
       "\t Fifty Shades of Grey (2015) & 2015 & February  & Thriller  & 125 & USA:Unrated\\\\\n",
       "\t Rush (2013/I)               & 2013 & September & History   & 123 & USA:R      \\\\\n",
       "\t Red Hill (2010)             & 2010 & October   & Western   &  95 & USA:R      \\\\\n",
       "\t Ted (2012)                  & 2012 & July      & Comedy    & 112 & USA:R      \\\\\n",
       "\t Ozzy (2016)                 & 2016 & October   & Adventure &  90 & USA:G      \\\\\n",
       "\t Under sandet (2015)         & 2015 & December  & History   & 100 & USA:R      \\\\\n",
       "\t Lip Service (2013)          & 2013 & May       & Drama     &  90 & USA:PG     \\\\\n",
       "\t Tour de Force (2010)        & 2010 & April     & Thriller  &  91 & USA:Unrated\\\\\n",
       "\t Deadheads (2011)            & 2011 & October   & Comedy    &  96 & USA:R      \\\\\n",
       "\t A Royal Night Out (2015)    & 2015 & June      & Drama     &  97 & USA:PG-13  \\\\\n",
=======
       "\t Beneath Hill 60 (2010)  & 2010 & December  & Drama     & 122 & USA:R    \\\\\n",
       "\t The Rover (2014)        & 2014 & May       & Drama     & 103 & USA:R    \\\\\n",
       "\t Don't Hang Up (2016)    & 2016 & October   & Thriller  &  83 & USA:R    \\\\\n",
       "\t Falcon Song (2014)      & 2014 & May       & Fantasy   & 105 & USA:PG   \\\\\n",
       "\t Elle (2016/I)           & 2016 & May       & Drama     & 130 & USA:R    \\\\\n",
       "\t Suburban Gothic (2014)  & 2014 & October   & Comedy    &  90 & USA:R    \\\\\n",
       "\t Guardianes de Oz (2015) & 2015 & September & Adventure &  86 & USA:PG   \\\\\n",
       "\t The Roommate (2011/I)   & 2011 & February  & Thriller  &  91 & USA:PG-13\\\\\n",
       "\t Under the Skin (2013/I) & 2013 & August    & Drama     & 108 & USA:R    \\\\\n",
       "\t Tekken (2010)           & 2010 & June      & Action    &  87 & USA:R    \\\\\n",
>>>>>>> 21e497a6b72f0206ee64b8e09cfd976cc3acbe0a
       "\\end{tabular}\n"
      ],
      "text/markdown": [
       "\n",
       "A data.frame: 10 × 6\n",
       "\n",
       "| movie &lt;chr&gt; | year &lt;int&gt; | month &lt;fct&gt; | genre &lt;fct&gt; | runtime &lt;dbl&gt; | rating &lt;fct&gt; |\n",
       "|---|---|---|---|---|---|\n",
<<<<<<< HEAD
       "| Fifty Shades of Grey (2015) | 2015 | February  | Thriller  | 125 | USA:Unrated |\n",
       "| Rush (2013/I)               | 2013 | September | History   | 123 | USA:R       |\n",
       "| Red Hill (2010)             | 2010 | October   | Western   |  95 | USA:R       |\n",
       "| Ted (2012)                  | 2012 | July      | Comedy    | 112 | USA:R       |\n",
       "| Ozzy (2016)                 | 2016 | October   | Adventure |  90 | USA:G       |\n",
       "| Under sandet (2015)         | 2015 | December  | History   | 100 | USA:R       |\n",
       "| Lip Service (2013)          | 2013 | May       | Drama     |  90 | USA:PG      |\n",
       "| Tour de Force (2010)        | 2010 | April     | Thriller  |  91 | USA:Unrated |\n",
       "| Deadheads (2011)            | 2011 | October   | Comedy    |  96 | USA:R       |\n",
       "| A Royal Night Out (2015)    | 2015 | June      | Drama     |  97 | USA:PG-13   |\n",
       "\n"
      ],
      "text/plain": [
       "   movie                       year month     genre     runtime rating     \n",
       "1  Fifty Shades of Grey (2015) 2015 February  Thriller  125     USA:Unrated\n",
       "2  Rush (2013/I)               2013 September History   123     USA:R      \n",
       "3  Red Hill (2010)             2010 October   Western    95     USA:R      \n",
       "4  Ted (2012)                  2012 July      Comedy    112     USA:R      \n",
       "5  Ozzy (2016)                 2016 October   Adventure  90     USA:G      \n",
       "6  Under sandet (2015)         2015 December  History   100     USA:R      \n",
       "7  Lip Service (2013)          2013 May       Drama      90     USA:PG     \n",
       "8  Tour de Force (2010)        2010 April     Thriller   91     USA:Unrated\n",
       "9  Deadheads (2011)            2011 October   Comedy     96     USA:R      \n",
       "10 A Royal Night Out (2015)    2015 June      Drama      97     USA:PG-13  "
=======
       "| Beneath Hill 60 (2010)  | 2010 | December  | Drama     | 122 | USA:R     |\n",
       "| The Rover (2014)        | 2014 | May       | Drama     | 103 | USA:R     |\n",
       "| Don't Hang Up (2016)    | 2016 | October   | Thriller  |  83 | USA:R     |\n",
       "| Falcon Song (2014)      | 2014 | May       | Fantasy   | 105 | USA:PG    |\n",
       "| Elle (2016/I)           | 2016 | May       | Drama     | 130 | USA:R     |\n",
       "| Suburban Gothic (2014)  | 2014 | October   | Comedy    |  90 | USA:R     |\n",
       "| Guardianes de Oz (2015) | 2015 | September | Adventure |  86 | USA:PG    |\n",
       "| The Roommate (2011/I)   | 2011 | February  | Thriller  |  91 | USA:PG-13 |\n",
       "| Under the Skin (2013/I) | 2013 | August    | Drama     | 108 | USA:R     |\n",
       "| Tekken (2010)           | 2010 | June      | Action    |  87 | USA:R     |\n",
       "\n"
      ],
      "text/plain": [
       "   movie                   year month     genre     runtime rating   \n",
       "1  Beneath Hill 60 (2010)  2010 December  Drama     122     USA:R    \n",
       "2  The Rover (2014)        2014 May       Drama     103     USA:R    \n",
       "3  Don't Hang Up (2016)    2016 October   Thriller   83     USA:R    \n",
       "4  Falcon Song (2014)      2014 May       Fantasy   105     USA:PG   \n",
       "5  Elle (2016/I)           2016 May       Drama     130     USA:R    \n",
       "6  Suburban Gothic (2014)  2014 October   Comedy     90     USA:R    \n",
       "7  Guardianes de Oz (2015) 2015 September Adventure  86     USA:PG   \n",
       "8  The Roommate (2011/I)   2011 February  Thriller   91     USA:PG-13\n",
       "9  Under the Skin (2013/I) 2013 August    Drama     108     USA:R    \n",
       "10 Tekken (2010)           2010 June      Action     87     USA:R    "
>>>>>>> 21e497a6b72f0206ee64b8e09cfd976cc3acbe0a
      ]
     },
     "metadata": {},
     "output_type": "display_data"
    }
   ],
   "source": [
    "# get items by decade (where decades are in format of 1990, 2000, 2010, etc... for next 9 years, i.e. 1990-1999, 2000-2009, etc..)\n",
    "selected_decade = 2010\n",
    "\n",
    "# USE THIS ONE TO FETCH MOVIES BY YEAR FROM THEIR NAME\n",
    "# movie year found in movie name i.e. \"{Title} (2014)\" or \"{Title} (2014/I)\", extract decade via pattern matching for decade + 9\n",
    "#regex_decade = paste0(\"\\\\(\", selected_decade / 10, \"[0-9]\\\\)|\\\\(\", selected_decade / 10, \"[0-9]\\\\/\")\n",
    "#movies_in_selected_decade <- subset(data, grepl(regex_decade, movie))\n",
    "\n",
    "# fetch the movies by the selected year\n",
    "movies_in_selected_decade <- subset(data, year >= selected_decade & year < selected_decade + 10)\n",
    "\n",
    "# output a sample of movies found for given year\n",
    "sample_n(movies_in_selected_decade, 10)"
   ]
  },
  {
   "cell_type": "code",
   "execution_count": 28,
   "metadata": {},
   "outputs": [],
   "source": [
    "############## CHOOSE GENRE ##############"
   ]
  },
  {
   "cell_type": "code",
   "execution_count": 29,
   "metadata": {},
   "outputs": [
    {
     "data": {
      "text/html": [
       "<table>\n",
       "<caption>A data.frame: 10 × 6</caption>\n",
       "<thead>\n",
       "\t<tr><th scope=col>movie</th><th scope=col>year</th><th scope=col>month</th><th scope=col>genre</th><th scope=col>runtime</th><th scope=col>rating</th></tr>\n",
       "\t<tr><th scope=col>&lt;chr&gt;</th><th scope=col>&lt;int&gt;</th><th scope=col>&lt;fct&gt;</th><th scope=col>&lt;fct&gt;</th><th scope=col>&lt;dbl&gt;</th><th scope=col>&lt;fct&gt;</th></tr>\n",
       "</thead>\n",
       "<tbody>\n",
<<<<<<< HEAD
       "\t<tr><td>Super Size Me (2004)          </td><td>2004</td><td>December </td><td>Drama      </td><td>100</td><td>USA:PG      </td></tr>\n",
       "\t<tr><td>Mademoiselle Fifi (1944)      </td><td>1944</td><td>July     </td><td>Drama      </td><td> 69</td><td>USA:Approved</td></tr>\n",
       "\t<tr><td>Fat Kid Rules the World (2012)</td><td>2012</td><td>November </td><td>Comedy     </td><td> 98</td><td>USA:R       </td></tr>\n",
       "\t<tr><td>Ai no mukidashi (2008)        </td><td>2008</td><td>November </td><td>Comedy     </td><td>237</td><td>USA:Unrated </td></tr>\n",
       "\t<tr><td>Reckless (1984)               </td><td>1984</td><td>August   </td><td>Comedy     </td><td> 90</td><td>USA:R       </td></tr>\n",
       "\t<tr><td>Say Uncle (2005)              </td><td>2005</td><td>October  </td><td>Drama      </td><td> 91</td><td>USA:R       </td></tr>\n",
       "\t<tr><td>Goodbye, Mr. Chips (1939)     </td><td>1939</td><td>September</td><td>Drama      </td><td>114</td><td>USA:Passed  </td></tr>\n",
       "\t<tr><td>Tickled (2016)                </td><td>2016</td><td>April    </td><td>Documentary</td><td> 92</td><td>USA:R       </td></tr>\n",
       "\t<tr><td>Apio Verde (2013)             </td><td>2013</td><td>July     </td><td>Drama      </td><td>115</td><td>USA:R       </td></tr>\n",
       "\t<tr><td>Herbie Rides Again (1974)     </td><td>1974</td><td>September</td><td>Comedy     </td><td> 90</td><td>USA:G       </td></tr>\n",
=======
       "\t<tr><td>BoTTom: The True Meaning of Love &amp; Acceptance (2012)</td><td>2012</td><td>November</td><td>Comedy</td><td> 98</td><td>USA:Approved</td></tr>\n",
       "\t<tr><td>Mary Ryan, Detective (1949)                         </td><td>1949</td><td>November</td><td>Drama </td><td> 68</td><td>USA:Approved</td></tr>\n",
       "\t<tr><td>Paul and Michelle (1974)                            </td><td>1974</td><td>March   </td><td>Drama </td><td>105</td><td>USA:R       </td></tr>\n",
       "\t<tr><td>Brewster's Millions (1985)                          </td><td>1985</td><td>November</td><td>Comedy</td><td>102</td><td>USA:PG      </td></tr>\n",
       "\t<tr><td>The Kid Brother (1927)                              </td><td>1927</td><td>January </td><td>Comedy</td><td> 82</td><td>USA:Passed  </td></tr>\n",
       "\t<tr><td>The Third Wheel (2002)                              </td><td>2002</td><td>May     </td><td>Comedy</td><td> 88</td><td>USA:PG-13   </td></tr>\n",
       "\t<tr><td>Opposing Force (1986)                               </td><td>1986</td><td>August  </td><td>Drama </td><td>100</td><td>USA:R       </td></tr>\n",
       "\t<tr><td>A Small Circle of Friends (1980)                    </td><td>1980</td><td>October </td><td>Drama </td><td>113</td><td>USA:R       </td></tr>\n",
       "\t<tr><td>Bamboo Gods and Iron Men (1974)                     </td><td>1974</td><td>February</td><td>Comedy</td><td> 93</td><td>USA:R       </td></tr>\n",
       "\t<tr><td>Killing Season (2013)                               </td><td>2013</td><td>December</td><td>Drama </td><td> 91</td><td>USA:R       </td></tr>\n",
>>>>>>> 21e497a6b72f0206ee64b8e09cfd976cc3acbe0a
       "</tbody>\n",
       "</table>\n"
      ],
      "text/latex": [
       "A data.frame: 10 × 6\n",
       "\\begin{tabular}{llllll}\n",
       " movie & year & month & genre & runtime & rating\\\\\n",
       " <chr> & <int> & <fct> & <fct> & <dbl> & <fct>\\\\\n",
       "\\hline\n",
<<<<<<< HEAD
       "\t Super Size Me (2004)           & 2004 & December  & Drama       & 100 & USA:PG      \\\\\n",
       "\t Mademoiselle Fifi (1944)       & 1944 & July      & Drama       &  69 & USA:Approved\\\\\n",
       "\t Fat Kid Rules the World (2012) & 2012 & November  & Comedy      &  98 & USA:R       \\\\\n",
       "\t Ai no mukidashi (2008)         & 2008 & November  & Comedy      & 237 & USA:Unrated \\\\\n",
       "\t Reckless (1984)                & 1984 & August    & Comedy      &  90 & USA:R       \\\\\n",
       "\t Say Uncle (2005)               & 2005 & October   & Drama       &  91 & USA:R       \\\\\n",
       "\t Goodbye, Mr. Chips (1939)      & 1939 & September & Drama       & 114 & USA:Passed  \\\\\n",
       "\t Tickled (2016)                 & 2016 & April     & Documentary &  92 & USA:R       \\\\\n",
       "\t Apio Verde (2013)              & 2013 & July      & Drama       & 115 & USA:R       \\\\\n",
       "\t Herbie Rides Again (1974)      & 1974 & September & Comedy      &  90 & USA:G       \\\\\n",
=======
       "\t BoTTom: The True Meaning of Love \\& Acceptance (2012) & 2012 & November & Comedy &  98 & USA:Approved\\\\\n",
       "\t Mary Ryan, Detective (1949)                          & 1949 & November & Drama  &  68 & USA:Approved\\\\\n",
       "\t Paul and Michelle (1974)                             & 1974 & March    & Drama  & 105 & USA:R       \\\\\n",
       "\t Brewster's Millions (1985)                           & 1985 & November & Comedy & 102 & USA:PG      \\\\\n",
       "\t The Kid Brother (1927)                               & 1927 & January  & Comedy &  82 & USA:Passed  \\\\\n",
       "\t The Third Wheel (2002)                               & 2002 & May      & Comedy &  88 & USA:PG-13   \\\\\n",
       "\t Opposing Force (1986)                                & 1986 & August   & Drama  & 100 & USA:R       \\\\\n",
       "\t A Small Circle of Friends (1980)                     & 1980 & October  & Drama  & 113 & USA:R       \\\\\n",
       "\t Bamboo Gods and Iron Men (1974)                      & 1974 & February & Comedy &  93 & USA:R       \\\\\n",
       "\t Killing Season (2013)                                & 2013 & December & Drama  &  91 & USA:R       \\\\\n",
>>>>>>> 21e497a6b72f0206ee64b8e09cfd976cc3acbe0a
       "\\end{tabular}\n"
      ],
      "text/markdown": [
       "\n",
       "A data.frame: 10 × 6\n",
       "\n",
       "| movie &lt;chr&gt; | year &lt;int&gt; | month &lt;fct&gt; | genre &lt;fct&gt; | runtime &lt;dbl&gt; | rating &lt;fct&gt; |\n",
       "|---|---|---|---|---|---|\n",
<<<<<<< HEAD
       "| Super Size Me (2004)           | 2004 | December  | Drama       | 100 | USA:PG       |\n",
       "| Mademoiselle Fifi (1944)       | 1944 | July      | Drama       |  69 | USA:Approved |\n",
       "| Fat Kid Rules the World (2012) | 2012 | November  | Comedy      |  98 | USA:R        |\n",
       "| Ai no mukidashi (2008)         | 2008 | November  | Comedy      | 237 | USA:Unrated  |\n",
       "| Reckless (1984)                | 1984 | August    | Comedy      |  90 | USA:R        |\n",
       "| Say Uncle (2005)               | 2005 | October   | Drama       |  91 | USA:R        |\n",
       "| Goodbye, Mr. Chips (1939)      | 1939 | September | Drama       | 114 | USA:Passed   |\n",
       "| Tickled (2016)                 | 2016 | April     | Documentary |  92 | USA:R        |\n",
       "| Apio Verde (2013)              | 2013 | July      | Drama       | 115 | USA:R        |\n",
       "| Herbie Rides Again (1974)      | 1974 | September | Comedy      |  90 | USA:G        |\n",
       "\n"
      ],
      "text/plain": [
       "   movie                          year month     genre       runtime\n",
       "1  Super Size Me (2004)           2004 December  Drama       100    \n",
       "2  Mademoiselle Fifi (1944)       1944 July      Drama        69    \n",
       "3  Fat Kid Rules the World (2012) 2012 November  Comedy       98    \n",
       "4  Ai no mukidashi (2008)         2008 November  Comedy      237    \n",
       "5  Reckless (1984)                1984 August    Comedy       90    \n",
       "6  Say Uncle (2005)               2005 October   Drama        91    \n",
       "7  Goodbye, Mr. Chips (1939)      1939 September Drama       114    \n",
       "8  Tickled (2016)                 2016 April     Documentary  92    \n",
       "9  Apio Verde (2013)              2013 July      Drama       115    \n",
       "10 Herbie Rides Again (1974)      1974 September Comedy       90    \n",
       "   rating      \n",
       "1  USA:PG      \n",
       "2  USA:Approved\n",
       "3  USA:R       \n",
       "4  USA:Unrated \n",
       "5  USA:R       \n",
       "6  USA:R       \n",
       "7  USA:Passed  \n",
       "8  USA:R       \n",
       "9  USA:R       \n",
       "10 USA:G       "
=======
       "| BoTTom: The True Meaning of Love &amp; Acceptance (2012) | 2012 | November | Comedy |  98 | USA:Approved |\n",
       "| Mary Ryan, Detective (1949)                          | 1949 | November | Drama  |  68 | USA:Approved |\n",
       "| Paul and Michelle (1974)                             | 1974 | March    | Drama  | 105 | USA:R        |\n",
       "| Brewster's Millions (1985)                           | 1985 | November | Comedy | 102 | USA:PG       |\n",
       "| The Kid Brother (1927)                               | 1927 | January  | Comedy |  82 | USA:Passed   |\n",
       "| The Third Wheel (2002)                               | 2002 | May      | Comedy |  88 | USA:PG-13    |\n",
       "| Opposing Force (1986)                                | 1986 | August   | Drama  | 100 | USA:R        |\n",
       "| A Small Circle of Friends (1980)                     | 1980 | October  | Drama  | 113 | USA:R        |\n",
       "| Bamboo Gods and Iron Men (1974)                      | 1974 | February | Comedy |  93 | USA:R        |\n",
       "| Killing Season (2013)                                | 2013 | December | Drama  |  91 | USA:R        |\n",
       "\n"
      ],
      "text/plain": [
       "   movie                                                year month    genre \n",
       "1  BoTTom: The True Meaning of Love & Acceptance (2012) 2012 November Comedy\n",
       "2  Mary Ryan, Detective (1949)                          1949 November Drama \n",
       "3  Paul and Michelle (1974)                             1974 March    Drama \n",
       "4  Brewster's Millions (1985)                           1985 November Comedy\n",
       "5  The Kid Brother (1927)                               1927 January  Comedy\n",
       "6  The Third Wheel (2002)                               2002 May      Comedy\n",
       "7  Opposing Force (1986)                                1986 August   Drama \n",
       "8  A Small Circle of Friends (1980)                     1980 October  Drama \n",
       "9  Bamboo Gods and Iron Men (1974)                      1974 February Comedy\n",
       "10 Killing Season (2013)                                2013 December Drama \n",
       "   runtime rating      \n",
       "1   98     USA:Approved\n",
       "2   68     USA:Approved\n",
       "3  105     USA:R       \n",
       "4  102     USA:PG      \n",
       "5   82     USA:Passed  \n",
       "6   88     USA:PG-13   \n",
       "7  100     USA:R       \n",
       "8  113     USA:R       \n",
       "9   93     USA:R       \n",
       "10  91     USA:R       "
>>>>>>> 21e497a6b72f0206ee64b8e09cfd976cc3acbe0a
      ]
     },
     "metadata": {},
     "output_type": "display_data"
    }
   ],
   "source": [
    "# genre input is comma separated string list\n",
    "selected_genres = \"comedy, Drama , fake_test, doCumenTarY, \"\n",
    "\n",
    "# split genres input to individual inputs\n",
    "genres <- unlist(strsplit(selected_genres, \",\"))\n",
    "\n",
    "# retrieve first genre as a \"base\"\n",
    "condition <- paste0(\"str_to_lower(str_trim(genres[1])) == str_to_lower(genre) \")\n",
    "\n",
    "# if more than 1 genres provided...\n",
    "if (length(genres) > 1) {\n",
    "    \n",
    "    # then build conditional string for each one after \"base\"\n",
    "    for (i in 2:length(genres)) {\n",
    "        \n",
    "        # make a new condition with the current genre, being sure to ignore case and trim the input\n",
    "        next_condition <- paste0(\"| str_to_lower(str_trim(genres[\", i, \"])) == str_to_lower(genre) \")\n",
    "        \n",
    "        # add the new condition onto the current list of conditions\n",
    "        condition <- paste(condition, next_condition, sep = \"\")\n",
    "    }\n",
    "}\n",
    "\n",
    "# movie genre found in genre column, just fetch it by parsing the condition from above\n",
    "movies_in_selected_genre <- subset(data, eval(parse(text = condition)))\n",
    "\n",
    "# output a sample of movies found for given genre(s)\n",
    "sample_n(movies_in_selected_genre, 10)"
   ]
  },
  {
   "cell_type": "code",
   "execution_count": 30,
   "metadata": {},
   "outputs": [
    {
     "name": "stdout",
     "output_type": "stream",
     "text": [
      "[1] \"---- films in genre= 27448\"\n"
     ]
    }
   ],
   "source": [
    "# number of films released in selected genre\n",
    "number_in_genre <- length(unique(movies_in_selected_genre$movie))\n",
    "print(paste0(\"---- films in genre= \", number_in_genre))"
   ]
  },
  {
   "cell_type": "code",
   "execution_count": 31,
   "metadata": {},
   "outputs": [
    {
     "name": "stdout",
     "output_type": "stream",
     "text": [
      "[1] \"---- total counted= 27448\"\n",
      "[1] \"---- unique years= 108\"\n"
     ]
    },
    {
     "data": {
      "text/html": [
       "<table>\n",
       "<caption>A data.frame: 5 × 2</caption>\n",
       "<thead>\n",
       "\t<tr><th scope=col>year</th><th scope=col>count</th></tr>\n",
       "\t<tr><th scope=col>&lt;int&gt;</th><th scope=col>&lt;dbl&gt;</th></tr>\n",
       "</thead>\n",
       "<tbody>\n",
<<<<<<< HEAD
       "\t<tr><td>1975</td><td>253</td></tr>\n",
       "\t<tr><td>2018</td><td>  8</td></tr>\n",
       "\t<tr><td>1918</td><td>  4</td></tr>\n",
       "\t<tr><td>1971</td><td>280</td></tr>\n",
       "\t<tr><td>1935</td><td>276</td></tr>\n",
=======
       "\t<tr><td>1981</td><td>197</td></tr>\n",
       "\t<tr><td>1916</td><td>  2</td></tr>\n",
       "\t<tr><td>2004</td><td>555</td></tr>\n",
       "\t<tr><td>2012</td><td>600</td></tr>\n",
       "\t<tr><td>2007</td><td>673</td></tr>\n",
>>>>>>> 21e497a6b72f0206ee64b8e09cfd976cc3acbe0a
       "</tbody>\n",
       "</table>\n"
      ],
      "text/latex": [
       "A data.frame: 5 × 2\n",
       "\\begin{tabular}{ll}\n",
       " year & count\\\\\n",
       " <int> & <dbl>\\\\\n",
       "\\hline\n",
<<<<<<< HEAD
       "\t 1975 & 253\\\\\n",
       "\t 2018 &   8\\\\\n",
       "\t 1918 &   4\\\\\n",
       "\t 1971 & 280\\\\\n",
       "\t 1935 & 276\\\\\n",
=======
       "\t 1981 & 197\\\\\n",
       "\t 1916 &   2\\\\\n",
       "\t 2004 & 555\\\\\n",
       "\t 2012 & 600\\\\\n",
       "\t 2007 & 673\\\\\n",
>>>>>>> 21e497a6b72f0206ee64b8e09cfd976cc3acbe0a
       "\\end{tabular}\n"
      ],
      "text/markdown": [
       "\n",
       "A data.frame: 5 × 2\n",
       "\n",
       "| year &lt;int&gt; | count &lt;dbl&gt; |\n",
       "|---|---|\n",
<<<<<<< HEAD
       "| 1975 | 253 |\n",
       "| 2018 |   8 |\n",
       "| 1918 |   4 |\n",
       "| 1971 | 280 |\n",
       "| 1935 | 276 |\n",
=======
       "| 1981 | 197 |\n",
       "| 1916 |   2 |\n",
       "| 2004 | 555 |\n",
       "| 2012 | 600 |\n",
       "| 2007 | 673 |\n",
>>>>>>> 21e497a6b72f0206ee64b8e09cfd976cc3acbe0a
       "\n"
      ],
      "text/plain": [
       "  year count\n",
<<<<<<< HEAD
       "1 1975 253  \n",
       "2 2018   8  \n",
       "3 1918   4  \n",
       "4 1971 280  \n",
       "5 1935 276  "
=======
       "1 1981 197  \n",
       "2 1916   2  \n",
       "3 2004 555  \n",
       "4 2012 600  \n",
       "5 2007 673  "
>>>>>>> 21e497a6b72f0206ee64b8e09cfd976cc3acbe0a
      ]
     },
     "metadata": {},
     "output_type": "display_data"
    }
   ],
   "source": [
    "# table above can have duplicate movies due to movies having multiple genres or months\n",
    "# get a subset of those movies where a movie only appears once\n",
    "unique_movies_in_genre <- subset(movies_in_selected_genre, !duplicated(subset(movies_in_selected_genre, select = movie)))\n",
    "\n",
    "# table of \"number of films released in that genre each year\" (total_counted value should match number_in_x value)\n",
    "films_per_year_by_selected_genre <- number_films_per_year(unique_movies_in_genre)\n",
    "\n",
    "# output a sample of 5 rows\n",
    "sample_n(films_per_year_by_selected_genre, 5)"
   ]
  },
  {
   "cell_type": "code",
   "execution_count": 32,
   "metadata": {},
   "outputs": [
    {
     "data": {
      "text/html": [
       "<table>\n",
       "<caption>A data.frame: 5 × 4</caption>\n",
       "<thead>\n",
       "\t<tr><th scope=col>year</th><th scope=col>count</th><th scope=col>total</th><th scope=col>percent</th></tr>\n",
       "\t<tr><th scope=col>&lt;int&gt;</th><th scope=col>&lt;dbl&gt;</th><th scope=col>&lt;int&gt;</th><th scope=col>&lt;dbl&gt;</th></tr>\n",
       "</thead>\n",
       "<tbody>\n",
<<<<<<< HEAD
       "\t<tr><td>1930</td><td>151</td><td>183</td><td>82.51366</td></tr>\n",
       "\t<tr><td>1951</td><td>185</td><td>289</td><td>64.01384</td></tr>\n",
       "\t<tr><td>1938</td><td>277</td><td>349</td><td>79.36963</td></tr>\n",
       "\t<tr><td>1974</td><td>262</td><td>378</td><td>69.31217</td></tr>\n",
       "\t<tr><td>1963</td><td> 78</td><td>111</td><td>70.27027</td></tr>\n",
=======
       "\t<tr><td>1975</td><td>253</td><td>333</td><td>75.97598</td></tr>\n",
       "\t<tr><td>2007</td><td>673</td><td>873</td><td>77.09049</td></tr>\n",
       "\t<tr><td>2001</td><td>538</td><td>676</td><td>79.58580</td></tr>\n",
       "\t<tr><td>1937</td><td>330</td><td>411</td><td>80.29197</td></tr>\n",
       "\t<tr><td>1981</td><td>197</td><td>274</td><td>71.89781</td></tr>\n",
>>>>>>> 21e497a6b72f0206ee64b8e09cfd976cc3acbe0a
       "</tbody>\n",
       "</table>\n"
      ],
      "text/latex": [
       "A data.frame: 5 × 4\n",
       "\\begin{tabular}{llll}\n",
       " year & count & total & percent\\\\\n",
       " <int> & <dbl> & <int> & <dbl>\\\\\n",
       "\\hline\n",
<<<<<<< HEAD
       "\t 1930 & 151 & 183 & 82.51366\\\\\n",
       "\t 1951 & 185 & 289 & 64.01384\\\\\n",
       "\t 1938 & 277 & 349 & 79.36963\\\\\n",
       "\t 1974 & 262 & 378 & 69.31217\\\\\n",
       "\t 1963 &  78 & 111 & 70.27027\\\\\n",
=======
       "\t 1975 & 253 & 333 & 75.97598\\\\\n",
       "\t 2007 & 673 & 873 & 77.09049\\\\\n",
       "\t 2001 & 538 & 676 & 79.58580\\\\\n",
       "\t 1937 & 330 & 411 & 80.29197\\\\\n",
       "\t 1981 & 197 & 274 & 71.89781\\\\\n",
>>>>>>> 21e497a6b72f0206ee64b8e09cfd976cc3acbe0a
       "\\end{tabular}\n"
      ],
      "text/markdown": [
       "\n",
       "A data.frame: 5 × 4\n",
       "\n",
       "| year &lt;int&gt; | count &lt;dbl&gt; | total &lt;int&gt; | percent &lt;dbl&gt; |\n",
       "|---|---|---|---|\n",
<<<<<<< HEAD
       "| 1930 | 151 | 183 | 82.51366 |\n",
       "| 1951 | 185 | 289 | 64.01384 |\n",
       "| 1938 | 277 | 349 | 79.36963 |\n",
       "| 1974 | 262 | 378 | 69.31217 |\n",
       "| 1963 |  78 | 111 | 70.27027 |\n",
=======
       "| 1975 | 253 | 333 | 75.97598 |\n",
       "| 2007 | 673 | 873 | 77.09049 |\n",
       "| 2001 | 538 | 676 | 79.58580 |\n",
       "| 1937 | 330 | 411 | 80.29197 |\n",
       "| 1981 | 197 | 274 | 71.89781 |\n",
>>>>>>> 21e497a6b72f0206ee64b8e09cfd976cc3acbe0a
       "\n"
      ],
      "text/plain": [
       "  year count total percent \n",
<<<<<<< HEAD
       "1 1930 151   183   82.51366\n",
       "2 1951 185   289   64.01384\n",
       "3 1938 277   349   79.36963\n",
       "4 1974 262   378   69.31217\n",
       "5 1963  78   111   70.27027"
=======
       "1 1975 253   333   75.97598\n",
       "2 2007 673   873   77.09049\n",
       "3 2001 538   676   79.58580\n",
       "4 1937 330   411   80.29197\n",
       "5 1981 197   274   71.89781"
>>>>>>> 21e497a6b72f0206ee64b8e09cfd976cc3acbe0a
      ]
     },
     "metadata": {},
     "output_type": "display_data"
    }
   ],
   "source": [
    "# get \"percentage of films released in that genre each year\"\n",
    "\n",
    "# add total films per year to table and calculuate percentage\n",
    "films_per_year_by_selected_genre$total <- by_year$count\n",
    "films_per_year_by_selected_genre$percent <- (films_per_year_by_selected_genre$count / by_year$count) * 100\n",
    "\n",
    "# output a sample of 5 rows\n",
    "sample_n(films_per_year_by_selected_genre, 5)"
   ]
  },
  {
   "cell_type": "code",
   "execution_count": 33,
   "metadata": {},
   "outputs": [
    {
     "name": "stdout",
     "output_type": "stream",
     "text": [
      "[1] \"---- total counted= 27448\"\n",
      "[1] \"---- unique decades= 11\"\n"
     ]
    },
    {
     "data": {
      "text/html": [
       "<table>\n",
       "<caption>A data.frame: 5 × 2</caption>\n",
       "<thead>\n",
       "\t<tr><th scope=col>decade</th><th scope=col>count</th></tr>\n",
       "\t<tr><th scope=col>&lt;dbl&gt;</th><th scope=col>&lt;dbl&gt;</th></tr>\n",
       "</thead>\n",
       "<tbody>\n",
<<<<<<< HEAD
       "\t<tr><td>1960</td><td>1135</td></tr>\n",
       "\t<tr><td>1930</td><td>2379</td></tr>\n",
       "\t<tr><td>1940</td><td>2288</td></tr>\n",
       "\t<tr><td>2010</td><td>4634</td></tr>\n",
       "\t<tr><td>1980</td><td>2758</td></tr>\n",
=======
       "\t<tr><td>1980</td><td>2758</td></tr>\n",
       "\t<tr><td>2010</td><td>4634</td></tr>\n",
       "\t<tr><td>1930</td><td>2379</td></tr>\n",
       "\t<tr><td>1910</td><td>  23</td></tr>\n",
       "\t<tr><td>1970</td><td>2613</td></tr>\n",
>>>>>>> 21e497a6b72f0206ee64b8e09cfd976cc3acbe0a
       "</tbody>\n",
       "</table>\n"
      ],
      "text/latex": [
       "A data.frame: 5 × 2\n",
       "\\begin{tabular}{ll}\n",
       " decade & count\\\\\n",
       " <dbl> & <dbl>\\\\\n",
       "\\hline\n",
<<<<<<< HEAD
       "\t 1960 & 1135\\\\\n",
       "\t 1930 & 2379\\\\\n",
       "\t 1940 & 2288\\\\\n",
       "\t 2010 & 4634\\\\\n",
       "\t 1980 & 2758\\\\\n",
=======
       "\t 1980 & 2758\\\\\n",
       "\t 2010 & 4634\\\\\n",
       "\t 1930 & 2379\\\\\n",
       "\t 1910 &   23\\\\\n",
       "\t 1970 & 2613\\\\\n",
>>>>>>> 21e497a6b72f0206ee64b8e09cfd976cc3acbe0a
       "\\end{tabular}\n"
      ],
      "text/markdown": [
       "\n",
       "A data.frame: 5 × 2\n",
       "\n",
       "| decade &lt;dbl&gt; | count &lt;dbl&gt; |\n",
       "|---|---|\n",
<<<<<<< HEAD
       "| 1960 | 1135 |\n",
       "| 1930 | 2379 |\n",
       "| 1940 | 2288 |\n",
       "| 2010 | 4634 |\n",
       "| 1980 | 2758 |\n",
=======
       "| 1980 | 2758 |\n",
       "| 2010 | 4634 |\n",
       "| 1930 | 2379 |\n",
       "| 1910 |   23 |\n",
       "| 1970 | 2613 |\n",
>>>>>>> 21e497a6b72f0206ee64b8e09cfd976cc3acbe0a
       "\n"
      ],
      "text/plain": [
       "  decade count\n",
<<<<<<< HEAD
       "1 1960   1135 \n",
       "2 1930   2379 \n",
       "3 1940   2288 \n",
       "4 2010   4634 \n",
       "5 1980   2758 "
=======
       "1 1980   2758 \n",
       "2 2010   4634 \n",
       "3 1930   2379 \n",
       "4 1910     23 \n",
       "5 1970   2613 "
>>>>>>> 21e497a6b72f0206ee64b8e09cfd976cc3acbe0a
      ]
     },
     "metadata": {},
     "output_type": "display_data"
    }
   ],
   "source": [
    "# table of \"number of films released in that genre each decade\" (total_counted value should match number_in_x value)\n",
    "films_per_decade_by_selected_genre <- number_films_per_decade(unique_movies_in_genre)\n",
    "\n",
    "# output a sample of 5 rows\n",
    "sample_n(films_per_decade_by_selected_genre, 5)"
   ]
  },
  {
   "cell_type": "code",
   "execution_count": 34,
   "metadata": {},
   "outputs": [
    {
     "data": {
      "text/html": [
       "<table>\n",
       "<caption>A data.frame: 11 × 4</caption>\n",
       "<thead>\n",
       "\t<tr><th scope=col>decade</th><th scope=col>count</th><th scope=col>total</th><th scope=col>percent</th></tr>\n",
       "\t<tr><th scope=col>&lt;dbl&gt;</th><th scope=col>&lt;dbl&gt;</th><th scope=col>&lt;dbl&gt;</th><th scope=col>&lt;dbl&gt;</th></tr>\n",
       "</thead>\n",
       "<tbody>\n",
       "\t<tr><td>1910</td><td>  23</td><td>  34</td><td>67.64706</td></tr>\n",
       "\t<tr><td>1920</td><td> 394</td><td> 494</td><td>79.75709</td></tr>\n",
       "\t<tr><td>1930</td><td>2379</td><td>3031</td><td>78.48895</td></tr>\n",
       "\t<tr><td>1940</td><td>2288</td><td>3049</td><td>75.04100</td></tr>\n",
       "\t<tr><td>1950</td><td>1549</td><td>2475</td><td>62.58586</td></tr>\n",
       "\t<tr><td>1960</td><td>1135</td><td>1583</td><td>71.69931</td></tr>\n",
       "\t<tr><td>1970</td><td>2613</td><td>3517</td><td>74.29628</td></tr>\n",
       "\t<tr><td>1980</td><td>2758</td><td>3754</td><td>73.46830</td></tr>\n",
       "\t<tr><td>1990</td><td>3760</td><td>4916</td><td>76.48495</td></tr>\n",
       "\t<tr><td>2000</td><td>5915</td><td>7551</td><td>78.33400</td></tr>\n",
       "\t<tr><td>2010</td><td>4634</td><td>6192</td><td>74.83850</td></tr>\n",
       "</tbody>\n",
       "</table>\n"
      ],
      "text/latex": [
       "A data.frame: 11 × 4\n",
       "\\begin{tabular}{llll}\n",
       " decade & count & total & percent\\\\\n",
       " <dbl> & <dbl> & <dbl> & <dbl>\\\\\n",
       "\\hline\n",
       "\t 1910 &   23 &   34 & 67.64706\\\\\n",
       "\t 1920 &  394 &  494 & 79.75709\\\\\n",
       "\t 1930 & 2379 & 3031 & 78.48895\\\\\n",
       "\t 1940 & 2288 & 3049 & 75.04100\\\\\n",
       "\t 1950 & 1549 & 2475 & 62.58586\\\\\n",
       "\t 1960 & 1135 & 1583 & 71.69931\\\\\n",
       "\t 1970 & 2613 & 3517 & 74.29628\\\\\n",
       "\t 1980 & 2758 & 3754 & 73.46830\\\\\n",
       "\t 1990 & 3760 & 4916 & 76.48495\\\\\n",
       "\t 2000 & 5915 & 7551 & 78.33400\\\\\n",
       "\t 2010 & 4634 & 6192 & 74.83850\\\\\n",
       "\\end{tabular}\n"
      ],
      "text/markdown": [
       "\n",
       "A data.frame: 11 × 4\n",
       "\n",
       "| decade &lt;dbl&gt; | count &lt;dbl&gt; | total &lt;dbl&gt; | percent &lt;dbl&gt; |\n",
       "|---|---|---|---|\n",
       "| 1910 |   23 |   34 | 67.64706 |\n",
       "| 1920 |  394 |  494 | 79.75709 |\n",
       "| 1930 | 2379 | 3031 | 78.48895 |\n",
       "| 1940 | 2288 | 3049 | 75.04100 |\n",
       "| 1950 | 1549 | 2475 | 62.58586 |\n",
       "| 1960 | 1135 | 1583 | 71.69931 |\n",
       "| 1970 | 2613 | 3517 | 74.29628 |\n",
       "| 1980 | 2758 | 3754 | 73.46830 |\n",
       "| 1990 | 3760 | 4916 | 76.48495 |\n",
       "| 2000 | 5915 | 7551 | 78.33400 |\n",
       "| 2010 | 4634 | 6192 | 74.83850 |\n",
       "\n"
      ],
      "text/plain": [
       "   decade count total percent \n",
       "1  1910     23    34  67.64706\n",
       "2  1920    394   494  79.75709\n",
       "3  1930   2379  3031  78.48895\n",
       "4  1940   2288  3049  75.04100\n",
       "5  1950   1549  2475  62.58586\n",
       "6  1960   1135  1583  71.69931\n",
       "7  1970   2613  3517  74.29628\n",
       "8  1980   2758  3754  73.46830\n",
       "9  1990   3760  4916  76.48495\n",
       "10 2000   5915  7551  78.33400\n",
       "11 2010   4634  6192  74.83850"
      ]
     },
     "metadata": {},
     "output_type": "display_data"
    }
   ],
   "source": [
    "# get \"percentage of films released in that genre each decade\"\n",
    "\n",
    "# add total films per decade to table and calculuate percentage\n",
    "films_per_decade_by_selected_genre$total <- by_decade$count\n",
    "films_per_decade_by_selected_genre$percent <- (films_per_decade_by_selected_genre$count / by_decade$count) * 100\n",
    "\n",
    "# show output\n",
    "films_per_decade_by_selected_genre"
   ]
  },
  {
   "cell_type": "code",
   "execution_count": 35,
   "metadata": {},
   "outputs": [
    {
     "name": "stdout",
     "output_type": "stream",
     "text": [
      "[1] \"---- total counted= 27448\"\n",
      "[1] \"---- unique months= 12\"\n"
     ]
    },
    {
     "data": {
      "text/html": [
       "<table>\n",
       "<caption>A tibble: 5 × 2</caption>\n",
       "<thead>\n",
       "\t<tr><th scope=col>month</th><th scope=col>count</th></tr>\n",
       "\t<tr><th scope=col>&lt;fct&gt;</th><th scope=col>&lt;int&gt;</th></tr>\n",
       "</thead>\n",
       "<tbody>\n",
<<<<<<< HEAD
       "\t<tr><td>June    </td><td>1971</td></tr>\n",
       "\t<tr><td>July    </td><td>1645</td></tr>\n",
       "\t<tr><td>February</td><td>1906</td></tr>\n",
       "\t<tr><td>November</td><td>1977</td></tr>\n",
=======
       "\t<tr><td>August  </td><td>2129</td></tr>\n",
       "\t<tr><td>June    </td><td>1971</td></tr>\n",
       "\t<tr><td>November</td><td>1977</td></tr>\n",
       "\t<tr><td>July    </td><td>1645</td></tr>\n",
>>>>>>> 21e497a6b72f0206ee64b8e09cfd976cc3acbe0a
       "\t<tr><td>October </td><td>2502</td></tr>\n",
       "</tbody>\n",
       "</table>\n"
      ],
      "text/latex": [
       "A tibble: 5 × 2\n",
       "\\begin{tabular}{ll}\n",
       " month & count\\\\\n",
       " <fct> & <int>\\\\\n",
       "\\hline\n",
<<<<<<< HEAD
       "\t June     & 1971\\\\\n",
       "\t July     & 1645\\\\\n",
       "\t February & 1906\\\\\n",
       "\t November & 1977\\\\\n",
=======
       "\t August   & 2129\\\\\n",
       "\t June     & 1971\\\\\n",
       "\t November & 1977\\\\\n",
       "\t July     & 1645\\\\\n",
>>>>>>> 21e497a6b72f0206ee64b8e09cfd976cc3acbe0a
       "\t October  & 2502\\\\\n",
       "\\end{tabular}\n"
      ],
      "text/markdown": [
       "\n",
       "A tibble: 5 × 2\n",
       "\n",
       "| month &lt;fct&gt; | count &lt;int&gt; |\n",
       "|---|---|\n",
<<<<<<< HEAD
       "| June     | 1971 |\n",
       "| July     | 1645 |\n",
       "| February | 1906 |\n",
       "| November | 1977 |\n",
=======
       "| August   | 2129 |\n",
       "| June     | 1971 |\n",
       "| November | 1977 |\n",
       "| July     | 1645 |\n",
>>>>>>> 21e497a6b72f0206ee64b8e09cfd976cc3acbe0a
       "| October  | 2502 |\n",
       "\n"
      ],
      "text/plain": [
       "  month    count\n",
<<<<<<< HEAD
       "1 June     1971 \n",
       "2 July     1645 \n",
       "3 February 1906 \n",
       "4 November 1977 \n",
=======
       "1 August   2129 \n",
       "2 June     1971 \n",
       "3 November 1977 \n",
       "4 July     1645 \n",
>>>>>>> 21e497a6b72f0206ee64b8e09cfd976cc3acbe0a
       "5 October  2502 "
      ]
     },
     "metadata": {},
     "output_type": "display_data"
    }
   ],
   "source": [
    "# table of \"number of films released in that genre each month\" (total_counted value should match number_in_x value)\n",
    "films_per_month_by_selected_genre <- number_films_per_month(unique_movies_in_genre)\n",
    "\n",
    "# output a sample of 5 rows\n",
    "sample_n(films_per_month_by_selected_genre, 5)"
   ]
  },
  {
   "cell_type": "code",
   "execution_count": 36,
   "metadata": {},
   "outputs": [
    {
     "data": {
      "text/html": [
       "<table>\n",
       "<caption>A tibble: 12 × 4</caption>\n",
       "<thead>\n",
       "\t<tr><th scope=col>month</th><th scope=col>count</th><th scope=col>total</th><th scope=col>percent</th></tr>\n",
       "\t<tr><th scope=col>&lt;fct&gt;</th><th scope=col>&lt;int&gt;</th><th scope=col>&lt;int&gt;</th><th scope=col>&lt;dbl&gt;</th></tr>\n",
       "</thead>\n",
       "<tbody>\n",
       "\t<tr><td>January  </td><td>2501</td><td>3150</td><td>79.39683</td></tr>\n",
       "\t<tr><td>February </td><td>1906</td><td>2511</td><td>75.90601</td></tr>\n",
       "\t<tr><td>March    </td><td>2293</td><td>3105</td><td>73.84863</td></tr>\n",
       "\t<tr><td>April    </td><td>2289</td><td>3082</td><td>74.26995</td></tr>\n",
       "\t<tr><td>May      </td><td>2673</td><td>3485</td><td>76.70014</td></tr>\n",
       "\t<tr><td>June     </td><td>1971</td><td>2651</td><td>74.34930</td></tr>\n",
       "\t<tr><td>July     </td><td>1645</td><td>2410</td><td>68.25726</td></tr>\n",
       "\t<tr><td>August   </td><td>2129</td><td>2921</td><td>72.88600</td></tr>\n",
       "\t<tr><td>September</td><td>3574</td><td>4453</td><td>80.26050</td></tr>\n",
       "\t<tr><td>October  </td><td>2502</td><td>3478</td><td>71.93790</td></tr>\n",
       "\t<tr><td>November </td><td>1977</td><td>2667</td><td>74.12823</td></tr>\n",
       "\t<tr><td>December </td><td>1988</td><td>2683</td><td>74.09616</td></tr>\n",
       "</tbody>\n",
       "</table>\n"
      ],
      "text/latex": [
       "A tibble: 12 × 4\n",
       "\\begin{tabular}{llll}\n",
       " month & count & total & percent\\\\\n",
       " <fct> & <int> & <int> & <dbl>\\\\\n",
       "\\hline\n",
       "\t January   & 2501 & 3150 & 79.39683\\\\\n",
       "\t February  & 1906 & 2511 & 75.90601\\\\\n",
       "\t March     & 2293 & 3105 & 73.84863\\\\\n",
       "\t April     & 2289 & 3082 & 74.26995\\\\\n",
       "\t May       & 2673 & 3485 & 76.70014\\\\\n",
       "\t June      & 1971 & 2651 & 74.34930\\\\\n",
       "\t July      & 1645 & 2410 & 68.25726\\\\\n",
       "\t August    & 2129 & 2921 & 72.88600\\\\\n",
       "\t September & 3574 & 4453 & 80.26050\\\\\n",
       "\t October   & 2502 & 3478 & 71.93790\\\\\n",
       "\t November  & 1977 & 2667 & 74.12823\\\\\n",
       "\t December  & 1988 & 2683 & 74.09616\\\\\n",
       "\\end{tabular}\n"
      ],
      "text/markdown": [
       "\n",
       "A tibble: 12 × 4\n",
       "\n",
       "| month &lt;fct&gt; | count &lt;int&gt; | total &lt;int&gt; | percent &lt;dbl&gt; |\n",
       "|---|---|---|---|\n",
       "| January   | 2501 | 3150 | 79.39683 |\n",
       "| February  | 1906 | 2511 | 75.90601 |\n",
       "| March     | 2293 | 3105 | 73.84863 |\n",
       "| April     | 2289 | 3082 | 74.26995 |\n",
       "| May       | 2673 | 3485 | 76.70014 |\n",
       "| June      | 1971 | 2651 | 74.34930 |\n",
       "| July      | 1645 | 2410 | 68.25726 |\n",
       "| August    | 2129 | 2921 | 72.88600 |\n",
       "| September | 3574 | 4453 | 80.26050 |\n",
       "| October   | 2502 | 3478 | 71.93790 |\n",
       "| November  | 1977 | 2667 | 74.12823 |\n",
       "| December  | 1988 | 2683 | 74.09616 |\n",
       "\n"
      ],
      "text/plain": [
       "   month     count total percent \n",
       "1  January   2501  3150  79.39683\n",
       "2  February  1906  2511  75.90601\n",
       "3  March     2293  3105  73.84863\n",
       "4  April     2289  3082  74.26995\n",
       "5  May       2673  3485  76.70014\n",
       "6  June      1971  2651  74.34930\n",
       "7  July      1645  2410  68.25726\n",
       "8  August    2129  2921  72.88600\n",
       "9  September 3574  4453  80.26050\n",
       "10 October   2502  3478  71.93790\n",
       "11 November  1977  2667  74.12823\n",
       "12 December  1988  2683  74.09616"
      ]
     },
     "metadata": {},
     "output_type": "display_data"
    }
   ],
   "source": [
    "# get \"percentage of films released in that genre each month\"\n",
    "\n",
    "# add total films per month to table and calculuate percentage\n",
    "films_per_month_by_selected_genre$total <- by_month$count\n",
    "films_per_month_by_selected_genre$percent <- (films_per_month_by_selected_genre$count / by_month$count) * 100\n",
    "\n",
    "# show output\n",
    "films_per_month_by_selected_genre"
   ]
  },
  {
   "cell_type": "code",
   "execution_count": 37,
   "metadata": {},
   "outputs": [
    {
     "name": "stdout",
     "output_type": "stream",
     "text": [
      "[1] \"---- total counted= 27448\"\n",
      "[1] \"---- unique runtimes= 395\"\n"
     ]
    },
    {
     "data": {
      "text/html": [
       "<table>\n",
       "<caption>A data.frame: 5 × 2</caption>\n",
       "<thead>\n",
       "\t<tr><th scope=col>runtime</th><th scope=col>count</th></tr>\n",
       "\t<tr><th scope=col>&lt;dbl&gt;</th><th scope=col>&lt;dbl&gt;</th></tr>\n",
       "</thead>\n",
       "<tbody>\n",
<<<<<<< HEAD
       "\t<tr><td>207</td><td> 0</td></tr>\n",
       "\t<tr><td>409</td><td> 0</td></tr>\n",
       "\t<tr><td>296</td><td> 0</td></tr>\n",
       "\t<tr><td>140</td><td>59</td></tr>\n",
       "\t<tr><td>282</td><td> 0</td></tr>\n",
=======
       "\t<tr><td>270</td><td> 1</td></tr>\n",
       "\t<tr><td>300</td><td> 2</td></tr>\n",
       "\t<tr><td>443</td><td> 0</td></tr>\n",
       "\t<tr><td>152</td><td>14</td></tr>\n",
       "\t<tr><td>302</td><td> 0</td></tr>\n",
>>>>>>> 21e497a6b72f0206ee64b8e09cfd976cc3acbe0a
       "</tbody>\n",
       "</table>\n"
      ],
      "text/latex": [
       "A data.frame: 5 × 2\n",
       "\\begin{tabular}{ll}\n",
       " runtime & count\\\\\n",
       " <dbl> & <dbl>\\\\\n",
       "\\hline\n",
<<<<<<< HEAD
       "\t 207 &  0\\\\\n",
       "\t 409 &  0\\\\\n",
       "\t 296 &  0\\\\\n",
       "\t 140 & 59\\\\\n",
       "\t 282 &  0\\\\\n",
=======
       "\t 270 &  1\\\\\n",
       "\t 300 &  2\\\\\n",
       "\t 443 &  0\\\\\n",
       "\t 152 & 14\\\\\n",
       "\t 302 &  0\\\\\n",
>>>>>>> 21e497a6b72f0206ee64b8e09cfd976cc3acbe0a
       "\\end{tabular}\n"
      ],
      "text/markdown": [
       "\n",
       "A data.frame: 5 × 2\n",
       "\n",
       "| runtime &lt;dbl&gt; | count &lt;dbl&gt; |\n",
       "|---|---|\n",
<<<<<<< HEAD
       "| 207 |  0 |\n",
       "| 409 |  0 |\n",
       "| 296 |  0 |\n",
       "| 140 | 59 |\n",
       "| 282 |  0 |\n",
=======
       "| 270 |  1 |\n",
       "| 300 |  2 |\n",
       "| 443 |  0 |\n",
       "| 152 | 14 |\n",
       "| 302 |  0 |\n",
>>>>>>> 21e497a6b72f0206ee64b8e09cfd976cc3acbe0a
       "\n"
      ],
      "text/plain": [
       "  runtime count\n",
<<<<<<< HEAD
       "1 207      0   \n",
       "2 409      0   \n",
       "3 296      0   \n",
       "4 140     59   \n",
       "5 282      0   "
=======
       "1 270      1   \n",
       "2 300      2   \n",
       "3 443      0   \n",
       "4 152     14   \n",
       "5 302      0   "
>>>>>>> 21e497a6b72f0206ee64b8e09cfd976cc3acbe0a
      ]
     },
     "metadata": {},
     "output_type": "display_data"
    }
   ],
   "source": [
    "# table of \"distribution of running times of films in that genre\" (total_counted value should match number_in_x value)\n",
    "distribution_runtimes_by_selected_genre <- distribution_of_runtimes(unique_movies_in_genre)\n",
    "\n",
    "# output a sample of 5 rows\n",
    "sample_n(distribution_runtimes_by_selected_genre, 5)"
   ]
  },
  {
   "cell_type": "code",
   "execution_count": 38,
   "metadata": {},
   "outputs": [
    {
     "name": "stdout",
     "output_type": "stream",
     "text": [
      "[1] \"---- total counted= 27448\"\n",
      "[1] \"---- unique certificates= 12\"\n"
     ]
    },
    {
     "data": {
      "text/html": [
       "<table>\n",
       "<caption>A tibble: 5 × 2</caption>\n",
       "<thead>\n",
       "\t<tr><th scope=col>rating</th><th scope=col>count</th></tr>\n",
       "\t<tr><th scope=col>&lt;fct&gt;</th><th scope=col>&lt;int&gt;</th></tr>\n",
       "</thead>\n",
       "<tbody>\n",
<<<<<<< HEAD
       "\t<tr><td>USA:AO     </td><td>    3</td></tr>\n",
       "\t<tr><td>USA:Passed </td><td> 2062</td></tr>\n",
       "\t<tr><td>USA:R      </td><td>10293</td></tr>\n",
       "\t<tr><td>USA:Unrated</td><td> 2268</td></tr>\n",
       "\t<tr><td>USA:PG-13  </td><td> 3505</td></tr>\n",
=======
       "\t<tr><td>USA:Unrated</td><td>2268</td></tr>\n",
       "\t<tr><td>USA:PG-13  </td><td>3505</td></tr>\n",
       "\t<tr><td>USA:GP     </td><td> 150</td></tr>\n",
       "\t<tr><td>USA:Open   </td><td>   6</td></tr>\n",
       "\t<tr><td>USA:12     </td><td>   2</td></tr>\n",
>>>>>>> 21e497a6b72f0206ee64b8e09cfd976cc3acbe0a
       "</tbody>\n",
       "</table>\n"
      ],
      "text/latex": [
       "A tibble: 5 × 2\n",
       "\\begin{tabular}{ll}\n",
       " rating & count\\\\\n",
       " <fct> & <int>\\\\\n",
       "\\hline\n",
<<<<<<< HEAD
       "\t USA:AO      &     3\\\\\n",
       "\t USA:Passed  &  2062\\\\\n",
       "\t USA:R       & 10293\\\\\n",
       "\t USA:Unrated &  2268\\\\\n",
       "\t USA:PG-13   &  3505\\\\\n",
=======
       "\t USA:Unrated & 2268\\\\\n",
       "\t USA:PG-13   & 3505\\\\\n",
       "\t USA:GP      &  150\\\\\n",
       "\t USA:Open    &    6\\\\\n",
       "\t USA:12      &    2\\\\\n",
>>>>>>> 21e497a6b72f0206ee64b8e09cfd976cc3acbe0a
       "\\end{tabular}\n"
      ],
      "text/markdown": [
       "\n",
       "A tibble: 5 × 2\n",
       "\n",
       "| rating &lt;fct&gt; | count &lt;int&gt; |\n",
       "|---|---|\n",
<<<<<<< HEAD
       "| USA:AO      |     3 |\n",
       "| USA:Passed  |  2062 |\n",
       "| USA:R       | 10293 |\n",
       "| USA:Unrated |  2268 |\n",
       "| USA:PG-13   |  3505 |\n",
=======
       "| USA:Unrated | 2268 |\n",
       "| USA:PG-13   | 3505 |\n",
       "| USA:GP      |  150 |\n",
       "| USA:Open    |    6 |\n",
       "| USA:12      |    2 |\n",
>>>>>>> 21e497a6b72f0206ee64b8e09cfd976cc3acbe0a
       "\n"
      ],
      "text/plain": [
       "  rating      count\n",
<<<<<<< HEAD
       "1 USA:AO          3\n",
       "2 USA:Passed   2062\n",
       "3 USA:R       10293\n",
       "4 USA:Unrated  2268\n",
       "5 USA:PG-13    3505"
=======
       "1 USA:Unrated 2268 \n",
       "2 USA:PG-13   3505 \n",
       "3 USA:GP       150 \n",
       "4 USA:Open       6 \n",
       "5 USA:12         2 "
>>>>>>> 21e497a6b72f0206ee64b8e09cfd976cc3acbe0a
      ]
     },
     "metadata": {},
     "output_type": "display_data"
    }
   ],
   "source": [
    "# table of \"distribution of certificates in that genre\" (total_counted value should match number_in_x value)\n",
    "distribution_certificates_by_selected_genre <- distribution_of_certificates(unique_movies_in_genre)\n",
    "\n",
    "# output a sample of 5 rows\n",
    "sample_n(distribution_certificates_by_selected_genre, 5)"
   ]
  },
  {
   "cell_type": "code",
   "execution_count": 39,
   "metadata": {},
   "outputs": [
    {
     "name": "stderr",
     "output_type": "stream",
     "text": [
      "Selecting by count\n",
      "\n"
     ]
    },
    {
     "name": "stdout",
     "output_type": "stream",
     "text": [
      "[1] \"---- total counted= 40280\"\n",
      "[1] \"---- unique keywords= 10\"\n"
     ]
    },
    {
     "data": {
      "text/html": [
       "<table>\n",
       "<caption>A tibble: 10 × 2</caption>\n",
       "<thead>\n",
       "\t<tr><th scope=col>keyword</th><th scope=col>count</th></tr>\n",
       "\t<tr><th scope=col>&lt;fct&gt;</th><th scope=col>&lt;int&gt;</th></tr>\n",
       "</thead>\n",
       "<tbody>\n",
<<<<<<< HEAD
       "\t<tr><td>husband-wife-relationship   </td><td>4239</td></tr>\n",
       "\t<tr><td>character-name-in-title     </td><td>3242</td></tr>\n",
       "\t<tr><td>murder                      </td><td>5012</td></tr>\n",
       "\t<tr><td>father-daughter-relationship</td><td>3152</td></tr>\n",
       "\t<tr><td>independent-film            </td><td>6517</td></tr>\n",
       "\t<tr><td>death                       </td><td>3601</td></tr>\n",
       "\t<tr><td>female-nudity               </td><td>3792</td></tr>\n",
       "\t<tr><td>cigarette-smoking           </td><td>3521</td></tr>\n",
       "\t<tr><td>father-son-relationship     </td><td>3592</td></tr>\n",
       "\t<tr><td>based-on-novel              </td><td>3612</td></tr>\n",
=======
       "\t<tr><td>father-daughter-relationship</td><td>3152</td></tr>\n",
       "\t<tr><td>independent-film            </td><td>6517</td></tr>\n",
       "\t<tr><td>father-son-relationship     </td><td>3592</td></tr>\n",
       "\t<tr><td>murder                      </td><td>5012</td></tr>\n",
       "\t<tr><td>death                       </td><td>3601</td></tr>\n",
       "\t<tr><td>husband-wife-relationship   </td><td>4239</td></tr>\n",
       "\t<tr><td>female-nudity               </td><td>3792</td></tr>\n",
       "\t<tr><td>character-name-in-title     </td><td>3242</td></tr>\n",
       "\t<tr><td>based-on-novel              </td><td>3612</td></tr>\n",
       "\t<tr><td>cigarette-smoking           </td><td>3521</td></tr>\n",
>>>>>>> 21e497a6b72f0206ee64b8e09cfd976cc3acbe0a
       "</tbody>\n",
       "</table>\n"
      ],
      "text/latex": [
       "A tibble: 10 × 2\n",
       "\\begin{tabular}{ll}\n",
       " keyword & count\\\\\n",
       " <fct> & <int>\\\\\n",
       "\\hline\n",
<<<<<<< HEAD
       "\t husband-wife-relationship    & 4239\\\\\n",
       "\t character-name-in-title      & 3242\\\\\n",
       "\t murder                       & 5012\\\\\n",
       "\t father-daughter-relationship & 3152\\\\\n",
       "\t independent-film             & 6517\\\\\n",
       "\t death                        & 3601\\\\\n",
       "\t female-nudity                & 3792\\\\\n",
       "\t cigarette-smoking            & 3521\\\\\n",
       "\t father-son-relationship      & 3592\\\\\n",
       "\t based-on-novel               & 3612\\\\\n",
=======
       "\t father-daughter-relationship & 3152\\\\\n",
       "\t independent-film             & 6517\\\\\n",
       "\t father-son-relationship      & 3592\\\\\n",
       "\t murder                       & 5012\\\\\n",
       "\t death                        & 3601\\\\\n",
       "\t husband-wife-relationship    & 4239\\\\\n",
       "\t female-nudity                & 3792\\\\\n",
       "\t character-name-in-title      & 3242\\\\\n",
       "\t based-on-novel               & 3612\\\\\n",
       "\t cigarette-smoking            & 3521\\\\\n",
>>>>>>> 21e497a6b72f0206ee64b8e09cfd976cc3acbe0a
       "\\end{tabular}\n"
      ],
      "text/markdown": [
       "\n",
       "A tibble: 10 × 2\n",
       "\n",
       "| keyword &lt;fct&gt; | count &lt;int&gt; |\n",
       "|---|---|\n",
<<<<<<< HEAD
       "| husband-wife-relationship    | 4239 |\n",
       "| character-name-in-title      | 3242 |\n",
       "| murder                       | 5012 |\n",
       "| father-daughter-relationship | 3152 |\n",
       "| independent-film             | 6517 |\n",
       "| death                        | 3601 |\n",
       "| female-nudity                | 3792 |\n",
       "| cigarette-smoking            | 3521 |\n",
       "| father-son-relationship      | 3592 |\n",
       "| based-on-novel               | 3612 |\n",
=======
       "| father-daughter-relationship | 3152 |\n",
       "| independent-film             | 6517 |\n",
       "| father-son-relationship      | 3592 |\n",
       "| murder                       | 5012 |\n",
       "| death                        | 3601 |\n",
       "| husband-wife-relationship    | 4239 |\n",
       "| female-nudity                | 3792 |\n",
       "| character-name-in-title      | 3242 |\n",
       "| based-on-novel               | 3612 |\n",
       "| cigarette-smoking            | 3521 |\n",
>>>>>>> 21e497a6b72f0206ee64b8e09cfd976cc3acbe0a
       "\n"
      ],
      "text/plain": [
       "   keyword                      count\n",
<<<<<<< HEAD
       "1  husband-wife-relationship    4239 \n",
       "2  character-name-in-title      3242 \n",
       "3  murder                       5012 \n",
       "4  father-daughter-relationship 3152 \n",
       "5  independent-film             6517 \n",
       "6  death                        3601 \n",
       "7  female-nudity                3792 \n",
       "8  cigarette-smoking            3521 \n",
       "9  father-son-relationship      3592 \n",
       "10 based-on-novel               3612 "
=======
       "1  father-daughter-relationship 3152 \n",
       "2  independent-film             6517 \n",
       "3  father-son-relationship      3592 \n",
       "4  murder                       5012 \n",
       "5  death                        3601 \n",
       "6  husband-wife-relationship    4239 \n",
       "7  female-nudity                3792 \n",
       "8  character-name-in-title      3242 \n",
       "9  based-on-novel               3612 \n",
       "10 cigarette-smoking            3521 "
>>>>>>> 21e497a6b72f0206ee64b8e09cfd976cc3acbe0a
      ]
     },
     "metadata": {},
     "output_type": "display_data"
    }
   ],
   "source": [
    "# table of \"distribution of top n keywords in that genre\"\n",
    "\n",
    "# keywords table only for movies found in selected_genre\n",
    "keywords_subset_for_genre <- subset(keywords_subset, movie %in% movies_in_selected_genre$movie)\n",
    "\n",
    "top_N = 10\n",
    "distribution_keywords_by_selected_genre <- distribution_of_keywords(keywords_subset_for_genre, top_N)\n",
    "\n",
    "# output a sample of 10 rows\n",
    "sample_n(distribution_keywords_by_selected_genre, 10)"
   ]
  },
  {
   "cell_type": "code",
   "execution_count": 40,
   "metadata": {},
   "outputs": [],
   "source": [
    "############## CHOOSE KEYWORD ##############"
   ]
  },
  {
   "cell_type": "code",
<<<<<<< HEAD
   "execution_count": 41,
=======
   "execution_count": 58,
>>>>>>> 21e497a6b72f0206ee64b8e09cfd976cc3acbe0a
   "metadata": {
    "scrolled": true
   },
   "outputs": [
    {
     "data": {
      "text/html": [
       "<table>\n",
       "<caption>A data.frame: 10 × 3</caption>\n",
       "<thead>\n",
       "\t<tr><th scope=col>X</th><th scope=col>movie</th><th scope=col>keyword</th></tr>\n",
       "\t<tr><th scope=col>&lt;int&gt;</th><th scope=col>&lt;fct&gt;</th><th scope=col>&lt;fct&gt;</th></tr>\n",
       "</thead>\n",
       "<tbody>\n",
<<<<<<< HEAD
       "\t<tr><td>1408332</td><td>Inferno (1997)           </td><td>fight  </td></tr>\n",
       "\t<tr><td>3323147</td><td>The Three Stooges (2012) </td><td>fight  </td></tr>\n",
       "\t<tr><td>3468026</td><td>Trouble Man (1972)       </td><td>shotgun</td></tr>\n",
       "\t<tr><td>2425138</td><td>Return to Paradise (1953)</td><td>shotgun</td></tr>\n",
       "\t<tr><td> 186072</td><td>American Ultra (2015)    </td><td>shotgun</td></tr>\n",
       "\t<tr><td>2367353</td><td>Quest for Camelot (1998) </td><td>fight  </td></tr>\n",
       "\t<tr><td> 912097</td><td>Elf (2003)               </td><td>fight  </td></tr>\n",
       "\t<tr><td>3433104</td><td>Top Secret! (1984)       </td><td>fight  </td></tr>\n",
       "\t<tr><td>  18733</td><td>1969 (1988)              </td><td>fight  </td></tr>\n",
       "\t<tr><td>2632364</td><td>Sister, Sister (1987)    </td><td>shotgun</td></tr>\n",
=======
       "\t<tr><td> 517382</td><td>Carolina Moon (1940)             </td><td>fight  </td></tr>\n",
       "\t<tr><td> 507429</td><td>Captain America: Civil War (2016)</td><td>fight  </td></tr>\n",
       "\t<tr><td>3250840</td><td>The Relic (1997)                 </td><td>shotgun</td></tr>\n",
       "\t<tr><td> 300838</td><td>Bandits (2001)                   </td><td>fight  </td></tr>\n",
       "\t<tr><td> 194878</td><td>An Eye for an Eye (1981)         </td><td>fight  </td></tr>\n",
       "\t<tr><td>3233205</td><td>The Princess Comes Across (1936) </td><td>fight  </td></tr>\n",
       "\t<tr><td>1067057</td><td>Freeway (1996)                   </td><td>fight  </td></tr>\n",
       "\t<tr><td>2379277</td><td>Raiders of the Living Dead (1986)</td><td>shotgun</td></tr>\n",
       "\t<tr><td>2059914</td><td>Natural Selection (1999)         </td><td>shotgun</td></tr>\n",
       "\t<tr><td>3708936</td><td>Ying xiong (2002)                </td><td>fight  </td></tr>\n",
>>>>>>> 21e497a6b72f0206ee64b8e09cfd976cc3acbe0a
       "</tbody>\n",
       "</table>\n"
      ],
      "text/latex": [
       "A data.frame: 10 × 3\n",
       "\\begin{tabular}{lll}\n",
       " X & movie & keyword\\\\\n",
       " <int> & <fct> & <fct>\\\\\n",
       "\\hline\n",
<<<<<<< HEAD
       "\t 1408332 & Inferno (1997)            & fight  \\\\\n",
       "\t 3323147 & The Three Stooges (2012)  & fight  \\\\\n",
       "\t 3468026 & Trouble Man (1972)        & shotgun\\\\\n",
       "\t 2425138 & Return to Paradise (1953) & shotgun\\\\\n",
       "\t  186072 & American Ultra (2015)     & shotgun\\\\\n",
       "\t 2367353 & Quest for Camelot (1998)  & fight  \\\\\n",
       "\t  912097 & Elf (2003)                & fight  \\\\\n",
       "\t 3433104 & Top Secret! (1984)        & fight  \\\\\n",
       "\t   18733 & 1969 (1988)               & fight  \\\\\n",
       "\t 2632364 & Sister, Sister (1987)     & shotgun\\\\\n",
=======
       "\t  517382 & Carolina Moon (1940)              & fight  \\\\\n",
       "\t  507429 & Captain America: Civil War (2016) & fight  \\\\\n",
       "\t 3250840 & The Relic (1997)                  & shotgun\\\\\n",
       "\t  300838 & Bandits (2001)                    & fight  \\\\\n",
       "\t  194878 & An Eye for an Eye (1981)          & fight  \\\\\n",
       "\t 3233205 & The Princess Comes Across (1936)  & fight  \\\\\n",
       "\t 1067057 & Freeway (1996)                    & fight  \\\\\n",
       "\t 2379277 & Raiders of the Living Dead (1986) & shotgun\\\\\n",
       "\t 2059914 & Natural Selection (1999)          & shotgun\\\\\n",
       "\t 3708936 & Ying xiong (2002)                 & fight  \\\\\n",
>>>>>>> 21e497a6b72f0206ee64b8e09cfd976cc3acbe0a
       "\\end{tabular}\n"
      ],
      "text/markdown": [
       "\n",
       "A data.frame: 10 × 3\n",
       "\n",
       "| X &lt;int&gt; | movie &lt;fct&gt; | keyword &lt;fct&gt; |\n",
       "|---|---|---|\n",
<<<<<<< HEAD
       "| 1408332 | Inferno (1997)            | fight   |\n",
       "| 3323147 | The Three Stooges (2012)  | fight   |\n",
       "| 3468026 | Trouble Man (1972)        | shotgun |\n",
       "| 2425138 | Return to Paradise (1953) | shotgun |\n",
       "|  186072 | American Ultra (2015)     | shotgun |\n",
       "| 2367353 | Quest for Camelot (1998)  | fight   |\n",
       "|  912097 | Elf (2003)                | fight   |\n",
       "| 3433104 | Top Secret! (1984)        | fight   |\n",
       "|   18733 | 1969 (1988)               | fight   |\n",
       "| 2632364 | Sister, Sister (1987)     | shotgun |\n",
       "\n"
      ],
      "text/plain": [
       "   X       movie                     keyword\n",
       "1  1408332 Inferno (1997)            fight  \n",
       "2  3323147 The Three Stooges (2012)  fight  \n",
       "3  3468026 Trouble Man (1972)        shotgun\n",
       "4  2425138 Return to Paradise (1953) shotgun\n",
       "5   186072 American Ultra (2015)     shotgun\n",
       "6  2367353 Quest for Camelot (1998)  fight  \n",
       "7   912097 Elf (2003)                fight  \n",
       "8  3433104 Top Secret! (1984)        fight  \n",
       "9    18733 1969 (1988)               fight  \n",
       "10 2632364 Sister, Sister (1987)     shotgun"
=======
       "|  517382 | Carolina Moon (1940)              | fight   |\n",
       "|  507429 | Captain America: Civil War (2016) | fight   |\n",
       "| 3250840 | The Relic (1997)                  | shotgun |\n",
       "|  300838 | Bandits (2001)                    | fight   |\n",
       "|  194878 | An Eye for an Eye (1981)          | fight   |\n",
       "| 3233205 | The Princess Comes Across (1936)  | fight   |\n",
       "| 1067057 | Freeway (1996)                    | fight   |\n",
       "| 2379277 | Raiders of the Living Dead (1986) | shotgun |\n",
       "| 2059914 | Natural Selection (1999)          | shotgun |\n",
       "| 3708936 | Ying xiong (2002)                 | fight   |\n",
       "\n"
      ],
      "text/plain": [
       "   X       movie                             keyword\n",
       "1   517382 Carolina Moon (1940)              fight  \n",
       "2   507429 Captain America: Civil War (2016) fight  \n",
       "3  3250840 The Relic (1997)                  shotgun\n",
       "4   300838 Bandits (2001)                    fight  \n",
       "5   194878 An Eye for an Eye (1981)          fight  \n",
       "6  3233205 The Princess Comes Across (1936)  fight  \n",
       "7  1067057 Freeway (1996)                    fight  \n",
       "8  2379277 Raiders of the Living Dead (1986) shotgun\n",
       "9  2059914 Natural Selection (1999)          shotgun\n",
       "10 3708936 Ying xiong (2002)                 fight  "
>>>>>>> 21e497a6b72f0206ee64b8e09cfd976cc3acbe0a
      ]
     },
     "metadata": {},
     "output_type": "display_data"
    }
   ],
   "source": [
    "# keyword input is comma separated string list\n",
    "selected_keywords = \"fight, cat-and-mouse , fake_test, shOtguN, \"\n",
    "\n",
    "# split keyword input to individual inputs\n",
    "keywords <- unlist(strsplit(selected_keywords, \",\"))\n",
    "\n",
    "# retrieve first keyword as a \"base\"\n",
    "condition <- paste0(\"str_to_lower(str_trim(keywords[1])) == str_to_lower(keyword) \")\n",
    "\n",
    "# if more than 1 keywords provided...\n",
    "if (length(keywords) > 1) {\n",
    "    \n",
    "    # then build conditional string for each one after \"base\"\n",
    "    for (i in 2:length(keywords)) {\n",
    "        \n",
    "        # make a new condition with the current keyword, being sure to ignore case and trim the input\n",
    "        next_condition <- paste0(\"| str_to_lower(str_trim(keywords[\", i, \"])) == str_to_lower(keyword) \")\n",
    "        \n",
    "        # add the new condition onto the current list of conditions\n",
    "        condition <- paste(condition, next_condition, sep = \"\")\n",
    "    }\n",
    "}\n",
    "\n",
    "# movie keyword found in keyword column, just fetch it by parsing the condition from above\n",
    "movies_in_selected_keywords <- subset(keywords_subset, eval(parse(text = condition)))\n",
    "\n",
    "# output a sample of movies found for given keyword(s)\n",
    "sample_n(movies_in_selected_keywords, 10)"
   ]
  },
  {
   "cell_type": "code",
   "execution_count": 42,
   "metadata": {},
   "outputs": [],
   "source": [
    "#\n",
    "#\n",
    "# repeat code similarily as found in CHOOSE GENRE section\n",
    "#\n",
    "#"
   ]
  },
  {
   "cell_type": "code",
   "execution_count": 43,
   "metadata": {},
   "outputs": [],
   "source": [
    "############## CHOOSE CERTIFICATE ##############"
   ]
  },
  {
   "cell_type": "code",
   "execution_count": 44,
   "metadata": {},
   "outputs": [
    {
     "data": {
      "text/html": [
       "<table>\n",
       "<caption>A data.frame: 10 × 6</caption>\n",
       "<thead>\n",
       "\t<tr><th scope=col>movie</th><th scope=col>year</th><th scope=col>month</th><th scope=col>genre</th><th scope=col>runtime</th><th scope=col>rating</th></tr>\n",
       "\t<tr><th scope=col>&lt;chr&gt;</th><th scope=col>&lt;int&gt;</th><th scope=col>&lt;fct&gt;</th><th scope=col>&lt;fct&gt;</th><th scope=col>&lt;dbl&gt;</th><th scope=col>&lt;fct&gt;</th></tr>\n",
       "</thead>\n",
       "<tbody>\n",
<<<<<<< HEAD
       "\t<tr><td>Broken English (2007)         </td><td>2007</td><td>September</td><td>Comedy   </td><td> 97</td><td>USA:PG-13  </td></tr>\n",
       "\t<tr><td>Keeping the Faith (2000)      </td><td>2000</td><td>September</td><td>Drama    </td><td>128</td><td>USA:PG-13  </td></tr>\n",
       "\t<tr><td>Man of the House (2005/I)     </td><td>2005</td><td>May      </td><td>Comedy   </td><td>100</td><td>USA:PG-13  </td></tr>\n",
       "\t<tr><td>Das Flüstern des Mondes (2006)</td><td>2006</td><td>June     </td><td>Drama    </td><td> 75</td><td>USA:Unrated</td></tr>\n",
       "\t<tr><td>Honeydripper (2007)           </td><td>2007</td><td>November </td><td>Crime    </td><td>124</td><td>USA:PG-13  </td></tr>\n",
       "\t<tr><td>Villa des roses (2002)        </td><td>2002</td><td>October  </td><td>Drama    </td><td>120</td><td>USA:PG-13  </td></tr>\n",
       "\t<tr><td>Three Seasons (1999)          </td><td>1999</td><td>February </td><td>Drama    </td><td>113</td><td>USA:PG-13  </td></tr>\n",
       "\t<tr><td>Area 51 Confidential (2011)   </td><td>2011</td><td>October  </td><td>Sci-Fi   </td><td> 84</td><td>USA:Unrated</td></tr>\n",
       "\t<tr><td>Against the Ropes (2004)      </td><td>2004</td><td>March    </td><td>Biography</td><td>110</td><td>USA:PG-13  </td></tr>\n",
       "\t<tr><td>Supercross (2005)             </td><td>2005</td><td>December </td><td>Sport    </td><td> 80</td><td>USA:PG-13  </td></tr>\n",
=======
       "\t<tr><td>The Manson Family (1997)        </td><td>1997</td><td>July     </td><td>Thriller </td><td> 84</td><td>USA:Unrated</td></tr>\n",
       "\t<tr><td>Chihwaseon (2002)               </td><td>2002</td><td>August   </td><td>History  </td><td>120</td><td>USA:Unrated</td></tr>\n",
       "\t<tr><td>Callas Forever (2002)           </td><td>2002</td><td>September</td><td>Biography</td><td>112</td><td>USA:PG-13  </td></tr>\n",
       "\t<tr><td>Anger Management (2003)         </td><td>2003</td><td>March    </td><td>Comedy   </td><td>106</td><td>USA:PG-13  </td></tr>\n",
       "\t<tr><td>Yip Man: Jung gik yat jin (2013)</td><td>2013</td><td>June     </td><td>Drama    </td><td>100</td><td>USA:PG-13  </td></tr>\n",
       "\t<tr><td>Rock of Ages (2012)             </td><td>2012</td><td>September</td><td>Comedy   </td><td>123</td><td>USA:PG-13  </td></tr>\n",
       "\t<tr><td><span style=white-space:pre-wrap>Mr. &amp; Mrs. Smith (2005)         </span></td><td>2005</td><td><span style=white-space:pre-wrap>August   </span></td><td><span style=white-space:pre-wrap>Action   </span></td><td>126</td><td><span style=white-space:pre-wrap>USA:PG-13  </span></td></tr>\n",
       "\t<tr><td>Shadey (1985)                   </td><td>1985</td><td>November </td><td>Comedy   </td><td> 90</td><td>USA:PG-13  </td></tr>\n",
       "\t<tr><td>The Alamo (2004)                </td><td>2004</td><td>August   </td><td>War      </td><td>137</td><td>USA:PG-13  </td></tr>\n",
       "\t<tr><td>Everything, Everything (2017)   </td><td>2017</td><td>June     </td><td>Romance  </td><td> 96</td><td>USA:PG-13  </td></tr>\n",
>>>>>>> 21e497a6b72f0206ee64b8e09cfd976cc3acbe0a
       "</tbody>\n",
       "</table>\n"
      ],
      "text/latex": [
       "A data.frame: 10 × 6\n",
       "\\begin{tabular}{llllll}\n",
       " movie & year & month & genre & runtime & rating\\\\\n",
       " <chr> & <int> & <fct> & <fct> & <dbl> & <fct>\\\\\n",
       "\\hline\n",
<<<<<<< HEAD
       "\t Broken English (2007)          & 2007 & September & Comedy    &  97 & USA:PG-13  \\\\\n",
       "\t Keeping the Faith (2000)       & 2000 & September & Drama     & 128 & USA:PG-13  \\\\\n",
       "\t Man of the House (2005/I)      & 2005 & May       & Comedy    & 100 & USA:PG-13  \\\\\n",
       "\t Das Flüstern des Mondes (2006) & 2006 & June      & Drama     &  75 & USA:Unrated\\\\\n",
       "\t Honeydripper (2007)            & 2007 & November  & Crime     & 124 & USA:PG-13  \\\\\n",
       "\t Villa des roses (2002)         & 2002 & October   & Drama     & 120 & USA:PG-13  \\\\\n",
       "\t Three Seasons (1999)           & 1999 & February  & Drama     & 113 & USA:PG-13  \\\\\n",
       "\t Area 51 Confidential (2011)    & 2011 & October   & Sci-Fi    &  84 & USA:Unrated\\\\\n",
       "\t Against the Ropes (2004)       & 2004 & March     & Biography & 110 & USA:PG-13  \\\\\n",
       "\t Supercross (2005)              & 2005 & December  & Sport     &  80 & USA:PG-13  \\\\\n",
=======
       "\t The Manson Family (1997)         & 1997 & July      & Thriller  &  84 & USA:Unrated\\\\\n",
       "\t Chihwaseon (2002)                & 2002 & August    & History   & 120 & USA:Unrated\\\\\n",
       "\t Callas Forever (2002)            & 2002 & September & Biography & 112 & USA:PG-13  \\\\\n",
       "\t Anger Management (2003)          & 2003 & March     & Comedy    & 106 & USA:PG-13  \\\\\n",
       "\t Yip Man: Jung gik yat jin (2013) & 2013 & June      & Drama     & 100 & USA:PG-13  \\\\\n",
       "\t Rock of Ages (2012)              & 2012 & September & Comedy    & 123 & USA:PG-13  \\\\\n",
       "\t Mr. \\& Mrs. Smith (2005)          & 2005 & August    & Action    & 126 & USA:PG-13  \\\\\n",
       "\t Shadey (1985)                    & 1985 & November  & Comedy    &  90 & USA:PG-13  \\\\\n",
       "\t The Alamo (2004)                 & 2004 & August    & War       & 137 & USA:PG-13  \\\\\n",
       "\t Everything, Everything (2017)    & 2017 & June      & Romance   &  96 & USA:PG-13  \\\\\n",
>>>>>>> 21e497a6b72f0206ee64b8e09cfd976cc3acbe0a
       "\\end{tabular}\n"
      ],
      "text/markdown": [
       "\n",
       "A data.frame: 10 × 6\n",
       "\n",
       "| movie &lt;chr&gt; | year &lt;int&gt; | month &lt;fct&gt; | genre &lt;fct&gt; | runtime &lt;dbl&gt; | rating &lt;fct&gt; |\n",
       "|---|---|---|---|---|---|\n",
<<<<<<< HEAD
       "| Broken English (2007)          | 2007 | September | Comedy    |  97 | USA:PG-13   |\n",
       "| Keeping the Faith (2000)       | 2000 | September | Drama     | 128 | USA:PG-13   |\n",
       "| Man of the House (2005/I)      | 2005 | May       | Comedy    | 100 | USA:PG-13   |\n",
       "| Das Flüstern des Mondes (2006) | 2006 | June      | Drama     |  75 | USA:Unrated |\n",
       "| Honeydripper (2007)            | 2007 | November  | Crime     | 124 | USA:PG-13   |\n",
       "| Villa des roses (2002)         | 2002 | October   | Drama     | 120 | USA:PG-13   |\n",
       "| Three Seasons (1999)           | 1999 | February  | Drama     | 113 | USA:PG-13   |\n",
       "| Area 51 Confidential (2011)    | 2011 | October   | Sci-Fi    |  84 | USA:Unrated |\n",
       "| Against the Ropes (2004)       | 2004 | March     | Biography | 110 | USA:PG-13   |\n",
       "| Supercross (2005)              | 2005 | December  | Sport     |  80 | USA:PG-13   |\n",
       "\n"
      ],
      "text/plain": [
       "   movie                          year month     genre     runtime rating     \n",
       "1  Broken English (2007)          2007 September Comedy     97     USA:PG-13  \n",
       "2  Keeping the Faith (2000)       2000 September Drama     128     USA:PG-13  \n",
       "3  Man of the House (2005/I)      2005 May       Comedy    100     USA:PG-13  \n",
       "4  Das Flüstern des Mondes (2006) 2006 June      Drama      75     USA:Unrated\n",
       "5  Honeydripper (2007)            2007 November  Crime     124     USA:PG-13  \n",
       "6  Villa des roses (2002)         2002 October   Drama     120     USA:PG-13  \n",
       "7  Three Seasons (1999)           1999 February  Drama     113     USA:PG-13  \n",
       "8  Area 51 Confidential (2011)    2011 October   Sci-Fi     84     USA:Unrated\n",
       "9  Against the Ropes (2004)       2004 March     Biography 110     USA:PG-13  \n",
       "10 Supercross (2005)              2005 December  Sport      80     USA:PG-13  "
=======
       "| The Manson Family (1997)         | 1997 | July      | Thriller  |  84 | USA:Unrated |\n",
       "| Chihwaseon (2002)                | 2002 | August    | History   | 120 | USA:Unrated |\n",
       "| Callas Forever (2002)            | 2002 | September | Biography | 112 | USA:PG-13   |\n",
       "| Anger Management (2003)          | 2003 | March     | Comedy    | 106 | USA:PG-13   |\n",
       "| Yip Man: Jung gik yat jin (2013) | 2013 | June      | Drama     | 100 | USA:PG-13   |\n",
       "| Rock of Ages (2012)              | 2012 | September | Comedy    | 123 | USA:PG-13   |\n",
       "| Mr. &amp; Mrs. Smith (2005)          | 2005 | August    | Action    | 126 | USA:PG-13   |\n",
       "| Shadey (1985)                    | 1985 | November  | Comedy    |  90 | USA:PG-13   |\n",
       "| The Alamo (2004)                 | 2004 | August    | War       | 137 | USA:PG-13   |\n",
       "| Everything, Everything (2017)    | 2017 | June      | Romance   |  96 | USA:PG-13   |\n",
       "\n"
      ],
      "text/plain": [
       "   movie                            year month     genre     runtime\n",
       "1  The Manson Family (1997)         1997 July      Thriller   84    \n",
       "2  Chihwaseon (2002)                2002 August    History   120    \n",
       "3  Callas Forever (2002)            2002 September Biography 112    \n",
       "4  Anger Management (2003)          2003 March     Comedy    106    \n",
       "5  Yip Man: Jung gik yat jin (2013) 2013 June      Drama     100    \n",
       "6  Rock of Ages (2012)              2012 September Comedy    123    \n",
       "7  Mr. & Mrs. Smith (2005)          2005 August    Action    126    \n",
       "8  Shadey (1985)                    1985 November  Comedy     90    \n",
       "9  The Alamo (2004)                 2004 August    War       137    \n",
       "10 Everything, Everything (2017)    2017 June      Romance    96    \n",
       "   rating     \n",
       "1  USA:Unrated\n",
       "2  USA:Unrated\n",
       "3  USA:PG-13  \n",
       "4  USA:PG-13  \n",
       "5  USA:PG-13  \n",
       "6  USA:PG-13  \n",
       "7  USA:PG-13  \n",
       "8  USA:PG-13  \n",
       "9  USA:PG-13  \n",
       "10 USA:PG-13  "
>>>>>>> 21e497a6b72f0206ee64b8e09cfd976cc3acbe0a
      ]
     },
     "metadata": {},
     "output_type": "display_data"
    }
   ],
   "source": [
    "# certificate input is comma separated string list\n",
    "selected_certificates = \"USA:Pg-13, USA:UnRateD , USA:fake_test, USA:, \"\n",
    "\n",
    "# split certificate input to individual inputs\n",
    "certificates <- unlist(strsplit(selected_certificates, \",\"))\n",
    "\n",
    "# retrieve first certificate as a \"base\"\n",
    "condition <- paste0(\"str_to_lower(str_trim(certificates[1])) == str_to_lower(rating) \")\n",
    "\n",
    "# if more than 1 certificates provided...\n",
    "if (length(certificates) > 1) {\n",
    "    \n",
    "    # then build conditional string for each one after \"base\"\n",
    "    for (i in 2:length(certificates)) {\n",
    "        \n",
    "        # make a new condition with the current certificate, being sure to ignore case and trim the input\n",
    "        next_condition <- paste0(\"| str_to_lower(str_trim(certificates[\", i, \"])) == str_to_lower(rating) \")\n",
    "        \n",
    "        # add the new condition onto the current list of conditions\n",
    "        condition <- paste(condition, next_condition, sep = \"\")\n",
    "    }\n",
    "}\n",
    "\n",
    "# movie certificate found in certificate column, just fetch it by parsing the condition from above\n",
    "movies_in_selected_certificates <- subset(data, eval(parse(text = condition)))\n",
    "\n",
    "# output a sample of movies found for given certificate(s)\n",
    "sample_n(movies_in_selected_certificates, 10)"
   ]
  },
  {
   "cell_type": "code",
   "execution_count": 45,
   "metadata": {},
   "outputs": [],
   "source": [
    "#\n",
    "#\n",
    "# repeat code similarily as found in CHOOSE GENRE section\n",
    "#\n",
    "#"
   ]
  },
  {
   "cell_type": "code",
   "execution_count": 46,
   "metadata": {},
   "outputs": [],
   "source": [
    "############## CHOOSE RUNTIME ##############"
   ]
  },
  {
   "cell_type": "code",
   "execution_count": 47,
   "metadata": {},
   "outputs": [
    {
     "data": {
      "text/html": [
       "<table>\n",
       "<caption>A data.frame: 10 × 6</caption>\n",
       "<thead>\n",
       "\t<tr><th scope=col>movie</th><th scope=col>year</th><th scope=col>month</th><th scope=col>genre</th><th scope=col>runtime</th><th scope=col>rating</th></tr>\n",
       "\t<tr><th scope=col>&lt;chr&gt;</th><th scope=col>&lt;int&gt;</th><th scope=col>&lt;fct&gt;</th><th scope=col>&lt;fct&gt;</th><th scope=col>&lt;dbl&gt;</th><th scope=col>&lt;fct&gt;</th></tr>\n",
       "</thead>\n",
       "<tbody>\n",
<<<<<<< HEAD
       "\t<tr><td>Staircase (1969)                  </td><td>1969</td><td>September</td><td>Comedy </td><td>100</td><td>USA:R       </td></tr>\n",
       "\t<tr><td>Underground (1970)                </td><td>1970</td><td>October  </td><td>War    </td><td> 96</td><td>USA:GP      </td></tr>\n",
       "\t<tr><td>Ruang rak noi nid mahasan (2003)  </td><td>2003</td><td>September</td><td>Romance</td><td>109</td><td>USA:R       </td></tr>\n",
       "\t<tr><td>Il plenilunio delle vergini (1973)</td><td>1973</td><td>April    </td><td>Horror </td><td> 90</td><td>USA:R       </td></tr>\n",
       "\t<tr><td>Gymkata (1985)                    </td><td>1985</td><td>July     </td><td>Action </td><td> 90</td><td>USA:R       </td></tr>\n",
       "\t<tr><td>Dark Angel (1990)                 </td><td>1990</td><td>February </td><td>Crime  </td><td> 70</td><td>USA:R       </td></tr>\n",
       "\t<tr><td>Before I Disappear (2014)         </td><td>2014</td><td>October  </td><td>Drama  </td><td> 93</td><td>USA:Unrated </td></tr>\n",
       "\t<tr><td>Angélica (1939)                   </td><td>1939</td><td>February </td><td>Western</td><td> 93</td><td>USA:Approved</td></tr>\n",
       "\t<tr><td>Fargo (1996)                      </td><td>1996</td><td>September</td><td>Drama  </td><td> 98</td><td>USA:R       </td></tr>\n",
       "\t<tr><td>Stunt Rock (1979)                 </td><td>1979</td><td>December </td><td>Drama  </td><td> 86</td><td>USA:PG      </td></tr>\n",
=======
       "\t<tr><td>Just a Kiss (2002)      </td><td>2002</td><td>June     </td><td>Romance </td><td> 89</td><td>USA:R       </td></tr>\n",
       "\t<tr><td>Miles (2016)            </td><td>2016</td><td>July     </td><td>Sport   </td><td> 87</td><td>USA:Unrated </td></tr>\n",
       "\t<tr><td>The Experts (1989)      </td><td>1989</td><td>October  </td><td>Comedy  </td><td> 94</td><td>USA:PG-13   </td></tr>\n",
       "\t<tr><td>The Secret Agent (1996) </td><td>1996</td><td>September</td><td>Thriller</td><td> 95</td><td>USA:R       </td></tr>\n",
       "\t<tr><td>The Addams Family (1991)</td><td>1991</td><td>November </td><td>Comedy  </td><td> 99</td><td>USA:PG-13   </td></tr>\n",
       "\t<tr><td>Dog Soldiers (2002)     </td><td>2002</td><td>July     </td><td>Thriller</td><td>105</td><td>USA:R       </td></tr>\n",
       "\t<tr><td>Supergirl (1984)        </td><td>1984</td><td>December </td><td>Romance </td><td> 92</td><td>USA:PG      </td></tr>\n",
       "\t<tr><td>The Hunters (1958)      </td><td>1958</td><td>December </td><td>Drama   </td><td>108</td><td>USA:Approved</td></tr>\n",
       "\t<tr><td>Taking Lives (2004)     </td><td>2004</td><td>September</td><td>Crime   </td><td>103</td><td>USA:R       </td></tr>\n",
       "\t<tr><td>Copper Sky (1957)       </td><td>1957</td><td>September</td><td>Western </td><td> 77</td><td>USA:Approved</td></tr>\n",
>>>>>>> 21e497a6b72f0206ee64b8e09cfd976cc3acbe0a
       "</tbody>\n",
       "</table>\n"
      ],
      "text/latex": [
       "A data.frame: 10 × 6\n",
       "\\begin{tabular}{llllll}\n",
       " movie & year & month & genre & runtime & rating\\\\\n",
       " <chr> & <int> & <fct> & <fct> & <dbl> & <fct>\\\\\n",
       "\\hline\n",
<<<<<<< HEAD
       "\t Staircase (1969)                   & 1969 & September & Comedy  & 100 & USA:R       \\\\\n",
       "\t Underground (1970)                 & 1970 & October   & War     &  96 & USA:GP      \\\\\n",
       "\t Ruang rak noi nid mahasan (2003)   & 2003 & September & Romance & 109 & USA:R       \\\\\n",
       "\t Il plenilunio delle vergini (1973) & 1973 & April     & Horror  &  90 & USA:R       \\\\\n",
       "\t Gymkata (1985)                     & 1985 & July      & Action  &  90 & USA:R       \\\\\n",
       "\t Dark Angel (1990)                  & 1990 & February  & Crime   &  70 & USA:R       \\\\\n",
       "\t Before I Disappear (2014)          & 2014 & October   & Drama   &  93 & USA:Unrated \\\\\n",
       "\t Angélica (1939)                    & 1939 & February  & Western &  93 & USA:Approved\\\\\n",
       "\t Fargo (1996)                       & 1996 & September & Drama   &  98 & USA:R       \\\\\n",
       "\t Stunt Rock (1979)                  & 1979 & December  & Drama   &  86 & USA:PG      \\\\\n",
=======
       "\t Just a Kiss (2002)       & 2002 & June      & Romance  &  89 & USA:R       \\\\\n",
       "\t Miles (2016)             & 2016 & July      & Sport    &  87 & USA:Unrated \\\\\n",
       "\t The Experts (1989)       & 1989 & October   & Comedy   &  94 & USA:PG-13   \\\\\n",
       "\t The Secret Agent (1996)  & 1996 & September & Thriller &  95 & USA:R       \\\\\n",
       "\t The Addams Family (1991) & 1991 & November  & Comedy   &  99 & USA:PG-13   \\\\\n",
       "\t Dog Soldiers (2002)      & 2002 & July      & Thriller & 105 & USA:R       \\\\\n",
       "\t Supergirl (1984)         & 1984 & December  & Romance  &  92 & USA:PG      \\\\\n",
       "\t The Hunters (1958)       & 1958 & December  & Drama    & 108 & USA:Approved\\\\\n",
       "\t Taking Lives (2004)      & 2004 & September & Crime    & 103 & USA:R       \\\\\n",
       "\t Copper Sky (1957)        & 1957 & September & Western  &  77 & USA:Approved\\\\\n",
>>>>>>> 21e497a6b72f0206ee64b8e09cfd976cc3acbe0a
       "\\end{tabular}\n"
      ],
      "text/markdown": [
       "\n",
       "A data.frame: 10 × 6\n",
       "\n",
       "| movie &lt;chr&gt; | year &lt;int&gt; | month &lt;fct&gt; | genre &lt;fct&gt; | runtime &lt;dbl&gt; | rating &lt;fct&gt; |\n",
       "|---|---|---|---|---|---|\n",
<<<<<<< HEAD
       "| Staircase (1969)                   | 1969 | September | Comedy  | 100 | USA:R        |\n",
       "| Underground (1970)                 | 1970 | October   | War     |  96 | USA:GP       |\n",
       "| Ruang rak noi nid mahasan (2003)   | 2003 | September | Romance | 109 | USA:R        |\n",
       "| Il plenilunio delle vergini (1973) | 1973 | April     | Horror  |  90 | USA:R        |\n",
       "| Gymkata (1985)                     | 1985 | July      | Action  |  90 | USA:R        |\n",
       "| Dark Angel (1990)                  | 1990 | February  | Crime   |  70 | USA:R        |\n",
       "| Before I Disappear (2014)          | 2014 | October   | Drama   |  93 | USA:Unrated  |\n",
       "| Angélica (1939)                    | 1939 | February  | Western |  93 | USA:Approved |\n",
       "| Fargo (1996)                       | 1996 | September | Drama   |  98 | USA:R        |\n",
       "| Stunt Rock (1979)                  | 1979 | December  | Drama   |  86 | USA:PG       |\n",
       "\n"
      ],
      "text/plain": [
       "   movie                              year month     genre   runtime\n",
       "1  Staircase (1969)                   1969 September Comedy  100    \n",
       "2  Underground (1970)                 1970 October   War      96    \n",
       "3  Ruang rak noi nid mahasan (2003)   2003 September Romance 109    \n",
       "4  Il plenilunio delle vergini (1973) 1973 April     Horror   90    \n",
       "5  Gymkata (1985)                     1985 July      Action   90    \n",
       "6  Dark Angel (1990)                  1990 February  Crime    70    \n",
       "7  Before I Disappear (2014)          2014 October   Drama    93    \n",
       "8  Angélica (1939)                    1939 February  Western  93    \n",
       "9  Fargo (1996)                       1996 September Drama    98    \n",
       "10 Stunt Rock (1979)                  1979 December  Drama    86    \n",
       "   rating      \n",
       "1  USA:R       \n",
       "2  USA:GP      \n",
       "3  USA:R       \n",
       "4  USA:R       \n",
       "5  USA:R       \n",
       "6  USA:R       \n",
       "7  USA:Unrated \n",
       "8  USA:Approved\n",
       "9  USA:R       \n",
       "10 USA:PG      "
=======
       "| Just a Kiss (2002)       | 2002 | June      | Romance  |  89 | USA:R        |\n",
       "| Miles (2016)             | 2016 | July      | Sport    |  87 | USA:Unrated  |\n",
       "| The Experts (1989)       | 1989 | October   | Comedy   |  94 | USA:PG-13    |\n",
       "| The Secret Agent (1996)  | 1996 | September | Thriller |  95 | USA:R        |\n",
       "| The Addams Family (1991) | 1991 | November  | Comedy   |  99 | USA:PG-13    |\n",
       "| Dog Soldiers (2002)      | 2002 | July      | Thriller | 105 | USA:R        |\n",
       "| Supergirl (1984)         | 1984 | December  | Romance  |  92 | USA:PG       |\n",
       "| The Hunters (1958)       | 1958 | December  | Drama    | 108 | USA:Approved |\n",
       "| Taking Lives (2004)      | 2004 | September | Crime    | 103 | USA:R        |\n",
       "| Copper Sky (1957)        | 1957 | September | Western  |  77 | USA:Approved |\n",
       "\n"
      ],
      "text/plain": [
       "   movie                    year month     genre    runtime rating      \n",
       "1  Just a Kiss (2002)       2002 June      Romance   89     USA:R       \n",
       "2  Miles (2016)             2016 July      Sport     87     USA:Unrated \n",
       "3  The Experts (1989)       1989 October   Comedy    94     USA:PG-13   \n",
       "4  The Secret Agent (1996)  1996 September Thriller  95     USA:R       \n",
       "5  The Addams Family (1991) 1991 November  Comedy    99     USA:PG-13   \n",
       "6  Dog Soldiers (2002)      2002 July      Thriller 105     USA:R       \n",
       "7  Supergirl (1984)         1984 December  Romance   92     USA:PG      \n",
       "8  The Hunters (1958)       1958 December  Drama    108     USA:Approved\n",
       "9  Taking Lives (2004)      2004 September Crime    103     USA:R       \n",
       "10 Copper Sky (1957)        1957 September Western   77     USA:Approved"
>>>>>>> 21e497a6b72f0206ee64b8e09cfd976cc3acbe0a
      ]
     },
     "metadata": {},
     "output_type": "display_data"
    }
   ],
   "source": [
    "# runtime input is range from min to max\n",
    "runtime_min = 60\n",
    "runtime_max = 120\n",
    "\n",
    "# movie runtime found in runtime column, just fetch it and compare the inputs\n",
    "movies_in_selected_runtimes <- subset(data, runtime_min <= runtime & runtime_max >= runtime)\n",
    "\n",
    "# output a sample of movies found for given runtime range\n",
    "sample_n(movies_in_selected_runtimes, 10)"
   ]
  },
  {
   "cell_type": "code",
   "execution_count": 48,
   "metadata": {},
   "outputs": [],
   "source": [
    "#\n",
    "#\n",
    "# repeat code similarily as found in CHOOSE GENRE section\n",
    "#\n",
    "#"
   ]
  },
  {
   "cell_type": "code",
   "execution_count": 49,
   "metadata": {},
   "outputs": [],
   "source": [
    "############## PLOTS ##############"
   ]
  },
  {
   "cell_type": "code",
   "execution_count": 50,
   "metadata": {},
   "outputs": [
    {
     "name": "stdout",
     "output_type": "stream",
     "text": [
      "[1] \"---- total counted= 36596\"\n",
      "[1] \"---- unique years= 108\"\n"
     ]
    },
    {
     "data": {
      "image/png": "iVBORw0KGgoAAAANSUhEUgAAA0gAAANICAYAAAD958/bAAAEGWlDQ1BrQ0dDb2xvclNwYWNl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\nAAAASUVORK5CYII=",
      "text/plain": [
       "plot without title"
      ]
     },
     "metadata": {
      "image/png": {
       "height": 420,
       "width": 420
      }
     },
     "output_type": "display_data"
    }
   ],
   "source": [
    "## Bar chart for films released per year## \n",
    "\n",
    "films_per_year_graph = number_films_per_year(unique_movies)\n",
    "ggplot(films_per_year_graph, aes(x=year, y=count)) +\n",
    "  geom_bar(stat = \"identity\", fill = \"gray36\") + labs(title = \"Number of Films Per Year\", x = \"Year\", y = \"Number of Films\")"
   ]
  },
  {
   "cell_type": "code",
<<<<<<< HEAD
   "execution_count": 51,
=======
   "execution_count": 86,
>>>>>>> 21e497a6b72f0206ee64b8e09cfd976cc3acbe0a
   "metadata": {},
   "outputs": [],
   "source": [
    "## Bar chart for films released per month## \n",
    "\n",
    "plotMonthPerGivenYear <- function(year)\n",
    "{\n",
    "    unique_movies_year = unique_movies[which(unique_movies$year == year),]\n",
    "    films_per_month_graph = number_films_per_month(unique_movies_year)\n",
    "\n",
    "    ggplot(films_per_month_graph, aes(x=month, y=count)) +\n",
    "    geom_bar(stat = \"identity\", fill = \"#f3ce13\") + labs(title = \"Films Released By Month\", x = \"Month\", y = \"Number of Films\")\n",
    "}    "
   ]
  },
  {
   "cell_type": "code",
<<<<<<< HEAD
   "execution_count": 52,
=======
   "execution_count": 95,
>>>>>>> 21e497a6b72f0206ee64b8e09cfd976cc3acbe0a
   "metadata": {},
   "outputs": [],
   "source": [
    "## Bar chart for distribution runtimes##\n",
    "\n",
    "plotMonthPerGivenYear <- function(year)\n",
    "{\n",
    "    unique_movies_year = unique_movies[which(unique_movies$year == year),]\n",
    "    runtimes_per_year = distribution_of_runtimes(unique_movies)\n",
    "\n",
    "    ggplot(runtimes_per_year, aes(x=runtime, y=count)) +\n",
    "    geom_point() + labs(title = \"Runtimes of Films\", x = \"Runtime\", y = \"Number of Films\")\n",
    "    \n",
    "}\n"
   ]
  },
  {
   "cell_type": "code",
<<<<<<< HEAD
   "execution_count": 53,
=======
   "execution_count": 84,
>>>>>>> 21e497a6b72f0206ee64b8e09cfd976cc3acbe0a
   "metadata": {},
   "outputs": [],
   "source": [
    "## Bar chart for distribution of genres ##\n",
    "\n",
    "plotGenrePerYear <- function(year)\n",
    "{\n",
    "    unique_movies_year = unique_movies[which(unique_movies$year == year),]\n",
    "    genres_graph = distribution_of_genres(unique_movies_year)\n",
    "\n",
    "    ggplot(genres_graph, aes(x= genre, y=count)) + geom_bar(stat = \"identity\", fill = \"#f3ce13\") + labs(title = \"Count of Films by Genre\", x = \"Genre\", y = \"Number of Films\")\n",
    "}"
   ]
  },
  {
   "cell_type": "code",
<<<<<<< HEAD
   "execution_count": 54,
   "metadata": {},
   "outputs": [
    {
     "name": "stdout",
     "output_type": "stream",
     "text": [
      "[1] \"---- total counted= 36596\"\n",
      "[1] \"---- unique certificates= 12\"\n"
     ]
    },
    {
     "data": {
      "image/png": "iVBORw0KGgoAAAANSUhEUgAAA0gAAANICAYAAAD958/bAAAEGWlDQ1BrQ0dDb2xvclNwYWNl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\nQCKQCCQCiUAiMCYE/gt6ldpdNR1MmAAAAABJRU5ErkJggg==",
      "text/plain": [
       "plot without title"
      ]
     },
     "metadata": {
      "image/png": {
       "height": 420,
       "width": 420
      }
     },
     "output_type": "display_data"
    }
   ],
=======
   "execution_count": 96,
   "metadata": {
    "scrolled": true
   },
   "outputs": [],
>>>>>>> 21e497a6b72f0206ee64b8e09cfd976cc3acbe0a
   "source": [
    "## Bar chart for distribution of certificates for a given movie ##\n",
    "\n",
    "plotCertificatesPerYear <- function(year)\n",
    "{\n",
    "    unique_movies_year = unique_movies[which(unique_movies$year == year),]\n",
    "    certificates_graph <- distribution_of_certificates(unique_movies_year)\n",
    "    ggplot(certificates_graph, aes(x = rating, y = count)) + geom_bar(stat = \"identity\", fill = \"gray36\")\n",
    "}"
   ]
  },
  {
   "cell_type": "code",
<<<<<<< HEAD
   "execution_count": 55,
=======
   "execution_count": 97,
>>>>>>> 21e497a6b72f0206ee64b8e09cfd976cc3acbe0a
   "metadata": {
    "scrolled": false
   },
   "outputs": [],
   "source": [
    "## Bar chart for distribution of 10 key words ##\n",
    "## Used ten as an example ## \n",
    "\n",
    "plotTenKeywordsPerYear <- function(year)\n",
    "{\n",
    "    unique_movies_year = unique_movies[which(unique_movies$year == year),]\n",
    "\n",
    "    ten_keywords = distribution_of_keywords(keywords_subset, 10)\n",
    "\n",
    "    ggplot(ten_keywords, aes(x = keyword, y = count)) + geom_bar(stat = \"identity\", fill = \"#f3ce13\")\n",
    "}"
   ]
<<<<<<< HEAD
  },
  {
   "cell_type": "code",
   "execution_count": null,
   "metadata": {},
   "outputs": [],
   "source": []
  },
  {
   "cell_type": "code",
   "execution_count": null,
   "metadata": {},
   "outputs": [],
   "source": []
  },
  {
   "cell_type": "code",
   "execution_count": null,
   "metadata": {},
   "outputs": [],
   "source": []
  },
  {
   "cell_type": "code",
   "execution_count": 56,
   "metadata": {},
   "outputs": [
    {
     "data": {
      "text/html": [
       "1910"
      ],
      "text/latex": [
       "1910"
      ],
      "text/markdown": [
       "1910"
      ],
      "text/plain": [
       "[1] 1910"
      ]
     },
     "metadata": {},
     "output_type": "display_data"
    },
    {
     "data": {
      "text/html": [
       "2010"
      ],
      "text/latex": [
       "2010"
      ],
      "text/markdown": [
       "2010"
      ],
      "text/plain": [
       "[1] 2010"
      ]
     },
     "metadata": {},
     "output_type": "display_data"
    }
   ],
   "source": [
    "min_decade_all\n",
    "max_decade_all"
   ]
  },
  {
   "cell_type": "code",
   "execution_count": null,
   "metadata": {},
   "outputs": [],
   "source": []
=======
>>>>>>> 21e497a6b72f0206ee64b8e09cfd976cc3acbe0a
  }
 ],
 "metadata": {
  "kernelspec": {
   "display_name": "R",
   "language": "R",
   "name": "ir"
  },
  "language_info": {
   "codemirror_mode": "r",
   "file_extension": ".r",
   "mimetype": "text/x-r-source",
   "name": "R",
   "pygments_lexer": "r",
   "version": "3.6.3"
  }
 },
 "nbformat": 4,
 "nbformat_minor": 2
}
