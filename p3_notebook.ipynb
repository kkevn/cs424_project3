{
 "cells": [
  {
   "cell_type": "code",
   "execution_count": null,
   "metadata": {},
   "outputs": [],
   "source": [
    "#######################################\n",
    "# CS 424 - Project 3\n",
    "# Kevin Kowalski\n",
    "# Samuel Kajah\n",
    "# Vijay Vemu\n",
    "#######################################\n",
    "#\n",
    "# This file contains the code to clean\n",
    "# the original data set. It outputs\n",
    "# the necessary plots and updated data\n",
    "# set to be used by shiny.\n",
    "#\n",
    "# This file was used for testing and \n",
    "# plotting before using RStudio for a\n",
    "# dashboard.\n",
    "#\n",
    "#######################################"
   ]
  },
  {
   "cell_type": "code",
   "execution_count": null,
   "metadata": {},
   "outputs": [],
   "source": [
    "# import libraries\n",
    "library(comprehenr)\n",
    "library(dplyr)\n",
    "library(ggplot2)\n",
    "library(hashmap)\n",
    "library(lubridate)\n",
    "library(stringr)"
   ]
  },
  {
   "cell_type": "code",
   "execution_count": null,
   "metadata": {},
   "outputs": [],
   "source": [
    "# rename original text file to easier-to-work-with CSV file\n",
    "file.rename(\"data.txt\", \"data.csv\")"
   ]
  },
  {
   "cell_type": "code",
   "execution_count": null,
   "metadata": {},
   "outputs": [],
   "source": [
    "# read in the renamed CSV file\n",
    "data = read.csv('data.csv', header = FALSE, stringsAsFactors = FALSE)"
   ]
  },
  {
   "cell_type": "code",
   "execution_count": null,
   "metadata": {},
   "outputs": [],
   "source": [
    "# write the cleaned data to RDS file\n",
    "saveRDS(data, file = \"data.rds\")"
   ]
  }
 ],
 "metadata": {
  "kernelspec": {
   "display_name": "R",
   "language": "R",
   "name": "ir"
  },
  "language_info": {
   "codemirror_mode": "r",
   "file_extension": ".r",
   "mimetype": "text/x-r-source",
   "name": "R",
   "pygments_lexer": "r",
   "version": "3.6.1"
  }
 },
 "nbformat": 4,
 "nbformat_minor": 2
}
